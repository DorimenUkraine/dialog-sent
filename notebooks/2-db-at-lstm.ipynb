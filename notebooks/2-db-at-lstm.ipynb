{
  "nbformat": 4,
  "nbformat_minor": 0,
  "metadata": {
    "colab": {
      "name": "2_db_at_lstm.ipynb",
      "provenance": [],
      "collapsed_sections": [],
      "toc_visible": true
    },
    "kernelspec": {
      "name": "python3",
      "display_name": "Python 3"
    },
    "accelerator": "GPU",
    "widgets": {
      "application/vnd.jupyter.widget-state+json": {
        "e0e2b1234ebf4a368fe479ba94a239cb": {
          "model_module": "@jupyter-widgets/controls",
          "model_name": "HBoxModel",
          "state": {
            "_view_name": "HBoxView",
            "_dom_classes": [],
            "_model_name": "HBoxModel",
            "_view_module": "@jupyter-widgets/controls",
            "_model_module_version": "1.5.0",
            "_view_count": null,
            "_view_module_version": "1.5.0",
            "box_style": "",
            "layout": "IPY_MODEL_35e238ec22cd4c9bbb359009f307eff9",
            "_model_module": "@jupyter-widgets/controls",
            "children": [
              "IPY_MODEL_95075b5636694c00b213bbd3e200afb1",
              "IPY_MODEL_b262956274ca47f6a70401012d686aa4"
            ]
          }
        },
        "35e238ec22cd4c9bbb359009f307eff9": {
          "model_module": "@jupyter-widgets/base",
          "model_name": "LayoutModel",
          "state": {
            "_view_name": "LayoutView",
            "grid_template_rows": null,
            "right": null,
            "justify_content": null,
            "_view_module": "@jupyter-widgets/base",
            "overflow": null,
            "_model_module_version": "1.2.0",
            "_view_count": null,
            "flex_flow": null,
            "width": null,
            "min_width": null,
            "border": null,
            "align_items": null,
            "bottom": null,
            "_model_module": "@jupyter-widgets/base",
            "top": null,
            "grid_column": null,
            "overflow_y": null,
            "overflow_x": null,
            "grid_auto_flow": null,
            "grid_area": null,
            "grid_template_columns": null,
            "flex": null,
            "_model_name": "LayoutModel",
            "justify_items": null,
            "grid_row": null,
            "max_height": null,
            "align_content": null,
            "visibility": null,
            "align_self": null,
            "height": null,
            "min_height": null,
            "padding": null,
            "grid_auto_rows": null,
            "grid_gap": null,
            "max_width": null,
            "order": null,
            "_view_module_version": "1.2.0",
            "grid_template_areas": null,
            "object_position": null,
            "object_fit": null,
            "grid_auto_columns": null,
            "margin": null,
            "display": null,
            "left": null
          }
        },
        "95075b5636694c00b213bbd3e200afb1": {
          "model_module": "@jupyter-widgets/controls",
          "model_name": "IntProgressModel",
          "state": {
            "_view_name": "ProgressView",
            "style": "IPY_MODEL_478db528faea4d279be6aa75e5716fa3",
            "_dom_classes": [],
            "description": "100%",
            "_model_name": "IntProgressModel",
            "bar_style": "success",
            "max": 200,
            "_view_module": "@jupyter-widgets/controls",
            "_model_module_version": "1.5.0",
            "value": 200,
            "_view_count": null,
            "_view_module_version": "1.5.0",
            "orientation": "horizontal",
            "min": 0,
            "description_tooltip": null,
            "_model_module": "@jupyter-widgets/controls",
            "layout": "IPY_MODEL_69f8d5a773b74831a31126d15c0b7473"
          }
        },
        "b262956274ca47f6a70401012d686aa4": {
          "model_module": "@jupyter-widgets/controls",
          "model_name": "HTMLModel",
          "state": {
            "_view_name": "HTMLView",
            "style": "IPY_MODEL_7ddb20b3b68f4e34929bf3ab11a7802a",
            "_dom_classes": [],
            "description": "",
            "_model_name": "HTMLModel",
            "placeholder": "​",
            "_view_module": "@jupyter-widgets/controls",
            "_model_module_version": "1.5.0",
            "value": " 200/200 [01:41&lt;00:00,  1.97it/s]",
            "_view_count": null,
            "_view_module_version": "1.5.0",
            "description_tooltip": null,
            "_model_module": "@jupyter-widgets/controls",
            "layout": "IPY_MODEL_669deba704ca463699eea2bdab87a243"
          }
        },
        "478db528faea4d279be6aa75e5716fa3": {
          "model_module": "@jupyter-widgets/controls",
          "model_name": "ProgressStyleModel",
          "state": {
            "_view_name": "StyleView",
            "_model_name": "ProgressStyleModel",
            "description_width": "initial",
            "_view_module": "@jupyter-widgets/base",
            "_model_module_version": "1.5.0",
            "_view_count": null,
            "_view_module_version": "1.2.0",
            "bar_color": null,
            "_model_module": "@jupyter-widgets/controls"
          }
        },
        "69f8d5a773b74831a31126d15c0b7473": {
          "model_module": "@jupyter-widgets/base",
          "model_name": "LayoutModel",
          "state": {
            "_view_name": "LayoutView",
            "grid_template_rows": null,
            "right": null,
            "justify_content": null,
            "_view_module": "@jupyter-widgets/base",
            "overflow": null,
            "_model_module_version": "1.2.0",
            "_view_count": null,
            "flex_flow": null,
            "width": null,
            "min_width": null,
            "border": null,
            "align_items": null,
            "bottom": null,
            "_model_module": "@jupyter-widgets/base",
            "top": null,
            "grid_column": null,
            "overflow_y": null,
            "overflow_x": null,
            "grid_auto_flow": null,
            "grid_area": null,
            "grid_template_columns": null,
            "flex": null,
            "_model_name": "LayoutModel",
            "justify_items": null,
            "grid_row": null,
            "max_height": null,
            "align_content": null,
            "visibility": null,
            "align_self": null,
            "height": null,
            "min_height": null,
            "padding": null,
            "grid_auto_rows": null,
            "grid_gap": null,
            "max_width": null,
            "order": null,
            "_view_module_version": "1.2.0",
            "grid_template_areas": null,
            "object_position": null,
            "object_fit": null,
            "grid_auto_columns": null,
            "margin": null,
            "display": null,
            "left": null
          }
        },
        "7ddb20b3b68f4e34929bf3ab11a7802a": {
          "model_module": "@jupyter-widgets/controls",
          "model_name": "DescriptionStyleModel",
          "state": {
            "_view_name": "StyleView",
            "_model_name": "DescriptionStyleModel",
            "description_width": "",
            "_view_module": "@jupyter-widgets/base",
            "_model_module_version": "1.5.0",
            "_view_count": null,
            "_view_module_version": "1.2.0",
            "_model_module": "@jupyter-widgets/controls"
          }
        },
        "669deba704ca463699eea2bdab87a243": {
          "model_module": "@jupyter-widgets/base",
          "model_name": "LayoutModel",
          "state": {
            "_view_name": "LayoutView",
            "grid_template_rows": null,
            "right": null,
            "justify_content": null,
            "_view_module": "@jupyter-widgets/base",
            "overflow": null,
            "_model_module_version": "1.2.0",
            "_view_count": null,
            "flex_flow": null,
            "width": null,
            "min_width": null,
            "border": null,
            "align_items": null,
            "bottom": null,
            "_model_module": "@jupyter-widgets/base",
            "top": null,
            "grid_column": null,
            "overflow_y": null,
            "overflow_x": null,
            "grid_auto_flow": null,
            "grid_area": null,
            "grid_template_columns": null,
            "flex": null,
            "_model_name": "LayoutModel",
            "justify_items": null,
            "grid_row": null,
            "max_height": null,
            "align_content": null,
            "visibility": null,
            "align_self": null,
            "height": null,
            "min_height": null,
            "padding": null,
            "grid_auto_rows": null,
            "grid_gap": null,
            "max_width": null,
            "order": null,
            "_view_module_version": "1.2.0",
            "grid_template_areas": null,
            "object_position": null,
            "object_fit": null,
            "grid_auto_columns": null,
            "margin": null,
            "display": null,
            "left": null
          }
        }
      }
    }
  },
  "cells": [
    {
      "cell_type": "markdown",
      "metadata": {
        "id": "4RoA7uzc6-Jj",
        "colab_type": "text"
      },
      "source": [
        "# Attention-based LSTM (AT-LSTM)\n",
        "\n",
        "В этом ноутбуке мы исследуем применение модели Attention-based LSTM (AT-LSTM) для решения задачи аспектного анализа тональности. В качестве основы мы берем [статью](https://www.aclweb.org/anthology/D16-1058.pdf)."
      ]
    },
    {
      "cell_type": "code",
      "metadata": {
        "id": "shE3aepx6kg7",
        "colab_type": "code",
        "outputId": "54bb2c3d-6d24-4bd3-f9db-c9696203b162",
        "colab": {
          "base_uri": "https://localhost:8080/",
          "height": 72
        }
      },
      "source": [
        "import os\n",
        "import zipfile\n",
        "import random\n",
        "\n",
        "import pandas as pd\n",
        "import numpy as np\n",
        "import torch\n",
        "import gensim\n",
        "import matplotlib.pyplot as plt\n",
        "import seaborn as sns\n",
        "import bs4\n",
        "\n",
        "from tqdm.notebook import tqdm\n",
        "from sklearn.metrics import accuracy_score\n",
        "\n",
        "import torch.nn as nn\n",
        "import torch.nn.functional as F\n",
        "import torch.optim as optim\n",
        "import torchtext\n",
        "from torch.utils.data import Dataset as TorchDataset\n",
        "from torch.utils.data import DataLoader\n",
        "\n",
        "from google.colab import drive\n",
        "\n",
        "USE_GOOGLE_DRIVE = True\n",
        "\n",
        "sns.set(font_scale=1.2)"
      ],
      "execution_count": 1,
      "outputs": [
        {
          "output_type": "stream",
          "text": [
            "/usr/local/lib/python3.6/dist-packages/statsmodels/tools/_testing.py:19: FutureWarning: pandas.util.testing is deprecated. Use the functions in the public API at pandas.testing instead.\n",
            "  import pandas.util.testing as tm\n"
          ],
          "name": "stderr"
        }
      ]
    },
    {
      "cell_type": "markdown",
      "metadata": {
        "id": "s6K05cSD71kI",
        "colab_type": "text"
      },
      "source": [
        "Примонтируем наш гугл-диск, если мы решили его использовать."
      ]
    },
    {
      "cell_type": "code",
      "metadata": {
        "id": "1MBzNx9n7wtX",
        "colab_type": "code",
        "outputId": "f4bdac49-fc07-4878-bed5-11d4bc7d5894",
        "colab": {
          "base_uri": "https://localhost:8080/",
          "height": 34
        }
      },
      "source": [
        "if USE_GOOGLE_DRIVE:\n",
        "    drive.mount('/content/drive')\n",
        "    PATH_PREFIX = 'drive/My Drive/NLP/dialog-sent'\n",
        "else:\n",
        "    PATH_PREFIX = '..'"
      ],
      "execution_count": 2,
      "outputs": [
        {
          "output_type": "stream",
          "text": [
            "Drive already mounted at /content/drive; to attempt to forcibly remount, call drive.mount(\"/content/drive\", force_remount=True).\n"
          ],
          "name": "stdout"
        }
      ]
    },
    {
      "cell_type": "code",
      "metadata": {
        "id": "_ICV0PvCteP8",
        "colab_type": "code",
        "colab": {}
      },
      "source": [
        "DATA_PREFIX = os.path.join(PATH_PREFIX, 'data')\n",
        "MODEL_PREFIX = os.path.join(PATH_PREFIX, 'models')"
      ],
      "execution_count": 0,
      "outputs": []
    },
    {
      "cell_type": "markdown",
      "metadata": {
        "id": "d1rEg_dzCv2Z",
        "colab_type": "text"
      },
      "source": [
        "Зададим девайс для обучения."
      ]
    },
    {
      "cell_type": "code",
      "metadata": {
        "id": "ssNUbPpPCvOf",
        "colab_type": "code",
        "outputId": "32ae8d5f-f04d-4e65-d03f-6c7d169b4772",
        "colab": {
          "base_uri": "https://localhost:8080/",
          "height": 34
        }
      },
      "source": [
        "USE_GPU = True\n",
        "\n",
        "if USE_GPU and torch.cuda.is_available():\n",
        "    device = torch.device('cuda')\n",
        "else:\n",
        "    device = torch.device('cpu')\n",
        "\n",
        "print('using device:', device)"
      ],
      "execution_count": 5,
      "outputs": [
        {
          "output_type": "stream",
          "text": [
            "using device: cuda\n"
          ],
          "name": "stdout"
        }
      ]
    },
    {
      "cell_type": "markdown",
      "metadata": {
        "id": "yHTGiWVXC13E",
        "colab_type": "text"
      },
      "source": [
        "Проинициализируем везде генераторы случайных чисел."
      ]
    },
    {
      "cell_type": "code",
      "metadata": {
        "id": "gUC3PTVlC1JU",
        "colab_type": "code",
        "colab": {}
      },
      "source": [
        "random_seed = 42\n",
        "random_state = random_seed\n",
        "\n",
        "def set_seed_everywhere(seed, cuda):\n",
        "    random.seed(seed)\n",
        "    np.random.seed(seed)\n",
        "    torch.manual_seed(seed)\n",
        "    torch.backends.cudnn.deterministic = True\n",
        "    torch.backends.cudnn.benchmark = False\n",
        "    if cuda:\n",
        "        torch.cuda.manual_seed_all(seed)\n",
        "\n",
        "set_seed_everywhere(random_seed, USE_GPU)"
      ],
      "execution_count": 0,
      "outputs": []
    },
    {
      "cell_type": "markdown",
      "metadata": {
        "id": "b8UaRLgV9BTu",
        "colab_type": "text"
      },
      "source": [
        "## Повторение результатов статьи\n",
        "\n",
        "Для того, чтобы применить модель к нашей конкретной задаче для начала надо повторить результаты исследуемой статьи. Будем это делать на примере датасета с [отзывами на рестораны](http://alt.qcri.org/semeval2014/task4/index.php?id=data-and-tools).\n"
      ]
    },
    {
      "cell_type": "markdown",
      "metadata": {
        "id": "IFqQNvroDFz0",
        "colab_type": "text"
      },
      "source": [
        "### Данные\n",
        "\n",
        "Теперь надо разобраться с данными. Мы используем отзывы о рестранах. Согласно аннотации к датасету используются следующие аспекты:\n",
        "\n",
        "* food\n",
        "* price\n",
        "* service\n",
        "* ambience\n",
        "* anecdotes (sentences describing the reviewer’s personal experience or context, but that do not usually provide information on the restaurant quality e.g. “I knew upon visiting\n",
        "NYC that I wanted to try an original deli”)\n",
        "* miscellaneous (sentences that do not belong to the other five categories including sentences that are general recommendations e.g. “Your friends will thank you for introducing them to this gem!”)\n",
        "\n",
        "Эта же аннотация говорит о том, какие существуют тональности:\n",
        "* positive\n",
        "* negative\n",
        "* conflict (both positive and negative sentiment)\n",
        "* neutral (neither positive nor negative sentiment)\n",
        "\n",
        "Помимо этого существует такой объект, как термин аспекта (aspect term) -- это какое-то слово или выражение, которое указывает на то, в каком слове выражается тональность к конкретному аспекту. \n",
        "\n",
        "Существует два вида задач для аспектного анализа тональности:\n",
        "* Aspect-level Classification -- определить тональность для каждого аспекта.\n",
        "* Aspect-Term-level Classification -- определить термины для каждого аспекта, а затем определить их тональность.\n",
        "\n",
        "Наша финальная задача относится к первой категории, а значит нам не нужны данные о терминах аспекта."
      ]
    },
    {
      "cell_type": "markdown",
      "metadata": {
        "id": "n9rXoYOGVIEF",
        "colab_type": "text"
      },
      "source": [
        "Теперь определим поля в датасете для обучения."
      ]
    },
    {
      "cell_type": "code",
      "metadata": {
        "id": "mYemqb_MTrZL",
        "colab_type": "code",
        "colab": {}
      },
      "source": [
        "TEXT = torchtext.data.Field(\n",
        "    tokenize='spacy', batch_first=True, init_token='<begin>', \n",
        "    eos_token='<end>', lower=True\n",
        ")\n",
        "ASPECT = torchtext.data.Field(sequential=False, batch_first=True)\n",
        "SENTIMENT = torchtext.data.LabelField(batch_first=True)"
      ],
      "execution_count": 0,
      "outputs": []
    },
    {
      "cell_type": "code",
      "metadata": {
        "id": "SMQlJoOGWrQo",
        "colab_type": "code",
        "colab": {}
      },
      "source": [
        "fields = [('text', TEXT), ('aspect', ASPECT), ('sentiment', SENTIMENT)]"
      ],
      "execution_count": 0,
      "outputs": []
    },
    {
      "cell_type": "code",
      "metadata": {
        "id": "o5NtLnNiWrUp",
        "colab_type": "code",
        "outputId": "178b5529-014e-4b48-af29-82e42988cfa5",
        "colab": {
          "base_uri": "https://localhost:8080/",
          "height": 34
        }
      },
      "source": [
        "data_train_path = os.path.join(DATA_PREFIX, 'processed', 'restaurants_train.csv')\n",
        "data_test_path = os.path.join(DATA_PREFIX, 'processed', 'restaurants_test.csv')\n",
        "data_all_path = os.path.join(DATA_PREFIX, 'processed', 'restaurants.csv')\n",
        "\n",
        "train_data_all = torchtext.data.TabularDataset(\n",
        "    path=data_train_path, format = 'csv', fields=fields, skip_header=True\n",
        ")\n",
        "test_data = torchtext.data.TabularDataset(\n",
        "    path=data_test_path, format = 'csv', fields=fields, skip_header=True\n",
        ")\n",
        "data_all = torchtext.data.TabularDataset(\n",
        "    path=data_all_path, format = 'csv', fields=fields, skip_header=True\n",
        ")\n",
        "\n",
        "print(vars(train_data_all.examples[0]))"
      ],
      "execution_count": 9,
      "outputs": [
        {
          "output_type": "stream",
          "text": [
            "{'text': ['but', 'the', 'staff', 'was', 'so', 'horrible', 'to', 'us', '.'], 'aspect': 'service', 'sentiment': '3'}\n"
          ],
          "name": "stdout"
        }
      ]
    },
    {
      "cell_type": "markdown",
      "metadata": {
        "id": "MRXivWRfZjNF",
        "colab_type": "text"
      },
      "source": [
        "Разделим данные на обучение и валидацию (для early stopping)."
      ]
    },
    {
      "cell_type": "code",
      "metadata": {
        "id": "MJXx9xmyTrXU",
        "colab_type": "code",
        "colab": {}
      },
      "source": [
        "train_data, valid_data = train_data_all.split(\n",
        "    split_ratio=0.8, random_state=random.seed(random_state)\n",
        ")"
      ],
      "execution_count": 0,
      "outputs": []
    },
    {
      "cell_type": "markdown",
      "metadata": {
        "id": "YW0x0isFY1_w",
        "colab_type": "text"
      },
      "source": [
        "Построим для нашего датасета словарь. Согласно статье, эмбеддинги слов были проинициализированы при помощи GloVe, а для неизвестных слов в качестве эмбеддингов были взяты случайные векторы из $U(-\\varepsilon, \\varepsilon)$, где $\\varepsilon = 0.01$.\n"
      ]
    },
    {
      "cell_type": "code",
      "metadata": {
        "id": "ZelUdQpEaBJ5",
        "colab_type": "code",
        "colab": {}
      },
      "source": [
        "epsilon = 0.01\n",
        "vectors_cache = os.path.join(DATA_PREFIX, 'raw', 'glove')\n",
        "TEXT.build_vocab(data_all, \n",
        "                 vectors='glove.840B.300d', vectors_cache=vectors_cache,\n",
        "                 unk_init=lambda x: torch.nn.init.uniform_(x, -epsilon, epsilon))\n",
        "ASPECT.build_vocab(train_data)\n",
        "SENTIMENT.build_vocab(train_data)"
      ],
      "execution_count": 0,
      "outputs": []
    },
    {
      "cell_type": "code",
      "metadata": {
        "id": "3ayeYQzCaBOU",
        "colab_type": "code",
        "outputId": "d8df885b-5479-4212-ab5c-f7a74923295c",
        "colab": {
          "base_uri": "https://localhost:8080/",
          "height": 69
        }
      },
      "source": [
        "print(f'Size of TEXT vocabulary: {len(TEXT.vocab)}')\n",
        "print(f'Size of ASPECT vocabulary: {len(ASPECT.vocab)}')\n",
        "print(f'Size of SENTIMENT vocabulary: {len(SENTIMENT.vocab)}')"
      ],
      "execution_count": 12,
      "outputs": [
        {
          "output_type": "stream",
          "text": [
            "Size of TEXT vocabulary: 5041\n",
            "Size of ASPECT vocabulary: 6\n",
            "Size of SENTIMENT vocabulary: 3\n"
          ],
          "name": "stdout"
        }
      ]
    },
    {
      "cell_type": "markdown",
      "metadata": {
        "id": "PeMUrFNFgSgb",
        "colab_type": "text"
      },
      "source": [
        "Теперь напишем итератор."
      ]
    },
    {
      "cell_type": "code",
      "metadata": {
        "id": "DUYiqydfgR1A",
        "colab_type": "code",
        "colab": {}
      },
      "source": [
        "batch_size = 64\n",
        "\n",
        "train_iter, val_iter, test_iter = torchtext.data.BucketIterator.splits(\n",
        "        (train_data, valid_data, test_data),\n",
        "        batch_sizes=(batch_size, batch_size, batch_size),\n",
        "        sort=True,\n",
        "        sort_key=lambda x: len(x.text),\n",
        "        sort_within_batch=True,\n",
        "        device=device,\n",
        "        repeat=False\n",
        ")"
      ],
      "execution_count": 0,
      "outputs": []
    },
    {
      "cell_type": "markdown",
      "metadata": {
        "id": "FuqJ_M3Fg6G3",
        "colab_type": "text"
      },
      "source": [
        "### Модель"
      ]
    },
    {
      "cell_type": "markdown",
      "metadata": {
        "id": "SQwytmw86fiJ",
        "colab_type": "text"
      },
      "source": [
        "Вспомогательный слой."
      ]
    },
    {
      "cell_type": "code",
      "metadata": {
        "id": "IkDzo3k76fJN",
        "colab_type": "code",
        "colab": {}
      },
      "source": [
        "class Permute(nn.Module):\n",
        "    def __init__(self, dims):\n",
        "        super(Permute, self).__init__()\n",
        "        self.dims = dims\n",
        "        \n",
        "    def forward(self, x):\n",
        "        x = x.permute(self.dims).contiguous()\n",
        "        return x"
      ],
      "execution_count": 0,
      "outputs": []
    },
    {
      "cell_type": "markdown",
      "metadata": {
        "id": "blBavi11CigD",
        "colab_type": "text"
      },
      "source": [
        "Зададим архитектуру нашей сети."
      ]
    },
    {
      "cell_type": "code",
      "metadata": {
        "id": "MN0rbmwhCh0K",
        "colab_type": "code",
        "colab": {}
      },
      "source": [
        "class AT_LSTM(nn.Module):\n",
        "\n",
        "    def __init__(\n",
        "        self, num_aspects, embeddings_aspects_dim, hidden_dim, \n",
        "        num_sentiments, \n",
        "        vocab_size=None, embeddings_words_dim=None, embeddings_words_init=None\n",
        "    ):\n",
        "        super(AT_LSTM, self).__init__()\n",
        "\n",
        "        train_from_scratch = (vocab_size is not None \n",
        "                              and embedding_words_dim is not None)\n",
        "        use_pretrained = embeddings_words_init is not None\n",
        "        if not(train_from_scratch or use_pretrained):\n",
        "            raise ValueError('You should use pretrained vectors or '\n",
        "                             'set vocab size and embeddings dim')\n",
        "\n",
        "        if train_from_scratch:\n",
        "            self.embeddings_words = nn.Embedding(\n",
        "                vocab_size, embeddings_words_dim\n",
        "            )\n",
        "        else:\n",
        "            self.embeddings_words = nn.Embedding.from_pretrained(\n",
        "                embeddings_words_init\n",
        "            )\n",
        "            vocab_size, embeddings_words_dim = embeddings_words_init.size()\n",
        "\n",
        "        self.lstm = nn.LSTM(\n",
        "            embeddings_words_dim, hidden_dim,\n",
        "            batch_first=True\n",
        "        )\n",
        "\n",
        "        self.embeddings_aspects = nn.Embedding(\n",
        "            num_aspects, embeddings_aspects_dim\n",
        "        )\n",
        "        self.attention = nn.Sequential(\n",
        "            nn.Linear(embeddings_aspects_dim + hidden_dim, \n",
        "                      embeddings_aspects_dim + hidden_dim),\n",
        "            Permute([0, 2, 1]),     \n",
        "            nn.BatchNorm1d(embeddings_aspects_dim + hidden_dim),\n",
        "            Permute([0, 2, 1]),\n",
        "            nn.Dropout(),\n",
        "            nn.Tanh(),\n",
        "            nn.Linear(embeddings_aspects_dim + hidden_dim, 1),\n",
        "            nn.Softmax(dim=1),\n",
        "        )\n",
        "\n",
        "        self.sentence_representation = nn.Linear(\n",
        "            hidden_dim + hidden_dim, hidden_dim, bias=False\n",
        "        )\n",
        "        self.drop = nn.Dropout()\n",
        "        self.sentence_representation_nonlinearity = nn.Tanh()\n",
        "        self.sentence_representation_to_sentiments = nn.Linear(\n",
        "            hidden_dim, num_sentiments\n",
        "        )\n",
        "\n",
        "        # weights initializatioin\n",
        "        torch.nn.init.xavier_uniform_(self.embeddings_aspects.weight)\n",
        "        torch.nn.init.xavier_uniform_(self.sentence_representation.weight)\n",
        "        torch.nn.init.xavier_uniform_(self.sentence_representation_to_sentiments.weight)\n",
        "\n",
        "        \n",
        "    def forward(self, texts, aspects, hidden=None):\n",
        "        batch_size, seq_len = texts.size()\n",
        "        # shape: [batch_size, seq_len] -> [batch_size, seq_len, embeddings_words_dim]\n",
        "        embeddings_words_out = self.embeddings_words(texts)\n",
        "        # shape: [batch_size] -> [batch_size, seq_len, embedding_aspects_dim]\n",
        "        embeddings_aspects_out = self.embeddings_aspects(aspects)\n",
        "        embeddings_aspects_out = torch.unsqueeze(embeddings_aspects_out, 1)\n",
        "        embeddings_aspects_out = torch.repeat_interleave(\n",
        "            embeddings_aspects_out, seq_len, 1\n",
        "        )\n",
        "        # shape: [batch_size, seq_len, embeddings_dim] -> [batch_size, seq_len, hidden_dim]\n",
        "        lstm_output, hidden_state = self.lstm(embeddings_words_out, hidden)\n",
        "\n",
        "        attention_input = torch.cat(\n",
        "            [lstm_output, embeddings_aspects_out], dim=-1,\n",
        "        )\n",
        "        # shape: [batch_size, seq_len, hidden_dim + embeddings_aspects_dim] -> [batch_size, seq_len]\n",
        "        attention_weights = self.attention(attention_input)\n",
        "        weighted_lstm_output = lstm_output.permute(0, 2, 1) @ attention_weights\n",
        "        weighted_lstm_output = torch.squeeze(weighted_lstm_output, dim=-1)\n",
        "        sentence_representation = torch.cat([lstm_output[:, -1, :], \n",
        "                                             weighted_lstm_output], dim=-1)\n",
        "        sentence_representation = self.sentence_representation(\n",
        "            sentence_representation\n",
        "        )\n",
        "        sentence_representation = self.drop(sentence_representation)\n",
        "        sentence_representation = self.sentence_representation_nonlinearity(\n",
        "            sentence_representation\n",
        "        )\n",
        "        # shape: [batch_size, hidden_size] -> [batch_size, num_sentiments]\n",
        "        sentiments_scores = self.sentence_representation_to_sentiments(\n",
        "            sentence_representation\n",
        "        )\n",
        "        return sentiments_scores, hidden_state"
      ],
      "execution_count": 0,
      "outputs": []
    },
    {
      "cell_type": "markdown",
      "metadata": {
        "id": "OTr5tdu6nl4A",
        "colab_type": "text"
      },
      "source": [
        "Возьмем параметры, как в статье: `embeddings_aspects_dim=300`, `hidden_dim=300`."
      ]
    },
    {
      "cell_type": "code",
      "metadata": {
        "id": "l_2Wskt-inX_",
        "colab_type": "code",
        "outputId": "0a1d05f7-9461-4b11-8994-04b877581bda",
        "colab": {
          "base_uri": "https://localhost:8080/",
          "height": 347
        }
      },
      "source": [
        "num_aspects = len(ASPECT.vocab)\n",
        "embeddings_aspects_dim = 300\n",
        "hidden_dim = 300\n",
        "num_sentiments = len(SENTIMENT.vocab)\n",
        "embeddings_words_init = TEXT.vocab.vectors\n",
        "\n",
        "set_seed_everywhere(random_seed, USE_GPU)\n",
        "model = AT_LSTM(\n",
        "    num_aspects, embeddings_aspects_dim, hidden_dim, num_sentiments, \n",
        "    embeddings_words_init=embeddings_words_init\n",
        ")\n",
        "model"
      ],
      "execution_count": 16,
      "outputs": [
        {
          "output_type": "execute_result",
          "data": {
            "text/plain": [
              "AT_LSTM(\n",
              "  (embeddings_words): Embedding(5041, 300)\n",
              "  (lstm): LSTM(300, 300, batch_first=True)\n",
              "  (embeddings_aspects): Embedding(6, 300)\n",
              "  (attention): Sequential(\n",
              "    (0): Linear(in_features=600, out_features=600, bias=True)\n",
              "    (1): Permute()\n",
              "    (2): BatchNorm1d(600, eps=1e-05, momentum=0.1, affine=True, track_running_stats=True)\n",
              "    (3): Permute()\n",
              "    (4): Dropout(p=0.5, inplace=False)\n",
              "    (5): Tanh()\n",
              "    (6): Linear(in_features=600, out_features=1, bias=True)\n",
              "    (7): Softmax(dim=1)\n",
              "  )\n",
              "  (sentence_representation): Linear(in_features=600, out_features=300, bias=False)\n",
              "  (drop): Dropout(p=0.5, inplace=False)\n",
              "  (sentence_representation_nonlinearity): Tanh()\n",
              "  (sentence_representation_to_sentiments): Linear(in_features=300, out_features=3, bias=True)\n",
              ")"
            ]
          },
          "metadata": {
            "tags": []
          },
          "execution_count": 16
        }
      ]
    },
    {
      "cell_type": "markdown",
      "metadata": {
        "id": "-RPJYxF0iR5S",
        "colab_type": "text"
      },
      "source": [
        "### Тренировочный цикл\n",
        "\n",
        "Здесь мы реализуем тренировочный цикл для нашей модели. По идее нужны momentum, как в статье, равный $0.9$ для Adam установлен автоматически. Здесь же установим и коэффициент l2-регляризации для оптимизитора: $0.001$."
      ]
    },
    {
      "cell_type": "code",
      "metadata": {
        "id": "o0XG5kEsimr2",
        "colab_type": "code",
        "colab": {}
      },
      "source": [
        "model = model.to(device=device)\n",
        "learning_rate = 1e-5\n",
        "early_stopping = 1000\n",
        "grad_clipping_value = 1\n",
        "l2_coef = 1e-3\n",
        "epochs = 200\n",
        "\n",
        "opt = optim.Adam(model.parameters(), lr=learning_rate, weight_decay=l2_coef)\n",
        "scheduler = optim.lr_scheduler.StepLR(opt, step_size=10, gamma=1)\n",
        "criterion = nn.CrossEntropyLoss()\n",
        "path_save = os.path.join(MODEL_PREFIX, 'at_lstm', 'at_lstm.pt')"
      ],
      "execution_count": 0,
      "outputs": []
    },
    {
      "cell_type": "code",
      "metadata": {
        "id": "uhKstL-OoNJV",
        "colab_type": "code",
        "colab": {}
      },
      "source": [
        "def train_loop(train_iter, val_iter, model, opt, scheduler, criterion, epochs, \n",
        "               early_stopping):\n",
        "    train_losses = []\n",
        "    val_losses = []\n",
        "    train_acc_values = []\n",
        "    val_acc_values = []\n",
        "    best_val_loss = 10\n",
        "    best_val_acc = 0\n",
        "    not_improves = 0\n",
        "    for epoch in tqdm(range(1, epochs + 1)):\n",
        "        train_loss = 0.0\n",
        "        train_acc = 0\n",
        "        model.train() \n",
        "        for batch in train_iter: \n",
        "\n",
        "            texts = batch.text.to(device=device)\n",
        "            aspects = batch.aspect.to(device=device)\n",
        "            sentiments = batch.sentiment.to(device=device)\n",
        "\n",
        "            opt.zero_grad()\n",
        "            preds, _ = model(texts, aspects)\n",
        "\n",
        "            loss = criterion(preds, sentiments)\n",
        "            loss.backward()\n",
        "            nn.utils.clip_grad_norm_(model.parameters(), grad_clipping_value)\n",
        "            opt.step()\n",
        "            train_loss += loss.item()\n",
        "\n",
        "            pred_sentiments = torch.max(preds, dim=-1)[1]\n",
        "            train_acc += np.sum(\n",
        "                pred_sentiments.cpu().numpy() == sentiments.cpu().numpy()\n",
        "            )\n",
        "\n",
        "        train_loss /= len(train_data)\n",
        "        train_losses.append(train_loss)\n",
        "        train_acc /= len(train_data)\n",
        "        train_acc_values.append(train_acc)\n",
        "\n",
        "        val_loss = 0.0\n",
        "        val_acc = 0\n",
        "        model.eval()\n",
        "        with torch.no_grad():\n",
        "            for batch in val_iter:\n",
        "\n",
        "                texts = batch.text.to(device=device)\n",
        "                aspects = batch.aspect.to(device=device)\n",
        "                sentiments = batch.sentiment.to(device=device)\n",
        "\n",
        "                preds, _ = model(texts, aspects)   \n",
        "                loss = criterion(preds, sentiments)\n",
        "                val_loss += loss.item()\n",
        "\n",
        "                pred_sentiments = torch.max(preds, dim=-1)[1]\n",
        "                val_acc += np.sum(\n",
        "                    pred_sentiments.cpu().numpy() == sentiments.cpu().numpy()\n",
        "                )\n",
        "\n",
        "        val_loss /= len(valid_data)\n",
        "        val_acc /= len(valid_data)\n",
        "        val_losses.append(val_loss)\n",
        "        val_acc_values.append(val_acc)\n",
        "\n",
        "        if val_acc > best_val_acc:\n",
        "            not_improves = 0\n",
        "            best_val_acc = val_acc\n",
        "            torch.save(model.state_dict(), path_save)\n",
        "            print('------SAVED------')\n",
        "        else:\n",
        "            not_improves += 1\n",
        "            if not_improves == early_stopping:\n",
        "                break\n",
        "        \n",
        "        scheduler.step()\n",
        "\n",
        "        print(f'Epoch: {epoch}, '\n",
        "              f'Training Loss*: {1000*train_loss:.5f}, '\n",
        "              f'Validation Loss*: {1000*val_loss:.5f}, \\n'\n",
        "              f'Training Acc: {train_acc:.5f}, '\n",
        "              f'Validation Acc: {val_acc:.5f}')\n",
        "\n",
        "    return train_losses, val_losses, train_acc_values, val_acc_values"
      ],
      "execution_count": 0,
      "outputs": []
    },
    {
      "cell_type": "code",
      "metadata": {
        "id": "CWnA_j8fsiFL",
        "colab_type": "code",
        "outputId": "ff5f6608-ed7b-4225-8450-8f5926c97630",
        "colab": {
          "base_uri": "https://localhost:8080/",
          "height": 1000,
          "referenced_widgets": [
            "e0e2b1234ebf4a368fe479ba94a239cb",
            "35e238ec22cd4c9bbb359009f307eff9",
            "95075b5636694c00b213bbd3e200afb1",
            "b262956274ca47f6a70401012d686aa4",
            "478db528faea4d279be6aa75e5716fa3",
            "69f8d5a773b74831a31126d15c0b7473",
            "7ddb20b3b68f4e34929bf3ab11a7802a",
            "669deba704ca463699eea2bdab87a243"
          ]
        }
      },
      "source": [
        "set_seed_everywhere(random_seed, USE_GPU)\n",
        "train_losses, val_losses, train_acc, val_acc = train_loop(\n",
        "    train_iter, val_iter, model, opt, scheduler, criterion, \n",
        "    epochs, early_stopping\n",
        ")"
      ],
      "execution_count": 19,
      "outputs": [
        {
          "output_type": "display_data",
          "data": {
            "application/vnd.jupyter.widget-view+json": {
              "model_id": "e0e2b1234ebf4a368fe479ba94a239cb",
              "version_minor": 0,
              "version_major": 2
            },
            "text/plain": [
              "HBox(children=(IntProgress(value=0, max=200), HTML(value='')))"
            ]
          },
          "metadata": {
            "tags": []
          }
        },
        {
          "output_type": "stream",
          "text": [
            "------SAVED------\n",
            "Epoch: 1, Training Loss*: 16.59946, Validation Loss*: 15.97463, \n",
            "Training Acc: 0.50658, Validation Acc: 0.61735\n",
            "Epoch: 2, Training Loss*: 15.29555, Validation Loss*: 14.97465, \n",
            "Training Acc: 0.61998, Validation Acc: 0.61735\n",
            "Epoch: 3, Training Loss*: 14.53933, Validation Loss*: 14.48003, \n",
            "Training Acc: 0.61962, Validation Acc: 0.61735\n",
            "Epoch: 4, Training Loss*: 14.14587, Validation Loss*: 14.25369, \n",
            "Training Acc: 0.61962, Validation Acc: 0.61735\n",
            "Epoch: 5, Training Loss*: 13.96726, Validation Loss*: 14.10017, \n",
            "Training Acc: 0.61962, Validation Acc: 0.61735\n",
            "Epoch: 6, Training Loss*: 13.79048, Validation Loss*: 13.94536, \n",
            "Training Acc: 0.61962, Validation Acc: 0.61735\n",
            "Epoch: 7, Training Loss*: 13.60785, Validation Loss*: 13.77864, \n",
            "Training Acc: 0.61962, Validation Acc: 0.61735\n",
            "Epoch: 8, Training Loss*: 13.40648, Validation Loss*: 13.59791, \n",
            "Training Acc: 0.61962, Validation Acc: 0.61735\n",
            "Epoch: 9, Training Loss*: 13.19902, Validation Loss*: 13.41090, \n",
            "Training Acc: 0.61962, Validation Acc: 0.61735\n",
            "Epoch: 10, Training Loss*: 12.96395, Validation Loss*: 13.22110, \n",
            "Training Acc: 0.61962, Validation Acc: 0.61735\n",
            "Epoch: 11, Training Loss*: 12.80292, Validation Loss*: 13.02838, \n",
            "Training Acc: 0.61998, Validation Acc: 0.61735\n",
            "Epoch: 12, Training Loss*: 12.58745, Validation Loss*: 12.83744, \n",
            "Training Acc: 0.62033, Validation Acc: 0.61735\n",
            "------SAVED------\n",
            "Epoch: 13, Training Loss*: 12.33526, Validation Loss*: 12.64923, \n",
            "Training Acc: 0.62424, Validation Acc: 0.61878\n",
            "------SAVED------\n",
            "Epoch: 14, Training Loss*: 12.15216, Validation Loss*: 12.47154, \n",
            "Training Acc: 0.63135, Validation Acc: 0.62304\n",
            "------SAVED------\n",
            "Epoch: 15, Training Loss*: 11.94087, Validation Loss*: 12.29903, \n",
            "Training Acc: 0.64095, Validation Acc: 0.63300\n",
            "------SAVED------\n",
            "Epoch: 16, Training Loss*: 11.74040, Validation Loss*: 12.13228, \n",
            "Training Acc: 0.65624, Validation Acc: 0.63727\n",
            "------SAVED------\n",
            "Epoch: 17, Training Loss*: 11.52042, Validation Loss*: 11.98094, \n",
            "Training Acc: 0.66584, Validation Acc: 0.64154\n",
            "------SAVED------\n",
            "Epoch: 18, Training Loss*: 11.35462, Validation Loss*: 11.82978, \n",
            "Training Acc: 0.67330, Validation Acc: 0.64865\n",
            "------SAVED------\n",
            "Epoch: 19, Training Loss*: 11.18207, Validation Loss*: 11.67201, \n",
            "Training Acc: 0.68006, Validation Acc: 0.65434\n",
            "Epoch: 20, Training Loss*: 10.99864, Validation Loss*: 11.53228, \n",
            "Training Acc: 0.69072, Validation Acc: 0.65292\n",
            "------SAVED------\n",
            "Epoch: 21, Training Loss*: 10.79193, Validation Loss*: 11.37734, \n",
            "Training Acc: 0.69392, Validation Acc: 0.65861\n",
            "------SAVED------\n",
            "Epoch: 22, Training Loss*: 10.59955, Validation Loss*: 11.24906, \n",
            "Training Acc: 0.70103, Validation Acc: 0.66714\n",
            "------SAVED------\n",
            "Epoch: 23, Training Loss*: 10.43775, Validation Loss*: 11.12202, \n",
            "Training Acc: 0.70707, Validation Acc: 0.67568\n",
            "------SAVED------\n",
            "Epoch: 24, Training Loss*: 10.27330, Validation Loss*: 10.97098, \n",
            "Training Acc: 0.71098, Validation Acc: 0.67852\n",
            "------SAVED------\n",
            "Epoch: 25, Training Loss*: 10.10464, Validation Loss*: 10.83889, \n",
            "Training Acc: 0.72023, Validation Acc: 0.68563\n",
            "------SAVED------\n",
            "Epoch: 26, Training Loss*: 9.98052, Validation Loss*: 10.72066, \n",
            "Training Acc: 0.72378, Validation Acc: 0.68848\n",
            "------SAVED------\n",
            "Epoch: 27, Training Loss*: 9.82393, Validation Loss*: 10.61491, \n",
            "Training Acc: 0.73018, Validation Acc: 0.69275\n",
            "Epoch: 28, Training Loss*: 9.74650, Validation Loss*: 10.51606, \n",
            "Training Acc: 0.73125, Validation Acc: 0.69132\n",
            "------SAVED------\n",
            "Epoch: 29, Training Loss*: 9.63121, Validation Loss*: 10.41929, \n",
            "Training Acc: 0.73729, Validation Acc: 0.69559\n",
            "------SAVED------\n",
            "Epoch: 30, Training Loss*: 9.53043, Validation Loss*: 10.35132, \n",
            "Training Acc: 0.73729, Validation Acc: 0.69986\n",
            "------SAVED------\n",
            "Epoch: 31, Training Loss*: 9.43568, Validation Loss*: 10.29652, \n",
            "Training Acc: 0.74085, Validation Acc: 0.70839\n",
            "------SAVED------\n",
            "Epoch: 32, Training Loss*: 9.39132, Validation Loss*: 10.25203, \n",
            "Training Acc: 0.74547, Validation Acc: 0.71408\n",
            "------SAVED------\n",
            "Epoch: 33, Training Loss*: 9.29133, Validation Loss*: 10.21878, \n",
            "Training Acc: 0.74938, Validation Acc: 0.71693\n",
            "------SAVED------\n",
            "Epoch: 34, Training Loss*: 9.28762, Validation Loss*: 10.15830, \n",
            "Training Acc: 0.74902, Validation Acc: 0.71977\n",
            "------SAVED------\n",
            "Epoch: 35, Training Loss*: 9.18485, Validation Loss*: 10.13489, \n",
            "Training Acc: 0.75613, Validation Acc: 0.72262\n",
            "Epoch: 36, Training Loss*: 9.09061, Validation Loss*: 10.11816, \n",
            "Training Acc: 0.75933, Validation Acc: 0.72119\n",
            "Epoch: 37, Training Loss*: 9.09567, Validation Loss*: 10.07851, \n",
            "Training Acc: 0.75827, Validation Acc: 0.72119\n",
            "------SAVED------\n",
            "Epoch: 38, Training Loss*: 9.04346, Validation Loss*: 10.05647, \n",
            "Training Acc: 0.75827, Validation Acc: 0.72546\n",
            "Epoch: 39, Training Loss*: 8.94887, Validation Loss*: 10.02738, \n",
            "Training Acc: 0.76111, Validation Acc: 0.72262\n",
            "Epoch: 40, Training Loss*: 8.94692, Validation Loss*: 10.00961, \n",
            "Training Acc: 0.76644, Validation Acc: 0.72119\n",
            "Epoch: 41, Training Loss*: 8.88692, Validation Loss*: 9.97876, \n",
            "Training Acc: 0.76715, Validation Acc: 0.72404\n",
            "------SAVED------\n",
            "Epoch: 42, Training Loss*: 8.84615, Validation Loss*: 9.97317, \n",
            "Training Acc: 0.77248, Validation Acc: 0.72831\n",
            "------SAVED------\n",
            "Epoch: 43, Training Loss*: 8.79642, Validation Loss*: 9.95546, \n",
            "Training Acc: 0.77142, Validation Acc: 0.72973\n",
            "Epoch: 44, Training Loss*: 8.73695, Validation Loss*: 9.95633, \n",
            "Training Acc: 0.77355, Validation Acc: 0.72973\n",
            "Epoch: 45, Training Loss*: 8.69011, Validation Loss*: 9.93153, \n",
            "Training Acc: 0.77959, Validation Acc: 0.72973\n",
            "Epoch: 46, Training Loss*: 8.64123, Validation Loss*: 9.93043, \n",
            "Training Acc: 0.78102, Validation Acc: 0.72973\n",
            "------SAVED------\n",
            "Epoch: 47, Training Loss*: 8.66249, Validation Loss*: 9.90712, \n",
            "Training Acc: 0.78031, Validation Acc: 0.73400\n",
            "Epoch: 48, Training Loss*: 8.52114, Validation Loss*: 9.90501, \n",
            "Training Acc: 0.78493, Validation Acc: 0.73400\n",
            "Epoch: 49, Training Loss*: 8.51991, Validation Loss*: 9.90121, \n",
            "Training Acc: 0.78173, Validation Acc: 0.73400\n",
            "------SAVED------\n",
            "Epoch: 50, Training Loss*: 8.52449, Validation Loss*: 9.87964, \n",
            "Training Acc: 0.78173, Validation Acc: 0.73542\n",
            "------SAVED------\n",
            "Epoch: 51, Training Loss*: 8.44397, Validation Loss*: 9.87691, \n",
            "Training Acc: 0.78635, Validation Acc: 0.73969\n",
            "Epoch: 52, Training Loss*: 8.41365, Validation Loss*: 9.84167, \n",
            "Training Acc: 0.78742, Validation Acc: 0.73969\n",
            "Epoch: 53, Training Loss*: 8.36651, Validation Loss*: 9.86476, \n",
            "Training Acc: 0.78635, Validation Acc: 0.73969\n",
            "------SAVED------\n",
            "Epoch: 54, Training Loss*: 8.30588, Validation Loss*: 9.86078, \n",
            "Training Acc: 0.79275, Validation Acc: 0.74111\n",
            "Epoch: 55, Training Loss*: 8.31603, Validation Loss*: 9.86201, \n",
            "Training Acc: 0.79062, Validation Acc: 0.73826\n",
            "Epoch: 56, Training Loss*: 8.27844, Validation Loss*: 9.84149, \n",
            "Training Acc: 0.79204, Validation Acc: 0.73826\n",
            "------SAVED------\n",
            "Epoch: 57, Training Loss*: 8.22431, Validation Loss*: 9.85085, \n",
            "Training Acc: 0.78884, Validation Acc: 0.74538\n",
            "Epoch: 58, Training Loss*: 8.19135, Validation Loss*: 9.82002, \n",
            "Training Acc: 0.79346, Validation Acc: 0.74395\n",
            "Epoch: 59, Training Loss*: 8.14714, Validation Loss*: 9.82936, \n",
            "Training Acc: 0.79630, Validation Acc: 0.74395\n",
            "Epoch: 60, Training Loss*: 8.11736, Validation Loss*: 9.80503, \n",
            "Training Acc: 0.79559, Validation Acc: 0.74253\n",
            "------SAVED------\n",
            "Epoch: 61, Training Loss*: 8.08337, Validation Loss*: 9.80571, \n",
            "Training Acc: 0.79986, Validation Acc: 0.74964\n",
            "Epoch: 62, Training Loss*: 8.02599, Validation Loss*: 9.80353, \n",
            "Training Acc: 0.79879, Validation Acc: 0.74680\n",
            "Epoch: 63, Training Loss*: 8.08189, Validation Loss*: 9.81428, \n",
            "Training Acc: 0.79808, Validation Acc: 0.74680\n",
            "Epoch: 64, Training Loss*: 7.99985, Validation Loss*: 9.80526, \n",
            "Training Acc: 0.80092, Validation Acc: 0.74680\n",
            "Epoch: 65, Training Loss*: 7.95091, Validation Loss*: 9.84892, \n",
            "Training Acc: 0.80270, Validation Acc: 0.74680\n",
            "Epoch: 66, Training Loss*: 7.94372, Validation Loss*: 9.78813, \n",
            "Training Acc: 0.80199, Validation Acc: 0.74680\n",
            "Epoch: 67, Training Loss*: 7.90174, Validation Loss*: 9.83541, \n",
            "Training Acc: 0.79986, Validation Acc: 0.74538\n",
            "Epoch: 68, Training Loss*: 7.85335, Validation Loss*: 9.85575, \n",
            "Training Acc: 0.80164, Validation Acc: 0.74680\n",
            "Epoch: 69, Training Loss*: 7.84171, Validation Loss*: 9.84500, \n",
            "Training Acc: 0.80732, Validation Acc: 0.74538\n",
            "Epoch: 70, Training Loss*: 7.84843, Validation Loss*: 9.83185, \n",
            "Training Acc: 0.80448, Validation Acc: 0.74538\n",
            "Epoch: 71, Training Loss*: 7.77730, Validation Loss*: 9.82468, \n",
            "Training Acc: 0.80590, Validation Acc: 0.74822\n",
            "Epoch: 72, Training Loss*: 7.75543, Validation Loss*: 9.75926, \n",
            "Training Acc: 0.80946, Validation Acc: 0.74964\n",
            "Epoch: 73, Training Loss*: 7.73036, Validation Loss*: 9.82122, \n",
            "Training Acc: 0.81230, Validation Acc: 0.74822\n",
            "------SAVED------\n",
            "Epoch: 74, Training Loss*: 7.71789, Validation Loss*: 9.79191, \n",
            "Training Acc: 0.81123, Validation Acc: 0.75249\n",
            "Epoch: 75, Training Loss*: 7.65753, Validation Loss*: 9.86043, \n",
            "Training Acc: 0.81763, Validation Acc: 0.75107\n",
            "Epoch: 76, Training Loss*: 7.63538, Validation Loss*: 9.86130, \n",
            "Training Acc: 0.80661, Validation Acc: 0.74964\n",
            "------SAVED------\n",
            "Epoch: 77, Training Loss*: 7.58593, Validation Loss*: 9.77800, \n",
            "Training Acc: 0.81088, Validation Acc: 0.75676\n",
            "Epoch: 78, Training Loss*: 7.53994, Validation Loss*: 9.83713, \n",
            "Training Acc: 0.81799, Validation Acc: 0.75249\n",
            "Epoch: 79, Training Loss*: 7.49869, Validation Loss*: 9.83805, \n",
            "Training Acc: 0.80839, Validation Acc: 0.75391\n",
            "Epoch: 80, Training Loss*: 7.57523, Validation Loss*: 9.86673, \n",
            "Training Acc: 0.81692, Validation Acc: 0.75249\n",
            "Epoch: 81, Training Loss*: 7.50090, Validation Loss*: 9.88425, \n",
            "Training Acc: 0.81692, Validation Acc: 0.75533\n",
            "Epoch: 82, Training Loss*: 7.49781, Validation Loss*: 9.89527, \n",
            "Training Acc: 0.81443, Validation Acc: 0.75676\n",
            "------SAVED------\n",
            "Epoch: 83, Training Loss*: 7.46688, Validation Loss*: 9.87699, \n",
            "Training Acc: 0.81372, Validation Acc: 0.75960\n",
            "Epoch: 84, Training Loss*: 7.42348, Validation Loss*: 9.84703, \n",
            "Training Acc: 0.81479, Validation Acc: 0.75391\n",
            "------SAVED------\n",
            "Epoch: 85, Training Loss*: 7.39442, Validation Loss*: 9.92338, \n",
            "Training Acc: 0.82119, Validation Acc: 0.76245\n",
            "Epoch: 86, Training Loss*: 7.33757, Validation Loss*: 9.91060, \n",
            "Training Acc: 0.82332, Validation Acc: 0.75676\n",
            "Epoch: 87, Training Loss*: 7.32592, Validation Loss*: 9.85446, \n",
            "Training Acc: 0.82119, Validation Acc: 0.76102\n",
            "Epoch: 88, Training Loss*: 7.26740, Validation Loss*: 9.93575, \n",
            "Training Acc: 0.81763, Validation Acc: 0.75960\n",
            "Epoch: 89, Training Loss*: 7.29168, Validation Loss*: 9.85971, \n",
            "Training Acc: 0.82510, Validation Acc: 0.75960\n",
            "Epoch: 90, Training Loss*: 7.23678, Validation Loss*: 9.90584, \n",
            "Training Acc: 0.82439, Validation Acc: 0.76102\n",
            "Epoch: 91, Training Loss*: 7.24890, Validation Loss*: 9.87148, \n",
            "Training Acc: 0.82403, Validation Acc: 0.75960\n",
            "Epoch: 92, Training Loss*: 7.17217, Validation Loss*: 9.90451, \n",
            "Training Acc: 0.82616, Validation Acc: 0.75960\n",
            "Epoch: 93, Training Loss*: 7.18641, Validation Loss*: 9.93037, \n",
            "Training Acc: 0.82332, Validation Acc: 0.76245\n",
            "------SAVED------\n",
            "Epoch: 94, Training Loss*: 7.16262, Validation Loss*: 9.95467, \n",
            "Training Acc: 0.82403, Validation Acc: 0.76387\n",
            "Epoch: 95, Training Loss*: 7.11573, Validation Loss*: 9.93823, \n",
            "Training Acc: 0.82012, Validation Acc: 0.76102\n",
            "Epoch: 96, Training Loss*: 7.06355, Validation Loss*: 9.96201, \n",
            "Training Acc: 0.82652, Validation Acc: 0.75960\n",
            "Epoch: 97, Training Loss*: 7.02537, Validation Loss*: 9.93923, \n",
            "Training Acc: 0.82972, Validation Acc: 0.76102\n",
            "Epoch: 98, Training Loss*: 7.04410, Validation Loss*: 9.98442, \n",
            "Training Acc: 0.83007, Validation Acc: 0.76102\n",
            "Epoch: 99, Training Loss*: 7.01347, Validation Loss*: 9.99903, \n",
            "Training Acc: 0.82936, Validation Acc: 0.76102\n",
            "Epoch: 100, Training Loss*: 6.99015, Validation Loss*: 9.89832, \n",
            "Training Acc: 0.83114, Validation Acc: 0.76102\n",
            "Epoch: 101, Training Loss*: 6.98294, Validation Loss*: 9.97237, \n",
            "Training Acc: 0.82972, Validation Acc: 0.76102\n",
            "Epoch: 102, Training Loss*: 6.90683, Validation Loss*: 10.00272, \n",
            "Training Acc: 0.83505, Validation Acc: 0.76102\n",
            "Epoch: 103, Training Loss*: 6.88066, Validation Loss*: 10.04440, \n",
            "Training Acc: 0.83541, Validation Acc: 0.75960\n",
            "Epoch: 104, Training Loss*: 6.89551, Validation Loss*: 10.04585, \n",
            "Training Acc: 0.82901, Validation Acc: 0.75960\n",
            "Epoch: 105, Training Loss*: 6.89049, Validation Loss*: 9.95346, \n",
            "Training Acc: 0.83399, Validation Acc: 0.76102\n",
            "Epoch: 106, Training Loss*: 6.85091, Validation Loss*: 9.99780, \n",
            "Training Acc: 0.83576, Validation Acc: 0.75960\n",
            "Epoch: 107, Training Loss*: 6.85241, Validation Loss*: 10.09438, \n",
            "Training Acc: 0.83327, Validation Acc: 0.76245\n",
            "Epoch: 108, Training Loss*: 6.80405, Validation Loss*: 10.04542, \n",
            "Training Acc: 0.83150, Validation Acc: 0.76102\n",
            "Epoch: 109, Training Loss*: 6.77761, Validation Loss*: 10.10059, \n",
            "Training Acc: 0.83683, Validation Acc: 0.76102\n",
            "Epoch: 110, Training Loss*: 6.75747, Validation Loss*: 10.11459, \n",
            "Training Acc: 0.83790, Validation Acc: 0.76245\n",
            "------SAVED------\n",
            "Epoch: 111, Training Loss*: 6.72924, Validation Loss*: 10.03341, \n",
            "Training Acc: 0.83790, Validation Acc: 0.76529\n",
            "Epoch: 112, Training Loss*: 6.68339, Validation Loss*: 10.16008, \n",
            "Training Acc: 0.84003, Validation Acc: 0.76245\n",
            "Epoch: 113, Training Loss*: 6.70578, Validation Loss*: 10.14233, \n",
            "Training Acc: 0.83576, Validation Acc: 0.76102\n",
            "Epoch: 114, Training Loss*: 6.63509, Validation Loss*: 10.20010, \n",
            "Training Acc: 0.83754, Validation Acc: 0.76102\n",
            "Epoch: 115, Training Loss*: 6.63424, Validation Loss*: 10.20571, \n",
            "Training Acc: 0.83790, Validation Acc: 0.76245\n",
            "Epoch: 116, Training Loss*: 6.60520, Validation Loss*: 10.22938, \n",
            "Training Acc: 0.83647, Validation Acc: 0.75960\n",
            "Epoch: 117, Training Loss*: 6.61459, Validation Loss*: 10.21574, \n",
            "Training Acc: 0.83576, Validation Acc: 0.76245\n",
            "Epoch: 118, Training Loss*: 6.57812, Validation Loss*: 10.34241, \n",
            "Training Acc: 0.83967, Validation Acc: 0.76245\n",
            "Epoch: 119, Training Loss*: 6.47005, Validation Loss*: 10.32460, \n",
            "Training Acc: 0.84252, Validation Acc: 0.76102\n",
            "Epoch: 120, Training Loss*: 6.47838, Validation Loss*: 10.23322, \n",
            "Training Acc: 0.84252, Validation Acc: 0.75818\n",
            "Epoch: 121, Training Loss*: 6.49248, Validation Loss*: 10.24591, \n",
            "Training Acc: 0.84216, Validation Acc: 0.75818\n",
            "Epoch: 122, Training Loss*: 6.44611, Validation Loss*: 10.36637, \n",
            "Training Acc: 0.84216, Validation Acc: 0.76387\n",
            "Epoch: 123, Training Loss*: 6.45593, Validation Loss*: 10.27017, \n",
            "Training Acc: 0.84216, Validation Acc: 0.76245\n",
            "Epoch: 124, Training Loss*: 6.46573, Validation Loss*: 10.29129, \n",
            "Training Acc: 0.84358, Validation Acc: 0.75960\n",
            "Epoch: 125, Training Loss*: 6.47222, Validation Loss*: 10.40163, \n",
            "Training Acc: 0.84038, Validation Acc: 0.76245\n",
            "Epoch: 126, Training Loss*: 6.35187, Validation Loss*: 10.39163, \n",
            "Training Acc: 0.84820, Validation Acc: 0.76102\n",
            "Epoch: 127, Training Loss*: 6.32651, Validation Loss*: 10.42595, \n",
            "Training Acc: 0.84429, Validation Acc: 0.76245\n",
            "Epoch: 128, Training Loss*: 6.38500, Validation Loss*: 10.42490, \n",
            "Training Acc: 0.83967, Validation Acc: 0.76387\n",
            "------SAVED------\n",
            "Epoch: 129, Training Loss*: 6.27917, Validation Loss*: 10.55916, \n",
            "Training Acc: 0.84714, Validation Acc: 0.76956\n",
            "Epoch: 130, Training Loss*: 6.28370, Validation Loss*: 10.44970, \n",
            "Training Acc: 0.85140, Validation Acc: 0.76387\n",
            "Epoch: 131, Training Loss*: 6.24833, Validation Loss*: 10.34705, \n",
            "Training Acc: 0.84465, Validation Acc: 0.76102\n",
            "Epoch: 132, Training Loss*: 6.21778, Validation Loss*: 10.47892, \n",
            "Training Acc: 0.84892, Validation Acc: 0.76529\n",
            "Epoch: 133, Training Loss*: 6.23089, Validation Loss*: 10.43472, \n",
            "Training Acc: 0.84749, Validation Acc: 0.75818\n",
            "Epoch: 134, Training Loss*: 6.16145, Validation Loss*: 10.54943, \n",
            "Training Acc: 0.85034, Validation Acc: 0.76671\n",
            "Epoch: 135, Training Loss*: 6.15705, Validation Loss*: 10.56576, \n",
            "Training Acc: 0.85176, Validation Acc: 0.76387\n",
            "Epoch: 136, Training Loss*: 6.13657, Validation Loss*: 10.62206, \n",
            "Training Acc: 0.84927, Validation Acc: 0.76814\n",
            "Epoch: 137, Training Loss*: 6.16579, Validation Loss*: 10.65540, \n",
            "Training Acc: 0.85496, Validation Acc: 0.76671\n",
            "Epoch: 138, Training Loss*: 6.14125, Validation Loss*: 10.60491, \n",
            "Training Acc: 0.85069, Validation Acc: 0.76814\n",
            "Epoch: 139, Training Loss*: 6.05502, Validation Loss*: 10.64131, \n",
            "Training Acc: 0.84892, Validation Acc: 0.76671\n",
            "Epoch: 140, Training Loss*: 6.04075, Validation Loss*: 10.66065, \n",
            "Training Acc: 0.85247, Validation Acc: 0.76529\n",
            "Epoch: 141, Training Loss*: 5.98363, Validation Loss*: 10.71683, \n",
            "Training Acc: 0.85389, Validation Acc: 0.76671\n",
            "Epoch: 142, Training Loss*: 6.01791, Validation Loss*: 10.67234, \n",
            "Training Acc: 0.85851, Validation Acc: 0.76245\n",
            "Epoch: 143, Training Loss*: 6.01082, Validation Loss*: 10.79837, \n",
            "Training Acc: 0.85140, Validation Acc: 0.76671\n",
            "Epoch: 144, Training Loss*: 5.95918, Validation Loss*: 10.85171, \n",
            "Training Acc: 0.85247, Validation Acc: 0.76814\n",
            "Epoch: 145, Training Loss*: 5.87947, Validation Loss*: 10.68216, \n",
            "Training Acc: 0.85851, Validation Acc: 0.76102\n",
            "Epoch: 146, Training Loss*: 5.88917, Validation Loss*: 10.82435, \n",
            "Training Acc: 0.85709, Validation Acc: 0.76814\n",
            "Epoch: 147, Training Loss*: 5.88747, Validation Loss*: 10.82359, \n",
            "Training Acc: 0.85603, Validation Acc: 0.76529\n",
            "Epoch: 148, Training Loss*: 5.88590, Validation Loss*: 10.86965, \n",
            "Training Acc: 0.85745, Validation Acc: 0.76245\n",
            "Epoch: 149, Training Loss*: 5.80315, Validation Loss*: 10.88123, \n",
            "Training Acc: 0.85816, Validation Acc: 0.76814\n",
            "Epoch: 150, Training Loss*: 5.80782, Validation Loss*: 11.03459, \n",
            "Training Acc: 0.85887, Validation Acc: 0.76245\n",
            "Epoch: 151, Training Loss*: 5.81024, Validation Loss*: 10.71661, \n",
            "Training Acc: 0.85958, Validation Acc: 0.76102\n",
            "Epoch: 152, Training Loss*: 5.79951, Validation Loss*: 11.01211, \n",
            "Training Acc: 0.85923, Validation Acc: 0.76671\n",
            "Epoch: 153, Training Loss*: 5.74290, Validation Loss*: 11.01638, \n",
            "Training Acc: 0.85709, Validation Acc: 0.76387\n",
            "Epoch: 154, Training Loss*: 5.74581, Validation Loss*: 10.97212, \n",
            "Training Acc: 0.86349, Validation Acc: 0.76529\n",
            "Epoch: 155, Training Loss*: 5.71399, Validation Loss*: 11.20745, \n",
            "Training Acc: 0.86633, Validation Acc: 0.76102\n",
            "Epoch: 156, Training Loss*: 5.72158, Validation Loss*: 11.09916, \n",
            "Training Acc: 0.86562, Validation Acc: 0.76245\n",
            "Epoch: 157, Training Loss*: 5.68753, Validation Loss*: 11.13666, \n",
            "Training Acc: 0.86029, Validation Acc: 0.75818\n",
            "Epoch: 158, Training Loss*: 5.69910, Validation Loss*: 11.15266, \n",
            "Training Acc: 0.86136, Validation Acc: 0.75960\n",
            "Epoch: 159, Training Loss*: 5.65417, Validation Loss*: 11.25100, \n",
            "Training Acc: 0.86598, Validation Acc: 0.75676\n",
            "Epoch: 160, Training Loss*: 5.60004, Validation Loss*: 11.32354, \n",
            "Training Acc: 0.86242, Validation Acc: 0.75818\n",
            "Epoch: 161, Training Loss*: 5.63823, Validation Loss*: 11.28903, \n",
            "Training Acc: 0.86349, Validation Acc: 0.76102\n",
            "Epoch: 162, Training Loss*: 5.51080, Validation Loss*: 11.15643, \n",
            "Training Acc: 0.86989, Validation Acc: 0.75960\n",
            "Epoch: 163, Training Loss*: 5.59082, Validation Loss*: 11.35857, \n",
            "Training Acc: 0.86456, Validation Acc: 0.76102\n",
            "Epoch: 164, Training Loss*: 5.51893, Validation Loss*: 11.43887, \n",
            "Training Acc: 0.86598, Validation Acc: 0.76245\n",
            "Epoch: 165, Training Loss*: 5.52559, Validation Loss*: 11.38554, \n",
            "Training Acc: 0.86420, Validation Acc: 0.76102\n",
            "Epoch: 166, Training Loss*: 5.44194, Validation Loss*: 11.50490, \n",
            "Training Acc: 0.86811, Validation Acc: 0.76245\n",
            "Epoch: 167, Training Loss*: 5.45656, Validation Loss*: 11.16464, \n",
            "Training Acc: 0.86669, Validation Acc: 0.75818\n",
            "Epoch: 168, Training Loss*: 5.49908, Validation Loss*: 11.46862, \n",
            "Training Acc: 0.86953, Validation Acc: 0.76102\n",
            "Epoch: 169, Training Loss*: 5.40786, Validation Loss*: 11.50737, \n",
            "Training Acc: 0.87593, Validation Acc: 0.76245\n",
            "Epoch: 170, Training Loss*: 5.33793, Validation Loss*: 11.45650, \n",
            "Training Acc: 0.87096, Validation Acc: 0.76102\n",
            "Epoch: 171, Training Loss*: 5.39863, Validation Loss*: 11.72808, \n",
            "Training Acc: 0.86918, Validation Acc: 0.76956\n",
            "Epoch: 172, Training Loss*: 5.40561, Validation Loss*: 11.61949, \n",
            "Training Acc: 0.87060, Validation Acc: 0.76671\n",
            "Epoch: 173, Training Loss*: 5.34487, Validation Loss*: 11.42162, \n",
            "Training Acc: 0.87202, Validation Acc: 0.76245\n",
            "Epoch: 174, Training Loss*: 5.33619, Validation Loss*: 11.48401, \n",
            "Training Acc: 0.87487, Validation Acc: 0.76245\n",
            "Epoch: 175, Training Loss*: 5.25216, Validation Loss*: 11.50771, \n",
            "Training Acc: 0.87522, Validation Acc: 0.76529\n",
            "Epoch: 176, Training Loss*: 5.25586, Validation Loss*: 11.44465, \n",
            "Training Acc: 0.87487, Validation Acc: 0.75960\n",
            "Epoch: 177, Training Loss*: 5.30768, Validation Loss*: 11.72214, \n",
            "Training Acc: 0.87096, Validation Acc: 0.76245\n",
            "Epoch: 178, Training Loss*: 5.23433, Validation Loss*: 11.74071, \n",
            "Training Acc: 0.87487, Validation Acc: 0.76102\n",
            "Epoch: 179, Training Loss*: 5.28200, Validation Loss*: 11.79562, \n",
            "Training Acc: 0.87558, Validation Acc: 0.75818\n",
            "Epoch: 180, Training Loss*: 5.21105, Validation Loss*: 11.71123, \n",
            "Training Acc: 0.87558, Validation Acc: 0.75818\n",
            "Epoch: 181, Training Loss*: 5.16592, Validation Loss*: 11.81078, \n",
            "Training Acc: 0.87878, Validation Acc: 0.76102\n",
            "Epoch: 182, Training Loss*: 5.24874, Validation Loss*: 11.96517, \n",
            "Training Acc: 0.87913, Validation Acc: 0.76245\n",
            "Epoch: 183, Training Loss*: 5.21950, Validation Loss*: 11.85336, \n",
            "Training Acc: 0.87167, Validation Acc: 0.75960\n",
            "Epoch: 184, Training Loss*: 5.07191, Validation Loss*: 11.90053, \n",
            "Training Acc: 0.87771, Validation Acc: 0.75960\n",
            "Epoch: 185, Training Loss*: 5.03364, Validation Loss*: 12.01182, \n",
            "Training Acc: 0.88233, Validation Acc: 0.75818\n",
            "Epoch: 186, Training Loss*: 5.04918, Validation Loss*: 12.00418, \n",
            "Training Acc: 0.88233, Validation Acc: 0.75818\n",
            "Epoch: 187, Training Loss*: 5.06421, Validation Loss*: 12.05036, \n",
            "Training Acc: 0.88162, Validation Acc: 0.75818\n",
            "Epoch: 188, Training Loss*: 5.04177, Validation Loss*: 12.03082, \n",
            "Training Acc: 0.87913, Validation Acc: 0.75960\n",
            "Epoch: 189, Training Loss*: 4.94603, Validation Loss*: 11.87956, \n",
            "Training Acc: 0.88304, Validation Acc: 0.76245\n",
            "Epoch: 190, Training Loss*: 4.99453, Validation Loss*: 12.00498, \n",
            "Training Acc: 0.87807, Validation Acc: 0.75818\n",
            "Epoch: 191, Training Loss*: 5.06026, Validation Loss*: 12.23304, \n",
            "Training Acc: 0.88127, Validation Acc: 0.75960\n",
            "Epoch: 192, Training Loss*: 5.02871, Validation Loss*: 12.15444, \n",
            "Training Acc: 0.88020, Validation Acc: 0.76245\n",
            "Epoch: 193, Training Loss*: 4.94783, Validation Loss*: 12.13611, \n",
            "Training Acc: 0.88269, Validation Acc: 0.76102\n",
            "Epoch: 194, Training Loss*: 4.93471, Validation Loss*: 12.18503, \n",
            "Training Acc: 0.88660, Validation Acc: 0.75960\n",
            "Epoch: 195, Training Loss*: 4.91272, Validation Loss*: 12.18546, \n",
            "Training Acc: 0.88624, Validation Acc: 0.75960\n",
            "Epoch: 196, Training Loss*: 4.91000, Validation Loss*: 12.49074, \n",
            "Training Acc: 0.88091, Validation Acc: 0.76102\n",
            "Epoch: 197, Training Loss*: 4.89708, Validation Loss*: 12.43482, \n",
            "Training Acc: 0.88375, Validation Acc: 0.75818\n",
            "Epoch: 198, Training Loss*: 4.89563, Validation Loss*: 12.53480, \n",
            "Training Acc: 0.88055, Validation Acc: 0.75818\n",
            "Epoch: 199, Training Loss*: 4.80344, Validation Loss*: 12.76923, \n",
            "Training Acc: 0.89122, Validation Acc: 0.75391\n",
            "Epoch: 200, Training Loss*: 4.82520, Validation Loss*: 12.25807, \n",
            "Training Acc: 0.88660, Validation Acc: 0.76529\n",
            "\n"
          ],
          "name": "stdout"
        }
      ]
    },
    {
      "cell_type": "code",
      "metadata": {
        "id": "FDLoDnfWt00g",
        "colab_type": "code",
        "outputId": "3b890599-7f33-44b0-b56c-f0c5ebb677f4",
        "colab": {
          "base_uri": "https://localhost:8080/",
          "height": 578
        }
      },
      "source": [
        "plt.figure(figsize=(16, 9))\n",
        "finished_epochs = len(train_losses)\n",
        "plt.plot(np.arange(finished_epochs), train_losses, label='Train loss')\n",
        "plt.plot(np.arange(finished_epochs), val_losses, label='Validation loss')\n",
        "plt.xlabel('epoch')\n",
        "plt.ylabel('cross entropy loss')\n",
        "plt.title('Кривая обучения')\n",
        "plt.legend()\n",
        "plt.show()"
      ],
      "execution_count": 20,
      "outputs": [
        {
          "output_type": "display_data",
          "data": {
            "image/png": "[encoded data removed]",
            "text/plain": [
              "<Figure size 1152x648 with 1 Axes>"
            ]
          },
          "metadata": {
            "tags": [],
            "needs_background": "light"
          }
        }
      ]
    },
    {
      "cell_type": "code",
      "metadata": {
        "id": "s58_lzjtVKaf",
        "colab_type": "code",
        "outputId": "f44e2cfb-e988-4f80-e0b7-5adbb65cde32",
        "colab": {
          "base_uri": "https://localhost:8080/",
          "height": 578
        }
      },
      "source": [
        "plt.figure(figsize=(16, 9))\n",
        "finished_epochs = len(train_losses)\n",
        "plt.plot(np.arange(finished_epochs), train_acc, label='Train accuracy')\n",
        "plt.plot(np.arange(finished_epochs), val_acc, label='Validation accuracy')\n",
        "plt.xlabel('epoch')\n",
        "plt.ylabel('accuracy')\n",
        "plt.title('Кривая обучения')\n",
        "plt.legend()\n",
        "plt.show()"
      ],
      "execution_count": 21,
      "outputs": [
        {
          "output_type": "display_data",
          "data": {
            "image/png": "[encoded data removed]",
            "text/plain": [
              "<Figure size 1152x648 with 1 Axes>"
            ]
          },
          "metadata": {
            "tags": [],
            "needs_background": "light"
          }
        }
      ]
    },
    {
      "cell_type": "markdown",
      "metadata": {
        "id": "7Fz15rTA2JpM",
        "colab_type": "text"
      },
      "source": [
        "Измерим качество полученной модели."
      ]
    },
    {
      "cell_type": "code",
      "metadata": {
        "id": "IBLOT51l16Xy",
        "colab_type": "code",
        "outputId": "43f4ceec-e766-4d8d-dcbe-ea178188fece",
        "colab": {
          "base_uri": "https://localhost:8080/",
          "height": 34
        }
      },
      "source": [
        "model.load_state_dict(torch.load(path_save))"
      ],
      "execution_count": 22,
      "outputs": [
        {
          "output_type": "execute_result",
          "data": {
            "text/plain": [
              "<All keys matched successfully>"
            ]
          },
          "metadata": {
            "tags": []
          },
          "execution_count": 22
        }
      ]
    },
    {
      "cell_type": "code",
      "metadata": {
        "id": "4d9A9R9X26Y2",
        "colab_type": "code",
        "colab": {}
      },
      "source": [
        "model.eval()\n",
        "\n",
        "all_preds = []\n",
        "all_answers = []\n",
        "with torch.no_grad():\n",
        "    for batch in test_iter:\n",
        "\n",
        "        texts = batch.text.to(device=device)\n",
        "        aspects = batch.aspect.to(device=device)\n",
        "        sentiments = batch.sentiment.to(device=device)\n",
        "\n",
        "        preds_scores, _ = model(texts, aspects)\n",
        "        preds = torch.max(preds_scores, dim=-1)[1]\n",
        "        all_preds += preds.tolist()\n",
        "        all_answers += sentiments.tolist()\n",
        "\n",
        "all_preds = np.array(all_preds)\n",
        "all_answers = np.array(all_answers)"
      ],
      "execution_count": 0,
      "outputs": []
    },
    {
      "cell_type": "code",
      "metadata": {
        "id": "5jwD-spq3k1I",
        "colab_type": "code",
        "outputId": "a1808e1a-29ad-4297-8027-23ac45163009",
        "colab": {
          "base_uri": "https://localhost:8080/",
          "height": 34
        }
      },
      "source": [
        "accuracy = accuracy_score(all_preds, all_answers)\n",
        "\n",
        "print(f'Accuracy: {accuracy:.5f}')"
      ],
      "execution_count": 24,
      "outputs": [
        {
          "output_type": "stream",
          "text": [
            "Accuracy: 0.81912\n"
          ],
          "name": "stdout"
        }
      ]
    },
    {
      "cell_type": "markdown",
      "metadata": {
        "id": "loI8yuPh9WZ-",
        "colab_type": "text"
      },
      "source": [
        "### Какие были эксперименты\n",
        "\n",
        "1. Установка Dropout перед выходом.\n",
        "2. Пробовал сменить нелинейные функции, оказалось, что tanh работал в основном лучше.\n",
        "3. Большое улучшение дал BatchNorm + Dropout внутри Attention."
      ]
    }
  ]
}