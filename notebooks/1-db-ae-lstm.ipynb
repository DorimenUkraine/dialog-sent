{
  "nbformat": 4,
  "nbformat_minor": 0,
  "metadata": {
    "colab": {
      "name": "1-db-ae-lstm.ipynb",
      "provenance": [],
      "collapsed_sections": [],
      "toc_visible": true
    },
    "kernelspec": {
      "name": "python3",
      "display_name": "Python 3"
    },
    "accelerator": "GPU",
    "widgets": {
      "application/vnd.jupyter.widget-state+json": {
        "b0d261fbeb84455fb79448a0096f013e": {
          "model_module": "@jupyter-widgets/controls",
          "model_name": "HBoxModel",
          "state": {
            "_view_name": "HBoxView",
            "_dom_classes": [],
            "_model_name": "HBoxModel",
            "_view_module": "@jupyter-widgets/controls",
            "_model_module_version": "1.5.0",
            "_view_count": null,
            "_view_module_version": "1.5.0",
            "box_style": "",
            "layout": "IPY_MODEL_1c1a6a6579a9435da6a581c1dddd1e6b",
            "_model_module": "@jupyter-widgets/controls",
            "children": [
              "IPY_MODEL_294029acedda4358acbc06e59c537b2d",
              "IPY_MODEL_4789e5d0f7f04988a2c141b9a5789623"
            ]
          }
        },
        "1c1a6a6579a9435da6a581c1dddd1e6b": {
          "model_module": "@jupyter-widgets/base",
          "model_name": "LayoutModel",
          "state": {
            "_view_name": "LayoutView",
            "grid_template_rows": null,
            "right": null,
            "justify_content": null,
            "_view_module": "@jupyter-widgets/base",
            "overflow": null,
            "_model_module_version": "1.2.0",
            "_view_count": null,
            "flex_flow": null,
            "width": null,
            "min_width": null,
            "border": null,
            "align_items": null,
            "bottom": null,
            "_model_module": "@jupyter-widgets/base",
            "top": null,
            "grid_column": null,
            "overflow_y": null,
            "overflow_x": null,
            "grid_auto_flow": null,
            "grid_area": null,
            "grid_template_columns": null,
            "flex": null,
            "_model_name": "LayoutModel",
            "justify_items": null,
            "grid_row": null,
            "max_height": null,
            "align_content": null,
            "visibility": null,
            "align_self": null,
            "height": null,
            "min_height": null,
            "padding": null,
            "grid_auto_rows": null,
            "grid_gap": null,
            "max_width": null,
            "order": null,
            "_view_module_version": "1.2.0",
            "grid_template_areas": null,
            "object_position": null,
            "object_fit": null,
            "grid_auto_columns": null,
            "margin": null,
            "display": null,
            "left": null
          }
        },
        "294029acedda4358acbc06e59c537b2d": {
          "model_module": "@jupyter-widgets/controls",
          "model_name": "IntProgressModel",
          "state": {
            "_view_name": "ProgressView",
            "style": "IPY_MODEL_0ac6f10132e3477996ecfedeb4fa5790",
            "_dom_classes": [],
            "description": "100%",
            "_model_name": "IntProgressModel",
            "bar_style": "success",
            "max": 125,
            "_view_module": "@jupyter-widgets/controls",
            "_model_module_version": "1.5.0",
            "value": 125,
            "_view_count": null,
            "_view_module_version": "1.5.0",
            "orientation": "horizontal",
            "min": 0,
            "description_tooltip": null,
            "_model_module": "@jupyter-widgets/controls",
            "layout": "IPY_MODEL_d3e89d9b8b604401948899968d300a65"
          }
        },
        "4789e5d0f7f04988a2c141b9a5789623": {
          "model_module": "@jupyter-widgets/controls",
          "model_name": "HTMLModel",
          "state": {
            "_view_name": "HTMLView",
            "style": "IPY_MODEL_9a2c77830c484aa085759f18a001599b",
            "_dom_classes": [],
            "description": "",
            "_model_name": "HTMLModel",
            "placeholder": "​",
            "_view_module": "@jupyter-widgets/controls",
            "_model_module_version": "1.5.0",
            "value": " 125/125 [00:45&lt;00:00,  2.75it/s]",
            "_view_count": null,
            "_view_module_version": "1.5.0",
            "description_tooltip": null,
            "_model_module": "@jupyter-widgets/controls",
            "layout": "IPY_MODEL_1ddafbc1aa944123b16aefba61873b71"
          }
        },
        "0ac6f10132e3477996ecfedeb4fa5790": {
          "model_module": "@jupyter-widgets/controls",
          "model_name": "ProgressStyleModel",
          "state": {
            "_view_name": "StyleView",
            "_model_name": "ProgressStyleModel",
            "description_width": "initial",
            "_view_module": "@jupyter-widgets/base",
            "_model_module_version": "1.5.0",
            "_view_count": null,
            "_view_module_version": "1.2.0",
            "bar_color": null,
            "_model_module": "@jupyter-widgets/controls"
          }
        },
        "d3e89d9b8b604401948899968d300a65": {
          "model_module": "@jupyter-widgets/base",
          "model_name": "LayoutModel",
          "state": {
            "_view_name": "LayoutView",
            "grid_template_rows": null,
            "right": null,
            "justify_content": null,
            "_view_module": "@jupyter-widgets/base",
            "overflow": null,
            "_model_module_version": "1.2.0",
            "_view_count": null,
            "flex_flow": null,
            "width": null,
            "min_width": null,
            "border": null,
            "align_items": null,
            "bottom": null,
            "_model_module": "@jupyter-widgets/base",
            "top": null,
            "grid_column": null,
            "overflow_y": null,
            "overflow_x": null,
            "grid_auto_flow": null,
            "grid_area": null,
            "grid_template_columns": null,
            "flex": null,
            "_model_name": "LayoutModel",
            "justify_items": null,
            "grid_row": null,
            "max_height": null,
            "align_content": null,
            "visibility": null,
            "align_self": null,
            "height": null,
            "min_height": null,
            "padding": null,
            "grid_auto_rows": null,
            "grid_gap": null,
            "max_width": null,
            "order": null,
            "_view_module_version": "1.2.0",
            "grid_template_areas": null,
            "object_position": null,
            "object_fit": null,
            "grid_auto_columns": null,
            "margin": null,
            "display": null,
            "left": null
          }
        },
        "9a2c77830c484aa085759f18a001599b": {
          "model_module": "@jupyter-widgets/controls",
          "model_name": "DescriptionStyleModel",
          "state": {
            "_view_name": "StyleView",
            "_model_name": "DescriptionStyleModel",
            "description_width": "",
            "_view_module": "@jupyter-widgets/base",
            "_model_module_version": "1.5.0",
            "_view_count": null,
            "_view_module_version": "1.2.0",
            "_model_module": "@jupyter-widgets/controls"
          }
        },
        "1ddafbc1aa944123b16aefba61873b71": {
          "model_module": "@jupyter-widgets/base",
          "model_name": "LayoutModel",
          "state": {
            "_view_name": "LayoutView",
            "grid_template_rows": null,
            "right": null,
            "justify_content": null,
            "_view_module": "@jupyter-widgets/base",
            "overflow": null,
            "_model_module_version": "1.2.0",
            "_view_count": null,
            "flex_flow": null,
            "width": null,
            "min_width": null,
            "border": null,
            "align_items": null,
            "bottom": null,
            "_model_module": "@jupyter-widgets/base",
            "top": null,
            "grid_column": null,
            "overflow_y": null,
            "overflow_x": null,
            "grid_auto_flow": null,
            "grid_area": null,
            "grid_template_columns": null,
            "flex": null,
            "_model_name": "LayoutModel",
            "justify_items": null,
            "grid_row": null,
            "max_height": null,
            "align_content": null,
            "visibility": null,
            "align_self": null,
            "height": null,
            "min_height": null,
            "padding": null,
            "grid_auto_rows": null,
            "grid_gap": null,
            "max_width": null,
            "order": null,
            "_view_module_version": "1.2.0",
            "grid_template_areas": null,
            "object_position": null,
            "object_fit": null,
            "grid_auto_columns": null,
            "margin": null,
            "display": null,
            "left": null
          }
        }
      }
    }
  },
  "cells": [
    {
      "cell_type": "markdown",
      "metadata": {
        "id": "4RoA7uzc6-Jj",
        "colab_type": "text"
      },
      "source": [
        "# LSTM with Aspect Embedding\n",
        "\n",
        "В этом ноутбуке мы исследуем применение модели LSTM with Aspect Embedding (AE-LSTM) для решения задачи аспектного анализа тональности. В качестве основы мы берем [статью](https://www.aclweb.org/anthology/D16-1058.pdf)."
      ]
    },
    {
      "cell_type": "code",
      "metadata": {
        "id": "shE3aepx6kg7",
        "colab_type": "code",
        "outputId": "2b24a8b9-022e-4847-c60b-4f8a0bf373fd",
        "colab": {
          "base_uri": "https://localhost:8080/",
          "height": 72
        }
      },
      "source": [
        "import os\n",
        "import zipfile\n",
        "import random\n",
        "\n",
        "import pandas as pd\n",
        "import numpy as np\n",
        "import torch\n",
        "import gensim\n",
        "import matplotlib.pyplot as plt\n",
        "import seaborn as sns\n",
        "import bs4\n",
        "\n",
        "from tqdm.notebook import tqdm\n",
        "from sklearn.metrics import accuracy_score\n",
        "\n",
        "import torch.nn as nn\n",
        "import torch.nn.functional as F\n",
        "import torch.optim as optim\n",
        "import torchtext\n",
        "from torch.utils.data import Dataset as TorchDataset\n",
        "from torch.utils.data import DataLoader\n",
        "\n",
        "from google.colab import drive\n",
        "\n",
        "USE_GOOGLE_DRIVE = True\n",
        "\n",
        "sns.set(font_scale=1.2)"
      ],
      "execution_count": 0,
      "outputs": [
        {
          "output_type": "stream",
          "text": [
            "/usr/local/lib/python3.6/dist-packages/statsmodels/tools/_testing.py:19: FutureWarning: pandas.util.testing is deprecated. Use the functions in the public API at pandas.testing instead.\n",
            "  import pandas.util.testing as tm\n"
          ],
          "name": "stderr"
        }
      ]
    },
    {
      "cell_type": "markdown",
      "metadata": {
        "id": "s6K05cSD71kI",
        "colab_type": "text"
      },
      "source": [
        "Примонтируем наш гугл-диск, если мы решили его использовать."
      ]
    },
    {
      "cell_type": "code",
      "metadata": {
        "id": "1MBzNx9n7wtX",
        "colab_type": "code",
        "outputId": "7051a0d9-f198-46e8-b69f-77d9f2b395ef",
        "colab": {
          "base_uri": "https://localhost:8080/",
          "height": 34
        }
      },
      "source": [
        "if USE_GOOGLE_DRIVE:\n",
        "    drive.mount('/content/drive')\n",
        "    PATH_PREFIX = 'drive/My Drive/NLP/dialog-sent'\n",
        "else:\n",
        "    PATH_PREFIX = '..'"
      ],
      "execution_count": 0,
      "outputs": [
        {
          "output_type": "stream",
          "text": [
            "Drive already mounted at /content/drive; to attempt to forcibly remount, call drive.mount(\"/content/drive\", force_remount=True).\n"
          ],
          "name": "stdout"
        }
      ]
    },
    {
      "cell_type": "code",
      "metadata": {
        "id": "_ICV0PvCteP8",
        "colab_type": "code",
        "colab": {}
      },
      "source": [
        "DATA_PREFIX = os.path.join(PATH_PREFIX, 'data')\n",
        "MODEL_PREFIX = os.path.join(PATH_PREFIX, 'models')"
      ],
      "execution_count": 0,
      "outputs": []
    },
    {
      "cell_type": "markdown",
      "metadata": {
        "id": "d1rEg_dzCv2Z",
        "colab_type": "text"
      },
      "source": [
        "Зададим девайс для обучения."
      ]
    },
    {
      "cell_type": "code",
      "metadata": {
        "id": "ssNUbPpPCvOf",
        "colab_type": "code",
        "outputId": "42e2f33e-3145-4d5f-ed3f-16cbbec82767",
        "colab": {
          "base_uri": "https://localhost:8080/",
          "height": 34
        }
      },
      "source": [
        "USE_GPU = True\n",
        "\n",
        "if USE_GPU and torch.cuda.is_available():\n",
        "    device = torch.device('cuda')\n",
        "else:\n",
        "    device = torch.device('cpu')\n",
        "\n",
        "print('using device:', device)"
      ],
      "execution_count": 0,
      "outputs": [
        {
          "output_type": "stream",
          "text": [
            "using device: cuda\n"
          ],
          "name": "stdout"
        }
      ]
    },
    {
      "cell_type": "markdown",
      "metadata": {
        "id": "yHTGiWVXC13E",
        "colab_type": "text"
      },
      "source": [
        "Проинициализируем везде генераторы случайных чисел."
      ]
    },
    {
      "cell_type": "code",
      "metadata": {
        "id": "gUC3PTVlC1JU",
        "colab_type": "code",
        "colab": {}
      },
      "source": [
        "random_seed = 42\n",
        "random_state = random_seed\n",
        "\n",
        "def set_seed_everywhere(seed, cuda):\n",
        "    random.seed(seed)\n",
        "    np.random.seed(seed)\n",
        "    torch.manual_seed(seed)\n",
        "    torch.backends.cudnn.deterministic = True\n",
        "    torch.backends.cudnn.benchmark = False\n",
        "    if cuda:\n",
        "        torch.cuda.manual_seed_all(seed)\n",
        "\n",
        "set_seed_everywhere(random_seed, USE_GPU)"
      ],
      "execution_count": 0,
      "outputs": []
    },
    {
      "cell_type": "markdown",
      "metadata": {
        "id": "b8UaRLgV9BTu",
        "colab_type": "text"
      },
      "source": [
        "## Повторение результатов статьи\n",
        "\n",
        "Для того, чтобы применить модель к нашей конкретной задаче для начала надо повторить результаты исследуемой статьи. Будем это делать на примере датасета с [отзывами на рестораны](http://alt.qcri.org/semeval2014/task4/index.php?id=data-and-tools).\n"
      ]
    },
    {
      "cell_type": "markdown",
      "metadata": {
        "id": "IFqQNvroDFz0",
        "colab_type": "text"
      },
      "source": [
        "### Данные\n",
        "\n",
        "Теперь надо разобраться с данными. Мы используем отзывы о рестранах. Согласно аннотации к датасету используются следующие аспекты:\n",
        "\n",
        "* food\n",
        "* price\n",
        "* service\n",
        "* ambience\n",
        "* anecdotes (sentences describing the reviewer’s personal experience or context, but that do not usually provide information on the restaurant quality e.g. “I knew upon visiting\n",
        "NYC that I wanted to try an original deli”)\n",
        "* miscellaneous (sentences that do not belong to the other five categories including sentences that are general recommendations e.g. “Your friends will thank you for introducing them to this gem!”)\n",
        "\n",
        "Эта же аннотация говорит о том, какие существуют тональности:\n",
        "* positive\n",
        "* negative\n",
        "* conflict (both positive and negative sentiment)\n",
        "* neutral (neither positive nor negative sentiment)\n",
        "\n",
        "Помимо этого существует такой объект, как термин аспекта (aspect term) -- это какое-то слово или выражение, которое указывает на то, в каком слове выражается тональность к конкретному аспекту. \n",
        "\n",
        "Существует два вида задач для аспектного анализа тональности:\n",
        "* Aspect-level Classification -- определить тональность для каждого аспекта.\n",
        "* Aspect-Term-level Classification -- определить термины для каждого аспекта, а затем определить их тональность.\n",
        "\n",
        "Наша финальная задача относится к первой категории, а значит нам не нужны данные о терминах аспекта."
      ]
    },
    {
      "cell_type": "markdown",
      "metadata": {
        "id": "C6elfxM8FD2A",
        "colab_type": "text"
      },
      "source": [
        "Данные предоставлены в формате xml. Для работы с ними будем использовать beautiful soup."
      ]
    },
    {
      "cell_type": "code",
      "metadata": {
        "id": "hWs4aYnabrzk",
        "colab_type": "code",
        "colab": {}
      },
      "source": [
        "def xml2pandas(data_path):\n",
        "    \"\"\"Перевод исходного датасета в формате xml в pandas-датафрейм.\"\"\"\n",
        "    aspect_categories = ['food', 'price', 'service', 'ambience', \n",
        "                        'anecdotes/miscellaneous']\n",
        "    num_aspects = len(aspect_categories)\n",
        "    data_dict = {'sentence_id': [], 'text': []}\n",
        "    data_dict.update({key: [] for key in aspect_categories})\n",
        "\n",
        "    sent2class = {'none': 0, 'neutral': 1, 'positive': 2, 'negative': 3, \n",
        "                'conflict': 4}\n",
        "\n",
        "    with open(data_path, 'r') as inf:\n",
        "        contents = inf.read()\n",
        "        soup = bs4.BeautifulSoup(contents, 'xml')\n",
        "        for sentence in soup.find_all('sentence'):\n",
        "            data_dict['sentence_id'].append(sentence['id'])\n",
        "\n",
        "            text = sentence.find('text').text\n",
        "            data_dict['text'].append(text)\n",
        "\n",
        "            categories = sentence.find('aspectCategories').find_all(\n",
        "                'aspectCategory'\n",
        "            )\n",
        "            for aspect_category in aspect_categories:\n",
        "                data_dict[aspect_category].append(0)\n",
        "            \n",
        "            for aspect_category in categories:\n",
        "                data_dict[\n",
        "                    aspect_category['category']\n",
        "                ][-1] = sent2class[aspect_category['polarity']]\n",
        "\n",
        "    data = pd.DataFrame(data_dict)\n",
        "    return data"
      ],
      "execution_count": 0,
      "outputs": []
    },
    {
      "cell_type": "code",
      "metadata": {
        "id": "HQPj-a1tDGJY",
        "colab_type": "code",
        "colab": {}
      },
      "source": [
        "data_train_raw_path = os.path.join(\n",
        "    DATA_PREFIX, 'raw', \"SemEval'14-ABSA-TrainData_v2 & AnnotationGuidelines\", \n",
        "    'Restaurants_Train_v2.xml'\n",
        ")\n",
        "\n",
        "data_test_raw_path = os.path.join(\n",
        "    DATA_PREFIX, 'raw', 'ABSA_Gold_TestData', 'Restaurants_Test_Gold.xml'\n",
        ")\n",
        "\n",
        "aspect_categories = ['food', 'price', 'service', 'ambience', \n",
        "                     'anecdotes/miscellaneous']\n",
        "num_aspects = len(aspect_categories)\n",
        "data_train_raw = xml2pandas(data_train_raw_path)\n",
        "data_test_raw = xml2pandas(data_test_raw_path)"
      ],
      "execution_count": 0,
      "outputs": []
    },
    {
      "cell_type": "code",
      "metadata": {
        "id": "ihfLZoATOIqo",
        "colab_type": "code",
        "outputId": "4e58bb51-d2f7-49de-a2ba-684c62f10ad6",
        "colab": {
          "base_uri": "https://localhost:8080/",
          "height": 206
        }
      },
      "source": [
        "data_train_raw.head()"
      ],
      "execution_count": 0,
      "outputs": [
        {
          "output_type": "execute_result",
          "data": {
            "text/html": [
              "<div>\n",
              "<style scoped>\n",
              "    .dataframe tbody tr th:only-of-type {\n",
              "        vertical-align: middle;\n",
              "    }\n",
              "\n",
              "    .dataframe tbody tr th {\n",
              "        vertical-align: top;\n",
              "    }\n",
              "\n",
              "    .dataframe thead th {\n",
              "        text-align: right;\n",
              "    }\n",
              "</style>\n",
              "<table border=\"1\" class=\"dataframe\">\n",
              "  <thead>\n",
              "    <tr style=\"text-align: right;\">\n",
              "      <th></th>\n",
              "      <th>sentence_id</th>\n",
              "      <th>text</th>\n",
              "      <th>food</th>\n",
              "      <th>price</th>\n",
              "      <th>service</th>\n",
              "      <th>ambience</th>\n",
              "      <th>anecdotes/miscellaneous</th>\n",
              "    </tr>\n",
              "  </thead>\n",
              "  <tbody>\n",
              "    <tr>\n",
              "      <th>0</th>\n",
              "      <td>3121</td>\n",
              "      <td>But the staff was so horrible to us.</td>\n",
              "      <td>0</td>\n",
              "      <td>0</td>\n",
              "      <td>3</td>\n",
              "      <td>0</td>\n",
              "      <td>0</td>\n",
              "    </tr>\n",
              "    <tr>\n",
              "      <th>1</th>\n",
              "      <td>2777</td>\n",
              "      <td>To be completely fair, the only redeeming fact...</td>\n",
              "      <td>2</td>\n",
              "      <td>0</td>\n",
              "      <td>0</td>\n",
              "      <td>0</td>\n",
              "      <td>3</td>\n",
              "    </tr>\n",
              "    <tr>\n",
              "      <th>2</th>\n",
              "      <td>1634</td>\n",
              "      <td>The food is uniformly exceptional, with a very...</td>\n",
              "      <td>2</td>\n",
              "      <td>0</td>\n",
              "      <td>0</td>\n",
              "      <td>0</td>\n",
              "      <td>0</td>\n",
              "    </tr>\n",
              "    <tr>\n",
              "      <th>3</th>\n",
              "      <td>2534</td>\n",
              "      <td>Where Gabriela personaly greets you and recomm...</td>\n",
              "      <td>0</td>\n",
              "      <td>0</td>\n",
              "      <td>2</td>\n",
              "      <td>0</td>\n",
              "      <td>0</td>\n",
              "    </tr>\n",
              "    <tr>\n",
              "      <th>4</th>\n",
              "      <td>583</td>\n",
              "      <td>For those that go once and don't enjoy it, all...</td>\n",
              "      <td>0</td>\n",
              "      <td>0</td>\n",
              "      <td>0</td>\n",
              "      <td>0</td>\n",
              "      <td>2</td>\n",
              "    </tr>\n",
              "  </tbody>\n",
              "</table>\n",
              "</div>"
            ],
            "text/plain": [
              "  sentence_id  ... anecdotes/miscellaneous\n",
              "0        3121  ...                       0\n",
              "1        2777  ...                       3\n",
              "2        1634  ...                       0\n",
              "3        2534  ...                       0\n",
              "4         583  ...                       2\n",
              "\n",
              "[5 rows x 7 columns]"
            ]
          },
          "metadata": {
            "tags": []
          },
          "execution_count": 8
        }
      ]
    },
    {
      "cell_type": "code",
      "metadata": {
        "id": "CMiztqHjcuEd",
        "colab_type": "code",
        "outputId": "cf68083d-2736-49cf-ccba-4ce640d0f638",
        "colab": {
          "base_uri": "https://localhost:8080/",
          "height": 206
        }
      },
      "source": [
        "data_test_raw.head()"
      ],
      "execution_count": 0,
      "outputs": [
        {
          "output_type": "execute_result",
          "data": {
            "text/html": [
              "<div>\n",
              "<style scoped>\n",
              "    .dataframe tbody tr th:only-of-type {\n",
              "        vertical-align: middle;\n",
              "    }\n",
              "\n",
              "    .dataframe tbody tr th {\n",
              "        vertical-align: top;\n",
              "    }\n",
              "\n",
              "    .dataframe thead th {\n",
              "        text-align: right;\n",
              "    }\n",
              "</style>\n",
              "<table border=\"1\" class=\"dataframe\">\n",
              "  <thead>\n",
              "    <tr style=\"text-align: right;\">\n",
              "      <th></th>\n",
              "      <th>sentence_id</th>\n",
              "      <th>text</th>\n",
              "      <th>food</th>\n",
              "      <th>price</th>\n",
              "      <th>service</th>\n",
              "      <th>ambience</th>\n",
              "      <th>anecdotes/miscellaneous</th>\n",
              "    </tr>\n",
              "  </thead>\n",
              "  <tbody>\n",
              "    <tr>\n",
              "      <th>0</th>\n",
              "      <td>32897564#894393#2</td>\n",
              "      <td>The bread is top notch as well.</td>\n",
              "      <td>2</td>\n",
              "      <td>0</td>\n",
              "      <td>0</td>\n",
              "      <td>0</td>\n",
              "      <td>0</td>\n",
              "    </tr>\n",
              "    <tr>\n",
              "      <th>1</th>\n",
              "      <td>33070600#670328#0</td>\n",
              "      <td>I have to say they have one of the fastest del...</td>\n",
              "      <td>0</td>\n",
              "      <td>0</td>\n",
              "      <td>2</td>\n",
              "      <td>0</td>\n",
              "      <td>0</td>\n",
              "    </tr>\n",
              "    <tr>\n",
              "      <th>2</th>\n",
              "      <td>33070600#670328#2</td>\n",
              "      <td>Food is always fresh and hot- ready to eat!</td>\n",
              "      <td>2</td>\n",
              "      <td>0</td>\n",
              "      <td>0</td>\n",
              "      <td>0</td>\n",
              "      <td>0</td>\n",
              "    </tr>\n",
              "    <tr>\n",
              "      <th>3</th>\n",
              "      <td>36244464#949326#5</td>\n",
              "      <td>Did I mention that the coffee is OUTSTANDING?</td>\n",
              "      <td>2</td>\n",
              "      <td>0</td>\n",
              "      <td>0</td>\n",
              "      <td>0</td>\n",
              "      <td>0</td>\n",
              "    </tr>\n",
              "    <tr>\n",
              "      <th>4</th>\n",
              "      <td>32894246#870052#0</td>\n",
              "      <td>Certainly not the best sushi in New York, howe...</td>\n",
              "      <td>4</td>\n",
              "      <td>0</td>\n",
              "      <td>0</td>\n",
              "      <td>2</td>\n",
              "      <td>0</td>\n",
              "    </tr>\n",
              "  </tbody>\n",
              "</table>\n",
              "</div>"
            ],
            "text/plain": [
              "         sentence_id  ... anecdotes/miscellaneous\n",
              "0  32897564#894393#2  ...                       0\n",
              "1  33070600#670328#0  ...                       0\n",
              "2  33070600#670328#2  ...                       0\n",
              "3  36244464#949326#5  ...                       0\n",
              "4  32894246#870052#0  ...                       0\n",
              "\n",
              "[5 rows x 7 columns]"
            ]
          },
          "metadata": {
            "tags": []
          },
          "execution_count": 9
        }
      ]
    },
    {
      "cell_type": "markdown",
      "metadata": {
        "id": "C2gRZxrsTYI_",
        "colab_type": "text"
      },
      "source": [
        "Чтобы правильно обучать нашу модель придется упростить данные до трех столбцов: `text`, `aspect`, `sentiment`. Согласно статье, там рассматриваются только классы: positive, negative, neutral. Тоже будем так делать, чтобы результаты получились сравнимыми (классы $1, 2, 3$)."
      ]
    },
    {
      "cell_type": "code",
      "metadata": {
        "id": "GZrO8sqSdZQ9",
        "colab_type": "code",
        "colab": {}
      },
      "source": [
        "def raw2processed(data, remain_sentiments, filename):\n",
        "    \"\"\"Приведение данных к удобному для обучения и тестирования виду.\"\"\"\n",
        "    data_processed_dict = {'text': [], 'aspect': [], 'sentiment': []}\n",
        "    aspect_categories = list(data.columns[2:])\n",
        "    for i, row in data.iterrows():\n",
        "        for aspect_category in aspect_categories:\n",
        "            data_processed_dict['text'].append(row['text'])\n",
        "            data_processed_dict['aspect'].append(aspect_category)\n",
        "            data_processed_dict['sentiment'].append(row[aspect_category])\n",
        "\n",
        "    data_processed = pd.DataFrame(data_processed_dict)\n",
        "    data_processed = data_processed[\n",
        "        data_processed.sentiment.isin(remain_sentiments)\n",
        "    ]\n",
        "\n",
        "    data_path = os.path.join(DATA_PREFIX, 'processed', filename)\n",
        "    data_processed.to_csv(data_path, index=False)\n",
        "    return data_processed"
      ],
      "execution_count": 0,
      "outputs": []
    },
    {
      "cell_type": "code",
      "metadata": {
        "id": "s9vRnXZyTrRA",
        "colab_type": "code",
        "outputId": "b599a599-f349-4b7e-efd8-997854fa2db5",
        "colab": {
          "base_uri": "https://localhost:8080/",
          "height": 363
        }
      },
      "source": [
        "remain_sentiments = [1, 2, 3]\n",
        "data_train = raw2processed(data_train_raw, remain_sentiments, \n",
        "                           'restaurants_train.csv')\n",
        "data_test = raw2processed(data_test_raw, remain_sentiments, \n",
        "                          'restaurants_test.csv')\n",
        "data_all = pd.concat((data_train, data_test), ignore_index=True)\n",
        "data_all.to_csv(os.path.join(DATA_PREFIX, 'processed', 'restaurants.csv'), \n",
        "                index=False)\n",
        "data_train.head(10)"
      ],
      "execution_count": 0,
      "outputs": [
        {
          "output_type": "execute_result",
          "data": {
            "text/html": [
              "<div>\n",
              "<style scoped>\n",
              "    .dataframe tbody tr th:only-of-type {\n",
              "        vertical-align: middle;\n",
              "    }\n",
              "\n",
              "    .dataframe tbody tr th {\n",
              "        vertical-align: top;\n",
              "    }\n",
              "\n",
              "    .dataframe thead th {\n",
              "        text-align: right;\n",
              "    }\n",
              "</style>\n",
              "<table border=\"1\" class=\"dataframe\">\n",
              "  <thead>\n",
              "    <tr style=\"text-align: right;\">\n",
              "      <th></th>\n",
              "      <th>text</th>\n",
              "      <th>aspect</th>\n",
              "      <th>sentiment</th>\n",
              "    </tr>\n",
              "  </thead>\n",
              "  <tbody>\n",
              "    <tr>\n",
              "      <th>2</th>\n",
              "      <td>But the staff was so horrible to us.</td>\n",
              "      <td>service</td>\n",
              "      <td>3</td>\n",
              "    </tr>\n",
              "    <tr>\n",
              "      <th>5</th>\n",
              "      <td>To be completely fair, the only redeeming fact...</td>\n",
              "      <td>food</td>\n",
              "      <td>2</td>\n",
              "    </tr>\n",
              "    <tr>\n",
              "      <th>9</th>\n",
              "      <td>To be completely fair, the only redeeming fact...</td>\n",
              "      <td>anecdotes/miscellaneous</td>\n",
              "      <td>3</td>\n",
              "    </tr>\n",
              "    <tr>\n",
              "      <th>10</th>\n",
              "      <td>The food is uniformly exceptional, with a very...</td>\n",
              "      <td>food</td>\n",
              "      <td>2</td>\n",
              "    </tr>\n",
              "    <tr>\n",
              "      <th>17</th>\n",
              "      <td>Where Gabriela personaly greets you and recomm...</td>\n",
              "      <td>service</td>\n",
              "      <td>2</td>\n",
              "    </tr>\n",
              "    <tr>\n",
              "      <th>24</th>\n",
              "      <td>For those that go once and don't enjoy it, all...</td>\n",
              "      <td>anecdotes/miscellaneous</td>\n",
              "      <td>2</td>\n",
              "    </tr>\n",
              "    <tr>\n",
              "      <th>25</th>\n",
              "      <td>Not only was the food outstanding, but the lit...</td>\n",
              "      <td>food</td>\n",
              "      <td>2</td>\n",
              "    </tr>\n",
              "    <tr>\n",
              "      <th>27</th>\n",
              "      <td>Not only was the food outstanding, but the lit...</td>\n",
              "      <td>service</td>\n",
              "      <td>2</td>\n",
              "    </tr>\n",
              "    <tr>\n",
              "      <th>30</th>\n",
              "      <td>It is very overpriced and not very tasty.</td>\n",
              "      <td>food</td>\n",
              "      <td>3</td>\n",
              "    </tr>\n",
              "    <tr>\n",
              "      <th>31</th>\n",
              "      <td>It is very overpriced and not very tasty.</td>\n",
              "      <td>price</td>\n",
              "      <td>3</td>\n",
              "    </tr>\n",
              "  </tbody>\n",
              "</table>\n",
              "</div>"
            ],
            "text/plain": [
              "                                                 text  ... sentiment\n",
              "2                But the staff was so horrible to us.  ...         3\n",
              "5   To be completely fair, the only redeeming fact...  ...         2\n",
              "9   To be completely fair, the only redeeming fact...  ...         3\n",
              "10  The food is uniformly exceptional, with a very...  ...         2\n",
              "17  Where Gabriela personaly greets you and recomm...  ...         2\n",
              "24  For those that go once and don't enjoy it, all...  ...         2\n",
              "25  Not only was the food outstanding, but the lit...  ...         2\n",
              "27  Not only was the food outstanding, but the lit...  ...         2\n",
              "30          It is very overpriced and not very tasty.  ...         3\n",
              "31          It is very overpriced and not very tasty.  ...         3\n",
              "\n",
              "[10 rows x 3 columns]"
            ]
          },
          "metadata": {
            "tags": []
          },
          "execution_count": 11
        }
      ]
    },
    {
      "cell_type": "markdown",
      "metadata": {
        "id": "n9rXoYOGVIEF",
        "colab_type": "text"
      },
      "source": [
        "Теперь определим поля в датасете для обучения."
      ]
    },
    {
      "cell_type": "code",
      "metadata": {
        "id": "mYemqb_MTrZL",
        "colab_type": "code",
        "colab": {}
      },
      "source": [
        "TEXT = torchtext.data.Field(\n",
        "    tokenize='spacy', batch_first=True, init_token='<begin>', \n",
        "    eos_token='<end>', lower=True\n",
        ")\n",
        "ASPECT = torchtext.data.Field(sequential=False, batch_first=True)\n",
        "SENTIMENT = torchtext.data.LabelField(batch_first=True)"
      ],
      "execution_count": 0,
      "outputs": []
    },
    {
      "cell_type": "code",
      "metadata": {
        "id": "SMQlJoOGWrQo",
        "colab_type": "code",
        "colab": {}
      },
      "source": [
        "fields = [('text', TEXT), ('aspect', ASPECT), ('sentiment', SENTIMENT)]"
      ],
      "execution_count": 0,
      "outputs": []
    },
    {
      "cell_type": "code",
      "metadata": {
        "id": "o5NtLnNiWrUp",
        "colab_type": "code",
        "outputId": "150319d5-552d-4427-ca7c-5c445fb916f8",
        "colab": {
          "base_uri": "https://localhost:8080/",
          "height": 34
        }
      },
      "source": [
        "data_train_path = os.path.join(DATA_PREFIX, 'processed', 'restaurants_train.csv')\n",
        "data_test_path = os.path.join(DATA_PREFIX, 'processed', 'restaurants_test.csv')\n",
        "data_all_path = os.path.join(DATA_PREFIX, 'processed', 'restaurants.csv')\n",
        "\n",
        "train_data_all = torchtext.data.TabularDataset(\n",
        "    path=data_train_path, format = 'csv', fields=fields, skip_header=True\n",
        ")\n",
        "test_data = torchtext.data.TabularDataset(\n",
        "    path=data_test_path, format = 'csv', fields=fields, skip_header=True\n",
        ")\n",
        "data_all = torchtext.data.TabularDataset(\n",
        "    path=data_all_path, format = 'csv', fields=fields, skip_header=True\n",
        ")\n",
        "\n",
        "print(vars(train_data_all.examples[0]))"
      ],
      "execution_count": 0,
      "outputs": [
        {
          "output_type": "stream",
          "text": [
            "{'text': ['but', 'the', 'staff', 'was', 'so', 'horrible', 'to', 'us', '.'], 'aspect': 'service', 'sentiment': '3'}\n"
          ],
          "name": "stdout"
        }
      ]
    },
    {
      "cell_type": "markdown",
      "metadata": {
        "id": "MRXivWRfZjNF",
        "colab_type": "text"
      },
      "source": [
        "Разделим данные на обучение и валидацию (для early stopping)."
      ]
    },
    {
      "cell_type": "code",
      "metadata": {
        "id": "MJXx9xmyTrXU",
        "colab_type": "code",
        "colab": {}
      },
      "source": [
        "train_data, valid_data = train_data_all.split(\n",
        "    split_ratio=0.8, random_state=random.seed(random_state)\n",
        ")"
      ],
      "execution_count": 0,
      "outputs": []
    },
    {
      "cell_type": "markdown",
      "metadata": {
        "id": "YW0x0isFY1_w",
        "colab_type": "text"
      },
      "source": [
        "Построим для нашего датасета словарь. Согласно статье, эмбеддинги слов были проинициализированы при помощи GloVe, а для неизвестных слов в качестве эмбеддингов были взяты случайные векторы из $U(-\\varepsilon, \\varepsilon)$, где $\\varepsilon = 0.01$.\n"
      ]
    },
    {
      "cell_type": "code",
      "metadata": {
        "id": "ZelUdQpEaBJ5",
        "colab_type": "code",
        "colab": {}
      },
      "source": [
        "epsilon = 0.01\n",
        "vectors_cache = os.path.join(DATA_PREFIX, 'raw', 'glove')\n",
        "TEXT.build_vocab(data_all, \n",
        "                 vectors='glove.840B.300d', vectors_cache=vectors_cache,\n",
        "                 unk_init=lambda x: torch.nn.init.uniform_(x, -epsilon, epsilon))\n",
        "ASPECT.build_vocab(train_data)\n",
        "SENTIMENT.build_vocab(train_data)"
      ],
      "execution_count": 0,
      "outputs": []
    },
    {
      "cell_type": "code",
      "metadata": {
        "id": "3ayeYQzCaBOU",
        "colab_type": "code",
        "outputId": "5a918119-0c80-4462-ef95-0c87a0bd2d64",
        "colab": {
          "base_uri": "https://localhost:8080/",
          "height": 69
        }
      },
      "source": [
        "print(f'Size of TEXT vocabulary: {len(TEXT.vocab)}')\n",
        "print(f'Size of ASPECT vocabulary: {len(ASPECT.vocab)}')\n",
        "print(f'Size of SENTIMENT vocabulary: {len(SENTIMENT.vocab)}')"
      ],
      "execution_count": 0,
      "outputs": [
        {
          "output_type": "stream",
          "text": [
            "Size of TEXT vocabulary: 5041\n",
            "Size of ASPECT vocabulary: 6\n",
            "Size of SENTIMENT vocabulary: 3\n"
          ],
          "name": "stdout"
        }
      ]
    },
    {
      "cell_type": "markdown",
      "metadata": {
        "id": "PeMUrFNFgSgb",
        "colab_type": "text"
      },
      "source": [
        "Теперь напишем итератор."
      ]
    },
    {
      "cell_type": "code",
      "metadata": {
        "id": "DUYiqydfgR1A",
        "colab_type": "code",
        "colab": {}
      },
      "source": [
        "batch_size = 64\n",
        "\n",
        "train_iter, val_iter, test_iter = torchtext.data.BucketIterator.splits(\n",
        "        (train_data, valid_data, test_data),\n",
        "        batch_sizes=(batch_size, batch_size, batch_size),\n",
        "        sort=True,\n",
        "        sort_key=lambda x: len(x.text),\n",
        "        sort_within_batch=True,\n",
        "        device=device,\n",
        "        repeat=False\n",
        ")"
      ],
      "execution_count": 0,
      "outputs": []
    },
    {
      "cell_type": "markdown",
      "metadata": {
        "id": "FuqJ_M3Fg6G3",
        "colab_type": "text"
      },
      "source": [
        "### Модель"
      ]
    },
    {
      "cell_type": "markdown",
      "metadata": {
        "id": "blBavi11CigD",
        "colab_type": "text"
      },
      "source": [
        "Зададим архитектуру нашей сети."
      ]
    },
    {
      "cell_type": "code",
      "metadata": {
        "id": "MN0rbmwhCh0K",
        "colab_type": "code",
        "colab": {}
      },
      "source": [
        "class AE_LSTM(nn.Module):\n",
        "\n",
        "    def __init__(\n",
        "        self, num_aspects, embeddings_aspects_dim, hidden_dim, \n",
        "        num_sentiments, \n",
        "        vocab_size=None, embeddings_words_dim=None, embeddings_words_init=None\n",
        "    ):\n",
        "        super(AE_LSTM, self).__init__()\n",
        "\n",
        "        train_from_scratch = (vocab_size is not None \n",
        "                              and embedding_words_dim is not None)\n",
        "        use_pretrained = embeddings_words_init is not None\n",
        "        if not(train_from_scratch or use_pretrained):\n",
        "            raise ValueError('You should use pretrained vectors or '\n",
        "                             'set vocab size and embeddings dim')\n",
        "\n",
        "        if train_from_scratch:\n",
        "            self.embeddings_words = nn.Embedding(\n",
        "                vocab_size, embeddings_words_dim\n",
        "            )\n",
        "        else:\n",
        "            self.embeddings_words = nn.Embedding.from_pretrained(\n",
        "                embeddings_words_init\n",
        "            )\n",
        "            vocab_size, embeddings_words_dim = embeddings_words_init.size()\n",
        "\n",
        "        self.embeddings_aspects = nn.Embedding(\n",
        "            num_aspects, embeddings_aspects_dim\n",
        "        )\n",
        "        self.lstm = nn.LSTM(\n",
        "            embeddings_aspects_dim + embeddings_words_dim, hidden_dim,\n",
        "            batch_first=True\n",
        "        )\n",
        "        self.hidden_to_sentiments = nn.Linear(hidden_dim, num_sentiments)\n",
        "\n",
        "        # weights initializatioin\n",
        "        torch.nn.init.xavier_uniform_(self.embeddings_aspects.weight)\n",
        "        torch.nn.init.xavier_uniform_(self.hidden_to_sentiments.weight)\n",
        "        \n",
        "    def forward(self, texts, aspects, hidden=None):\n",
        "        batch_size, seq_len = texts.size()\n",
        "        # shape: [batch_size, seq_len] -> [batch_size, seq_len, embeddings_words_dim]\n",
        "        embeddings_words_out = self.embeddings_words(texts)\n",
        "        # shape: [batch_size] -> [batch_size, seq_len, embedding_aspects_dim]\n",
        "        embeddings_aspects_out = self.embeddings_aspects(aspects)\n",
        "        embeddings_aspects_out = torch.unsqueeze(embeddings_aspects_out, 1)\n",
        "        embeddings_aspects_out = torch.repeat_interleave(\n",
        "            embeddings_aspects_out, seq_len, 1\n",
        "        )\n",
        "        # shape: -> [batch_size, seq_len, embedding_words_dim + embedding_aspects_dim]\n",
        "        embeddings = torch.cat(\n",
        "            [embeddings_words_out, embeddings_aspects_out], dim=-1,\n",
        "        )\n",
        "        # shape: [batch_size, seq_len, embeddings_dim] -> [batch_size, hidden_dim]\n",
        "        lstm_out, hidden_state = self.lstm(embeddings, hidden)\n",
        "        lstm_out = lstm_out[:, -1, :]\n",
        "        # shape: [batch_size, hidden_size] -> [batch_size, num_sentiments]\n",
        "        sentiments_scores = self.hidden_to_sentiments(lstm_out)\n",
        "        return sentiments_scores, hidden_state"
      ],
      "execution_count": 0,
      "outputs": []
    },
    {
      "cell_type": "markdown",
      "metadata": {
        "id": "OTr5tdu6nl4A",
        "colab_type": "text"
      },
      "source": [
        "Возьмем параметры, как в статье: `embeddings_aspects_dim=300`, `hidden_dim=300`."
      ]
    },
    {
      "cell_type": "code",
      "metadata": {
        "id": "l_2Wskt-inX_",
        "colab_type": "code",
        "outputId": "e8145c74-c724-4f39-e3f9-c1ff91893e51",
        "colab": {
          "base_uri": "https://localhost:8080/",
          "height": 121
        }
      },
      "source": [
        "num_aspects = len(ASPECT.vocab)\n",
        "embeddings_aspects_dim = 300\n",
        "hidden_dim = 300\n",
        "num_sentiments = len(SENTIMENT.vocab)\n",
        "embeddings_words_init = TEXT.vocab.vectors\n",
        "\n",
        "set_seed_everywhere(random_seed, USE_GPU)\n",
        "model = AE_LSTM(\n",
        "    num_aspects, embeddings_aspects_dim, hidden_dim, num_sentiments, \n",
        "    embeddings_words_init=embeddings_words_init\n",
        ")\n",
        "model"
      ],
      "execution_count": 0,
      "outputs": [
        {
          "output_type": "execute_result",
          "data": {
            "text/plain": [
              "AE_LSTM(\n",
              "  (embeddings_words): Embedding(5041, 300)\n",
              "  (embeddings_aspects): Embedding(6, 300)\n",
              "  (lstm): LSTM(600, 300, batch_first=True)\n",
              "  (hidden_to_sentiments): Linear(in_features=300, out_features=3, bias=True)\n",
              ")"
            ]
          },
          "metadata": {
            "tags": []
          },
          "execution_count": 20
        }
      ]
    },
    {
      "cell_type": "markdown",
      "metadata": {
        "id": "-RPJYxF0iR5S",
        "colab_type": "text"
      },
      "source": [
        "### Тренировочный цикл\n",
        "\n",
        "Здесь мы реализуем тренировочный цикл для нашей модели. По идее нужны momentum, как в статье, равный $0.9$ для Adam установлен автоматически. Здесь же установим и коэффициент l2-регляризации для оптимизитора: $0.001$."
      ]
    },
    {
      "cell_type": "code",
      "metadata": {
        "id": "o0XG5kEsimr2",
        "colab_type": "code",
        "colab": {}
      },
      "source": [
        "model = model.to(device=device)\n",
        "learning_rate = 1e-5\n",
        "early_stopping = 1000\n",
        "grad_clipping_value = 1\n",
        "l2_coef = 1e-3\n",
        "epochs = 125\n",
        "\n",
        "opt = optim.Adam(model.parameters(), lr=learning_rate, weight_decay=l2_coef)\n",
        "scheduler = optim.lr_scheduler.StepLR(opt, step_size=10, gamma=1)\n",
        "criterion = nn.CrossEntropyLoss()\n",
        "path_save = os.path.join(MODEL_PREFIX, 'ae_lstm', 'ae_lstm.pt')"
      ],
      "execution_count": 0,
      "outputs": []
    },
    {
      "cell_type": "code",
      "metadata": {
        "id": "uhKstL-OoNJV",
        "colab_type": "code",
        "colab": {}
      },
      "source": [
        "def train_loop(train_iter, val_iter, model, opt, scheduler, criterion, epochs, \n",
        "               early_stopping):\n",
        "    train_losses = []\n",
        "    val_losses = []\n",
        "    train_acc_values = []\n",
        "    val_acc_values = []\n",
        "    best_val_loss = 10\n",
        "    best_val_acc = 0\n",
        "    not_improves = 0\n",
        "    for epoch in tqdm(range(1, epochs + 1)):\n",
        "        train_loss = 0.0\n",
        "        train_acc = 0\n",
        "        model.train() \n",
        "        for batch in train_iter: \n",
        "\n",
        "            texts = batch.text.to(device=device)\n",
        "            aspects = batch.aspect.to(device=device)\n",
        "            sentiments = batch.sentiment.to(device=device)\n",
        "\n",
        "            opt.zero_grad()\n",
        "            preds, _ = model(texts, aspects)\n",
        "\n",
        "            loss = criterion(preds, sentiments)\n",
        "            loss.backward()\n",
        "            nn.utils.clip_grad_norm_(model.parameters(), grad_clipping_value)\n",
        "            opt.step()\n",
        "            train_loss += loss.item()\n",
        "\n",
        "            pred_sentiments = torch.max(preds, dim=-1)[1]\n",
        "            train_acc += np.sum(\n",
        "                pred_sentiments.cpu().numpy() == sentiments.cpu().numpy()\n",
        "            )\n",
        "\n",
        "        train_loss /= len(train_data)\n",
        "        train_losses.append(train_loss)\n",
        "        train_acc /= len(train_data)\n",
        "        train_acc_values.append(train_acc)\n",
        "\n",
        "        val_loss = 0.0\n",
        "        val_acc = 0\n",
        "        model.eval()\n",
        "        with torch.no_grad():\n",
        "            for batch in val_iter:\n",
        "\n",
        "                texts = batch.text.to(device=device)\n",
        "                aspects = batch.aspect.to(device=device)\n",
        "                sentiments = batch.sentiment.to(device=device)\n",
        "\n",
        "                preds, _ = model(texts, aspects)   \n",
        "                loss = criterion(preds, sentiments)\n",
        "                val_loss += loss.item()\n",
        "\n",
        "                pred_sentiments = torch.max(preds, dim=-1)[1]\n",
        "                val_acc += np.sum(\n",
        "                    pred_sentiments.cpu().numpy() == sentiments.cpu().numpy()\n",
        "                )\n",
        "\n",
        "        val_loss /= len(valid_data)\n",
        "        val_acc /= len(valid_data)\n",
        "        val_losses.append(val_loss)\n",
        "        val_acc_values.append(val_acc)\n",
        "\n",
        "        if val_acc > best_val_acc:\n",
        "            not_improves = 0\n",
        "            best_val_acc = val_acc\n",
        "            torch.save(model.state_dict(), path_save)\n",
        "            print('------SAVED------')\n",
        "        else:\n",
        "            not_improves += 1\n",
        "            if not_improves == early_stopping:\n",
        "                break\n",
        "        \n",
        "        scheduler.step()\n",
        "\n",
        "        print(f'Epoch: {epoch}, '\n",
        "              f'Training Loss*: {1000*train_loss:.5f}, '\n",
        "              f'Validation Loss*: {1000*val_loss:.5f}, \\n'\n",
        "              f'Training Acc: {train_acc:.5f}, '\n",
        "              f'Validation Acc: {val_acc:.5f}')\n",
        "\n",
        "    return train_losses, val_losses, train_acc_values, val_acc_values"
      ],
      "execution_count": 0,
      "outputs": []
    },
    {
      "cell_type": "code",
      "metadata": {
        "id": "CWnA_j8fsiFL",
        "colab_type": "code",
        "outputId": "3ee1ea2c-28fa-4aa8-a121-e04f172ef806",
        "colab": {
          "base_uri": "https://localhost:8080/",
          "height": 1000,
          "referenced_widgets": [
            "b0d261fbeb84455fb79448a0096f013e",
            "1c1a6a6579a9435da6a581c1dddd1e6b",
            "294029acedda4358acbc06e59c537b2d",
            "4789e5d0f7f04988a2c141b9a5789623",
            "0ac6f10132e3477996ecfedeb4fa5790",
            "d3e89d9b8b604401948899968d300a65",
            "9a2c77830c484aa085759f18a001599b",
            "1ddafbc1aa944123b16aefba61873b71"
          ]
        }
      },
      "source": [
        "set_seed_everywhere(random_seed, USE_GPU)\n",
        "train_losses, val_losses, train_acc, val_acc = train_loop(\n",
        "    train_iter, val_iter, model, opt, scheduler, criterion, \n",
        "    epochs, early_stopping\n",
        ")"
      ],
      "execution_count": 0,
      "outputs": [
        {
          "output_type": "display_data",
          "data": {
            "application/vnd.jupyter.widget-view+json": {
              "model_id": "b0d261fbeb84455fb79448a0096f013e",
              "version_minor": 0,
              "version_major": 2
            },
            "text/plain": [
              "HBox(children=(IntProgress(value=0, max=125), HTML(value='')))"
            ]
          },
          "metadata": {
            "tags": []
          }
        },
        {
          "output_type": "stream",
          "text": [
            "------SAVED------\n",
            "Epoch: 1, Training Loss*: 16.67779, Validation Loss*: 16.40234, \n",
            "Training Acc: 0.55883, Validation Acc: 0.61878\n",
            "------SAVED------\n",
            "Epoch: 2, Training Loss*: 15.75512, Validation Loss*: 15.73498, \n",
            "Training Acc: 0.61927, Validation Acc: 0.62020\n",
            "Epoch: 3, Training Loss*: 15.02299, Validation Loss*: 15.17906, \n",
            "Training Acc: 0.61962, Validation Acc: 0.61735\n",
            "Epoch: 4, Training Loss*: 14.45840, Validation Loss*: 14.73898, \n",
            "Training Acc: 0.61962, Validation Acc: 0.61735\n",
            "Epoch: 5, Training Loss*: 14.05720, Validation Loss*: 14.41956, \n",
            "Training Acc: 0.61962, Validation Acc: 0.61735\n",
            "Epoch: 6, Training Loss*: 13.79068, Validation Loss*: 14.20038, \n",
            "Training Acc: 0.61962, Validation Acc: 0.61735\n",
            "Epoch: 7, Training Loss*: 13.60638, Validation Loss*: 14.04436, \n",
            "Training Acc: 0.61962, Validation Acc: 0.61735\n",
            "Epoch: 8, Training Loss*: 13.46001, Validation Loss*: 13.92077, \n",
            "Training Acc: 0.61891, Validation Acc: 0.61735\n",
            "Epoch: 9, Training Loss*: 13.32996, Validation Loss*: 13.81262, \n",
            "Training Acc: 0.61891, Validation Acc: 0.61735\n",
            "Epoch: 10, Training Loss*: 13.20812, Validation Loss*: 13.71192, \n",
            "Training Acc: 0.61891, Validation Acc: 0.61451\n",
            "Epoch: 11, Training Loss*: 13.09095, Validation Loss*: 13.61479, \n",
            "Training Acc: 0.61927, Validation Acc: 0.61166\n",
            "Epoch: 12, Training Loss*: 12.97606, Validation Loss*: 13.51880, \n",
            "Training Acc: 0.61891, Validation Acc: 0.61309\n",
            "Epoch: 13, Training Loss*: 12.86127, Validation Loss*: 13.42177, \n",
            "Training Acc: 0.62033, Validation Acc: 0.61024\n",
            "Epoch: 14, Training Loss*: 12.74406, Validation Loss*: 13.32116, \n",
            "Training Acc: 0.61998, Validation Acc: 0.61166\n",
            "Epoch: 15, Training Loss*: 12.62118, Validation Loss*: 13.21384, \n",
            "Training Acc: 0.61998, Validation Acc: 0.61024\n",
            "Epoch: 16, Training Loss*: 12.48849, Validation Loss*: 13.09559, \n",
            "Training Acc: 0.62105, Validation Acc: 0.61166\n",
            "Epoch: 17, Training Loss*: 12.34032, Validation Loss*: 12.96074, \n",
            "Training Acc: 0.62389, Validation Acc: 0.61735\n",
            "------SAVED------\n",
            "Epoch: 18, Training Loss*: 12.16877, Validation Loss*: 12.80177, \n",
            "Training Acc: 0.62922, Validation Acc: 0.62589\n",
            "------SAVED------\n",
            "Epoch: 19, Training Loss*: 11.96313, Validation Loss*: 12.60899, \n",
            "Training Acc: 0.63811, Validation Acc: 0.63727\n",
            "------SAVED------\n",
            "Epoch: 20, Training Loss*: 11.71077, Validation Loss*: 12.37245, \n",
            "Training Acc: 0.64948, Validation Acc: 0.64580\n",
            "------SAVED------\n",
            "Epoch: 21, Training Loss*: 11.40629, Validation Loss*: 12.09138, \n",
            "Training Acc: 0.66193, Validation Acc: 0.66430\n",
            "------SAVED------\n",
            "Epoch: 22, Training Loss*: 11.07672, Validation Loss*: 11.79267, \n",
            "Training Acc: 0.67828, Validation Acc: 0.66856\n",
            "------SAVED------\n",
            "Epoch: 23, Training Loss*: 10.78733, Validation Loss*: 11.52602, \n",
            "Training Acc: 0.69214, Validation Acc: 0.68563\n",
            "------SAVED------\n",
            "Epoch: 24, Training Loss*: 10.58083, Validation Loss*: 11.34099, \n",
            "Training Acc: 0.70850, Validation Acc: 0.69132\n",
            "------SAVED------\n",
            "Epoch: 25, Training Loss*: 10.44045, Validation Loss*: 11.21541, \n",
            "Training Acc: 0.71098, Validation Acc: 0.69275\n",
            "Epoch: 26, Training Loss*: 10.31984, Validation Loss*: 11.12302, \n",
            "Training Acc: 0.71809, Validation Acc: 0.68848\n",
            "Epoch: 27, Training Loss*: 10.21331, Validation Loss*: 11.04986, \n",
            "Training Acc: 0.71881, Validation Acc: 0.68848\n",
            "Epoch: 28, Training Loss*: 10.11869, Validation Loss*: 10.98896, \n",
            "Training Acc: 0.72272, Validation Acc: 0.68990\n",
            "Epoch: 29, Training Loss*: 10.03730, Validation Loss*: 10.93808, \n",
            "Training Acc: 0.72485, Validation Acc: 0.68563\n",
            "Epoch: 30, Training Loss*: 9.96464, Validation Loss*: 10.89506, \n",
            "Training Acc: 0.72449, Validation Acc: 0.68848\n",
            "Epoch: 31, Training Loss*: 9.89938, Validation Loss*: 10.85818, \n",
            "Training Acc: 0.72769, Validation Acc: 0.68990\n",
            "Epoch: 32, Training Loss*: 9.84046, Validation Loss*: 10.82612, \n",
            "Training Acc: 0.72947, Validation Acc: 0.69132\n",
            "------SAVED------\n",
            "Epoch: 33, Training Loss*: 9.78692, Validation Loss*: 10.79786, \n",
            "Training Acc: 0.73125, Validation Acc: 0.69417\n",
            "------SAVED------\n",
            "Epoch: 34, Training Loss*: 9.73778, Validation Loss*: 10.77250, \n",
            "Training Acc: 0.73374, Validation Acc: 0.69559\n",
            "------SAVED------\n",
            "Epoch: 35, Training Loss*: 9.69196, Validation Loss*: 10.74915, \n",
            "Training Acc: 0.73303, Validation Acc: 0.69701\n",
            "------SAVED------\n",
            "Epoch: 36, Training Loss*: 9.64891, Validation Loss*: 10.72698, \n",
            "Training Acc: 0.73480, Validation Acc: 0.70128\n",
            "------SAVED------\n",
            "Epoch: 37, Training Loss*: 9.60768, Validation Loss*: 10.70593, \n",
            "Training Acc: 0.73587, Validation Acc: 0.70413\n",
            "------SAVED------\n",
            "Epoch: 38, Training Loss*: 9.56847, Validation Loss*: 10.68548, \n",
            "Training Acc: 0.73800, Validation Acc: 0.70697\n",
            "------SAVED------\n",
            "Epoch: 39, Training Loss*: 9.53114, Validation Loss*: 10.66534, \n",
            "Training Acc: 0.74085, Validation Acc: 0.70982\n",
            "Epoch: 40, Training Loss*: 9.49515, Validation Loss*: 10.64572, \n",
            "Training Acc: 0.74191, Validation Acc: 0.70839\n",
            "Epoch: 41, Training Loss*: 9.46032, Validation Loss*: 10.62695, \n",
            "Training Acc: 0.74440, Validation Acc: 0.70982\n",
            "Epoch: 42, Training Loss*: 9.42664, Validation Loss*: 10.60913, \n",
            "Training Acc: 0.74582, Validation Acc: 0.70982\n",
            "Epoch: 43, Training Loss*: 9.39401, Validation Loss*: 10.59227, \n",
            "Training Acc: 0.74653, Validation Acc: 0.70982\n",
            "Epoch: 44, Training Loss*: 9.36234, Validation Loss*: 10.57634, \n",
            "Training Acc: 0.74796, Validation Acc: 0.70982\n",
            "------SAVED------\n",
            "Epoch: 45, Training Loss*: 9.33154, Validation Loss*: 10.56126, \n",
            "Training Acc: 0.74938, Validation Acc: 0.71124\n",
            "Epoch: 46, Training Loss*: 9.30149, Validation Loss*: 10.54699, \n",
            "Training Acc: 0.74938, Validation Acc: 0.71124\n",
            "------SAVED------\n",
            "Epoch: 47, Training Loss*: 9.27207, Validation Loss*: 10.53353, \n",
            "Training Acc: 0.74973, Validation Acc: 0.71266\n",
            "------SAVED------\n",
            "Epoch: 48, Training Loss*: 9.24328, Validation Loss*: 10.52088, \n",
            "Training Acc: 0.75009, Validation Acc: 0.71550\n",
            "Epoch: 49, Training Loss*: 9.21512, Validation Loss*: 10.50901, \n",
            "Training Acc: 0.75044, Validation Acc: 0.71550\n",
            "------SAVED------\n",
            "Epoch: 50, Training Loss*: 9.18754, Validation Loss*: 10.49790, \n",
            "Training Acc: 0.75116, Validation Acc: 0.71693\n",
            "------SAVED------\n",
            "Epoch: 51, Training Loss*: 9.16049, Validation Loss*: 10.48741, \n",
            "Training Acc: 0.75187, Validation Acc: 0.71977\n",
            "------SAVED------\n",
            "Epoch: 52, Training Loss*: 9.13399, Validation Loss*: 10.47757, \n",
            "Training Acc: 0.75364, Validation Acc: 0.72119\n",
            "Epoch: 53, Training Loss*: 9.10779, Validation Loss*: 10.46831, \n",
            "Training Acc: 0.75435, Validation Acc: 0.72119\n",
            "Epoch: 54, Training Loss*: 9.08159, Validation Loss*: 10.45950, \n",
            "Training Acc: 0.75542, Validation Acc: 0.71977\n",
            "Epoch: 55, Training Loss*: 9.05503, Validation Loss*: 10.45105, \n",
            "Training Acc: 0.75755, Validation Acc: 0.71835\n",
            "Epoch: 56, Training Loss*: 9.02782, Validation Loss*: 10.44301, \n",
            "Training Acc: 0.75791, Validation Acc: 0.71693\n",
            "Epoch: 57, Training Loss*: 9.00020, Validation Loss*: 10.43571, \n",
            "Training Acc: 0.75969, Validation Acc: 0.71835\n",
            "Epoch: 58, Training Loss*: 8.97342, Validation Loss*: 10.42934, \n",
            "Training Acc: 0.75969, Validation Acc: 0.71835\n",
            "Epoch: 59, Training Loss*: 8.94782, Validation Loss*: 10.42368, \n",
            "Training Acc: 0.75969, Validation Acc: 0.71550\n",
            "Epoch: 60, Training Loss*: 8.92282, Validation Loss*: 10.41844, \n",
            "Training Acc: 0.76004, Validation Acc: 0.71977\n",
            "Epoch: 61, Training Loss*: 8.89825, Validation Loss*: 10.41357, \n",
            "Training Acc: 0.75933, Validation Acc: 0.72119\n",
            "------SAVED------\n",
            "Epoch: 62, Training Loss*: 8.87405, Validation Loss*: 10.40905, \n",
            "Training Acc: 0.76253, Validation Acc: 0.72262\n",
            "------SAVED------\n",
            "Epoch: 63, Training Loss*: 8.85017, Validation Loss*: 10.40486, \n",
            "Training Acc: 0.76395, Validation Acc: 0.72546\n",
            "Epoch: 64, Training Loss*: 8.82659, Validation Loss*: 10.40098, \n",
            "Training Acc: 0.76466, Validation Acc: 0.72546\n",
            "Epoch: 65, Training Loss*: 8.80327, Validation Loss*: 10.39742, \n",
            "Training Acc: 0.76431, Validation Acc: 0.72119\n",
            "Epoch: 66, Training Loss*: 8.78021, Validation Loss*: 10.39415, \n",
            "Training Acc: 0.76502, Validation Acc: 0.72262\n",
            "Epoch: 67, Training Loss*: 8.75738, Validation Loss*: 10.39116, \n",
            "Training Acc: 0.76609, Validation Acc: 0.72404\n",
            "Epoch: 68, Training Loss*: 8.73478, Validation Loss*: 10.38845, \n",
            "Training Acc: 0.76609, Validation Acc: 0.72404\n",
            "Epoch: 69, Training Loss*: 8.71238, Validation Loss*: 10.38601, \n",
            "Training Acc: 0.76786, Validation Acc: 0.72404\n",
            "Epoch: 70, Training Loss*: 8.69020, Validation Loss*: 10.38384, \n",
            "Training Acc: 0.76893, Validation Acc: 0.72119\n",
            "Epoch: 71, Training Loss*: 8.66821, Validation Loss*: 10.38192, \n",
            "Training Acc: 0.76964, Validation Acc: 0.71977\n",
            "Epoch: 72, Training Loss*: 8.64643, Validation Loss*: 10.38025, \n",
            "Training Acc: 0.77177, Validation Acc: 0.71693\n",
            "Epoch: 73, Training Loss*: 8.62484, Validation Loss*: 10.37882, \n",
            "Training Acc: 0.77284, Validation Acc: 0.71693\n",
            "Epoch: 74, Training Loss*: 8.60345, Validation Loss*: 10.37765, \n",
            "Training Acc: 0.77462, Validation Acc: 0.71550\n",
            "Epoch: 75, Training Loss*: 8.58224, Validation Loss*: 10.37672, \n",
            "Training Acc: 0.77604, Validation Acc: 0.71693\n",
            "Epoch: 76, Training Loss*: 8.56122, Validation Loss*: 10.37605, \n",
            "Training Acc: 0.77640, Validation Acc: 0.71693\n",
            "Epoch: 77, Training Loss*: 8.54039, Validation Loss*: 10.37566, \n",
            "Training Acc: 0.77675, Validation Acc: 0.71835\n",
            "Epoch: 78, Training Loss*: 8.51973, Validation Loss*: 10.37561, \n",
            "Training Acc: 0.77782, Validation Acc: 0.71835\n",
            "Epoch: 79, Training Loss*: 8.49925, Validation Loss*: 10.37595, \n",
            "Training Acc: 0.77995, Validation Acc: 0.71693\n",
            "Epoch: 80, Training Loss*: 8.47894, Validation Loss*: 10.37683, \n",
            "Training Acc: 0.77924, Validation Acc: 0.71835\n",
            "Epoch: 81, Training Loss*: 8.45880, Validation Loss*: 10.37848, \n",
            "Training Acc: 0.77959, Validation Acc: 0.72119\n",
            "Epoch: 82, Training Loss*: 8.43883, Validation Loss*: 10.38132, \n",
            "Training Acc: 0.77924, Validation Acc: 0.72262\n",
            "Epoch: 83, Training Loss*: 8.41898, Validation Loss*: 10.38600, \n",
            "Training Acc: 0.78102, Validation Acc: 0.72262\n",
            "Epoch: 84, Training Loss*: 8.39925, Validation Loss*: 10.39364, \n",
            "Training Acc: 0.78173, Validation Acc: 0.72262\n",
            "Epoch: 85, Training Loss*: 8.37967, Validation Loss*: 10.40558, \n",
            "Training Acc: 0.78208, Validation Acc: 0.72262\n",
            "Epoch: 86, Training Loss*: 8.36024, Validation Loss*: 10.42247, \n",
            "Training Acc: 0.78315, Validation Acc: 0.72546\n",
            "Epoch: 87, Training Loss*: 8.34097, Validation Loss*: 10.44315, \n",
            "Training Acc: 0.78422, Validation Acc: 0.72404\n",
            "Epoch: 88, Training Loss*: 8.32185, Validation Loss*: 10.46497, \n",
            "Training Acc: 0.78422, Validation Acc: 0.72404\n",
            "Epoch: 89, Training Loss*: 8.30288, Validation Loss*: 10.48535, \n",
            "Training Acc: 0.78351, Validation Acc: 0.72404\n",
            "Epoch: 90, Training Loss*: 8.28405, Validation Loss*: 10.50298, \n",
            "Training Acc: 0.78457, Validation Acc: 0.72546\n",
            "------SAVED------\n",
            "Epoch: 91, Training Loss*: 8.26536, Validation Loss*: 10.51769, \n",
            "Training Acc: 0.78457, Validation Acc: 0.72831\n",
            "------SAVED------\n",
            "Epoch: 92, Training Loss*: 8.24678, Validation Loss*: 10.52993, \n",
            "Training Acc: 0.78528, Validation Acc: 0.72973\n",
            "Epoch: 93, Training Loss*: 8.22832, Validation Loss*: 10.54025, \n",
            "Training Acc: 0.78386, Validation Acc: 0.72973\n",
            "------SAVED------\n",
            "Epoch: 94, Training Loss*: 8.20994, Validation Loss*: 10.54915, \n",
            "Training Acc: 0.78422, Validation Acc: 0.73115\n",
            "Epoch: 95, Training Loss*: 8.19164, Validation Loss*: 10.55701, \n",
            "Training Acc: 0.78422, Validation Acc: 0.72973\n",
            "Epoch: 96, Training Loss*: 8.17338, Validation Loss*: 10.56407, \n",
            "Training Acc: 0.78422, Validation Acc: 0.72688\n",
            "Epoch: 97, Training Loss*: 8.15512, Validation Loss*: 10.57053, \n",
            "Training Acc: 0.78457, Validation Acc: 0.72688\n",
            "Epoch: 98, Training Loss*: 8.13684, Validation Loss*: 10.57651, \n",
            "Training Acc: 0.78493, Validation Acc: 0.72688\n",
            "Epoch: 99, Training Loss*: 8.11852, Validation Loss*: 10.58213, \n",
            "Training Acc: 0.78528, Validation Acc: 0.72688\n",
            "Epoch: 100, Training Loss*: 8.10022, Validation Loss*: 10.58751, \n",
            "Training Acc: 0.78528, Validation Acc: 0.72831\n",
            "Epoch: 101, Training Loss*: 8.08198, Validation Loss*: 10.59263, \n",
            "Training Acc: 0.78564, Validation Acc: 0.72688\n",
            "Epoch: 102, Training Loss*: 8.06369, Validation Loss*: 10.59729, \n",
            "Training Acc: 0.78670, Validation Acc: 0.72688\n",
            "Epoch: 103, Training Loss*: 8.04467, Validation Loss*: 10.60210, \n",
            "Training Acc: 0.78884, Validation Acc: 0.72404\n",
            "Epoch: 104, Training Loss*: 8.02532, Validation Loss*: 10.60781, \n",
            "Training Acc: 0.78955, Validation Acc: 0.72404\n",
            "Epoch: 105, Training Loss*: 8.00693, Validation Loss*: 10.61411, \n",
            "Training Acc: 0.78990, Validation Acc: 0.72404\n",
            "Epoch: 106, Training Loss*: 7.98916, Validation Loss*: 10.62060, \n",
            "Training Acc: 0.78990, Validation Acc: 0.72546\n",
            "Epoch: 107, Training Loss*: 7.97164, Validation Loss*: 10.62706, \n",
            "Training Acc: 0.78955, Validation Acc: 0.72546\n",
            "Epoch: 108, Training Loss*: 7.95419, Validation Loss*: 10.63350, \n",
            "Training Acc: 0.78990, Validation Acc: 0.72546\n",
            "Epoch: 109, Training Loss*: 7.93675, Validation Loss*: 10.63998, \n",
            "Training Acc: 0.79026, Validation Acc: 0.72546\n",
            "Epoch: 110, Training Loss*: 7.91929, Validation Loss*: 10.64656, \n",
            "Training Acc: 0.79097, Validation Acc: 0.72688\n",
            "Epoch: 111, Training Loss*: 7.90177, Validation Loss*: 10.65317, \n",
            "Training Acc: 0.79168, Validation Acc: 0.72688\n",
            "Epoch: 112, Training Loss*: 7.88404, Validation Loss*: 10.65946, \n",
            "Training Acc: 0.79239, Validation Acc: 0.72688\n",
            "Epoch: 113, Training Loss*: 7.86563, Validation Loss*: 10.66501, \n",
            "Training Acc: 0.79453, Validation Acc: 0.72688\n",
            "Epoch: 114, Training Loss*: 7.84598, Validation Loss*: 10.67219, \n",
            "Training Acc: 0.79630, Validation Acc: 0.72688\n",
            "Epoch: 115, Training Loss*: 7.82752, Validation Loss*: 10.68116, \n",
            "Training Acc: 0.79737, Validation Acc: 0.72688\n",
            "Epoch: 116, Training Loss*: 7.80991, Validation Loss*: 10.69045, \n",
            "Training Acc: 0.79844, Validation Acc: 0.72688\n",
            "Epoch: 117, Training Loss*: 7.79241, Validation Loss*: 10.70001, \n",
            "Training Acc: 0.79879, Validation Acc: 0.72688\n",
            "Epoch: 118, Training Loss*: 7.77541, Validation Loss*: 10.70945, \n",
            "Training Acc: 0.79844, Validation Acc: 0.72546\n",
            "Epoch: 119, Training Loss*: 7.75843, Validation Loss*: 10.71892, \n",
            "Training Acc: 0.79879, Validation Acc: 0.72688\n",
            "Epoch: 120, Training Loss*: 7.74175, Validation Loss*: 10.72823, \n",
            "Training Acc: 0.79915, Validation Acc: 0.72831\n",
            "Epoch: 121, Training Loss*: 7.72504, Validation Loss*: 10.73757, \n",
            "Training Acc: 0.79950, Validation Acc: 0.72831\n",
            "Epoch: 122, Training Loss*: 7.70848, Validation Loss*: 10.74688, \n",
            "Training Acc: 0.79950, Validation Acc: 0.72688\n",
            "Epoch: 123, Training Loss*: 7.69190, Validation Loss*: 10.75632, \n",
            "Training Acc: 0.79844, Validation Acc: 0.72546\n",
            "Epoch: 124, Training Loss*: 7.67539, Validation Loss*: 10.76589, \n",
            "Training Acc: 0.79879, Validation Acc: 0.72404\n",
            "Epoch: 125, Training Loss*: 7.65885, Validation Loss*: 10.77575, \n",
            "Training Acc: 0.79950, Validation Acc: 0.72404\n",
            "\n"
          ],
          "name": "stdout"
        }
      ]
    },
    {
      "cell_type": "code",
      "metadata": {
        "id": "FDLoDnfWt00g",
        "colab_type": "code",
        "outputId": "e45f5d93-bcfa-46de-97eb-4390abca1b3b",
        "colab": {
          "base_uri": "https://localhost:8080/",
          "height": 578
        }
      },
      "source": [
        "plt.figure(figsize=(16, 9))\n",
        "finished_epochs = len(train_losses)\n",
        "plt.plot(np.arange(finished_epochs), train_losses, label='Train loss')\n",
        "plt.plot(np.arange(finished_epochs), val_losses, label='Validation loss')\n",
        "plt.xlabel('epoch')\n",
        "plt.ylabel('cross entropy loss')\n",
        "plt.title('Кривая обучения')\n",
        "plt.legend()\n",
        "plt.show()"
      ],
      "execution_count": 0,
      "outputs": [
        {
          "output_type": "display_data",
          "data": {
            "image/png": "[encoded data removed]",
            "text/plain": [
              "<Figure size 1152x648 with 1 Axes>"
            ]
          },
          "metadata": {
            "tags": [],
            "needs_background": "light"
          }
        }
      ]
    },
    {
      "cell_type": "code",
      "metadata": {
        "id": "s58_lzjtVKaf",
        "colab_type": "code",
        "outputId": "80620b62-b45f-4667-ec34-dc6eabc2693b",
        "colab": {
          "base_uri": "https://localhost:8080/",
          "height": 578
        }
      },
      "source": [
        "plt.figure(figsize=(16, 9))\n",
        "finished_epochs = len(train_losses)\n",
        "plt.plot(np.arange(finished_epochs), train_acc, label='Train accuracy')\n",
        "plt.plot(np.arange(finished_epochs), val_acc, label='Validation accuracy')\n",
        "plt.xlabel('epoch')\n",
        "plt.ylabel('accuracy')\n",
        "plt.title('Кривая обучения')\n",
        "plt.legend()\n",
        "plt.show()"
      ],
      "execution_count": 0,
      "outputs": [
        {
          "output_type": "display_data",
          "data": {
            "image/png": "[encoded data removed]",
            "text/plain": [
              "<Figure size 1152x648 with 1 Axes>"
            ]
          },
          "metadata": {
            "tags": [],
            "needs_background": "light"
          }
        }
      ]
    },
    {
      "cell_type": "markdown",
      "metadata": {
        "id": "7Fz15rTA2JpM",
        "colab_type": "text"
      },
      "source": [
        "Измерим качество полученной модели."
      ]
    },
    {
      "cell_type": "code",
      "metadata": {
        "id": "IBLOT51l16Xy",
        "colab_type": "code",
        "outputId": "7cc0a15d-2784-46d6-90c8-9d26399e450a",
        "colab": {
          "base_uri": "https://localhost:8080/",
          "height": 34
        }
      },
      "source": [
        "model.load_state_dict(torch.load(path_save))"
      ],
      "execution_count": 0,
      "outputs": [
        {
          "output_type": "execute_result",
          "data": {
            "text/plain": [
              "<All keys matched successfully>"
            ]
          },
          "metadata": {
            "tags": []
          },
          "execution_count": 26
        }
      ]
    },
    {
      "cell_type": "code",
      "metadata": {
        "id": "4d9A9R9X26Y2",
        "colab_type": "code",
        "colab": {}
      },
      "source": [
        "model.eval()\n",
        "\n",
        "all_preds = []\n",
        "all_answers = []\n",
        "with torch.no_grad():\n",
        "    for batch in test_iter:\n",
        "\n",
        "        texts = batch.text.to(device=device)\n",
        "        aspects = batch.aspect.to(device=device)\n",
        "        sentiments = batch.sentiment.to(device=device)\n",
        "\n",
        "        preds_scores, _ = model(texts, aspects)\n",
        "        preds = torch.max(preds_scores, dim=-1)[1]\n",
        "        all_preds += preds.tolist()\n",
        "        all_answers += sentiments.tolist()\n",
        "\n",
        "all_preds = np.array(all_preds)\n",
        "all_answers = np.array(all_answers)"
      ],
      "execution_count": 0,
      "outputs": []
    },
    {
      "cell_type": "code",
      "metadata": {
        "id": "5jwD-spq3k1I",
        "colab_type": "code",
        "outputId": "fc72ceb0-3d9d-4ef0-8936-ea1f84f660ec",
        "colab": {
          "base_uri": "https://localhost:8080/",
          "height": 34
        }
      },
      "source": [
        "accuracy = accuracy_score(all_preds, all_answers)\n",
        "\n",
        "print(f'Accuracy: {accuracy:.5f}')"
      ],
      "execution_count": 0,
      "outputs": [
        {
          "output_type": "stream",
          "text": [
            "Accuracy: 0.78417\n"
          ],
          "name": "stdout"
        }
      ]
    },
    {
      "cell_type": "markdown",
      "metadata": {
        "id": "loI8yuPh9WZ-",
        "colab_type": "text"
      },
      "source": [
        "### Что стоит еще сделать\n",
        "\n",
        "1. Проверить, что решаемая такой моделью задача совпадает с решаемой задачей на русском языке.\n",
        "2. Поэкспериментировать с моделью: \n",
        "    * dropout (что-то пробовали), \n",
        "    * другие эмбеддинги (взятие самого большого glove улучшило ситуацию), \n",
        "    * bidirectional (в текущей архитектуре это, кажется, не очень поможет потому что берется только выходное состояние), \n",
        "    * l2-регуляризация, как в статье (добавили)\n",
        "    * доучивание эмбеддингов вместо заморозки\n",
        "    * увеличение числа слоев lstm (кажется, что прироста не дало)\n",
        "3. Проверить, что в текущей модели от использования эмбеддингов для аспектов вообще есть толк (можно попробовать их отключить как-то)."
      ]
    }
  ]
}