{
  "nbformat": 4,
  "nbformat_minor": 0,
  "metadata": {
    "colab": {
      "name": "8-db-elmo-russian.ipynb",
      "provenance": [],
      "collapsed_sections": [],
      "machine_shape": "hm"
    },
    "kernelspec": {
      "name": "python3",
      "display_name": "Python 3"
    },
    "accelerator": "GPU",
    "widgets": {
      "application/vnd.jupyter.widget-state+json": {
        "22f7122549f1420aab9a48fffafc6004": {
          "model_module": "@jupyter-widgets/controls",
          "model_name": "HBoxModel",
          "state": {
            "_view_name": "HBoxView",
            "_dom_classes": [],
            "_model_name": "HBoxModel",
            "_view_module": "@jupyter-widgets/controls",
            "_model_module_version": "1.5.0",
            "_view_count": null,
            "_view_module_version": "1.5.0",
            "box_style": "",
            "layout": "IPY_MODEL_bf10ab1ee0d84fd69186671d84d00dff",
            "_model_module": "@jupyter-widgets/controls",
            "children": [
              "IPY_MODEL_72b2572e5dcd40378679724062dfd677",
              "IPY_MODEL_c622ff709f4345509db08a1a7b2676d1"
            ]
          }
        },
        "bf10ab1ee0d84fd69186671d84d00dff": {
          "model_module": "@jupyter-widgets/base",
          "model_name": "LayoutModel",
          "state": {
            "_view_name": "LayoutView",
            "grid_template_rows": null,
            "right": null,
            "justify_content": null,
            "_view_module": "@jupyter-widgets/base",
            "overflow": null,
            "_model_module_version": "1.2.0",
            "_view_count": null,
            "flex_flow": null,
            "width": null,
            "min_width": null,
            "border": null,
            "align_items": null,
            "bottom": null,
            "_model_module": "@jupyter-widgets/base",
            "top": null,
            "grid_column": null,
            "overflow_y": null,
            "overflow_x": null,
            "grid_auto_flow": null,
            "grid_area": null,
            "grid_template_columns": null,
            "flex": null,
            "_model_name": "LayoutModel",
            "justify_items": null,
            "grid_row": null,
            "max_height": null,
            "align_content": null,
            "visibility": null,
            "align_self": null,
            "height": null,
            "min_height": null,
            "padding": null,
            "grid_auto_rows": null,
            "grid_gap": null,
            "max_width": null,
            "order": null,
            "_view_module_version": "1.2.0",
            "grid_template_areas": null,
            "object_position": null,
            "object_fit": null,
            "grid_auto_columns": null,
            "margin": null,
            "display": null,
            "left": null
          }
        },
        "72b2572e5dcd40378679724062dfd677": {
          "model_module": "@jupyter-widgets/controls",
          "model_name": "FloatProgressModel",
          "state": {
            "_view_name": "ProgressView",
            "style": "IPY_MODEL_1c03a0d91a4e4669922141e9c1c6430e",
            "_dom_classes": [],
            "description": "  0%",
            "_model_name": "FloatProgressModel",
            "bar_style": "danger",
            "max": 50,
            "_view_module": "@jupyter-widgets/controls",
            "_model_module_version": "1.5.0",
            "value": 0,
            "_view_count": null,
            "_view_module_version": "1.5.0",
            "orientation": "horizontal",
            "min": 0,
            "description_tooltip": null,
            "_model_module": "@jupyter-widgets/controls",
            "layout": "IPY_MODEL_b5dc44095cc1439aae1715fdd08cf1e3"
          }
        },
        "c622ff709f4345509db08a1a7b2676d1": {
          "model_module": "@jupyter-widgets/controls",
          "model_name": "HTMLModel",
          "state": {
            "_view_name": "HTMLView",
            "style": "IPY_MODEL_a9e677ee1eac4cea982ee51ef3a6633e",
            "_dom_classes": [],
            "description": "",
            "_model_name": "HTMLModel",
            "placeholder": "​",
            "_view_module": "@jupyter-widgets/controls",
            "_model_module_version": "1.5.0",
            "value": " 0/50 [00:06&lt;?, ?it/s]",
            "_view_count": null,
            "_view_module_version": "1.5.0",
            "description_tooltip": null,
            "_model_module": "@jupyter-widgets/controls",
            "layout": "IPY_MODEL_978060e30e4d453c905a37b27ae711e9"
          }
        },
        "1c03a0d91a4e4669922141e9c1c6430e": {
          "model_module": "@jupyter-widgets/controls",
          "model_name": "ProgressStyleModel",
          "state": {
            "_view_name": "StyleView",
            "_model_name": "ProgressStyleModel",
            "description_width": "initial",
            "_view_module": "@jupyter-widgets/base",
            "_model_module_version": "1.5.0",
            "_view_count": null,
            "_view_module_version": "1.2.0",
            "bar_color": null,
            "_model_module": "@jupyter-widgets/controls"
          }
        },
        "b5dc44095cc1439aae1715fdd08cf1e3": {
          "model_module": "@jupyter-widgets/base",
          "model_name": "LayoutModel",
          "state": {
            "_view_name": "LayoutView",
            "grid_template_rows": null,
            "right": null,
            "justify_content": null,
            "_view_module": "@jupyter-widgets/base",
            "overflow": null,
            "_model_module_version": "1.2.0",
            "_view_count": null,
            "flex_flow": null,
            "width": null,
            "min_width": null,
            "border": null,
            "align_items": null,
            "bottom": null,
            "_model_module": "@jupyter-widgets/base",
            "top": null,
            "grid_column": null,
            "overflow_y": null,
            "overflow_x": null,
            "grid_auto_flow": null,
            "grid_area": null,
            "grid_template_columns": null,
            "flex": null,
            "_model_name": "LayoutModel",
            "justify_items": null,
            "grid_row": null,
            "max_height": null,
            "align_content": null,
            "visibility": null,
            "align_self": null,
            "height": null,
            "min_height": null,
            "padding": null,
            "grid_auto_rows": null,
            "grid_gap": null,
            "max_width": null,
            "order": null,
            "_view_module_version": "1.2.0",
            "grid_template_areas": null,
            "object_position": null,
            "object_fit": null,
            "grid_auto_columns": null,
            "margin": null,
            "display": null,
            "left": null
          }
        },
        "a9e677ee1eac4cea982ee51ef3a6633e": {
          "model_module": "@jupyter-widgets/controls",
          "model_name": "DescriptionStyleModel",
          "state": {
            "_view_name": "StyleView",
            "_model_name": "DescriptionStyleModel",
            "description_width": "",
            "_view_module": "@jupyter-widgets/base",
            "_model_module_version": "1.5.0",
            "_view_count": null,
            "_view_module_version": "1.2.0",
            "_model_module": "@jupyter-widgets/controls"
          }
        },
        "978060e30e4d453c905a37b27ae711e9": {
          "model_module": "@jupyter-widgets/base",
          "model_name": "LayoutModel",
          "state": {
            "_view_name": "LayoutView",
            "grid_template_rows": null,
            "right": null,
            "justify_content": null,
            "_view_module": "@jupyter-widgets/base",
            "overflow": null,
            "_model_module_version": "1.2.0",
            "_view_count": null,
            "flex_flow": null,
            "width": null,
            "min_width": null,
            "border": null,
            "align_items": null,
            "bottom": null,
            "_model_module": "@jupyter-widgets/base",
            "top": null,
            "grid_column": null,
            "overflow_y": null,
            "overflow_x": null,
            "grid_auto_flow": null,
            "grid_area": null,
            "grid_template_columns": null,
            "flex": null,
            "_model_name": "LayoutModel",
            "justify_items": null,
            "grid_row": null,
            "max_height": null,
            "align_content": null,
            "visibility": null,
            "align_self": null,
            "height": null,
            "min_height": null,
            "padding": null,
            "grid_auto_rows": null,
            "grid_gap": null,
            "max_width": null,
            "order": null,
            "_view_module_version": "1.2.0",
            "grid_template_areas": null,
            "object_position": null,
            "object_fit": null,
            "grid_auto_columns": null,
            "margin": null,
            "display": null,
            "left": null
          }
        },
        "7a09e850a90248cdac400d0498a5104c": {
          "model_module": "@jupyter-widgets/controls",
          "model_name": "HBoxModel",
          "state": {
            "_view_name": "HBoxView",
            "_dom_classes": [],
            "_model_name": "HBoxModel",
            "_view_module": "@jupyter-widgets/controls",
            "_model_module_version": "1.5.0",
            "_view_count": null,
            "_view_module_version": "1.5.0",
            "box_style": "",
            "layout": "IPY_MODEL_bf37f984058c4153a37d23acc3d5ca52",
            "_model_module": "@jupyter-widgets/controls",
            "children": [
              "IPY_MODEL_0debe9639cb24ce6886e47bf14845fa9",
              "IPY_MODEL_0a9e3fdaf44e4a619778c0d061500671"
            ]
          }
        },
        "bf37f984058c4153a37d23acc3d5ca52": {
          "model_module": "@jupyter-widgets/base",
          "model_name": "LayoutModel",
          "state": {
            "_view_name": "LayoutView",
            "grid_template_rows": null,
            "right": null,
            "justify_content": null,
            "_view_module": "@jupyter-widgets/base",
            "overflow": null,
            "_model_module_version": "1.2.0",
            "_view_count": null,
            "flex_flow": null,
            "width": null,
            "min_width": null,
            "border": null,
            "align_items": null,
            "bottom": null,
            "_model_module": "@jupyter-widgets/base",
            "top": null,
            "grid_column": null,
            "overflow_y": null,
            "overflow_x": null,
            "grid_auto_flow": null,
            "grid_area": null,
            "grid_template_columns": null,
            "flex": null,
            "_model_name": "LayoutModel",
            "justify_items": null,
            "grid_row": null,
            "max_height": null,
            "align_content": null,
            "visibility": null,
            "align_self": null,
            "height": null,
            "min_height": null,
            "padding": null,
            "grid_auto_rows": null,
            "grid_gap": null,
            "max_width": null,
            "order": null,
            "_view_module_version": "1.2.0",
            "grid_template_areas": null,
            "object_position": null,
            "object_fit": null,
            "grid_auto_columns": null,
            "margin": null,
            "display": null,
            "left": null
          }
        },
        "0debe9639cb24ce6886e47bf14845fa9": {
          "model_module": "@jupyter-widgets/controls",
          "model_name": "FloatProgressModel",
          "state": {
            "_view_name": "ProgressView",
            "style": "IPY_MODEL_ee8b54f5acfc4f63b46fa9c9513593c6",
            "_dom_classes": [],
            "description": "  0%",
            "_model_name": "FloatProgressModel",
            "bar_style": "danger",
            "max": 216,
            "_view_module": "@jupyter-widgets/controls",
            "_model_module_version": "1.5.0",
            "value": 1,
            "_view_count": null,
            "_view_module_version": "1.5.0",
            "orientation": "horizontal",
            "min": 0,
            "description_tooltip": null,
            "_model_module": "@jupyter-widgets/controls",
            "layout": "IPY_MODEL_ad90730b3a724a6cb5cfd4b7c597f352"
          }
        },
        "0a9e3fdaf44e4a619778c0d061500671": {
          "model_module": "@jupyter-widgets/controls",
          "model_name": "HTMLModel",
          "state": {
            "_view_name": "HTMLView",
            "style": "IPY_MODEL_8b3af1ac9a9e4776bfe66480637a58cd",
            "_dom_classes": [],
            "description": "",
            "_model_name": "HTMLModel",
            "placeholder": "​",
            "_view_module": "@jupyter-widgets/controls",
            "_model_module_version": "1.5.0",
            "value": " 1/216 [00:06&lt;12:46,  3.57s/it]",
            "_view_count": null,
            "_view_module_version": "1.5.0",
            "description_tooltip": null,
            "_model_module": "@jupyter-widgets/controls",
            "layout": "IPY_MODEL_40216c97d7254483b13308ecdb8da223"
          }
        },
        "ee8b54f5acfc4f63b46fa9c9513593c6": {
          "model_module": "@jupyter-widgets/controls",
          "model_name": "ProgressStyleModel",
          "state": {
            "_view_name": "StyleView",
            "_model_name": "ProgressStyleModel",
            "description_width": "initial",
            "_view_module": "@jupyter-widgets/base",
            "_model_module_version": "1.5.0",
            "_view_count": null,
            "_view_module_version": "1.2.0",
            "bar_color": null,
            "_model_module": "@jupyter-widgets/controls"
          }
        },
        "ad90730b3a724a6cb5cfd4b7c597f352": {
          "model_module": "@jupyter-widgets/base",
          "model_name": "LayoutModel",
          "state": {
            "_view_name": "LayoutView",
            "grid_template_rows": null,
            "right": null,
            "justify_content": null,
            "_view_module": "@jupyter-widgets/base",
            "overflow": null,
            "_model_module_version": "1.2.0",
            "_view_count": null,
            "flex_flow": null,
            "width": null,
            "min_width": null,
            "border": null,
            "align_items": null,
            "bottom": null,
            "_model_module": "@jupyter-widgets/base",
            "top": null,
            "grid_column": null,
            "overflow_y": null,
            "overflow_x": null,
            "grid_auto_flow": null,
            "grid_area": null,
            "grid_template_columns": null,
            "flex": null,
            "_model_name": "LayoutModel",
            "justify_items": null,
            "grid_row": null,
            "max_height": null,
            "align_content": null,
            "visibility": null,
            "align_self": null,
            "height": null,
            "min_height": null,
            "padding": null,
            "grid_auto_rows": null,
            "grid_gap": null,
            "max_width": null,
            "order": null,
            "_view_module_version": "1.2.0",
            "grid_template_areas": null,
            "object_position": null,
            "object_fit": null,
            "grid_auto_columns": null,
            "margin": null,
            "display": null,
            "left": null
          }
        },
        "8b3af1ac9a9e4776bfe66480637a58cd": {
          "model_module": "@jupyter-widgets/controls",
          "model_name": "DescriptionStyleModel",
          "state": {
            "_view_name": "StyleView",
            "_model_name": "DescriptionStyleModel",
            "description_width": "",
            "_view_module": "@jupyter-widgets/base",
            "_model_module_version": "1.5.0",
            "_view_count": null,
            "_view_module_version": "1.2.0",
            "_model_module": "@jupyter-widgets/controls"
          }
        },
        "40216c97d7254483b13308ecdb8da223": {
          "model_module": "@jupyter-widgets/base",
          "model_name": "LayoutModel",
          "state": {
            "_view_name": "LayoutView",
            "grid_template_rows": null,
            "right": null,
            "justify_content": null,
            "_view_module": "@jupyter-widgets/base",
            "overflow": null,
            "_model_module_version": "1.2.0",
            "_view_count": null,
            "flex_flow": null,
            "width": null,
            "min_width": null,
            "border": null,
            "align_items": null,
            "bottom": null,
            "_model_module": "@jupyter-widgets/base",
            "top": null,
            "grid_column": null,
            "overflow_y": null,
            "overflow_x": null,
            "grid_auto_flow": null,
            "grid_area": null,
            "grid_template_columns": null,
            "flex": null,
            "_model_name": "LayoutModel",
            "justify_items": null,
            "grid_row": null,
            "max_height": null,
            "align_content": null,
            "visibility": null,
            "align_self": null,
            "height": null,
            "min_height": null,
            "padding": null,
            "grid_auto_rows": null,
            "grid_gap": null,
            "max_width": null,
            "order": null,
            "_view_module_version": "1.2.0",
            "grid_template_areas": null,
            "object_position": null,
            "object_fit": null,
            "grid_auto_columns": null,
            "margin": null,
            "display": null,
            "left": null
          }
        }
      }
    }
  },
  "cells": [
    {
      "cell_type": "markdown",
      "metadata": {
        "id": "4RoA7uzc6-Jj",
        "colab_type": "text"
      },
      "source": [
        "# ELMo for Aspect-Target Sentiment Classification (Russian language)\n",
        "\n",
        "В этом ноутбуке мы попробуем применить модель ELMOCNN к ATSC на русском языке."
      ]
    },
    {
      "cell_type": "code",
      "metadata": {
        "id": "RWh5oDxgIf5t",
        "colab_type": "code",
        "outputId": "96e13e62-41d4-42aa-f284-0944a2d98f5d",
        "colab": {
          "base_uri": "https://localhost:8080/",
          "height": 34
        }
      },
      "source": [
        "%tensorflow_version 1.x"
      ],
      "execution_count": 1,
      "outputs": [
        {
          "output_type": "stream",
          "text": [
            "TensorFlow 1.x selected.\n"
          ],
          "name": "stdout"
        }
      ]
    },
    {
      "cell_type": "code",
      "metadata": {
        "id": "pxo-pWHANoyd",
        "colab_type": "code",
        "colab": {
          "base_uri": "https://localhost:8080/",
          "height": 34
        },
        "outputId": "2ba58be4-9261-418b-8671-b2e9c9db0e60"
      },
      "source": [
        "import tensorflow as tf\n",
        "\n",
        "print(tf.__version__)"
      ],
      "execution_count": 2,
      "outputs": [
        {
          "output_type": "stream",
          "text": [
            "1.15.2\n"
          ],
          "name": "stdout"
        }
      ]
    },
    {
      "cell_type": "code",
      "metadata": {
        "id": "1rl55BWCDyTL",
        "colab_type": "code",
        "colab": {}
      },
      "source": [
        "#!pip install deeppavlov"
      ],
      "execution_count": 0,
      "outputs": []
    },
    {
      "cell_type": "code",
      "metadata": {
        "id": "ianAoCFMvItu",
        "colab_type": "code",
        "colab": {}
      },
      "source": [
        "#!pip install allennlp\n",
        "#!pip install transformers"
      ],
      "execution_count": 0,
      "outputs": []
    },
    {
      "cell_type": "code",
      "metadata": {
        "id": "shE3aepx6kg7",
        "colab_type": "code",
        "outputId": "fd6396ff-b019-4887-f2d5-600dc2b7edd4",
        "colab": {
          "base_uri": "https://localhost:8080/",
          "height": 173
        }
      },
      "source": [
        "import os\n",
        "import zipfile\n",
        "import random\n",
        "\n",
        "import pandas as pd\n",
        "import numpy as np\n",
        "import torch\n",
        "import gensim\n",
        "import nltk\n",
        "import spacy\n",
        "import matplotlib.pyplot as plt\n",
        "import seaborn as sns\n",
        "import bs4\n",
        "\n",
        "from tqdm.notebook import tqdm\n",
        "\n",
        "from deeppavlov.models.embedders.elmo_embedder import ELMoEmbedder\n",
        "#from allennlp.modules.elmo import Elmo, batch_to_ids\n",
        "from sklearn.metrics import accuracy_score, precision_recall_fscore_support\n",
        "from sklearn.model_selection import train_test_split\n",
        "\n",
        "import torch.nn as nn\n",
        "import torch.nn.functional as F\n",
        "import torch.optim as optim\n",
        "import torchtext\n",
        "from torch.utils.data import Dataset as TorchDataset\n",
        "from torch.utils.data import DataLoader\n",
        "\n",
        "from transformers import AdamW\n",
        "\n",
        "from google.colab import drive\n",
        "\n",
        "USE_GOOGLE_DRIVE = True\n",
        "\n",
        "sns.set(font_scale=1.2)"
      ],
      "execution_count": 5,
      "outputs": [
        {
          "output_type": "stream",
          "text": [
            "[nltk_data] Downloading package punkt to /root/nltk_data...\n",
            "[nltk_data]   Package punkt is already up-to-date!\n",
            "[nltk_data] Downloading package stopwords to /root/nltk_data...\n",
            "[nltk_data]   Package stopwords is already up-to-date!\n",
            "[nltk_data] Downloading package perluniprops to /root/nltk_data...\n",
            "[nltk_data]   Package perluniprops is already up-to-date!\n",
            "[nltk_data] Downloading package nonbreaking_prefixes to\n",
            "[nltk_data]     /root/nltk_data...\n",
            "[nltk_data]   Package nonbreaking_prefixes is already up-to-date!\n"
          ],
          "name": "stderr"
        }
      ]
    },
    {
      "cell_type": "markdown",
      "metadata": {
        "id": "s6K05cSD71kI",
        "colab_type": "text"
      },
      "source": [
        "Примонтируем наш гугл-диск, если мы решили его использовать."
      ]
    },
    {
      "cell_type": "code",
      "metadata": {
        "id": "1MBzNx9n7wtX",
        "colab_type": "code",
        "outputId": "928156eb-254b-4d30-ce26-b3d5ba701ae5",
        "colab": {
          "base_uri": "https://localhost:8080/",
          "height": 34
        }
      },
      "source": [
        "if USE_GOOGLE_DRIVE:\n",
        "    drive.mount('/content/drive')\n",
        "    PATH_PREFIX = 'drive/My Drive/NLP/dialog-sent'\n",
        "else:\n",
        "    PATH_PREFIX = '..'"
      ],
      "execution_count": 6,
      "outputs": [
        {
          "output_type": "stream",
          "text": [
            "Drive already mounted at /content/drive; to attempt to forcibly remount, call drive.mount(\"/content/drive\", force_remount=True).\n"
          ],
          "name": "stdout"
        }
      ]
    },
    {
      "cell_type": "code",
      "metadata": {
        "id": "_ICV0PvCteP8",
        "colab_type": "code",
        "colab": {}
      },
      "source": [
        "DATA_PREFIX = os.path.join(PATH_PREFIX, 'data')\n",
        "MODEL_PREFIX = os.path.join(PATH_PREFIX, 'models')"
      ],
      "execution_count": 0,
      "outputs": []
    },
    {
      "cell_type": "markdown",
      "metadata": {
        "id": "d1rEg_dzCv2Z",
        "colab_type": "text"
      },
      "source": [
        "Зададим девайс для обучения."
      ]
    },
    {
      "cell_type": "code",
      "metadata": {
        "id": "ssNUbPpPCvOf",
        "colab_type": "code",
        "outputId": "c05a253f-c4cc-44d1-fa70-4cfc99c57b15",
        "colab": {
          "base_uri": "https://localhost:8080/",
          "height": 34
        }
      },
      "source": [
        "USE_GPU = True\n",
        "\n",
        "if USE_GPU and torch.cuda.is_available():\n",
        "    device = torch.device('cuda')\n",
        "else:\n",
        "    device = torch.device('cpu')\n",
        "\n",
        "print('using device:', device)"
      ],
      "execution_count": 8,
      "outputs": [
        {
          "output_type": "stream",
          "text": [
            "using device: cuda\n"
          ],
          "name": "stdout"
        }
      ]
    },
    {
      "cell_type": "markdown",
      "metadata": {
        "id": "yHTGiWVXC13E",
        "colab_type": "text"
      },
      "source": [
        "Проинициализируем везде генераторы случайных чисел."
      ]
    },
    {
      "cell_type": "code",
      "metadata": {
        "id": "gUC3PTVlC1JU",
        "colab_type": "code",
        "colab": {}
      },
      "source": [
        "random_seed = 42\n",
        "random_state = random_seed\n",
        "\n",
        "def set_seed_everywhere(seed, cuda):\n",
        "    random.seed(seed)\n",
        "    np.random.seed(seed)\n",
        "    torch.manual_seed(seed)\n",
        "    torch.backends.cudnn.deterministic = True\n",
        "    torch.backends.cudnn.benchmark = False\n",
        "    if cuda:\n",
        "        torch.cuda.manual_seed_all(seed)\n",
        "\n",
        "set_seed_everywhere(random_seed, USE_GPU)"
      ],
      "execution_count": 0,
      "outputs": []
    },
    {
      "cell_type": "markdown",
      "metadata": {
        "id": "IFqQNvroDFz0",
        "colab_type": "text"
      },
      "source": [
        "### Данные для русскоязычного датасета\n",
        "\n",
        "Теперь надо разобраться с данными. Мы используем отзывы о рестранах. В каждом отзыве есть т.н. аспектные термины, по которым мы должны указать тональность. В качестве примера можно привести отзыв из датасета:\n",
        "```xml\n",
        "\t<review id=\"15655\">\n",
        "\t\t<meta>\n",
        "\t\t\t<object>Roll &amp; Roll</object>\n",
        "\t\t\t<user>kazah</user>\n",
        "\t\t\t<date>29.05.2010 18:39</date>\n",
        "\t\t\t<useful>1</useful>\n",
        "\t\t</meta>\n",
        "\t\t<scores>\n",
        "\t\t\t<food>10</food>\n",
        "\t\t\t<interior>10</interior>\n",
        "\t\t\t<service>10</service>\n",
        "\t\t</scores>\n",
        "\t\t<text>Сегодня посетили этот ресторан с девушкой. Очень понравилось. Интерьер отличный, все из дерева и очень красиво! Официанты внимательны и ненавязчивы! Играет приятная музыка! \n",
        "        Что касается кухни: Остался в восторге от теплого салата с говядиной, и конечно стейк из говядины! Еще не могу не отметить крем-суп из лосося! \n",
        "        Ребята просто молодцы - очень очень вкусно! И порции &quot;достойные&quot;. В общем были приятно удивлены таким замечательным местом, обязательно придем еще, и не один раз!</text>\n",
        "\t\t<aspects>\n",
        "\t\t\t<aspect category=\"Whole\" from=\"22\" mark=\"Rel\" sentiment=\"neutral\" term=\"ресторан\" to=\"30\" type=\"explicit\"/>\n",
        "\t\t\t<aspect category=\"Interior\" from=\"62\" mark=\"Rel\" sentiment=\"positive\" term=\"Интерьер\" to=\"70\" type=\"explicit\"/>\n",
        "\t\t\t<aspect category=\"Interior\" from=\"81\" mark=\"Rel\" sentiment=\"positive\" term=\"все из дерева\" to=\"94\" type=\"fct\"/>\n",
        "\t\t\t<aspect category=\"Service\" from=\"112\" mark=\"Rel\" sentiment=\"positive\" term=\"Официанты\" to=\"121\" type=\"explicit\"/>\n",
        "\t\t\t<aspect category=\"Service\" from=\"122\" mark=\"Rel\" sentiment=\"positive\" term=\"внимательны\" to=\"133\" type=\"implicit\"/>\n",
        "\t\t\t<aspect category=\"Interior\" from=\"165\" mark=\"Rel\" sentiment=\"positive\" term=\"музыка\" to=\"171\" type=\"explicit\"/>\n",
        "\t\t\t<aspect category=\"Food\" from=\"186\" mark=\"Rel\" sentiment=\"positive\" term=\"кухни\" to=\"191\" type=\"explicit\"/>\n",
        "\t\t\t<aspect category=\"Food\" from=\"215\" mark=\"Rel\" sentiment=\"positive\" term=\"теплого салата с говядиной\" to=\"241\" type=\"explicit\"/>\n",
        "\t\t\t<aspect category=\"Food\" from=\"253\" mark=\"Rel\" sentiment=\"positive\" term=\"стейк из говядины\" to=\"270\" type=\"explicit\"/>\n",
        "\t\t\t<aspect category=\"Food\" from=\"296\" mark=\"Rel\" sentiment=\"positive\" term=\"крем-суп из лосося\" to=\"314\" type=\"explicit\"/>\n",
        "\t\t\t<aspect category=\"Food\" from=\"352\" mark=\"Rel\" sentiment=\"positive\" term=\"вкусно\" to=\"358\" type=\"implicit\"/>\n",
        "\t\t\t<aspect category=\"Food\" from=\"362\" mark=\"Rel\" sentiment=\"positive\" term=\"порции\" to=\"368\" type=\"explicit\"/>\n",
        "\t\t\t<aspect category=\"Whole\" from=\"432\" mark=\"Rel\" sentiment=\"positive\" term=\"местом\" to=\"438\" type=\"explicit\"/>\n",
        "\t\t</aspects>\n",
        "\t\t<categories>\n",
        "\t\t\t<category name=\"Food\" sentiment=\"positive\"/>\n",
        "\t\t\t<category name=\"Interior\" sentiment=\"positive\"/>\n",
        "\t\t\t<category name=\"Price\" sentiment=\"absence\"/>\n",
        "\t\t\t<category name=\"Whole\" sentiment=\"positive\"/>\n",
        "\t\t\t<category name=\"Service\" sentiment=\"positive\"/>\n",
        "\t\t</categories>\n",
        "\t</review>\n",
        "```\n",
        "Как видим, здесь весьма много аспектных терминов в отличие от англоязычного датасета. Аттрибуты from, to указывают на позицию термина в предложении.\n",
        "\n"
      ]
    },
    {
      "cell_type": "markdown",
      "metadata": {
        "id": "C6elfxM8FD2A",
        "colab_type": "text"
      },
      "source": [
        "Данные предоставлены в формате xml. Для работы с ними будем использовать beautiful soup."
      ]
    },
    {
      "cell_type": "code",
      "metadata": {
        "id": "hWs4aYnabrzk",
        "colab_type": "code",
        "colab": {}
      },
      "source": [
        "def xml2pandas(data_path):\n",
        "    \"\"\"Перевод исходного датасета в формате xml в pandas-датафрейм.\"\"\"\n",
        "    data_dict = {'sentence_id': [], 'text': [], 'term': [],\n",
        "                 'from': [], 'to': [], 'sentiment': []}\n",
        "\n",
        "    with open(data_path, 'r') as inf:\n",
        "        contents = inf.read()\n",
        "        soup = bs4.BeautifulSoup(contents, 'xml')\n",
        "        for review in soup.find_all('review'):\n",
        "            # Если нет аспектных терминов\n",
        "            if review.find('aspects') is None:\n",
        "                continue\n",
        "            terms = review.find('aspects').find_all(\n",
        "                'aspect'\n",
        "            )\n",
        "            for term in terms:\n",
        "                data_dict['term'].append(term['term'])\n",
        "                data_dict['from'].append(term['from'])\n",
        "                data_dict['to'].append(term['to'])\n",
        "                data_dict['sentiment'].append(term['sentiment'])\n",
        "\n",
        "                data_dict['sentence_id'].append(review['id'])\n",
        "                data_dict['text'].append(review.find('text').text)\n",
        "\n",
        "    data = pd.DataFrame(data_dict)\n",
        "    data['from'] = data['from'].astype(int)\n",
        "    data['to'] = data['to'].astype(int)\n",
        "    return data"
      ],
      "execution_count": 0,
      "outputs": []
    },
    {
      "cell_type": "code",
      "metadata": {
        "id": "HQPj-a1tDGJY",
        "colab_type": "code",
        "colab": {}
      },
      "source": [
        "data_train_raw_path = os.path.join(\n",
        "    DATA_PREFIX, 'raw', 'SentiRuEval-2015', 'SentiRuEval_rest_markup_train.xml'\n",
        ")\n",
        "\n",
        "data_test_raw_path = os.path.join(\n",
        "    DATA_PREFIX, 'raw', 'SentiRuEval-2015', 'SentiRuEval_rest_markup_test.xml'\n",
        ")\n",
        "\n",
        "data_train = xml2pandas(data_train_raw_path)\n",
        "data_test = xml2pandas(data_test_raw_path)"
      ],
      "execution_count": 0,
      "outputs": []
    },
    {
      "cell_type": "code",
      "metadata": {
        "id": "ihfLZoATOIqo",
        "colab_type": "code",
        "outputId": "d3e41925-17fe-4dea-a056-9bad5086eee7",
        "colab": {
          "base_uri": "https://localhost:8080/",
          "height": 206
        }
      },
      "source": [
        "data_train.head()"
      ],
      "execution_count": 12,
      "outputs": [
        {
          "output_type": "execute_result",
          "data": {
            "text/html": [
              "<div>\n",
              "<style scoped>\n",
              "    .dataframe tbody tr th:only-of-type {\n",
              "        vertical-align: middle;\n",
              "    }\n",
              "\n",
              "    .dataframe tbody tr th {\n",
              "        vertical-align: top;\n",
              "    }\n",
              "\n",
              "    .dataframe thead th {\n",
              "        text-align: right;\n",
              "    }\n",
              "</style>\n",
              "<table border=\"1\" class=\"dataframe\">\n",
              "  <thead>\n",
              "    <tr style=\"text-align: right;\">\n",
              "      <th></th>\n",
              "      <th>sentence_id</th>\n",
              "      <th>text</th>\n",
              "      <th>term</th>\n",
              "      <th>from</th>\n",
              "      <th>to</th>\n",
              "      <th>sentiment</th>\n",
              "    </tr>\n",
              "  </thead>\n",
              "  <tbody>\n",
              "    <tr>\n",
              "      <th>0</th>\n",
              "      <td>3976</td>\n",
              "      <td>День 8-го марта прошёл, можно и итоги подвести...</td>\n",
              "      <td>ресторане</td>\n",
              "      <td>71</td>\n",
              "      <td>80</td>\n",
              "      <td>neutral</td>\n",
              "    </tr>\n",
              "    <tr>\n",
              "      <th>1</th>\n",
              "      <td>3976</td>\n",
              "      <td>День 8-го марта прошёл, можно и итоги подвести...</td>\n",
              "      <td>ресторанах</td>\n",
              "      <td>198</td>\n",
              "      <td>208</td>\n",
              "      <td>neutral</td>\n",
              "    </tr>\n",
              "    <tr>\n",
              "      <th>2</th>\n",
              "      <td>3976</td>\n",
              "      <td>День 8-го марта прошёл, можно и итоги подвести...</td>\n",
              "      <td>ресторане</td>\n",
              "      <td>256</td>\n",
              "      <td>265</td>\n",
              "      <td>neutral</td>\n",
              "    </tr>\n",
              "    <tr>\n",
              "      <th>3</th>\n",
              "      <td>3976</td>\n",
              "      <td>День 8-го марта прошёл, можно и итоги подвести...</td>\n",
              "      <td>Столик бронировали</td>\n",
              "      <td>267</td>\n",
              "      <td>285</td>\n",
              "      <td>neutral</td>\n",
              "    </tr>\n",
              "    <tr>\n",
              "      <th>4</th>\n",
              "      <td>3976</td>\n",
              "      <td>День 8-го марта прошёл, можно и итоги подвести...</td>\n",
              "      <td>сделали так как предложил администратор</td>\n",
              "      <td>296</td>\n",
              "      <td>335</td>\n",
              "      <td>positive</td>\n",
              "    </tr>\n",
              "  </tbody>\n",
              "</table>\n",
              "</div>"
            ],
            "text/plain": [
              "  sentence_id                                               text  ...   to  sentiment\n",
              "0        3976  День 8-го марта прошёл, можно и итоги подвести...  ...   80    neutral\n",
              "1        3976  День 8-го марта прошёл, можно и итоги подвести...  ...  208    neutral\n",
              "2        3976  День 8-го марта прошёл, можно и итоги подвести...  ...  265    neutral\n",
              "3        3976  День 8-го марта прошёл, можно и итоги подвести...  ...  285    neutral\n",
              "4        3976  День 8-го марта прошёл, можно и итоги подвести...  ...  335   positive\n",
              "\n",
              "[5 rows x 6 columns]"
            ]
          },
          "metadata": {
            "tags": []
          },
          "execution_count": 12
        }
      ]
    },
    {
      "cell_type": "code",
      "metadata": {
        "id": "CMiztqHjcuEd",
        "colab_type": "code",
        "outputId": "f3d0972f-b00a-41c6-c732-aa494326518f",
        "colab": {
          "base_uri": "https://localhost:8080/",
          "height": 206
        }
      },
      "source": [
        "data_test.head()"
      ],
      "execution_count": 13,
      "outputs": [
        {
          "output_type": "execute_result",
          "data": {
            "text/html": [
              "<div>\n",
              "<style scoped>\n",
              "    .dataframe tbody tr th:only-of-type {\n",
              "        vertical-align: middle;\n",
              "    }\n",
              "\n",
              "    .dataframe tbody tr th {\n",
              "        vertical-align: top;\n",
              "    }\n",
              "\n",
              "    .dataframe thead th {\n",
              "        text-align: right;\n",
              "    }\n",
              "</style>\n",
              "<table border=\"1\" class=\"dataframe\">\n",
              "  <thead>\n",
              "    <tr style=\"text-align: right;\">\n",
              "      <th></th>\n",
              "      <th>sentence_id</th>\n",
              "      <th>text</th>\n",
              "      <th>term</th>\n",
              "      <th>from</th>\n",
              "      <th>to</th>\n",
              "      <th>sentiment</th>\n",
              "    </tr>\n",
              "  </thead>\n",
              "  <tbody>\n",
              "    <tr>\n",
              "      <th>0</th>\n",
              "      <td>37784</td>\n",
              "      <td>По совету друзей посетили данное заведение. Бы...</td>\n",
              "      <td>заведение</td>\n",
              "      <td>33</td>\n",
              "      <td>42</td>\n",
              "      <td>neutral</td>\n",
              "    </tr>\n",
              "    <tr>\n",
              "      <th>1</th>\n",
              "      <td>37784</td>\n",
              "      <td>По совету друзей посетили данное заведение. Бы...</td>\n",
              "      <td>Очень людно</td>\n",
              "      <td>68</td>\n",
              "      <td>79</td>\n",
              "      <td>negative</td>\n",
              "    </tr>\n",
              "    <tr>\n",
              "      <th>2</th>\n",
              "      <td>37784</td>\n",
              "      <td>По совету друзей посетили данное заведение. Бы...</td>\n",
              "      <td>пиво</td>\n",
              "      <td>93</td>\n",
              "      <td>97</td>\n",
              "      <td>positive</td>\n",
              "    </tr>\n",
              "    <tr>\n",
              "      <th>3</th>\n",
              "      <td>37784</td>\n",
              "      <td>По совету друзей посетили данное заведение. Бы...</td>\n",
              "      <td>большой выбор</td>\n",
              "      <td>104</td>\n",
              "      <td>117</td>\n",
              "      <td>positive</td>\n",
              "    </tr>\n",
              "    <tr>\n",
              "      <th>4</th>\n",
              "      <td>37784</td>\n",
              "      <td>По совету друзей посетили данное заведение. Бы...</td>\n",
              "      <td>кухни</td>\n",
              "      <td>122</td>\n",
              "      <td>127</td>\n",
              "      <td>neutral</td>\n",
              "    </tr>\n",
              "  </tbody>\n",
              "</table>\n",
              "</div>"
            ],
            "text/plain": [
              "  sentence_id                                               text  ...   to  sentiment\n",
              "0       37784  По совету друзей посетили данное заведение. Бы...  ...   42    neutral\n",
              "1       37784  По совету друзей посетили данное заведение. Бы...  ...   79   negative\n",
              "2       37784  По совету друзей посетили данное заведение. Бы...  ...   97   positive\n",
              "3       37784  По совету друзей посетили данное заведение. Бы...  ...  117   positive\n",
              "4       37784  По совету друзей посетили данное заведение. Бы...  ...  127    neutral\n",
              "\n",
              "[5 rows x 6 columns]"
            ]
          },
          "metadata": {
            "tags": []
          },
          "execution_count": 13
        }
      ]
    },
    {
      "cell_type": "markdown",
      "metadata": {
        "id": "WHE8rRD0ptnl",
        "colab_type": "text"
      },
      "source": [
        "Теперь, чтобы нормально это обучать надо как-то сохранить информацию о местопложении аспектных терминов (иначе токенизация порушит наши индексы, и они перестанут работать). В общем случае, нам надо хранить слайс индексов, которые будут отвечать за аспектный термин после токенизации.\n",
        "\n",
        "Чтобы выполнить токенизацию и понять, где все еще находится аспектный термин, нам потребуется поставить какие-то маркеры. Попробуем проверить, что в наших текстах нет символов <, >, которыми мы обозначим границы аспектных терминов."
      ]
    },
    {
      "cell_type": "code",
      "metadata": {
        "id": "Hm72Lu7ips7o",
        "colab_type": "code",
        "outputId": "b3b42971-4168-47b8-fbb1-d724b311e3b2",
        "colab": {
          "base_uri": "https://localhost:8080/",
          "height": 86
        }
      },
      "source": [
        "print(data_train['text'].apply(lambda x: '<' in x).sum())\n",
        "print(data_test['text'].apply(lambda x: '>' in x).sum())\n",
        "print(data_test['text'].apply(lambda x: '<' in x).sum())\n",
        "print(data_test['text'].apply(lambda x: '>' in x).sum())"
      ],
      "execution_count": 14,
      "outputs": [
        {
          "output_type": "stream",
          "text": [
            "0\n",
            "0\n",
            "0\n",
            "0\n"
          ],
          "name": "stdout"
        }
      ]
    },
    {
      "cell_type": "markdown",
      "metadata": {
        "id": "LfXH79AatDzG",
        "colab_type": "text"
      },
      "source": [
        "Обрамим аспектные термины символами <, >, чтобы потом после токенизации сразу понять, где они."
      ]
    },
    {
      "cell_type": "code",
      "metadata": {
        "id": "GLjHxZj2sxDF",
        "colab_type": "code",
        "outputId": "18e28f5b-c158-44ef-eac4-13f0b43ada2a",
        "colab": {
          "base_uri": "https://localhost:8080/",
          "height": 206
        }
      },
      "source": [
        "data_train.head()"
      ],
      "execution_count": 15,
      "outputs": [
        {
          "output_type": "execute_result",
          "data": {
            "text/html": [
              "<div>\n",
              "<style scoped>\n",
              "    .dataframe tbody tr th:only-of-type {\n",
              "        vertical-align: middle;\n",
              "    }\n",
              "\n",
              "    .dataframe tbody tr th {\n",
              "        vertical-align: top;\n",
              "    }\n",
              "\n",
              "    .dataframe thead th {\n",
              "        text-align: right;\n",
              "    }\n",
              "</style>\n",
              "<table border=\"1\" class=\"dataframe\">\n",
              "  <thead>\n",
              "    <tr style=\"text-align: right;\">\n",
              "      <th></th>\n",
              "      <th>sentence_id</th>\n",
              "      <th>text</th>\n",
              "      <th>term</th>\n",
              "      <th>from</th>\n",
              "      <th>to</th>\n",
              "      <th>sentiment</th>\n",
              "    </tr>\n",
              "  </thead>\n",
              "  <tbody>\n",
              "    <tr>\n",
              "      <th>0</th>\n",
              "      <td>3976</td>\n",
              "      <td>День 8-го марта прошёл, можно и итоги подвести...</td>\n",
              "      <td>ресторане</td>\n",
              "      <td>71</td>\n",
              "      <td>80</td>\n",
              "      <td>neutral</td>\n",
              "    </tr>\n",
              "    <tr>\n",
              "      <th>1</th>\n",
              "      <td>3976</td>\n",
              "      <td>День 8-го марта прошёл, можно и итоги подвести...</td>\n",
              "      <td>ресторанах</td>\n",
              "      <td>198</td>\n",
              "      <td>208</td>\n",
              "      <td>neutral</td>\n",
              "    </tr>\n",
              "    <tr>\n",
              "      <th>2</th>\n",
              "      <td>3976</td>\n",
              "      <td>День 8-го марта прошёл, можно и итоги подвести...</td>\n",
              "      <td>ресторане</td>\n",
              "      <td>256</td>\n",
              "      <td>265</td>\n",
              "      <td>neutral</td>\n",
              "    </tr>\n",
              "    <tr>\n",
              "      <th>3</th>\n",
              "      <td>3976</td>\n",
              "      <td>День 8-го марта прошёл, можно и итоги подвести...</td>\n",
              "      <td>Столик бронировали</td>\n",
              "      <td>267</td>\n",
              "      <td>285</td>\n",
              "      <td>neutral</td>\n",
              "    </tr>\n",
              "    <tr>\n",
              "      <th>4</th>\n",
              "      <td>3976</td>\n",
              "      <td>День 8-го марта прошёл, можно и итоги подвести...</td>\n",
              "      <td>сделали так как предложил администратор</td>\n",
              "      <td>296</td>\n",
              "      <td>335</td>\n",
              "      <td>positive</td>\n",
              "    </tr>\n",
              "  </tbody>\n",
              "</table>\n",
              "</div>"
            ],
            "text/plain": [
              "  sentence_id                                               text  ...   to  sentiment\n",
              "0        3976  День 8-го марта прошёл, можно и итоги подвести...  ...   80    neutral\n",
              "1        3976  День 8-го марта прошёл, можно и итоги подвести...  ...  208    neutral\n",
              "2        3976  День 8-го марта прошёл, можно и итоги подвести...  ...  265    neutral\n",
              "3        3976  День 8-го марта прошёл, можно и итоги подвести...  ...  285    neutral\n",
              "4        3976  День 8-го марта прошёл, можно и итоги подвести...  ...  335   positive\n",
              "\n",
              "[5 rows x 6 columns]"
            ]
          },
          "metadata": {
            "tags": []
          },
          "execution_count": 15
        }
      ]
    },
    {
      "cell_type": "code",
      "metadata": {
        "id": "Px81HC5Fzd2o",
        "colab_type": "code",
        "outputId": "a03dbb66-76ad-4953-ad6c-cfeb877ad594",
        "colab": {
          "base_uri": "https://localhost:8080/",
          "height": 610
        }
      },
      "source": [
        "!python -m spacy download xx_ent_wiki_sm\n",
        "!python -m spacy validate"
      ],
      "execution_count": 16,
      "outputs": [
        {
          "output_type": "stream",
          "text": [
            "Requirement already satisfied: xx_ent_wiki_sm==2.2.0 from https://github.com/explosion/spacy-models/releases/download/xx_ent_wiki_sm-2.2.0/xx_ent_wiki_sm-2.2.0.tar.gz#egg=xx_ent_wiki_sm==2.2.0 in /usr/local/lib/python3.6/dist-packages (2.2.0)\n",
            "Requirement already satisfied: spacy>=2.2.0 in /usr/local/lib/python3.6/dist-packages (from xx_ent_wiki_sm==2.2.0) (2.2.4)\n",
            "Requirement already satisfied: cymem<2.1.0,>=2.0.2 in /usr/local/lib/python3.6/dist-packages (from spacy>=2.2.0->xx_ent_wiki_sm==2.2.0) (2.0.3)\n",
            "Requirement already satisfied: murmurhash<1.1.0,>=0.28.0 in /usr/local/lib/python3.6/dist-packages (from spacy>=2.2.0->xx_ent_wiki_sm==2.2.0) (1.0.2)\n",
            "Requirement already satisfied: srsly<1.1.0,>=1.0.2 in /usr/local/lib/python3.6/dist-packages (from spacy>=2.2.0->xx_ent_wiki_sm==2.2.0) (1.0.2)\n",
            "Requirement already satisfied: plac<1.2.0,>=0.9.6 in /usr/local/lib/python3.6/dist-packages (from spacy>=2.2.0->xx_ent_wiki_sm==2.2.0) (1.1.3)\n",
            "Requirement already satisfied: requests<3.0.0,>=2.13.0 in /usr/local/lib/python3.6/dist-packages (from spacy>=2.2.0->xx_ent_wiki_sm==2.2.0) (2.22.0)\n",
            "Requirement already satisfied: wasabi<1.1.0,>=0.4.0 in /usr/local/lib/python3.6/dist-packages (from spacy>=2.2.0->xx_ent_wiki_sm==2.2.0) (0.6.0)\n",
            "Requirement already satisfied: thinc==7.4.0 in /usr/local/lib/python3.6/dist-packages (from spacy>=2.2.0->xx_ent_wiki_sm==2.2.0) (7.4.0)\n",
            "Requirement already satisfied: numpy>=1.15.0 in /usr/local/lib/python3.6/dist-packages (from spacy>=2.2.0->xx_ent_wiki_sm==2.2.0) (1.18.0)\n",
            "Requirement already satisfied: blis<0.5.0,>=0.4.0 in /usr/local/lib/python3.6/dist-packages (from spacy>=2.2.0->xx_ent_wiki_sm==2.2.0) (0.4.1)\n",
            "Requirement already satisfied: preshed<3.1.0,>=3.0.2 in /usr/local/lib/python3.6/dist-packages (from spacy>=2.2.0->xx_ent_wiki_sm==2.2.0) (3.0.2)\n",
            "Requirement already satisfied: tqdm<5.0.0,>=4.38.0 in /usr/local/lib/python3.6/dist-packages (from spacy>=2.2.0->xx_ent_wiki_sm==2.2.0) (4.41.1)\n",
            "Requirement already satisfied: catalogue<1.1.0,>=0.0.7 in /usr/local/lib/python3.6/dist-packages (from spacy>=2.2.0->xx_ent_wiki_sm==2.2.0) (1.0.0)\n",
            "Requirement already satisfied: setuptools in /usr/local/lib/python3.6/dist-packages (from spacy>=2.2.0->xx_ent_wiki_sm==2.2.0) (46.1.3)\n",
            "Requirement already satisfied: chardet<3.1.0,>=3.0.2 in /usr/local/lib/python3.6/dist-packages (from requests<3.0.0,>=2.13.0->spacy>=2.2.0->xx_ent_wiki_sm==2.2.0) (3.0.4)\n",
            "Requirement already satisfied: certifi>=2017.4.17 in /usr/local/lib/python3.6/dist-packages (from requests<3.0.0,>=2.13.0->spacy>=2.2.0->xx_ent_wiki_sm==2.2.0) (2020.4.5.1)\n",
            "Requirement already satisfied: idna<2.9,>=2.5 in /usr/local/lib/python3.6/dist-packages (from requests<3.0.0,>=2.13.0->spacy>=2.2.0->xx_ent_wiki_sm==2.2.0) (2.8)\n",
            "Requirement already satisfied: urllib3!=1.25.0,!=1.25.1,<1.26,>=1.21.1 in /usr/local/lib/python3.6/dist-packages (from requests<3.0.0,>=2.13.0->spacy>=2.2.0->xx_ent_wiki_sm==2.2.0) (1.24.3)\n",
            "Requirement already satisfied: importlib-metadata>=0.20; python_version < \"3.8\" in /usr/local/lib/python3.6/dist-packages (from catalogue<1.1.0,>=0.0.7->spacy>=2.2.0->xx_ent_wiki_sm==2.2.0) (1.6.0)\n",
            "Requirement already satisfied: zipp>=0.5 in /usr/local/lib/python3.6/dist-packages (from importlib-metadata>=0.20; python_version < \"3.8\"->catalogue<1.1.0,>=0.0.7->spacy>=2.2.0->xx_ent_wiki_sm==2.2.0) (3.1.0)\n",
            "\u001b[38;5;2m✔ Download and installation successful\u001b[0m\n",
            "You can now load the model via spacy.load('xx_ent_wiki_sm')\n",
            "\u001b[2K\u001b[38;5;2m✔ Loaded compatibility table\u001b[0m\n",
            "\u001b[1m\n",
            "====================== Installed models (spaCy v2.2.4) ======================\u001b[0m\n",
            "\u001b[38;5;4mℹ spaCy installation: /usr/local/lib/python3.6/dist-packages/spacy\u001b[0m\n",
            "\n",
            "TYPE      NAME             MODEL            VERSION                            \n",
            "package   xx-ent-wiki-sm   xx_ent_wiki_sm   \u001b[38;5;2m2.2.0\u001b[0m   \u001b[38;5;2m✔\u001b[0m\n",
            "package   en-core-web-sm   en_core_web_sm   \u001b[38;5;2m2.2.5\u001b[0m   \u001b[38;5;2m✔\u001b[0m\n",
            "link      en               en_core_web_sm   \u001b[38;5;2m2.2.5\u001b[0m   \u001b[38;5;2m✔\u001b[0m\n",
            "\n"
          ],
          "name": "stdout"
        }
      ]
    },
    {
      "cell_type": "code",
      "metadata": {
        "id": "k4RVUQiitVs1",
        "colab_type": "code",
        "colab": {}
      },
      "source": [
        "nlp = spacy.load('xx_ent_wiki_sm')"
      ],
      "execution_count": 0,
      "outputs": []
    },
    {
      "cell_type": "code",
      "metadata": {
        "id": "deYBuk0AtVzN",
        "colab_type": "code",
        "colab": {}
      },
      "source": [
        "def tokenize(df_orig, nlp):\n",
        "    df = df_orig.copy()\n",
        "    from_tokens = []\n",
        "    to_tokens = []\n",
        "    tokenized_texts = []\n",
        "    for i, row in df.iterrows():\n",
        "        raw_text = row['text']\n",
        "        from_index = row['from']\n",
        "        to_index = row['to']\n",
        "        text = (raw_text[:from_index] + '< ' + raw_text[from_index:to_index] \n",
        "                + ' >' + raw_text[to_index:])\n",
        "        doc = nlp(text)\n",
        "        tokens = [x.text for x in doc]\n",
        "        tokenized_texts.append([x for x in tokens if x not in ['<', '>']])\n",
        "        try:\n",
        "            from_tokens.append(tokens.index('<') + 1)\n",
        "            to_tokens.append(tokens.index('>'))\n",
        "        except ValueError as e:\n",
        "            print(raw_text)\n",
        "            print(tokens)\n",
        "    df['from'] = from_tokens\n",
        "    df['to'] = to_tokens\n",
        "    df['text'] = tokenized_texts\n",
        "    return df"
      ],
      "execution_count": 0,
      "outputs": []
    },
    {
      "cell_type": "code",
      "metadata": {
        "id": "DbvG6tf7tVxE",
        "colab_type": "code",
        "outputId": "a4df1460-ec4a-4f9f-bbe3-a3f78798e116",
        "colab": {
          "base_uri": "https://localhost:8080/",
          "height": 206
        }
      },
      "source": [
        "data_train = tokenize(data_train, nlp)\n",
        "data_test = tokenize(data_test, nlp)\n",
        "data_train.head()"
      ],
      "execution_count": 19,
      "outputs": [
        {
          "output_type": "execute_result",
          "data": {
            "text/html": [
              "<div>\n",
              "<style scoped>\n",
              "    .dataframe tbody tr th:only-of-type {\n",
              "        vertical-align: middle;\n",
              "    }\n",
              "\n",
              "    .dataframe tbody tr th {\n",
              "        vertical-align: top;\n",
              "    }\n",
              "\n",
              "    .dataframe thead th {\n",
              "        text-align: right;\n",
              "    }\n",
              "</style>\n",
              "<table border=\"1\" class=\"dataframe\">\n",
              "  <thead>\n",
              "    <tr style=\"text-align: right;\">\n",
              "      <th></th>\n",
              "      <th>sentence_id</th>\n",
              "      <th>text</th>\n",
              "      <th>term</th>\n",
              "      <th>from</th>\n",
              "      <th>to</th>\n",
              "      <th>sentiment</th>\n",
              "    </tr>\n",
              "  </thead>\n",
              "  <tbody>\n",
              "    <tr>\n",
              "      <th>0</th>\n",
              "      <td>3976</td>\n",
              "      <td>[День, 8-го, марта, прошёл, ,, можно, и, итоги...</td>\n",
              "      <td>ресторане</td>\n",
              "      <td>15</td>\n",
              "      <td>16</td>\n",
              "      <td>neutral</td>\n",
              "    </tr>\n",
              "    <tr>\n",
              "      <th>1</th>\n",
              "      <td>3976</td>\n",
              "      <td>[День, 8-го, марта, прошёл, ,, можно, и, итоги...</td>\n",
              "      <td>ресторанах</td>\n",
              "      <td>34</td>\n",
              "      <td>35</td>\n",
              "      <td>neutral</td>\n",
              "    </tr>\n",
              "    <tr>\n",
              "      <th>2</th>\n",
              "      <td>3976</td>\n",
              "      <td>[День, 8-го, марта, прошёл, ,, можно, и, итоги...</td>\n",
              "      <td>ресторане</td>\n",
              "      <td>47</td>\n",
              "      <td>48</td>\n",
              "      <td>neutral</td>\n",
              "    </tr>\n",
              "    <tr>\n",
              "      <th>3</th>\n",
              "      <td>3976</td>\n",
              "      <td>[День, 8-го, марта, прошёл, ,, можно, и, итоги...</td>\n",
              "      <td>Столик бронировали</td>\n",
              "      <td>49</td>\n",
              "      <td>51</td>\n",
              "      <td>neutral</td>\n",
              "    </tr>\n",
              "    <tr>\n",
              "      <th>4</th>\n",
              "      <td>3976</td>\n",
              "      <td>[День, 8-го, марта, прошёл, ,, можно, и, итоги...</td>\n",
              "      <td>сделали так как предложил администратор</td>\n",
              "      <td>53</td>\n",
              "      <td>58</td>\n",
              "      <td>positive</td>\n",
              "    </tr>\n",
              "  </tbody>\n",
              "</table>\n",
              "</div>"
            ],
            "text/plain": [
              "  sentence_id                                               text  ...  to  sentiment\n",
              "0        3976  [День, 8-го, марта, прошёл, ,, можно, и, итоги...  ...  16    neutral\n",
              "1        3976  [День, 8-го, марта, прошёл, ,, можно, и, итоги...  ...  35    neutral\n",
              "2        3976  [День, 8-го, марта, прошёл, ,, можно, и, итоги...  ...  48    neutral\n",
              "3        3976  [День, 8-го, марта, прошёл, ,, можно, и, итоги...  ...  51    neutral\n",
              "4        3976  [День, 8-го, марта, прошёл, ,, можно, и, итоги...  ...  58   positive\n",
              "\n",
              "[5 rows x 6 columns]"
            ]
          },
          "metadata": {
            "tags": []
          },
          "execution_count": 19
        }
      ]
    },
    {
      "cell_type": "markdown",
      "metadata": {
        "id": "RqpOQX474RgK",
        "colab_type": "text"
      },
      "source": [
        "Проверим, что ничего не сломалось."
      ]
    },
    {
      "cell_type": "code",
      "metadata": {
        "id": "e9STJEPi3dhc",
        "colab_type": "code",
        "outputId": "a02b8a7b-93d3-4d69-914d-a660785a2255",
        "colab": {
          "base_uri": "https://localhost:8080/",
          "height": 86
        }
      },
      "source": [
        "print(data_train['text'].apply(lambda x: '<' in ''.join(x)).sum())\n",
        "print(data_train['text'].apply(lambda x: '>' in ''.join(x)).sum())\n",
        "print(data_test['text'].apply(lambda x: '<' in ''.join(x)).sum())\n",
        "print(data_test['text'].apply(lambda x: '>' in ''.join(x)).sum())"
      ],
      "execution_count": 20,
      "outputs": [
        {
          "output_type": "stream",
          "text": [
            "0\n",
            "0\n",
            "0\n",
            "0\n"
          ],
          "name": "stdout"
        }
      ]
    },
    {
      "cell_type": "markdown",
      "metadata": {
        "id": "IdaaxIyaHzJT",
        "colab_type": "text"
      },
      "source": [
        "Теперь можем разделить данные на валидацию и трейн."
      ]
    },
    {
      "cell_type": "code",
      "metadata": {
        "id": "MJXx9xmyTrXU",
        "colab_type": "code",
        "outputId": "caaf233b-646a-4abb-9618-a0a91c5420fc",
        "colab": {
          "base_uri": "https://localhost:8080/",
          "height": 69
        }
      },
      "source": [
        "data_train, data_valid = train_test_split(\n",
        "    data_train, test_size=0.2, random_state=random_state\n",
        ")\n",
        "\n",
        "print(f'TRAIN SIZE: {data_train.shape[0]}')\n",
        "print(f'VALIDATE SIZE: {data_valid.shape[0]}')\n",
        "print(f'TEST SIZE: {data_test.shape[0]}')"
      ],
      "execution_count": 21,
      "outputs": [
        {
          "output_type": "stream",
          "text": [
            "TRAIN SIZE: 3488\n",
            "VALIDATE SIZE: 873\n",
            "TEST SIZE: 5117\n"
          ],
          "name": "stdout"
        }
      ]
    },
    {
      "cell_type": "markdown",
      "metadata": {
        "id": "z3Ir8PPg-gsx",
        "colab_type": "text"
      },
      "source": [
        "Будем использовать DeepPavlov. В качестве примера будем использовать [официальный сайт](http://docs.deeppavlov.ai/en/master/apiref/models/embedders.html#deeppavlov.models.embedders.elmo_embedder.ELMoEmbedder). Можно заметить, что там уже идет обработка батча, поэтому никаким образом паддинги нам обрабатывать не надо, а потому torchtext не нужен."
      ]
    },
    {
      "cell_type": "code",
      "metadata": {
        "id": "qBJCO6uG9QMg",
        "colab_type": "code",
        "outputId": "b81f8cd2-3bc8-4ed2-a1f7-7f5f33d513a9",
        "colab": {
          "base_uri": "https://localhost:8080/",
          "height": 34
        }
      },
      "source": [
        "data_train.sentiment.unique()"
      ],
      "execution_count": 22,
      "outputs": [
        {
          "output_type": "execute_result",
          "data": {
            "text/plain": [
              "array(['negative', 'neutral', 'positive', 'both'], dtype=object)"
            ]
          },
          "metadata": {
            "tags": []
          },
          "execution_count": 22
        }
      ]
    },
    {
      "cell_type": "code",
      "metadata": {
        "id": "Z4fK6-nI0LXa",
        "colab_type": "code",
        "colab": {}
      },
      "source": [
        "sentiment_vocab = {'negative': 0, 'positive': 1, 'neutral': 2, 'both': 3}"
      ],
      "execution_count": 0,
      "outputs": []
    },
    {
      "cell_type": "code",
      "metadata": {
        "id": "H0y3WoZA__2O",
        "colab_type": "code",
        "colab": {}
      },
      "source": [
        "class Dataset(TorchDataset):\n",
        "    \n",
        "    \"\"\"Custom data.Dataset compatible with data.DataLoader.\"\"\"\n",
        "    def __init__(self, data, sentiment_vocab):\n",
        "        self.data = data\n",
        "        self.sentiment_vocab = sentiment_vocab\n",
        "\n",
        "    def __getitem__(self, index):\n",
        "        \"\"\"\n",
        "        Returns one tensor pair (source and target). The source tensor corresponds to the input word,\n",
        "        with \"BEGIN\" and \"END\" symbols attached. The target tensor should contain the answers\n",
        "        for the language model that obtain these word as input.        \n",
        "        \"\"\"\n",
        "        text = self.data['text'].iloc[index]\n",
        "        from_index = torch.tensor([self.data['from'].iloc[index]], \n",
        "                                  dtype=torch.long)\n",
        "        to_index = torch.tensor([self.data['to'].iloc[index]], dtype=torch.long)\n",
        "        sentiment = torch.tensor(\n",
        "            [self.sentiment_vocab[self.data['sentiment'].iloc[index]]], \n",
        "            dtype=torch.long\n",
        "        )\n",
        "        return (text, from_index, to_index, sentiment)\n",
        "\n",
        "    def __len__(self):\n",
        "        return len(self.data)"
      ],
      "execution_count": 0,
      "outputs": []
    },
    {
      "cell_type": "code",
      "metadata": {
        "id": "Ur371e2eFMca",
        "colab_type": "code",
        "colab": {}
      },
      "source": [
        "def collate_fn(batch):\n",
        "    \"\"\"Специальная функция для обработки паддингов.\"\"\"\n",
        "    # распакуем батч\n",
        "    text, from_index, to_index, sentiment = zip(*batch)\n",
        "    # состакаем все кроме текстов (с ними потом разберется сам ELMo)\n",
        "    from_index = torch.stack(from_index)\n",
        "    to_index = torch.stack(to_index)\n",
        "    sentiment = torch.stack(sentiment)\n",
        "    return text, from_index, to_index, sentiment"
      ],
      "execution_count": 0,
      "outputs": []
    },
    {
      "cell_type": "markdown",
      "metadata": {
        "id": "SN9XwXkMKACX",
        "colab_type": "text"
      },
      "source": [
        "Проверим, что батчи работают правильно."
      ]
    },
    {
      "cell_type": "code",
      "metadata": {
        "id": "Zi_m6U-S__9j",
        "colab_type": "code",
        "outputId": "90891fe9-586e-4f50-d32a-e46935bc1597",
        "colab": {
          "base_uri": "https://localhost:8080/",
          "height": 121
        }
      },
      "source": [
        "train_dataset = Dataset(data_train, sentiment_vocab)\n",
        "dataloader_train = DataLoader(train_dataset, batch_size=5, \n",
        "                              shuffle=True, num_workers=4, \n",
        "                              collate_fn=collate_fn)\n",
        "\n",
        "for i_batch, (text_batched, from_batched, to_batched, \n",
        "              sentiment_batched) in enumerate(dataloader_train):\n",
        "    if i_batch == 1:\n",
        "        break\n",
        "    print(from_batched)\n",
        "    print(from_batched.size())"
      ],
      "execution_count": 26,
      "outputs": [
        {
          "output_type": "stream",
          "text": [
            "tensor([[  5],\n",
            "        [ 34],\n",
            "        [148],\n",
            "        [205],\n",
            "        [ 49]])\n",
            "torch.Size([5, 1])\n"
          ],
          "name": "stdout"
        }
      ]
    },
    {
      "cell_type": "markdown",
      "metadata": {
        "colab_type": "text",
        "id": "7xjTTmQtBTYG"
      },
      "source": [
        "### ELMoCNN"
      ]
    },
    {
      "cell_type": "markdown",
      "metadata": {
        "colab_type": "text",
        "id": "v5Un_dJhBTYQ"
      },
      "source": [
        "Возьмем лучшую модель из 5-db-elmo.ipynb."
      ]
    },
    {
      "cell_type": "code",
      "metadata": {
        "colab_type": "code",
        "id": "QeMH9CJ2BTYX",
        "colab": {}
      },
      "source": [
        "class ELMOCNN(nn.Module):\n",
        "\n",
        "    def __init__(self, num_sentiments, elmo, embeddings_dim, \n",
        "                 hidden_dim, kernel_sizes, device):\n",
        "        super(ELMOCNN, self).__init__()\n",
        "\n",
        "        self.device = device\n",
        "\n",
        "        self.elmo = elmo\n",
        "        self.elmo_lstm_coef_1 = nn.Parameter(torch.ones(1))\n",
        "        self.elmo_lstm_coef_2 = nn.Parameter(torch.ones(1))\n",
        "\n",
        "        self.embeddings_dim = embeddings_dim\n",
        "\n",
        "        self.convs1 = nn.ModuleList(\n",
        "            [nn.Conv1d(embeddings_dim, hidden_dim, kernel_size) \n",
        "            for kernel_size in kernel_sizes]\n",
        "        )\n",
        "        self.convs1_nonlin = nn.ReLU()\n",
        "        self.convs1_dropout = nn.Dropout()\n",
        "\n",
        "        self.to_sentiments = nn.Linear(2*len(kernel_sizes)*hidden_dim, \n",
        "                                       num_sentiments)\n",
        "\n",
        "        # weights initializatioin\n",
        "        torch.nn.init.xavier_uniform_(self.to_sentiments.weight)\n",
        "        \n",
        "    def forward(self, texts, from_indices, to_indices, hidden=None):\n",
        "        # get elmo embeddings\n",
        "        embeddings_raw = torch.tensor(self.elmo(texts), device=self.device)\n",
        "        print(embeddings_raw.size())\n",
        "        \n",
        "        # split embeddings to lstm_1, lstm_2\n",
        "        embeddings = (\n",
        "            embeddings_raw[:, :, :self.embeddings_dim]*self.elmo_lstm_coef_1\n",
        "            + \n",
        "            embeddings_raw[:, :, self.embeddings_dim:]*self.elmo_lstm_coef_2\n",
        "        )\n",
        "\n",
        "        # get bit matrix\n",
        "        batch_size, seq_len, _ = embeddings.size()\n",
        "        index_matrix = torch.repeat_interleave(\n",
        "            torch.arange(seq_len).view(1, -1), batch_size, dim=0\n",
        "        ).to(device=self.device)\n",
        "        bit_matrix = ((index_matrix >= from_indices) \n",
        "                      & (index_matrix < to_indices))\n",
        "        # inverse bit matrix to work with context\n",
        "        bit_matrix = ~bit_matrix\n",
        "        # get average of embedings according to bit_matrix\n",
        "        embeddings = embeddings*torch.unsqueeze(bit_matrix, -1)\n",
        "        embeddings = torch.transpose(embeddings, 1, 2)\n",
        "        x = [self.convs1_nonlin(conv(embeddings)) for conv in self.convs1]\n",
        "\n",
        "        list_to_cat = [torch.max(y, 2)[0] for y in x]\n",
        "        list_to_cat += [torch.mean(y, 2) for y in x]\n",
        "        x = torch.cat(list_to_cat, 1)\n",
        "        x = self.convs1_dropout(x)\n",
        "        sentiments = self.to_sentiments(x)\n",
        "        return sentiments"
      ],
      "execution_count": 0,
      "outputs": []
    },
    {
      "cell_type": "markdown",
      "metadata": {
        "colab_type": "text",
        "id": "7LMcxHiABTYr"
      },
      "source": [
        "Инициализируем нашу сеть."
      ]
    },
    {
      "cell_type": "code",
      "metadata": {
        "colab_type": "code",
        "id": "SDCis05IBTYt",
        "outputId": "971ee738-9533-45ab-8f83-646861efede2",
        "colab": {
          "base_uri": "https://localhost:8080/",
          "height": 367
        }
      },
      "source": [
        "set_seed_everywhere(random_seed, USE_GPU)\n",
        "\n",
        "num_sentiments = len(sentiment_vocab)\n",
        "\n",
        "elmo = ELMoEmbedder(\"http://files.deeppavlov.ai/deeppavlov_data/elmo_ru-news_wmt11-16_1.5M_steps.tar.gz\", \n",
        "                    elmo_output_names=[\"lstm_outputs1\", \"lstm_outputs2\"], pad_zero=True)\n",
        "\n",
        "hidden_dim = 32\n",
        "\n",
        "model = ELMOCNN(\n",
        "    num_sentiments, elmo, 1024, hidden_dim, [3, 5, 7], device\n",
        ")"
      ],
      "execution_count": 28,
      "outputs": [
        {
          "output_type": "stream",
          "text": [
            "INFO:absl:Using /tmp/tfhub_modules to cache modules.\n"
          ],
          "name": "stderr"
        },
        {
          "output_type": "stream",
          "text": [
            "WARNING:tensorflow:From /usr/local/lib/python3.6/dist-packages/deeppavlov/models/embedders/elmo_embedder.py:186: The name tf.ConfigProto is deprecated. Please use tf.compat.v1.ConfigProto instead.\n",
            "\n"
          ],
          "name": "stdout"
        },
        {
          "output_type": "stream",
          "text": [
            "WARNING:tensorflow:From /usr/local/lib/python3.6/dist-packages/deeppavlov/models/embedders/elmo_embedder.py:186: The name tf.ConfigProto is deprecated. Please use tf.compat.v1.ConfigProto instead.\n",
            "\n"
          ],
          "name": "stderr"
        },
        {
          "output_type": "stream",
          "text": [
            "WARNING:tensorflow:From /usr/local/lib/python3.6/dist-packages/deeppavlov/models/embedders/elmo_embedder.py:188: The name tf.Session is deprecated. Please use tf.compat.v1.Session instead.\n",
            "\n"
          ],
          "name": "stdout"
        },
        {
          "output_type": "stream",
          "text": [
            "WARNING:tensorflow:From /usr/local/lib/python3.6/dist-packages/deeppavlov/models/embedders/elmo_embedder.py:188: The name tf.Session is deprecated. Please use tf.compat.v1.Session instead.\n",
            "\n"
          ],
          "name": "stderr"
        },
        {
          "output_type": "stream",
          "text": [
            "WARNING:tensorflow:From /usr/local/lib/python3.6/dist-packages/deeppavlov/models/embedders/elmo_embedder.py:190: The name tf.placeholder is deprecated. Please use tf.compat.v1.placeholder instead.\n",
            "\n"
          ],
          "name": "stdout"
        },
        {
          "output_type": "stream",
          "text": [
            "WARNING:tensorflow:From /usr/local/lib/python3.6/dist-packages/deeppavlov/models/embedders/elmo_embedder.py:190: The name tf.placeholder is deprecated. Please use tf.compat.v1.placeholder instead.\n",
            "\n"
          ],
          "name": "stderr"
        },
        {
          "output_type": "stream",
          "text": [
            "INFO:tensorflow:Saver not created because there are no variables in the graph to restore\n"
          ],
          "name": "stdout"
        },
        {
          "output_type": "stream",
          "text": [
            "INFO:tensorflow:Saver not created because there are no variables in the graph to restore\n"
          ],
          "name": "stderr"
        },
        {
          "output_type": "stream",
          "text": [
            "WARNING:tensorflow:From /usr/local/lib/python3.6/dist-packages/deeppavlov/models/embedders/elmo_embedder.py:198: The name tf.global_variables_initializer is deprecated. Please use tf.compat.v1.global_variables_initializer instead.\n",
            "\n"
          ],
          "name": "stdout"
        },
        {
          "output_type": "stream",
          "text": [
            "WARNING:tensorflow:From /usr/local/lib/python3.6/dist-packages/deeppavlov/models/embedders/elmo_embedder.py:198: The name tf.global_variables_initializer is deprecated. Please use tf.compat.v1.global_variables_initializer instead.\n",
            "\n"
          ],
          "name": "stderr"
        }
      ]
    },
    {
      "cell_type": "code",
      "metadata": {
        "id": "BZFTlXh2KIxc",
        "colab_type": "code",
        "outputId": "7b89e311-941a-446d-aa25-ffb67d935c39",
        "colab": {
          "base_uri": "https://localhost:8080/",
          "height": 191
        }
      },
      "source": [
        "data_train.text[0][:10]"
      ],
      "execution_count": 29,
      "outputs": [
        {
          "output_type": "execute_result",
          "data": {
            "text/plain": [
              "['День',\n",
              " '8-го',\n",
              " 'марта',\n",
              " 'прошёл',\n",
              " ',',\n",
              " 'можно',\n",
              " 'и',\n",
              " 'итоги',\n",
              " 'подвести',\n",
              " '.']"
            ]
          },
          "metadata": {
            "tags": []
          },
          "execution_count": 29
        }
      ]
    },
    {
      "cell_type": "code",
      "metadata": {
        "id": "v01znWnyOy61",
        "colab_type": "code",
        "outputId": "10021469-2336-4d8a-8377-ffd5faef3964",
        "colab": {
          "base_uri": "https://localhost:8080/",
          "height": 34
        }
      },
      "source": [
        "elmo(data_train.text[:10].tolist()).shape"
      ],
      "execution_count": 30,
      "outputs": [
        {
          "output_type": "execute_result",
          "data": {
            "text/plain": [
              "(10, 246, 2048)"
            ]
          },
          "metadata": {
            "tags": []
          },
          "execution_count": 30
        }
      ]
    },
    {
      "cell_type": "markdown",
      "metadata": {
        "id": "72qEL_q4MVcZ",
        "colab_type": "text"
      },
      "source": [
        "#### Цикл обучения"
      ]
    },
    {
      "cell_type": "code",
      "metadata": {
        "colab_type": "code",
        "id": "PgsHpOLA9xza",
        "colab": {}
      },
      "source": [
        "def train_loop(train_iter, val_iter, model, opt, scheduler, criterion, epochs, \n",
        "               early_stopping, path_save, path_best_save, save_every_epoch=5):\n",
        "    train_losses = []\n",
        "    val_losses = []\n",
        "    train_acc_values = []\n",
        "    val_acc_values = []\n",
        "    best_val_loss = 100\n",
        "    best_val_acc = 0\n",
        "    not_improves = 0\n",
        "    for epoch in tqdm(range(1, epochs + 1)):\n",
        "        train_loss = 0.0\n",
        "        train_acc = 0\n",
        "        model.train() \n",
        "        for batch in tqdm(train_iter, leave=False): \n",
        "\n",
        "            texts, from_indices, to_indices, sentiments = batch\n",
        "            from_indices = from_indices.to(device=device)\n",
        "            to_indices = to_indices.to(device=device)\n",
        "            sentiments = sentiments.to(device=device).squeeze(1)\n",
        "\n",
        "            opt.zero_grad()\n",
        "            preds = model(texts, from_indices, to_indices)\n",
        "\n",
        "            loss = criterion(preds, sentiments)\n",
        "            loss.backward()\n",
        "            nn.utils.clip_grad_norm_(model.parameters(), grad_clipping_value)\n",
        "            opt.step()\n",
        "            train_loss += loss.item()\n",
        "\n",
        "            pred_sentiments = torch.max(preds, dim=-1)[1]\n",
        "            train_acc += np.sum(\n",
        "                pred_sentiments.cpu().numpy() == sentiments.cpu().numpy()\n",
        "            )\n",
        "\n",
        "        train_loss /= len(train_iter.dataset)\n",
        "        train_losses.append(train_loss)\n",
        "        train_acc /= len(train_iter.dataset)\n",
        "        train_acc_values.append(train_acc)\n",
        "\n",
        "        val_loss = 0.0\n",
        "        val_acc = 0\n",
        "        model.eval()\n",
        "        with torch.no_grad():\n",
        "            for batch in val_iter:\n",
        "\n",
        "                texts, from_indices, to_indices, sentiments = batch\n",
        "                from_indices = from_indices.to(device=device)\n",
        "                to_indices = to_indices.to(device=device)\n",
        "                sentiments = sentiments.to(device=device).squeeze(1)\n",
        "\n",
        "                opt.zero_grad()\n",
        "                preds = model(texts, from_indices, to_indices)\n",
        "\n",
        "                preds = model(texts, from_indices, to_indices)  \n",
        "                loss = criterion(preds, sentiments)\n",
        "                val_loss += loss.item()\n",
        "\n",
        "                pred_sentiments = torch.max(preds, dim=-1)[1]\n",
        "                val_acc += np.sum(\n",
        "                    pred_sentiments.cpu().numpy() == sentiments.cpu().numpy()\n",
        "                )\n",
        "\n",
        "        val_loss /= len(valid_iter.dataset)\n",
        "        val_acc /= len(valid_iter.dataset)\n",
        "        val_losses.append(val_loss)\n",
        "        val_acc_values.append(val_acc)\n",
        "\n",
        "        if val_acc > best_val_acc:\n",
        "            not_improves = 0\n",
        "            best_val_acc = val_acc\n",
        "            torch.save({\n",
        "                'epoch': epoch,\n",
        "                'model_state_dict': model.state_dict(),\n",
        "                'optimizer_state_dict': opt.state_dict(),\n",
        "                'sheduler_state_dict': scheduler.state_dict(),\n",
        "                'train_losses': train_losses,\n",
        "                'validate_losses': val_losses,\n",
        "                'train_accuracies': train_acc_values,\n",
        "                'validate_accuracies': val_acc_values,\n",
        "                }, path_best_save)\n",
        "            print('------SAVED BEST------')\n",
        "        else:\n",
        "            not_improves += 1\n",
        "            if not_improves == early_stopping:\n",
        "                break\n",
        "\n",
        "        if (epoch-1) % save_every_epoch == 0:\n",
        "            torch.save({\n",
        "                'epoch': epoch,\n",
        "                'model_state_dict': model.state_dict(),\n",
        "                'optimizer_state_dict': opt.state_dict(),\n",
        "                'sheduler_state_dict': scheduler.state_dict(),\n",
        "                'train_losses': train_losses,\n",
        "                'validate_losses': val_losses,\n",
        "                'train_accuracies': train_acc_values,\n",
        "                'validate_accuracies': val_acc_values,\n",
        "                }, path_save)\n",
        "            print('------SAVED------')\n",
        "        \n",
        "        scheduler.step()\n",
        "\n",
        "        print(f'Epoch: {epoch}, '\n",
        "              f'Training Loss*: {1000*train_loss:.3f}, '\n",
        "              f'Validation Loss*: {1000*val_loss:.3f}, \\n'\n",
        "              f'Training Acc: {train_acc:.3f}, '\n",
        "              f'Validation Acc: {val_acc:.3f}')\n",
        "\n",
        "    return train_losses, val_losses, train_acc_values, val_acc_values"
      ],
      "execution_count": 0,
      "outputs": []
    },
    {
      "cell_type": "code",
      "metadata": {
        "colab_type": "code",
        "id": "QspbvcOBBTZE",
        "colab": {}
      },
      "source": [
        "remain_sentiments = ['neutral', 'positive', 'negative']\n",
        "\n",
        "train_dataset = Dataset(\n",
        "    data_train[data_train.sentiment.isin(remain_sentiments)], \n",
        "    sentiment_vocab\n",
        ")\n",
        "valid_dataset = Dataset(\n",
        "    data_valid[data_valid.sentiment.isin(remain_sentiments)], sentiment_vocab\n",
        ")\n",
        "test_dataset = Dataset(\n",
        "    data_test[data_test.sentiment.isin(remain_sentiments)], sentiment_vocab\n",
        ")\n",
        "\n",
        "batch_size = 128\n",
        "\n",
        "train_iter = DataLoader(train_dataset, batch_size=batch_size, \n",
        "                        shuffle=True, num_workers=4, \n",
        "                        collate_fn=collate_fn)\n",
        "\n",
        "valid_iter = DataLoader(valid_dataset, batch_size=batch_size,\n",
        "                        shuffle=True, num_workers=4, \n",
        "                        collate_fn=collate_fn)\n",
        "\n",
        "test_iter = DataLoader(test_dataset, batch_size=batch_size, \n",
        "                       shuffle=True, num_workers=4, \n",
        "                       collate_fn=collate_fn)"
      ],
      "execution_count": 0,
      "outputs": []
    },
    {
      "cell_type": "code",
      "metadata": {
        "colab_type": "code",
        "id": "Mck1ZLDmBTZT",
        "colab": {}
      },
      "source": [
        "model = model.to(device=device)\n",
        "learning_rate = 5*1e-4\n",
        "early_stopping = 6\n",
        "grad_clipping_value = 1\n",
        "l2_reg = 1e-3\n",
        "epochs = 50\n",
        "\n",
        "opt = AdamW(model.parameters(), lr=learning_rate, weight_decay=l2_reg)\n",
        "scheduler = optim.lr_scheduler.StepLR(opt, step_size=1000, gamma=1)\n",
        "criterion = nn.CrossEntropyLoss(reduction='sum')\n",
        "path_save = os.path.join(MODEL_PREFIX, 'elmo', 'elmo_cnn_russian.pt')\n",
        "path_best_save = os.path.join(MODEL_PREFIX, 'elmo', 'elmo_cnn_russian_best.pt')"
      ],
      "execution_count": 0,
      "outputs": []
    },
    {
      "cell_type": "code",
      "metadata": {
        "colab_type": "code",
        "outputId": "5c1e1ff3-f85c-42c9-e319-a038aeaabe7c",
        "id": "bq4kJYxxBTZd",
        "colab": {
          "base_uri": "https://localhost:8080/",
          "height": 587,
          "referenced_widgets": [
            "22f7122549f1420aab9a48fffafc6004",
            "bf10ab1ee0d84fd69186671d84d00dff",
            "72b2572e5dcd40378679724062dfd677",
            "c622ff709f4345509db08a1a7b2676d1",
            "1c03a0d91a4e4669922141e9c1c6430e",
            "b5dc44095cc1439aae1715fdd08cf1e3",
            "a9e677ee1eac4cea982ee51ef3a6633e",
            "978060e30e4d453c905a37b27ae711e9",
            "7a09e850a90248cdac400d0498a5104c",
            "bf37f984058c4153a37d23acc3d5ca52",
            "0debe9639cb24ce6886e47bf14845fa9",
            "0a9e3fdaf44e4a619778c0d061500671",
            "ee8b54f5acfc4f63b46fa9c9513593c6",
            "ad90730b3a724a6cb5cfd4b7c597f352",
            "8b3af1ac9a9e4776bfe66480637a58cd",
            "40216c97d7254483b13308ecdb8da223"
          ]
        }
      },
      "source": [
        "set_seed_everywhere(random_seed, USE_GPU)\n",
        "train_losses, val_losses, train_acc, val_acc = train_loop(\n",
        "    train_iter, valid_iter, model, opt, scheduler, criterion, \n",
        "    epochs, early_stopping, path_save, path_best_save\n",
        ")"
      ],
      "execution_count": 37,
      "outputs": [
        {
          "output_type": "display_data",
          "data": {
            "application/vnd.jupyter.widget-view+json": {
              "model_id": "22f7122549f1420aab9a48fffafc6004",
              "version_minor": 0,
              "version_major": 2
            },
            "text/plain": [
              "HBox(children=(FloatProgress(value=0.0, max=50.0), HTML(value='')))"
            ]
          },
          "metadata": {
            "tags": []
          }
        },
        {
          "output_type": "display_data",
          "data": {
            "application/vnd.jupyter.widget-view+json": {
              "model_id": "7a09e850a90248cdac400d0498a5104c",
              "version_minor": 0,
              "version_major": 2
            },
            "text/plain": [
              "HBox(children=(FloatProgress(value=0.0, max=216.0), HTML(value='')))"
            ]
          },
          "metadata": {
            "tags": []
          }
        },
        {
          "output_type": "stream",
          "text": [
            "torch.Size([16, 251, 2048])\n"
          ],
          "name": "stdout"
        },
        {
          "output_type": "stream",
          "text": [
            "/pytorch/torch/csrc/utils/python_arg_parser.cpp:756: UserWarning: This overload of add_ is deprecated:\n",
            "\tadd_(Number alpha, Tensor other)\n",
            "Consider using one of the following signatures instead:\n",
            "\tadd_(Tensor other, *, Number alpha)\n"
          ],
          "name": "stderr"
        },
        {
          "output_type": "stream",
          "text": [
            "torch.Size([16, 264, 2048])\n",
            "\n",
            "\n"
          ],
          "name": "stdout"
        },
        {
          "output_type": "error",
          "ename": "RuntimeError",
          "evalue": "ignored",
          "traceback": [
            "\u001b[0;31m---------------------------------------------------------------------------\u001b[0m",
            "\u001b[0;31mRuntimeError\u001b[0m                              Traceback (most recent call last)",
            "\u001b[0;32m<ipython-input-37-7e9f314f9b10>\u001b[0m in \u001b[0;36m<module>\u001b[0;34m()\u001b[0m\n\u001b[1;32m      2\u001b[0m train_losses, val_losses, train_acc, val_acc = train_loop(\n\u001b[1;32m      3\u001b[0m     \u001b[0mtrain_iter\u001b[0m\u001b[0;34m,\u001b[0m \u001b[0mvalid_iter\u001b[0m\u001b[0;34m,\u001b[0m \u001b[0mmodel\u001b[0m\u001b[0;34m,\u001b[0m \u001b[0mopt\u001b[0m\u001b[0;34m,\u001b[0m \u001b[0mscheduler\u001b[0m\u001b[0;34m,\u001b[0m \u001b[0mcriterion\u001b[0m\u001b[0;34m,\u001b[0m\u001b[0;34m\u001b[0m\u001b[0;34m\u001b[0m\u001b[0m\n\u001b[0;32m----> 4\u001b[0;31m     \u001b[0mepochs\u001b[0m\u001b[0;34m,\u001b[0m \u001b[0mearly_stopping\u001b[0m\u001b[0;34m,\u001b[0m \u001b[0mpath_save\u001b[0m\u001b[0;34m,\u001b[0m \u001b[0mpath_best_save\u001b[0m\u001b[0;34m\u001b[0m\u001b[0;34m\u001b[0m\u001b[0m\n\u001b[0m\u001b[1;32m      5\u001b[0m )\n",
            "\u001b[0;32m<ipython-input-31-b3c8a795a495>\u001b[0m in \u001b[0;36mtrain_loop\u001b[0;34m(train_iter, val_iter, model, opt, scheduler, criterion, epochs, early_stopping, path_save, path_best_save, save_every_epoch)\u001b[0m\n\u001b[1;32m     20\u001b[0m \u001b[0;34m\u001b[0m\u001b[0m\n\u001b[1;32m     21\u001b[0m             \u001b[0mopt\u001b[0m\u001b[0;34m.\u001b[0m\u001b[0mzero_grad\u001b[0m\u001b[0;34m(\u001b[0m\u001b[0;34m)\u001b[0m\u001b[0;34m\u001b[0m\u001b[0;34m\u001b[0m\u001b[0m\n\u001b[0;32m---> 22\u001b[0;31m             \u001b[0mpreds\u001b[0m \u001b[0;34m=\u001b[0m \u001b[0mmodel\u001b[0m\u001b[0;34m(\u001b[0m\u001b[0mtexts\u001b[0m\u001b[0;34m,\u001b[0m \u001b[0mfrom_indices\u001b[0m\u001b[0;34m,\u001b[0m \u001b[0mto_indices\u001b[0m\u001b[0;34m)\u001b[0m\u001b[0;34m\u001b[0m\u001b[0;34m\u001b[0m\u001b[0m\n\u001b[0m\u001b[1;32m     23\u001b[0m \u001b[0;34m\u001b[0m\u001b[0m\n\u001b[1;32m     24\u001b[0m             \u001b[0mloss\u001b[0m \u001b[0;34m=\u001b[0m \u001b[0mcriterion\u001b[0m\u001b[0;34m(\u001b[0m\u001b[0mpreds\u001b[0m\u001b[0;34m,\u001b[0m \u001b[0msentiments\u001b[0m\u001b[0;34m)\u001b[0m\u001b[0;34m\u001b[0m\u001b[0;34m\u001b[0m\u001b[0m\n",
            "\u001b[0;32m/usr/local/lib/python3.6/dist-packages/torch/nn/modules/module.py\u001b[0m in \u001b[0;36m__call__\u001b[0;34m(self, *input, **kwargs)\u001b[0m\n\u001b[1;32m    548\u001b[0m             \u001b[0mresult\u001b[0m \u001b[0;34m=\u001b[0m \u001b[0mself\u001b[0m\u001b[0;34m.\u001b[0m\u001b[0m_slow_forward\u001b[0m\u001b[0;34m(\u001b[0m\u001b[0;34m*\u001b[0m\u001b[0minput\u001b[0m\u001b[0;34m,\u001b[0m \u001b[0;34m**\u001b[0m\u001b[0mkwargs\u001b[0m\u001b[0;34m)\u001b[0m\u001b[0;34m\u001b[0m\u001b[0;34m\u001b[0m\u001b[0m\n\u001b[1;32m    549\u001b[0m         \u001b[0;32melse\u001b[0m\u001b[0;34m:\u001b[0m\u001b[0;34m\u001b[0m\u001b[0;34m\u001b[0m\u001b[0m\n\u001b[0;32m--> 550\u001b[0;31m             \u001b[0mresult\u001b[0m \u001b[0;34m=\u001b[0m \u001b[0mself\u001b[0m\u001b[0;34m.\u001b[0m\u001b[0mforward\u001b[0m\u001b[0;34m(\u001b[0m\u001b[0;34m*\u001b[0m\u001b[0minput\u001b[0m\u001b[0;34m,\u001b[0m \u001b[0;34m**\u001b[0m\u001b[0mkwargs\u001b[0m\u001b[0;34m)\u001b[0m\u001b[0;34m\u001b[0m\u001b[0;34m\u001b[0m\u001b[0m\n\u001b[0m\u001b[1;32m    551\u001b[0m         \u001b[0;32mfor\u001b[0m \u001b[0mhook\u001b[0m \u001b[0;32min\u001b[0m \u001b[0mself\u001b[0m\u001b[0;34m.\u001b[0m\u001b[0m_forward_hooks\u001b[0m\u001b[0;34m.\u001b[0m\u001b[0mvalues\u001b[0m\u001b[0;34m(\u001b[0m\u001b[0;34m)\u001b[0m\u001b[0;34m:\u001b[0m\u001b[0;34m\u001b[0m\u001b[0;34m\u001b[0m\u001b[0m\n\u001b[1;32m    552\u001b[0m             \u001b[0mhook_result\u001b[0m \u001b[0;34m=\u001b[0m \u001b[0mhook\u001b[0m\u001b[0;34m(\u001b[0m\u001b[0mself\u001b[0m\u001b[0;34m,\u001b[0m \u001b[0minput\u001b[0m\u001b[0;34m,\u001b[0m \u001b[0mresult\u001b[0m\u001b[0;34m)\u001b[0m\u001b[0;34m\u001b[0m\u001b[0;34m\u001b[0m\u001b[0m\n",
            "\u001b[0;32m<ipython-input-27-98ef1546c313>\u001b[0m in \u001b[0;36mforward\u001b[0;34m(self, texts, from_indices, to_indices, hidden)\u001b[0m\n\u001b[1;32m     50\u001b[0m         \u001b[0membeddings\u001b[0m \u001b[0;34m=\u001b[0m \u001b[0membeddings\u001b[0m\u001b[0;34m*\u001b[0m\u001b[0mtorch\u001b[0m\u001b[0;34m.\u001b[0m\u001b[0munsqueeze\u001b[0m\u001b[0;34m(\u001b[0m\u001b[0mbit_matrix\u001b[0m\u001b[0;34m,\u001b[0m \u001b[0;34m-\u001b[0m\u001b[0;36m1\u001b[0m\u001b[0;34m)\u001b[0m\u001b[0;34m\u001b[0m\u001b[0;34m\u001b[0m\u001b[0m\n\u001b[1;32m     51\u001b[0m         \u001b[0membeddings\u001b[0m \u001b[0;34m=\u001b[0m \u001b[0mtorch\u001b[0m\u001b[0;34m.\u001b[0m\u001b[0mtranspose\u001b[0m\u001b[0;34m(\u001b[0m\u001b[0membeddings\u001b[0m\u001b[0;34m,\u001b[0m \u001b[0;36m1\u001b[0m\u001b[0;34m,\u001b[0m \u001b[0;36m2\u001b[0m\u001b[0;34m)\u001b[0m\u001b[0;34m\u001b[0m\u001b[0;34m\u001b[0m\u001b[0m\n\u001b[0;32m---> 52\u001b[0;31m         \u001b[0mx\u001b[0m \u001b[0;34m=\u001b[0m \u001b[0;34m[\u001b[0m\u001b[0mself\u001b[0m\u001b[0;34m.\u001b[0m\u001b[0mconvs1_nonlin\u001b[0m\u001b[0;34m(\u001b[0m\u001b[0mconv\u001b[0m\u001b[0;34m(\u001b[0m\u001b[0membeddings\u001b[0m\u001b[0;34m)\u001b[0m\u001b[0;34m)\u001b[0m \u001b[0;32mfor\u001b[0m \u001b[0mconv\u001b[0m \u001b[0;32min\u001b[0m \u001b[0mself\u001b[0m\u001b[0;34m.\u001b[0m\u001b[0mconvs1\u001b[0m\u001b[0;34m]\u001b[0m\u001b[0;34m\u001b[0m\u001b[0;34m\u001b[0m\u001b[0m\n\u001b[0m\u001b[1;32m     53\u001b[0m \u001b[0;34m\u001b[0m\u001b[0m\n\u001b[1;32m     54\u001b[0m         \u001b[0mlist_to_cat\u001b[0m \u001b[0;34m=\u001b[0m \u001b[0;34m[\u001b[0m\u001b[0mtorch\u001b[0m\u001b[0;34m.\u001b[0m\u001b[0mmax\u001b[0m\u001b[0;34m(\u001b[0m\u001b[0my\u001b[0m\u001b[0;34m,\u001b[0m \u001b[0;36m2\u001b[0m\u001b[0;34m)\u001b[0m\u001b[0;34m[\u001b[0m\u001b[0;36m0\u001b[0m\u001b[0;34m]\u001b[0m \u001b[0;32mfor\u001b[0m \u001b[0my\u001b[0m \u001b[0;32min\u001b[0m \u001b[0mx\u001b[0m\u001b[0;34m]\u001b[0m\u001b[0;34m\u001b[0m\u001b[0;34m\u001b[0m\u001b[0m\n",
            "\u001b[0;32m<ipython-input-27-98ef1546c313>\u001b[0m in \u001b[0;36m<listcomp>\u001b[0;34m(.0)\u001b[0m\n\u001b[1;32m     50\u001b[0m         \u001b[0membeddings\u001b[0m \u001b[0;34m=\u001b[0m \u001b[0membeddings\u001b[0m\u001b[0;34m*\u001b[0m\u001b[0mtorch\u001b[0m\u001b[0;34m.\u001b[0m\u001b[0munsqueeze\u001b[0m\u001b[0;34m(\u001b[0m\u001b[0mbit_matrix\u001b[0m\u001b[0;34m,\u001b[0m \u001b[0;34m-\u001b[0m\u001b[0;36m1\u001b[0m\u001b[0;34m)\u001b[0m\u001b[0;34m\u001b[0m\u001b[0;34m\u001b[0m\u001b[0m\n\u001b[1;32m     51\u001b[0m         \u001b[0membeddings\u001b[0m \u001b[0;34m=\u001b[0m \u001b[0mtorch\u001b[0m\u001b[0;34m.\u001b[0m\u001b[0mtranspose\u001b[0m\u001b[0;34m(\u001b[0m\u001b[0membeddings\u001b[0m\u001b[0;34m,\u001b[0m \u001b[0;36m1\u001b[0m\u001b[0;34m,\u001b[0m \u001b[0;36m2\u001b[0m\u001b[0;34m)\u001b[0m\u001b[0;34m\u001b[0m\u001b[0;34m\u001b[0m\u001b[0m\n\u001b[0;32m---> 52\u001b[0;31m         \u001b[0mx\u001b[0m \u001b[0;34m=\u001b[0m \u001b[0;34m[\u001b[0m\u001b[0mself\u001b[0m\u001b[0;34m.\u001b[0m\u001b[0mconvs1_nonlin\u001b[0m\u001b[0;34m(\u001b[0m\u001b[0mconv\u001b[0m\u001b[0;34m(\u001b[0m\u001b[0membeddings\u001b[0m\u001b[0;34m)\u001b[0m\u001b[0;34m)\u001b[0m \u001b[0;32mfor\u001b[0m \u001b[0mconv\u001b[0m \u001b[0;32min\u001b[0m \u001b[0mself\u001b[0m\u001b[0;34m.\u001b[0m\u001b[0mconvs1\u001b[0m\u001b[0;34m]\u001b[0m\u001b[0;34m\u001b[0m\u001b[0;34m\u001b[0m\u001b[0m\n\u001b[0m\u001b[1;32m     53\u001b[0m \u001b[0;34m\u001b[0m\u001b[0m\n\u001b[1;32m     54\u001b[0m         \u001b[0mlist_to_cat\u001b[0m \u001b[0;34m=\u001b[0m \u001b[0;34m[\u001b[0m\u001b[0mtorch\u001b[0m\u001b[0;34m.\u001b[0m\u001b[0mmax\u001b[0m\u001b[0;34m(\u001b[0m\u001b[0my\u001b[0m\u001b[0;34m,\u001b[0m \u001b[0;36m2\u001b[0m\u001b[0;34m)\u001b[0m\u001b[0;34m[\u001b[0m\u001b[0;36m0\u001b[0m\u001b[0;34m]\u001b[0m \u001b[0;32mfor\u001b[0m \u001b[0my\u001b[0m \u001b[0;32min\u001b[0m \u001b[0mx\u001b[0m\u001b[0;34m]\u001b[0m\u001b[0;34m\u001b[0m\u001b[0;34m\u001b[0m\u001b[0m\n",
            "\u001b[0;32m/usr/local/lib/python3.6/dist-packages/torch/nn/modules/module.py\u001b[0m in \u001b[0;36m__call__\u001b[0;34m(self, *input, **kwargs)\u001b[0m\n\u001b[1;32m    548\u001b[0m             \u001b[0mresult\u001b[0m \u001b[0;34m=\u001b[0m \u001b[0mself\u001b[0m\u001b[0;34m.\u001b[0m\u001b[0m_slow_forward\u001b[0m\u001b[0;34m(\u001b[0m\u001b[0;34m*\u001b[0m\u001b[0minput\u001b[0m\u001b[0;34m,\u001b[0m \u001b[0;34m**\u001b[0m\u001b[0mkwargs\u001b[0m\u001b[0;34m)\u001b[0m\u001b[0;34m\u001b[0m\u001b[0;34m\u001b[0m\u001b[0m\n\u001b[1;32m    549\u001b[0m         \u001b[0;32melse\u001b[0m\u001b[0;34m:\u001b[0m\u001b[0;34m\u001b[0m\u001b[0;34m\u001b[0m\u001b[0m\n\u001b[0;32m--> 550\u001b[0;31m             \u001b[0mresult\u001b[0m \u001b[0;34m=\u001b[0m \u001b[0mself\u001b[0m\u001b[0;34m.\u001b[0m\u001b[0mforward\u001b[0m\u001b[0;34m(\u001b[0m\u001b[0;34m*\u001b[0m\u001b[0minput\u001b[0m\u001b[0;34m,\u001b[0m \u001b[0;34m**\u001b[0m\u001b[0mkwargs\u001b[0m\u001b[0;34m)\u001b[0m\u001b[0;34m\u001b[0m\u001b[0;34m\u001b[0m\u001b[0m\n\u001b[0m\u001b[1;32m    551\u001b[0m         \u001b[0;32mfor\u001b[0m \u001b[0mhook\u001b[0m \u001b[0;32min\u001b[0m \u001b[0mself\u001b[0m\u001b[0;34m.\u001b[0m\u001b[0m_forward_hooks\u001b[0m\u001b[0;34m.\u001b[0m\u001b[0mvalues\u001b[0m\u001b[0;34m(\u001b[0m\u001b[0;34m)\u001b[0m\u001b[0;34m:\u001b[0m\u001b[0;34m\u001b[0m\u001b[0;34m\u001b[0m\u001b[0m\n\u001b[1;32m    552\u001b[0m             \u001b[0mhook_result\u001b[0m \u001b[0;34m=\u001b[0m \u001b[0mhook\u001b[0m\u001b[0;34m(\u001b[0m\u001b[0mself\u001b[0m\u001b[0;34m,\u001b[0m \u001b[0minput\u001b[0m\u001b[0;34m,\u001b[0m \u001b[0mresult\u001b[0m\u001b[0;34m)\u001b[0m\u001b[0;34m\u001b[0m\u001b[0;34m\u001b[0m\u001b[0m\n",
            "\u001b[0;32m/usr/local/lib/python3.6/dist-packages/torch/nn/modules/conv.py\u001b[0m in \u001b[0;36mforward\u001b[0;34m(self, input)\u001b[0m\n\u001b[1;32m    206\u001b[0m                             _single(0), self.dilation, self.groups)\n\u001b[1;32m    207\u001b[0m         return F.conv1d(input, self.weight, self.bias, self.stride,\n\u001b[0;32m--> 208\u001b[0;31m                         self.padding, self.dilation, self.groups)\n\u001b[0m\u001b[1;32m    209\u001b[0m \u001b[0;34m\u001b[0m\u001b[0m\n\u001b[1;32m    210\u001b[0m \u001b[0;34m\u001b[0m\u001b[0m\n",
            "\u001b[0;31mRuntimeError\u001b[0m: CUDA out of memory. Tried to allocate 18.00 MiB (GPU 0; 11.17 GiB total capacity; 367.10 MiB already allocated; 15.31 MiB free; 374.00 MiB reserved in total by PyTorch)"
          ]
        }
      ]
    },
    {
      "cell_type": "code",
      "metadata": {
        "colab_type": "code",
        "outputId": "8618d739-d13a-4b6e-c11f-28b8b93085a5",
        "id": "Y4UkS_GEBTZt",
        "colab": {
          "base_uri": "https://localhost:8080/",
          "height": 578
        }
      },
      "source": [
        "plt.figure(figsize=(16, 9))\n",
        "finished_epochs = len(train_losses)\n",
        "plt.plot(np.arange(finished_epochs), train_losses, label='Train loss')\n",
        "plt.plot(np.arange(finished_epochs), val_losses, label='Validation loss')\n",
        "plt.xlabel('epoch')\n",
        "plt.ylabel('cross entropy loss')\n",
        "plt.title('Кривая обучения')\n",
        "plt.legend()\n",
        "plt.show()"
      ],
      "execution_count": 0,
      "outputs": [
        {
          "output_type": "display_data",
          "data": {
            "image/png": "[encoded data removed]",
            "text/plain": [
              "<Figure size 1152x648 with 1 Axes>"
            ]
          },
          "metadata": {
            "tags": []
          }
        }
      ]
    },
    {
      "cell_type": "code",
      "metadata": {
        "colab_type": "code",
        "outputId": "668753a5-024c-457c-e500-393945ff69ed",
        "id": "-4YoGfiuBTZ3",
        "colab": {
          "base_uri": "https://localhost:8080/",
          "height": 578
        }
      },
      "source": [
        "plt.figure(figsize=(16, 9))\n",
        "finished_epochs = len(train_losses)\n",
        "plt.plot(np.arange(finished_epochs), train_acc, label='Train accuracy')\n",
        "plt.plot(np.arange(finished_epochs), val_acc, label='Validation accuracy')\n",
        "plt.xlabel('epoch')\n",
        "plt.ylabel('accuracy')\n",
        "plt.title('Кривая обучения')\n",
        "plt.legend()\n",
        "plt.show()"
      ],
      "execution_count": 0,
      "outputs": [
        {
          "output_type": "display_data",
          "data": {
            "image/png": "[encoded data removed]",
            "text/plain": [
              "<Figure size 1152x648 with 1 Axes>"
            ]
          },
          "metadata": {
            "tags": []
          }
        }
      ]
    },
    {
      "cell_type": "markdown",
      "metadata": {
        "colab_type": "text",
        "id": "pQvBqqU8BTaB"
      },
      "source": [
        "Измерим качество полученной модели."
      ]
    },
    {
      "cell_type": "code",
      "metadata": {
        "colab_type": "code",
        "outputId": "89fdc0e5-1589-49b1-d735-0acaab868455",
        "id": "NCeSNrXJBTaD",
        "colab": {
          "base_uri": "https://localhost:8080/",
          "height": 34
        }
      },
      "source": [
        "checkpoint = torch.load(path_best_save)\n",
        "model.load_state_dict(checkpoint['model_state_dict'])"
      ],
      "execution_count": 0,
      "outputs": [
        {
          "output_type": "execute_result",
          "data": {
            "text/plain": [
              "<All keys matched successfully>"
            ]
          },
          "metadata": {
            "tags": []
          },
          "execution_count": 29
        }
      ]
    },
    {
      "cell_type": "code",
      "metadata": {
        "colab_type": "code",
        "id": "BDG5G5HjBTaM",
        "colab": {}
      },
      "source": [
        "model.eval()\n",
        "\n",
        "all_preds = []\n",
        "all_answers = []\n",
        "with torch.no_grad():\n",
        "    for batch in test_iter:\n",
        "\n",
        "        texts, from_indices, to_indices, sentiments = batch\n",
        "        from_indices = from_indices.to(device=device)\n",
        "        to_indices = to_indices.to(device=device)\n",
        "        sentiments = sentiments.to(device=device).squeeze(1)\n",
        "\n",
        "        preds_scores = model(texts, from_indices, to_indices)\n",
        "        preds = torch.max(preds_scores, dim=-1)[1]\n",
        "        all_preds += preds.tolist()\n",
        "        all_answers += sentiments.tolist()\n",
        "\n",
        "all_preds = np.array(all_preds)\n",
        "all_answers = np.array(all_answers)"
      ],
      "execution_count": 0,
      "outputs": []
    },
    {
      "cell_type": "code",
      "metadata": {
        "colab_type": "code",
        "outputId": "f4ff898d-dd39-4293-b74c-b7ff9709e681",
        "id": "tyxc4D76BTaT",
        "colab": {
          "base_uri": "https://localhost:8080/",
          "height": 52
        }
      },
      "source": [
        "accuracy = accuracy_score(all_preds, all_answers)\n",
        "p_macro,r_macro,f_macro,_ = precision_recall_fscore_support(\n",
        "    all_answers, all_preds, average='macro'\n",
        ")\n",
        "\n",
        "print(f'Accuracy: {accuracy:.3f}')\n",
        "print(f'MF1: {f_macro:.3f}')"
      ],
      "execution_count": 0,
      "outputs": [
        {
          "output_type": "stream",
          "text": [
            "Accuracy: 0.735\n",
            "MF1: 0.387\n"
          ],
          "name": "stdout"
        }
      ]
    },
    {
      "cell_type": "markdown",
      "metadata": {
        "colab_type": "text",
        "id": "hacTKFYNBTae"
      },
      "source": [
        "Результат оказался..."
      ]
    },
    {
      "cell_type": "markdown",
      "metadata": {
        "id": "2upR1H2d4UtL",
        "colab_type": "text"
      },
      "source": [
        "### Выводы\n",
        "\n",
        "1. \n",
        "\n",
        "\n",
        "### Что можно сделать\n",
        "1. Попробовать Attention. Входом для него использовать усредненный целевой токен. В итоге получим взвешенные токены исходного предложений, по которым можно сделать pooling. (А вдруг можно их тоже через CNN пропустить?)."
      ]
    }
  ]
}