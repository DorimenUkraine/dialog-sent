{
  "nbformat": 4,
  "nbformat_minor": 0,
  "metadata": {
    "colab": {
      "name": "4-db-at-atae-lstm-russian.ipynb",
      "provenance": [],
      "collapsed_sections": []
    },
    "kernelspec": {
      "name": "python3",
      "display_name": "Python 3"
    },
    "accelerator": "GPU",
    "widgets": {
      "application/vnd.jupyter.widget-state+json": {
        "6bffae3ef46246e6af8b24571ec07b77": {
          "model_module": "@jupyter-widgets/controls",
          "model_name": "HBoxModel",
          "state": {
            "_view_name": "HBoxView",
            "_dom_classes": [],
            "_model_name": "HBoxModel",
            "_view_module": "@jupyter-widgets/controls",
            "_model_module_version": "1.5.0",
            "_view_count": null,
            "_view_module_version": "1.5.0",
            "box_style": "",
            "layout": "IPY_MODEL_64e56cfa441e4a1d90ae1a78ff5692ab",
            "_model_module": "@jupyter-widgets/controls",
            "children": [
              "IPY_MODEL_bf6d3bc6c1744814903d8095da35f330",
              "IPY_MODEL_65943192b6834fa9bdc89a68efacf7ed"
            ]
          }
        },
        "64e56cfa441e4a1d90ae1a78ff5692ab": {
          "model_module": "@jupyter-widgets/base",
          "model_name": "LayoutModel",
          "state": {
            "_view_name": "LayoutView",
            "grid_template_rows": null,
            "right": null,
            "justify_content": null,
            "_view_module": "@jupyter-widgets/base",
            "overflow": null,
            "_model_module_version": "1.2.0",
            "_view_count": null,
            "flex_flow": null,
            "width": null,
            "min_width": null,
            "border": null,
            "align_items": null,
            "bottom": null,
            "_model_module": "@jupyter-widgets/base",
            "top": null,
            "grid_column": null,
            "overflow_y": null,
            "overflow_x": null,
            "grid_auto_flow": null,
            "grid_area": null,
            "grid_template_columns": null,
            "flex": null,
            "_model_name": "LayoutModel",
            "justify_items": null,
            "grid_row": null,
            "max_height": null,
            "align_content": null,
            "visibility": null,
            "align_self": null,
            "height": null,
            "min_height": null,
            "padding": null,
            "grid_auto_rows": null,
            "grid_gap": null,
            "max_width": null,
            "order": null,
            "_view_module_version": "1.2.0",
            "grid_template_areas": null,
            "object_position": null,
            "object_fit": null,
            "grid_auto_columns": null,
            "margin": null,
            "display": null,
            "left": null
          }
        },
        "bf6d3bc6c1744814903d8095da35f330": {
          "model_module": "@jupyter-widgets/controls",
          "model_name": "IntProgressModel",
          "state": {
            "_view_name": "ProgressView",
            "style": "IPY_MODEL_5b236b210f82431f96673748669bf1a8",
            "_dom_classes": [],
            "description": "100%",
            "_model_name": "IntProgressModel",
            "bar_style": "success",
            "max": 300,
            "_view_module": "@jupyter-widgets/controls",
            "_model_module_version": "1.5.0",
            "value": 300,
            "_view_count": null,
            "_view_module_version": "1.5.0",
            "orientation": "horizontal",
            "min": 0,
            "description_tooltip": null,
            "_model_module": "@jupyter-widgets/controls",
            "layout": "IPY_MODEL_07e61616dc76454080b3eac7da88951d"
          }
        },
        "65943192b6834fa9bdc89a68efacf7ed": {
          "model_module": "@jupyter-widgets/controls",
          "model_name": "HTMLModel",
          "state": {
            "_view_name": "HTMLView",
            "style": "IPY_MODEL_babaf1113268475f870f990f1cb869d1",
            "_dom_classes": [],
            "description": "",
            "_model_name": "HTMLModel",
            "placeholder": "​",
            "_view_module": "@jupyter-widgets/controls",
            "_model_module_version": "1.5.0",
            "value": " 300/300 [02:45&lt;00:00,  1.81it/s]",
            "_view_count": null,
            "_view_module_version": "1.5.0",
            "description_tooltip": null,
            "_model_module": "@jupyter-widgets/controls",
            "layout": "IPY_MODEL_0fc885388fc54a809bb06f45b317d527"
          }
        },
        "5b236b210f82431f96673748669bf1a8": {
          "model_module": "@jupyter-widgets/controls",
          "model_name": "ProgressStyleModel",
          "state": {
            "_view_name": "StyleView",
            "_model_name": "ProgressStyleModel",
            "description_width": "initial",
            "_view_module": "@jupyter-widgets/base",
            "_model_module_version": "1.5.0",
            "_view_count": null,
            "_view_module_version": "1.2.0",
            "bar_color": null,
            "_model_module": "@jupyter-widgets/controls"
          }
        },
        "07e61616dc76454080b3eac7da88951d": {
          "model_module": "@jupyter-widgets/base",
          "model_name": "LayoutModel",
          "state": {
            "_view_name": "LayoutView",
            "grid_template_rows": null,
            "right": null,
            "justify_content": null,
            "_view_module": "@jupyter-widgets/base",
            "overflow": null,
            "_model_module_version": "1.2.0",
            "_view_count": null,
            "flex_flow": null,
            "width": null,
            "min_width": null,
            "border": null,
            "align_items": null,
            "bottom": null,
            "_model_module": "@jupyter-widgets/base",
            "top": null,
            "grid_column": null,
            "overflow_y": null,
            "overflow_x": null,
            "grid_auto_flow": null,
            "grid_area": null,
            "grid_template_columns": null,
            "flex": null,
            "_model_name": "LayoutModel",
            "justify_items": null,
            "grid_row": null,
            "max_height": null,
            "align_content": null,
            "visibility": null,
            "align_self": null,
            "height": null,
            "min_height": null,
            "padding": null,
            "grid_auto_rows": null,
            "grid_gap": null,
            "max_width": null,
            "order": null,
            "_view_module_version": "1.2.0",
            "grid_template_areas": null,
            "object_position": null,
            "object_fit": null,
            "grid_auto_columns": null,
            "margin": null,
            "display": null,
            "left": null
          }
        },
        "babaf1113268475f870f990f1cb869d1": {
          "model_module": "@jupyter-widgets/controls",
          "model_name": "DescriptionStyleModel",
          "state": {
            "_view_name": "StyleView",
            "_model_name": "DescriptionStyleModel",
            "description_width": "",
            "_view_module": "@jupyter-widgets/base",
            "_model_module_version": "1.5.0",
            "_view_count": null,
            "_view_module_version": "1.2.0",
            "_model_module": "@jupyter-widgets/controls"
          }
        },
        "0fc885388fc54a809bb06f45b317d527": {
          "model_module": "@jupyter-widgets/base",
          "model_name": "LayoutModel",
          "state": {
            "_view_name": "LayoutView",
            "grid_template_rows": null,
            "right": null,
            "justify_content": null,
            "_view_module": "@jupyter-widgets/base",
            "overflow": null,
            "_model_module_version": "1.2.0",
            "_view_count": null,
            "flex_flow": null,
            "width": null,
            "min_width": null,
            "border": null,
            "align_items": null,
            "bottom": null,
            "_model_module": "@jupyter-widgets/base",
            "top": null,
            "grid_column": null,
            "overflow_y": null,
            "overflow_x": null,
            "grid_auto_flow": null,
            "grid_area": null,
            "grid_template_columns": null,
            "flex": null,
            "_model_name": "LayoutModel",
            "justify_items": null,
            "grid_row": null,
            "max_height": null,
            "align_content": null,
            "visibility": null,
            "align_self": null,
            "height": null,
            "min_height": null,
            "padding": null,
            "grid_auto_rows": null,
            "grid_gap": null,
            "max_width": null,
            "order": null,
            "_view_module_version": "1.2.0",
            "grid_template_areas": null,
            "object_position": null,
            "object_fit": null,
            "grid_auto_columns": null,
            "margin": null,
            "display": null,
            "left": null
          }
        }
      }
    }
  },
  "cells": [
    {
      "cell_type": "markdown",
      "metadata": {
        "id": "4RoA7uzc6-Jj",
        "colab_type": "text"
      },
      "source": [
        "# AT-LSTM, ATAE-LSTM для русского языка\n",
        "\n",
        "В этом ноутбуке мы исследуем применение модели AT-LSTM, ATAE-LSTM для решения задачи аспектного анализа тональности на русском языке. В качестве основы мы берем ноутбуки 1-3."
      ]
    },
    {
      "cell_type": "code",
      "metadata": {
        "id": "shE3aepx6kg7",
        "colab_type": "code",
        "outputId": "fe1b0302-3cb7-4606-eb9f-d45e81055f38",
        "colab": {
          "base_uri": "https://localhost:8080/",
          "height": 72
        }
      },
      "source": [
        "import os\n",
        "import zipfile\n",
        "import random\n",
        "import subprocess\n",
        "\n",
        "import pandas as pd\n",
        "import numpy as np\n",
        "import torch\n",
        "import gensim\n",
        "import matplotlib.pyplot as plt\n",
        "import seaborn as sns\n",
        "import bs4\n",
        "\n",
        "from tqdm.notebook import tqdm\n",
        "from sklearn.metrics import accuracy_score, precision_recall_fscore_support\n",
        "\n",
        "import torch.nn as nn\n",
        "import torch.nn.functional as F\n",
        "import torch.optim as optim\n",
        "import torchtext\n",
        "from torch.utils.data import Dataset as TorchDataset\n",
        "from torch.utils.data import DataLoader\n",
        "\n",
        "from google.colab import drive\n",
        "\n",
        "USE_GOOGLE_DRIVE = True\n",
        "\n",
        "sns.set(font_scale=1.2)"
      ],
      "execution_count": 1,
      "outputs": [
        {
          "output_type": "stream",
          "text": [
            "/usr/local/lib/python3.6/dist-packages/statsmodels/tools/_testing.py:19: FutureWarning: pandas.util.testing is deprecated. Use the functions in the public API at pandas.testing instead.\n",
            "  import pandas.util.testing as tm\n"
          ],
          "name": "stderr"
        }
      ]
    },
    {
      "cell_type": "markdown",
      "metadata": {
        "id": "s6K05cSD71kI",
        "colab_type": "text"
      },
      "source": [
        "Примонтируем наш гугл-диск, если мы решили его использовать."
      ]
    },
    {
      "cell_type": "code",
      "metadata": {
        "id": "1MBzNx9n7wtX",
        "colab_type": "code",
        "outputId": "ab2271ee-9f0f-4140-c268-c24d4a03d0ca",
        "colab": {
          "base_uri": "https://localhost:8080/",
          "height": 34
        }
      },
      "source": [
        "if USE_GOOGLE_DRIVE:\n",
        "    drive.mount('/content/drive')\n",
        "    PATH_PREFIX = 'drive/My Drive/NLP/dialog-sent'\n",
        "else:\n",
        "    PATH_PREFIX = '..'"
      ],
      "execution_count": 2,
      "outputs": [
        {
          "output_type": "stream",
          "text": [
            "Drive already mounted at /content/drive; to attempt to forcibly remount, call drive.mount(\"/content/drive\", force_remount=True).\n"
          ],
          "name": "stdout"
        }
      ]
    },
    {
      "cell_type": "code",
      "metadata": {
        "id": "_ICV0PvCteP8",
        "colab_type": "code",
        "colab": {}
      },
      "source": [
        "DATA_PREFIX = os.path.join(PATH_PREFIX, 'data')\n",
        "MODEL_PREFIX = os.path.join(PATH_PREFIX, 'models')\n",
        "SCRIPT_PREFIX = os.path.join(PATH_PREFIX, 'src')"
      ],
      "execution_count": 0,
      "outputs": []
    },
    {
      "cell_type": "markdown",
      "metadata": {
        "id": "d1rEg_dzCv2Z",
        "colab_type": "text"
      },
      "source": [
        "Зададим девайс для обучения."
      ]
    },
    {
      "cell_type": "code",
      "metadata": {
        "id": "ssNUbPpPCvOf",
        "colab_type": "code",
        "outputId": "d2e2045e-1140-4ef7-9894-e325c3c6a03c",
        "colab": {
          "base_uri": "https://localhost:8080/",
          "height": 34
        }
      },
      "source": [
        "USE_GPU = True\n",
        "\n",
        "if USE_GPU and torch.cuda.is_available():\n",
        "    device = torch.device('cuda')\n",
        "else:\n",
        "    device = torch.device('cpu')\n",
        "\n",
        "print('using device:', device)"
      ],
      "execution_count": 4,
      "outputs": [
        {
          "output_type": "stream",
          "text": [
            "using device: cuda\n"
          ],
          "name": "stdout"
        }
      ]
    },
    {
      "cell_type": "markdown",
      "metadata": {
        "id": "yHTGiWVXC13E",
        "colab_type": "text"
      },
      "source": [
        "Проинициализируем везде генераторы случайных чисел."
      ]
    },
    {
      "cell_type": "code",
      "metadata": {
        "id": "gUC3PTVlC1JU",
        "colab_type": "code",
        "colab": {}
      },
      "source": [
        "random_seed = 42\n",
        "random_state = random_seed\n",
        "\n",
        "def set_seed_everywhere(seed, cuda):\n",
        "    random.seed(seed)\n",
        "    np.random.seed(seed)\n",
        "    torch.manual_seed(seed)\n",
        "    torch.backends.cudnn.deterministic = True\n",
        "    torch.backends.cudnn.benchmark = False\n",
        "    if cuda:\n",
        "        torch.cuda.manual_seed_all(seed)\n",
        "\n",
        "set_seed_everywhere(random_seed, USE_GPU)"
      ],
      "execution_count": 0,
      "outputs": []
    },
    {
      "cell_type": "markdown",
      "metadata": {
        "id": "IFqQNvroDFz0",
        "colab_type": "text"
      },
      "source": [
        "## Данные\n",
        "\n",
        "Надо разобраться с данными и привести их в удобный для работы вид. У нас есть два датасета: отзывы о ресторанах и отзывы об автомобилях.\n",
        "\n",
        "Сначала посмотрим на структуру датасета с отзывами о рестоанах. Существуют следующие аспекты:\n",
        "\n",
        "* Food\n",
        "* Interior\n",
        "* Price\n",
        "* Whole\n",
        "* Service\n",
        "\n",
        "\n",
        "Какие есть тональности:\n",
        "\n",
        "* absence\n",
        "* neutral\n",
        "* positive\n",
        "* negative\n",
        "* both\n",
        "\n",
        "\n",
        "Что касается датасета об автомобилях. Аспекты:\n",
        "\n",
        "* Comfort\n",
        "* Appearance\n",
        "* Reliability\n",
        "* Safety\n",
        "* Driveability\n",
        "* Whole\n",
        "* Costs\n",
        "\n",
        "Тональности те же.\n",
        "\n",
        "В самой задаче требуется определять только тональности positive, negative, both."
      ]
    },
    {
      "cell_type": "markdown",
      "metadata": {
        "id": "vJVjXzRIksD2",
        "colab_type": "text"
      },
      "source": [
        "Для использования векторов из RusVectōrēs нам потребуется выполнить надо всеми предложениями некоторый препроцессинг (указание частей речи). Поэтому воспользуемся их [скриптом](https://github.com/akutuzov/webvectors/blob/master/preprocessing/rus_preprocessing_udpipe.py)."
      ]
    },
    {
      "cell_type": "code",
      "metadata": {
        "id": "JAdrGx8QnLIZ",
        "colab_type": "code",
        "colab": {
          "base_uri": "https://localhost:8080/",
          "height": 52
        },
        "outputId": "ba66d24c-c561-4b63-f80f-1fc343ef539b"
      },
      "source": [
        "!pip install wget\n",
        "!pip install ufal.udpipe"
      ],
      "execution_count": 6,
      "outputs": [
        {
          "output_type": "stream",
          "text": [
            "Requirement already satisfied: wget in /usr/local/lib/python3.6/dist-packages (3.2)\n",
            "Requirement already satisfied: ufal.udpipe in /usr/local/lib/python3.6/dist-packages (1.2.0.3)\n"
          ],
          "name": "stdout"
        }
      ]
    },
    {
      "cell_type": "code",
      "metadata": {
        "id": "MUbr4yS1o2Tj",
        "colab_type": "code",
        "colab": {}
      },
      "source": [
        "def preprocess_sentence_rusvectores(script_path, text):\n",
        "    \"\"\"Предобработка текста для работы с rusvectores.\"\"\"\n",
        "    script = f'python \"{script_path}\"'\n",
        "    ps = subprocess.Popen(script, \n",
        "                    stdin=subprocess.PIPE,\n",
        "                    stdout = subprocess.PIPE, \n",
        "                    stderr = subprocess.PIPE, shell=True,\n",
        "                    universal_newlines=True\n",
        "    )\n",
        "    out, err = ps.communicate(text)\n",
        "    if ps.returncode != 0:\n",
        "        raise Exception(err)\n",
        "    return out"
      ],
      "execution_count": 0,
      "outputs": []
    },
    {
      "cell_type": "markdown",
      "metadata": {
        "id": "C6elfxM8FD2A",
        "colab_type": "text"
      },
      "source": [
        "Данные предоставлены в формате xml. Для работы с ними будем использовать beautiful soup."
      ]
    },
    {
      "cell_type": "code",
      "metadata": {
        "id": "hWs4aYnabrzk",
        "colab_type": "code",
        "colab": {}
      },
      "source": [
        "def xml2pandas(data_path, script_path):\n",
        "    \"\"\"Перевод исходного датасета в формате xml в pandas-датафрейм.\"\"\"\n",
        "    data_dict = {'review_id': [], 'text': []}\n",
        "\n",
        "    with open(data_path, 'r') as inf:\n",
        "        contents = inf.read()\n",
        "        soup = bs4.BeautifulSoup(contents, 'xml')\n",
        "        for review in tqdm(soup.find_all('review')):\n",
        "            data_dict['review_id'].append(review['id'])\n",
        "\n",
        "            text = review.find('text').text\n",
        "            preprocessed_text = preprocess_sentence_rusvectores(script_path, text)\n",
        "            data_dict['text'].append(preprocessed_text)\n",
        "\n",
        "            aspect_categories = review.find('categories').find_all(\n",
        "                'category'\n",
        "            )\n",
        "            for aspect_category in aspect_categories:\n",
        "                if aspect_category['name'] in data_dict:\n",
        "                    data_dict[aspect_category['name']].append(\n",
        "                        aspect_category['sentiment']\n",
        "                        )\n",
        "                else:\n",
        "                    data_dict[aspect_category['name']] = [\n",
        "                        aspect_category['sentiment']\n",
        "                    ]\n",
        "\n",
        "    data = pd.DataFrame(data_dict)\n",
        "    return data"
      ],
      "execution_count": 0,
      "outputs": []
    },
    {
      "cell_type": "code",
      "metadata": {
        "id": "HQPj-a1tDGJY",
        "colab_type": "code",
        "colab": {}
      },
      "source": [
        "# script_path = os.path.join(SCRIPT_PREFIX, 'data', 'rus_preprocessing_udpipe.py')\n",
        "\n",
        "# restaurants_train_raw_path = os.path.join(\n",
        "#     DATA_PREFIX, 'raw', \"SentiRuEval-2015\", 'SentiRuEval_rest_markup_train.xml'\n",
        "# )\n",
        "\n",
        "# restaurants_test_raw_path = os.path.join(\n",
        "#     DATA_PREFIX, 'raw', 'SentiRuEval-2015', 'SentiRuEval_rest_markup_test.xml'\n",
        "# )\n",
        "\n",
        "# cars_train_raw_path = os.path.join(\n",
        "#     DATA_PREFIX, 'raw', \"SentiRuEval-2015\", 'SentiRuEval_car_markup_train.xml'\n",
        "# )\n",
        "\n",
        "# cars_test_raw_path = os.path.join(\n",
        "#     DATA_PREFIX, 'raw', 'SentiRuEval-2015', 'SentiRuEval_car_markup_test.xml'\n",
        "# )\n",
        "\n",
        "# restaurants_train_raw = xml2pandas(restaurants_train_raw_path, script_path)\n",
        "# restaurants_test_raw = xml2pandas(restaurants_test_raw_path, script_path)\n",
        "# cars_train_raw = xml2pandas(cars_train_raw_path, script_path)\n",
        "# cars_test_raw = xml2pandas(cars_test_raw_path, script_path)"
      ],
      "execution_count": 0,
      "outputs": []
    },
    {
      "cell_type": "code",
      "metadata": {
        "id": "ihfLZoATOIqo",
        "colab_type": "code",
        "colab": {}
      },
      "source": [
        "# restaurants_train_raw.head()"
      ],
      "execution_count": 0,
      "outputs": []
    },
    {
      "cell_type": "code",
      "metadata": {
        "id": "CMiztqHjcuEd",
        "colab_type": "code",
        "colab": {}
      },
      "source": [
        "# cars_train_raw.head()"
      ],
      "execution_count": 0,
      "outputs": []
    },
    {
      "cell_type": "markdown",
      "metadata": {
        "id": "C2gRZxrsTYI_",
        "colab_type": "text"
      },
      "source": [
        "Чтобы правильно обучать нашу модель придется упростить данные до трех столбцов: `text`, `aspect`, `sentiment`."
      ]
    },
    {
      "cell_type": "code",
      "metadata": {
        "id": "GZrO8sqSdZQ9",
        "colab_type": "code",
        "colab": {}
      },
      "source": [
        "# def raw2processed(data, filename):\n",
        "#     \"\"\"Приведение данных к удобному для обучения и тестирования виду.\"\"\"\n",
        "#     data_processed_dict = {'text': [], 'aspect': [], 'sentiment': []}\n",
        "#     aspect_categories = list(data.columns[2:])\n",
        "#     for i, row in data.iterrows():\n",
        "#         for aspect_category in aspect_categories:\n",
        "#             data_processed_dict['text'].append(row['text'])\n",
        "#             data_processed_dict['aspect'].append(aspect_category)\n",
        "#             data_processed_dict['sentiment'].append(row[aspect_category])\n",
        "\n",
        "#     data_processed = pd.DataFrame(data_processed_dict)\n",
        "\n",
        "#     data_path = os.path.join(DATA_PREFIX, 'processed', filename)\n",
        "#     data_processed.to_csv(data_path, index=False)\n",
        "#     return data_processed"
      ],
      "execution_count": 0,
      "outputs": []
    },
    {
      "cell_type": "code",
      "metadata": {
        "id": "s9vRnXZyTrRA",
        "colab_type": "code",
        "colab": {}
      },
      "source": [
        "# restaurants_train = raw2processed(restaurants_train_raw, \n",
        "#                                   'restaurants_ru_train.csv')\n",
        "# restaurants_test = raw2processed(restaurants_test_raw, \n",
        "#                                  'restaurants_ru_test.csv')\n",
        "\n",
        "# cars_train = raw2processed(cars_train_raw, 'cars_ru_train.csv')\n",
        "# cars_test = raw2processed(cars_test_raw, 'cars_ru_test.csv')\n",
        "\n",
        "\n",
        "# restaurants_all = pd.concat((restaurants_train, restaurants_test), \n",
        "#                             ignore_index=True)\n",
        "# restaurants_all.to_csv(os.path.join(DATA_PREFIX, 'processed', \n",
        "#                                     'restaurants_ru.csv'), index=False)\n",
        "\n",
        "# cars_all = pd.concat((cars_train, cars_test), \n",
        "#                             ignore_index=True)\n",
        "# cars_all.to_csv(os.path.join(DATA_PREFIX, 'processed', 'cars_ru.csv'), \n",
        "#                 index=False)\n",
        "\n",
        "# restaurants_all.head(10)"
      ],
      "execution_count": 0,
      "outputs": []
    },
    {
      "cell_type": "markdown",
      "metadata": {
        "id": "ij80v5rvBqUv",
        "colab_type": "text"
      },
      "source": [
        "## Модели\n",
        "\n",
        "Определим модели, над которыми будем экспериментировать и напишем цикл их обучения.\n",
        "\n"
      ]
    },
    {
      "cell_type": "markdown",
      "metadata": {
        "id": "FU-yan20ClTW",
        "colab_type": "text"
      },
      "source": [
        "Вспомогательные слои."
      ]
    },
    {
      "cell_type": "code",
      "metadata": {
        "id": "3uFbvaIKB4LF",
        "colab_type": "code",
        "colab": {}
      },
      "source": [
        "class Permute(nn.Module):\n",
        "    def __init__(self, dims):\n",
        "        super(Permute, self).__init__()\n",
        "        self.dims = dims\n",
        "        \n",
        "    def forward(self, x):\n",
        "        x = x.permute(self.dims).contiguous()\n",
        "        return x\n",
        "\n",
        "class Swish(nn.Module):\n",
        "    def __init__(self):\n",
        "        super(Swish, self).__init__()\n",
        "        \n",
        "    def forward(self, x):\n",
        "        return x * torch.sigmoid(x)\n",
        "\n",
        "class Mish(nn.Module):\n",
        "    def __init__(self):\n",
        "        super(Mish, self).__init__()\n",
        "        \n",
        "    def forward(self, x):\n",
        "        return x * torch.tanh(F.softplus(x))"
      ],
      "execution_count": 0,
      "outputs": []
    },
    {
      "cell_type": "markdown",
      "metadata": {
        "id": "hUMRBqDICooT",
        "colab_type": "text"
      },
      "source": [
        "AT-LSTM-модель:"
      ]
    },
    {
      "cell_type": "code",
      "metadata": {
        "id": "Leki__pRB4QS",
        "colab_type": "code",
        "colab": {}
      },
      "source": [
        "class AT_LSTM(nn.Module):\n",
        "\n",
        "    def __init__(\n",
        "        self, num_aspects, embeddings_aspects_dim, hidden_dim, \n",
        "        num_sentiments, \n",
        "        vocab_size=None, embeddings_words_dim=None, embeddings_words_init=None\n",
        "    ):\n",
        "        super(AT_LSTM, self).__init__()\n",
        "\n",
        "        train_from_scratch = (vocab_size is not None \n",
        "                              and embedding_words_dim is not None)\n",
        "        use_pretrained = embeddings_words_init is not None\n",
        "        if not(train_from_scratch or use_pretrained):\n",
        "            raise ValueError('You should use pretrained vectors or '\n",
        "                             'set vocab size and embeddings dim')\n",
        "\n",
        "        if train_from_scratch:\n",
        "            self.embeddings_words = nn.Embedding(\n",
        "                vocab_size, embeddings_words_dim\n",
        "            )\n",
        "        else:\n",
        "            self.embeddings_words = nn.Embedding.from_pretrained(\n",
        "                embeddings_words_init\n",
        "            )\n",
        "            vocab_size, embeddings_words_dim = embeddings_words_init.size()\n",
        "\n",
        "        self.lstm = nn.LSTM(\n",
        "            embeddings_words_dim, hidden_dim,\n",
        "            batch_first=True\n",
        "        )\n",
        "\n",
        "        self.embeddings_aspects = nn.Embedding(\n",
        "            num_aspects, embeddings_aspects_dim\n",
        "        )\n",
        "        self.attention = nn.Sequential(\n",
        "            nn.Linear(embeddings_aspects_dim + hidden_dim, \n",
        "                      embeddings_aspects_dim + hidden_dim),\n",
        "            Permute([0, 2, 1]),     \n",
        "            nn.BatchNorm1d(embeddings_aspects_dim + hidden_dim),\n",
        "            Permute([0, 2, 1]),\n",
        "            nn.Dropout(),\n",
        "            nn.Tanh(),\n",
        "            nn.Linear(embeddings_aspects_dim + hidden_dim, 1),\n",
        "            nn.Softmax(dim=1),\n",
        "        )\n",
        "\n",
        "        self.sentence_representation = nn.Linear(\n",
        "            hidden_dim + hidden_dim, hidden_dim, bias=False\n",
        "        )\n",
        "        self.drop = nn.Dropout()\n",
        "        self.sentence_representation_nonlinearity = nn.Tanh()\n",
        "        self.sentence_representation_to_sentiments = nn.Linear(\n",
        "            hidden_dim, num_sentiments\n",
        "        )\n",
        "\n",
        "        # weights initializatioin\n",
        "        torch.nn.init.xavier_uniform_(self.embeddings_aspects.weight)\n",
        "        torch.nn.init.xavier_uniform_(self.sentence_representation.weight)\n",
        "        torch.nn.init.xavier_uniform_(self.sentence_representation_to_sentiments.weight)\n",
        "\n",
        "        \n",
        "    def forward(self, texts, aspects, hidden=None):\n",
        "        batch_size, seq_len = texts.size()\n",
        "        # shape: [batch_size, seq_len] -> [batch_size, seq_len, embeddings_words_dim]\n",
        "        embeddings_words_out = self.embeddings_words(texts)\n",
        "        # shape: [batch_size] -> [batch_size, seq_len, embedding_aspects_dim]\n",
        "        embeddings_aspects_out = self.embeddings_aspects(aspects)\n",
        "        embeddings_aspects_out = torch.unsqueeze(embeddings_aspects_out, 1)\n",
        "        embeddings_aspects_out = torch.repeat_interleave(\n",
        "            embeddings_aspects_out, seq_len, 1\n",
        "        )\n",
        "        # shape: [batch_size, seq_len, embeddings_dim] -> [batch_size, seq_len, hidden_dim]\n",
        "        lstm_output, hidden_state = self.lstm(embeddings_words_out, hidden)\n",
        "\n",
        "        attention_input = torch.cat(\n",
        "            [lstm_output, embeddings_aspects_out], dim=-1,\n",
        "        )\n",
        "        # shape: [batch_size, seq_len, hidden_dim + embeddings_aspects_dim] -> [batch_size, seq_len]\n",
        "        attention_weights = self.attention(attention_input)\n",
        "        weighted_lstm_output = lstm_output.permute(0, 2, 1) @ attention_weights\n",
        "        weighted_lstm_output = torch.squeeze(weighted_lstm_output, dim=-1)\n",
        "        sentence_representation = torch.cat([lstm_output[:, -1, :], \n",
        "                                             weighted_lstm_output], dim=-1)\n",
        "        sentence_representation = self.sentence_representation(\n",
        "            sentence_representation\n",
        "        )\n",
        "        sentence_representation = self.drop(sentence_representation)\n",
        "        sentence_representation = self.sentence_representation_nonlinearity(\n",
        "            sentence_representation\n",
        "        )\n",
        "        # shape: [batch_size, hidden_size] -> [batch_size, num_sentiments]\n",
        "        sentiments_scores = self.sentence_representation_to_sentiments(\n",
        "            sentence_representation\n",
        "        )\n",
        "        return sentiments_scores, hidden_state"
      ],
      "execution_count": 0,
      "outputs": []
    },
    {
      "cell_type": "markdown",
      "metadata": {
        "id": "qDAGjNkgCwRB",
        "colab_type": "text"
      },
      "source": [
        "ATAE-LSTM-модель."
      ]
    },
    {
      "cell_type": "code",
      "metadata": {
        "id": "noJUyZd8B4Vp",
        "colab_type": "code",
        "colab": {}
      },
      "source": [
        "class ATAE_LSTM(nn.Module):\n",
        "\n",
        "    def __init__(\n",
        "        self, num_aspects, embeddings_aspects_dim, hidden_dim, \n",
        "        num_sentiments, \n",
        "        vocab_size=None, embeddings_words_dim=None, embeddings_words_init=None\n",
        "    ):\n",
        "        super(ATAE_LSTM, self).__init__()\n",
        "\n",
        "        train_from_scratch = (vocab_size is not None \n",
        "                              and embedding_words_dim is not None)\n",
        "        use_pretrained = embeddings_words_init is not None\n",
        "        if not(train_from_scratch or use_pretrained):\n",
        "            raise ValueError('You should use pretrained vectors or '\n",
        "                             'set vocab size and embeddings dim')\n",
        "\n",
        "        if train_from_scratch:\n",
        "            self.embeddings_words = nn.Embedding(\n",
        "                vocab_size, embeddings_words_dim\n",
        "            )\n",
        "        else:\n",
        "            self.embeddings_words = nn.Embedding.from_pretrained(\n",
        "                embeddings_words_init\n",
        "            )\n",
        "            vocab_size, embeddings_words_dim = embeddings_words_init.size()\n",
        "\n",
        "        self.embeddings_aspects = nn.Embedding(\n",
        "            num_aspects, embeddings_aspects_dim\n",
        "        )\n",
        "\n",
        "        self.lstm = nn.LSTM(\n",
        "            embeddings_words_dim + embeddings_aspects_dim, hidden_dim,\n",
        "            batch_first=True\n",
        "        )\n",
        "\n",
        "        self.attention = nn.Sequential(\n",
        "            nn.Linear(embeddings_aspects_dim + hidden_dim, \n",
        "                      embeddings_aspects_dim + hidden_dim),\n",
        "            Permute([0, 2, 1]),     \n",
        "            nn.BatchNorm1d(embeddings_aspects_dim + hidden_dim),\n",
        "            Permute([0, 2, 1]),\n",
        "            nn.Dropout(),\n",
        "            nn.Tanh(),\n",
        "            nn.Linear(embeddings_aspects_dim + hidden_dim, 1),\n",
        "            nn.Softmax(dim=1),\n",
        "        )\n",
        "\n",
        "        self.sentence_representation = nn.Linear(\n",
        "            hidden_dim + hidden_dim, hidden_dim, bias=False\n",
        "        )\n",
        "        self.drop = nn.Dropout()\n",
        "        self.sentence_representation_nonlinearity = nn.Tanh()\n",
        "        self.sentence_representation_to_sentiments = nn.Linear(\n",
        "            hidden_dim, num_sentiments\n",
        "        )\n",
        "\n",
        "        # weights initializatioin\n",
        "        torch.nn.init.xavier_uniform_(self.embeddings_aspects.weight)\n",
        "        torch.nn.init.xavier_uniform_(self.sentence_representation.weight)\n",
        "        torch.nn.init.xavier_uniform_(self.sentence_representation_to_sentiments.weight)\n",
        "\n",
        "        \n",
        "    def forward(self, texts, aspects, hidden=None):\n",
        "        batch_size, seq_len = texts.size()\n",
        "        # shape: [batch_size, seq_len] -> [batch_size, seq_len, embeddings_words_dim]\n",
        "        embeddings_words_out = self.embeddings_words(texts)\n",
        "        # shape: [batch_size] -> [batch_size, seq_len, embedding_aspects_dim]\n",
        "        embeddings_aspects_out = self.embeddings_aspects(aspects)\n",
        "        embeddings_aspects_out = torch.unsqueeze(embeddings_aspects_out, 1)\n",
        "        embeddings_aspects_out = torch.repeat_interleave(\n",
        "            embeddings_aspects_out, seq_len, 1\n",
        "        )\n",
        "        # shape: -> [batch_size, seq_len, embedding_words_dim + embedding_aspects_dim]\n",
        "        embeddings = torch.cat(\n",
        "            [embeddings_words_out, embeddings_aspects_out], dim=-1,\n",
        "        )\n",
        "        # shape: [batch_size, seq_len, embeddings_dim] -> [batch_size, seq_len, hidden_dim]\n",
        "        lstm_output, hidden_state = self.lstm(embeddings, hidden)\n",
        "\n",
        "        attention_input = torch.cat(\n",
        "            [lstm_output, embeddings_aspects_out], dim=-1,\n",
        "        )\n",
        "        # shape: [batch_size, seq_len, hidden_dim + embeddings_aspects_dim] -> [batch_size, seq_len]\n",
        "        attention_weights = self.attention(attention_input)\n",
        "        weighted_lstm_output = lstm_output.permute(0, 2, 1) @ attention_weights\n",
        "        weighted_lstm_output = torch.squeeze(weighted_lstm_output, dim=-1)\n",
        "        sentence_representation = torch.cat([lstm_output[:, -1, :], \n",
        "                                             weighted_lstm_output], dim=-1)\n",
        "        sentence_representation = self.sentence_representation(\n",
        "            sentence_representation\n",
        "        )\n",
        "        sentence_representation = self.drop(sentence_representation)\n",
        "        sentence_representation = self.sentence_representation_nonlinearity(\n",
        "            sentence_representation\n",
        "        )\n",
        "        # shape: [batch_size, hidden_size] -> [batch_size, num_sentiments]\n",
        "        sentiments_scores = self.sentence_representation_to_sentiments(\n",
        "            sentence_representation\n",
        "        )\n",
        "        return sentiments_scores, hidden_state"
      ],
      "execution_count": 0,
      "outputs": []
    },
    {
      "cell_type": "markdown",
      "metadata": {
        "id": "cTkBnpTrC63X",
        "colab_type": "text"
      },
      "source": [
        "Цикл обучения."
      ]
    },
    {
      "cell_type": "code",
      "metadata": {
        "id": "IigNXQJuC865",
        "colab_type": "code",
        "colab": {}
      },
      "source": [
        "def train_loop(train_iter, val_iter, train_data, valid_data, \n",
        "               model, opt, scheduler, criterion, epochs, early_stopping):\n",
        "    train_losses = []\n",
        "    val_losses = []\n",
        "    train_acc_values = []\n",
        "    val_acc_values = []\n",
        "    best_val_loss = 100\n",
        "    best_val_acc = 0\n",
        "    not_improves = 0\n",
        "    for epoch in tqdm(range(1, epochs + 1)):\n",
        "        train_loss = 0.0\n",
        "        train_acc = 0\n",
        "        model.train() \n",
        "        for batch in train_iter: \n",
        "\n",
        "            texts = batch.text.to(device=device)\n",
        "            aspects = batch.aspect.to(device=device)\n",
        "            sentiments = batch.sentiment.to(device=device)\n",
        "\n",
        "            opt.zero_grad()\n",
        "            preds, _ = model(texts, aspects)\n",
        "\n",
        "            loss = criterion(preds, sentiments)\n",
        "            loss.backward()\n",
        "            nn.utils.clip_grad_norm_(model.parameters(), grad_clipping_value)\n",
        "            opt.step()\n",
        "            train_loss += loss.item()\n",
        "\n",
        "            pred_sentiments = torch.max(preds, dim=-1)[1]\n",
        "            train_acc += np.sum(\n",
        "                pred_sentiments.cpu().numpy() == sentiments.cpu().numpy()\n",
        "            )\n",
        "\n",
        "        train_loss /= len(train_data)\n",
        "        train_losses.append(train_loss)\n",
        "        train_acc /= len(train_data)\n",
        "        train_acc_values.append(train_acc)\n",
        "\n",
        "        val_loss = 0.0\n",
        "        val_acc = 0\n",
        "        model.eval()\n",
        "        with torch.no_grad():\n",
        "            for batch in val_iter:\n",
        "\n",
        "                texts = batch.text.to(device=device)\n",
        "                aspects = batch.aspect.to(device=device)\n",
        "                sentiments = batch.sentiment.to(device=device)\n",
        "\n",
        "                preds, _ = model(texts, aspects)   \n",
        "                loss = criterion(preds, sentiments)\n",
        "                val_loss += loss.item()\n",
        "\n",
        "                pred_sentiments = torch.max(preds, dim=-1)[1]\n",
        "                val_acc += np.sum(\n",
        "                    pred_sentiments.cpu().numpy() == sentiments.cpu().numpy()\n",
        "                )\n",
        "\n",
        "        val_loss /= len(valid_data)\n",
        "        val_acc /= len(valid_data)\n",
        "        val_losses.append(val_loss)\n",
        "        val_acc_values.append(val_acc)\n",
        "\n",
        "        if val_loss < best_val_loss:\n",
        "            not_improves = 0\n",
        "            best_val_loss = val_loss\n",
        "            torch.save(model.state_dict(), path_save)\n",
        "            print('------SAVED------')\n",
        "        else:\n",
        "            not_improves += 1\n",
        "            if not_improves == early_stopping:\n",
        "                break\n",
        "        \n",
        "        scheduler.step()\n",
        "\n",
        "        print(f'Epoch: {epoch}, '\n",
        "              f'Training Loss*: {1000*train_loss:.5f}, '\n",
        "              f'Validation Loss*: {1000*val_loss:.5f}, \\n'\n",
        "              f'Training Acc: {train_acc:.5f}, '\n",
        "              f'Validation Acc: {val_acc:.5f}')\n",
        "\n",
        "    return train_losses, val_losses, train_acc_values, val_acc_values"
      ],
      "execution_count": 0,
      "outputs": []
    },
    {
      "cell_type": "markdown",
      "metadata": {
        "id": "u2yOVL5iDM-a",
        "colab_type": "text"
      },
      "source": [
        "## Рестораны\n",
        "\n",
        "Построим модели для отзывов о ресторанах."
      ]
    },
    {
      "cell_type": "markdown",
      "metadata": {
        "id": "SeN1MPWYDYw3",
        "colab_type": "text"
      },
      "source": [
        "### Подготовка данных"
      ]
    },
    {
      "cell_type": "markdown",
      "metadata": {
        "id": "zt1yT1HKU1Mr",
        "colab_type": "text"
      },
      "source": [
        "Определим поля в датасете для обучения."
      ]
    },
    {
      "cell_type": "code",
      "metadata": {
        "id": "mYemqb_MTrZL",
        "colab_type": "code",
        "colab": {}
      },
      "source": [
        "TEXT = torchtext.data.Field(\n",
        "    tokenize='spacy', batch_first=True, lower=False\n",
        ")\n",
        "ASPECT = torchtext.data.Field(sequential=False, batch_first=True, \n",
        "                              unk_token=None)\n",
        "SENTIMENT = torchtext.data.LabelField(batch_first=True)"
      ],
      "execution_count": 0,
      "outputs": []
    },
    {
      "cell_type": "code",
      "metadata": {
        "id": "SMQlJoOGWrQo",
        "colab_type": "code",
        "colab": {}
      },
      "source": [
        "fields = [('text', TEXT), ('aspect', ASPECT), ('sentiment', SENTIMENT)]"
      ],
      "execution_count": 0,
      "outputs": []
    },
    {
      "cell_type": "code",
      "metadata": {
        "id": "0-NatTM6B4Ob",
        "colab_type": "code",
        "outputId": "b12aa8bc-e65e-4528-b973-436f8541a4f9",
        "colab": {
          "base_uri": "https://localhost:8080/",
          "height": 54
        }
      },
      "source": [
        "PROCESSED_PREFIX = os.path.join(DATA_PREFIX, 'processed')\n",
        "\n",
        "# отфильтруем только определенные тональности\n",
        "remain_sentiments = ['positive', 'negative', 'both']\n",
        "\n",
        "temp_train = pd.read_csv(os.path.join(PROCESSED_PREFIX, \n",
        "                                      'restaurants_ru_train.csv'))\n",
        "temp_train = temp_train[temp_train['sentiment'].isin(remain_sentiments)]\n",
        "temp_train.to_csv(os.path.join(PROCESSED_PREFIX, \n",
        "                               'restaurants_ru_train_filtered.csv'), \n",
        "                  index=False)\n",
        "\n",
        "temp_test = pd.read_csv(os.path.join(PROCESSED_PREFIX, \n",
        "                                     'restaurants_ru_test.csv'))\n",
        "temp_test = temp_test[temp_test['sentiment'].isin(remain_sentiments)]\n",
        "temp_test.to_csv(os.path.join(PROCESSED_PREFIX, \n",
        "                              'restaurants_ru_test_filtered.csv'), \n",
        "                 index=False)\n",
        "\n",
        "temp_all = pd.read_csv(os.path.join(PROCESSED_PREFIX,\n",
        "                                    'restaurants_ru.csv'))\n",
        "temp_all = temp_all[temp_all['sentiment'].isin(remain_sentiments)]\n",
        "temp_all.to_csv(os.path.join(PROCESSED_PREFIX,\n",
        "                             'restaurants_ru_filtered.csv'), \n",
        "                index=False)\n",
        "\n",
        "restaurants_train_all = torchtext.data.TabularDataset(\n",
        "    path=os.path.join(PROCESSED_PREFIX, 'restaurants_ru_train_filtered.csv'), \n",
        "    format = 'csv', fields=fields, skip_header=True\n",
        ")\n",
        "restaurants_test = torchtext.data.TabularDataset(\n",
        "    path=os.path.join(PROCESSED_PREFIX, 'restaurants_ru_test_filtered.csv'), \n",
        "    format = 'csv', fields=fields, skip_header=True\n",
        ")\n",
        "restaurants_all = torchtext.data.TabularDataset(\n",
        "    path=os.path.join(PROCESSED_PREFIX, 'restaurants_ru_filtered.csv'), \n",
        "    format = 'csv', fields=fields, skip_header=True\n",
        ")\n",
        "\n",
        "print(vars(restaurants_train_all.examples[0]))"
      ],
      "execution_count": 20,
      "outputs": [
        {
          "output_type": "stream",
          "text": [
            "{'text': ['день_PROPN', '8-й_ADJ', 'март_NOUN', 'проходить_VERB', 'можно_ADV', 'и_PART', 'итог_NOUN', 'подводить_VERB', 'решать_VERB', 'писать_VERB', 'отзыв_NOUN', 'о_ADP', 'ресторан_NOUN', 'в_ADP', 'который_PRON', 'отмечать_VERB', 'прекрасный_ADJ', 'весений_NOUN', 'праздник_NOUN', 'прочитывать_VERB', 'отзыв_NOUN', 'edik077_NUM', 'и_CCONJ', 'rules77777ь_NOUN', 'понимать_VERB', 'что_PRON', 'либо_CCONJ', 'мы_PRON', 'быть_AUX', 'вразный_ADJ', 'ресторан_NOUN', 'либо_CCONJ', 'в_ADP', 'ребята_NOUN', 'что', '-', 'то_NOUN', 'незаладиться_VERB', 'но_CCONJ', 'теперь_ADV', 'о_ADP', 'ресторан_NOUN', 'столик_NOUN', 'бронировать_VERB', 'заранее_ADV', 'и_CCONJ', 'делать_VERB', 'так_ADV', 'как_SCONJ', 'предлагать_VERB', 'администратор_NOUN', 'то_VERB', 'делать_VERB', 'предварительный_ADJ', 'заказ_NOUN', 'когда_SCONJ', 'приходить_VERB', 'видеть_VERB', 'полностью_ADV', 'заполненый_ADJ', 'ресторан_NOUN', 'понимать_VERB', 'что_SCONJ', 'совет_NOUN', 'мы_PRON', 'давать_VERB', 'действительно_ADV', 'правильный_ADJ', 'в_ADP', 'ресторан_NOUN', 'быть_AUX', 'человек_NOUN', 'xx_NUM', 'xx_NUM', 'тут_ADV', 'действительно_ADV', 'горячий_ADJ', 'блюдо_ADV', 'можно_ADV', 'ждать_VERB', 'весьма_ADV', 'долго_ADV', 'меню_NOUN', 'достаточно_ADV', 'разнообразный_ADJ', 'и_CCONJ', 'весьма_ADV', 'вкусный_ADJ', 'я_PRON', 'и_PART', 'мой_DET', 'друг_NOUN', 'понравиться_VERB', 'весь_PRON', 'что_SCONJ', 'мы_PRON', 'приносить_VERB', 'а_CCONJ', 'приносить_VERB', 'мы_PRON', 'немало_ADV', 'обслуживание_NOUN', 'мочь_VERB', 'и_PART', 'не_PART', 'сам_ADJ', 'лучьать_ADJ', 'в_ADP', 'город_NOUN', 'но_CCONJ', 'официант_NOUN', 'делать_VERB', 'все_PRON', 'что_PRON', 'нужный_ADJ', 'должен_ADJ', 'сказать_VERB', 'что_PRON', 'ждать_VERB', 'мы_PRON', 'всёравно_ADV', 'приходиться_VERB', 'не_PART', 'очень_ADV', 'долго_ADV', 'конечно_ADV', 'но_CCONJ', 'всё', '-', 'ж_PART', 'интерьер_NOUN', 'хороший_ADJ', 'удобный_ADJ', 'диван_ADJ', 'очень_ADV', 'хороший_ADJ', 'музыкальный_ADJ', 'программа_NOUN', 'и_CCONJ', 'веселый_ADJ', 'ведущий_NOUN', 'в_ADP', 'общий_ADJ', 'я_PRON', 'оставаться_VERB', 'довольный_ADJ', 'свой_DET', 'выбор_NOUN', 'и_CCONJ', 'то_PRON', 'как_SCONJ', 'мы_PRON', 'проводить_VERB', 'вечер_NOUN', 'хороший_ADJ', 'ресторан_NOUN', 'уютный_ADJ', 'и_CCONJ', 'кухня_NOUN', 'хороший_ADJ', 'руководство_NOUN', 'и_CCONJ', 'персонал_NOUN', 'спасибо_PROPN'], 'aspect': 'Food', 'sentiment': 'positive'}\n"
          ],
          "name": "stdout"
        }
      ]
    },
    {
      "cell_type": "markdown",
      "metadata": {
        "id": "-UZ5JsgxTgIB",
        "colab_type": "text"
      },
      "source": [
        "Посмотрим на баланс классов"
      ]
    },
    {
      "cell_type": "code",
      "metadata": {
        "id": "NaJIJvm1Td6O",
        "colab_type": "code",
        "colab": {
          "base_uri": "https://localhost:8080/",
          "height": 52
        },
        "outputId": "c96671b9-b59f-429c-be7b-260ef30babab"
      },
      "source": [
        "np.unique(temp_all.sentiment, return_counts=True)"
      ],
      "execution_count": 21,
      "outputs": [
        {
          "output_type": "execute_result",
          "data": {
            "text/plain": [
              "(array(['both', 'negative', 'positive'], dtype=object),\n",
              " array([ 274,  212, 1185]))"
            ]
          },
          "metadata": {
            "tags": []
          },
          "execution_count": 21
        }
      ]
    },
    {
      "cell_type": "markdown",
      "metadata": {
        "id": "xCBQHV-EUF_f",
        "colab_type": "text"
      },
      "source": [
        "Как видим, объектов классов neutral, both мало, нам придется подстроить веса в лоссе, чтобы лучше обучаться на эти элементы."
      ]
    },
    {
      "cell_type": "markdown",
      "metadata": {
        "id": "e0ErkfpqEYuJ",
        "colab_type": "text"
      },
      "source": [
        "Разделим данные на обучение и валидацию (для early stopping)."
      ]
    },
    {
      "cell_type": "code",
      "metadata": {
        "id": "PNI15Kq2Dfv0",
        "colab_type": "code",
        "colab": {}
      },
      "source": [
        "restaurants_train, restaurants_valid = restaurants_train_all.split(\n",
        "    split_ratio=0.8, random_state=random.seed(random_state), \n",
        "    strata_field='sentiment', stratified=True\n",
        ")"
      ],
      "execution_count": 0,
      "outputs": []
    },
    {
      "cell_type": "markdown",
      "metadata": {
        "id": "c9QckX_sEgVT",
        "colab_type": "text"
      },
      "source": [
        "Теперь надо построить словарь для нашего датасета. Имеет смысл попробовать несколько возможных векторов."
      ]
    },
    {
      "cell_type": "code",
      "metadata": {
        "id": "JZLbOKt5Df0o",
        "colab_type": "code",
        "colab": {}
      },
      "source": [
        "TEXT.build_vocab(restaurants_all)\n",
        "ASPECT.build_vocab(restaurants_train)\n",
        "SENTIMENT.build_vocab(restaurants_train)"
      ],
      "execution_count": 0,
      "outputs": []
    },
    {
      "cell_type": "code",
      "metadata": {
        "id": "taHfxIi4Df5_",
        "colab_type": "code",
        "outputId": "b5f6675b-8234-407c-9626-d359df600e1a",
        "colab": {
          "base_uri": "https://localhost:8080/",
          "height": 69
        }
      },
      "source": [
        "print(f'Size of TEXT vocabulary: {len(TEXT.vocab)}')\n",
        "print(f'Size of ASPECT vocabulary: {len(ASPECT.vocab)}')\n",
        "print(f'Size of SENTIMENT vocabulary: {len(SENTIMENT.vocab)}')"
      ],
      "execution_count": 24,
      "outputs": [
        {
          "output_type": "stream",
          "text": [
            "Size of TEXT vocabulary: 6017\n",
            "Size of ASPECT vocabulary: 5\n",
            "Size of SENTIMENT vocabulary: 3\n"
          ],
          "name": "stdout"
        }
      ]
    },
    {
      "cell_type": "markdown",
      "metadata": {
        "id": "RgL8LLMDGEsA",
        "colab_type": "text"
      },
      "source": [
        "Надо подгрузить векторы с диска и создать словарь."
      ]
    },
    {
      "cell_type": "code",
      "metadata": {
        "id": "xyfuDh6sFKCl",
        "colab_type": "code",
        "colab": {}
      },
      "source": [
        "epsilon = 0.01\n",
        "word2vec_path = os.path.join(DATA_PREFIX, 'raw', 'word2vec', \n",
        "                            'ruscorpora_upos_cbow_300_20_2019.txt')\n",
        "fasttext_path = os.path.join(DATA_PREFIX, 'raw', 'fasttext', \n",
        "                            'ruscorpora_none_fasttextskipgram_300_2_2019.txt')\n",
        "vectors = torchtext.vocab.Vectors(\n",
        "    word2vec_path, \n",
        "    unk_init=lambda x: torch.nn.init.uniform_(x, -epsilon, epsilon)\n",
        ")\n",
        "TEXT.vocab.set_vectors(vectors.stoi, vectors.vectors, vectors.dim)"
      ],
      "execution_count": 0,
      "outputs": []
    },
    {
      "cell_type": "markdown",
      "metadata": {
        "id": "jPKTzOIuTORE",
        "colab_type": "text"
      },
      "source": [
        "Чтобы понять как подобные файлы с векторами получить можно посмотреть [туториал](https://github.com/akutuzov/webvectors/blob/master/preprocessing/rusvectores_tutorial.ipynb). Сначала потребуется перевести модели в формат gensim, а затем сохранить их в wv формате следующим образом:\n",
        "```python\n",
        "gensim_model.wv.save_word2vec_format(path_to_embeddings_file)\n",
        "```\n",
        "\n",
        "Также для понимания может быть полезен следующий [ответ](https://stackoverflow.com/questions/49710537/pytorch-gensim-how-to-load-pre-trained-word-embeddings)."
      ]
    },
    {
      "cell_type": "markdown",
      "metadata": {
        "id": "x41erAvmUTTb",
        "colab_type": "text"
      },
      "source": [
        "### Обучение модели\n",
        "\n",
        "Теперь нам предстоит обучить модель."
      ]
    },
    {
      "cell_type": "markdown",
      "metadata": {
        "colab_type": "text",
        "id": "d_h_F21eUeqZ"
      },
      "source": [
        "Напишем итератор."
      ]
    },
    {
      "cell_type": "code",
      "metadata": {
        "colab_type": "code",
        "id": "th1HCjT3Ueqv",
        "colab": {}
      },
      "source": [
        "batch_size = 64\n",
        "\n",
        "train_iter, val_iter, test_iter = torchtext.data.BucketIterator.splits(\n",
        "        (restaurants_train, restaurants_valid, restaurants_test),\n",
        "        batch_sizes=(batch_size, batch_size, 1),\n",
        "        sort=True,\n",
        "        sort_key=lambda x: len(x.text),\n",
        "        sort_within_batch=True,\n",
        "        device=device,\n",
        "        repeat=False\n",
        ")"
      ],
      "execution_count": 0,
      "outputs": []
    },
    {
      "cell_type": "code",
      "metadata": {
        "id": "BQRXPB7HUQOG",
        "colab_type": "code",
        "outputId": "306edf84-a08c-46df-b917-81e1d55453c9",
        "colab": {
          "base_uri": "https://localhost:8080/",
          "height": 347
        }
      },
      "source": [
        "num_aspects = len(ASPECT.vocab)\n",
        "embeddings_aspects_dim = 300\n",
        "hidden_dim = 300\n",
        "num_sentiments = len(SENTIMENT.vocab)\n",
        "embeddings_words_init = TEXT.vocab.vectors\n",
        "\n",
        "set_seed_everywhere(random_seed, USE_GPU)\n",
        "model = ATAE_LSTM(\n",
        "    num_aspects, embeddings_aspects_dim, hidden_dim, num_sentiments, \n",
        "    embeddings_words_init=embeddings_words_init\n",
        ")\n",
        "model"
      ],
      "execution_count": 38,
      "outputs": [
        {
          "output_type": "execute_result",
          "data": {
            "text/plain": [
              "ATAE_LSTM(\n",
              "  (embeddings_words): Embedding(6017, 300)\n",
              "  (embeddings_aspects): Embedding(5, 300)\n",
              "  (lstm): LSTM(600, 300, batch_first=True)\n",
              "  (attention): Sequential(\n",
              "    (0): Linear(in_features=600, out_features=600, bias=True)\n",
              "    (1): Permute()\n",
              "    (2): BatchNorm1d(600, eps=1e-05, momentum=0.1, affine=True, track_running_stats=True)\n",
              "    (3): Permute()\n",
              "    (4): Dropout(p=0.5, inplace=False)\n",
              "    (5): Tanh()\n",
              "    (6): Linear(in_features=600, out_features=1, bias=True)\n",
              "    (7): Softmax(dim=1)\n",
              "  )\n",
              "  (sentence_representation): Linear(in_features=600, out_features=300, bias=False)\n",
              "  (drop): Dropout(p=0.5, inplace=False)\n",
              "  (sentence_representation_nonlinearity): Tanh()\n",
              "  (sentence_representation_to_sentiments): Linear(in_features=300, out_features=3, bias=True)\n",
              ")"
            ]
          },
          "metadata": {
            "tags": []
          },
          "execution_count": 38
        }
      ]
    },
    {
      "cell_type": "code",
      "metadata": {
        "id": "5jg5bYwuUQLb",
        "colab_type": "code",
        "colab": {}
      },
      "source": [
        "model = model.to(device=device)\n",
        "learning_rate = 5e-6\n",
        "early_stopping = 1000\n",
        "grad_clipping_value = 1\n",
        "l2_coef = 1e-3\n",
        "epochs = 300\n",
        "\n",
        "opt = optim.Adam(model.parameters(), lr=learning_rate, weight_decay=l2_coef)\n",
        "scheduler = optim.lr_scheduler.StepLR(opt, step_size=10, gamma=1)\n",
        "# Так как каждого класса сильно разное количество, \n",
        "# то необходимо сделать подстройку весов\n",
        "weight = torch.tensor([1., 2, 2], device=device)\n",
        "criterion = nn.CrossEntropyLoss(weight=weight)\n",
        "path_save = os.path.join(MODEL_PREFIX, 'at_lstm', 'at_lstm_ru.pt')"
      ],
      "execution_count": 0,
      "outputs": []
    },
    {
      "cell_type": "code",
      "metadata": {
        "id": "TCBaYgy5St-T",
        "colab_type": "code",
        "outputId": "de4f511e-5e52-4cf7-ae04-4d03cd8e8aee",
        "colab": {
          "base_uri": "https://localhost:8080/",
          "height": 1000,
          "referenced_widgets": [
            "6bffae3ef46246e6af8b24571ec07b77",
            "64e56cfa441e4a1d90ae1a78ff5692ab",
            "bf6d3bc6c1744814903d8095da35f330",
            "65943192b6834fa9bdc89a68efacf7ed",
            "5b236b210f82431f96673748669bf1a8",
            "07e61616dc76454080b3eac7da88951d",
            "babaf1113268475f870f990f1cb869d1",
            "0fc885388fc54a809bb06f45b317d527"
          ]
        }
      },
      "source": [
        "set_seed_everywhere(random_seed, USE_GPU)\n",
        "train_losses, val_losses, train_acc, val_acc = train_loop(\n",
        "    train_iter, val_iter, restaurants_train, restaurants_valid,\n",
        "    model, opt, scheduler, criterion, \n",
        "    epochs, early_stopping\n",
        ")"
      ],
      "execution_count": 40,
      "outputs": [
        {
          "output_type": "display_data",
          "data": {
            "application/vnd.jupyter.widget-view+json": {
              "model_id": "6bffae3ef46246e6af8b24571ec07b77",
              "version_minor": 0,
              "version_major": 2
            },
            "text/plain": [
              "HBox(children=(IntProgress(value=0, max=300), HTML(value='')))"
            ]
          },
          "metadata": {
            "tags": []
          }
        },
        {
          "output_type": "stream",
          "text": [
            "------SAVED------\n",
            "Epoch: 1, Training Loss*: 18.61836, Validation Loss*: 20.22216, \n",
            "Training Acc: 0.20274, Validation Acc: 0.15854\n",
            "------SAVED------\n",
            "Epoch: 2, Training Loss*: 18.51189, Validation Loss*: 20.08575, \n",
            "Training Acc: 0.26524, Validation Acc: 0.26220\n",
            "------SAVED------\n",
            "Epoch: 3, Training Loss*: 18.20914, Validation Loss*: 19.95430, \n",
            "Training Acc: 0.35518, Validation Acc: 0.40854\n",
            "------SAVED------\n",
            "Epoch: 4, Training Loss*: 18.20324, Validation Loss*: 19.82606, \n",
            "Training Acc: 0.40701, Validation Acc: 0.54268\n",
            "------SAVED------\n",
            "Epoch: 5, Training Loss*: 17.94868, Validation Loss*: 19.69973, \n",
            "Training Acc: 0.45732, Validation Acc: 0.61585\n",
            "------SAVED------\n",
            "Epoch: 6, Training Loss*: 17.92375, Validation Loss*: 19.57834, \n",
            "Training Acc: 0.53049, Validation Acc: 0.68293\n",
            "------SAVED------\n",
            "Epoch: 7, Training Loss*: 17.75760, Validation Loss*: 19.46210, \n",
            "Training Acc: 0.58384, Validation Acc: 0.69512\n",
            "------SAVED------\n",
            "Epoch: 8, Training Loss*: 17.60346, Validation Loss*: 19.34700, \n",
            "Training Acc: 0.65091, Validation Acc: 0.71341\n",
            "------SAVED------\n",
            "Epoch: 9, Training Loss*: 17.44903, Validation Loss*: 19.23295, \n",
            "Training Acc: 0.67378, Validation Acc: 0.71341\n",
            "------SAVED------\n",
            "Epoch: 10, Training Loss*: 17.33742, Validation Loss*: 19.12111, \n",
            "Training Acc: 0.69665, Validation Acc: 0.71341\n",
            "------SAVED------\n",
            "Epoch: 11, Training Loss*: 17.20127, Validation Loss*: 19.00946, \n",
            "Training Acc: 0.69512, Validation Acc: 0.71341\n",
            "------SAVED------\n",
            "Epoch: 12, Training Loss*: 17.21324, Validation Loss*: 18.90130, \n",
            "Training Acc: 0.71189, Validation Acc: 0.71341\n",
            "------SAVED------\n",
            "Epoch: 13, Training Loss*: 16.98043, Validation Loss*: 18.79466, \n",
            "Training Acc: 0.70732, Validation Acc: 0.71341\n",
            "------SAVED------\n",
            "Epoch: 14, Training Loss*: 16.90087, Validation Loss*: 18.68895, \n",
            "Training Acc: 0.71646, Validation Acc: 0.71341\n",
            "------SAVED------\n",
            "Epoch: 15, Training Loss*: 16.78587, Validation Loss*: 18.58733, \n",
            "Training Acc: 0.71646, Validation Acc: 0.71341\n",
            "------SAVED------\n",
            "Epoch: 16, Training Loss*: 16.69878, Validation Loss*: 18.48915, \n",
            "Training Acc: 0.71341, Validation Acc: 0.71341\n",
            "------SAVED------\n",
            "Epoch: 17, Training Loss*: 16.65694, Validation Loss*: 18.39529, \n",
            "Training Acc: 0.71494, Validation Acc: 0.71341\n",
            "------SAVED------\n",
            "Epoch: 18, Training Loss*: 16.55442, Validation Loss*: 18.30544, \n",
            "Training Acc: 0.72256, Validation Acc: 0.71341\n",
            "------SAVED------\n",
            "Epoch: 19, Training Loss*: 16.46312, Validation Loss*: 18.22121, \n",
            "Training Acc: 0.71646, Validation Acc: 0.71341\n",
            "------SAVED------\n",
            "Epoch: 20, Training Loss*: 16.35407, Validation Loss*: 18.14096, \n",
            "Training Acc: 0.71646, Validation Acc: 0.71341\n",
            "------SAVED------\n",
            "Epoch: 21, Training Loss*: 16.23097, Validation Loss*: 18.06583, \n",
            "Training Acc: 0.71951, Validation Acc: 0.71341\n",
            "------SAVED------\n",
            "Epoch: 22, Training Loss*: 16.22428, Validation Loss*: 17.99723, \n",
            "Training Acc: 0.71341, Validation Acc: 0.71341\n",
            "------SAVED------\n",
            "Epoch: 23, Training Loss*: 16.15235, Validation Loss*: 17.93520, \n",
            "Training Acc: 0.71494, Validation Acc: 0.71341\n",
            "------SAVED------\n",
            "Epoch: 24, Training Loss*: 15.99323, Validation Loss*: 17.87941, \n",
            "Training Acc: 0.71494, Validation Acc: 0.71341\n",
            "------SAVED------\n",
            "Epoch: 25, Training Loss*: 15.98760, Validation Loss*: 17.83106, \n",
            "Training Acc: 0.71341, Validation Acc: 0.71341\n",
            "------SAVED------\n",
            "Epoch: 26, Training Loss*: 15.88098, Validation Loss*: 17.78917, \n",
            "Training Acc: 0.71494, Validation Acc: 0.71951\n",
            "------SAVED------\n",
            "Epoch: 27, Training Loss*: 15.91962, Validation Loss*: 17.75431, \n",
            "Training Acc: 0.71799, Validation Acc: 0.71951\n",
            "------SAVED------\n",
            "Epoch: 28, Training Loss*: 15.75692, Validation Loss*: 17.72586, \n",
            "Training Acc: 0.71799, Validation Acc: 0.71951\n",
            "------SAVED------\n",
            "Epoch: 29, Training Loss*: 15.66864, Validation Loss*: 17.70296, \n",
            "Training Acc: 0.71646, Validation Acc: 0.71951\n",
            "------SAVED------\n",
            "Epoch: 30, Training Loss*: 15.72719, Validation Loss*: 17.68571, \n",
            "Training Acc: 0.71341, Validation Acc: 0.71951\n",
            "------SAVED------\n",
            "Epoch: 31, Training Loss*: 15.54274, Validation Loss*: 17.67286, \n",
            "Training Acc: 0.72256, Validation Acc: 0.71951\n",
            "------SAVED------\n",
            "Epoch: 32, Training Loss*: 15.60510, Validation Loss*: 17.66438, \n",
            "Training Acc: 0.71799, Validation Acc: 0.71951\n",
            "------SAVED------\n",
            "Epoch: 33, Training Loss*: 15.46546, Validation Loss*: 17.65838, \n",
            "Training Acc: 0.72104, Validation Acc: 0.71951\n",
            "------SAVED------\n",
            "Epoch: 34, Training Loss*: 15.44899, Validation Loss*: 17.65650, \n",
            "Training Acc: 0.71951, Validation Acc: 0.71951\n",
            "Epoch: 35, Training Loss*: 15.34134, Validation Loss*: 17.65722, \n",
            "Training Acc: 0.71951, Validation Acc: 0.71951\n",
            "Epoch: 36, Training Loss*: 15.31074, Validation Loss*: 17.66238, \n",
            "Training Acc: 0.71951, Validation Acc: 0.71951\n",
            "Epoch: 37, Training Loss*: 15.36494, Validation Loss*: 17.66696, \n",
            "Training Acc: 0.71799, Validation Acc: 0.71951\n",
            "Epoch: 38, Training Loss*: 15.19503, Validation Loss*: 17.67036, \n",
            "Training Acc: 0.72256, Validation Acc: 0.71951\n",
            "Epoch: 39, Training Loss*: 15.26707, Validation Loss*: 17.67567, \n",
            "Training Acc: 0.72409, Validation Acc: 0.71951\n",
            "Epoch: 40, Training Loss*: 15.23087, Validation Loss*: 17.68001, \n",
            "Training Acc: 0.72104, Validation Acc: 0.71951\n",
            "Epoch: 41, Training Loss*: 15.08306, Validation Loss*: 17.68661, \n",
            "Training Acc: 0.72256, Validation Acc: 0.71951\n",
            "Epoch: 42, Training Loss*: 14.99224, Validation Loss*: 17.70094, \n",
            "Training Acc: 0.72104, Validation Acc: 0.71951\n",
            "Epoch: 43, Training Loss*: 15.03568, Validation Loss*: 17.71647, \n",
            "Training Acc: 0.72104, Validation Acc: 0.71951\n",
            "Epoch: 44, Training Loss*: 14.99313, Validation Loss*: 17.72211, \n",
            "Training Acc: 0.72561, Validation Acc: 0.71951\n",
            "Epoch: 45, Training Loss*: 14.91750, Validation Loss*: 17.72683, \n",
            "Training Acc: 0.71951, Validation Acc: 0.71951\n",
            "Epoch: 46, Training Loss*: 15.00101, Validation Loss*: 17.71571, \n",
            "Training Acc: 0.71951, Validation Acc: 0.71951\n",
            "Epoch: 47, Training Loss*: 14.85546, Validation Loss*: 17.70092, \n",
            "Training Acc: 0.72256, Validation Acc: 0.71341\n",
            "Epoch: 48, Training Loss*: 14.73510, Validation Loss*: 17.68920, \n",
            "Training Acc: 0.72561, Validation Acc: 0.71341\n",
            "Epoch: 49, Training Loss*: 14.74817, Validation Loss*: 17.68232, \n",
            "Training Acc: 0.72104, Validation Acc: 0.71341\n",
            "Epoch: 50, Training Loss*: 14.73523, Validation Loss*: 17.67514, \n",
            "Training Acc: 0.72713, Validation Acc: 0.71341\n",
            "Epoch: 51, Training Loss*: 14.68949, Validation Loss*: 17.66912, \n",
            "Training Acc: 0.72104, Validation Acc: 0.71341\n",
            "Epoch: 52, Training Loss*: 14.62137, Validation Loss*: 17.65852, \n",
            "Training Acc: 0.72409, Validation Acc: 0.71341\n",
            "------SAVED------\n",
            "Epoch: 53, Training Loss*: 14.62867, Validation Loss*: 17.64794, \n",
            "Training Acc: 0.73171, Validation Acc: 0.71341\n",
            "------SAVED------\n",
            "Epoch: 54, Training Loss*: 14.65399, Validation Loss*: 17.62986, \n",
            "Training Acc: 0.73018, Validation Acc: 0.71341\n",
            "------SAVED------\n",
            "Epoch: 55, Training Loss*: 14.45279, Validation Loss*: 17.61442, \n",
            "Training Acc: 0.73171, Validation Acc: 0.71341\n",
            "------SAVED------\n",
            "Epoch: 56, Training Loss*: 14.38023, Validation Loss*: 17.61090, \n",
            "Training Acc: 0.73933, Validation Acc: 0.71341\n",
            "------SAVED------\n",
            "Epoch: 57, Training Loss*: 14.34223, Validation Loss*: 17.60427, \n",
            "Training Acc: 0.73476, Validation Acc: 0.71341\n",
            "------SAVED------\n",
            "Epoch: 58, Training Loss*: 14.29233, Validation Loss*: 17.57817, \n",
            "Training Acc: 0.74543, Validation Acc: 0.71341\n",
            "------SAVED------\n",
            "Epoch: 59, Training Loss*: 14.12844, Validation Loss*: 17.56621, \n",
            "Training Acc: 0.73933, Validation Acc: 0.71341\n",
            "------SAVED------\n",
            "Epoch: 60, Training Loss*: 14.16577, Validation Loss*: 17.55801, \n",
            "Training Acc: 0.73780, Validation Acc: 0.71341\n",
            "------SAVED------\n",
            "Epoch: 61, Training Loss*: 14.12222, Validation Loss*: 17.53314, \n",
            "Training Acc: 0.74238, Validation Acc: 0.71951\n",
            "------SAVED------\n",
            "Epoch: 62, Training Loss*: 14.02222, Validation Loss*: 17.51119, \n",
            "Training Acc: 0.74238, Validation Acc: 0.71951\n",
            "------SAVED------\n",
            "Epoch: 63, Training Loss*: 14.10104, Validation Loss*: 17.48935, \n",
            "Training Acc: 0.74390, Validation Acc: 0.71951\n",
            "------SAVED------\n",
            "Epoch: 64, Training Loss*: 13.95496, Validation Loss*: 17.45566, \n",
            "Training Acc: 0.74390, Validation Acc: 0.71951\n",
            "------SAVED------\n",
            "Epoch: 65, Training Loss*: 13.95202, Validation Loss*: 17.41861, \n",
            "Training Acc: 0.74543, Validation Acc: 0.71951\n",
            "------SAVED------\n",
            "Epoch: 66, Training Loss*: 13.81268, Validation Loss*: 17.38305, \n",
            "Training Acc: 0.75152, Validation Acc: 0.71951\n",
            "------SAVED------\n",
            "Epoch: 67, Training Loss*: 13.80275, Validation Loss*: 17.34400, \n",
            "Training Acc: 0.75305, Validation Acc: 0.71341\n",
            "------SAVED------\n",
            "Epoch: 68, Training Loss*: 13.71546, Validation Loss*: 17.29600, \n",
            "Training Acc: 0.75915, Validation Acc: 0.71341\n",
            "------SAVED------\n",
            "Epoch: 69, Training Loss*: 13.68468, Validation Loss*: 17.24271, \n",
            "Training Acc: 0.76372, Validation Acc: 0.71341\n",
            "------SAVED------\n",
            "Epoch: 70, Training Loss*: 13.51820, Validation Loss*: 17.17038, \n",
            "Training Acc: 0.76982, Validation Acc: 0.71341\n",
            "------SAVED------\n",
            "Epoch: 71, Training Loss*: 13.62280, Validation Loss*: 17.09093, \n",
            "Training Acc: 0.76829, Validation Acc: 0.72561\n",
            "------SAVED------\n",
            "Epoch: 72, Training Loss*: 13.56144, Validation Loss*: 17.00503, \n",
            "Training Acc: 0.77439, Validation Acc: 0.73171\n",
            "------SAVED------\n",
            "Epoch: 73, Training Loss*: 13.43546, Validation Loss*: 16.92313, \n",
            "Training Acc: 0.75915, Validation Acc: 0.73780\n",
            "------SAVED------\n",
            "Epoch: 74, Training Loss*: 13.43227, Validation Loss*: 16.87136, \n",
            "Training Acc: 0.77287, Validation Acc: 0.73780\n",
            "------SAVED------\n",
            "Epoch: 75, Training Loss*: 13.29873, Validation Loss*: 16.81400, \n",
            "Training Acc: 0.77134, Validation Acc: 0.74390\n",
            "------SAVED------\n",
            "Epoch: 76, Training Loss*: 13.12728, Validation Loss*: 16.75619, \n",
            "Training Acc: 0.77591, Validation Acc: 0.73780\n",
            "------SAVED------\n",
            "Epoch: 77, Training Loss*: 13.27332, Validation Loss*: 16.68262, \n",
            "Training Acc: 0.76829, Validation Acc: 0.74390\n",
            "------SAVED------\n",
            "Epoch: 78, Training Loss*: 13.11340, Validation Loss*: 16.58690, \n",
            "Training Acc: 0.78201, Validation Acc: 0.74390\n",
            "------SAVED------\n",
            "Epoch: 79, Training Loss*: 13.11481, Validation Loss*: 16.55051, \n",
            "Training Acc: 0.78201, Validation Acc: 0.74390\n",
            "------SAVED------\n",
            "Epoch: 80, Training Loss*: 13.08241, Validation Loss*: 16.51175, \n",
            "Training Acc: 0.77439, Validation Acc: 0.74390\n",
            "------SAVED------\n",
            "Epoch: 81, Training Loss*: 13.06236, Validation Loss*: 16.45434, \n",
            "Training Acc: 0.78354, Validation Acc: 0.73780\n",
            "------SAVED------\n",
            "Epoch: 82, Training Loss*: 12.90807, Validation Loss*: 16.41972, \n",
            "Training Acc: 0.78506, Validation Acc: 0.73171\n",
            "------SAVED------\n",
            "Epoch: 83, Training Loss*: 12.92596, Validation Loss*: 16.39170, \n",
            "Training Acc: 0.78201, Validation Acc: 0.73171\n",
            "------SAVED------\n",
            "Epoch: 84, Training Loss*: 12.70087, Validation Loss*: 16.37924, \n",
            "Training Acc: 0.78506, Validation Acc: 0.72561\n",
            "------SAVED------\n",
            "Epoch: 85, Training Loss*: 12.77195, Validation Loss*: 16.35610, \n",
            "Training Acc: 0.77896, Validation Acc: 0.72561\n",
            "------SAVED------\n",
            "Epoch: 86, Training Loss*: 12.79147, Validation Loss*: 16.33687, \n",
            "Training Acc: 0.77896, Validation Acc: 0.72561\n",
            "------SAVED------\n",
            "Epoch: 87, Training Loss*: 12.66179, Validation Loss*: 16.31920, \n",
            "Training Acc: 0.78201, Validation Acc: 0.72561\n",
            "------SAVED------\n",
            "Epoch: 88, Training Loss*: 12.70793, Validation Loss*: 16.30489, \n",
            "Training Acc: 0.78506, Validation Acc: 0.72561\n",
            "------SAVED------\n",
            "Epoch: 89, Training Loss*: 12.51140, Validation Loss*: 16.29925, \n",
            "Training Acc: 0.78201, Validation Acc: 0.72561\n",
            "Epoch: 90, Training Loss*: 12.61325, Validation Loss*: 16.30914, \n",
            "Training Acc: 0.78506, Validation Acc: 0.72561\n",
            "------SAVED------\n",
            "Epoch: 91, Training Loss*: 12.63766, Validation Loss*: 16.28735, \n",
            "Training Acc: 0.78049, Validation Acc: 0.72561\n",
            "Epoch: 92, Training Loss*: 12.34791, Validation Loss*: 16.29836, \n",
            "Training Acc: 0.79116, Validation Acc: 0.72561\n",
            "Epoch: 93, Training Loss*: 12.49138, Validation Loss*: 16.29881, \n",
            "Training Acc: 0.78811, Validation Acc: 0.73171\n",
            "------SAVED------\n",
            "Epoch: 94, Training Loss*: 12.40132, Validation Loss*: 16.26540, \n",
            "Training Acc: 0.78354, Validation Acc: 0.72561\n",
            "------SAVED------\n",
            "Epoch: 95, Training Loss*: 12.32991, Validation Loss*: 16.23117, \n",
            "Training Acc: 0.78201, Validation Acc: 0.72561\n",
            "------SAVED------\n",
            "Epoch: 96, Training Loss*: 12.27568, Validation Loss*: 16.22538, \n",
            "Training Acc: 0.78659, Validation Acc: 0.72561\n",
            "------SAVED------\n",
            "Epoch: 97, Training Loss*: 12.32011, Validation Loss*: 16.21863, \n",
            "Training Acc: 0.78049, Validation Acc: 0.72561\n",
            "------SAVED------\n",
            "Epoch: 98, Training Loss*: 12.25765, Validation Loss*: 16.19289, \n",
            "Training Acc: 0.79268, Validation Acc: 0.72561\n",
            "------SAVED------\n",
            "Epoch: 99, Training Loss*: 12.34798, Validation Loss*: 16.16610, \n",
            "Training Acc: 0.78811, Validation Acc: 0.72561\n",
            "------SAVED------\n",
            "Epoch: 100, Training Loss*: 12.12723, Validation Loss*: 16.14809, \n",
            "Training Acc: 0.78201, Validation Acc: 0.72561\n",
            "Epoch: 101, Training Loss*: 12.06114, Validation Loss*: 16.16472, \n",
            "Training Acc: 0.79116, Validation Acc: 0.72561\n",
            "Epoch: 102, Training Loss*: 12.12737, Validation Loss*: 16.18300, \n",
            "Training Acc: 0.78811, Validation Acc: 0.72561\n",
            "Epoch: 103, Training Loss*: 11.99914, Validation Loss*: 16.17492, \n",
            "Training Acc: 0.78963, Validation Acc: 0.72561\n",
            "Epoch: 104, Training Loss*: 11.89457, Validation Loss*: 16.15356, \n",
            "Training Acc: 0.78963, Validation Acc: 0.72561\n",
            "------SAVED------\n",
            "Epoch: 105, Training Loss*: 11.92830, Validation Loss*: 16.14110, \n",
            "Training Acc: 0.79421, Validation Acc: 0.72561\n",
            "------SAVED------\n",
            "Epoch: 106, Training Loss*: 11.88195, Validation Loss*: 16.13408, \n",
            "Training Acc: 0.79573, Validation Acc: 0.72561\n",
            "------SAVED------\n",
            "Epoch: 107, Training Loss*: 11.89797, Validation Loss*: 16.09313, \n",
            "Training Acc: 0.78811, Validation Acc: 0.72561\n",
            "------SAVED------\n",
            "Epoch: 108, Training Loss*: 11.89462, Validation Loss*: 16.05840, \n",
            "Training Acc: 0.78659, Validation Acc: 0.73171\n",
            "------SAVED------\n",
            "Epoch: 109, Training Loss*: 11.86752, Validation Loss*: 16.04059, \n",
            "Training Acc: 0.78506, Validation Acc: 0.73171\n",
            "------SAVED------\n",
            "Epoch: 110, Training Loss*: 11.76393, Validation Loss*: 16.04022, \n",
            "Training Acc: 0.79268, Validation Acc: 0.73171\n",
            "Epoch: 111, Training Loss*: 11.76796, Validation Loss*: 16.04394, \n",
            "Training Acc: 0.79878, Validation Acc: 0.72561\n",
            "Epoch: 112, Training Loss*: 11.64464, Validation Loss*: 16.04667, \n",
            "Training Acc: 0.79573, Validation Acc: 0.72561\n",
            "------SAVED------\n",
            "Epoch: 113, Training Loss*: 11.58822, Validation Loss*: 16.02069, \n",
            "Training Acc: 0.78963, Validation Acc: 0.72561\n",
            "------SAVED------\n",
            "Epoch: 114, Training Loss*: 11.65742, Validation Loss*: 15.96653, \n",
            "Training Acc: 0.79268, Validation Acc: 0.73171\n",
            "------SAVED------\n",
            "Epoch: 115, Training Loss*: 11.58669, Validation Loss*: 15.95486, \n",
            "Training Acc: 0.79878, Validation Acc: 0.73171\n",
            "Epoch: 116, Training Loss*: 11.49612, Validation Loss*: 15.97852, \n",
            "Training Acc: 0.79573, Validation Acc: 0.73171\n",
            "Epoch: 117, Training Loss*: 11.60427, Validation Loss*: 15.97142, \n",
            "Training Acc: 0.79268, Validation Acc: 0.73171\n",
            "------SAVED------\n",
            "Epoch: 118, Training Loss*: 11.30452, Validation Loss*: 15.93843, \n",
            "Training Acc: 0.79573, Validation Acc: 0.73171\n",
            "------SAVED------\n",
            "Epoch: 119, Training Loss*: 11.39507, Validation Loss*: 15.91378, \n",
            "Training Acc: 0.80030, Validation Acc: 0.73171\n",
            "------SAVED------\n",
            "Epoch: 120, Training Loss*: 11.44749, Validation Loss*: 15.91100, \n",
            "Training Acc: 0.80030, Validation Acc: 0.72561\n",
            "------SAVED------\n",
            "Epoch: 121, Training Loss*: 11.43541, Validation Loss*: 15.87977, \n",
            "Training Acc: 0.80030, Validation Acc: 0.72561\n",
            "------SAVED------\n",
            "Epoch: 122, Training Loss*: 11.23995, Validation Loss*: 15.87716, \n",
            "Training Acc: 0.79421, Validation Acc: 0.72561\n",
            "------SAVED------\n",
            "Epoch: 123, Training Loss*: 11.38221, Validation Loss*: 15.87407, \n",
            "Training Acc: 0.79421, Validation Acc: 0.71951\n",
            "------SAVED------\n",
            "Epoch: 124, Training Loss*: 11.23934, Validation Loss*: 15.83367, \n",
            "Training Acc: 0.79421, Validation Acc: 0.71951\n",
            "------SAVED------\n",
            "Epoch: 125, Training Loss*: 11.07751, Validation Loss*: 15.80041, \n",
            "Training Acc: 0.80335, Validation Acc: 0.71951\n",
            "------SAVED------\n",
            "Epoch: 126, Training Loss*: 11.12155, Validation Loss*: 15.77076, \n",
            "Training Acc: 0.78811, Validation Acc: 0.71951\n",
            "------SAVED------\n",
            "Epoch: 127, Training Loss*: 11.23983, Validation Loss*: 15.73071, \n",
            "Training Acc: 0.79268, Validation Acc: 0.72561\n",
            "------SAVED------\n",
            "Epoch: 128, Training Loss*: 11.06420, Validation Loss*: 15.70693, \n",
            "Training Acc: 0.81250, Validation Acc: 0.71951\n",
            "------SAVED------\n",
            "Epoch: 129, Training Loss*: 11.11452, Validation Loss*: 15.68564, \n",
            "Training Acc: 0.79573, Validation Acc: 0.71951\n",
            "------SAVED------\n",
            "Epoch: 130, Training Loss*: 11.08800, Validation Loss*: 15.66044, \n",
            "Training Acc: 0.79878, Validation Acc: 0.72561\n",
            "------SAVED------\n",
            "Epoch: 131, Training Loss*: 11.12752, Validation Loss*: 15.65030, \n",
            "Training Acc: 0.79421, Validation Acc: 0.72561\n",
            "------SAVED------\n",
            "Epoch: 132, Training Loss*: 10.94564, Validation Loss*: 15.62998, \n",
            "Training Acc: 0.81707, Validation Acc: 0.72561\n",
            "------SAVED------\n",
            "Epoch: 133, Training Loss*: 11.01235, Validation Loss*: 15.58420, \n",
            "Training Acc: 0.80335, Validation Acc: 0.72561\n",
            "------SAVED------\n",
            "Epoch: 134, Training Loss*: 10.96099, Validation Loss*: 15.52403, \n",
            "Training Acc: 0.79421, Validation Acc: 0.72561\n",
            "------SAVED------\n",
            "Epoch: 135, Training Loss*: 10.83304, Validation Loss*: 15.51125, \n",
            "Training Acc: 0.80793, Validation Acc: 0.72561\n",
            "Epoch: 136, Training Loss*: 10.80236, Validation Loss*: 15.52471, \n",
            "Training Acc: 0.81098, Validation Acc: 0.72561\n",
            "Epoch: 137, Training Loss*: 10.84498, Validation Loss*: 15.51725, \n",
            "Training Acc: 0.81250, Validation Acc: 0.72561\n",
            "------SAVED------\n",
            "Epoch: 138, Training Loss*: 10.78305, Validation Loss*: 15.51100, \n",
            "Training Acc: 0.80945, Validation Acc: 0.72561\n",
            "Epoch: 139, Training Loss*: 10.68895, Validation Loss*: 15.51959, \n",
            "Training Acc: 0.79726, Validation Acc: 0.72561\n",
            "Epoch: 140, Training Loss*: 10.71914, Validation Loss*: 15.51852, \n",
            "Training Acc: 0.81250, Validation Acc: 0.73171\n",
            "Epoch: 141, Training Loss*: 10.68504, Validation Loss*: 15.51508, \n",
            "Training Acc: 0.80183, Validation Acc: 0.73171\n",
            "------SAVED------\n",
            "Epoch: 142, Training Loss*: 10.64483, Validation Loss*: 15.47769, \n",
            "Training Acc: 0.80030, Validation Acc: 0.73171\n",
            "------SAVED------\n",
            "Epoch: 143, Training Loss*: 10.48719, Validation Loss*: 15.46584, \n",
            "Training Acc: 0.79878, Validation Acc: 0.73171\n",
            "Epoch: 144, Training Loss*: 10.46678, Validation Loss*: 15.48355, \n",
            "Training Acc: 0.80640, Validation Acc: 0.73171\n",
            "Epoch: 145, Training Loss*: 10.51417, Validation Loss*: 15.53385, \n",
            "Training Acc: 0.81707, Validation Acc: 0.73171\n",
            "Epoch: 146, Training Loss*: 10.39418, Validation Loss*: 15.51233, \n",
            "Training Acc: 0.82165, Validation Acc: 0.73171\n",
            "------SAVED------\n",
            "Epoch: 147, Training Loss*: 10.39030, Validation Loss*: 15.41109, \n",
            "Training Acc: 0.81860, Validation Acc: 0.73780\n",
            "------SAVED------\n",
            "Epoch: 148, Training Loss*: 10.44149, Validation Loss*: 15.30136, \n",
            "Training Acc: 0.81555, Validation Acc: 0.73780\n",
            "------SAVED------\n",
            "Epoch: 149, Training Loss*: 10.44048, Validation Loss*: 15.25502, \n",
            "Training Acc: 0.80030, Validation Acc: 0.73171\n",
            "Epoch: 150, Training Loss*: 10.46976, Validation Loss*: 15.28728, \n",
            "Training Acc: 0.79726, Validation Acc: 0.73171\n",
            "Epoch: 151, Training Loss*: 10.33588, Validation Loss*: 15.28995, \n",
            "Training Acc: 0.80793, Validation Acc: 0.73780\n",
            "------SAVED------\n",
            "Epoch: 152, Training Loss*: 10.28361, Validation Loss*: 15.21495, \n",
            "Training Acc: 0.81098, Validation Acc: 0.74390\n",
            "------SAVED------\n",
            "Epoch: 153, Training Loss*: 10.15371, Validation Loss*: 15.19574, \n",
            "Training Acc: 0.81402, Validation Acc: 0.75000\n",
            "Epoch: 154, Training Loss*: 10.17018, Validation Loss*: 15.23658, \n",
            "Training Acc: 0.81707, Validation Acc: 0.75000\n",
            "Epoch: 155, Training Loss*: 10.19972, Validation Loss*: 15.27261, \n",
            "Training Acc: 0.82470, Validation Acc: 0.75000\n",
            "Epoch: 156, Training Loss*: 10.28021, Validation Loss*: 15.19791, \n",
            "Training Acc: 0.81402, Validation Acc: 0.75610\n",
            "------SAVED------\n",
            "Epoch: 157, Training Loss*: 10.01370, Validation Loss*: 15.16172, \n",
            "Training Acc: 0.81098, Validation Acc: 0.76829\n",
            "------SAVED------\n",
            "Epoch: 158, Training Loss*: 10.03450, Validation Loss*: 15.12147, \n",
            "Training Acc: 0.81555, Validation Acc: 0.75610\n",
            "------SAVED------\n",
            "Epoch: 159, Training Loss*: 10.08822, Validation Loss*: 15.06580, \n",
            "Training Acc: 0.82317, Validation Acc: 0.75610\n",
            "------SAVED------\n",
            "Epoch: 160, Training Loss*: 9.95002, Validation Loss*: 15.03952, \n",
            "Training Acc: 0.82317, Validation Acc: 0.76220\n",
            "Epoch: 161, Training Loss*: 9.87423, Validation Loss*: 15.07881, \n",
            "Training Acc: 0.82165, Validation Acc: 0.76220\n",
            "Epoch: 162, Training Loss*: 10.03978, Validation Loss*: 15.06307, \n",
            "Training Acc: 0.81098, Validation Acc: 0.76220\n",
            "------SAVED------\n",
            "Epoch: 163, Training Loss*: 9.83822, Validation Loss*: 15.01119, \n",
            "Training Acc: 0.82470, Validation Acc: 0.75610\n",
            "Epoch: 164, Training Loss*: 9.87070, Validation Loss*: 15.01941, \n",
            "Training Acc: 0.82470, Validation Acc: 0.76220\n",
            "Epoch: 165, Training Loss*: 9.72770, Validation Loss*: 15.02928, \n",
            "Training Acc: 0.82470, Validation Acc: 0.76220\n",
            "Epoch: 166, Training Loss*: 9.75839, Validation Loss*: 15.06261, \n",
            "Training Acc: 0.81555, Validation Acc: 0.76220\n",
            "------SAVED------\n",
            "Epoch: 167, Training Loss*: 9.75760, Validation Loss*: 15.00092, \n",
            "Training Acc: 0.81860, Validation Acc: 0.76220\n",
            "------SAVED------\n",
            "Epoch: 168, Training Loss*: 9.69795, Validation Loss*: 14.90759, \n",
            "Training Acc: 0.82317, Validation Acc: 0.76220\n",
            "------SAVED------\n",
            "Epoch: 169, Training Loss*: 9.79022, Validation Loss*: 14.88131, \n",
            "Training Acc: 0.82165, Validation Acc: 0.75610\n",
            "Epoch: 170, Training Loss*: 9.70025, Validation Loss*: 14.90983, \n",
            "Training Acc: 0.82317, Validation Acc: 0.75610\n",
            "Epoch: 171, Training Loss*: 9.68213, Validation Loss*: 14.92004, \n",
            "Training Acc: 0.82470, Validation Acc: 0.75000\n",
            "Epoch: 172, Training Loss*: 9.56962, Validation Loss*: 14.96638, \n",
            "Training Acc: 0.82317, Validation Acc: 0.75000\n",
            "Epoch: 173, Training Loss*: 9.53975, Validation Loss*: 14.96204, \n",
            "Training Acc: 0.82470, Validation Acc: 0.75000\n",
            "Epoch: 174, Training Loss*: 9.58326, Validation Loss*: 14.95652, \n",
            "Training Acc: 0.82927, Validation Acc: 0.75000\n",
            "Epoch: 175, Training Loss*: 9.51029, Validation Loss*: 14.95857, \n",
            "Training Acc: 0.83232, Validation Acc: 0.75000\n",
            "Epoch: 176, Training Loss*: 9.44129, Validation Loss*: 14.93642, \n",
            "Training Acc: 0.82622, Validation Acc: 0.75000\n",
            "Epoch: 177, Training Loss*: 9.45227, Validation Loss*: 14.93555, \n",
            "Training Acc: 0.82012, Validation Acc: 0.75000\n",
            "Epoch: 178, Training Loss*: 9.38368, Validation Loss*: 14.99060, \n",
            "Training Acc: 0.82317, Validation Acc: 0.75000\n",
            "Epoch: 179, Training Loss*: 9.24004, Validation Loss*: 14.97865, \n",
            "Training Acc: 0.83079, Validation Acc: 0.75000\n",
            "Epoch: 180, Training Loss*: 9.35173, Validation Loss*: 14.94093, \n",
            "Training Acc: 0.84451, Validation Acc: 0.75000\n",
            "Epoch: 181, Training Loss*: 9.42587, Validation Loss*: 14.92440, \n",
            "Training Acc: 0.82622, Validation Acc: 0.75000\n",
            "Epoch: 182, Training Loss*: 9.11760, Validation Loss*: 14.96410, \n",
            "Training Acc: 0.82470, Validation Acc: 0.75610\n",
            "Epoch: 183, Training Loss*: 9.22235, Validation Loss*: 15.02931, \n",
            "Training Acc: 0.83079, Validation Acc: 0.75610\n",
            "Epoch: 184, Training Loss*: 9.24107, Validation Loss*: 14.99460, \n",
            "Training Acc: 0.82927, Validation Acc: 0.75000\n",
            "Epoch: 185, Training Loss*: 9.10898, Validation Loss*: 14.95784, \n",
            "Training Acc: 0.81860, Validation Acc: 0.75000\n",
            "Epoch: 186, Training Loss*: 9.18451, Validation Loss*: 14.92991, \n",
            "Training Acc: 0.82012, Validation Acc: 0.75000\n",
            "Epoch: 187, Training Loss*: 9.14358, Validation Loss*: 14.95959, \n",
            "Training Acc: 0.83537, Validation Acc: 0.75000\n",
            "Epoch: 188, Training Loss*: 9.06106, Validation Loss*: 14.95509, \n",
            "Training Acc: 0.82012, Validation Acc: 0.75000\n",
            "Epoch: 189, Training Loss*: 9.05347, Validation Loss*: 14.99152, \n",
            "Training Acc: 0.82927, Validation Acc: 0.75000\n",
            "Epoch: 190, Training Loss*: 9.08139, Validation Loss*: 14.98288, \n",
            "Training Acc: 0.83384, Validation Acc: 0.74390\n",
            "Epoch: 191, Training Loss*: 9.30763, Validation Loss*: 15.01667, \n",
            "Training Acc: 0.82317, Validation Acc: 0.74390\n",
            "Epoch: 192, Training Loss*: 9.04327, Validation Loss*: 15.05477, \n",
            "Training Acc: 0.83384, Validation Acc: 0.74390\n",
            "Epoch: 193, Training Loss*: 8.99119, Validation Loss*: 15.06965, \n",
            "Training Acc: 0.83232, Validation Acc: 0.74390\n",
            "Epoch: 194, Training Loss*: 8.85603, Validation Loss*: 15.07373, \n",
            "Training Acc: 0.83232, Validation Acc: 0.74390\n",
            "Epoch: 195, Training Loss*: 9.00562, Validation Loss*: 15.00172, \n",
            "Training Acc: 0.82165, Validation Acc: 0.74390\n",
            "Epoch: 196, Training Loss*: 8.84391, Validation Loss*: 14.97436, \n",
            "Training Acc: 0.83079, Validation Acc: 0.74390\n",
            "Epoch: 197, Training Loss*: 8.78463, Validation Loss*: 15.04405, \n",
            "Training Acc: 0.83384, Validation Acc: 0.74390\n",
            "Epoch: 198, Training Loss*: 8.80486, Validation Loss*: 15.05881, \n",
            "Training Acc: 0.83689, Validation Acc: 0.74390\n",
            "Epoch: 199, Training Loss*: 8.83322, Validation Loss*: 15.05828, \n",
            "Training Acc: 0.82165, Validation Acc: 0.74390\n",
            "Epoch: 200, Training Loss*: 8.64532, Validation Loss*: 15.05830, \n",
            "Training Acc: 0.83537, Validation Acc: 0.74390\n",
            "Epoch: 201, Training Loss*: 8.75147, Validation Loss*: 15.01368, \n",
            "Training Acc: 0.83537, Validation Acc: 0.74390\n",
            "Epoch: 202, Training Loss*: 8.78174, Validation Loss*: 15.02514, \n",
            "Training Acc: 0.82470, Validation Acc: 0.74390\n",
            "Epoch: 203, Training Loss*: 8.66525, Validation Loss*: 15.04530, \n",
            "Training Acc: 0.83384, Validation Acc: 0.75000\n",
            "Epoch: 204, Training Loss*: 8.66427, Validation Loss*: 15.05633, \n",
            "Training Acc: 0.83537, Validation Acc: 0.75000\n",
            "Epoch: 205, Training Loss*: 8.64879, Validation Loss*: 15.07529, \n",
            "Training Acc: 0.83384, Validation Acc: 0.75000\n",
            "Epoch: 206, Training Loss*: 8.53651, Validation Loss*: 15.20677, \n",
            "Training Acc: 0.83537, Validation Acc: 0.75000\n",
            "Epoch: 207, Training Loss*: 8.62801, Validation Loss*: 15.27172, \n",
            "Training Acc: 0.82165, Validation Acc: 0.75610\n",
            "Epoch: 208, Training Loss*: 8.61607, Validation Loss*: 15.20565, \n",
            "Training Acc: 0.83689, Validation Acc: 0.75000\n",
            "Epoch: 209, Training Loss*: 8.55780, Validation Loss*: 15.17760, \n",
            "Training Acc: 0.83079, Validation Acc: 0.75000\n",
            "Epoch: 210, Training Loss*: 8.38040, Validation Loss*: 15.24050, \n",
            "Training Acc: 0.83841, Validation Acc: 0.75610\n",
            "Epoch: 211, Training Loss*: 8.47915, Validation Loss*: 15.30312, \n",
            "Training Acc: 0.83537, Validation Acc: 0.75610\n",
            "Epoch: 212, Training Loss*: 8.52803, Validation Loss*: 15.26114, \n",
            "Training Acc: 0.83689, Validation Acc: 0.75610\n",
            "Epoch: 213, Training Loss*: 8.40636, Validation Loss*: 15.24711, \n",
            "Training Acc: 0.83994, Validation Acc: 0.75610\n",
            "Epoch: 214, Training Loss*: 8.36308, Validation Loss*: 15.22835, \n",
            "Training Acc: 0.84146, Validation Acc: 0.75610\n",
            "Epoch: 215, Training Loss*: 8.26486, Validation Loss*: 15.31716, \n",
            "Training Acc: 0.84756, Validation Acc: 0.75610\n",
            "Epoch: 216, Training Loss*: 8.35626, Validation Loss*: 15.33083, \n",
            "Training Acc: 0.83232, Validation Acc: 0.75610\n",
            "Epoch: 217, Training Loss*: 8.30710, Validation Loss*: 15.26674, \n",
            "Training Acc: 0.84299, Validation Acc: 0.75610\n",
            "Epoch: 218, Training Loss*: 8.32951, Validation Loss*: 15.26158, \n",
            "Training Acc: 0.82317, Validation Acc: 0.76220\n",
            "Epoch: 219, Training Loss*: 8.22168, Validation Loss*: 15.21145, \n",
            "Training Acc: 0.83384, Validation Acc: 0.76220\n",
            "Epoch: 220, Training Loss*: 8.18524, Validation Loss*: 15.28123, \n",
            "Training Acc: 0.84604, Validation Acc: 0.76220\n",
            "Epoch: 221, Training Loss*: 8.12719, Validation Loss*: 15.39659, \n",
            "Training Acc: 0.83994, Validation Acc: 0.76220\n",
            "Epoch: 222, Training Loss*: 8.16204, Validation Loss*: 15.37274, \n",
            "Training Acc: 0.84756, Validation Acc: 0.76220\n",
            "Epoch: 223, Training Loss*: 7.99319, Validation Loss*: 15.26355, \n",
            "Training Acc: 0.83994, Validation Acc: 0.76220\n",
            "Epoch: 224, Training Loss*: 8.13675, Validation Loss*: 15.31349, \n",
            "Training Acc: 0.84604, Validation Acc: 0.76220\n",
            "Epoch: 225, Training Loss*: 8.09735, Validation Loss*: 15.39550, \n",
            "Training Acc: 0.84146, Validation Acc: 0.76220\n",
            "Epoch: 226, Training Loss*: 8.17194, Validation Loss*: 15.33128, \n",
            "Training Acc: 0.83689, Validation Acc: 0.76220\n",
            "Epoch: 227, Training Loss*: 7.99130, Validation Loss*: 15.23872, \n",
            "Training Acc: 0.84451, Validation Acc: 0.76220\n",
            "Epoch: 228, Training Loss*: 8.06261, Validation Loss*: 15.18301, \n",
            "Training Acc: 0.83232, Validation Acc: 0.76220\n",
            "Epoch: 229, Training Loss*: 7.96759, Validation Loss*: 15.21829, \n",
            "Training Acc: 0.85366, Validation Acc: 0.76220\n",
            "Epoch: 230, Training Loss*: 8.02180, Validation Loss*: 15.37300, \n",
            "Training Acc: 0.83689, Validation Acc: 0.76220\n",
            "Epoch: 231, Training Loss*: 8.02787, Validation Loss*: 15.44532, \n",
            "Training Acc: 0.84604, Validation Acc: 0.76220\n",
            "Epoch: 232, Training Loss*: 8.03110, Validation Loss*: 15.34627, \n",
            "Training Acc: 0.83841, Validation Acc: 0.76220\n",
            "Epoch: 233, Training Loss*: 7.93241, Validation Loss*: 15.29057, \n",
            "Training Acc: 0.85518, Validation Acc: 0.76220\n",
            "Epoch: 234, Training Loss*: 7.84384, Validation Loss*: 15.37487, \n",
            "Training Acc: 0.85213, Validation Acc: 0.76220\n",
            "Epoch: 235, Training Loss*: 7.93027, Validation Loss*: 15.37200, \n",
            "Training Acc: 0.84604, Validation Acc: 0.76829\n",
            "Epoch: 236, Training Loss*: 7.84384, Validation Loss*: 15.38060, \n",
            "Training Acc: 0.85366, Validation Acc: 0.76829\n",
            "Epoch: 237, Training Loss*: 7.92195, Validation Loss*: 15.37922, \n",
            "Training Acc: 0.85061, Validation Acc: 0.76829\n",
            "Epoch: 238, Training Loss*: 7.62670, Validation Loss*: 15.37884, \n",
            "Training Acc: 0.84299, Validation Acc: 0.76829\n",
            "Epoch: 239, Training Loss*: 7.69762, Validation Loss*: 15.55316, \n",
            "Training Acc: 0.85061, Validation Acc: 0.77439\n",
            "Epoch: 240, Training Loss*: 7.84776, Validation Loss*: 15.57525, \n",
            "Training Acc: 0.84146, Validation Acc: 0.77439\n",
            "Epoch: 241, Training Loss*: 7.67234, Validation Loss*: 15.50069, \n",
            "Training Acc: 0.84451, Validation Acc: 0.76829\n",
            "Epoch: 242, Training Loss*: 7.69152, Validation Loss*: 15.51449, \n",
            "Training Acc: 0.86280, Validation Acc: 0.76829\n",
            "Epoch: 243, Training Loss*: 7.79714, Validation Loss*: 15.49957, \n",
            "Training Acc: 0.84299, Validation Acc: 0.76829\n",
            "Epoch: 244, Training Loss*: 7.60889, Validation Loss*: 15.57815, \n",
            "Training Acc: 0.85671, Validation Acc: 0.77439\n",
            "Epoch: 245, Training Loss*: 7.54795, Validation Loss*: 15.59994, \n",
            "Training Acc: 0.84299, Validation Acc: 0.77439\n",
            "Epoch: 246, Training Loss*: 7.42254, Validation Loss*: 15.66630, \n",
            "Training Acc: 0.85976, Validation Acc: 0.77439\n",
            "Epoch: 247, Training Loss*: 7.75783, Validation Loss*: 15.66515, \n",
            "Training Acc: 0.84146, Validation Acc: 0.77439\n",
            "Epoch: 248, Training Loss*: 7.53132, Validation Loss*: 15.57936, \n",
            "Training Acc: 0.83689, Validation Acc: 0.77439\n",
            "Epoch: 249, Training Loss*: 7.39283, Validation Loss*: 15.58606, \n",
            "Training Acc: 0.85061, Validation Acc: 0.77439\n",
            "Epoch: 250, Training Loss*: 7.43050, Validation Loss*: 15.65770, \n",
            "Training Acc: 0.85671, Validation Acc: 0.77439\n",
            "Epoch: 251, Training Loss*: 7.18177, Validation Loss*: 15.72120, \n",
            "Training Acc: 0.86433, Validation Acc: 0.77439\n",
            "Epoch: 252, Training Loss*: 7.50671, Validation Loss*: 15.82547, \n",
            "Training Acc: 0.85518, Validation Acc: 0.77439\n",
            "Epoch: 253, Training Loss*: 7.22920, Validation Loss*: 15.91190, \n",
            "Training Acc: 0.85823, Validation Acc: 0.77439\n",
            "Epoch: 254, Training Loss*: 7.36771, Validation Loss*: 15.82934, \n",
            "Training Acc: 0.85518, Validation Acc: 0.77439\n",
            "Epoch: 255, Training Loss*: 7.41923, Validation Loss*: 15.90251, \n",
            "Training Acc: 0.84756, Validation Acc: 0.77439\n",
            "Epoch: 256, Training Loss*: 7.25385, Validation Loss*: 15.89685, \n",
            "Training Acc: 0.87043, Validation Acc: 0.77439\n",
            "Epoch: 257, Training Loss*: 7.24328, Validation Loss*: 15.83596, \n",
            "Training Acc: 0.84299, Validation Acc: 0.77439\n",
            "Epoch: 258, Training Loss*: 7.25112, Validation Loss*: 15.73967, \n",
            "Training Acc: 0.86433, Validation Acc: 0.78049\n",
            "Epoch: 259, Training Loss*: 7.17691, Validation Loss*: 15.72605, \n",
            "Training Acc: 0.85518, Validation Acc: 0.78049\n",
            "Epoch: 260, Training Loss*: 7.31685, Validation Loss*: 15.76489, \n",
            "Training Acc: 0.85518, Validation Acc: 0.78049\n",
            "Epoch: 261, Training Loss*: 7.12353, Validation Loss*: 15.87532, \n",
            "Training Acc: 0.86128, Validation Acc: 0.78049\n",
            "Epoch: 262, Training Loss*: 7.09072, Validation Loss*: 15.91394, \n",
            "Training Acc: 0.86280, Validation Acc: 0.78659\n",
            "Epoch: 263, Training Loss*: 6.91371, Validation Loss*: 15.90532, \n",
            "Training Acc: 0.87043, Validation Acc: 0.78659\n",
            "Epoch: 264, Training Loss*: 7.09589, Validation Loss*: 15.93289, \n",
            "Training Acc: 0.85213, Validation Acc: 0.78659\n",
            "Epoch: 265, Training Loss*: 7.04980, Validation Loss*: 15.87727, \n",
            "Training Acc: 0.85366, Validation Acc: 0.78659\n",
            "Epoch: 266, Training Loss*: 7.10870, Validation Loss*: 15.88988, \n",
            "Training Acc: 0.85366, Validation Acc: 0.78659\n",
            "Epoch: 267, Training Loss*: 7.03049, Validation Loss*: 15.85635, \n",
            "Training Acc: 0.85976, Validation Acc: 0.78049\n",
            "Epoch: 268, Training Loss*: 7.15035, Validation Loss*: 15.77902, \n",
            "Training Acc: 0.86738, Validation Acc: 0.78049\n",
            "Epoch: 269, Training Loss*: 6.99725, Validation Loss*: 15.91918, \n",
            "Training Acc: 0.87043, Validation Acc: 0.78049\n",
            "Epoch: 270, Training Loss*: 6.90248, Validation Loss*: 16.08329, \n",
            "Training Acc: 0.87043, Validation Acc: 0.78659\n",
            "Epoch: 271, Training Loss*: 6.90236, Validation Loss*: 16.19317, \n",
            "Training Acc: 0.86433, Validation Acc: 0.78049\n",
            "Epoch: 272, Training Loss*: 6.90644, Validation Loss*: 16.18695, \n",
            "Training Acc: 0.85976, Validation Acc: 0.78049\n",
            "Epoch: 273, Training Loss*: 7.03440, Validation Loss*: 16.07741, \n",
            "Training Acc: 0.87043, Validation Acc: 0.77439\n",
            "Epoch: 274, Training Loss*: 6.95332, Validation Loss*: 15.94375, \n",
            "Training Acc: 0.85061, Validation Acc: 0.76829\n",
            "Epoch: 275, Training Loss*: 6.81359, Validation Loss*: 15.99000, \n",
            "Training Acc: 0.86280, Validation Acc: 0.76829\n",
            "Epoch: 276, Training Loss*: 6.85243, Validation Loss*: 16.11297, \n",
            "Training Acc: 0.86738, Validation Acc: 0.77439\n",
            "Epoch: 277, Training Loss*: 6.75870, Validation Loss*: 16.23103, \n",
            "Training Acc: 0.87805, Validation Acc: 0.77439\n",
            "Epoch: 278, Training Loss*: 6.83857, Validation Loss*: 16.35032, \n",
            "Training Acc: 0.87652, Validation Acc: 0.78049\n",
            "Epoch: 279, Training Loss*: 6.60245, Validation Loss*: 16.43557, \n",
            "Training Acc: 0.87195, Validation Acc: 0.77439\n",
            "Epoch: 280, Training Loss*: 6.84252, Validation Loss*: 16.33355, \n",
            "Training Acc: 0.87195, Validation Acc: 0.76829\n",
            "Epoch: 281, Training Loss*: 6.87770, Validation Loss*: 16.28685, \n",
            "Training Acc: 0.86433, Validation Acc: 0.76829\n",
            "Epoch: 282, Training Loss*: 6.67056, Validation Loss*: 16.29769, \n",
            "Training Acc: 0.88110, Validation Acc: 0.76829\n",
            "Epoch: 283, Training Loss*: 6.68627, Validation Loss*: 16.43374, \n",
            "Training Acc: 0.86128, Validation Acc: 0.76829\n",
            "Epoch: 284, Training Loss*: 6.57718, Validation Loss*: 16.42974, \n",
            "Training Acc: 0.86433, Validation Acc: 0.76829\n",
            "Epoch: 285, Training Loss*: 6.57897, Validation Loss*: 16.37740, \n",
            "Training Acc: 0.87652, Validation Acc: 0.76829\n",
            "Epoch: 286, Training Loss*: 6.56036, Validation Loss*: 16.32989, \n",
            "Training Acc: 0.85976, Validation Acc: 0.76829\n",
            "Epoch: 287, Training Loss*: 6.71686, Validation Loss*: 16.39400, \n",
            "Training Acc: 0.87652, Validation Acc: 0.76829\n",
            "Epoch: 288, Training Loss*: 6.69026, Validation Loss*: 16.49784, \n",
            "Training Acc: 0.86738, Validation Acc: 0.76829\n",
            "Epoch: 289, Training Loss*: 6.55314, Validation Loss*: 16.65146, \n",
            "Training Acc: 0.86585, Validation Acc: 0.76829\n",
            "Epoch: 290, Training Loss*: 6.57605, Validation Loss*: 16.63845, \n",
            "Training Acc: 0.87195, Validation Acc: 0.76829\n",
            "Epoch: 291, Training Loss*: 6.59999, Validation Loss*: 16.47142, \n",
            "Training Acc: 0.86585, Validation Acc: 0.76829\n",
            "Epoch: 292, Training Loss*: 6.51699, Validation Loss*: 16.47818, \n",
            "Training Acc: 0.86890, Validation Acc: 0.76829\n",
            "Epoch: 293, Training Loss*: 6.56227, Validation Loss*: 16.46752, \n",
            "Training Acc: 0.87195, Validation Acc: 0.76220\n",
            "Epoch: 294, Training Loss*: 6.43487, Validation Loss*: 16.62656, \n",
            "Training Acc: 0.87652, Validation Acc: 0.76220\n",
            "Epoch: 295, Training Loss*: 6.42126, Validation Loss*: 16.66500, \n",
            "Training Acc: 0.87195, Validation Acc: 0.76220\n",
            "Epoch: 296, Training Loss*: 6.54736, Validation Loss*: 16.46007, \n",
            "Training Acc: 0.86585, Validation Acc: 0.76220\n",
            "Epoch: 297, Training Loss*: 6.34303, Validation Loss*: 16.55383, \n",
            "Training Acc: 0.88567, Validation Acc: 0.76220\n",
            "Epoch: 298, Training Loss*: 6.37368, Validation Loss*: 16.56034, \n",
            "Training Acc: 0.87348, Validation Acc: 0.76220\n",
            "Epoch: 299, Training Loss*: 6.24253, Validation Loss*: 16.52315, \n",
            "Training Acc: 0.87195, Validation Acc: 0.76220\n",
            "Epoch: 300, Training Loss*: 6.40868, Validation Loss*: 16.41741, \n",
            "Training Acc: 0.86738, Validation Acc: 0.76220\n",
            "\n"
          ],
          "name": "stdout"
        }
      ]
    },
    {
      "cell_type": "code",
      "metadata": {
        "id": "_21UKVbkUqwo",
        "colab_type": "code",
        "outputId": "9283ac6d-48f6-49f9-c4f7-d5c4d6431cdf",
        "colab": {
          "base_uri": "https://localhost:8080/",
          "height": 578
        }
      },
      "source": [
        "plt.figure(figsize=(16, 9))\n",
        "finished_epochs = len(train_losses)\n",
        "plt.plot(np.arange(finished_epochs), train_losses, label='Train loss')\n",
        "plt.plot(np.arange(finished_epochs), val_losses, label='Validation loss')\n",
        "plt.xlabel('epoch')\n",
        "plt.ylabel('cross entropy loss')\n",
        "plt.title('Кривая обучения')\n",
        "plt.legend()\n",
        "plt.show()"
      ],
      "execution_count": 41,
      "outputs": [
        {
          "output_type": "display_data",
          "data": {
            "image/png": "[encoded data removed]",
            "text/plain": [
              "<Figure size 1152x648 with 1 Axes>"
            ]
          },
          "metadata": {
            "tags": [],
            "needs_background": "light"
          }
        }
      ]
    },
    {
      "cell_type": "code",
      "metadata": {
        "id": "t-DLCY8FUq7n",
        "colab_type": "code",
        "outputId": "95288aaa-e28c-470c-8f47-062bf629890d",
        "colab": {
          "base_uri": "https://localhost:8080/",
          "height": 578
        }
      },
      "source": [
        "plt.figure(figsize=(16, 9))\n",
        "finished_epochs = len(train_losses)\n",
        "plt.plot(np.arange(finished_epochs), train_acc, label='Train accuracy')\n",
        "plt.plot(np.arange(finished_epochs), val_acc, label='Validation accuracy')\n",
        "plt.xlabel('epoch')\n",
        "plt.ylabel('accuracy')\n",
        "plt.title('Кривая обучения')\n",
        "plt.legend()\n",
        "plt.show()"
      ],
      "execution_count": 42,
      "outputs": [
        {
          "output_type": "display_data",
          "data": {
            "image/png": "[encoded data removed]",
            "text/plain": [
              "<Figure size 1152x648 with 1 Axes>"
            ]
          },
          "metadata": {
            "tags": [],
            "needs_background": "light"
          }
        }
      ]
    },
    {
      "cell_type": "markdown",
      "metadata": {
        "id": "5lsDS4HCVx1G",
        "colab_type": "text"
      },
      "source": [
        "### Измерения качества модели"
      ]
    },
    {
      "cell_type": "code",
      "metadata": {
        "id": "tqEFuQspUq5E",
        "colab_type": "code",
        "outputId": "672b5c44-5070-417f-fbce-9911832fb326",
        "colab": {
          "base_uri": "https://localhost:8080/",
          "height": 34
        }
      },
      "source": [
        "model.load_state_dict(torch.load(path_save))"
      ],
      "execution_count": 43,
      "outputs": [
        {
          "output_type": "execute_result",
          "data": {
            "text/plain": [
              "<All keys matched successfully>"
            ]
          },
          "metadata": {
            "tags": []
          },
          "execution_count": 43
        }
      ]
    },
    {
      "cell_type": "code",
      "metadata": {
        "id": "1RD-siRzUq2g",
        "colab_type": "code",
        "colab": {}
      },
      "source": [
        "model.eval()\n",
        "\n",
        "all_preds = []\n",
        "all_answers = []\n",
        "with torch.no_grad():\n",
        "    for batch in test_iter:\n",
        "\n",
        "        texts = batch.text.to(device=device)\n",
        "        aspects = batch.aspect.to(device=device)\n",
        "        sentiments = batch.sentiment.to(device=device)\n",
        "\n",
        "        preds_scores, _ = model(texts, aspects)\n",
        "        preds = torch.max(preds_scores, dim=-1)[1]\n",
        "        all_preds += preds.tolist()\n",
        "        all_answers += sentiments.tolist()\n",
        "\n",
        "all_preds = np.array(all_preds)\n",
        "all_answers = np.array(all_answers)"
      ],
      "execution_count": 0,
      "outputs": []
    },
    {
      "cell_type": "code",
      "metadata": {
        "id": "aMvUWRUBV7pj",
        "colab_type": "code",
        "outputId": "d92b6e4c-5410-47bb-faa5-982a7bbcc3ae",
        "colab": {
          "base_uri": "https://localhost:8080/",
          "height": 34
        }
      },
      "source": [
        "accuracy = accuracy_score(all_preds, all_answers)\n",
        "\n",
        "print(f'Accuracy: {accuracy:.5f}')"
      ],
      "execution_count": 45,
      "outputs": [
        {
          "output_type": "stream",
          "text": [
            "Accuracy: 0.71915\n"
          ],
          "name": "stdout"
        }
      ]
    },
    {
      "cell_type": "markdown",
      "metadata": {
        "id": "f7f7XduLA3t4",
        "colab_type": "text"
      },
      "source": [
        "Тем не менее, на соревновании измерялось качество при помощи F-меры. Попробуем повторить процедуру, чтобы можно было сравнить с результатами участников."
      ]
    },
    {
      "cell_type": "code",
      "metadata": {
        "id": "N3o2unGzAdZI",
        "colab_type": "code",
        "colab": {}
      },
      "source": [
        "all_preds = {key: [] for key in ASPECT.vocab.itos}\n",
        "all_answers = {key: [] for key in ASPECT.vocab.itos}\n",
        "\n",
        "with torch.no_grad():\n",
        "    # batch_size = 1\n",
        "    for batch in test_iter:\n",
        "        texts = batch.text.to(device=device)\n",
        "        aspects = batch.aspect.to(device=device)\n",
        "        aspect = ASPECT.vocab.itos[aspects[0].item()]\n",
        "        sentiments = batch.sentiment.to(device=device)\n",
        "\n",
        "        preds_scores, _ = model(texts, aspects)\n",
        "        preds = torch.max(preds_scores, dim=-1)[1]\n",
        "        all_preds[aspect].append(preds.tolist()[0])\n",
        "        all_answers[aspect].append(sentiments.tolist()[0])"
      ],
      "execution_count": 0,
      "outputs": []
    },
    {
      "cell_type": "code",
      "metadata": {
        "id": "6kBq3XMhRjxV",
        "colab_type": "code",
        "colab": {
          "base_uri": "https://localhost:8080/",
          "height": 52
        },
        "outputId": "32d01859-29cb-44c4-b95d-1ac1a97c02dd"
      },
      "source": [
        "SENTIMENT.vocab.stoi"
      ],
      "execution_count": 47,
      "outputs": [
        {
          "output_type": "execute_result",
          "data": {
            "text/plain": [
              "defaultdict(<function torchtext.vocab._default_unk_index>,\n",
              "            {'both': 1, 'negative': 2, 'positive': 0})"
            ]
          },
          "metadata": {
            "tags": []
          },
          "execution_count": 47
        }
      ]
    },
    {
      "cell_type": "code",
      "metadata": {
        "id": "z8SCAMN9IZl1",
        "colab_type": "code",
        "colab": {
          "base_uri": "https://localhost:8080/",
          "height": 121
        },
        "outputId": "b219fe0e-b84b-4a08-ef91-33bc189e9794"
      },
      "source": [
        "avgs = []\n",
        "for aspect in ASPECT.vocab.itos:\n",
        "    preds = all_preds[aspect]\n",
        "    answers = all_answers[aspect]\n",
        "    p,r,f,_ = precision_recall_fscore_support(answers, preds, average='macro')\n",
        "    print(f'{aspect}: precision: {p:.3f}, recall: {r:.3f}, F1: {f:.3f}')\n",
        "    avgs.append(f)\n",
        "print(f'Average F1: {sum(avgs)/len(avgs):.3f}')"
      ],
      "execution_count": 48,
      "outputs": [
        {
          "output_type": "stream",
          "text": [
            "Whole: precision: 0.642, recall: 0.506, F1: 0.541\n",
            "Food: precision: 0.510, recall: 0.433, F1: 0.447\n",
            "Service: precision: 0.541, recall: 0.518, F1: 0.522\n",
            "Interior: precision: 0.452, recall: 0.358, F1: 0.349\n",
            "Price: precision: 0.435, recall: 0.386, F1: 0.370\n",
            "Average F1: 0.446\n"
          ],
          "name": "stdout"
        }
      ]
    },
    {
      "cell_type": "markdown",
      "metadata": {
        "id": "ztnW-aFNSB58",
        "colab_type": "text"
      },
      "source": [
        "Видим совсем не впечатляющие цифры. Лучший результат на соревновании был около $0.458$.\n",
        "\n",
        "Как можно улучшить результаты:\n",
        "1. Контролировать не лосс на валидации, а именно Average F1 и по нему делать early stopping.\n",
        "2. При разделении на тест и валидацию делить по группам. То есть делать так, чтобы все элементы одного отзыва попадали или в обучение или в валидацию.\n",
        "2. Поэспериментировать с моделью (попробовать FasText)."
      ]
    },
    {
      "cell_type": "markdown",
      "metadata": {
        "id": "2xiWnOJwDPmK",
        "colab_type": "text"
      },
      "source": [
        "## Автомобили\n",
        "\n",
        "Построим модели для отзывов об автомобилях."
      ]
    },
    {
      "cell_type": "code",
      "metadata": {
        "id": "VnhgExCJJL33",
        "colab_type": "code",
        "colab": {}
      },
      "source": [
        ""
      ],
      "execution_count": 0,
      "outputs": []
    },
    {
      "cell_type": "code",
      "metadata": {
        "id": "d27E4hO3JLzt",
        "colab_type": "code",
        "colab": {}
      },
      "source": [
        ""
      ],
      "execution_count": 0,
      "outputs": []
    },
    {
      "cell_type": "code",
      "metadata": {
        "id": "HylbiQ7xJLw9",
        "colab_type": "code",
        "colab": {}
      },
      "source": [
        ""
      ],
      "execution_count": 0,
      "outputs": []
    },
    {
      "cell_type": "markdown",
      "metadata": {
        "id": "loI8yuPh9WZ-",
        "colab_type": "text"
      },
      "source": [
        "### Выводы\n",
        "\n",
        "1. \n",
        "2. \n",
        "3. "
      ]
    }
  ]
}