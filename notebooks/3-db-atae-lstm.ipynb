{
 "cells": [
  {
   "cell_type": "markdown",
   "metadata": {
    "colab_type": "text",
    "id": "4RoA7uzc6-Jj"
   },
   "source": [
    "# Attention-based LSTM with Aspect (ATAE-LSTM)\n",
    "\n",
    "В этом ноутбуке мы исследуем применение модели Attention-based LSTM with Aspect (ATAE-LSTM) для решения задачи аспектного анализа тональности. В качестве основы мы берем [статью](https://www.aclweb.org/anthology/D16-1058.pdf)."
   ]
  },
  {
   "cell_type": "code",
   "execution_count": 0,
   "metadata": {
    "colab": {
     "base_uri": "https://localhost:8080/",
     "height": 72
    },
    "colab_type": "code",
    "id": "shE3aepx6kg7",
    "outputId": "6aec7427-9cf1-4a91-8db1-bb1a8d0ae355"
   },
   "outputs": [
    {
     "name": "stderr",
     "output_type": "stream",
     "text": [
      "/usr/local/lib/python3.6/dist-packages/statsmodels/tools/_testing.py:19: FutureWarning: pandas.util.testing is deprecated. Use the functions in the public API at pandas.testing instead.\n",
      "  import pandas.util.testing as tm\n"
     ]
    }
   ],
   "source": [
    "import os\n",
    "import zipfile\n",
    "import random\n",
    "\n",
    "import pandas as pd\n",
    "import numpy as np\n",
    "import torch\n",
    "import gensim\n",
    "import matplotlib.pyplot as plt\n",
    "import seaborn as sns\n",
    "import bs4\n",
    "\n",
    "from tqdm.notebook import tqdm\n",
    "from sklearn.metrics import accuracy_score\n",
    "\n",
    "import torch.nn as nn\n",
    "import torch.nn.functional as F\n",
    "import torch.optim as optim\n",
    "import torchtext\n",
    "from torch.utils.data import Dataset as TorchDataset\n",
    "from torch.utils.data import DataLoader\n",
    "\n",
    "from google.colab import drive\n",
    "\n",
    "USE_GOOGLE_DRIVE = True\n",
    "\n",
    "sns.set(font_scale=1.2)"
   ]
  },
  {
   "cell_type": "markdown",
   "metadata": {
    "colab_type": "text",
    "id": "s6K05cSD71kI"
   },
   "source": [
    "Примонтируем наш гугл-диск, если мы решили его использовать."
   ]
  },
  {
   "cell_type": "code",
   "execution_count": 0,
   "metadata": {
    "colab": {
     "base_uri": "https://localhost:8080/",
     "height": 124
    },
    "colab_type": "code",
    "id": "1MBzNx9n7wtX",
    "outputId": "faf69f6f-2ba4-4a31-db25-3404a05dad76"
   },
   "outputs": [
    {
     "name": "stdout",
     "output_type": "stream",
     "text": [
      "Go to this URL in a browser: https://accounts.google.com/o/oauth2/auth?client_id=947318989803-6bn6qk8qdgf4n4g3pfee6491hc0brc4i.apps.googleusercontent.com&redirect_uri=urn%3aietf%3awg%3aoauth%3a2.0%3aoob&response_type=code&scope=email%20https%3a%2f%2fwww.googleapis.com%2fauth%2fdocs.test%20https%3a%2f%2fwww.googleapis.com%2fauth%2fdrive%20https%3a%2f%2fwww.googleapis.com%2fauth%2fdrive.photos.readonly%20https%3a%2f%2fwww.googleapis.com%2fauth%2fpeopleapi.readonly\n",
      "\n",
      "Enter your authorization code:\n",
      "··········\n",
      "Mounted at /content/drive\n"
     ]
    }
   ],
   "source": [
    "if USE_GOOGLE_DRIVE:\n",
    "    drive.mount('/content/drive')\n",
    "    PATH_PREFIX = 'drive/My Drive/NLP/dialog-sent'\n",
    "else:\n",
    "    PATH_PREFIX = '..'"
   ]
  },
  {
   "cell_type": "code",
   "execution_count": 0,
   "metadata": {
    "colab": {},
    "colab_type": "code",
    "id": "_ICV0PvCteP8"
   },
   "outputs": [],
   "source": [
    "DATA_PREFIX = os.path.join(PATH_PREFIX, 'data')\n",
    "MODEL_PREFIX = os.path.join(PATH_PREFIX, 'models')"
   ]
  },
  {
   "cell_type": "markdown",
   "metadata": {
    "colab_type": "text",
    "id": "d1rEg_dzCv2Z"
   },
   "source": [
    "Зададим девайс для обучения."
   ]
  },
  {
   "cell_type": "code",
   "execution_count": 0,
   "metadata": {
    "colab": {
     "base_uri": "https://localhost:8080/",
     "height": 34
    },
    "colab_type": "code",
    "id": "ssNUbPpPCvOf",
    "outputId": "0db5117b-2443-46f8-95da-5d8610c1aeef"
   },
   "outputs": [
    {
     "name": "stdout",
     "output_type": "stream",
     "text": [
      "using device: cuda\n"
     ]
    }
   ],
   "source": [
    "USE_GPU = True\n",
    "\n",
    "if USE_GPU and torch.cuda.is_available():\n",
    "    device = torch.device('cuda')\n",
    "else:\n",
    "    device = torch.device('cpu')\n",
    "\n",
    "print('using device:', device)"
   ]
  },
  {
   "cell_type": "markdown",
   "metadata": {
    "colab_type": "text",
    "id": "yHTGiWVXC13E"
   },
   "source": [
    "Проинициализируем везде генераторы случайных чисел."
   ]
  },
  {
   "cell_type": "code",
   "execution_count": 0,
   "metadata": {
    "colab": {},
    "colab_type": "code",
    "id": "gUC3PTVlC1JU"
   },
   "outputs": [],
   "source": [
    "random_seed = 42\n",
    "random_state = random_seed\n",
    "\n",
    "def set_seed_everywhere(seed, cuda):\n",
    "    random.seed(seed)\n",
    "    np.random.seed(seed)\n",
    "    torch.manual_seed(seed)\n",
    "    torch.backends.cudnn.deterministic = True\n",
    "    torch.backends.cudnn.benchmark = False\n",
    "    if cuda:\n",
    "        torch.cuda.manual_seed_all(seed)\n",
    "\n",
    "set_seed_everywhere(random_seed, USE_GPU)"
   ]
  },
  {
   "cell_type": "markdown",
   "metadata": {
    "colab_type": "text",
    "id": "b8UaRLgV9BTu"
   },
   "source": [
    "## Повторение результатов статьи\n",
    "\n",
    "Для того, чтобы применить модель к нашей конкретной задаче для начала надо повторить результаты исследуемой статьи. Будем это делать на примере датасета с [отзывами на рестораны](http://alt.qcri.org/semeval2014/task4/index.php?id=data-and-tools).\n"
   ]
  },
  {
   "cell_type": "markdown",
   "metadata": {
    "colab_type": "text",
    "id": "IFqQNvroDFz0"
   },
   "source": [
    "### Данные\n",
    "\n",
    "Теперь надо разобраться с данными. Мы используем отзывы о рестранах. Согласно аннотации к датасету используются следующие аспекты:\n",
    "\n",
    "* food\n",
    "* price\n",
    "* service\n",
    "* ambience\n",
    "* anecdotes (sentences describing the reviewer’s personal experience or context, but that do not usually provide information on the restaurant quality e.g. “I knew upon visiting\n",
    "NYC that I wanted to try an original deli”)\n",
    "* miscellaneous (sentences that do not belong to the other five categories including sentences that are general recommendations e.g. “Your friends will thank you for introducing them to this gem!”)\n",
    "\n",
    "Эта же аннотация говорит о том, какие существуют тональности:\n",
    "* positive\n",
    "* negative\n",
    "* conflict (both positive and negative sentiment)\n",
    "* neutral (neither positive nor negative sentiment)\n",
    "\n",
    "Помимо этого существует такой объект, как термин аспекта (aspect term) -- это какое-то слово или выражение, которое указывает на то, в каком слове выражается тональность к конкретному аспекту. \n",
    "\n",
    "Существует два вида задач для аспектного анализа тональности:\n",
    "* Aspect-level Classification -- определить тональность для каждого аспекта.\n",
    "* Aspect-Term-level Classification -- определить термины для каждого аспекта, а затем определить их тональность.\n",
    "\n",
    "Наша финальная задача относится к первой категории, а значит нам не нужны данные о терминах аспекта."
   ]
  },
  {
   "cell_type": "markdown",
   "metadata": {
    "colab_type": "text",
    "id": "n9rXoYOGVIEF"
   },
   "source": [
    "Теперь определим поля в датасете для обучения."
   ]
  },
  {
   "cell_type": "code",
   "execution_count": 0,
   "metadata": {
    "colab": {},
    "colab_type": "code",
    "id": "mYemqb_MTrZL"
   },
   "outputs": [],
   "source": [
    "TEXT = torchtext.data.Field(\n",
    "    tokenize='spacy', batch_first=True, init_token='<begin>', \n",
    "    eos_token='<end>', lower=True\n",
    ")\n",
    "ASPECT = torchtext.data.Field(sequential=False, batch_first=True)\n",
    "SENTIMENT = torchtext.data.LabelField(batch_first=True)"
   ]
  },
  {
   "cell_type": "code",
   "execution_count": 0,
   "metadata": {
    "colab": {},
    "colab_type": "code",
    "id": "SMQlJoOGWrQo"
   },
   "outputs": [],
   "source": [
    "fields = [('text', TEXT), ('aspect', ASPECT), ('sentiment', SENTIMENT)]"
   ]
  },
  {
   "cell_type": "code",
   "execution_count": 0,
   "metadata": {
    "colab": {
     "base_uri": "https://localhost:8080/",
     "height": 34
    },
    "colab_type": "code",
    "id": "o5NtLnNiWrUp",
    "outputId": "80134ab8-430d-4004-9125-73c88f216222"
   },
   "outputs": [
    {
     "name": "stdout",
     "output_type": "stream",
     "text": [
      "{'text': ['but', 'the', 'staff', 'was', 'so', 'horrible', 'to', 'us', '.'], 'aspect': 'service', 'sentiment': '3'}\n"
     ]
    }
   ],
   "source": [
    "data_train_path = os.path.join(DATA_PREFIX, 'processed', 'restaurants_train.csv')\n",
    "data_test_path = os.path.join(DATA_PREFIX, 'processed', 'restaurants_test.csv')\n",
    "data_all_path = os.path.join(DATA_PREFIX, 'processed', 'restaurants.csv')\n",
    "\n",
    "train_data_all = torchtext.data.TabularDataset(\n",
    "    path=data_train_path, format = 'csv', fields=fields, skip_header=True\n",
    ")\n",
    "test_data = torchtext.data.TabularDataset(\n",
    "    path=data_test_path, format = 'csv', fields=fields, skip_header=True\n",
    ")\n",
    "data_all = torchtext.data.TabularDataset(\n",
    "    path=data_all_path, format = 'csv', fields=fields, skip_header=True\n",
    ")\n",
    "\n",
    "print(vars(train_data_all.examples[0]))"
   ]
  },
  {
   "cell_type": "markdown",
   "metadata": {
    "colab_type": "text",
    "id": "MRXivWRfZjNF"
   },
   "source": [
    "Разделим данные на обучение и валидацию (для early stopping)."
   ]
  },
  {
   "cell_type": "code",
   "execution_count": 0,
   "metadata": {
    "colab": {},
    "colab_type": "code",
    "id": "MJXx9xmyTrXU"
   },
   "outputs": [],
   "source": [
    "train_data, valid_data = train_data_all.split(\n",
    "    split_ratio=0.8, random_state=random.seed(random_state)\n",
    ")"
   ]
  },
  {
   "cell_type": "markdown",
   "metadata": {
    "colab_type": "text",
    "id": "YW0x0isFY1_w"
   },
   "source": [
    "Построим для нашего датасета словарь. Согласно статье, эмбеддинги слов были проинициализированы при помощи GloVe, а для неизвестных слов в качестве эмбеддингов были взяты случайные векторы из $U(-\\varepsilon, \\varepsilon)$, где $\\varepsilon = 0.01$.\n"
   ]
  },
  {
   "cell_type": "code",
   "execution_count": 0,
   "metadata": {
    "colab": {},
    "colab_type": "code",
    "id": "ZelUdQpEaBJ5"
   },
   "outputs": [],
   "source": [
    "epsilon = 0.01\n",
    "vectors_cache = os.path.join(DATA_PREFIX, 'raw', 'glove')\n",
    "TEXT.build_vocab(data_all, \n",
    "                 vectors='glove.840B.300d', vectors_cache=vectors_cache,\n",
    "                 unk_init=lambda x: torch.nn.init.uniform_(x, -epsilon, epsilon))\n",
    "ASPECT.build_vocab(train_data)\n",
    "SENTIMENT.build_vocab(train_data)"
   ]
  },
  {
   "cell_type": "code",
   "execution_count": 0,
   "metadata": {
    "colab": {
     "base_uri": "https://localhost:8080/",
     "height": 69
    },
    "colab_type": "code",
    "id": "3ayeYQzCaBOU",
    "outputId": "0841351c-9c77-42c5-e4bf-8d84b797500d"
   },
   "outputs": [
    {
     "name": "stdout",
     "output_type": "stream",
     "text": [
      "Size of TEXT vocabulary: 5041\n",
      "Size of ASPECT vocabulary: 6\n",
      "Size of SENTIMENT vocabulary: 3\n"
     ]
    }
   ],
   "source": [
    "print(f'Size of TEXT vocabulary: {len(TEXT.vocab)}')\n",
    "print(f'Size of ASPECT vocabulary: {len(ASPECT.vocab)}')\n",
    "print(f'Size of SENTIMENT vocabulary: {len(SENTIMENT.vocab)}')"
   ]
  },
  {
   "cell_type": "markdown",
   "metadata": {
    "colab_type": "text",
    "id": "PeMUrFNFgSgb"
   },
   "source": [
    "Теперь напишем итератор."
   ]
  },
  {
   "cell_type": "code",
   "execution_count": 0,
   "metadata": {
    "colab": {},
    "colab_type": "code",
    "id": "DUYiqydfgR1A"
   },
   "outputs": [],
   "source": [
    "batch_size = 64\n",
    "\n",
    "train_iter, val_iter, test_iter = torchtext.data.BucketIterator.splits(\n",
    "        (train_data, valid_data, test_data),\n",
    "        batch_sizes=(batch_size, batch_size, batch_size),\n",
    "        sort=True,\n",
    "        sort_key=lambda x: len(x.text),\n",
    "        sort_within_batch=True,\n",
    "        device=device,\n",
    "        repeat=False\n",
    ")"
   ]
  },
  {
   "cell_type": "markdown",
   "metadata": {
    "colab_type": "text",
    "id": "FuqJ_M3Fg6G3"
   },
   "source": [
    "### Модель"
   ]
  },
  {
   "cell_type": "markdown",
   "metadata": {
    "colab_type": "text",
    "id": "SQwytmw86fiJ"
   },
   "source": [
    "Вспомогательные слои."
   ]
  },
  {
   "cell_type": "code",
   "execution_count": 0,
   "metadata": {
    "colab": {},
    "colab_type": "code",
    "id": "IkDzo3k76fJN"
   },
   "outputs": [],
   "source": [
    "class Permute(nn.Module):\n",
    "    def __init__(self, dims):\n",
    "        super(Permute, self).__init__()\n",
    "        self.dims = dims\n",
    "        \n",
    "    def forward(self, x):\n",
    "        x = x.permute(self.dims).contiguous()\n",
    "        return x\n",
    "\n",
    "class Swish(nn.Module):\n",
    "    def __init__(self):\n",
    "        super(Swish, self).__init__()\n",
    "        \n",
    "    def forward(self, x):\n",
    "        return x * torch.sigmoid(x)\n",
    "\n",
    "class Mish(nn.Module):\n",
    "    def __init__(self):\n",
    "        super(Mish, self).__init__()\n",
    "        \n",
    "    def forward(self, x):\n",
    "        return x * torch.tanh(F.softplus(x))"
   ]
  },
  {
   "cell_type": "markdown",
   "metadata": {
    "colab_type": "text",
    "id": "blBavi11CigD"
   },
   "source": [
    "Зададим архитектуру нашей сети."
   ]
  },
  {
   "cell_type": "code",
   "execution_count": 0,
   "metadata": {
    "colab": {},
    "colab_type": "code",
    "id": "MN0rbmwhCh0K"
   },
   "outputs": [],
   "source": [
    "class ATAE_LSTM(nn.Module):\n",
    "\n",
    "    def __init__(\n",
    "        self, num_aspects, embeddings_aspects_dim, hidden_dim, \n",
    "        num_sentiments, \n",
    "        vocab_size=None, embeddings_words_dim=None, embeddings_words_init=None\n",
    "    ):\n",
    "        super(ATAE_LSTM, self).__init__()\n",
    "\n",
    "        train_from_scratch = (vocab_size is not None \n",
    "                              and embedding_words_dim is not None)\n",
    "        use_pretrained = embeddings_words_init is not None\n",
    "        if not(train_from_scratch or use_pretrained):\n",
    "            raise ValueError('You should use pretrained vectors or '\n",
    "                             'set vocab size and embeddings dim')\n",
    "\n",
    "        if train_from_scratch:\n",
    "            self.embeddings_words = nn.Embedding(\n",
    "                vocab_size, embeddings_words_dim\n",
    "            )\n",
    "        else:\n",
    "            self.embeddings_words = nn.Embedding.from_pretrained(\n",
    "                embeddings_words_init\n",
    "            )\n",
    "            vocab_size, embeddings_words_dim = embeddings_words_init.size()\n",
    "\n",
    "        self.embeddings_aspects = nn.Embedding(\n",
    "            num_aspects, embeddings_aspects_dim\n",
    "        )\n",
    "\n",
    "        self.lstm = nn.LSTM(\n",
    "            embeddings_words_dim + embeddings_aspects_dim, hidden_dim,\n",
    "            batch_first=True\n",
    "        )\n",
    "\n",
    "        self.attention = nn.Sequential(\n",
    "            nn.Linear(embeddings_aspects_dim + hidden_dim, \n",
    "                      embeddings_aspects_dim + hidden_dim),\n",
    "            Permute([0, 2, 1]),     \n",
    "            nn.BatchNorm1d(embeddings_aspects_dim + hidden_dim),\n",
    "            Permute([0, 2, 1]),\n",
    "            nn.Dropout(),\n",
    "            Mish(),\n",
    "            nn.Linear(embeddings_aspects_dim + hidden_dim, 1),\n",
    "            nn.Softmax(dim=1),\n",
    "        )\n",
    "\n",
    "        self.sentence_representation = nn.Linear(\n",
    "            hidden_dim + hidden_dim, hidden_dim, bias=False\n",
    "        )\n",
    "        self.drop = nn.Dropout()\n",
    "        self.sentence_representation_nonlinearity = Mish()\n",
    "        self.sentence_representation_to_sentiments = nn.Linear(\n",
    "            hidden_dim, num_sentiments\n",
    "        )\n",
    "\n",
    "        # weights initializatioin\n",
    "        torch.nn.init.xavier_uniform_(self.embeddings_aspects.weight)\n",
    "        torch.nn.init.xavier_uniform_(self.sentence_representation.weight)\n",
    "        torch.nn.init.xavier_uniform_(self.sentence_representation_to_sentiments.weight)\n",
    "\n",
    "        \n",
    "    def forward(self, texts, aspects, hidden=None):\n",
    "        batch_size, seq_len = texts.size()\n",
    "        # shape: [batch_size, seq_len] -> [batch_size, seq_len, embeddings_words_dim]\n",
    "        embeddings_words_out = self.embeddings_words(texts)\n",
    "        # shape: [batch_size] -> [batch_size, seq_len, embedding_aspects_dim]\n",
    "        embeddings_aspects_out = self.embeddings_aspects(aspects)\n",
    "        embeddings_aspects_out = torch.unsqueeze(embeddings_aspects_out, 1)\n",
    "        embeddings_aspects_out = torch.repeat_interleave(\n",
    "            embeddings_aspects_out, seq_len, 1\n",
    "        )\n",
    "        # shape: -> [batch_size, seq_len, embedding_words_dim + embedding_aspects_dim]\n",
    "        embeddings = torch.cat(\n",
    "            [embeddings_words_out, embeddings_aspects_out], dim=-1,\n",
    "        )\n",
    "        # shape: [batch_size, seq_len, embeddings_dim] -> [batch_size, seq_len, hidden_dim]\n",
    "        lstm_output, hidden_state = self.lstm(embeddings, hidden)\n",
    "\n",
    "        attention_input = torch.cat(\n",
    "            [lstm_output, embeddings_aspects_out], dim=-1,\n",
    "        )\n",
    "        # shape: [batch_size, seq_len, hidden_dim + embeddings_aspects_dim] -> [batch_size, seq_len]\n",
    "        attention_weights = self.attention(attention_input)\n",
    "        weighted_lstm_output = lstm_output.permute(0, 2, 1) @ attention_weights\n",
    "        weighted_lstm_output = torch.squeeze(weighted_lstm_output, dim=-1)\n",
    "        sentence_representation = torch.cat([lstm_output[:, -1, :], \n",
    "                                             weighted_lstm_output], dim=-1)\n",
    "        sentence_representation = self.sentence_representation(\n",
    "            sentence_representation\n",
    "        )\n",
    "        sentence_representation = self.drop(sentence_representation)\n",
    "        sentence_representation = self.sentence_representation_nonlinearity(\n",
    "            sentence_representation\n",
    "        )\n",
    "        # shape: [batch_size, hidden_size] -> [batch_size, num_sentiments]\n",
    "        sentiments_scores = self.sentence_representation_to_sentiments(\n",
    "            sentence_representation\n",
    "        )\n",
    "        return sentiments_scores, hidden_state"
   ]
  },
  {
   "cell_type": "markdown",
   "metadata": {
    "colab_type": "text",
    "id": "OTr5tdu6nl4A"
   },
   "source": [
    "Возьмем параметры, как в статье: `embeddings_aspects_dim=300`, `hidden_dim=300`."
   ]
  },
  {
   "cell_type": "code",
   "execution_count": 0,
   "metadata": {
    "colab": {
     "base_uri": "https://localhost:8080/",
     "height": 347
    },
    "colab_type": "code",
    "id": "l_2Wskt-inX_",
    "outputId": "520a7301-4bd1-4e6d-c3bc-b2e5d2109f4c"
   },
   "outputs": [
    {
     "data": {
      "text/plain": [
       "ATAE_LSTM(\n",
       "  (embeddings_words): Embedding(5041, 300)\n",
       "  (embeddings_aspects): Embedding(6, 300)\n",
       "  (lstm): LSTM(600, 300, batch_first=True)\n",
       "  (attention): Sequential(\n",
       "    (0): Linear(in_features=600, out_features=600, bias=True)\n",
       "    (1): Permute()\n",
       "    (2): BatchNorm1d(600, eps=1e-05, momentum=0.1, affine=True, track_running_stats=True)\n",
       "    (3): Permute()\n",
       "    (4): Dropout(p=0.5, inplace=False)\n",
       "    (5): Mish()\n",
       "    (6): Linear(in_features=600, out_features=1, bias=True)\n",
       "    (7): Softmax(dim=1)\n",
       "  )\n",
       "  (sentence_representation): Linear(in_features=600, out_features=300, bias=False)\n",
       "  (drop): Dropout(p=0.5, inplace=False)\n",
       "  (sentence_representation_nonlinearity): Mish()\n",
       "  (sentence_representation_to_sentiments): Linear(in_features=300, out_features=3, bias=True)\n",
       ")"
      ]
     },
     "execution_count": 363,
     "metadata": {
      "tags": []
     },
     "output_type": "execute_result"
    }
   ],
   "source": [
    "num_aspects = len(ASPECT.vocab)\n",
    "embeddings_aspects_dim = 300\n",
    "hidden_dim = 300\n",
    "num_sentiments = len(SENTIMENT.vocab)\n",
    "embeddings_words_init = TEXT.vocab.vectors\n",
    "\n",
    "set_seed_everywhere(random_seed, USE_GPU)\n",
    "model = ATAE_LSTM(\n",
    "    num_aspects, embeddings_aspects_dim, hidden_dim, num_sentiments, \n",
    "    embeddings_words_init=embeddings_words_init\n",
    ")\n",
    "model"
   ]
  },
  {
   "cell_type": "markdown",
   "metadata": {
    "colab_type": "text",
    "id": "-RPJYxF0iR5S"
   },
   "source": [
    "### Тренировочный цикл\n",
    "\n",
    "Здесь мы реализуем тренировочный цикл для нашей модели. По идее нужны momentum, как в статье, равный $0.9$ для Adam установлен автоматически. Здесь же установим и коэффициент l2-регляризации для оптимизитора: $0.001$."
   ]
  },
  {
   "cell_type": "code",
   "execution_count": 0,
   "metadata": {
    "colab": {},
    "colab_type": "code",
    "id": "o0XG5kEsimr2"
   },
   "outputs": [],
   "source": [
    "model = model.to(device=device)\n",
    "learning_rate = 6e-6\n",
    "early_stopping = 1000\n",
    "grad_clipping_value = 1\n",
    "l2_coef = 1e-3\n",
    "epochs = 300\n",
    "\n",
    "opt = optim.Adam(model.parameters(), lr=learning_rate, weight_decay=l2_coef)\n",
    "scheduler = optim.lr_scheduler.StepLR(opt, step_size=20, gamma=1)\n",
    "criterion = nn.CrossEntropyLoss()\n",
    "path_save = os.path.join(MODEL_PREFIX, 'atae_lstm', 'atae_lstm.pt')"
   ]
  },
  {
   "cell_type": "code",
   "execution_count": 0,
   "metadata": {
    "colab": {},
    "colab_type": "code",
    "id": "uhKstL-OoNJV"
   },
   "outputs": [],
   "source": [
    "def train_loop(train_iter, val_iter, train_data, valid_data, \n",
    "               model, opt, scheduler, criterion, epochs, early_stopping):\n",
    "    train_losses = []\n",
    "    val_losses = []\n",
    "    train_acc_values = []\n",
    "    val_acc_values = []\n",
    "    best_val_loss = 10\n",
    "    best_val_acc = 0\n",
    "    not_improves = 0\n",
    "    for epoch in tqdm(range(1, epochs + 1)):\n",
    "        train_loss = 0.0\n",
    "        train_acc = 0\n",
    "        model.train() \n",
    "        for batch in train_iter: \n",
    "\n",
    "            texts = batch.text.to(device=device)\n",
    "            aspects = batch.aspect.to(device=device)\n",
    "            sentiments = batch.sentiment.to(device=device)\n",
    "\n",
    "            opt.zero_grad()\n",
    "            preds, _ = model(texts, aspects)\n",
    "\n",
    "            loss = criterion(preds, sentiments)\n",
    "            loss.backward()\n",
    "            nn.utils.clip_grad_norm_(model.parameters(), grad_clipping_value)\n",
    "            opt.step()\n",
    "            train_loss += loss.item()\n",
    "\n",
    "            pred_sentiments = torch.max(preds, dim=-1)[1]\n",
    "            train_acc += np.sum(\n",
    "                pred_sentiments.cpu().numpy() == sentiments.cpu().numpy()\n",
    "            )\n",
    "\n",
    "        train_loss /= len(train_data)\n",
    "        train_losses.append(train_loss)\n",
    "        train_acc /= len(train_data)\n",
    "        train_acc_values.append(train_acc)\n",
    "\n",
    "        val_loss = 0.0\n",
    "        val_acc = 0\n",
    "        model.eval()\n",
    "        with torch.no_grad():\n",
    "            for batch in val_iter:\n",
    "\n",
    "                texts = batch.text.to(device=device)\n",
    "                aspects = batch.aspect.to(device=device)\n",
    "                sentiments = batch.sentiment.to(device=device)\n",
    "\n",
    "                preds, _ = model(texts, aspects)   \n",
    "                loss = criterion(preds, sentiments)\n",
    "                val_loss += loss.item()\n",
    "\n",
    "                pred_sentiments = torch.max(preds, dim=-1)[1]\n",
    "                val_acc += np.sum(\n",
    "                    pred_sentiments.cpu().numpy() == sentiments.cpu().numpy()\n",
    "                )\n",
    "\n",
    "        val_loss /= len(valid_data)\n",
    "        val_acc /= len(valid_data)\n",
    "        val_losses.append(val_loss)\n",
    "        val_acc_values.append(val_acc)\n",
    "\n",
    "        if val_acc > best_val_acc:\n",
    "            not_improves = 0\n",
    "            best_val_acc = val_acc\n",
    "            torch.save(model.state_dict(), path_save)\n",
    "            print('------SAVED------')\n",
    "        else:\n",
    "            not_improves += 1\n",
    "            if not_improves == early_stopping:\n",
    "                break\n",
    "        \n",
    "        scheduler.step()\n",
    "\n",
    "        print(f'Epoch: {epoch}, '\n",
    "              f'Training Loss*: {1000*train_loss:.5f}, '\n",
    "              f'Validation Loss*: {1000*val_loss:.5f}, \\n'\n",
    "              f'Training Acc: {train_acc:.5f}, '\n",
    "              f'Validation Acc: {val_acc:.5f}')\n",
    "\n",
    "    return train_losses, val_losses, train_acc_values, val_acc_values"
   ]
  },
  {
   "cell_type": "code",
   "execution_count": 0,
   "metadata": {
    "colab": {
     "base_uri": "https://localhost:8080/",
     "height": 1000,
     "referenced_widgets": [
      "3c66d5c1208947e58e881f65310a6ba1",
      "4b85312832cd4747bee8018ee2f44aa6",
      "67dba8b999664abc97488afbfc85e162",
      "d6445651842049ff9291335b0cd0b5b3",
      "a4f8c8907d2f44f99f440f52f7cbd401",
      "c3f7c72b62ee43d5b1cb7255d5e4dd3a",
      "4201ee34904a439e88e46a09f53f21b2",
      "621adc9663864125ae0e22e21d609bf3"
     ]
    },
    "colab_type": "code",
    "id": "CWnA_j8fsiFL",
    "outputId": "3cace285-9199-4b94-d284-e4d88f42df13"
   },
   "outputs": [
    {
     "data": {
      "application/vnd.jupyter.widget-view+json": {
       "model_id": "3c66d5c1208947e58e881f65310a6ba1",
       "version_major": 2,
       "version_minor": 0
      },
      "text/plain": [
       "HBox(children=(IntProgress(value=0, max=300), HTML(value='')))"
      ]
     },
     "metadata": {
      "tags": []
     },
     "output_type": "display_data"
    },
    {
     "name": "stdout",
     "output_type": "stream",
     "text": [
      "------SAVED------\n",
      "Epoch: 1, Training Loss*: 16.92574, Validation Loss*: 16.70606, \n",
      "Training Acc: 0.43583, Validation Acc: 0.61593\n",
      "------SAVED------\n",
      "Epoch: 2, Training Loss*: 16.24668, Validation Loss*: 16.13038, \n",
      "Training Acc: 0.60363, Validation Acc: 0.61735\n",
      "Epoch: 3, Training Loss*: 15.63043, Validation Loss*: 15.59580, \n",
      "Training Acc: 0.61891, Validation Acc: 0.61735\n",
      "Epoch: 4, Training Loss*: 15.09949, Validation Loss*: 15.13839, \n",
      "Training Acc: 0.61998, Validation Acc: 0.61735\n",
      "Epoch: 5, Training Loss*: 14.64141, Validation Loss*: 14.77531, \n",
      "Training Acc: 0.61962, Validation Acc: 0.61735\n",
      "Epoch: 6, Training Loss*: 14.31628, Validation Loss*: 14.50701, \n",
      "Training Acc: 0.61962, Validation Acc: 0.61735\n",
      "Epoch: 7, Training Loss*: 14.06562, Validation Loss*: 14.31429, \n",
      "Training Acc: 0.61962, Validation Acc: 0.61735\n",
      "Epoch: 8, Training Loss*: 13.91074, Validation Loss*: 14.16815, \n",
      "Training Acc: 0.61962, Validation Acc: 0.61735\n",
      "Epoch: 9, Training Loss*: 13.75208, Validation Loss*: 14.04537, \n",
      "Training Acc: 0.61962, Validation Acc: 0.61735\n",
      "Epoch: 10, Training Loss*: 13.60496, Validation Loss*: 13.93612, \n",
      "Training Acc: 0.61998, Validation Acc: 0.61735\n",
      "Epoch: 11, Training Loss*: 13.47411, Validation Loss*: 13.83322, \n",
      "Training Acc: 0.61962, Validation Acc: 0.61735\n",
      "Epoch: 12, Training Loss*: 13.37420, Validation Loss*: 13.73340, \n",
      "Training Acc: 0.61962, Validation Acc: 0.61735\n",
      "Epoch: 13, Training Loss*: 13.25900, Validation Loss*: 13.63307, \n",
      "Training Acc: 0.61927, Validation Acc: 0.61735\n",
      "Epoch: 14, Training Loss*: 13.17844, Validation Loss*: 13.53095, \n",
      "Training Acc: 0.61998, Validation Acc: 0.61593\n",
      "Epoch: 15, Training Loss*: 13.00441, Validation Loss*: 13.42719, \n",
      "Training Acc: 0.61998, Validation Acc: 0.61593\n",
      "Epoch: 16, Training Loss*: 12.91730, Validation Loss*: 13.32181, \n",
      "Training Acc: 0.61998, Validation Acc: 0.61735\n",
      "------SAVED------\n",
      "Epoch: 17, Training Loss*: 12.81777, Validation Loss*: 13.21256, \n",
      "Training Acc: 0.61891, Validation Acc: 0.61878\n",
      "Epoch: 18, Training Loss*: 12.61117, Validation Loss*: 13.09924, \n",
      "Training Acc: 0.61927, Validation Acc: 0.61878\n",
      "Epoch: 19, Training Loss*: 12.50040, Validation Loss*: 12.98118, \n",
      "Training Acc: 0.62033, Validation Acc: 0.61735\n",
      "Epoch: 20, Training Loss*: 12.41501, Validation Loss*: 12.86522, \n",
      "Training Acc: 0.62247, Validation Acc: 0.61735\n",
      "------SAVED------\n",
      "Epoch: 21, Training Loss*: 12.28419, Validation Loss*: 12.74765, \n",
      "Training Acc: 0.62567, Validation Acc: 0.62589\n",
      "------SAVED------\n",
      "Epoch: 22, Training Loss*: 12.18265, Validation Loss*: 12.63228, \n",
      "Training Acc: 0.62993, Validation Acc: 0.62873\n",
      "------SAVED------\n",
      "Epoch: 23, Training Loss*: 12.01135, Validation Loss*: 12.51236, \n",
      "Training Acc: 0.63562, Validation Acc: 0.63442\n",
      "------SAVED------\n",
      "Epoch: 24, Training Loss*: 11.91197, Validation Loss*: 12.39398, \n",
      "Training Acc: 0.64237, Validation Acc: 0.63869\n",
      "------SAVED------\n",
      "Epoch: 25, Training Loss*: 11.83348, Validation Loss*: 12.27728, \n",
      "Training Acc: 0.64202, Validation Acc: 0.64580\n",
      "------SAVED------\n",
      "Epoch: 26, Training Loss*: 11.65876, Validation Loss*: 12.15786, \n",
      "Training Acc: 0.65020, Validation Acc: 0.64865\n",
      "------SAVED------\n",
      "Epoch: 27, Training Loss*: 11.53527, Validation Loss*: 12.03792, \n",
      "Training Acc: 0.65197, Validation Acc: 0.65007\n",
      "------SAVED------\n",
      "Epoch: 28, Training Loss*: 11.38910, Validation Loss*: 11.91568, \n",
      "Training Acc: 0.66690, Validation Acc: 0.65292\n",
      "------SAVED------\n",
      "Epoch: 29, Training Loss*: 11.27527, Validation Loss*: 11.79390, \n",
      "Training Acc: 0.66584, Validation Acc: 0.65718\n",
      "------SAVED------\n",
      "Epoch: 30, Training Loss*: 11.15208, Validation Loss*: 11.66704, \n",
      "Training Acc: 0.67259, Validation Acc: 0.66572\n",
      "------SAVED------\n",
      "Epoch: 31, Training Loss*: 11.02373, Validation Loss*: 11.54165, \n",
      "Training Acc: 0.68183, Validation Acc: 0.66856\n",
      "------SAVED------\n",
      "Epoch: 32, Training Loss*: 10.85468, Validation Loss*: 11.41794, \n",
      "Training Acc: 0.69428, Validation Acc: 0.66999\n",
      "------SAVED------\n",
      "Epoch: 33, Training Loss*: 10.76212, Validation Loss*: 11.29365, \n",
      "Training Acc: 0.68717, Validation Acc: 0.68848\n",
      "------SAVED------\n",
      "Epoch: 34, Training Loss*: 10.60827, Validation Loss*: 11.17370, \n",
      "Training Acc: 0.70174, Validation Acc: 0.69132\n",
      "------SAVED------\n",
      "Epoch: 35, Training Loss*: 10.49635, Validation Loss*: 11.06373, \n",
      "Training Acc: 0.70210, Validation Acc: 0.69275\n",
      "Epoch: 36, Training Loss*: 10.36634, Validation Loss*: 10.95906, \n",
      "Training Acc: 0.71596, Validation Acc: 0.69132\n",
      "Epoch: 37, Training Loss*: 10.24121, Validation Loss*: 10.86165, \n",
      "Training Acc: 0.71596, Validation Acc: 0.69275\n",
      "------SAVED------\n",
      "Epoch: 38, Training Loss*: 10.17857, Validation Loss*: 10.77367, \n",
      "Training Acc: 0.72414, Validation Acc: 0.69986\n",
      "------SAVED------\n",
      "Epoch: 39, Training Loss*: 10.04614, Validation Loss*: 10.68711, \n",
      "Training Acc: 0.72556, Validation Acc: 0.70839\n",
      "------SAVED------\n",
      "Epoch: 40, Training Loss*: 9.97291, Validation Loss*: 10.60956, \n",
      "Training Acc: 0.72840, Validation Acc: 0.70982\n",
      "------SAVED------\n",
      "Epoch: 41, Training Loss*: 9.85055, Validation Loss*: 10.54076, \n",
      "Training Acc: 0.73374, Validation Acc: 0.71124\n",
      "------SAVED------\n",
      "Epoch: 42, Training Loss*: 9.81684, Validation Loss*: 10.47402, \n",
      "Training Acc: 0.73836, Validation Acc: 0.71266\n",
      "------SAVED------\n",
      "Epoch: 43, Training Loss*: 9.70599, Validation Loss*: 10.41337, \n",
      "Training Acc: 0.74867, Validation Acc: 0.71550\n",
      "------SAVED------\n",
      "Epoch: 44, Training Loss*: 9.61358, Validation Loss*: 10.35760, \n",
      "Training Acc: 0.74618, Validation Acc: 0.72262\n",
      "Epoch: 45, Training Loss*: 9.55464, Validation Loss*: 10.30940, \n",
      "Training Acc: 0.75293, Validation Acc: 0.72119\n",
      "Epoch: 46, Training Loss*: 9.53489, Validation Loss*: 10.26380, \n",
      "Training Acc: 0.74902, Validation Acc: 0.72262\n",
      "Epoch: 47, Training Loss*: 9.41779, Validation Loss*: 10.22604, \n",
      "Training Acc: 0.75116, Validation Acc: 0.72262\n",
      "Epoch: 48, Training Loss*: 9.37112, Validation Loss*: 10.19124, \n",
      "Training Acc: 0.75542, Validation Acc: 0.72262\n",
      "------SAVED------\n",
      "Epoch: 49, Training Loss*: 9.32837, Validation Loss*: 10.16282, \n",
      "Training Acc: 0.75613, Validation Acc: 0.72973\n",
      "------SAVED------\n",
      "Epoch: 50, Training Loss*: 9.27853, Validation Loss*: 10.13353, \n",
      "Training Acc: 0.75578, Validation Acc: 0.73115\n",
      "Epoch: 51, Training Loss*: 9.23659, Validation Loss*: 10.10298, \n",
      "Training Acc: 0.75720, Validation Acc: 0.73115\n",
      "------SAVED------\n",
      "Epoch: 52, Training Loss*: 9.14475, Validation Loss*: 10.07859, \n",
      "Training Acc: 0.76040, Validation Acc: 0.73257\n",
      "Epoch: 53, Training Loss*: 9.16879, Validation Loss*: 10.05823, \n",
      "Training Acc: 0.75933, Validation Acc: 0.73257\n",
      "Epoch: 54, Training Loss*: 9.13114, Validation Loss*: 10.03662, \n",
      "Training Acc: 0.76253, Validation Acc: 0.73257\n",
      "Epoch: 55, Training Loss*: 9.04903, Validation Loss*: 10.01912, \n",
      "Training Acc: 0.76609, Validation Acc: 0.73115\n",
      "Epoch: 56, Training Loss*: 9.06799, Validation Loss*: 10.00265, \n",
      "Training Acc: 0.76893, Validation Acc: 0.73115\n",
      "Epoch: 57, Training Loss*: 9.04294, Validation Loss*: 9.98533, \n",
      "Training Acc: 0.76360, Validation Acc: 0.73115\n",
      "------SAVED------\n",
      "Epoch: 58, Training Loss*: 8.99392, Validation Loss*: 9.97171, \n",
      "Training Acc: 0.76644, Validation Acc: 0.73684\n",
      "Epoch: 59, Training Loss*: 8.93174, Validation Loss*: 9.95701, \n",
      "Training Acc: 0.77106, Validation Acc: 0.73257\n",
      "Epoch: 60, Training Loss*: 8.89361, Validation Loss*: 9.93995, \n",
      "Training Acc: 0.77213, Validation Acc: 0.73542\n",
      "Epoch: 61, Training Loss*: 8.89485, Validation Loss*: 9.92919, \n",
      "Training Acc: 0.77533, Validation Acc: 0.73684\n",
      "Epoch: 62, Training Loss*: 8.85717, Validation Loss*: 9.91688, \n",
      "Training Acc: 0.77177, Validation Acc: 0.73542\n",
      "Epoch: 63, Training Loss*: 8.83679, Validation Loss*: 9.90372, \n",
      "Training Acc: 0.77320, Validation Acc: 0.73542\n",
      "Epoch: 64, Training Loss*: 8.81087, Validation Loss*: 9.89177, \n",
      "Training Acc: 0.77248, Validation Acc: 0.73684\n",
      "Epoch: 65, Training Loss*: 8.83283, Validation Loss*: 9.87846, \n",
      "Training Acc: 0.77391, Validation Acc: 0.73684\n",
      "Epoch: 66, Training Loss*: 8.78714, Validation Loss*: 9.86952, \n",
      "Training Acc: 0.77284, Validation Acc: 0.73684\n",
      "------SAVED------\n",
      "Epoch: 67, Training Loss*: 8.73448, Validation Loss*: 9.85962, \n",
      "Training Acc: 0.77568, Validation Acc: 0.73826\n",
      "Epoch: 68, Training Loss*: 8.74522, Validation Loss*: 9.84493, \n",
      "Training Acc: 0.77568, Validation Acc: 0.73826\n",
      "------SAVED------\n",
      "Epoch: 69, Training Loss*: 8.66680, Validation Loss*: 9.83877, \n",
      "Training Acc: 0.77782, Validation Acc: 0.74111\n",
      "Epoch: 70, Training Loss*: 8.66616, Validation Loss*: 9.83123, \n",
      "Training Acc: 0.77817, Validation Acc: 0.73826\n",
      "Epoch: 71, Training Loss*: 8.64296, Validation Loss*: 9.82125, \n",
      "Training Acc: 0.77782, Validation Acc: 0.73684\n",
      "Epoch: 72, Training Loss*: 8.61467, Validation Loss*: 9.81613, \n",
      "Training Acc: 0.77675, Validation Acc: 0.73257\n",
      "Epoch: 73, Training Loss*: 8.56472, Validation Loss*: 9.80694, \n",
      "Training Acc: 0.78351, Validation Acc: 0.73684\n",
      "Epoch: 74, Training Loss*: 8.61711, Validation Loss*: 9.80141, \n",
      "Training Acc: 0.77604, Validation Acc: 0.73826\n",
      "Epoch: 75, Training Loss*: 8.52574, Validation Loss*: 9.78945, \n",
      "Training Acc: 0.77995, Validation Acc: 0.73400\n",
      "Epoch: 76, Training Loss*: 8.47763, Validation Loss*: 9.78252, \n",
      "Training Acc: 0.77711, Validation Acc: 0.73400\n",
      "Epoch: 77, Training Loss*: 8.50623, Validation Loss*: 9.77671, \n",
      "Training Acc: 0.78173, Validation Acc: 0.73542\n",
      "Epoch: 78, Training Loss*: 8.46731, Validation Loss*: 9.77333, \n",
      "Training Acc: 0.78777, Validation Acc: 0.73969\n",
      "Epoch: 79, Training Loss*: 8.47361, Validation Loss*: 9.76473, \n",
      "Training Acc: 0.78706, Validation Acc: 0.73969\n",
      "Epoch: 80, Training Loss*: 8.43177, Validation Loss*: 9.75656, \n",
      "Training Acc: 0.78777, Validation Acc: 0.73826\n",
      "Epoch: 81, Training Loss*: 8.47109, Validation Loss*: 9.74878, \n",
      "Training Acc: 0.78244, Validation Acc: 0.73826\n",
      "Epoch: 82, Training Loss*: 8.33721, Validation Loss*: 9.74599, \n",
      "Training Acc: 0.78919, Validation Acc: 0.73826\n",
      "Epoch: 83, Training Loss*: 8.38385, Validation Loss*: 9.73800, \n",
      "Training Acc: 0.78670, Validation Acc: 0.73684\n",
      "Epoch: 84, Training Loss*: 8.32298, Validation Loss*: 9.73092, \n",
      "Training Acc: 0.78493, Validation Acc: 0.73826\n",
      "Epoch: 85, Training Loss*: 8.29888, Validation Loss*: 9.72650, \n",
      "Training Acc: 0.79168, Validation Acc: 0.74111\n",
      "Epoch: 86, Training Loss*: 8.30482, Validation Loss*: 9.72275, \n",
      "Training Acc: 0.78884, Validation Acc: 0.73969\n",
      "------SAVED------\n",
      "Epoch: 87, Training Loss*: 8.36756, Validation Loss*: 9.71135, \n",
      "Training Acc: 0.78848, Validation Acc: 0.74253\n",
      "Epoch: 88, Training Loss*: 8.28323, Validation Loss*: 9.71227, \n",
      "Training Acc: 0.79168, Validation Acc: 0.74111\n",
      "Epoch: 89, Training Loss*: 8.24852, Validation Loss*: 9.70222, \n",
      "Training Acc: 0.78955, Validation Acc: 0.74253\n",
      "Epoch: 90, Training Loss*: 8.25077, Validation Loss*: 9.69453, \n",
      "Training Acc: 0.79666, Validation Acc: 0.74253\n",
      "Epoch: 91, Training Loss*: 8.18177, Validation Loss*: 9.69421, \n",
      "Training Acc: 0.79026, Validation Acc: 0.74253\n",
      "Epoch: 92, Training Loss*: 8.18134, Validation Loss*: 9.69252, \n",
      "Training Acc: 0.79239, Validation Acc: 0.74253\n",
      "Epoch: 93, Training Loss*: 8.19028, Validation Loss*: 9.69097, \n",
      "Training Acc: 0.79666, Validation Acc: 0.73969\n",
      "Epoch: 94, Training Loss*: 8.14724, Validation Loss*: 9.67675, \n",
      "Training Acc: 0.79417, Validation Acc: 0.73969\n",
      "Epoch: 95, Training Loss*: 8.12786, Validation Loss*: 9.67786, \n",
      "Training Acc: 0.79772, Validation Acc: 0.74253\n",
      "Epoch: 96, Training Loss*: 8.09156, Validation Loss*: 9.67292, \n",
      "Training Acc: 0.79239, Validation Acc: 0.73969\n",
      "Epoch: 97, Training Loss*: 8.11602, Validation Loss*: 9.66976, \n",
      "Training Acc: 0.79595, Validation Acc: 0.73969\n",
      "Epoch: 98, Training Loss*: 8.10357, Validation Loss*: 9.66551, \n",
      "Training Acc: 0.80021, Validation Acc: 0.74111\n",
      "Epoch: 99, Training Loss*: 8.04990, Validation Loss*: 9.65400, \n",
      "Training Acc: 0.79737, Validation Acc: 0.74111\n",
      "Epoch: 100, Training Loss*: 7.97463, Validation Loss*: 9.65609, \n",
      "Training Acc: 0.79844, Validation Acc: 0.73969\n",
      "Epoch: 101, Training Loss*: 7.95122, Validation Loss*: 9.64754, \n",
      "Training Acc: 0.79595, Validation Acc: 0.73969\n",
      "Epoch: 102, Training Loss*: 7.92887, Validation Loss*: 9.64815, \n",
      "Training Acc: 0.79772, Validation Acc: 0.73969\n",
      "Epoch: 103, Training Loss*: 7.95340, Validation Loss*: 9.64315, \n",
      "Training Acc: 0.79950, Validation Acc: 0.73684\n",
      "Epoch: 104, Training Loss*: 8.03125, Validation Loss*: 9.63922, \n",
      "Training Acc: 0.79666, Validation Acc: 0.73826\n",
      "Epoch: 105, Training Loss*: 7.90523, Validation Loss*: 9.63733, \n",
      "Training Acc: 0.80270, Validation Acc: 0.73826\n",
      "Epoch: 106, Training Loss*: 7.89722, Validation Loss*: 9.62898, \n",
      "Training Acc: 0.80306, Validation Acc: 0.73969\n",
      "Epoch: 107, Training Loss*: 7.87533, Validation Loss*: 9.63012, \n",
      "Training Acc: 0.80128, Validation Acc: 0.73826\n",
      "Epoch: 108, Training Loss*: 7.90002, Validation Loss*: 9.62339, \n",
      "Training Acc: 0.80235, Validation Acc: 0.73826\n",
      "Epoch: 109, Training Loss*: 7.89724, Validation Loss*: 9.61989, \n",
      "Training Acc: 0.80377, Validation Acc: 0.73826\n",
      "Epoch: 110, Training Loss*: 7.87374, Validation Loss*: 9.61549, \n",
      "Training Acc: 0.80199, Validation Acc: 0.73826\n",
      "Epoch: 111, Training Loss*: 7.85395, Validation Loss*: 9.60309, \n",
      "Training Acc: 0.80483, Validation Acc: 0.73826\n",
      "Epoch: 112, Training Loss*: 7.73461, Validation Loss*: 9.60978, \n",
      "Training Acc: 0.80519, Validation Acc: 0.73969\n",
      "Epoch: 113, Training Loss*: 7.80247, Validation Loss*: 9.59995, \n",
      "Training Acc: 0.80590, Validation Acc: 0.73969\n",
      "Epoch: 114, Training Loss*: 7.75487, Validation Loss*: 9.59475, \n",
      "Training Acc: 0.80590, Validation Acc: 0.73542\n",
      "Epoch: 115, Training Loss*: 7.73602, Validation Loss*: 9.59986, \n",
      "Training Acc: 0.80732, Validation Acc: 0.73400\n",
      "Epoch: 116, Training Loss*: 7.69693, Validation Loss*: 9.60085, \n",
      "Training Acc: 0.81017, Validation Acc: 0.73400\n",
      "Epoch: 117, Training Loss*: 7.72936, Validation Loss*: 9.59703, \n",
      "Training Acc: 0.80732, Validation Acc: 0.73826\n",
      "Epoch: 118, Training Loss*: 7.70156, Validation Loss*: 9.58737, \n",
      "Training Acc: 0.80661, Validation Acc: 0.73969\n",
      "Epoch: 119, Training Loss*: 7.65241, Validation Loss*: 9.59630, \n",
      "Training Acc: 0.80946, Validation Acc: 0.73542\n",
      "Epoch: 120, Training Loss*: 7.63694, Validation Loss*: 9.59229, \n",
      "Training Acc: 0.81123, Validation Acc: 0.73400\n",
      "Epoch: 121, Training Loss*: 7.60120, Validation Loss*: 9.58795, \n",
      "Training Acc: 0.80946, Validation Acc: 0.73400\n",
      "Epoch: 122, Training Loss*: 7.62363, Validation Loss*: 9.57252, \n",
      "Training Acc: 0.80946, Validation Acc: 0.73542\n",
      "Epoch: 123, Training Loss*: 7.63120, Validation Loss*: 9.57236, \n",
      "Training Acc: 0.80875, Validation Acc: 0.73826\n",
      "Epoch: 124, Training Loss*: 7.63178, Validation Loss*: 9.58118, \n",
      "Training Acc: 0.80839, Validation Acc: 0.73684\n",
      "Epoch: 125, Training Loss*: 7.58027, Validation Loss*: 9.59739, \n",
      "Training Acc: 0.81230, Validation Acc: 0.73542\n",
      "Epoch: 126, Training Loss*: 7.53878, Validation Loss*: 9.58007, \n",
      "Training Acc: 0.81479, Validation Acc: 0.73826\n",
      "Epoch: 127, Training Loss*: 7.49159, Validation Loss*: 9.58220, \n",
      "Training Acc: 0.81301, Validation Acc: 0.73684\n",
      "Epoch: 128, Training Loss*: 7.52341, Validation Loss*: 9.57218, \n",
      "Training Acc: 0.80875, Validation Acc: 0.73684\n",
      "Epoch: 129, Training Loss*: 7.50044, Validation Loss*: 9.58154, \n",
      "Training Acc: 0.81337, Validation Acc: 0.73969\n",
      "Epoch: 130, Training Loss*: 7.53181, Validation Loss*: 9.58594, \n",
      "Training Acc: 0.80910, Validation Acc: 0.73969\n",
      "Epoch: 131, Training Loss*: 7.50284, Validation Loss*: 9.58138, \n",
      "Training Acc: 0.81266, Validation Acc: 0.73684\n",
      "Epoch: 132, Training Loss*: 7.41119, Validation Loss*: 9.58945, \n",
      "Training Acc: 0.81550, Validation Acc: 0.73684\n",
      "Epoch: 133, Training Loss*: 7.42215, Validation Loss*: 9.59929, \n",
      "Training Acc: 0.81408, Validation Acc: 0.73257\n",
      "Epoch: 134, Training Loss*: 7.38129, Validation Loss*: 9.59590, \n",
      "Training Acc: 0.81443, Validation Acc: 0.73400\n",
      "Epoch: 135, Training Loss*: 7.40607, Validation Loss*: 9.59820, \n",
      "Training Acc: 0.81621, Validation Acc: 0.73826\n",
      "Epoch: 136, Training Loss*: 7.35851, Validation Loss*: 9.58055, \n",
      "Training Acc: 0.81621, Validation Acc: 0.73826\n",
      "Epoch: 137, Training Loss*: 7.31763, Validation Loss*: 9.59668, \n",
      "Training Acc: 0.81977, Validation Acc: 0.73684\n",
      "Epoch: 138, Training Loss*: 7.35691, Validation Loss*: 9.59168, \n",
      "Training Acc: 0.81337, Validation Acc: 0.73684\n",
      "Epoch: 139, Training Loss*: 7.39542, Validation Loss*: 9.56840, \n",
      "Training Acc: 0.81799, Validation Acc: 0.73542\n",
      "Epoch: 140, Training Loss*: 7.31815, Validation Loss*: 9.59046, \n",
      "Training Acc: 0.81728, Validation Acc: 0.73542\n",
      "Epoch: 141, Training Loss*: 7.25481, Validation Loss*: 9.58824, \n",
      "Training Acc: 0.82296, Validation Acc: 0.73542\n",
      "Epoch: 142, Training Loss*: 7.27880, Validation Loss*: 9.57337, \n",
      "Training Acc: 0.82012, Validation Acc: 0.73400\n",
      "Epoch: 143, Training Loss*: 7.25347, Validation Loss*: 9.61222, \n",
      "Training Acc: 0.81585, Validation Acc: 0.73542\n",
      "Epoch: 144, Training Loss*: 7.25259, Validation Loss*: 9.59143, \n",
      "Training Acc: 0.81977, Validation Acc: 0.73542\n",
      "Epoch: 145, Training Loss*: 7.25504, Validation Loss*: 9.60541, \n",
      "Training Acc: 0.81870, Validation Acc: 0.73684\n",
      "Epoch: 146, Training Loss*: 7.21754, Validation Loss*: 9.60480, \n",
      "Training Acc: 0.81799, Validation Acc: 0.73684\n",
      "Epoch: 147, Training Loss*: 7.18385, Validation Loss*: 9.61957, \n",
      "Training Acc: 0.81834, Validation Acc: 0.73969\n",
      "Epoch: 148, Training Loss*: 7.18335, Validation Loss*: 9.59642, \n",
      "Training Acc: 0.82332, Validation Acc: 0.73826\n",
      "Epoch: 149, Training Loss*: 7.13478, Validation Loss*: 9.61572, \n",
      "Training Acc: 0.82332, Validation Acc: 0.73826\n",
      "Epoch: 150, Training Loss*: 7.13607, Validation Loss*: 9.58239, \n",
      "Training Acc: 0.82296, Validation Acc: 0.73826\n",
      "Epoch: 151, Training Loss*: 7.11308, Validation Loss*: 9.60778, \n",
      "Training Acc: 0.82474, Validation Acc: 0.73969\n",
      "Epoch: 152, Training Loss*: 7.14175, Validation Loss*: 9.57928, \n",
      "Training Acc: 0.81977, Validation Acc: 0.73826\n",
      "Epoch: 153, Training Loss*: 7.07996, Validation Loss*: 9.60092, \n",
      "Training Acc: 0.81977, Validation Acc: 0.73826\n",
      "Epoch: 154, Training Loss*: 7.10705, Validation Loss*: 9.58059, \n",
      "Training Acc: 0.82581, Validation Acc: 0.73826\n",
      "Epoch: 155, Training Loss*: 7.06844, Validation Loss*: 9.58300, \n",
      "Training Acc: 0.83043, Validation Acc: 0.73826\n",
      "Epoch: 156, Training Loss*: 7.09359, Validation Loss*: 9.60316, \n",
      "Training Acc: 0.82581, Validation Acc: 0.73826\n",
      "Epoch: 157, Training Loss*: 7.07588, Validation Loss*: 9.62262, \n",
      "Training Acc: 0.82296, Validation Acc: 0.73826\n",
      "Epoch: 158, Training Loss*: 7.10311, Validation Loss*: 9.58485, \n",
      "Training Acc: 0.82225, Validation Acc: 0.73826\n",
      "Epoch: 159, Training Loss*: 7.07027, Validation Loss*: 9.59785, \n",
      "Training Acc: 0.82048, Validation Acc: 0.73969\n",
      "Epoch: 160, Training Loss*: 6.94442, Validation Loss*: 9.62512, \n",
      "Training Acc: 0.82936, Validation Acc: 0.73684\n",
      "Epoch: 161, Training Loss*: 6.92108, Validation Loss*: 9.59988, \n",
      "Training Acc: 0.82865, Validation Acc: 0.73542\n",
      "Epoch: 162, Training Loss*: 6.96318, Validation Loss*: 9.62658, \n",
      "Training Acc: 0.82901, Validation Acc: 0.73542\n",
      "Epoch: 163, Training Loss*: 6.96784, Validation Loss*: 9.64152, \n",
      "Training Acc: 0.82794, Validation Acc: 0.73826\n",
      "Epoch: 164, Training Loss*: 6.96046, Validation Loss*: 9.61152, \n",
      "Training Acc: 0.82616, Validation Acc: 0.73684\n",
      "Epoch: 165, Training Loss*: 6.96497, Validation Loss*: 9.63484, \n",
      "Training Acc: 0.82723, Validation Acc: 0.73826\n",
      "Epoch: 166, Training Loss*: 6.90472, Validation Loss*: 9.65464, \n",
      "Training Acc: 0.83470, Validation Acc: 0.73969\n",
      "Epoch: 167, Training Loss*: 6.83263, Validation Loss*: 9.63771, \n",
      "Training Acc: 0.83221, Validation Acc: 0.74111\n",
      "Epoch: 168, Training Loss*: 6.91013, Validation Loss*: 9.64319, \n",
      "Training Acc: 0.82972, Validation Acc: 0.73969\n",
      "Epoch: 169, Training Loss*: 6.77805, Validation Loss*: 9.66125, \n",
      "Training Acc: 0.83221, Validation Acc: 0.73826\n",
      "------SAVED------\n",
      "Epoch: 170, Training Loss*: 6.89882, Validation Loss*: 9.65441, \n",
      "Training Acc: 0.83079, Validation Acc: 0.74395\n",
      "Epoch: 171, Training Loss*: 6.86996, Validation Loss*: 9.61728, \n",
      "Training Acc: 0.83185, Validation Acc: 0.74253\n",
      "Epoch: 172, Training Loss*: 6.81034, Validation Loss*: 9.61416, \n",
      "Training Acc: 0.83292, Validation Acc: 0.74253\n",
      "------SAVED------\n",
      "Epoch: 173, Training Loss*: 6.81736, Validation Loss*: 9.67616, \n",
      "Training Acc: 0.83470, Validation Acc: 0.74538\n",
      "Epoch: 174, Training Loss*: 6.79003, Validation Loss*: 9.65609, \n",
      "Training Acc: 0.82936, Validation Acc: 0.74395\n",
      "Epoch: 175, Training Loss*: 6.80148, Validation Loss*: 9.65466, \n",
      "Training Acc: 0.83221, Validation Acc: 0.74538\n",
      "Epoch: 176, Training Loss*: 6.69976, Validation Loss*: 9.66735, \n",
      "Training Acc: 0.83470, Validation Acc: 0.74538\n",
      "Epoch: 177, Training Loss*: 6.69106, Validation Loss*: 9.67825, \n",
      "Training Acc: 0.84109, Validation Acc: 0.74395\n",
      "Epoch: 178, Training Loss*: 6.82671, Validation Loss*: 9.67119, \n",
      "Training Acc: 0.83505, Validation Acc: 0.74395\n",
      "------SAVED------\n",
      "Epoch: 179, Training Loss*: 6.77710, Validation Loss*: 9.62397, \n",
      "Training Acc: 0.83967, Validation Acc: 0.74680\n",
      "------SAVED------\n",
      "Epoch: 180, Training Loss*: 6.70833, Validation Loss*: 9.66797, \n",
      "Training Acc: 0.83967, Validation Acc: 0.74964\n",
      "Epoch: 181, Training Loss*: 6.70736, Validation Loss*: 9.70407, \n",
      "Training Acc: 0.83896, Validation Acc: 0.74822\n",
      "Epoch: 182, Training Loss*: 6.61400, Validation Loss*: 9.68212, \n",
      "Training Acc: 0.83647, Validation Acc: 0.74964\n",
      "------SAVED------\n",
      "Epoch: 183, Training Loss*: 6.68512, Validation Loss*: 9.69828, \n",
      "Training Acc: 0.83576, Validation Acc: 0.75391\n",
      "Epoch: 184, Training Loss*: 6.56719, Validation Loss*: 9.67945, \n",
      "Training Acc: 0.84003, Validation Acc: 0.75249\n",
      "Epoch: 185, Training Loss*: 6.64468, Validation Loss*: 9.65492, \n",
      "Training Acc: 0.83754, Validation Acc: 0.75391\n",
      "Epoch: 186, Training Loss*: 6.54891, Validation Loss*: 9.69647, \n",
      "Training Acc: 0.84358, Validation Acc: 0.75249\n",
      "------SAVED------\n",
      "Epoch: 187, Training Loss*: 6.57233, Validation Loss*: 9.69122, \n",
      "Training Acc: 0.84145, Validation Acc: 0.75533\n",
      "Epoch: 188, Training Loss*: 6.59072, Validation Loss*: 9.71596, \n",
      "Training Acc: 0.84216, Validation Acc: 0.75533\n",
      "Epoch: 189, Training Loss*: 6.55070, Validation Loss*: 9.69688, \n",
      "Training Acc: 0.83754, Validation Acc: 0.75533\n",
      "Epoch: 190, Training Loss*: 6.53596, Validation Loss*: 9.75293, \n",
      "Training Acc: 0.84501, Validation Acc: 0.75533\n",
      "------SAVED------\n",
      "Epoch: 191, Training Loss*: 6.62435, Validation Loss*: 9.69926, \n",
      "Training Acc: 0.84216, Validation Acc: 0.75960\n",
      "Epoch: 192, Training Loss*: 6.53370, Validation Loss*: 9.71653, \n",
      "Training Acc: 0.84038, Validation Acc: 0.75533\n",
      "Epoch: 193, Training Loss*: 6.50055, Validation Loss*: 9.71553, \n",
      "Training Acc: 0.84074, Validation Acc: 0.75676\n",
      "Epoch: 194, Training Loss*: 6.45073, Validation Loss*: 9.70548, \n",
      "Training Acc: 0.84074, Validation Acc: 0.75676\n",
      "Epoch: 195, Training Loss*: 6.42750, Validation Loss*: 9.75670, \n",
      "Training Acc: 0.84252, Validation Acc: 0.75676\n",
      "Epoch: 196, Training Loss*: 6.50354, Validation Loss*: 9.70730, \n",
      "Training Acc: 0.84145, Validation Acc: 0.75818\n",
      "Epoch: 197, Training Loss*: 6.37404, Validation Loss*: 9.74496, \n",
      "Training Acc: 0.84323, Validation Acc: 0.75391\n",
      "Epoch: 198, Training Loss*: 6.44190, Validation Loss*: 9.77226, \n",
      "Training Acc: 0.84216, Validation Acc: 0.75960\n",
      "Epoch: 199, Training Loss*: 6.44349, Validation Loss*: 9.72670, \n",
      "Training Acc: 0.84536, Validation Acc: 0.75960\n",
      "Epoch: 200, Training Loss*: 6.37799, Validation Loss*: 9.71998, \n",
      "Training Acc: 0.84429, Validation Acc: 0.75818\n",
      "Epoch: 201, Training Loss*: 6.39680, Validation Loss*: 9.72238, \n",
      "Training Acc: 0.84252, Validation Acc: 0.75533\n",
      "Epoch: 202, Training Loss*: 6.42831, Validation Loss*: 9.72522, \n",
      "Training Acc: 0.84358, Validation Acc: 0.75676\n",
      "Epoch: 203, Training Loss*: 6.32890, Validation Loss*: 9.72875, \n",
      "Training Acc: 0.85034, Validation Acc: 0.75391\n",
      "Epoch: 204, Training Loss*: 6.38750, Validation Loss*: 9.71245, \n",
      "Training Acc: 0.84607, Validation Acc: 0.75391\n",
      "Epoch: 205, Training Loss*: 6.35653, Validation Loss*: 9.73851, \n",
      "Training Acc: 0.84465, Validation Acc: 0.75960\n",
      "Epoch: 206, Training Loss*: 6.33244, Validation Loss*: 9.74466, \n",
      "Training Acc: 0.84572, Validation Acc: 0.75818\n",
      "Epoch: 207, Training Loss*: 6.22986, Validation Loss*: 9.71764, \n",
      "Training Acc: 0.84856, Validation Acc: 0.75818\n",
      "Epoch: 208, Training Loss*: 6.23190, Validation Loss*: 9.78416, \n",
      "Training Acc: 0.84927, Validation Acc: 0.75818\n",
      "Epoch: 209, Training Loss*: 6.18670, Validation Loss*: 9.76532, \n",
      "Training Acc: 0.85069, Validation Acc: 0.75818\n",
      "Epoch: 210, Training Loss*: 6.21954, Validation Loss*: 9.75624, \n",
      "Training Acc: 0.84856, Validation Acc: 0.75818\n",
      "Epoch: 211, Training Loss*: 6.17672, Validation Loss*: 9.79362, \n",
      "Training Acc: 0.85105, Validation Acc: 0.75818\n",
      "Epoch: 212, Training Loss*: 6.13491, Validation Loss*: 9.74852, \n",
      "Training Acc: 0.85354, Validation Acc: 0.75818\n",
      "Epoch: 213, Training Loss*: 6.14940, Validation Loss*: 9.79451, \n",
      "Training Acc: 0.85212, Validation Acc: 0.75818\n",
      "Epoch: 214, Training Loss*: 6.13170, Validation Loss*: 9.80702, \n",
      "Training Acc: 0.84714, Validation Acc: 0.75960\n",
      "Epoch: 215, Training Loss*: 6.22399, Validation Loss*: 9.76827, \n",
      "Training Acc: 0.84785, Validation Acc: 0.75818\n",
      "Epoch: 216, Training Loss*: 6.09255, Validation Loss*: 9.82286, \n",
      "Training Acc: 0.85603, Validation Acc: 0.75960\n",
      "------SAVED------\n",
      "Epoch: 217, Training Loss*: 6.03907, Validation Loss*: 9.86130, \n",
      "Training Acc: 0.85567, Validation Acc: 0.76102\n",
      "Epoch: 218, Training Loss*: 6.13693, Validation Loss*: 9.85187, \n",
      "Training Acc: 0.85176, Validation Acc: 0.75818\n",
      "Epoch: 219, Training Loss*: 6.05501, Validation Loss*: 9.82044, \n",
      "Training Acc: 0.85176, Validation Acc: 0.75676\n",
      "Epoch: 220, Training Loss*: 6.06801, Validation Loss*: 9.88180, \n",
      "Training Acc: 0.85140, Validation Acc: 0.75960\n",
      "Epoch: 221, Training Loss*: 6.06336, Validation Loss*: 9.82478, \n",
      "Training Acc: 0.85425, Validation Acc: 0.75818\n",
      "Epoch: 222, Training Loss*: 6.12269, Validation Loss*: 9.84068, \n",
      "Training Acc: 0.85460, Validation Acc: 0.75676\n",
      "Epoch: 223, Training Loss*: 6.01545, Validation Loss*: 9.93909, \n",
      "Training Acc: 0.85460, Validation Acc: 0.75960\n",
      "Epoch: 224, Training Loss*: 5.98230, Validation Loss*: 9.88429, \n",
      "Training Acc: 0.85780, Validation Acc: 0.76102\n",
      "------SAVED------\n",
      "Epoch: 225, Training Loss*: 5.95924, Validation Loss*: 9.87615, \n",
      "Training Acc: 0.85816, Validation Acc: 0.76245\n",
      "Epoch: 226, Training Loss*: 5.98271, Validation Loss*: 9.83615, \n",
      "Training Acc: 0.85923, Validation Acc: 0.76245\n",
      "Epoch: 227, Training Loss*: 5.97042, Validation Loss*: 9.83588, \n",
      "Training Acc: 0.85496, Validation Acc: 0.76245\n",
      "Epoch: 228, Training Loss*: 5.91331, Validation Loss*: 9.94549, \n",
      "Training Acc: 0.85674, Validation Acc: 0.76245\n",
      "Epoch: 229, Training Loss*: 5.95487, Validation Loss*: 9.87952, \n",
      "Training Acc: 0.85389, Validation Acc: 0.75818\n",
      "Epoch: 230, Training Loss*: 5.91151, Validation Loss*: 9.81714, \n",
      "Training Acc: 0.86100, Validation Acc: 0.75960\n",
      "Epoch: 231, Training Loss*: 5.85848, Validation Loss*: 9.93915, \n",
      "Training Acc: 0.85745, Validation Acc: 0.76102\n",
      "Epoch: 232, Training Loss*: 5.90261, Validation Loss*: 9.94244, \n",
      "Training Acc: 0.86029, Validation Acc: 0.75960\n",
      "Epoch: 233, Training Loss*: 5.85698, Validation Loss*: 9.95281, \n",
      "Training Acc: 0.86065, Validation Acc: 0.75818\n",
      "Epoch: 234, Training Loss*: 5.89719, Validation Loss*: 9.92712, \n",
      "Training Acc: 0.85745, Validation Acc: 0.76102\n",
      "Epoch: 235, Training Loss*: 5.85252, Validation Loss*: 9.99919, \n",
      "Training Acc: 0.86171, Validation Acc: 0.75960\n",
      "Epoch: 236, Training Loss*: 5.83067, Validation Loss*: 9.96640, \n",
      "Training Acc: 0.86207, Validation Acc: 0.75960\n",
      "Epoch: 237, Training Loss*: 5.78923, Validation Loss*: 10.01232, \n",
      "Training Acc: 0.86740, Validation Acc: 0.75960\n",
      "Epoch: 238, Training Loss*: 5.78267, Validation Loss*: 9.96770, \n",
      "Training Acc: 0.86207, Validation Acc: 0.76102\n",
      "Epoch: 239, Training Loss*: 5.78172, Validation Loss*: 10.06795, \n",
      "Training Acc: 0.86420, Validation Acc: 0.76102\n",
      "------SAVED------\n",
      "Epoch: 240, Training Loss*: 5.80384, Validation Loss*: 9.98956, \n",
      "Training Acc: 0.86242, Validation Acc: 0.76387\n",
      "Epoch: 241, Training Loss*: 5.78043, Validation Loss*: 10.10242, \n",
      "Training Acc: 0.86349, Validation Acc: 0.76387\n",
      "Epoch: 242, Training Loss*: 5.76784, Validation Loss*: 10.07108, \n",
      "Training Acc: 0.86314, Validation Acc: 0.76102\n",
      "Epoch: 243, Training Loss*: 5.67617, Validation Loss*: 10.03902, \n",
      "Training Acc: 0.86527, Validation Acc: 0.76102\n",
      "Epoch: 244, Training Loss*: 5.82114, Validation Loss*: 10.13241, \n",
      "Training Acc: 0.85460, Validation Acc: 0.75960\n",
      "Epoch: 245, Training Loss*: 5.75077, Validation Loss*: 10.16271, \n",
      "Training Acc: 0.86171, Validation Acc: 0.76102\n",
      "Epoch: 246, Training Loss*: 5.76159, Validation Loss*: 10.16814, \n",
      "Training Acc: 0.86385, Validation Acc: 0.76102\n",
      "Epoch: 247, Training Loss*: 5.65731, Validation Loss*: 10.13355, \n",
      "Training Acc: 0.85923, Validation Acc: 0.76387\n",
      "------SAVED------\n",
      "Epoch: 248, Training Loss*: 5.70553, Validation Loss*: 10.16950, \n",
      "Training Acc: 0.86633, Validation Acc: 0.76671\n",
      "Epoch: 249, Training Loss*: 5.71976, Validation Loss*: 10.11227, \n",
      "Training Acc: 0.86598, Validation Acc: 0.76245\n",
      "Epoch: 250, Training Loss*: 5.58976, Validation Loss*: 10.16756, \n",
      "Training Acc: 0.86847, Validation Acc: 0.76387\n",
      "Epoch: 251, Training Loss*: 5.65494, Validation Loss*: 10.18115, \n",
      "Training Acc: 0.86776, Validation Acc: 0.76387\n",
      "Epoch: 252, Training Loss*: 5.62310, Validation Loss*: 10.13865, \n",
      "Training Acc: 0.86740, Validation Acc: 0.76387\n",
      "Epoch: 253, Training Loss*: 5.57334, Validation Loss*: 10.12986, \n",
      "Training Acc: 0.86847, Validation Acc: 0.76387\n",
      "Epoch: 254, Training Loss*: 5.53941, Validation Loss*: 10.30295, \n",
      "Training Acc: 0.86882, Validation Acc: 0.76387\n",
      "Epoch: 255, Training Loss*: 5.51474, Validation Loss*: 10.20539, \n",
      "Training Acc: 0.87273, Validation Acc: 0.76529\n",
      "Epoch: 256, Training Loss*: 5.55295, Validation Loss*: 10.23009, \n",
      "Training Acc: 0.86740, Validation Acc: 0.75960\n",
      "Epoch: 257, Training Loss*: 5.52668, Validation Loss*: 10.15863, \n",
      "Training Acc: 0.87025, Validation Acc: 0.76245\n",
      "Epoch: 258, Training Loss*: 5.47414, Validation Loss*: 10.25433, \n",
      "Training Acc: 0.87025, Validation Acc: 0.76529\n",
      "Epoch: 259, Training Loss*: 5.49655, Validation Loss*: 10.22293, \n",
      "Training Acc: 0.86847, Validation Acc: 0.76102\n",
      "Epoch: 260, Training Loss*: 5.37665, Validation Loss*: 10.30694, \n",
      "Training Acc: 0.87451, Validation Acc: 0.76671\n",
      "------SAVED------\n",
      "Epoch: 261, Training Loss*: 5.49868, Validation Loss*: 10.33258, \n",
      "Training Acc: 0.87487, Validation Acc: 0.76956\n",
      "Epoch: 262, Training Loss*: 5.41463, Validation Loss*: 10.31329, \n",
      "Training Acc: 0.87096, Validation Acc: 0.76387\n",
      "Epoch: 263, Training Loss*: 5.44738, Validation Loss*: 10.38439, \n",
      "Training Acc: 0.87344, Validation Acc: 0.76529\n",
      "Epoch: 264, Training Loss*: 5.42329, Validation Loss*: 10.19802, \n",
      "Training Acc: 0.87060, Validation Acc: 0.76245\n",
      "Epoch: 265, Training Loss*: 5.51005, Validation Loss*: 10.30546, \n",
      "Training Acc: 0.86953, Validation Acc: 0.76245\n",
      "Epoch: 266, Training Loss*: 5.45582, Validation Loss*: 10.43503, \n",
      "Training Acc: 0.87238, Validation Acc: 0.76387\n",
      "Epoch: 267, Training Loss*: 5.37912, Validation Loss*: 10.36202, \n",
      "Training Acc: 0.87593, Validation Acc: 0.76245\n",
      "Epoch: 268, Training Loss*: 5.42728, Validation Loss*: 10.23521, \n",
      "Training Acc: 0.87060, Validation Acc: 0.75960\n",
      "Epoch: 269, Training Loss*: 5.33602, Validation Loss*: 10.48463, \n",
      "Training Acc: 0.87273, Validation Acc: 0.76387\n",
      "Epoch: 270, Training Loss*: 5.36360, Validation Loss*: 10.44229, \n",
      "Training Acc: 0.87522, Validation Acc: 0.76245\n",
      "Epoch: 271, Training Loss*: 5.33904, Validation Loss*: 10.25218, \n",
      "Training Acc: 0.87984, Validation Acc: 0.75960\n",
      "Epoch: 272, Training Loss*: 5.28150, Validation Loss*: 10.52117, \n",
      "Training Acc: 0.87771, Validation Acc: 0.76102\n",
      "Epoch: 273, Training Loss*: 5.24794, Validation Loss*: 10.42313, \n",
      "Training Acc: 0.87700, Validation Acc: 0.76245\n",
      "Epoch: 274, Training Loss*: 5.24622, Validation Loss*: 10.47422, \n",
      "Training Acc: 0.87842, Validation Acc: 0.75818\n",
      "Epoch: 275, Training Loss*: 5.38817, Validation Loss*: 10.60408, \n",
      "Training Acc: 0.87025, Validation Acc: 0.76102\n",
      "Epoch: 276, Training Loss*: 5.32535, Validation Loss*: 10.52764, \n",
      "Training Acc: 0.88020, Validation Acc: 0.76529\n",
      "Epoch: 277, Training Loss*: 5.17000, Validation Loss*: 10.59793, \n",
      "Training Acc: 0.88055, Validation Acc: 0.76102\n",
      "Epoch: 278, Training Loss*: 5.16369, Validation Loss*: 10.48391, \n",
      "Training Acc: 0.88162, Validation Acc: 0.75960\n",
      "Epoch: 279, Training Loss*: 5.27304, Validation Loss*: 10.48064, \n",
      "Training Acc: 0.87487, Validation Acc: 0.76102\n",
      "Epoch: 280, Training Loss*: 5.16117, Validation Loss*: 10.57064, \n",
      "Training Acc: 0.88446, Validation Acc: 0.76245\n",
      "Epoch: 281, Training Loss*: 5.20517, Validation Loss*: 10.68382, \n",
      "Training Acc: 0.87771, Validation Acc: 0.76102\n",
      "Epoch: 282, Training Loss*: 5.22465, Validation Loss*: 10.50504, \n",
      "Training Acc: 0.87807, Validation Acc: 0.76529\n",
      "Epoch: 283, Training Loss*: 5.20078, Validation Loss*: 10.56666, \n",
      "Training Acc: 0.87913, Validation Acc: 0.75818\n",
      "Epoch: 284, Training Loss*: 5.15447, Validation Loss*: 10.63941, \n",
      "Training Acc: 0.87736, Validation Acc: 0.76245\n",
      "Epoch: 285, Training Loss*: 5.09262, Validation Loss*: 10.73697, \n",
      "Training Acc: 0.88624, Validation Acc: 0.76245\n",
      "Epoch: 286, Training Loss*: 5.07035, Validation Loss*: 10.66479, \n",
      "Training Acc: 0.87593, Validation Acc: 0.75818\n",
      "Epoch: 287, Training Loss*: 5.17473, Validation Loss*: 10.74983, \n",
      "Training Acc: 0.88269, Validation Acc: 0.75960\n",
      "Epoch: 288, Training Loss*: 4.93567, Validation Loss*: 10.68752, \n",
      "Training Acc: 0.88802, Validation Acc: 0.75960\n",
      "Epoch: 289, Training Loss*: 5.06022, Validation Loss*: 10.73591, \n",
      "Training Acc: 0.88055, Validation Acc: 0.75818\n",
      "Epoch: 290, Training Loss*: 4.98681, Validation Loss*: 10.62875, \n",
      "Training Acc: 0.88198, Validation Acc: 0.75533\n",
      "Epoch: 291, Training Loss*: 5.06685, Validation Loss*: 10.87287, \n",
      "Training Acc: 0.88198, Validation Acc: 0.75676\n",
      "Epoch: 292, Training Loss*: 4.97193, Validation Loss*: 10.89726, \n",
      "Training Acc: 0.88589, Validation Acc: 0.75533\n",
      "Epoch: 293, Training Loss*: 5.06191, Validation Loss*: 10.85505, \n",
      "Training Acc: 0.88127, Validation Acc: 0.75676\n",
      "Epoch: 294, Training Loss*: 5.05707, Validation Loss*: 10.72013, \n",
      "Training Acc: 0.88553, Validation Acc: 0.75391\n",
      "Epoch: 295, Training Loss*: 4.99880, Validation Loss*: 10.83703, \n",
      "Training Acc: 0.88304, Validation Acc: 0.75676\n",
      "Epoch: 296, Training Loss*: 5.14234, Validation Loss*: 10.81616, \n",
      "Training Acc: 0.88162, Validation Acc: 0.75391\n",
      "Epoch: 297, Training Loss*: 4.88282, Validation Loss*: 10.66742, \n",
      "Training Acc: 0.88375, Validation Acc: 0.75391\n",
      "Epoch: 298, Training Loss*: 5.01263, Validation Loss*: 10.96964, \n",
      "Training Acc: 0.88127, Validation Acc: 0.75533\n",
      "Epoch: 299, Training Loss*: 5.01022, Validation Loss*: 10.90177, \n",
      "Training Acc: 0.88553, Validation Acc: 0.75818\n",
      "Epoch: 300, Training Loss*: 4.86607, Validation Loss*: 10.71046, \n",
      "Training Acc: 0.89193, Validation Acc: 0.75533\n",
      "\n"
     ]
    }
   ],
   "source": [
    "set_seed_everywhere(random_seed, USE_GPU)\n",
    "train_losses, val_losses, train_acc, val_acc = train_loop(\n",
    "    train_iter, val_iter, train_data, valid_data, \n",
    "    model, opt, scheduler, criterion, epochs, early_stopping\n",
    ")"
   ]
  },
  {
   "cell_type": "code",
   "execution_count": 0,
   "metadata": {
    "colab": {
     "base_uri": "https://localhost:8080/",
     "height": 578
    },
    "colab_type": "code",
    "id": "FDLoDnfWt00g",
    "outputId": "16ba023a-d085-4633-bf5c-611f3911216e"
   },
   "outputs": [
    {
     "data": {
      "image/png": "[encoded data removed]",
      "text/plain": [
       "<Figure size 1152x648 with 1 Axes>"
      ]
     },
     "metadata": {
      "needs_background": "light",
      "tags": []
     },
     "output_type": "display_data"
    }
   ],
   "source": [
    "plt.figure(figsize=(16, 9))\n",
    "finished_epochs = len(train_losses)\n",
    "plt.plot(np.arange(finished_epochs), train_losses, label='Train loss')\n",
    "plt.plot(np.arange(finished_epochs), val_losses, label='Validation loss')\n",
    "plt.xlabel('epoch')\n",
    "plt.ylabel('cross entropy loss')\n",
    "plt.title('Кривая обучения')\n",
    "plt.legend()\n",
    "plt.show()"
   ]
  },
  {
   "cell_type": "code",
   "execution_count": 0,
   "metadata": {
    "colab": {
     "base_uri": "https://localhost:8080/",
     "height": 578
    },
    "colab_type": "code",
    "id": "s58_lzjtVKaf",
    "outputId": "086588db-a8a0-418c-b51e-a4d6f44c7e67"
   },
   "outputs": [
    {
     "data": {
      "image/png": "[encoded data removed]",
      "text/plain": [
       "<Figure size 1152x648 with 1 Axes>"
      ]
     },
     "metadata": {
      "needs_background": "light",
      "tags": []
     },
     "output_type": "display_data"
    }
   ],
   "source": [
    "plt.figure(figsize=(16, 9))\n",
    "finished_epochs = len(train_losses)\n",
    "plt.plot(np.arange(finished_epochs), train_acc, label='Train accuracy')\n",
    "plt.plot(np.arange(finished_epochs), val_acc, label='Validation accuracy')\n",
    "plt.xlabel('epoch')\n",
    "plt.ylabel('accuracy')\n",
    "plt.title('Кривая обучения')\n",
    "plt.legend()\n",
    "plt.show()"
   ]
  },
  {
   "cell_type": "markdown",
   "metadata": {
    "colab_type": "text",
    "id": "7Fz15rTA2JpM"
   },
   "source": [
    "Измерим качество полученной модели."
   ]
  },
  {
   "cell_type": "code",
   "execution_count": 0,
   "metadata": {
    "colab": {
     "base_uri": "https://localhost:8080/",
     "height": 34
    },
    "colab_type": "code",
    "id": "IBLOT51l16Xy",
    "outputId": "2bfea2b8-42cb-4405-b347-7cf78028e6dc"
   },
   "outputs": [
    {
     "data": {
      "text/plain": [
       "<All keys matched successfully>"
      ]
     },
     "execution_count": 369,
     "metadata": {
      "tags": []
     },
     "output_type": "execute_result"
    }
   ],
   "source": [
    "model.load_state_dict(torch.load(path_save))"
   ]
  },
  {
   "cell_type": "code",
   "execution_count": 0,
   "metadata": {
    "colab": {},
    "colab_type": "code",
    "id": "4d9A9R9X26Y2"
   },
   "outputs": [],
   "source": [
    "model.eval()\n",
    "\n",
    "all_preds = []\n",
    "all_answers = []\n",
    "with torch.no_grad():\n",
    "    for batch in test_iter:\n",
    "\n",
    "        texts = batch.text.to(device=device)\n",
    "        aspects = batch.aspect.to(device=device)\n",
    "        sentiments = batch.sentiment.to(device=device)\n",
    "\n",
    "        preds_scores, _ = model(texts, aspects)\n",
    "        preds = torch.max(preds_scores, dim=-1)[1]\n",
    "        all_preds += preds.tolist()\n",
    "        all_answers += sentiments.tolist()\n",
    "\n",
    "all_preds = np.array(all_preds)\n",
    "all_answers = np.array(all_answers)"
   ]
  },
  {
   "cell_type": "code",
   "execution_count": 0,
   "metadata": {
    "colab": {
     "base_uri": "https://localhost:8080/",
     "height": 34
    },
    "colab_type": "code",
    "id": "5jwD-spq3k1I",
    "outputId": "f01c2c84-4754-4254-dd72-5f6401ffaa9c"
   },
   "outputs": [
    {
     "name": "stdout",
     "output_type": "stream",
     "text": [
      "Accuracy: 0.81912\n"
     ]
    }
   ],
   "source": [
    "accuracy = accuracy_score(all_preds, all_answers)\n",
    "\n",
    "print(f'Accuracy: {accuracy:.5f}')"
   ]
  },
  {
   "cell_type": "markdown",
   "metadata": {
    "colab_type": "text",
    "id": "loI8yuPh9WZ-"
   },
   "source": [
    "### Какие были эксперименты\n",
    "\n",
    "1. Были испробованы новые функции активации: Swish, Mish. Нельзя сказать, что результаты значимо выросли (чтобы это точно установить надо проводить статистическую проверку)."
   ]
  }
 ],
 "metadata": {
  "accelerator": "GPU",
  "colab": {
   "collapsed_sections": [],
   "name": "3-db-atae_lstm.ipynb",
   "provenance": [],
   "toc_visible": true
  },
  "kernelspec": {
   "display_name": "Python 3",
   "language": "python",
   "name": "python3"
  },
  "language_info": {
   "codemirror_mode": {
    "name": "ipython",
    "version": 3
   },
   "file_extension": ".py",
   "mimetype": "text/x-python",
   "name": "python",
   "nbconvert_exporter": "python",
   "pygments_lexer": "ipython3",
   "version": "3.7.6"
  },
  "widgets": {
   "application/vnd.jupyter.widget-state+json": {
    "3c66d5c1208947e58e881f65310a6ba1": {
     "model_module": "@jupyter-widgets/controls",
     "model_name": "HBoxModel",
     "state": {
      "_dom_classes": [],
      "_model_module": "@jupyter-widgets/controls",
      "_model_module_version": "1.5.0",
      "_model_name": "HBoxModel",
      "_view_count": null,
      "_view_module": "@jupyter-widgets/controls",
      "_view_module_version": "1.5.0",
      "_view_name": "HBoxView",
      "box_style": "",
      "children": [
       "IPY_MODEL_67dba8b999664abc97488afbfc85e162",
       "IPY_MODEL_d6445651842049ff9291335b0cd0b5b3"
      ],
      "layout": "IPY_MODEL_4b85312832cd4747bee8018ee2f44aa6"
     }
    },
    "4201ee34904a439e88e46a09f53f21b2": {
     "model_module": "@jupyter-widgets/controls",
     "model_name": "DescriptionStyleModel",
     "state": {
      "_model_module": "@jupyter-widgets/controls",
      "_model_module_version": "1.5.0",
      "_model_name": "DescriptionStyleModel",
      "_view_count": null,
      "_view_module": "@jupyter-widgets/base",
      "_view_module_version": "1.2.0",
      "_view_name": "StyleView",
      "description_width": ""
     }
    },
    "4b85312832cd4747bee8018ee2f44aa6": {
     "model_module": "@jupyter-widgets/base",
     "model_name": "LayoutModel",
     "state": {
      "_model_module": "@jupyter-widgets/base",
      "_model_module_version": "1.2.0",
      "_model_name": "LayoutModel",
      "_view_count": null,
      "_view_module": "@jupyter-widgets/base",
      "_view_module_version": "1.2.0",
      "_view_name": "LayoutView",
      "align_content": null,
      "align_items": null,
      "align_self": null,
      "border": null,
      "bottom": null,
      "display": null,
      "flex": null,
      "flex_flow": null,
      "grid_area": null,
      "grid_auto_columns": null,
      "grid_auto_flow": null,
      "grid_auto_rows": null,
      "grid_column": null,
      "grid_gap": null,
      "grid_row": null,
      "grid_template_areas": null,
      "grid_template_columns": null,
      "grid_template_rows": null,
      "height": null,
      "justify_content": null,
      "justify_items": null,
      "left": null,
      "margin": null,
      "max_height": null,
      "max_width": null,
      "min_height": null,
      "min_width": null,
      "object_fit": null,
      "object_position": null,
      "order": null,
      "overflow": null,
      "overflow_x": null,
      "overflow_y": null,
      "padding": null,
      "right": null,
      "top": null,
      "visibility": null,
      "width": null
     }
    },
    "621adc9663864125ae0e22e21d609bf3": {
     "model_module": "@jupyter-widgets/base",
     "model_name": "LayoutModel",
     "state": {
      "_model_module": "@jupyter-widgets/base",
      "_model_module_version": "1.2.0",
      "_model_name": "LayoutModel",
      "_view_count": null,
      "_view_module": "@jupyter-widgets/base",
      "_view_module_version": "1.2.0",
      "_view_name": "LayoutView",
      "align_content": null,
      "align_items": null,
      "align_self": null,
      "border": null,
      "bottom": null,
      "display": null,
      "flex": null,
      "flex_flow": null,
      "grid_area": null,
      "grid_auto_columns": null,
      "grid_auto_flow": null,
      "grid_auto_rows": null,
      "grid_column": null,
      "grid_gap": null,
      "grid_row": null,
      "grid_template_areas": null,
      "grid_template_columns": null,
      "grid_template_rows": null,
      "height": null,
      "justify_content": null,
      "justify_items": null,
      "left": null,
      "margin": null,
      "max_height": null,
      "max_width": null,
      "min_height": null,
      "min_width": null,
      "object_fit": null,
      "object_position": null,
      "order": null,
      "overflow": null,
      "overflow_x": null,
      "overflow_y": null,
      "padding": null,
      "right": null,
      "top": null,
      "visibility": null,
      "width": null
     }
    },
    "67dba8b999664abc97488afbfc85e162": {
     "model_module": "@jupyter-widgets/controls",
     "model_name": "IntProgressModel",
     "state": {
      "_dom_classes": [],
      "_model_module": "@jupyter-widgets/controls",
      "_model_module_version": "1.5.0",
      "_model_name": "IntProgressModel",
      "_view_count": null,
      "_view_module": "@jupyter-widgets/controls",
      "_view_module_version": "1.5.0",
      "_view_name": "ProgressView",
      "bar_style": "success",
      "description": "100%",
      "description_tooltip": null,
      "layout": "IPY_MODEL_c3f7c72b62ee43d5b1cb7255d5e4dd3a",
      "max": 300,
      "min": 0,
      "orientation": "horizontal",
      "style": "IPY_MODEL_a4f8c8907d2f44f99f440f52f7cbd401",
      "value": 300
     }
    },
    "a4f8c8907d2f44f99f440f52f7cbd401": {
     "model_module": "@jupyter-widgets/controls",
     "model_name": "ProgressStyleModel",
     "state": {
      "_model_module": "@jupyter-widgets/controls",
      "_model_module_version": "1.5.0",
      "_model_name": "ProgressStyleModel",
      "_view_count": null,
      "_view_module": "@jupyter-widgets/base",
      "_view_module_version": "1.2.0",
      "_view_name": "StyleView",
      "bar_color": null,
      "description_width": "initial"
     }
    },
    "c3f7c72b62ee43d5b1cb7255d5e4dd3a": {
     "model_module": "@jupyter-widgets/base",
     "model_name": "LayoutModel",
     "state": {
      "_model_module": "@jupyter-widgets/base",
      "_model_module_version": "1.2.0",
      "_model_name": "LayoutModel",
      "_view_count": null,
      "_view_module": "@jupyter-widgets/base",
      "_view_module_version": "1.2.0",
      "_view_name": "LayoutView",
      "align_content": null,
      "align_items": null,
      "align_self": null,
      "border": null,
      "bottom": null,
      "display": null,
      "flex": null,
      "flex_flow": null,
      "grid_area": null,
      "grid_auto_columns": null,
      "grid_auto_flow": null,
      "grid_auto_rows": null,
      "grid_column": null,
      "grid_gap": null,
      "grid_row": null,
      "grid_template_areas": null,
      "grid_template_columns": null,
      "grid_template_rows": null,
      "height": null,
      "justify_content": null,
      "justify_items": null,
      "left": null,
      "margin": null,
      "max_height": null,
      "max_width": null,
      "min_height": null,
      "min_width": null,
      "object_fit": null,
      "object_position": null,
      "order": null,
      "overflow": null,
      "overflow_x": null,
      "overflow_y": null,
      "padding": null,
      "right": null,
      "top": null,
      "visibility": null,
      "width": null
     }
    },
    "d6445651842049ff9291335b0cd0b5b3": {
     "model_module": "@jupyter-widgets/controls",
     "model_name": "HTMLModel",
     "state": {
      "_dom_classes": [],
      "_model_module": "@jupyter-widgets/controls",
      "_model_module_version": "1.5.0",
      "_model_name": "HTMLModel",
      "_view_count": null,
      "_view_module": "@jupyter-widgets/controls",
      "_view_module_version": "1.5.0",
      "_view_name": "HTMLView",
      "description": "",
      "description_tooltip": null,
      "layout": "IPY_MODEL_621adc9663864125ae0e22e21d609bf3",
      "placeholder": "​",
      "style": "IPY_MODEL_4201ee34904a439e88e46a09f53f21b2",
      "value": " 300/300 [02:06&lt;00:00,  2.37it/s]"
     }
    }
   }
  }
 },
 "nbformat": 4,
 "nbformat_minor": 1
}
