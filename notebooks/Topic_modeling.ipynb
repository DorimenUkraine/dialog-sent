{
  "nbformat": 4,
  "nbformat_minor": 0,
  "metadata": {
    "colab": {
      "name": "Topic modeling.ipynb",
      "provenance": [],
      "collapsed_sections": [
        "5tmmCoAjtJ4F",
        "pFbsbRF0tDrQ",
        "Jn9XOGXNMEyu",
        "Vv7Om8t0gx3i",
        "XFUicKXl4d4z",
        "PBfR6pYjqKbJ"
      ]
    },
    "kernelspec": {
      "name": "python3",
      "display_name": "Python 3"
    }
  },
  "cells": [
    {
      "cell_type": "markdown",
      "metadata": {
        "id": "5tmmCoAjtJ4F",
        "colab_type": "text"
      },
      "source": [
        "# Настройка"
      ]
    },
    {
      "cell_type": "code",
      "metadata": {
        "id": "RtmCKkXDO9B3",
        "colab_type": "code",
        "outputId": "3a05cb63-55b7-4204-f250-e0e9c943da40",
        "colab": {
          "base_uri": "https://localhost:8080/",
          "height": 51
        }
      },
      "source": [
        "!pip install -q bigartm10\n",
        "!pip install -q pymorphy2"
      ],
      "execution_count": 0,
      "outputs": [
        {
          "output_type": "stream",
          "text": [
            "\u001b[K     |████████████████████████████████| 51kB 1.7MB/s \n",
            "\u001b[K     |████████████████████████████████| 7.1MB 8.2MB/s \n",
            "\u001b[?25h"
          ],
          "name": "stdout"
        }
      ]
    },
    {
      "cell_type": "code",
      "metadata": {
        "id": "4e23Tfs6P-we",
        "colab_type": "code",
        "colab": {}
      },
      "source": [
        "import matplotlib.pyplot as plt\n",
        "import pandas as pd\n",
        "import numpy as np\n",
        "import pickle\n",
        "import artm\n",
        "import nltk\n",
        "import collections\n",
        "import matplotlib.pyplot as plt\n",
        "from bs4 import BeautifulSoup\n",
        "import re\n",
        "import pymorphy2\n",
        "morph = pymorphy2.MorphAnalyzer()"
      ],
      "execution_count": 0,
      "outputs": []
    },
    {
      "cell_type": "code",
      "metadata": {
        "id": "dyZfD1ueQAMY",
        "colab_type": "code",
        "outputId": "c0f40e78-f570-49de-dcac-7d3d02310b49",
        "colab": {
          "base_uri": "https://localhost:8080/",
          "height": 122
        }
      },
      "source": [
        "from google.colab import drive\n",
        "drive.mount('/content/drive/')\n",
        "gDrivePath = \"/content/drive/My Drive/DL NLP/\""
      ],
      "execution_count": 0,
      "outputs": [
        {
          "output_type": "stream",
          "text": [
            "Go to this URL in a browser: https://accounts.google.com/o/oauth2/auth?client_id=947318989803-6bn6qk8qdgf4n4g3pfee6491hc0brc4i.apps.googleusercontent.com&redirect_uri=urn%3aietf%3awg%3aoauth%3a2.0%3aoob&response_type=code&scope=email%20https%3a%2f%2fwww.googleapis.com%2fauth%2fdocs.test%20https%3a%2f%2fwww.googleapis.com%2fauth%2fdrive%20https%3a%2f%2fwww.googleapis.com%2fauth%2fdrive.photos.readonly%20https%3a%2f%2fwww.googleapis.com%2fauth%2fpeopleapi.readonly\n",
            "\n",
            "Enter your authorization code:\n",
            "··········\n",
            "Mounted at /content/drive/\n"
          ],
          "name": "stdout"
        }
      ]
    },
    {
      "cell_type": "code",
      "metadata": {
        "id": "wBY2Mg-lQBvW",
        "colab_type": "code",
        "outputId": "090bb954-840b-4052-a0be-047039797bc8",
        "colab": {
          "base_uri": "https://localhost:8080/",
          "height": 411
        }
      },
      "source": [
        "name = 'bank_train.xml'\n",
        "df = pd.DataFrame()\n",
        "rows = []\n",
        "with open(gDrivePath+name, \"r\") as f:\n",
        "    \n",
        "    contents = f.read()\n",
        " \n",
        "    soup = BeautifulSoup(contents, 'xml')\n",
        "    for row in soup.find_all('table')[1:]:\n",
        "        tag = {}\n",
        "        for elem in row.find_all('column'):\n",
        "            tag[elem['name']] = elem.string\n",
        "        \n",
        "        tag['links'] = re.findall(r'http\\S+', tag['text'])\n",
        "        tag['tags'] = re.findall(r'@\\w+', tag['text'])\n",
        "        tag['hash'] = re.findall(r'#\\w+', tag['text'])\n",
        "        t = re.sub(r'#\\S+|@\\w+|http\\S+\\s*|RT|cc|\\d', '', tag['text'])\n",
        "        t = re.sub(r'[%s]' % re.escape(r\"\"\"!\"#$%&'()*+,-./:;<=>?@[\\]^_«»“”’*…/_.\\\\`{|}~\"\"\"), '', t)\n",
        "        tag['text'] = re.sub(r'\\s+', ' ', t).lower()\n",
        "        rows.append(tag)\n",
        "df = pd.DataFrame(rows)\n",
        "df.head()"
      ],
      "execution_count": 0,
      "outputs": [
        {
          "output_type": "execute_result",
          "data": {
            "text/html": [
              "<div>\n",
              "<style scoped>\n",
              "    .dataframe tbody tr th:only-of-type {\n",
              "        vertical-align: middle;\n",
              "    }\n",
              "\n",
              "    .dataframe tbody tr th {\n",
              "        vertical-align: top;\n",
              "    }\n",
              "\n",
              "    .dataframe thead th {\n",
              "        text-align: right;\n",
              "    }\n",
              "</style>\n",
              "<table border=\"1\" class=\"dataframe\">\n",
              "  <thead>\n",
              "    <tr style=\"text-align: right;\">\n",
              "      <th></th>\n",
              "      <th>id</th>\n",
              "      <th>twitid</th>\n",
              "      <th>date</th>\n",
              "      <th>text</th>\n",
              "      <th>sberbank</th>\n",
              "      <th>vtb</th>\n",
              "      <th>gazprom</th>\n",
              "      <th>alfabank</th>\n",
              "      <th>bankmoskvy</th>\n",
              "      <th>raiffeisen</th>\n",
              "      <th>uralsib</th>\n",
              "      <th>rshb</th>\n",
              "      <th>links</th>\n",
              "      <th>tags</th>\n",
              "      <th>hash</th>\n",
              "    </tr>\n",
              "  </thead>\n",
              "  <tbody>\n",
              "    <tr>\n",
              "      <th>0</th>\n",
              "      <td>1</td>\n",
              "      <td>492367586156630000</td>\n",
              "      <td>1406224554</td>\n",
              "      <td>взять кредит тюмень альфа банк</td>\n",
              "      <td>NULL</td>\n",
              "      <td>NULL</td>\n",
              "      <td>NULL</td>\n",
              "      <td>0</td>\n",
              "      <td>NULL</td>\n",
              "      <td>NULL</td>\n",
              "      <td>NULL</td>\n",
              "      <td>NULL</td>\n",
              "      <td>[http://t.co/YEVHuvVGA1]</td>\n",
              "      <td>[]</td>\n",
              "      <td>[]</td>\n",
              "    </tr>\n",
              "    <tr>\n",
              "      <th>1</th>\n",
              "      <td>2</td>\n",
              "      <td>492368160923070000</td>\n",
              "      <td>1406224691</td>\n",
              "      <td>мнение о кредитной карте втб</td>\n",
              "      <td>NULL</td>\n",
              "      <td>0</td>\n",
              "      <td>NULL</td>\n",
              "      <td>NULL</td>\n",
              "      <td>NULL</td>\n",
              "      <td>NULL</td>\n",
              "      <td>NULL</td>\n",
              "      <td>NULL</td>\n",
              "      <td>[http://t.co/SBJTcsqjCg]</td>\n",
              "      <td>[]</td>\n",
              "      <td>[]</td>\n",
              "    </tr>\n",
              "    <tr>\n",
              "      <th>2</th>\n",
              "      <td>3</td>\n",
              "      <td>492368608346260000</td>\n",
              "      <td>1406224798</td>\n",
              "      <td>райффайзенбанк снижение ключевой ставки цб на ...</td>\n",
              "      <td>NULL</td>\n",
              "      <td>NULL</td>\n",
              "      <td>NULL</td>\n",
              "      <td>NULL</td>\n",
              "      <td>NULL</td>\n",
              "      <td>0</td>\n",
              "      <td>NULL</td>\n",
              "      <td>NULL</td>\n",
              "      <td>[]</td>\n",
              "      <td>[]</td>\n",
              "      <td>[]</td>\n",
              "    </tr>\n",
              "    <tr>\n",
              "      <th>3</th>\n",
              "      <td>4</td>\n",
              "      <td>492371181946030000</td>\n",
              "      <td>1406225412</td>\n",
              "      <td>современное состояние кредитного поведения в р...</td>\n",
              "      <td>0</td>\n",
              "      <td>NULL</td>\n",
              "      <td>NULL</td>\n",
              "      <td>NULL</td>\n",
              "      <td>NULL</td>\n",
              "      <td>NULL</td>\n",
              "      <td>NULL</td>\n",
              "      <td>NULL</td>\n",
              "      <td>[http://t.co/EXAX01uR0h]</td>\n",
              "      <td>[]</td>\n",
              "      <td>[]</td>\n",
              "    </tr>\n",
              "    <tr>\n",
              "      <th>4</th>\n",
              "      <td>5</td>\n",
              "      <td>492374836564750000</td>\n",
              "      <td>1406226283</td>\n",
              "      <td>главное чтоб банки сбер и втб</td>\n",
              "      <td>1</td>\n",
              "      <td>1</td>\n",
              "      <td>NULL</td>\n",
              "      <td>NULL</td>\n",
              "      <td>NULL</td>\n",
              "      <td>NULL</td>\n",
              "      <td>NULL</td>\n",
              "      <td>NULL</td>\n",
              "      <td>[]</td>\n",
              "      <td>[@sawik_shuster, @YevhenS]</td>\n",
              "      <td>[]</td>\n",
              "    </tr>\n",
              "  </tbody>\n",
              "</table>\n",
              "</div>"
            ],
            "text/plain": [
              "  id              twitid  ...                        tags hash\n",
              "0  1  492367586156630000  ...                          []   []\n",
              "1  2  492368160923070000  ...                          []   []\n",
              "2  3  492368608346260000  ...                          []   []\n",
              "3  4  492371181946030000  ...                          []   []\n",
              "4  5  492374836564750000  ...  [@sawik_shuster, @YevhenS]   []\n",
              "\n",
              "[5 rows x 15 columns]"
            ]
          },
          "metadata": {
            "tags": []
          },
          "execution_count": 80
        }
      ]
    },
    {
      "cell_type": "markdown",
      "metadata": {
        "id": "pFbsbRF0tDrQ",
        "colab_type": "text"
      },
      "source": [
        "# Просмотр данных"
      ]
    },
    {
      "cell_type": "code",
      "metadata": {
        "id": "w0JXB4Pa7du0",
        "colab_type": "code",
        "outputId": "8e44f221-3d06-476d-bef7-a9393fc4e519",
        "colab": {
          "base_uri": "https://localhost:8080/",
          "height": 136
        }
      },
      "source": [
        "df.sberbank.value_counts()"
      ],
      "execution_count": 0,
      "outputs": [
        {
          "output_type": "execute_result",
          "data": {
            "text/plain": [
              "NULL    2876\n",
              "0       1231\n",
              "-1       589\n",
              "1        218\n",
              "--        68\n",
              "+-        18\n",
              "Name: sberbank, dtype: int64"
            ]
          },
          "metadata": {
            "tags": []
          },
          "execution_count": 92
        }
      ]
    },
    {
      "cell_type": "code",
      "metadata": {
        "id": "W-jdHfpH-GBT",
        "colab_type": "code",
        "outputId": "9df9c8a3-6374-49c6-f556-6a1f888e9a1c",
        "colab": {
          "base_uri": "https://localhost:8080/",
          "height": 136
        }
      },
      "source": [
        "df[df['vtb'] == '--']['text'].values"
      ],
      "execution_count": 0,
      "outputs": [
        {
          "output_type": "execute_result",
          "data": {
            "text/plain": [
              "array([' Оросын ВТБ Банк Москвы Россельхоз банкны эсрэг мн хориг нэмж тогтоолоо ',\n",
              "       ' Оросын ВТБ Банк Москвы Россельхоз банкны эсрэг мн хориг нэмж тогтоолоо ',\n",
              "       'Структура «Мечела» просит приостановить дело по иску ВТБ 24 на 19 млрд руб',\n",
              "       'Банк Москвы рассматривает возможность присоединения своей дочки к украинскому банку ВТБ ',\n",
              "       'Уже не первый раз слышу негатив про райфазен Они нормальный были а потом часть ушли в ВТБ 24 и они испортились Ужасно конечно',\n",
              "       'Правительство рассматривает возможность продления моратория на накопительные пенсионные взносы ',\n",
              "       'банк втб 24 взять кредит с плохой графикой '], dtype=object)"
            ]
          },
          "metadata": {
            "tags": []
          },
          "execution_count": 56
        }
      ]
    },
    {
      "cell_type": "code",
      "metadata": {
        "id": "_kJcLoICfG7l",
        "colab_type": "code",
        "outputId": "406f4cf6-e19a-4035-ccdc-280fc909780b",
        "colab": {
          "base_uri": "https://localhost:8080/",
          "height": 49
        }
      },
      "source": [
        "df[df['tags'] == '']#['tags'].values"
      ],
      "execution_count": 0,
      "outputs": [
        {
          "output_type": "execute_result",
          "data": {
            "text/html": [
              "<div>\n",
              "<style scoped>\n",
              "    .dataframe tbody tr th:only-of-type {\n",
              "        vertical-align: middle;\n",
              "    }\n",
              "\n",
              "    .dataframe tbody tr th {\n",
              "        vertical-align: top;\n",
              "    }\n",
              "\n",
              "    .dataframe thead th {\n",
              "        text-align: right;\n",
              "    }\n",
              "</style>\n",
              "<table border=\"1\" class=\"dataframe\">\n",
              "  <thead>\n",
              "    <tr style=\"text-align: right;\">\n",
              "      <th></th>\n",
              "      <th>id</th>\n",
              "      <th>twitid</th>\n",
              "      <th>date</th>\n",
              "      <th>text</th>\n",
              "      <th>sberbank</th>\n",
              "      <th>vtb</th>\n",
              "      <th>gazprom</th>\n",
              "      <th>alfabank</th>\n",
              "      <th>bankmoskvy</th>\n",
              "      <th>raiffeisen</th>\n",
              "      <th>uralsib</th>\n",
              "      <th>rshb</th>\n",
              "      <th>links</th>\n",
              "      <th>tags</th>\n",
              "      <th>hash</th>\n",
              "    </tr>\n",
              "  </thead>\n",
              "  <tbody>\n",
              "  </tbody>\n",
              "</table>\n",
              "</div>"
            ],
            "text/plain": [
              "Empty DataFrame\n",
              "Columns: [id, twitid, date, text, sberbank, vtb, gazprom, alfabank, bankmoskvy, raiffeisen, uralsib, rshb, links, tags, hash]\n",
              "Index: []"
            ]
          },
          "metadata": {
            "tags": []
          },
          "execution_count": 90
        }
      ]
    },
    {
      "cell_type": "code",
      "metadata": {
        "id": "ADoKFXW59o6t",
        "colab_type": "code",
        "outputId": "08271c83-a8bf-4ff8-acba-57d600bed6a8",
        "colab": {
          "base_uri": "https://localhost:8080/",
          "height": 1000
        }
      },
      "source": [
        "banks = ['sberbank', 'vtb', 'gazprom', 'alfabank', 'bankmoskvy', 'raiffeisen', 'uralsib', 'rshb']\n",
        "t, b = 0, 0\n",
        "for bank in banks:\n",
        "    df[bank].hist()\n",
        "    plt.title(bank)\n",
        "    t, b =plt.xlim()\n",
        "    plt.show()"
      ],
      "execution_count": 0,
      "outputs": [
        {
          "output_type": "display_data",
          "data": {
            "image/png": "[encoded data removed]",
            "text/plain": [
              "<Figure size 432x288 with 1 Axes>"
            ]
          },
          "metadata": {
            "tags": [],
            "needs_background": "light"
          }
        },
        {
          "output_type": "display_data",
          "data": {
            "image/png": "[encoded data removed]",
            "text/plain": [
              "<Figure size 432x288 with 1 Axes>"
            ]
          },
          "metadata": {
            "tags": [],
            "needs_background": "light"
          }
        },
        {
          "output_type": "display_data",
          "data": {
            "image/png": "[encoded data removed]",
            "text/plain": [
              "<Figure size 432x288 with 1 Axes>"
            ]
          },
          "metadata": {
            "tags": [],
            "needs_background": "light"
          }
        },
        {
          "output_type": "display_data",
          "data": {
            "image/png": "[encoded data removed]",
            "text/plain": [
              "<Figure size 432x288 with 1 Axes>"
            ]
          },
          "metadata": {
            "tags": [],
            "needs_background": "light"
          }
        },
        {
          "output_type": "display_data",
          "data": {
            "image/png": "[encoded data removed]",
            "text/plain": [
              "<Figure size 432x288 with 1 Axes>"
            ]
          },
          "metadata": {
            "tags": [],
            "needs_background": "light"
          }
        },
        {
          "output_type": "display_data",
          "data": {
            "image/png": "[encoded data removed]",
            "text/plain": [
              "<Figure size 432x288 with 1 Axes>"
            ]
          },
          "metadata": {
            "tags": [],
            "needs_background": "light"
          }
        },
        {
          "output_type": "display_data",
          "data": {
            "image/png": "[encoded data removed]",
            "text/plain": [
              "<Figure size 432x288 with 1 Axes>"
            ]
          },
          "metadata": {
            "tags": [],
            "needs_background": "light"
          }
        },
        {
          "output_type": "display_data",
          "data": {
            "image/png": "[encoded data removed]",
            "text/plain": [
              "<Figure size 432x288 with 1 Axes>"
            ]
          },
          "metadata": {
            "tags": [],
            "needs_background": "light"
          }
        }
      ]
    },
    {
      "cell_type": "markdown",
      "metadata": {
        "id": "Jn9XOGXNMEyu",
        "colab_type": "text"
      },
      "source": [
        "# Text processing"
      ]
    },
    {
      "cell_type": "code",
      "metadata": {
        "id": "2Bkhg6XTQoZS",
        "colab_type": "code",
        "colab": {}
      },
      "source": [
        "def convert(text):\n",
        "    tokens = nltk.tokenize.wordpunct_tokenize(text)\n",
        "    res = ''\n",
        "    for token in tokens:\n",
        "        if len(token) > 2:\n",
        "            token = token.replace(u'ё', u'е')\n",
        "            word = morph.parse(token)[0].normal_form\n",
        "            if len(word) > 0:\n",
        "                if word == 'банка':\n",
        "                    word = 'банк'\n",
        "                res += word + ' '\n",
        "    return res"
      ],
      "execution_count": 0,
      "outputs": []
    },
    {
      "cell_type": "code",
      "metadata": {
        "id": "vt9huGJsZtux",
        "colab_type": "code",
        "colab": {}
      },
      "source": [
        "df.text = df.text.apply(convert)"
      ],
      "execution_count": 0,
      "outputs": []
    },
    {
      "cell_type": "code",
      "metadata": {
        "id": "1E502n5pXuvx",
        "colab_type": "code",
        "outputId": "00d8baa3-7922-4315-da51-45dde35175d1",
        "colab": {
          "base_uri": "https://localhost:8080/",
          "height": 136
        }
      },
      "source": [
        "vw = df.apply(lambda x: str(x['id']) + ' |text ' + x['text'], axis = 1)\n",
        "print(len(vw))\n",
        "vw.head()"
      ],
      "execution_count": 0,
      "outputs": [
        {
          "output_type": "stream",
          "text": [
            "5000\n"
          ],
          "name": "stdout"
        },
        {
          "output_type": "execute_result",
          "data": {
            "text/plain": [
              "0              1 |text взять кредит тюмень альфа банк \n",
              "1                  2 |text мнение кредитный карта втб \n",
              "2    3 |text райффайзенбанк снижение ключевой ставк...\n",
              "3    4 |text современный состояние кредитный поведе...\n",
              "4                  5 |text главный чтоб банк сбер втб \n",
              "dtype: object"
            ]
          },
          "metadata": {
            "tags": []
          },
          "execution_count": 95
        }
      ]
    },
    {
      "cell_type": "code",
      "metadata": {
        "id": "vkFPFuy_gDO1",
        "colab_type": "code",
        "colab": {}
      },
      "source": [
        "with open(gDrivePath + '/vw_bank_train.txt', 'w') as fout:\n",
        "    for line in vw:\n",
        "        fout.write(line + '\\n')"
      ],
      "execution_count": 0,
      "outputs": []
    },
    {
      "cell_type": "markdown",
      "metadata": {
        "id": "Vv7Om8t0gx3i",
        "colab_type": "text"
      },
      "source": [
        "# TM"
      ]
    },
    {
      "cell_type": "code",
      "metadata": {
        "id": "x5LYnsMegxOe",
        "colab_type": "code",
        "colab": {}
      },
      "source": [
        "# batch_vectorizer = artm.BatchVectorizer(data_path=gDrivePath + '/vw_bank_train.txt', data_format='vowpal_wabbit', collection_name='vw_bank_train', target_folder=gDrivePath + '/batches_btr')"
      ],
      "execution_count": 0,
      "outputs": []
    },
    {
      "cell_type": "code",
      "metadata": {
        "id": "29R6uKUQgtJl",
        "colab_type": "code",
        "colab": {}
      },
      "source": [
        "batch_vectorizer = artm.BatchVectorizer(data_path=gDrivePath + '/batches_btr', data_format = 'batches')"
      ],
      "execution_count": 0,
      "outputs": []
    },
    {
      "cell_type": "code",
      "metadata": {
        "id": "b7ho7HVshP51",
        "colab_type": "code",
        "outputId": "e99e8977-1a1c-479b-b9b2-60beac4013d5",
        "colab": {
          "base_uri": "https://localhost:8080/",
          "height": 34
        }
      },
      "source": [
        "dictionary = artm.Dictionary()\n",
        "dictionary.gather(data_path=batch_vectorizer.data_path)\n",
        "dictionary"
      ],
      "execution_count": 0,
      "outputs": [
        {
          "output_type": "execute_result",
          "data": {
            "text/plain": [
              "artm.Dictionary(name=ab54d897-4f2d-4972-b519-17ea03de0a73, num_entries=4096)"
            ]
          },
          "metadata": {
            "tags": []
          },
          "execution_count": 248
        }
      ]
    },
    {
      "cell_type": "code",
      "metadata": {
        "id": "JB7VlSrRhSJY",
        "colab_type": "code",
        "colab": {}
      },
      "source": [
        "def print_topic_top_words(model, metric):\n",
        "    for topic_name in model.topic_names:\n",
        "      print(topic_name + ': '),\n",
        "      try:\n",
        "          print(\", \".join(model.score_tracker[metric].last_tokens[topic_name]))\n",
        "      except:\n",
        "          print(\"Not enough unigrams in a topic\")\n",
        "          print()"
      ],
      "execution_count": 0,
      "outputs": []
    },
    {
      "cell_type": "markdown",
      "metadata": {
        "id": "XFUicKXl4d4z",
        "colab_type": "text"
      },
      "source": [
        "## PLSA"
      ]
    },
    {
      "cell_type": "code",
      "metadata": {
        "id": "QqyrkMBHXYL8",
        "colab_type": "code",
        "colab": {}
      },
      "source": [
        "model_plsa = artm.ARTM(topic_names=['topic_{}'.format(i) for i in range(7)],\n",
        "                       scores=[artm.PerplexityScore(name='PerplexityScore',\n",
        "                                                    dictionary=dictionary)],\n",
        "                       cache_theta=True, reuse_theta=True, theta_columns_naming='title')"
      ],
      "execution_count": 0,
      "outputs": []
    },
    {
      "cell_type": "code",
      "metadata": {
        "id": "tGiZEciBXYKr",
        "colab_type": "code",
        "colab": {}
      },
      "source": [
        "model_plsa.scores.add(artm.SparsityPhiScore(name='SparsityPhiScoreP', class_id='text', eps=1e-3))\n",
        "model_plsa.scores.add(artm.SparsityThetaScore(name='SparsityThetaScoreP', eps=1))\n",
        "model_plsa.scores.add(artm.TopTokensScore(name='TopTokensScoreP', num_tokens=15, class_id='text'))"
      ],
      "execution_count": 0,
      "outputs": []
    },
    {
      "cell_type": "code",
      "metadata": {
        "id": "Nf_kJg79XYJh",
        "colab_type": "code",
        "colab": {}
      },
      "source": [
        "model_plsa.initialize(dictionary=dictionary)"
      ],
      "execution_count": 0,
      "outputs": []
    },
    {
      "cell_type": "code",
      "metadata": {
        "id": "ZsfOhXhzXYCX",
        "colab_type": "code",
        "outputId": "440f3105-8b8a-4b6a-d957-4591ca0e4e71",
        "colab": {
          "base_uri": "https://localhost:8080/",
          "height": 51
        }
      },
      "source": [
        "%%time\n",
        "model_plsa.fit_offline(batch_vectorizer=batch_vectorizer, num_collection_passes=25)"
      ],
      "execution_count": 0,
      "outputs": [
        {
          "output_type": "stream",
          "text": [
            "CPU times: user 3.44 s, sys: 38.1 ms, total: 3.48 s\n",
            "Wall time: 2.25 s\n"
          ],
          "name": "stdout"
        }
      ]
    },
    {
      "cell_type": "code",
      "metadata": {
        "id": "ZNEo-51jiXJX",
        "colab_type": "code",
        "outputId": "b579cde2-8f9c-4625-d3de-f374d9b89c08",
        "colab": {
          "base_uri": "https://localhost:8080/",
          "height": 51
        }
      },
      "source": [
        "print(model_plsa.score_tracker['SparsityPhiScoreP'].last_value)\n",
        "print(model_plsa.score_tracker['SparsityThetaScoreP'].last_value)"
      ],
      "execution_count": 0,
      "outputs": [
        {
          "output_type": "stream",
          "text": [
            "0.9708077311515808\n",
            "0.9593999981880188\n"
          ],
          "name": "stdout"
        }
      ]
    },
    {
      "cell_type": "code",
      "metadata": {
        "id": "-BIsWy5v0lGI",
        "colab_type": "code",
        "outputId": "9c23e037-437a-47bf-d6f0-7f7528cab45c",
        "colab": {
          "base_uri": "https://localhost:8080/",
          "height": 255
        }
      },
      "source": [
        "print_topic_top_words(model_plsa, 'TopTokensScoreP')"
      ],
      "execution_count": 0,
      "outputs": [
        {
          "output_type": "stream",
          "text": [
            "topic_0: \n",
            "сбербанк, втб, газпромбанк, для, мочь, список, сми, россия, санкционный, ипотечный, бизнес, включить, клиент, рынок, быть\n",
            "topic_1: \n",
            "банк, под, попасть, втб, сбербанк, москва, санкция, список, санкционный, новый, сша, российский, евросоюз, виза, дочка\n",
            "topic_2: \n",
            "сбер, сбербанк, весь, что, быть, я, деньга, это, оао, тот, работать, если, программа, один, новость\n",
            "topic_3: \n",
            "втб, россельхозбанк, санкция, банк, сша, москва, против, ввести, газпромбанк, вэб, российский, внешэкономбанк, попросить, это, оск\n",
            "topic_4: \n",
            "кредит, сбербанк, потребительский, россия, онлайн, ставка, заявка, наличный, лицо, кредитование, процент, без, ипотечный, процентный, физический\n",
            "topic_5: \n",
            "карта, сбербанк, кредит, кредитный, взять, как, россельхозбанк, оформить, получить, год, рубль, август, работа, россия, через\n",
            "topic_6: \n",
            "банк, кредит, альфа, москва, взять, автокредит, калькулятор, райффайзный, райффайзенбанк, уралсиб, условие, втб, отзыв, какой, райфайзный\n"
          ],
          "name": "stdout"
        }
      ]
    },
    {
      "cell_type": "code",
      "metadata": {
        "id": "FSo5vK34kxfa",
        "colab_type": "code",
        "outputId": "a06955f6-3dc5-44a5-d72f-f2ecb266a265",
        "colab": {
          "base_uri": "https://localhost:8080/",
          "height": 315
        }
      },
      "source": [
        "F = model_plsa.get_theta()\n",
        "F#.to_csv(gDrivePath+f'/data/plsa_theta.csv')"
      ],
      "execution_count": 0,
      "outputs": [
        {
          "output_type": "execute_result",
          "data": {
            "text/html": [
              "<div>\n",
              "<style scoped>\n",
              "    .dataframe tbody tr th:only-of-type {\n",
              "        vertical-align: middle;\n",
              "    }\n",
              "\n",
              "    .dataframe tbody tr th {\n",
              "        vertical-align: top;\n",
              "    }\n",
              "\n",
              "    .dataframe thead th {\n",
              "        text-align: right;\n",
              "    }\n",
              "</style>\n",
              "<table border=\"1\" class=\"dataframe\">\n",
              "  <thead>\n",
              "    <tr style=\"text-align: right;\">\n",
              "      <th></th>\n",
              "      <th>1</th>\n",
              "      <th>2</th>\n",
              "      <th>3</th>\n",
              "      <th>4</th>\n",
              "      <th>5</th>\n",
              "      <th>6</th>\n",
              "      <th>7</th>\n",
              "      <th>8</th>\n",
              "      <th>9</th>\n",
              "      <th>10</th>\n",
              "      <th>11</th>\n",
              "      <th>12</th>\n",
              "      <th>13</th>\n",
              "      <th>14</th>\n",
              "      <th>15</th>\n",
              "      <th>16</th>\n",
              "      <th>17</th>\n",
              "      <th>18</th>\n",
              "      <th>19</th>\n",
              "      <th>20</th>\n",
              "      <th>21</th>\n",
              "      <th>22</th>\n",
              "      <th>23</th>\n",
              "      <th>24</th>\n",
              "      <th>25</th>\n",
              "      <th>26</th>\n",
              "      <th>27</th>\n",
              "      <th>28</th>\n",
              "      <th>29</th>\n",
              "      <th>30</th>\n",
              "      <th>31</th>\n",
              "      <th>32</th>\n",
              "      <th>33</th>\n",
              "      <th>34</th>\n",
              "      <th>35</th>\n",
              "      <th>36</th>\n",
              "      <th>37</th>\n",
              "      <th>38</th>\n",
              "      <th>39</th>\n",
              "      <th>40</th>\n",
              "      <th>...</th>\n",
              "      <th>4961</th>\n",
              "      <th>4962</th>\n",
              "      <th>4963</th>\n",
              "      <th>4964</th>\n",
              "      <th>4965</th>\n",
              "      <th>4966</th>\n",
              "      <th>4967</th>\n",
              "      <th>4968</th>\n",
              "      <th>4969</th>\n",
              "      <th>4970</th>\n",
              "      <th>4971</th>\n",
              "      <th>4972</th>\n",
              "      <th>4973</th>\n",
              "      <th>4974</th>\n",
              "      <th>4975</th>\n",
              "      <th>4976</th>\n",
              "      <th>4977</th>\n",
              "      <th>4978</th>\n",
              "      <th>4979</th>\n",
              "      <th>4980</th>\n",
              "      <th>4981</th>\n",
              "      <th>4982</th>\n",
              "      <th>4983</th>\n",
              "      <th>4984</th>\n",
              "      <th>4985</th>\n",
              "      <th>4986</th>\n",
              "      <th>4987</th>\n",
              "      <th>4988</th>\n",
              "      <th>4989</th>\n",
              "      <th>4990</th>\n",
              "      <th>4991</th>\n",
              "      <th>4992</th>\n",
              "      <th>4993</th>\n",
              "      <th>4994</th>\n",
              "      <th>4995</th>\n",
              "      <th>4996</th>\n",
              "      <th>4997</th>\n",
              "      <th>4998</th>\n",
              "      <th>4999</th>\n",
              "      <th>5000</th>\n",
              "    </tr>\n",
              "  </thead>\n",
              "  <tbody>\n",
              "    <tr>\n",
              "      <th>topic_0</th>\n",
              "      <td>0.0</td>\n",
              "      <td>0.000000</td>\n",
              "      <td>0.000000</td>\n",
              "      <td>0.000000</td>\n",
              "      <td>0.000000</td>\n",
              "      <td>0.000000</td>\n",
              "      <td>0.000000</td>\n",
              "      <td>0.000000</td>\n",
              "      <td>0.000000</td>\n",
              "      <td>0.00</td>\n",
              "      <td>0.000000</td>\n",
              "      <td>0.000000</td>\n",
              "      <td>0.000000</td>\n",
              "      <td>0.0</td>\n",
              "      <td>0.000000</td>\n",
              "      <td>0.811371</td>\n",
              "      <td>0.000000</td>\n",
              "      <td>0.000000</td>\n",
              "      <td>0.000000</td>\n",
              "      <td>0.382403</td>\n",
              "      <td>0.000000e+00</td>\n",
              "      <td>0.000000</td>\n",
              "      <td>0.000000e+00</td>\n",
              "      <td>0.00000</td>\n",
              "      <td>0.000000</td>\n",
              "      <td>0.000000</td>\n",
              "      <td>0.188379</td>\n",
              "      <td>0.0</td>\n",
              "      <td>0.000000</td>\n",
              "      <td>0.000000</td>\n",
              "      <td>0.000000</td>\n",
              "      <td>0.234798</td>\n",
              "      <td>0.000000</td>\n",
              "      <td>0.000000</td>\n",
              "      <td>0.000000</td>\n",
              "      <td>0.000000</td>\n",
              "      <td>0.000000</td>\n",
              "      <td>0.599992</td>\n",
              "      <td>0.793067</td>\n",
              "      <td>0.000000e+00</td>\n",
              "      <td>...</td>\n",
              "      <td>0.000000</td>\n",
              "      <td>0.00000</td>\n",
              "      <td>0.000000</td>\n",
              "      <td>0.0</td>\n",
              "      <td>0.000000</td>\n",
              "      <td>0.195228</td>\n",
              "      <td>0.000000e+00</td>\n",
              "      <td>0.0</td>\n",
              "      <td>0.000000</td>\n",
              "      <td>0.331649</td>\n",
              "      <td>0.000000</td>\n",
              "      <td>0.195760</td>\n",
              "      <td>0.000000</td>\n",
              "      <td>0.186044</td>\n",
              "      <td>0.000000</td>\n",
              "      <td>0.000000</td>\n",
              "      <td>0.0</td>\n",
              "      <td>0.000000</td>\n",
              "      <td>0.000000</td>\n",
              "      <td>0.000000</td>\n",
              "      <td>0.000000e+00</td>\n",
              "      <td>0.000000</td>\n",
              "      <td>0.0</td>\n",
              "      <td>0.000000</td>\n",
              "      <td>0.000000</td>\n",
              "      <td>0.0</td>\n",
              "      <td>0.000000</td>\n",
              "      <td>0.000000</td>\n",
              "      <td>0.000000e+00</td>\n",
              "      <td>0.000000</td>\n",
              "      <td>0.0</td>\n",
              "      <td>0.0</td>\n",
              "      <td>0.000000</td>\n",
              "      <td>0.00</td>\n",
              "      <td>0.0</td>\n",
              "      <td>0.295383</td>\n",
              "      <td>0.000000</td>\n",
              "      <td>0.0</td>\n",
              "      <td>0.109475</td>\n",
              "      <td>0.113907</td>\n",
              "    </tr>\n",
              "    <tr>\n",
              "      <th>topic_1</th>\n",
              "      <td>0.0</td>\n",
              "      <td>0.000000</td>\n",
              "      <td>0.000000</td>\n",
              "      <td>0.000000</td>\n",
              "      <td>0.000000</td>\n",
              "      <td>0.488854</td>\n",
              "      <td>0.000000</td>\n",
              "      <td>0.000000</td>\n",
              "      <td>0.275959</td>\n",
              "      <td>0.00</td>\n",
              "      <td>0.274473</td>\n",
              "      <td>0.276182</td>\n",
              "      <td>0.000000</td>\n",
              "      <td>0.0</td>\n",
              "      <td>0.000000</td>\n",
              "      <td>0.000000</td>\n",
              "      <td>0.000000</td>\n",
              "      <td>0.000000</td>\n",
              "      <td>0.000000</td>\n",
              "      <td>0.000000</td>\n",
              "      <td>0.000000e+00</td>\n",
              "      <td>0.000000</td>\n",
              "      <td>2.491446e-01</td>\n",
              "      <td>0.00000</td>\n",
              "      <td>0.000000</td>\n",
              "      <td>0.000000</td>\n",
              "      <td>0.000000</td>\n",
              "      <td>0.0</td>\n",
              "      <td>0.000000</td>\n",
              "      <td>0.000000</td>\n",
              "      <td>0.000000</td>\n",
              "      <td>0.000000</td>\n",
              "      <td>0.464303</td>\n",
              "      <td>0.233266</td>\n",
              "      <td>0.000000</td>\n",
              "      <td>0.000000</td>\n",
              "      <td>0.000000</td>\n",
              "      <td>0.000000</td>\n",
              "      <td>0.000000</td>\n",
              "      <td>1.485742e-13</td>\n",
              "      <td>...</td>\n",
              "      <td>0.386804</td>\n",
              "      <td>0.00000</td>\n",
              "      <td>0.124976</td>\n",
              "      <td>0.0</td>\n",
              "      <td>0.000000</td>\n",
              "      <td>0.000000</td>\n",
              "      <td>1.462721e-07</td>\n",
              "      <td>0.0</td>\n",
              "      <td>0.222943</td>\n",
              "      <td>0.000000</td>\n",
              "      <td>0.000000</td>\n",
              "      <td>0.000000</td>\n",
              "      <td>0.000000</td>\n",
              "      <td>0.000000</td>\n",
              "      <td>0.275958</td>\n",
              "      <td>0.496950</td>\n",
              "      <td>0.0</td>\n",
              "      <td>0.000000</td>\n",
              "      <td>0.000000</td>\n",
              "      <td>0.000000</td>\n",
              "      <td>4.227894e-01</td>\n",
              "      <td>0.000000</td>\n",
              "      <td>0.0</td>\n",
              "      <td>0.000000</td>\n",
              "      <td>0.000000</td>\n",
              "      <td>0.0</td>\n",
              "      <td>0.000000</td>\n",
              "      <td>0.000000</td>\n",
              "      <td>3.074567e-01</td>\n",
              "      <td>0.386167</td>\n",
              "      <td>0.0</td>\n",
              "      <td>0.0</td>\n",
              "      <td>0.000000</td>\n",
              "      <td>0.00</td>\n",
              "      <td>0.0</td>\n",
              "      <td>0.239466</td>\n",
              "      <td>0.000000</td>\n",
              "      <td>0.0</td>\n",
              "      <td>0.000000</td>\n",
              "      <td>0.000000</td>\n",
              "    </tr>\n",
              "    <tr>\n",
              "      <th>topic_2</th>\n",
              "      <td>0.0</td>\n",
              "      <td>0.000000</td>\n",
              "      <td>0.336229</td>\n",
              "      <td>0.389821</td>\n",
              "      <td>0.600064</td>\n",
              "      <td>0.000000</td>\n",
              "      <td>0.000000</td>\n",
              "      <td>0.333746</td>\n",
              "      <td>0.000000</td>\n",
              "      <td>0.00</td>\n",
              "      <td>0.000000</td>\n",
              "      <td>0.361168</td>\n",
              "      <td>0.000000</td>\n",
              "      <td>0.0</td>\n",
              "      <td>0.000000</td>\n",
              "      <td>0.000000</td>\n",
              "      <td>0.194306</td>\n",
              "      <td>0.000000</td>\n",
              "      <td>0.000000</td>\n",
              "      <td>0.456261</td>\n",
              "      <td>4.000004e-01</td>\n",
              "      <td>0.000000</td>\n",
              "      <td>1.368836e-01</td>\n",
              "      <td>0.00000</td>\n",
              "      <td>0.142727</td>\n",
              "      <td>0.000000</td>\n",
              "      <td>0.000000</td>\n",
              "      <td>0.0</td>\n",
              "      <td>0.000000</td>\n",
              "      <td>0.000000</td>\n",
              "      <td>0.000000</td>\n",
              "      <td>0.000000</td>\n",
              "      <td>0.000000</td>\n",
              "      <td>0.000000</td>\n",
              "      <td>0.000000</td>\n",
              "      <td>0.000000</td>\n",
              "      <td>0.000000</td>\n",
              "      <td>0.000000</td>\n",
              "      <td>0.206933</td>\n",
              "      <td>0.000000e+00</td>\n",
              "      <td>...</td>\n",
              "      <td>0.000000</td>\n",
              "      <td>0.00000</td>\n",
              "      <td>0.777385</td>\n",
              "      <td>0.0</td>\n",
              "      <td>0.000000</td>\n",
              "      <td>0.000000</td>\n",
              "      <td>0.000000e+00</td>\n",
              "      <td>0.0</td>\n",
              "      <td>0.000000</td>\n",
              "      <td>0.000000</td>\n",
              "      <td>0.000000</td>\n",
              "      <td>0.000000</td>\n",
              "      <td>0.217231</td>\n",
              "      <td>0.000000</td>\n",
              "      <td>0.000000</td>\n",
              "      <td>0.000000</td>\n",
              "      <td>0.0</td>\n",
              "      <td>0.000000</td>\n",
              "      <td>0.000000</td>\n",
              "      <td>0.000000</td>\n",
              "      <td>0.000000e+00</td>\n",
              "      <td>0.352826</td>\n",
              "      <td>0.0</td>\n",
              "      <td>0.000000</td>\n",
              "      <td>0.000000</td>\n",
              "      <td>0.0</td>\n",
              "      <td>0.000000</td>\n",
              "      <td>0.000000</td>\n",
              "      <td>0.000000e+00</td>\n",
              "      <td>0.000000</td>\n",
              "      <td>0.0</td>\n",
              "      <td>0.0</td>\n",
              "      <td>0.000000</td>\n",
              "      <td>0.00</td>\n",
              "      <td>0.0</td>\n",
              "      <td>0.000000</td>\n",
              "      <td>0.000000</td>\n",
              "      <td>0.0</td>\n",
              "      <td>0.326684</td>\n",
              "      <td>0.721580</td>\n",
              "    </tr>\n",
              "    <tr>\n",
              "      <th>topic_3</th>\n",
              "      <td>0.0</td>\n",
              "      <td>0.249969</td>\n",
              "      <td>0.000000</td>\n",
              "      <td>0.000000</td>\n",
              "      <td>0.249977</td>\n",
              "      <td>0.000000</td>\n",
              "      <td>0.189702</td>\n",
              "      <td>0.312513</td>\n",
              "      <td>0.000000</td>\n",
              "      <td>0.00</td>\n",
              "      <td>0.000000</td>\n",
              "      <td>0.000000</td>\n",
              "      <td>0.000000</td>\n",
              "      <td>0.0</td>\n",
              "      <td>0.211219</td>\n",
              "      <td>0.000000</td>\n",
              "      <td>0.000000</td>\n",
              "      <td>0.000000</td>\n",
              "      <td>0.000000</td>\n",
              "      <td>0.000000</td>\n",
              "      <td>0.000000e+00</td>\n",
              "      <td>0.199971</td>\n",
              "      <td>4.170159e-16</td>\n",
              "      <td>0.00000</td>\n",
              "      <td>0.282617</td>\n",
              "      <td>0.000000</td>\n",
              "      <td>0.000000</td>\n",
              "      <td>1.0</td>\n",
              "      <td>0.000000</td>\n",
              "      <td>0.000000</td>\n",
              "      <td>0.000000</td>\n",
              "      <td>0.000000</td>\n",
              "      <td>0.000000</td>\n",
              "      <td>0.000000</td>\n",
              "      <td>0.000000</td>\n",
              "      <td>0.000000</td>\n",
              "      <td>0.002995</td>\n",
              "      <td>0.000000</td>\n",
              "      <td>0.000000</td>\n",
              "      <td>0.000000e+00</td>\n",
              "      <td>...</td>\n",
              "      <td>0.000000</td>\n",
              "      <td>0.00000</td>\n",
              "      <td>0.000000</td>\n",
              "      <td>0.0</td>\n",
              "      <td>0.333317</td>\n",
              "      <td>0.258097</td>\n",
              "      <td>0.000000e+00</td>\n",
              "      <td>0.0</td>\n",
              "      <td>0.000000</td>\n",
              "      <td>0.000000</td>\n",
              "      <td>0.333333</td>\n",
              "      <td>0.000000</td>\n",
              "      <td>0.182816</td>\n",
              "      <td>0.813956</td>\n",
              "      <td>0.000000</td>\n",
              "      <td>0.003030</td>\n",
              "      <td>1.0</td>\n",
              "      <td>0.249982</td>\n",
              "      <td>0.000000</td>\n",
              "      <td>0.000000</td>\n",
              "      <td>3.696927e-12</td>\n",
              "      <td>0.000000</td>\n",
              "      <td>0.0</td>\n",
              "      <td>0.323974</td>\n",
              "      <td>0.000000</td>\n",
              "      <td>0.0</td>\n",
              "      <td>0.209791</td>\n",
              "      <td>0.000000</td>\n",
              "      <td>2.212331e-11</td>\n",
              "      <td>0.000000</td>\n",
              "      <td>0.0</td>\n",
              "      <td>0.0</td>\n",
              "      <td>0.176224</td>\n",
              "      <td>0.25</td>\n",
              "      <td>0.0</td>\n",
              "      <td>0.000000</td>\n",
              "      <td>0.000000</td>\n",
              "      <td>0.0</td>\n",
              "      <td>0.000000</td>\n",
              "      <td>0.000000</td>\n",
              "    </tr>\n",
              "    <tr>\n",
              "      <th>topic_4</th>\n",
              "      <td>0.0</td>\n",
              "      <td>0.000000</td>\n",
              "      <td>0.222222</td>\n",
              "      <td>0.000000</td>\n",
              "      <td>0.000000</td>\n",
              "      <td>0.000000</td>\n",
              "      <td>0.000000</td>\n",
              "      <td>0.353741</td>\n",
              "      <td>0.724041</td>\n",
              "      <td>0.00</td>\n",
              "      <td>0.000000</td>\n",
              "      <td>0.000000</td>\n",
              "      <td>0.499703</td>\n",
              "      <td>0.0</td>\n",
              "      <td>0.000000</td>\n",
              "      <td>0.000000</td>\n",
              "      <td>0.175014</td>\n",
              "      <td>0.357534</td>\n",
              "      <td>0.306208</td>\n",
              "      <td>0.156360</td>\n",
              "      <td>9.443976e-14</td>\n",
              "      <td>0.241934</td>\n",
              "      <td>0.000000e+00</td>\n",
              "      <td>0.00000</td>\n",
              "      <td>0.000000</td>\n",
              "      <td>0.259536</td>\n",
              "      <td>0.000000</td>\n",
              "      <td>0.0</td>\n",
              "      <td>0.000000</td>\n",
              "      <td>0.665947</td>\n",
              "      <td>0.056358</td>\n",
              "      <td>0.765202</td>\n",
              "      <td>0.318797</td>\n",
              "      <td>0.419138</td>\n",
              "      <td>0.000000</td>\n",
              "      <td>0.607892</td>\n",
              "      <td>0.407901</td>\n",
              "      <td>0.000000</td>\n",
              "      <td>0.000000</td>\n",
              "      <td>3.328273e-01</td>\n",
              "      <td>...</td>\n",
              "      <td>0.000000</td>\n",
              "      <td>0.24962</td>\n",
              "      <td>0.000000</td>\n",
              "      <td>1.0</td>\n",
              "      <td>0.666681</td>\n",
              "      <td>0.546675</td>\n",
              "      <td>2.017775e-01</td>\n",
              "      <td>0.0</td>\n",
              "      <td>0.269016</td>\n",
              "      <td>0.000000</td>\n",
              "      <td>0.000000</td>\n",
              "      <td>0.432938</td>\n",
              "      <td>0.003173</td>\n",
              "      <td>0.000000</td>\n",
              "      <td>0.724042</td>\n",
              "      <td>0.000000</td>\n",
              "      <td>0.0</td>\n",
              "      <td>0.750018</td>\n",
              "      <td>0.004905</td>\n",
              "      <td>0.498747</td>\n",
              "      <td>0.000000e+00</td>\n",
              "      <td>0.357555</td>\n",
              "      <td>0.0</td>\n",
              "      <td>0.000000</td>\n",
              "      <td>0.498739</td>\n",
              "      <td>1.0</td>\n",
              "      <td>0.000000</td>\n",
              "      <td>0.661634</td>\n",
              "      <td>0.000000e+00</td>\n",
              "      <td>0.000000</td>\n",
              "      <td>1.0</td>\n",
              "      <td>1.0</td>\n",
              "      <td>0.263699</td>\n",
              "      <td>0.00</td>\n",
              "      <td>0.0</td>\n",
              "      <td>0.465151</td>\n",
              "      <td>0.999981</td>\n",
              "      <td>0.0</td>\n",
              "      <td>0.000000</td>\n",
              "      <td>0.000000</td>\n",
              "    </tr>\n",
              "    <tr>\n",
              "      <th>topic_5</th>\n",
              "      <td>0.0</td>\n",
              "      <td>0.750031</td>\n",
              "      <td>0.000000</td>\n",
              "      <td>0.610179</td>\n",
              "      <td>0.000000</td>\n",
              "      <td>0.200882</td>\n",
              "      <td>0.000000</td>\n",
              "      <td>0.000000</td>\n",
              "      <td>0.000000</td>\n",
              "      <td>0.75</td>\n",
              "      <td>0.218243</td>\n",
              "      <td>0.078203</td>\n",
              "      <td>0.000000</td>\n",
              "      <td>1.0</td>\n",
              "      <td>0.000000</td>\n",
              "      <td>0.188629</td>\n",
              "      <td>0.000000</td>\n",
              "      <td>0.284419</td>\n",
              "      <td>0.443792</td>\n",
              "      <td>0.000000</td>\n",
              "      <td>5.999997e-01</td>\n",
              "      <td>0.558095</td>\n",
              "      <td>2.553674e-01</td>\n",
              "      <td>0.70538</td>\n",
              "      <td>0.000000</td>\n",
              "      <td>0.220254</td>\n",
              "      <td>0.000000</td>\n",
              "      <td>0.0</td>\n",
              "      <td>0.187343</td>\n",
              "      <td>0.000000</td>\n",
              "      <td>0.943642</td>\n",
              "      <td>0.000000</td>\n",
              "      <td>0.000000</td>\n",
              "      <td>0.347596</td>\n",
              "      <td>0.661857</td>\n",
              "      <td>0.392108</td>\n",
              "      <td>0.589103</td>\n",
              "      <td>0.000000</td>\n",
              "      <td>0.000000</td>\n",
              "      <td>0.000000e+00</td>\n",
              "      <td>...</td>\n",
              "      <td>0.000000</td>\n",
              "      <td>0.00000</td>\n",
              "      <td>0.064921</td>\n",
              "      <td>0.0</td>\n",
              "      <td>0.000000</td>\n",
              "      <td>0.000000</td>\n",
              "      <td>4.650348e-01</td>\n",
              "      <td>0.5</td>\n",
              "      <td>0.000000</td>\n",
              "      <td>0.550574</td>\n",
              "      <td>0.000000</td>\n",
              "      <td>0.371302</td>\n",
              "      <td>0.000000</td>\n",
              "      <td>0.000000</td>\n",
              "      <td>0.000000</td>\n",
              "      <td>0.500021</td>\n",
              "      <td>0.0</td>\n",
              "      <td>0.000000</td>\n",
              "      <td>0.995095</td>\n",
              "      <td>0.000000</td>\n",
              "      <td>0.000000e+00</td>\n",
              "      <td>0.000000</td>\n",
              "      <td>1.0</td>\n",
              "      <td>0.000000</td>\n",
              "      <td>0.000000</td>\n",
              "      <td>0.0</td>\n",
              "      <td>0.250010</td>\n",
              "      <td>0.338366</td>\n",
              "      <td>0.000000e+00</td>\n",
              "      <td>0.000000</td>\n",
              "      <td>0.0</td>\n",
              "      <td>0.0</td>\n",
              "      <td>0.000000</td>\n",
              "      <td>0.00</td>\n",
              "      <td>0.0</td>\n",
              "      <td>0.000000</td>\n",
              "      <td>0.000019</td>\n",
              "      <td>1.0</td>\n",
              "      <td>0.000000</td>\n",
              "      <td>0.000000</td>\n",
              "    </tr>\n",
              "    <tr>\n",
              "      <th>topic_6</th>\n",
              "      <td>1.0</td>\n",
              "      <td>0.000000</td>\n",
              "      <td>0.441549</td>\n",
              "      <td>0.000000</td>\n",
              "      <td>0.149958</td>\n",
              "      <td>0.310264</td>\n",
              "      <td>0.810298</td>\n",
              "      <td>0.000000</td>\n",
              "      <td>0.000000</td>\n",
              "      <td>0.25</td>\n",
              "      <td>0.507284</td>\n",
              "      <td>0.284446</td>\n",
              "      <td>0.500297</td>\n",
              "      <td>0.0</td>\n",
              "      <td>0.788781</td>\n",
              "      <td>0.000000</td>\n",
              "      <td>0.630680</td>\n",
              "      <td>0.358048</td>\n",
              "      <td>0.250000</td>\n",
              "      <td>0.004975</td>\n",
              "      <td>0.000000e+00</td>\n",
              "      <td>0.000000</td>\n",
              "      <td>3.586043e-01</td>\n",
              "      <td>0.29462</td>\n",
              "      <td>0.574656</td>\n",
              "      <td>0.520210</td>\n",
              "      <td>0.811621</td>\n",
              "      <td>0.0</td>\n",
              "      <td>0.812657</td>\n",
              "      <td>0.334053</td>\n",
              "      <td>0.000000</td>\n",
              "      <td>0.000000</td>\n",
              "      <td>0.216900</td>\n",
              "      <td>0.000000</td>\n",
              "      <td>0.338143</td>\n",
              "      <td>0.000000</td>\n",
              "      <td>0.000000</td>\n",
              "      <td>0.400008</td>\n",
              "      <td>0.000000</td>\n",
              "      <td>6.671727e-01</td>\n",
              "      <td>...</td>\n",
              "      <td>0.613196</td>\n",
              "      <td>0.75038</td>\n",
              "      <td>0.032718</td>\n",
              "      <td>0.0</td>\n",
              "      <td>0.000002</td>\n",
              "      <td>0.000000</td>\n",
              "      <td>3.331876e-01</td>\n",
              "      <td>0.5</td>\n",
              "      <td>0.508040</td>\n",
              "      <td>0.117777</td>\n",
              "      <td>0.666667</td>\n",
              "      <td>0.000000</td>\n",
              "      <td>0.596780</td>\n",
              "      <td>0.000000</td>\n",
              "      <td>0.000000</td>\n",
              "      <td>0.000000</td>\n",
              "      <td>0.0</td>\n",
              "      <td>0.000000</td>\n",
              "      <td>0.000000</td>\n",
              "      <td>0.501253</td>\n",
              "      <td>5.772106e-01</td>\n",
              "      <td>0.289619</td>\n",
              "      <td>0.0</td>\n",
              "      <td>0.676026</td>\n",
              "      <td>0.501261</td>\n",
              "      <td>0.0</td>\n",
              "      <td>0.540199</td>\n",
              "      <td>0.000000</td>\n",
              "      <td>6.925434e-01</td>\n",
              "      <td>0.613833</td>\n",
              "      <td>0.0</td>\n",
              "      <td>0.0</td>\n",
              "      <td>0.560077</td>\n",
              "      <td>0.75</td>\n",
              "      <td>1.0</td>\n",
              "      <td>0.000000</td>\n",
              "      <td>0.000000</td>\n",
              "      <td>0.0</td>\n",
              "      <td>0.563841</td>\n",
              "      <td>0.164513</td>\n",
              "    </tr>\n",
              "  </tbody>\n",
              "</table>\n",
              "<p>7 rows × 5000 columns</p>\n",
              "</div>"
            ],
            "text/plain": [
              "           1         2         3         4  ...      4997  4998      4999      5000\n",
              "topic_0  0.0  0.000000  0.000000  0.000000  ...  0.000000   0.0  0.109475  0.113907\n",
              "topic_1  0.0  0.000000  0.000000  0.000000  ...  0.000000   0.0  0.000000  0.000000\n",
              "topic_2  0.0  0.000000  0.336229  0.389821  ...  0.000000   0.0  0.326684  0.721580\n",
              "topic_3  0.0  0.249969  0.000000  0.000000  ...  0.000000   0.0  0.000000  0.000000\n",
              "topic_4  0.0  0.000000  0.222222  0.000000  ...  0.999981   0.0  0.000000  0.000000\n",
              "topic_5  0.0  0.750031  0.000000  0.610179  ...  0.000019   1.0  0.000000  0.000000\n",
              "topic_6  1.0  0.000000  0.441549  0.000000  ...  0.000000   0.0  0.563841  0.164513\n",
              "\n",
              "[7 rows x 5000 columns]"
            ]
          },
          "metadata": {
            "tags": []
          },
          "execution_count": 269
        }
      ]
    },
    {
      "cell_type": "markdown",
      "metadata": {
        "id": "PBfR6pYjqKbJ",
        "colab_type": "text"
      },
      "source": [
        "# Разбивка по классам"
      ]
    },
    {
      "cell_type": "code",
      "metadata": {
        "id": "VHyc2u2ejJZl",
        "colab_type": "code",
        "colab": {}
      },
      "source": [
        "df['classes'] = F.apply(lambda x: np.argmax(x), axis=0).values"
      ],
      "execution_count": 0,
      "outputs": []
    },
    {
      "cell_type": "code",
      "metadata": {
        "id": "XEcNhdDRkqJJ",
        "colab_type": "code",
        "outputId": "9564aefa-443b-4bb7-8f30-b1e9e9a4a736",
        "colab": {
          "base_uri": "https://localhost:8080/",
          "height": 541
        }
      },
      "source": [
        "def jitter(arr):\n",
        "    return arr + np.random.uniform(low=-0.35, high=0.35, size=len(arr))\n",
        "\n",
        "plt.figure(figsize = (22, 24))\n",
        "for i in range (4, 12):\n",
        "    plt.subplot(5, 4, i-3)\n",
        "    plt.scatter(jitter(df['classes']), df.iloc[:, i], c=df[\"classes\"], edgecolors=\"black\")\n",
        "    plt.xlabel('classes', fontsize=14)\n",
        "    plt.ylabel(str(df.columns[i]), fontsize=14)"
      ],
      "execution_count": 0,
      "outputs": [
        {
          "output_type": "display_data",
          "data": {
            "image/png": "[encoded data removed]",
            "text/plain": [
              "<Figure size 1584x1728 with 8 Axes>"
            ]
          },
          "metadata": {
            "tags": [],
            "needs_background": "light"
          }
        }
      ]
    },
    {
      "cell_type": "code",
      "metadata": {
        "id": "FIaiYvNyllzO",
        "colab_type": "code",
        "colab": {}
      },
      "source": [
        ""
      ],
      "execution_count": 0,
      "outputs": []
    }
  ]
}