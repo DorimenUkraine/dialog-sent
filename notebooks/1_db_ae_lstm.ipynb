{
  "nbformat": 4,
  "nbformat_minor": 0,
  "metadata": {
    "colab": {
      "name": "1-db-ae-lstm.ipynb",
      "provenance": [],
      "collapsed_sections": []
    },
    "kernelspec": {
      "name": "python3",
      "display_name": "Python 3"
    },
    "accelerator": "GPU",
    "widgets": {
      "application/vnd.jupyter.widget-state+json": {
        "92d30e9351e34ee88850a94dfe7706ce": {
          "model_module": "@jupyter-widgets/controls",
          "model_name": "HBoxModel",
          "state": {
            "_view_name": "HBoxView",
            "_dom_classes": [],
            "_model_name": "HBoxModel",
            "_view_module": "@jupyter-widgets/controls",
            "_model_module_version": "1.5.0",
            "_view_count": null,
            "_view_module_version": "1.5.0",
            "box_style": "",
            "layout": "IPY_MODEL_2c6e1aa4d2ae4d6c86898ab65bf35b13",
            "_model_module": "@jupyter-widgets/controls",
            "children": [
              "IPY_MODEL_339e9b6b232c4c7ab3154eaff364063d",
              "IPY_MODEL_7b23464358f14677bff3c1a6bdde13d3"
            ]
          }
        },
        "2c6e1aa4d2ae4d6c86898ab65bf35b13": {
          "model_module": "@jupyter-widgets/base",
          "model_name": "LayoutModel",
          "state": {
            "_view_name": "LayoutView",
            "grid_template_rows": null,
            "right": null,
            "justify_content": null,
            "_view_module": "@jupyter-widgets/base",
            "overflow": null,
            "_model_module_version": "1.2.0",
            "_view_count": null,
            "flex_flow": null,
            "width": null,
            "min_width": null,
            "border": null,
            "align_items": null,
            "bottom": null,
            "_model_module": "@jupyter-widgets/base",
            "top": null,
            "grid_column": null,
            "overflow_y": null,
            "overflow_x": null,
            "grid_auto_flow": null,
            "grid_area": null,
            "grid_template_columns": null,
            "flex": null,
            "_model_name": "LayoutModel",
            "justify_items": null,
            "grid_row": null,
            "max_height": null,
            "align_content": null,
            "visibility": null,
            "align_self": null,
            "height": null,
            "min_height": null,
            "padding": null,
            "grid_auto_rows": null,
            "grid_gap": null,
            "max_width": null,
            "order": null,
            "_view_module_version": "1.2.0",
            "grid_template_areas": null,
            "object_position": null,
            "object_fit": null,
            "grid_auto_columns": null,
            "margin": null,
            "display": null,
            "left": null
          }
        },
        "339e9b6b232c4c7ab3154eaff364063d": {
          "model_module": "@jupyter-widgets/controls",
          "model_name": "IntProgressModel",
          "state": {
            "_view_name": "ProgressView",
            "style": "IPY_MODEL_4184016d90534a1782dd55fc541a2a51",
            "_dom_classes": [],
            "description": "100%",
            "_model_name": "IntProgressModel",
            "bar_style": "success",
            "max": 300,
            "_view_module": "@jupyter-widgets/controls",
            "_model_module_version": "1.5.0",
            "value": 300,
            "_view_count": null,
            "_view_module_version": "1.5.0",
            "orientation": "horizontal",
            "min": 0,
            "description_tooltip": null,
            "_model_module": "@jupyter-widgets/controls",
            "layout": "IPY_MODEL_2d254e8294ac4379ba5b1e9eefc2a3c8"
          }
        },
        "7b23464358f14677bff3c1a6bdde13d3": {
          "model_module": "@jupyter-widgets/controls",
          "model_name": "HTMLModel",
          "state": {
            "_view_name": "HTMLView",
            "style": "IPY_MODEL_ef29052deb3844efa8988585160f8fb9",
            "_dom_classes": [],
            "description": "",
            "_model_name": "HTMLModel",
            "placeholder": "​",
            "_view_module": "@jupyter-widgets/controls",
            "_model_module_version": "1.5.0",
            "value": " 300/300 [03:08&lt;00:00,  1.59it/s]",
            "_view_count": null,
            "_view_module_version": "1.5.0",
            "description_tooltip": null,
            "_model_module": "@jupyter-widgets/controls",
            "layout": "IPY_MODEL_ce14dc7141054ae4a4a071d289f8d7ba"
          }
        },
        "4184016d90534a1782dd55fc541a2a51": {
          "model_module": "@jupyter-widgets/controls",
          "model_name": "ProgressStyleModel",
          "state": {
            "_view_name": "StyleView",
            "_model_name": "ProgressStyleModel",
            "description_width": "initial",
            "_view_module": "@jupyter-widgets/base",
            "_model_module_version": "1.5.0",
            "_view_count": null,
            "_view_module_version": "1.2.0",
            "bar_color": null,
            "_model_module": "@jupyter-widgets/controls"
          }
        },
        "2d254e8294ac4379ba5b1e9eefc2a3c8": {
          "model_module": "@jupyter-widgets/base",
          "model_name": "LayoutModel",
          "state": {
            "_view_name": "LayoutView",
            "grid_template_rows": null,
            "right": null,
            "justify_content": null,
            "_view_module": "@jupyter-widgets/base",
            "overflow": null,
            "_model_module_version": "1.2.0",
            "_view_count": null,
            "flex_flow": null,
            "width": null,
            "min_width": null,
            "border": null,
            "align_items": null,
            "bottom": null,
            "_model_module": "@jupyter-widgets/base",
            "top": null,
            "grid_column": null,
            "overflow_y": null,
            "overflow_x": null,
            "grid_auto_flow": null,
            "grid_area": null,
            "grid_template_columns": null,
            "flex": null,
            "_model_name": "LayoutModel",
            "justify_items": null,
            "grid_row": null,
            "max_height": null,
            "align_content": null,
            "visibility": null,
            "align_self": null,
            "height": null,
            "min_height": null,
            "padding": null,
            "grid_auto_rows": null,
            "grid_gap": null,
            "max_width": null,
            "order": null,
            "_view_module_version": "1.2.0",
            "grid_template_areas": null,
            "object_position": null,
            "object_fit": null,
            "grid_auto_columns": null,
            "margin": null,
            "display": null,
            "left": null
          }
        },
        "ef29052deb3844efa8988585160f8fb9": {
          "model_module": "@jupyter-widgets/controls",
          "model_name": "DescriptionStyleModel",
          "state": {
            "_view_name": "StyleView",
            "_model_name": "DescriptionStyleModel",
            "description_width": "",
            "_view_module": "@jupyter-widgets/base",
            "_model_module_version": "1.5.0",
            "_view_count": null,
            "_view_module_version": "1.2.0",
            "_model_module": "@jupyter-widgets/controls"
          }
        },
        "ce14dc7141054ae4a4a071d289f8d7ba": {
          "model_module": "@jupyter-widgets/base",
          "model_name": "LayoutModel",
          "state": {
            "_view_name": "LayoutView",
            "grid_template_rows": null,
            "right": null,
            "justify_content": null,
            "_view_module": "@jupyter-widgets/base",
            "overflow": null,
            "_model_module_version": "1.2.0",
            "_view_count": null,
            "flex_flow": null,
            "width": null,
            "min_width": null,
            "border": null,
            "align_items": null,
            "bottom": null,
            "_model_module": "@jupyter-widgets/base",
            "top": null,
            "grid_column": null,
            "overflow_y": null,
            "overflow_x": null,
            "grid_auto_flow": null,
            "grid_area": null,
            "grid_template_columns": null,
            "flex": null,
            "_model_name": "LayoutModel",
            "justify_items": null,
            "grid_row": null,
            "max_height": null,
            "align_content": null,
            "visibility": null,
            "align_self": null,
            "height": null,
            "min_height": null,
            "padding": null,
            "grid_auto_rows": null,
            "grid_gap": null,
            "max_width": null,
            "order": null,
            "_view_module_version": "1.2.0",
            "grid_template_areas": null,
            "object_position": null,
            "object_fit": null,
            "grid_auto_columns": null,
            "margin": null,
            "display": null,
            "left": null
          }
        }
      }
    }
  },
  "cells": [
    {
      "cell_type": "markdown",
      "metadata": {
        "id": "4RoA7uzc6-Jj",
        "colab_type": "text"
      },
      "source": [
        "# LSTM with Aspect Embedding\n",
        "\n",
        "В этом ноутбуке мы исследуем применение модели LSTM with Aspect Embedding (AE-LSTM) для решения задачи аспектного анализа тональности. В качестве основы мы берем [статью](https://www.aclweb.org/anthology/D16-1058.pdf)."
      ]
    },
    {
      "cell_type": "code",
      "metadata": {
        "id": "shE3aepx6kg7",
        "colab_type": "code",
        "outputId": "89d16ecf-1c20-4306-a951-dae7f977d1fa",
        "colab": {
          "base_uri": "https://localhost:8080/",
          "height": 72
        }
      },
      "source": [
        "import os\n",
        "import zipfile\n",
        "import random\n",
        "\n",
        "import pandas as pd\n",
        "import numpy as np\n",
        "import torch\n",
        "import gensim\n",
        "import matplotlib.pyplot as plt\n",
        "import seaborn as sns\n",
        "import bs4\n",
        "\n",
        "from tqdm.notebook import tqdm\n",
        "from sklearn.metrics import accuracy_score\n",
        "\n",
        "import torch.nn as nn\n",
        "import torch.nn.functional as F\n",
        "import torch.optim as optim\n",
        "import torchtext\n",
        "from torch.utils.data import Dataset as TorchDataset\n",
        "from torch.utils.data import DataLoader\n",
        "\n",
        "from google.colab import drive\n",
        "\n",
        "USE_GOOGLE_DRIVE = True\n",
        "\n",
        "sns.set(font_scale=1.2)"
      ],
      "execution_count": 1,
      "outputs": [
        {
          "output_type": "stream",
          "text": [
            "/usr/local/lib/python3.6/dist-packages/statsmodels/tools/_testing.py:19: FutureWarning: pandas.util.testing is deprecated. Use the functions in the public API at pandas.testing instead.\n",
            "  import pandas.util.testing as tm\n"
          ],
          "name": "stderr"
        }
      ]
    },
    {
      "cell_type": "markdown",
      "metadata": {
        "id": "s6K05cSD71kI",
        "colab_type": "text"
      },
      "source": [
        "Примонтируем наш гугл-диск, если мы решили его использовать."
      ]
    },
    {
      "cell_type": "code",
      "metadata": {
        "id": "1MBzNx9n7wtX",
        "colab_type": "code",
        "outputId": "da43aa65-37d8-4872-e41e-e59a2f0bb4f4",
        "colab": {
          "base_uri": "https://localhost:8080/",
          "height": 34
        }
      },
      "source": [
        "if USE_GOOGLE_DRIVE:\n",
        "    drive.mount('/content/drive')\n",
        "    PATH_PREFIX = 'drive/My Drive/NLP/dialog-sent'\n",
        "else:\n",
        "    PATH_PREFIX = '..'"
      ],
      "execution_count": 2,
      "outputs": [
        {
          "output_type": "stream",
          "text": [
            "Drive already mounted at /content/drive; to attempt to forcibly remount, call drive.mount(\"/content/drive\", force_remount=True).\n"
          ],
          "name": "stdout"
        }
      ]
    },
    {
      "cell_type": "code",
      "metadata": {
        "id": "_ICV0PvCteP8",
        "colab_type": "code",
        "colab": {}
      },
      "source": [
        "DATA_PREFIX = os.path.join(PATH_PREFIX, 'data')\n",
        "MODEL_PREFIX = os.path.join(PATH_PREFIX, 'models')"
      ],
      "execution_count": 0,
      "outputs": []
    },
    {
      "cell_type": "markdown",
      "metadata": {
        "id": "d1rEg_dzCv2Z",
        "colab_type": "text"
      },
      "source": [
        "Зададим девайс для обучения."
      ]
    },
    {
      "cell_type": "code",
      "metadata": {
        "id": "ssNUbPpPCvOf",
        "colab_type": "code",
        "outputId": "25abac94-5f4b-45b2-b8f3-dfb993a5c6ed",
        "colab": {
          "base_uri": "https://localhost:8080/",
          "height": 34
        }
      },
      "source": [
        "USE_GPU = True\n",
        "\n",
        "if USE_GPU and torch.cuda.is_available():\n",
        "    device = torch.device('cuda')\n",
        "else:\n",
        "    device = torch.device('cpu')\n",
        "\n",
        "print('using device:', device)"
      ],
      "execution_count": 4,
      "outputs": [
        {
          "output_type": "stream",
          "text": [
            "using device: cuda\n"
          ],
          "name": "stdout"
        }
      ]
    },
    {
      "cell_type": "markdown",
      "metadata": {
        "id": "yHTGiWVXC13E",
        "colab_type": "text"
      },
      "source": [
        "Проинициализируем везде генераторы случайных чисел."
      ]
    },
    {
      "cell_type": "code",
      "metadata": {
        "id": "gUC3PTVlC1JU",
        "colab_type": "code",
        "colab": {}
      },
      "source": [
        "random_seed = 42\n",
        "random_state = random_seed\n",
        "\n",
        "def set_seed_everywhere(seed, cuda):\n",
        "    random.seed(seed)\n",
        "    np.random.seed(seed)\n",
        "    torch.manual_seed(seed)\n",
        "    torch.backends.cudnn.deterministic = True\n",
        "    torch.backends.cudnn.benchmark = False\n",
        "    if cuda:\n",
        "        torch.cuda.manual_seed_all(seed)\n",
        "\n",
        "set_seed_everywhere(random_seed, USE_GPU)"
      ],
      "execution_count": 0,
      "outputs": []
    },
    {
      "cell_type": "markdown",
      "metadata": {
        "id": "b8UaRLgV9BTu",
        "colab_type": "text"
      },
      "source": [
        "## Повторение результатов статьи\n",
        "\n",
        "Для того, чтобы применить модель к нашей конкретной задаче для начала надо повторить результаты исследуемой статьи. Будем это делать на примере датасета с [отзывами на рестораны](http://alt.qcri.org/semeval2014/task4/index.php?id=data-and-tools).\n"
      ]
    },
    {
      "cell_type": "markdown",
      "metadata": {
        "id": "IFqQNvroDFz0",
        "colab_type": "text"
      },
      "source": [
        "### Данные\n",
        "\n",
        "Теперь надо разобраться с данными. Мы используем отзывы о рестранах. Согласно аннотации к датасету используются следующие аспекты:\n",
        "\n",
        "* food\n",
        "* price\n",
        "* service\n",
        "* ambience\n",
        "* anecdotes (sentences describing the reviewer’s personal experience or context, but that do not usually provide information on the restaurant quality e.g. “I knew upon visiting\n",
        "NYC that I wanted to try an original deli”)\n",
        "* miscellaneous (sentences that do not belong to the other five categories including sentences that are general recommendations e.g. “Your friends will thank you for introducing them to this gem!”)\n",
        "\n",
        "Эта же аннотация говорит о том, какие существуют тональности:\n",
        "* positive\n",
        "* negative\n",
        "* conflict (both positive and negative sentiment)\n",
        "* neutral (neither positive nor negative sentiment)\n",
        "\n",
        "Помимо этого существует такой объект, как термин аспекта (aspect term) -- это какое-то слово или выражение, которое указывает на то, в каком слове выражается тональность к конкретному аспекту. \n",
        "\n",
        "Существует два вида задач для аспектного анализа тональности:\n",
        "* Aspect-level Classification -- определить тональность для каждого аспекта.\n",
        "* Aspect-Term-level Classification -- определить термины для каждого аспекта, а затем определить их тональность.\n",
        "\n",
        "Наша финальная задача относится к первой категории, а значит нам не нужны данные о терминах аспекта."
      ]
    },
    {
      "cell_type": "markdown",
      "metadata": {
        "id": "C6elfxM8FD2A",
        "colab_type": "text"
      },
      "source": [
        "Данные предоставлены в формате xml. Для работы с ними будем использовать beautiful soup."
      ]
    },
    {
      "cell_type": "code",
      "metadata": {
        "id": "hWs4aYnabrzk",
        "colab_type": "code",
        "colab": {}
      },
      "source": [
        "def xml2pandas(data_path):\n",
        "    \"\"\"Перевод исходного датасета в формате xml в pandas-датафрейм.\"\"\"\n",
        "    aspect_categories = ['food', 'price', 'service', 'ambience', \n",
        "                        'anecdotes/miscellaneous']\n",
        "    num_aspects = len(aspect_categories)\n",
        "    data_dict = {'sentence_id': [], 'text': []}\n",
        "    data_dict.update({key: [] for key in aspect_categories})\n",
        "\n",
        "    sent2class = {'none': 0, 'neutral': 1, 'positive': 2, 'negative': 3, \n",
        "                'conflict': 4}\n",
        "\n",
        "    with open(data_path, 'r') as inf:\n",
        "        contents = inf.read()\n",
        "        soup = bs4.BeautifulSoup(contents, 'xml')\n",
        "        for sentence in soup.find_all('sentence'):\n",
        "            data_dict['sentence_id'].append(sentence['id'])\n",
        "\n",
        "            text = sentence.find('text').text\n",
        "            data_dict['text'].append(text)\n",
        "\n",
        "            categories = sentence.find('aspectCategories').find_all(\n",
        "                'aspectCategory'\n",
        "            )\n",
        "            for aspect_category in aspect_categories:\n",
        "                data_dict[aspect_category].append(0)\n",
        "            \n",
        "            for aspect_category in categories:\n",
        "                data_dict[\n",
        "                    aspect_category['category']\n",
        "                ][-1] = sent2class[aspect_category['polarity']]\n",
        "\n",
        "    data = pd.DataFrame(data_dict)\n",
        "    return data"
      ],
      "execution_count": 0,
      "outputs": []
    },
    {
      "cell_type": "code",
      "metadata": {
        "id": "HQPj-a1tDGJY",
        "colab_type": "code",
        "colab": {}
      },
      "source": [
        "data_train_raw_path = os.path.join(\n",
        "    DATA_PREFIX, 'raw', \"SemEval'14-ABSA-TrainData_v2 & AnnotationGuidelines\", \n",
        "    'Restaurants_Train_v2.xml'\n",
        ")\n",
        "\n",
        "data_test_raw_path = os.path.join(\n",
        "    DATA_PREFIX, 'raw', 'ABSA_Gold_TestData', 'Restaurants_Test_Gold.xml'\n",
        ")\n",
        "\n",
        "aspect_categories = ['food', 'price', 'service', 'ambience', \n",
        "                     'anecdotes/miscellaneous']\n",
        "num_aspects = len(aspect_categories)\n",
        "data_train_raw = xml2pandas(data_train_raw_path)\n",
        "data_test_raw = xml2pandas(data_test_raw_path)"
      ],
      "execution_count": 0,
      "outputs": []
    },
    {
      "cell_type": "code",
      "metadata": {
        "id": "ihfLZoATOIqo",
        "colab_type": "code",
        "outputId": "47840ec5-ebda-4246-8da7-203c6f5a0fe5",
        "colab": {
          "base_uri": "https://localhost:8080/",
          "height": 206
        }
      },
      "source": [
        "data_train_raw.head()"
      ],
      "execution_count": 8,
      "outputs": [
        {
          "output_type": "execute_result",
          "data": {
            "text/html": [
              "<div>\n",
              "<style scoped>\n",
              "    .dataframe tbody tr th:only-of-type {\n",
              "        vertical-align: middle;\n",
              "    }\n",
              "\n",
              "    .dataframe tbody tr th {\n",
              "        vertical-align: top;\n",
              "    }\n",
              "\n",
              "    .dataframe thead th {\n",
              "        text-align: right;\n",
              "    }\n",
              "</style>\n",
              "<table border=\"1\" class=\"dataframe\">\n",
              "  <thead>\n",
              "    <tr style=\"text-align: right;\">\n",
              "      <th></th>\n",
              "      <th>sentence_id</th>\n",
              "      <th>text</th>\n",
              "      <th>food</th>\n",
              "      <th>price</th>\n",
              "      <th>service</th>\n",
              "      <th>ambience</th>\n",
              "      <th>anecdotes/miscellaneous</th>\n",
              "    </tr>\n",
              "  </thead>\n",
              "  <tbody>\n",
              "    <tr>\n",
              "      <th>0</th>\n",
              "      <td>3121</td>\n",
              "      <td>But the staff was so horrible to us.</td>\n",
              "      <td>0</td>\n",
              "      <td>0</td>\n",
              "      <td>3</td>\n",
              "      <td>0</td>\n",
              "      <td>0</td>\n",
              "    </tr>\n",
              "    <tr>\n",
              "      <th>1</th>\n",
              "      <td>2777</td>\n",
              "      <td>To be completely fair, the only redeeming fact...</td>\n",
              "      <td>2</td>\n",
              "      <td>0</td>\n",
              "      <td>0</td>\n",
              "      <td>0</td>\n",
              "      <td>3</td>\n",
              "    </tr>\n",
              "    <tr>\n",
              "      <th>2</th>\n",
              "      <td>1634</td>\n",
              "      <td>The food is uniformly exceptional, with a very...</td>\n",
              "      <td>2</td>\n",
              "      <td>0</td>\n",
              "      <td>0</td>\n",
              "      <td>0</td>\n",
              "      <td>0</td>\n",
              "    </tr>\n",
              "    <tr>\n",
              "      <th>3</th>\n",
              "      <td>2534</td>\n",
              "      <td>Where Gabriela personaly greets you and recomm...</td>\n",
              "      <td>0</td>\n",
              "      <td>0</td>\n",
              "      <td>2</td>\n",
              "      <td>0</td>\n",
              "      <td>0</td>\n",
              "    </tr>\n",
              "    <tr>\n",
              "      <th>4</th>\n",
              "      <td>583</td>\n",
              "      <td>For those that go once and don't enjoy it, all...</td>\n",
              "      <td>0</td>\n",
              "      <td>0</td>\n",
              "      <td>0</td>\n",
              "      <td>0</td>\n",
              "      <td>2</td>\n",
              "    </tr>\n",
              "  </tbody>\n",
              "</table>\n",
              "</div>"
            ],
            "text/plain": [
              "  sentence_id  ... anecdotes/miscellaneous\n",
              "0        3121  ...                       0\n",
              "1        2777  ...                       3\n",
              "2        1634  ...                       0\n",
              "3        2534  ...                       0\n",
              "4         583  ...                       2\n",
              "\n",
              "[5 rows x 7 columns]"
            ]
          },
          "metadata": {
            "tags": []
          },
          "execution_count": 8
        }
      ]
    },
    {
      "cell_type": "code",
      "metadata": {
        "id": "CMiztqHjcuEd",
        "colab_type": "code",
        "colab": {
          "base_uri": "https://localhost:8080/",
          "height": 206
        },
        "outputId": "e1eefa26-676e-486a-edb8-bb383d9cd6c9"
      },
      "source": [
        "data_test_raw.head()"
      ],
      "execution_count": 9,
      "outputs": [
        {
          "output_type": "execute_result",
          "data": {
            "text/html": [
              "<div>\n",
              "<style scoped>\n",
              "    .dataframe tbody tr th:only-of-type {\n",
              "        vertical-align: middle;\n",
              "    }\n",
              "\n",
              "    .dataframe tbody tr th {\n",
              "        vertical-align: top;\n",
              "    }\n",
              "\n",
              "    .dataframe thead th {\n",
              "        text-align: right;\n",
              "    }\n",
              "</style>\n",
              "<table border=\"1\" class=\"dataframe\">\n",
              "  <thead>\n",
              "    <tr style=\"text-align: right;\">\n",
              "      <th></th>\n",
              "      <th>sentence_id</th>\n",
              "      <th>text</th>\n",
              "      <th>food</th>\n",
              "      <th>price</th>\n",
              "      <th>service</th>\n",
              "      <th>ambience</th>\n",
              "      <th>anecdotes/miscellaneous</th>\n",
              "    </tr>\n",
              "  </thead>\n",
              "  <tbody>\n",
              "    <tr>\n",
              "      <th>0</th>\n",
              "      <td>32897564#894393#2</td>\n",
              "      <td>The bread is top notch as well.</td>\n",
              "      <td>2</td>\n",
              "      <td>0</td>\n",
              "      <td>0</td>\n",
              "      <td>0</td>\n",
              "      <td>0</td>\n",
              "    </tr>\n",
              "    <tr>\n",
              "      <th>1</th>\n",
              "      <td>33070600#670328#0</td>\n",
              "      <td>I have to say they have one of the fastest del...</td>\n",
              "      <td>0</td>\n",
              "      <td>0</td>\n",
              "      <td>2</td>\n",
              "      <td>0</td>\n",
              "      <td>0</td>\n",
              "    </tr>\n",
              "    <tr>\n",
              "      <th>2</th>\n",
              "      <td>33070600#670328#2</td>\n",
              "      <td>Food is always fresh and hot- ready to eat!</td>\n",
              "      <td>2</td>\n",
              "      <td>0</td>\n",
              "      <td>0</td>\n",
              "      <td>0</td>\n",
              "      <td>0</td>\n",
              "    </tr>\n",
              "    <tr>\n",
              "      <th>3</th>\n",
              "      <td>36244464#949326#5</td>\n",
              "      <td>Did I mention that the coffee is OUTSTANDING?</td>\n",
              "      <td>2</td>\n",
              "      <td>0</td>\n",
              "      <td>0</td>\n",
              "      <td>0</td>\n",
              "      <td>0</td>\n",
              "    </tr>\n",
              "    <tr>\n",
              "      <th>4</th>\n",
              "      <td>32894246#870052#0</td>\n",
              "      <td>Certainly not the best sushi in New York, howe...</td>\n",
              "      <td>4</td>\n",
              "      <td>0</td>\n",
              "      <td>0</td>\n",
              "      <td>2</td>\n",
              "      <td>0</td>\n",
              "    </tr>\n",
              "  </tbody>\n",
              "</table>\n",
              "</div>"
            ],
            "text/plain": [
              "         sentence_id  ... anecdotes/miscellaneous\n",
              "0  32897564#894393#2  ...                       0\n",
              "1  33070600#670328#0  ...                       0\n",
              "2  33070600#670328#2  ...                       0\n",
              "3  36244464#949326#5  ...                       0\n",
              "4  32894246#870052#0  ...                       0\n",
              "\n",
              "[5 rows x 7 columns]"
            ]
          },
          "metadata": {
            "tags": []
          },
          "execution_count": 9
        }
      ]
    },
    {
      "cell_type": "markdown",
      "metadata": {
        "id": "SBj9O4iETUZ6",
        "colab_type": "text"
      },
      "source": [
        "#### Новое"
      ]
    },
    {
      "cell_type": "markdown",
      "metadata": {
        "id": "C2gRZxrsTYI_",
        "colab_type": "text"
      },
      "source": [
        "Чтобы правильно обучать нашу модель придется упростить данные до трех столбцов: `text`, `aspect`, `sentiment`. Согласно статье, там рассматриваются только классы: positive, negative, neutral. Тоже будем так делать, чтобы результаты получились сравнимыми (классы $1, 2, 3$)."
      ]
    },
    {
      "cell_type": "code",
      "metadata": {
        "id": "GZrO8sqSdZQ9",
        "colab_type": "code",
        "colab": {}
      },
      "source": [
        "def raw2processed(data, remain_sentiments, filename):\n",
        "    \"\"\"Приведение данных к удобному для обучения и тестирования виду.\"\"\"\n",
        "    data_processed_dict = {'text': [], 'aspect': [], 'sentiment': []}\n",
        "    aspect_categories = list(data.columns[2:])\n",
        "    for i, row in data.iterrows():\n",
        "        for aspect_category in aspect_categories:\n",
        "            data_processed_dict['text'].append(row['text'])\n",
        "            data_processed_dict['aspect'].append(aspect_category)\n",
        "            data_processed_dict['sentiment'].append(row[aspect_category])\n",
        "\n",
        "    data_processed = pd.DataFrame(data_processed_dict)\n",
        "    data_processed = data_processed[\n",
        "        data_processed.sentiment.isin(remain_sentiments)\n",
        "    ]\n",
        "\n",
        "    data_path = os.path.join(DATA_PREFIX, 'processed', filename)\n",
        "    data_processed.to_csv(data_path, index=False)\n",
        "    return data_processed"
      ],
      "execution_count": 0,
      "outputs": []
    },
    {
      "cell_type": "code",
      "metadata": {
        "id": "s9vRnXZyTrRA",
        "colab_type": "code",
        "outputId": "c8d8d5e7-0c98-49a1-fc34-03eea093408b",
        "colab": {
          "base_uri": "https://localhost:8080/",
          "height": 363
        }
      },
      "source": [
        "remain_sentiments = [1, 2, 3]\n",
        "data_train = raw2processed(data_train_raw, remain_sentiments, \n",
        "                           'restaurants_train.csv')\n",
        "data_test = raw2processed(data_test_raw, remain_sentiments, \n",
        "                          'restaurants_test.csv')\n",
        "data_all = pd.concat((data_train, data_test), ignore_index=True)\n",
        "data_all.to_csv(os.path.join(DATA_PREFIX, 'processed', 'restaurants.csv'), \n",
        "                index=False)\n",
        "data_train.head(10)"
      ],
      "execution_count": 11,
      "outputs": [
        {
          "output_type": "execute_result",
          "data": {
            "text/html": [
              "<div>\n",
              "<style scoped>\n",
              "    .dataframe tbody tr th:only-of-type {\n",
              "        vertical-align: middle;\n",
              "    }\n",
              "\n",
              "    .dataframe tbody tr th {\n",
              "        vertical-align: top;\n",
              "    }\n",
              "\n",
              "    .dataframe thead th {\n",
              "        text-align: right;\n",
              "    }\n",
              "</style>\n",
              "<table border=\"1\" class=\"dataframe\">\n",
              "  <thead>\n",
              "    <tr style=\"text-align: right;\">\n",
              "      <th></th>\n",
              "      <th>text</th>\n",
              "      <th>aspect</th>\n",
              "      <th>sentiment</th>\n",
              "    </tr>\n",
              "  </thead>\n",
              "  <tbody>\n",
              "    <tr>\n",
              "      <th>2</th>\n",
              "      <td>But the staff was so horrible to us.</td>\n",
              "      <td>service</td>\n",
              "      <td>3</td>\n",
              "    </tr>\n",
              "    <tr>\n",
              "      <th>5</th>\n",
              "      <td>To be completely fair, the only redeeming fact...</td>\n",
              "      <td>food</td>\n",
              "      <td>2</td>\n",
              "    </tr>\n",
              "    <tr>\n",
              "      <th>9</th>\n",
              "      <td>To be completely fair, the only redeeming fact...</td>\n",
              "      <td>anecdotes/miscellaneous</td>\n",
              "      <td>3</td>\n",
              "    </tr>\n",
              "    <tr>\n",
              "      <th>10</th>\n",
              "      <td>The food is uniformly exceptional, with a very...</td>\n",
              "      <td>food</td>\n",
              "      <td>2</td>\n",
              "    </tr>\n",
              "    <tr>\n",
              "      <th>17</th>\n",
              "      <td>Where Gabriela personaly greets you and recomm...</td>\n",
              "      <td>service</td>\n",
              "      <td>2</td>\n",
              "    </tr>\n",
              "    <tr>\n",
              "      <th>24</th>\n",
              "      <td>For those that go once and don't enjoy it, all...</td>\n",
              "      <td>anecdotes/miscellaneous</td>\n",
              "      <td>2</td>\n",
              "    </tr>\n",
              "    <tr>\n",
              "      <th>25</th>\n",
              "      <td>Not only was the food outstanding, but the lit...</td>\n",
              "      <td>food</td>\n",
              "      <td>2</td>\n",
              "    </tr>\n",
              "    <tr>\n",
              "      <th>27</th>\n",
              "      <td>Not only was the food outstanding, but the lit...</td>\n",
              "      <td>service</td>\n",
              "      <td>2</td>\n",
              "    </tr>\n",
              "    <tr>\n",
              "      <th>30</th>\n",
              "      <td>It is very overpriced and not very tasty.</td>\n",
              "      <td>food</td>\n",
              "      <td>3</td>\n",
              "    </tr>\n",
              "    <tr>\n",
              "      <th>31</th>\n",
              "      <td>It is very overpriced and not very tasty.</td>\n",
              "      <td>price</td>\n",
              "      <td>3</td>\n",
              "    </tr>\n",
              "  </tbody>\n",
              "</table>\n",
              "</div>"
            ],
            "text/plain": [
              "                                                 text  ... sentiment\n",
              "2                But the staff was so horrible to us.  ...         3\n",
              "5   To be completely fair, the only redeeming fact...  ...         2\n",
              "9   To be completely fair, the only redeeming fact...  ...         3\n",
              "10  The food is uniformly exceptional, with a very...  ...         2\n",
              "17  Where Gabriela personaly greets you and recomm...  ...         2\n",
              "24  For those that go once and don't enjoy it, all...  ...         2\n",
              "25  Not only was the food outstanding, but the lit...  ...         2\n",
              "27  Not only was the food outstanding, but the lit...  ...         2\n",
              "30          It is very overpriced and not very tasty.  ...         3\n",
              "31          It is very overpriced and not very tasty.  ...         3\n",
              "\n",
              "[10 rows x 3 columns]"
            ]
          },
          "metadata": {
            "tags": []
          },
          "execution_count": 11
        }
      ]
    },
    {
      "cell_type": "markdown",
      "metadata": {
        "id": "n9rXoYOGVIEF",
        "colab_type": "text"
      },
      "source": [
        "Теперь определим поля в датасете для обучения."
      ]
    },
    {
      "cell_type": "code",
      "metadata": {
        "id": "mYemqb_MTrZL",
        "colab_type": "code",
        "colab": {}
      },
      "source": [
        "TEXT = torchtext.data.Field(\n",
        "    tokenize='spacy', batch_first=True, init_token='<begin>', \n",
        "    eos_token='<end>', lower=True\n",
        ")\n",
        "ASPECT = torchtext.data.Field(sequential=False, batch_first=True)\n",
        "SENTIMENT = torchtext.data.LabelField(batch_first=True)"
      ],
      "execution_count": 0,
      "outputs": []
    },
    {
      "cell_type": "code",
      "metadata": {
        "id": "SMQlJoOGWrQo",
        "colab_type": "code",
        "colab": {}
      },
      "source": [
        "fields = [('text', TEXT), ('aspect', ASPECT), ('sentiment', SENTIMENT)]"
      ],
      "execution_count": 0,
      "outputs": []
    },
    {
      "cell_type": "code",
      "metadata": {
        "id": "o5NtLnNiWrUp",
        "colab_type": "code",
        "outputId": "02ab7a6a-9512-4cae-f7d7-4407f4ea63d9",
        "colab": {
          "base_uri": "https://localhost:8080/",
          "height": 34
        }
      },
      "source": [
        "data_train_path = os.path.join(DATA_PREFIX, 'processed', 'restaurants_train.csv')\n",
        "data_test_path = os.path.join(DATA_PREFIX, 'processed', 'restaurants_test.csv')\n",
        "data_all_path = os.path.join(DATA_PREFIX, 'processed', 'restaurants.csv')\n",
        "\n",
        "train_data_all = torchtext.data.TabularDataset(\n",
        "    path=data_train_path, format = 'csv', fields=fields, skip_header=True\n",
        ")\n",
        "test_data = torchtext.data.TabularDataset(\n",
        "    path=data_test_path, format = 'csv', fields=fields, skip_header=True\n",
        ")\n",
        "data_all = torchtext.data.TabularDataset(\n",
        "    path=data_all_path, format = 'csv', fields=fields, skip_header=True\n",
        ")\n",
        "\n",
        "print(vars(train_data_all.examples[0]))"
      ],
      "execution_count": 14,
      "outputs": [
        {
          "output_type": "stream",
          "text": [
            "{'text': ['but', 'the', 'staff', 'was', 'so', 'horrible', 'to', 'us', '.'], 'aspect': 'service', 'sentiment': '3'}\n"
          ],
          "name": "stdout"
        }
      ]
    },
    {
      "cell_type": "markdown",
      "metadata": {
        "id": "MRXivWRfZjNF",
        "colab_type": "text"
      },
      "source": [
        "Разделим данные на обучение и валидацию (для early stopping)."
      ]
    },
    {
      "cell_type": "code",
      "metadata": {
        "id": "MJXx9xmyTrXU",
        "colab_type": "code",
        "colab": {}
      },
      "source": [
        "train_data, valid_data = train_data_all.split(\n",
        "    split_ratio=0.8, random_state=random.seed(random_state)\n",
        ")"
      ],
      "execution_count": 0,
      "outputs": []
    },
    {
      "cell_type": "markdown",
      "metadata": {
        "id": "YW0x0isFY1_w",
        "colab_type": "text"
      },
      "source": [
        "Построим для нашего датасета словарь. Согласно статье, эмбеддинги слов были проинициализированы при помощи GloVe, а для неизвестных слов в качестве эмбеддингов были взяты случайные векторы из $U(-\\varepsilon, \\varepsilon)$, где $\\varepsilon = 0.01$.\n"
      ]
    },
    {
      "cell_type": "code",
      "metadata": {
        "id": "ZelUdQpEaBJ5",
        "colab_type": "code",
        "colab": {}
      },
      "source": [
        "epsilon = 0.01\n",
        "vectors_cache = os.path.join(DATA_PREFIX, 'raw', 'glove')\n",
        "TEXT.build_vocab(data_all, \n",
        "                 vectors='glove.840B.300d', vectors_cache=vectors_cache,\n",
        "                 unk_init=lambda x: torch.nn.init.uniform_(x, -epsilon, epsilon))\n",
        "ASPECT.build_vocab(train_data)\n",
        "SENTIMENT.build_vocab(train_data)"
      ],
      "execution_count": 0,
      "outputs": []
    },
    {
      "cell_type": "code",
      "metadata": {
        "id": "3ayeYQzCaBOU",
        "colab_type": "code",
        "outputId": "587275d1-1595-4a19-927c-8af8aa820a12",
        "colab": {
          "base_uri": "https://localhost:8080/",
          "height": 69
        }
      },
      "source": [
        "print(f'Size of TEXT vocabulary: {len(TEXT.vocab)}')\n",
        "print(f'Size of ASPECT vocabulary: {len(ASPECT.vocab)}')\n",
        "print(f'Size of SENTIMENT vocabulary: {len(SENTIMENT.vocab)}')"
      ],
      "execution_count": 17,
      "outputs": [
        {
          "output_type": "stream",
          "text": [
            "Size of TEXT vocabulary: 5041\n",
            "Size of ASPECT vocabulary: 6\n",
            "Size of SENTIMENT vocabulary: 3\n"
          ],
          "name": "stdout"
        }
      ]
    },
    {
      "cell_type": "markdown",
      "metadata": {
        "id": "PeMUrFNFgSgb",
        "colab_type": "text"
      },
      "source": [
        "Теперь напишем итератор."
      ]
    },
    {
      "cell_type": "code",
      "metadata": {
        "id": "DUYiqydfgR1A",
        "colab_type": "code",
        "colab": {}
      },
      "source": [
        "batch_size = 64\n",
        "\n",
        "train_iter, val_iter, test_iter = torchtext.data.BucketIterator.splits(\n",
        "        (train_data, valid_data, test_data),\n",
        "        batch_sizes=(batch_size, batch_size, batch_size),\n",
        "        sort=True,\n",
        "        sort_key=lambda x: len(x.text),\n",
        "        sort_within_batch=True,\n",
        "        device=device,\n",
        "        repeat=False\n",
        ")"
      ],
      "execution_count": 0,
      "outputs": []
    },
    {
      "cell_type": "markdown",
      "metadata": {
        "id": "FuqJ_M3Fg6G3",
        "colab_type": "text"
      },
      "source": [
        "### Модель"
      ]
    },
    {
      "cell_type": "markdown",
      "metadata": {
        "id": "blBavi11CigD",
        "colab_type": "text"
      },
      "source": [
        "Зададим архитектуру нашей сети."
      ]
    },
    {
      "cell_type": "code",
      "metadata": {
        "id": "MN0rbmwhCh0K",
        "colab_type": "code",
        "colab": {}
      },
      "source": [
        "class AE_LSTM(nn.Module):\n",
        "\n",
        "    def __init__(\n",
        "        self, num_aspects, embeddings_aspects_dim, hidden_dim, \n",
        "        num_sentiments, \n",
        "        vocab_size=None, embeddings_words_dim=None, embeddings_words_init=None\n",
        "    ):\n",
        "        super(AE_LSTM, self).__init__()\n",
        "\n",
        "        train_from_scratch = (vocab_size is not None \n",
        "                              and embedding_words_dim is not None)\n",
        "        use_pretrained = embeddings_words_init is not None\n",
        "        if not(train_from_scratch or use_pretrained):\n",
        "            raise ValueError('You should use pretrained vectors or '\n",
        "                             'set vocab size and embeddings dim')\n",
        "\n",
        "        if train_from_scratch:\n",
        "            self.embeddings_words = nn.Embedding(\n",
        "                vocab_size, embeddings_words_dim\n",
        "            )\n",
        "        else:\n",
        "            self.embeddings_words = nn.Embedding.from_pretrained(\n",
        "                embeddings_words_init\n",
        "            )\n",
        "            vocab_size, embeddings_words_dim = embeddings_words_init.size()\n",
        "\n",
        "        self.embeddings_aspects = nn.Embedding(\n",
        "            num_aspects, embeddings_aspects_dim\n",
        "        )\n",
        "        self.lstm = nn.LSTM(\n",
        "            embeddings_aspects_dim + embeddings_words_dim, hidden_dim,\n",
        "            dropout=0.5,\n",
        "            batch_first=True\n",
        "        )\n",
        "        self.hidden_to_sentiments = nn.Linear(hidden_dim, num_sentiments)\n",
        "\n",
        "        # weights initializatioin\n",
        "        torch.nn.init.xavier_uniform_(self.embeddings_aspects.weight)\n",
        "        torch.nn.init.xavier_uniform_(self.hidden_to_sentiments.weight)\n",
        "        \n",
        "    def forward(self, texts, aspects, hidden=None):\n",
        "        batch_size, seq_len = texts.size()\n",
        "        # shape: [batch_size, seq_len] -> [batch_size, seq_len, embeddings_words_dim]\n",
        "        embeddings_words_out = self.embeddings_words(texts)\n",
        "        # shape: [batch_size] -> [batch_size, seq_len, embedding_aspects_dim]\n",
        "        embeddings_aspects_out = self.embeddings_aspects(aspects)\n",
        "        embeddings_aspects_out = torch.unsqueeze(embeddings_aspects_out, 1)\n",
        "        embeddings_aspects_out = torch.repeat_interleave(\n",
        "            embeddings_aspects_out, seq_len, 1\n",
        "        )\n",
        "        # shape: -> [batch_size, seq_len, embedding_words_dim + embedding_aspects_dim]\n",
        "        embeddings = torch.cat(\n",
        "            [embeddings_words_out, embeddings_aspects_out], dim=-1,\n",
        "        )\n",
        "        # shape: [batch_size, seq_len, embeddings_dim] -> [batch_size, hidden_dim]\n",
        "        lstm_out, hidden_state = self.lstm(embeddings, hidden)\n",
        "        lstm_out = lstm_out[:, -1, :]\n",
        "        # shape: [batch_size, hidden_size] -> [batch_size, num_sentiments]\n",
        "        sentiments_scores = self.hidden_to_sentiments(lstm_out)\n",
        "        return sentiments_scores, hidden_state"
      ],
      "execution_count": 0,
      "outputs": []
    },
    {
      "cell_type": "markdown",
      "metadata": {
        "id": "OTr5tdu6nl4A",
        "colab_type": "text"
      },
      "source": [
        "Возьмем параметры, как в статье: `embeddings_aspects_dim=300`, `hidden_dim=300`."
      ]
    },
    {
      "cell_type": "code",
      "metadata": {
        "id": "l_2Wskt-inX_",
        "colab_type": "code",
        "outputId": "276ca14a-0e80-46e5-958e-36076cec1bc7",
        "colab": {
          "base_uri": "https://localhost:8080/",
          "height": 176
        }
      },
      "source": [
        "num_aspects = len(ASPECT.vocab)\n",
        "embeddings_aspects_dim = 300\n",
        "hidden_dim = 300\n",
        "num_sentiments = len(SENTIMENT.vocab)\n",
        "embeddings_words_init = TEXT.vocab.vectors\n",
        "\n",
        "set_seed_everywhere(random_seed, USE_GPU)\n",
        "model = AE_LSTM(\n",
        "    num_aspects, embeddings_aspects_dim, hidden_dim, num_sentiments, \n",
        "    embeddings_words_init=embeddings_words_init\n",
        ")\n",
        "model"
      ],
      "execution_count": 20,
      "outputs": [
        {
          "output_type": "stream",
          "text": [
            "/usr/local/lib/python3.6/dist-packages/torch/nn/modules/rnn.py:50: UserWarning: dropout option adds dropout after all but last recurrent layer, so non-zero dropout expects num_layers greater than 1, but got dropout=0.5 and num_layers=1\n",
            "  \"num_layers={}\".format(dropout, num_layers))\n"
          ],
          "name": "stderr"
        },
        {
          "output_type": "execute_result",
          "data": {
            "text/plain": [
              "AE_LSTM(\n",
              "  (embeddings_words): Embedding(5041, 300)\n",
              "  (embeddings_aspects): Embedding(6, 300)\n",
              "  (lstm): LSTM(600, 300, batch_first=True, dropout=0.5)\n",
              "  (hidden_to_sentiments): Linear(in_features=300, out_features=3, bias=True)\n",
              ")"
            ]
          },
          "metadata": {
            "tags": []
          },
          "execution_count": 20
        }
      ]
    },
    {
      "cell_type": "markdown",
      "metadata": {
        "id": "-RPJYxF0iR5S",
        "colab_type": "text"
      },
      "source": [
        "### Тренировочный цикл\n",
        "\n",
        "Здесь мы реализуем тренировочный цикл для нашей модели. По идее нужны momentum, как в статье, равный $0.9$ для Adam установлен автоматически. Здесь же установим и коэффициент l2-регляризации для оптимизитора: $0.001$."
      ]
    },
    {
      "cell_type": "code",
      "metadata": {
        "id": "o0XG5kEsimr2",
        "colab_type": "code",
        "colab": {}
      },
      "source": [
        "model = model.to(device=device)\n",
        "learning_rate = 1e-5\n",
        "early_stopping = 1000\n",
        "grad_clipping_value = 1\n",
        "l2_coef = 1e-3\n",
        "epochs = 300\n",
        "\n",
        "opt = optim.Adam(model.parameters(), lr=learning_rate, weight_decay=l2_coef)\n",
        "scheduler = optim.lr_scheduler.StepLR(opt, step_size=10, gamma=1)\n",
        "criterion = nn.CrossEntropyLoss()\n",
        "path_save = os.path.join(MODEL_PREFIX, 'ae_lstm', 'ae_lstm.pt')"
      ],
      "execution_count": 0,
      "outputs": []
    },
    {
      "cell_type": "code",
      "metadata": {
        "id": "uhKstL-OoNJV",
        "colab_type": "code",
        "colab": {}
      },
      "source": [
        "def train_loop(train_iter, val_iter, model, opt, scheduler, criterion, epochs, \n",
        "               early_stopping):\n",
        "    train_losses = []\n",
        "    val_losses = []\n",
        "    train_acc_values = []\n",
        "    val_acc_values = []\n",
        "    best_val_loss = 10\n",
        "    best_val_acc = 0\n",
        "    not_improves = 0\n",
        "    for epoch in tqdm(range(1, epochs + 1)):\n",
        "        train_loss = 0.0\n",
        "        train_acc = 0\n",
        "        model.train() \n",
        "        for batch in train_iter: \n",
        "\n",
        "            texts = batch.text.to(device=device)\n",
        "            aspects = batch.aspect.to(device=device)\n",
        "            sentiments = batch.sentiment.to(device=device)\n",
        "\n",
        "            opt.zero_grad()\n",
        "            preds, _ = model(texts, aspects)\n",
        "\n",
        "            loss = criterion(preds, sentiments)\n",
        "            loss.backward()\n",
        "            nn.utils.clip_grad_norm_(model.parameters(), grad_clipping_value)\n",
        "            opt.step()\n",
        "            train_loss += loss.item()\n",
        "\n",
        "            pred_sentiments = torch.max(preds, dim=-1)[1]\n",
        "            train_acc += np.sum(\n",
        "                pred_sentiments.cpu().numpy() == sentiments.cpu().numpy()\n",
        "            )\n",
        "\n",
        "        train_loss /= len(train_data)\n",
        "        train_losses.append(train_loss)\n",
        "        train_acc /= len(train_data)\n",
        "        train_acc_values.append(train_acc)\n",
        "\n",
        "        val_loss = 0.0\n",
        "        val_acc = 0\n",
        "        model.eval()\n",
        "        with torch.no_grad():\n",
        "            for batch in val_iter:\n",
        "\n",
        "                texts = batch.text.to(device=device)\n",
        "                aspects = batch.aspect.to(device=device)\n",
        "                sentiments = batch.sentiment.to(device=device)\n",
        "\n",
        "                preds, _ = model(texts, aspects)   \n",
        "                loss = criterion(preds, sentiments)\n",
        "                val_loss += loss.item()\n",
        "\n",
        "                pred_sentiments = torch.max(preds, dim=-1)[1]\n",
        "                val_acc += np.sum(\n",
        "                    pred_sentiments.cpu().numpy() == sentiments.cpu().numpy()\n",
        "                )\n",
        "\n",
        "        val_loss /= len(valid_data)\n",
        "        val_acc /= len(valid_data)\n",
        "        val_losses.append(val_loss)\n",
        "        val_acc_values.append(val_acc)\n",
        "\n",
        "        if val_acc > best_val_acc:\n",
        "            not_improves = 0\n",
        "            best_val_acc = val_acc\n",
        "            torch.save(model.state_dict(), path_save)\n",
        "            print('------SAVED------')\n",
        "        else:\n",
        "            not_improves += 1\n",
        "            if not_improves == early_stopping:\n",
        "                break\n",
        "        \n",
        "        scheduler.step()\n",
        "\n",
        "        print(f'Epoch: {epoch}, '\n",
        "              f'Training Loss*: {1000*train_loss:.5f}, '\n",
        "              f'Validation Loss*: {1000*val_loss:.5f}, \\n'\n",
        "              f'Training Acc: {train_acc:.5f}, '\n",
        "              f'Validation Acc: {val_acc:.5f}')\n",
        "\n",
        "    return train_losses, val_losses, train_acc_values, val_acc_values"
      ],
      "execution_count": 0,
      "outputs": []
    },
    {
      "cell_type": "code",
      "metadata": {
        "id": "CWnA_j8fsiFL",
        "colab_type": "code",
        "outputId": "8b99fc8c-281e-4fa7-c55e-331185c4a613",
        "colab": {
          "base_uri": "https://localhost:8080/",
          "height": 1000,
          "referenced_widgets": [
            "92d30e9351e34ee88850a94dfe7706ce",
            "2c6e1aa4d2ae4d6c86898ab65bf35b13",
            "339e9b6b232c4c7ab3154eaff364063d",
            "7b23464358f14677bff3c1a6bdde13d3",
            "4184016d90534a1782dd55fc541a2a51",
            "2d254e8294ac4379ba5b1e9eefc2a3c8",
            "ef29052deb3844efa8988585160f8fb9",
            "ce14dc7141054ae4a4a071d289f8d7ba"
          ]
        }
      },
      "source": [
        "set_seed_everywhere(random_seed, USE_GPU)\n",
        "train_losses, val_losses, train_acc, val_acc = train_loop(\n",
        "    train_iter, val_iter, model, opt, scheduler, criterion, \n",
        "    epochs, early_stopping\n",
        ")"
      ],
      "execution_count": 23,
      "outputs": [
        {
          "output_type": "display_data",
          "data": {
            "application/vnd.jupyter.widget-view+json": {
              "model_id": "92d30e9351e34ee88850a94dfe7706ce",
              "version_minor": 0,
              "version_major": 2
            },
            "text/plain": [
              "HBox(children=(IntProgress(value=0, max=300), HTML(value='')))"
            ]
          },
          "metadata": {
            "tags": []
          }
        },
        {
          "output_type": "stream",
          "text": [
            "------SAVED------\n",
            "Epoch: 1, Training Loss*: 16.67779, Validation Loss*: 16.40234, \n",
            "Training Acc: 0.55883, Validation Acc: 0.61878\n",
            "------SAVED------\n",
            "Epoch: 2, Training Loss*: 15.75512, Validation Loss*: 15.73498, \n",
            "Training Acc: 0.61927, Validation Acc: 0.62020\n",
            "Epoch: 3, Training Loss*: 15.02299, Validation Loss*: 15.17906, \n",
            "Training Acc: 0.61962, Validation Acc: 0.61735\n",
            "Epoch: 4, Training Loss*: 14.45840, Validation Loss*: 14.73898, \n",
            "Training Acc: 0.61962, Validation Acc: 0.61735\n",
            "Epoch: 5, Training Loss*: 14.05720, Validation Loss*: 14.41956, \n",
            "Training Acc: 0.61962, Validation Acc: 0.61735\n",
            "Epoch: 6, Training Loss*: 13.79068, Validation Loss*: 14.20038, \n",
            "Training Acc: 0.61962, Validation Acc: 0.61735\n",
            "Epoch: 7, Training Loss*: 13.60638, Validation Loss*: 14.04436, \n",
            "Training Acc: 0.61962, Validation Acc: 0.61735\n",
            "Epoch: 8, Training Loss*: 13.46002, Validation Loss*: 13.92077, \n",
            "Training Acc: 0.61891, Validation Acc: 0.61735\n",
            "Epoch: 9, Training Loss*: 13.32996, Validation Loss*: 13.81262, \n",
            "Training Acc: 0.61891, Validation Acc: 0.61735\n",
            "Epoch: 10, Training Loss*: 13.20812, Validation Loss*: 13.71192, \n",
            "Training Acc: 0.61891, Validation Acc: 0.61451\n",
            "Epoch: 11, Training Loss*: 13.09095, Validation Loss*: 13.61479, \n",
            "Training Acc: 0.61927, Validation Acc: 0.61166\n",
            "Epoch: 12, Training Loss*: 12.97606, Validation Loss*: 13.51880, \n",
            "Training Acc: 0.61891, Validation Acc: 0.61309\n",
            "Epoch: 13, Training Loss*: 12.86127, Validation Loss*: 13.42177, \n",
            "Training Acc: 0.62033, Validation Acc: 0.61024\n",
            "Epoch: 14, Training Loss*: 12.74406, Validation Loss*: 13.32116, \n",
            "Training Acc: 0.61998, Validation Acc: 0.61166\n",
            "Epoch: 15, Training Loss*: 12.62118, Validation Loss*: 13.21384, \n",
            "Training Acc: 0.61998, Validation Acc: 0.61024\n",
            "Epoch: 16, Training Loss*: 12.48849, Validation Loss*: 13.09559, \n",
            "Training Acc: 0.62105, Validation Acc: 0.61166\n",
            "Epoch: 17, Training Loss*: 12.34032, Validation Loss*: 12.96074, \n",
            "Training Acc: 0.62389, Validation Acc: 0.61735\n",
            "------SAVED------\n",
            "Epoch: 18, Training Loss*: 12.16877, Validation Loss*: 12.80177, \n",
            "Training Acc: 0.62922, Validation Acc: 0.62589\n",
            "------SAVED------\n",
            "Epoch: 19, Training Loss*: 11.96313, Validation Loss*: 12.60899, \n",
            "Training Acc: 0.63811, Validation Acc: 0.63727\n",
            "------SAVED------\n",
            "Epoch: 20, Training Loss*: 11.71077, Validation Loss*: 12.37245, \n",
            "Training Acc: 0.64948, Validation Acc: 0.64580\n",
            "------SAVED------\n",
            "Epoch: 21, Training Loss*: 11.40629, Validation Loss*: 12.09138, \n",
            "Training Acc: 0.66193, Validation Acc: 0.66430\n",
            "------SAVED------\n",
            "Epoch: 22, Training Loss*: 11.07672, Validation Loss*: 11.79267, \n",
            "Training Acc: 0.67828, Validation Acc: 0.66856\n",
            "------SAVED------\n",
            "Epoch: 23, Training Loss*: 10.78733, Validation Loss*: 11.52602, \n",
            "Training Acc: 0.69214, Validation Acc: 0.68563\n",
            "------SAVED------\n",
            "Epoch: 24, Training Loss*: 10.58083, Validation Loss*: 11.34099, \n",
            "Training Acc: 0.70850, Validation Acc: 0.69132\n",
            "------SAVED------\n",
            "Epoch: 25, Training Loss*: 10.44045, Validation Loss*: 11.21541, \n",
            "Training Acc: 0.71098, Validation Acc: 0.69275\n",
            "Epoch: 26, Training Loss*: 10.31984, Validation Loss*: 11.12302, \n",
            "Training Acc: 0.71809, Validation Acc: 0.68848\n",
            "Epoch: 27, Training Loss*: 10.21331, Validation Loss*: 11.04986, \n",
            "Training Acc: 0.71881, Validation Acc: 0.68848\n",
            "Epoch: 28, Training Loss*: 10.11869, Validation Loss*: 10.98896, \n",
            "Training Acc: 0.72272, Validation Acc: 0.68990\n",
            "Epoch: 29, Training Loss*: 10.03730, Validation Loss*: 10.93808, \n",
            "Training Acc: 0.72485, Validation Acc: 0.68563\n",
            "Epoch: 30, Training Loss*: 9.96464, Validation Loss*: 10.89506, \n",
            "Training Acc: 0.72449, Validation Acc: 0.68848\n",
            "Epoch: 31, Training Loss*: 9.89938, Validation Loss*: 10.85818, \n",
            "Training Acc: 0.72769, Validation Acc: 0.68990\n",
            "Epoch: 32, Training Loss*: 9.84046, Validation Loss*: 10.82612, \n",
            "Training Acc: 0.72947, Validation Acc: 0.69132\n",
            "------SAVED------\n",
            "Epoch: 33, Training Loss*: 9.78692, Validation Loss*: 10.79786, \n",
            "Training Acc: 0.73125, Validation Acc: 0.69417\n",
            "------SAVED------\n",
            "Epoch: 34, Training Loss*: 9.73778, Validation Loss*: 10.77250, \n",
            "Training Acc: 0.73374, Validation Acc: 0.69559\n",
            "------SAVED------\n",
            "Epoch: 35, Training Loss*: 9.69196, Validation Loss*: 10.74915, \n",
            "Training Acc: 0.73303, Validation Acc: 0.69701\n",
            "------SAVED------\n",
            "Epoch: 36, Training Loss*: 9.64891, Validation Loss*: 10.72698, \n",
            "Training Acc: 0.73480, Validation Acc: 0.70128\n",
            "------SAVED------\n",
            "Epoch: 37, Training Loss*: 9.60768, Validation Loss*: 10.70593, \n",
            "Training Acc: 0.73587, Validation Acc: 0.70413\n",
            "------SAVED------\n",
            "Epoch: 38, Training Loss*: 9.56847, Validation Loss*: 10.68548, \n",
            "Training Acc: 0.73800, Validation Acc: 0.70697\n",
            "------SAVED------\n",
            "Epoch: 39, Training Loss*: 9.53114, Validation Loss*: 10.66534, \n",
            "Training Acc: 0.74085, Validation Acc: 0.70982\n",
            "Epoch: 40, Training Loss*: 9.49515, Validation Loss*: 10.64572, \n",
            "Training Acc: 0.74191, Validation Acc: 0.70839\n",
            "Epoch: 41, Training Loss*: 9.46032, Validation Loss*: 10.62695, \n",
            "Training Acc: 0.74440, Validation Acc: 0.70982\n",
            "Epoch: 42, Training Loss*: 9.42664, Validation Loss*: 10.60913, \n",
            "Training Acc: 0.74582, Validation Acc: 0.70982\n",
            "Epoch: 43, Training Loss*: 9.39401, Validation Loss*: 10.59227, \n",
            "Training Acc: 0.74653, Validation Acc: 0.70982\n",
            "Epoch: 44, Training Loss*: 9.36234, Validation Loss*: 10.57634, \n",
            "Training Acc: 0.74796, Validation Acc: 0.70982\n",
            "------SAVED------\n",
            "Epoch: 45, Training Loss*: 9.33154, Validation Loss*: 10.56126, \n",
            "Training Acc: 0.74938, Validation Acc: 0.71124\n",
            "Epoch: 46, Training Loss*: 9.30149, Validation Loss*: 10.54699, \n",
            "Training Acc: 0.74938, Validation Acc: 0.71124\n",
            "------SAVED------\n",
            "Epoch: 47, Training Loss*: 9.27207, Validation Loss*: 10.53353, \n",
            "Training Acc: 0.74973, Validation Acc: 0.71266\n",
            "------SAVED------\n",
            "Epoch: 48, Training Loss*: 9.24328, Validation Loss*: 10.52088, \n",
            "Training Acc: 0.75009, Validation Acc: 0.71550\n",
            "Epoch: 49, Training Loss*: 9.21512, Validation Loss*: 10.50901, \n",
            "Training Acc: 0.75044, Validation Acc: 0.71550\n",
            "------SAVED------\n",
            "Epoch: 50, Training Loss*: 9.18754, Validation Loss*: 10.49790, \n",
            "Training Acc: 0.75116, Validation Acc: 0.71693\n",
            "------SAVED------\n",
            "Epoch: 51, Training Loss*: 9.16049, Validation Loss*: 10.48741, \n",
            "Training Acc: 0.75187, Validation Acc: 0.71977\n",
            "------SAVED------\n",
            "Epoch: 52, Training Loss*: 9.13399, Validation Loss*: 10.47757, \n",
            "Training Acc: 0.75364, Validation Acc: 0.72119\n",
            "Epoch: 53, Training Loss*: 9.10779, Validation Loss*: 10.46831, \n",
            "Training Acc: 0.75435, Validation Acc: 0.72119\n",
            "Epoch: 54, Training Loss*: 9.08159, Validation Loss*: 10.45951, \n",
            "Training Acc: 0.75542, Validation Acc: 0.71977\n",
            "Epoch: 55, Training Loss*: 9.05503, Validation Loss*: 10.45105, \n",
            "Training Acc: 0.75755, Validation Acc: 0.71835\n",
            "Epoch: 56, Training Loss*: 9.02782, Validation Loss*: 10.44301, \n",
            "Training Acc: 0.75791, Validation Acc: 0.71693\n",
            "Epoch: 57, Training Loss*: 9.00020, Validation Loss*: 10.43571, \n",
            "Training Acc: 0.75969, Validation Acc: 0.71835\n",
            "Epoch: 58, Training Loss*: 8.97342, Validation Loss*: 10.42934, \n",
            "Training Acc: 0.75969, Validation Acc: 0.71835\n",
            "Epoch: 59, Training Loss*: 8.94782, Validation Loss*: 10.42368, \n",
            "Training Acc: 0.75969, Validation Acc: 0.71550\n",
            "Epoch: 60, Training Loss*: 8.92282, Validation Loss*: 10.41844, \n",
            "Training Acc: 0.76004, Validation Acc: 0.71977\n",
            "Epoch: 61, Training Loss*: 8.89825, Validation Loss*: 10.41357, \n",
            "Training Acc: 0.75933, Validation Acc: 0.72119\n",
            "------SAVED------\n",
            "Epoch: 62, Training Loss*: 8.87405, Validation Loss*: 10.40905, \n",
            "Training Acc: 0.76253, Validation Acc: 0.72262\n",
            "------SAVED------\n",
            "Epoch: 63, Training Loss*: 8.85017, Validation Loss*: 10.40486, \n",
            "Training Acc: 0.76395, Validation Acc: 0.72546\n",
            "Epoch: 64, Training Loss*: 8.82659, Validation Loss*: 10.40098, \n",
            "Training Acc: 0.76466, Validation Acc: 0.72546\n",
            "Epoch: 65, Training Loss*: 8.80327, Validation Loss*: 10.39742, \n",
            "Training Acc: 0.76431, Validation Acc: 0.72119\n",
            "Epoch: 66, Training Loss*: 8.78021, Validation Loss*: 10.39415, \n",
            "Training Acc: 0.76502, Validation Acc: 0.72262\n",
            "Epoch: 67, Training Loss*: 8.75738, Validation Loss*: 10.39116, \n",
            "Training Acc: 0.76609, Validation Acc: 0.72404\n",
            "Epoch: 68, Training Loss*: 8.73478, Validation Loss*: 10.38845, \n",
            "Training Acc: 0.76609, Validation Acc: 0.72404\n",
            "Epoch: 69, Training Loss*: 8.71238, Validation Loss*: 10.38601, \n",
            "Training Acc: 0.76786, Validation Acc: 0.72404\n",
            "Epoch: 70, Training Loss*: 8.69020, Validation Loss*: 10.38384, \n",
            "Training Acc: 0.76893, Validation Acc: 0.72119\n",
            "Epoch: 71, Training Loss*: 8.66821, Validation Loss*: 10.38192, \n",
            "Training Acc: 0.76964, Validation Acc: 0.71977\n",
            "Epoch: 72, Training Loss*: 8.64643, Validation Loss*: 10.38025, \n",
            "Training Acc: 0.77177, Validation Acc: 0.71693\n",
            "Epoch: 73, Training Loss*: 8.62484, Validation Loss*: 10.37882, \n",
            "Training Acc: 0.77284, Validation Acc: 0.71693\n",
            "Epoch: 74, Training Loss*: 8.60345, Validation Loss*: 10.37765, \n",
            "Training Acc: 0.77462, Validation Acc: 0.71550\n",
            "Epoch: 75, Training Loss*: 8.58224, Validation Loss*: 10.37672, \n",
            "Training Acc: 0.77604, Validation Acc: 0.71693\n",
            "Epoch: 76, Training Loss*: 8.56122, Validation Loss*: 10.37605, \n",
            "Training Acc: 0.77640, Validation Acc: 0.71693\n",
            "Epoch: 77, Training Loss*: 8.54039, Validation Loss*: 10.37567, \n",
            "Training Acc: 0.77675, Validation Acc: 0.71835\n",
            "Epoch: 78, Training Loss*: 8.51973, Validation Loss*: 10.37561, \n",
            "Training Acc: 0.77782, Validation Acc: 0.71835\n",
            "Epoch: 79, Training Loss*: 8.49925, Validation Loss*: 10.37595, \n",
            "Training Acc: 0.77995, Validation Acc: 0.71693\n",
            "Epoch: 80, Training Loss*: 8.47894, Validation Loss*: 10.37683, \n",
            "Training Acc: 0.77924, Validation Acc: 0.71835\n",
            "Epoch: 81, Training Loss*: 8.45880, Validation Loss*: 10.37848, \n",
            "Training Acc: 0.77959, Validation Acc: 0.72119\n",
            "Epoch: 82, Training Loss*: 8.43883, Validation Loss*: 10.38132, \n",
            "Training Acc: 0.77924, Validation Acc: 0.72262\n",
            "Epoch: 83, Training Loss*: 8.41898, Validation Loss*: 10.38600, \n",
            "Training Acc: 0.78102, Validation Acc: 0.72262\n",
            "Epoch: 84, Training Loss*: 8.39925, Validation Loss*: 10.39364, \n",
            "Training Acc: 0.78173, Validation Acc: 0.72262\n",
            "Epoch: 85, Training Loss*: 8.37967, Validation Loss*: 10.40558, \n",
            "Training Acc: 0.78208, Validation Acc: 0.72262\n",
            "Epoch: 86, Training Loss*: 8.36024, Validation Loss*: 10.42247, \n",
            "Training Acc: 0.78315, Validation Acc: 0.72546\n",
            "Epoch: 87, Training Loss*: 8.34097, Validation Loss*: 10.44315, \n",
            "Training Acc: 0.78422, Validation Acc: 0.72404\n",
            "Epoch: 88, Training Loss*: 8.32185, Validation Loss*: 10.46497, \n",
            "Training Acc: 0.78422, Validation Acc: 0.72404\n",
            "Epoch: 89, Training Loss*: 8.30288, Validation Loss*: 10.48535, \n",
            "Training Acc: 0.78351, Validation Acc: 0.72404\n",
            "Epoch: 90, Training Loss*: 8.28405, Validation Loss*: 10.50298, \n",
            "Training Acc: 0.78457, Validation Acc: 0.72546\n",
            "------SAVED------\n",
            "Epoch: 91, Training Loss*: 8.26536, Validation Loss*: 10.51769, \n",
            "Training Acc: 0.78457, Validation Acc: 0.72831\n",
            "------SAVED------\n",
            "Epoch: 92, Training Loss*: 8.24678, Validation Loss*: 10.52993, \n",
            "Training Acc: 0.78528, Validation Acc: 0.72973\n",
            "Epoch: 93, Training Loss*: 8.22832, Validation Loss*: 10.54025, \n",
            "Training Acc: 0.78386, Validation Acc: 0.72973\n",
            "------SAVED------\n",
            "Epoch: 94, Training Loss*: 8.20994, Validation Loss*: 10.54915, \n",
            "Training Acc: 0.78422, Validation Acc: 0.73115\n",
            "Epoch: 95, Training Loss*: 8.19164, Validation Loss*: 10.55701, \n",
            "Training Acc: 0.78422, Validation Acc: 0.72973\n",
            "Epoch: 96, Training Loss*: 8.17338, Validation Loss*: 10.56407, \n",
            "Training Acc: 0.78422, Validation Acc: 0.72688\n",
            "Epoch: 97, Training Loss*: 8.15513, Validation Loss*: 10.57053, \n",
            "Training Acc: 0.78457, Validation Acc: 0.72688\n",
            "Epoch: 98, Training Loss*: 8.13684, Validation Loss*: 10.57651, \n",
            "Training Acc: 0.78493, Validation Acc: 0.72688\n",
            "Epoch: 99, Training Loss*: 8.11852, Validation Loss*: 10.58213, \n",
            "Training Acc: 0.78528, Validation Acc: 0.72688\n",
            "Epoch: 100, Training Loss*: 8.10022, Validation Loss*: 10.58751, \n",
            "Training Acc: 0.78528, Validation Acc: 0.72831\n",
            "Epoch: 101, Training Loss*: 8.08198, Validation Loss*: 10.59263, \n",
            "Training Acc: 0.78564, Validation Acc: 0.72688\n",
            "Epoch: 102, Training Loss*: 8.06369, Validation Loss*: 10.59729, \n",
            "Training Acc: 0.78670, Validation Acc: 0.72688\n",
            "Epoch: 103, Training Loss*: 8.04467, Validation Loss*: 10.60210, \n",
            "Training Acc: 0.78884, Validation Acc: 0.72404\n",
            "Epoch: 104, Training Loss*: 8.02532, Validation Loss*: 10.60781, \n",
            "Training Acc: 0.78955, Validation Acc: 0.72404\n",
            "Epoch: 105, Training Loss*: 8.00693, Validation Loss*: 10.61411, \n",
            "Training Acc: 0.78990, Validation Acc: 0.72404\n",
            "Epoch: 106, Training Loss*: 7.98916, Validation Loss*: 10.62060, \n",
            "Training Acc: 0.78990, Validation Acc: 0.72546\n",
            "Epoch: 107, Training Loss*: 7.97164, Validation Loss*: 10.62706, \n",
            "Training Acc: 0.78955, Validation Acc: 0.72546\n",
            "Epoch: 108, Training Loss*: 7.95419, Validation Loss*: 10.63350, \n",
            "Training Acc: 0.78990, Validation Acc: 0.72546\n",
            "Epoch: 109, Training Loss*: 7.93675, Validation Loss*: 10.63998, \n",
            "Training Acc: 0.79026, Validation Acc: 0.72546\n",
            "Epoch: 110, Training Loss*: 7.91929, Validation Loss*: 10.64656, \n",
            "Training Acc: 0.79097, Validation Acc: 0.72688\n",
            "Epoch: 111, Training Loss*: 7.90177, Validation Loss*: 10.65317, \n",
            "Training Acc: 0.79168, Validation Acc: 0.72688\n",
            "Epoch: 112, Training Loss*: 7.88404, Validation Loss*: 10.65946, \n",
            "Training Acc: 0.79239, Validation Acc: 0.72688\n",
            "Epoch: 113, Training Loss*: 7.86563, Validation Loss*: 10.66501, \n",
            "Training Acc: 0.79453, Validation Acc: 0.72688\n",
            "Epoch: 114, Training Loss*: 7.84598, Validation Loss*: 10.67219, \n",
            "Training Acc: 0.79630, Validation Acc: 0.72688\n",
            "Epoch: 115, Training Loss*: 7.82752, Validation Loss*: 10.68116, \n",
            "Training Acc: 0.79737, Validation Acc: 0.72688\n",
            "Epoch: 116, Training Loss*: 7.80991, Validation Loss*: 10.69045, \n",
            "Training Acc: 0.79844, Validation Acc: 0.72688\n",
            "Epoch: 117, Training Loss*: 7.79241, Validation Loss*: 10.70001, \n",
            "Training Acc: 0.79879, Validation Acc: 0.72688\n",
            "Epoch: 118, Training Loss*: 7.77541, Validation Loss*: 10.70945, \n",
            "Training Acc: 0.79844, Validation Acc: 0.72546\n",
            "Epoch: 119, Training Loss*: 7.75843, Validation Loss*: 10.71892, \n",
            "Training Acc: 0.79879, Validation Acc: 0.72688\n",
            "Epoch: 120, Training Loss*: 7.74175, Validation Loss*: 10.72823, \n",
            "Training Acc: 0.79915, Validation Acc: 0.72831\n",
            "Epoch: 121, Training Loss*: 7.72504, Validation Loss*: 10.73757, \n",
            "Training Acc: 0.79950, Validation Acc: 0.72831\n",
            "Epoch: 122, Training Loss*: 7.70848, Validation Loss*: 10.74687, \n",
            "Training Acc: 0.79950, Validation Acc: 0.72688\n",
            "Epoch: 123, Training Loss*: 7.69190, Validation Loss*: 10.75632, \n",
            "Training Acc: 0.79844, Validation Acc: 0.72546\n",
            "Epoch: 124, Training Loss*: 7.67539, Validation Loss*: 10.76589, \n",
            "Training Acc: 0.79879, Validation Acc: 0.72404\n",
            "Epoch: 125, Training Loss*: 7.65885, Validation Loss*: 10.77575, \n",
            "Training Acc: 0.79950, Validation Acc: 0.72404\n",
            "Epoch: 126, Training Loss*: 7.64234, Validation Loss*: 10.78586, \n",
            "Training Acc: 0.80021, Validation Acc: 0.72404\n",
            "Epoch: 127, Training Loss*: 7.62580, Validation Loss*: 10.79638, \n",
            "Training Acc: 0.80164, Validation Acc: 0.72404\n",
            "Epoch: 128, Training Loss*: 7.60927, Validation Loss*: 10.80728, \n",
            "Training Acc: 0.80235, Validation Acc: 0.72262\n",
            "Epoch: 129, Training Loss*: 7.59269, Validation Loss*: 10.81870, \n",
            "Training Acc: 0.80270, Validation Acc: 0.72404\n",
            "Epoch: 130, Training Loss*: 7.57612, Validation Loss*: 10.83056, \n",
            "Training Acc: 0.80412, Validation Acc: 0.72404\n",
            "Epoch: 131, Training Loss*: 7.55946, Validation Loss*: 10.84317, \n",
            "Training Acc: 0.80590, Validation Acc: 0.72404\n",
            "Epoch: 132, Training Loss*: 7.54283, Validation Loss*: 10.85624, \n",
            "Training Acc: 0.80626, Validation Acc: 0.72404\n",
            "Epoch: 133, Training Loss*: 7.52602, Validation Loss*: 10.87063, \n",
            "Training Acc: 0.80732, Validation Acc: 0.72404\n",
            "Epoch: 134, Training Loss*: 7.50943, Validation Loss*: 10.88483, \n",
            "Training Acc: 0.80697, Validation Acc: 0.72688\n",
            "Epoch: 135, Training Loss*: 7.49219, Validation Loss*: 10.90319, \n",
            "Training Acc: 0.80768, Validation Acc: 0.72831\n",
            "Epoch: 136, Training Loss*: 7.47654, Validation Loss*: 10.91514, \n",
            "Training Acc: 0.80803, Validation Acc: 0.72973\n",
            "Epoch: 137, Training Loss*: 7.45718, Validation Loss*: 10.94852, \n",
            "Training Acc: 0.80946, Validation Acc: 0.72688\n",
            "Epoch: 138, Training Loss*: 7.44806, Validation Loss*: 10.95002, \n",
            "Training Acc: 0.80839, Validation Acc: 0.72831\n",
            "Epoch: 139, Training Loss*: 7.42362, Validation Loss*: 10.98992, \n",
            "Training Acc: 0.80946, Validation Acc: 0.72688\n",
            "Epoch: 140, Training Loss*: 7.41848, Validation Loss*: 10.99307, \n",
            "Training Acc: 0.80875, Validation Acc: 0.72688\n",
            "Epoch: 141, Training Loss*: 7.39353, Validation Loss*: 11.02122, \n",
            "Training Acc: 0.80946, Validation Acc: 0.72688\n",
            "Epoch: 142, Training Loss*: 7.38493, Validation Loss*: 11.03860, \n",
            "Training Acc: 0.80875, Validation Acc: 0.72688\n",
            "Epoch: 143, Training Loss*: 7.36355, Validation Loss*: 11.05288, \n",
            "Training Acc: 0.81052, Validation Acc: 0.72688\n",
            "Epoch: 144, Training Loss*: 7.34975, Validation Loss*: 11.08247, \n",
            "Training Acc: 0.81123, Validation Acc: 0.72546\n",
            "Epoch: 145, Training Loss*: 7.33439, Validation Loss*: 11.11966, \n",
            "Training Acc: 0.81194, Validation Acc: 0.72546\n",
            "Epoch: 146, Training Loss*: 7.32492, Validation Loss*: 11.14069, \n",
            "Training Acc: 0.81088, Validation Acc: 0.72688\n",
            "Epoch: 147, Training Loss*: 7.30644, Validation Loss*: 11.15647, \n",
            "Training Acc: 0.81266, Validation Acc: 0.72688\n",
            "Epoch: 148, Training Loss*: 7.29342, Validation Loss*: 11.19211, \n",
            "Training Acc: 0.81230, Validation Acc: 0.72688\n",
            "Epoch: 149, Training Loss*: 7.28021, Validation Loss*: 11.22334, \n",
            "Training Acc: 0.81194, Validation Acc: 0.72546\n",
            "Epoch: 150, Training Loss*: 7.26778, Validation Loss*: 11.25434, \n",
            "Training Acc: 0.81301, Validation Acc: 0.72688\n",
            "Epoch: 151, Training Loss*: 7.25502, Validation Loss*: 11.28545, \n",
            "Training Acc: 0.81266, Validation Acc: 0.72546\n",
            "Epoch: 152, Training Loss*: 7.24321, Validation Loss*: 11.32028, \n",
            "Training Acc: 0.81301, Validation Acc: 0.72404\n",
            "Epoch: 153, Training Loss*: 7.23074, Validation Loss*: 11.35036, \n",
            "Training Acc: 0.81301, Validation Acc: 0.72404\n",
            "Epoch: 154, Training Loss*: 7.21961, Validation Loss*: 11.38852, \n",
            "Training Acc: 0.81408, Validation Acc: 0.72262\n",
            "Epoch: 155, Training Loss*: 7.20760, Validation Loss*: 11.41931, \n",
            "Training Acc: 0.81443, Validation Acc: 0.72404\n",
            "Epoch: 156, Training Loss*: 7.19709, Validation Loss*: 11.45835, \n",
            "Training Acc: 0.81550, Validation Acc: 0.72404\n",
            "Epoch: 157, Training Loss*: 7.18582, Validation Loss*: 11.49113, \n",
            "Training Acc: 0.81621, Validation Acc: 0.72262\n",
            "Epoch: 158, Training Loss*: 7.17588, Validation Loss*: 11.52903, \n",
            "Training Acc: 0.81692, Validation Acc: 0.72404\n",
            "Epoch: 159, Training Loss*: 7.16557, Validation Loss*: 11.56328, \n",
            "Training Acc: 0.81763, Validation Acc: 0.72404\n",
            "Epoch: 160, Training Loss*: 7.15629, Validation Loss*: 11.59954, \n",
            "Training Acc: 0.81799, Validation Acc: 0.72404\n",
            "Epoch: 161, Training Loss*: 7.14710, Validation Loss*: 11.63408, \n",
            "Training Acc: 0.81870, Validation Acc: 0.72404\n",
            "Epoch: 162, Training Loss*: 7.13871, Validation Loss*: 11.66903, \n",
            "Training Acc: 0.81941, Validation Acc: 0.72404\n",
            "Epoch: 163, Training Loss*: 7.13075, Validation Loss*: 11.70318, \n",
            "Training Acc: 0.82048, Validation Acc: 0.72262\n",
            "Epoch: 164, Training Loss*: 7.12350, Validation Loss*: 11.73728, \n",
            "Training Acc: 0.82048, Validation Acc: 0.72262\n",
            "Epoch: 165, Training Loss*: 7.11688, Validation Loss*: 11.77102, \n",
            "Training Acc: 0.82083, Validation Acc: 0.72119\n",
            "Epoch: 166, Training Loss*: 7.11098, Validation Loss*: 11.80467, \n",
            "Training Acc: 0.82119, Validation Acc: 0.72262\n",
            "Epoch: 167, Training Loss*: 7.10576, Validation Loss*: 11.83818, \n",
            "Training Acc: 0.82083, Validation Acc: 0.72262\n",
            "Epoch: 168, Training Loss*: 7.10124, Validation Loss*: 11.87172, \n",
            "Training Acc: 0.82154, Validation Acc: 0.72119\n",
            "Epoch: 169, Training Loss*: 7.09727, Validation Loss*: 11.90528, \n",
            "Training Acc: 0.82225, Validation Acc: 0.71835\n",
            "Epoch: 170, Training Loss*: 7.09368, Validation Loss*: 11.93901, \n",
            "Training Acc: 0.82261, Validation Acc: 0.71835\n",
            "Epoch: 171, Training Loss*: 7.09008, Validation Loss*: 11.97297, \n",
            "Training Acc: 0.82368, Validation Acc: 0.71835\n",
            "Epoch: 172, Training Loss*: 7.08601, Validation Loss*: 12.00730, \n",
            "Training Acc: 0.82474, Validation Acc: 0.71693\n",
            "Epoch: 173, Training Loss*: 7.08104, Validation Loss*: 12.04217, \n",
            "Training Acc: 0.82474, Validation Acc: 0.71408\n",
            "Epoch: 174, Training Loss*: 7.07492, Validation Loss*: 12.07783, \n",
            "Training Acc: 0.82474, Validation Acc: 0.71550\n",
            "Epoch: 175, Training Loss*: 7.06774, Validation Loss*: 12.11469, \n",
            "Training Acc: 0.82510, Validation Acc: 0.71550\n",
            "Epoch: 176, Training Loss*: 7.05976, Validation Loss*: 12.15299, \n",
            "Training Acc: 0.82474, Validation Acc: 0.71550\n",
            "Epoch: 177, Training Loss*: 7.05138, Validation Loss*: 12.19277, \n",
            "Training Acc: 0.82474, Validation Acc: 0.71408\n",
            "Epoch: 178, Training Loss*: 7.04292, Validation Loss*: 12.23373, \n",
            "Training Acc: 0.82510, Validation Acc: 0.71550\n",
            "Epoch: 179, Training Loss*: 7.03458, Validation Loss*: 12.27548, \n",
            "Training Acc: 0.82439, Validation Acc: 0.71550\n",
            "Epoch: 180, Training Loss*: 7.02622, Validation Loss*: 12.31738, \n",
            "Training Acc: 0.82439, Validation Acc: 0.71835\n",
            "Epoch: 181, Training Loss*: 7.01748, Validation Loss*: 12.35874, \n",
            "Training Acc: 0.82474, Validation Acc: 0.71693\n",
            "Epoch: 182, Training Loss*: 7.00866, Validation Loss*: 12.40043, \n",
            "Training Acc: 0.82581, Validation Acc: 0.71693\n",
            "Epoch: 183, Training Loss*: 7.00015, Validation Loss*: 12.44336, \n",
            "Training Acc: 0.82652, Validation Acc: 0.71835\n",
            "Epoch: 184, Training Loss*: 6.99188, Validation Loss*: 12.48707, \n",
            "Training Acc: 0.82616, Validation Acc: 0.71835\n",
            "Epoch: 185, Training Loss*: 6.98374, Validation Loss*: 12.53137, \n",
            "Training Acc: 0.82723, Validation Acc: 0.71693\n",
            "Epoch: 186, Training Loss*: 6.97572, Validation Loss*: 12.57637, \n",
            "Training Acc: 0.82830, Validation Acc: 0.71693\n",
            "Epoch: 187, Training Loss*: 6.96782, Validation Loss*: 12.62232, \n",
            "Training Acc: 0.82865, Validation Acc: 0.71693\n",
            "Epoch: 188, Training Loss*: 6.96003, Validation Loss*: 12.66953, \n",
            "Training Acc: 0.82759, Validation Acc: 0.71693\n",
            "Epoch: 189, Training Loss*: 6.95216, Validation Loss*: 12.71745, \n",
            "Training Acc: 0.82794, Validation Acc: 0.71693\n",
            "Epoch: 190, Training Loss*: 6.94402, Validation Loss*: 12.76423, \n",
            "Training Acc: 0.82830, Validation Acc: 0.71835\n",
            "Epoch: 191, Training Loss*: 6.93599, Validation Loss*: 12.81190, \n",
            "Training Acc: 0.82865, Validation Acc: 0.71977\n",
            "Epoch: 192, Training Loss*: 6.92823, Validation Loss*: 12.86831, \n",
            "Training Acc: 0.82901, Validation Acc: 0.71977\n",
            "Epoch: 193, Training Loss*: 6.91851, Validation Loss*: 12.91407, \n",
            "Training Acc: 0.83007, Validation Acc: 0.71835\n",
            "Epoch: 194, Training Loss*: 6.90774, Validation Loss*: 12.91459, \n",
            "Training Acc: 0.83079, Validation Acc: 0.71693\n",
            "Epoch: 195, Training Loss*: 6.90669, Validation Loss*: 13.04625, \n",
            "Training Acc: 0.83292, Validation Acc: 0.72119\n",
            "Epoch: 196, Training Loss*: 6.89783, Validation Loss*: 13.19480, \n",
            "Training Acc: 0.83327, Validation Acc: 0.72262\n",
            "Epoch: 197, Training Loss*: 6.88213, Validation Loss*: 12.95271, \n",
            "Training Acc: 0.83256, Validation Acc: 0.72688\n",
            "Epoch: 198, Training Loss*: 6.91129, Validation Loss*: 13.09244, \n",
            "Training Acc: 0.83612, Validation Acc: 0.72404\n",
            "Epoch: 199, Training Loss*: 6.92607, Validation Loss*: 13.39588, \n",
            "Training Acc: 0.83683, Validation Acc: 0.71977\n",
            "Epoch: 200, Training Loss*: 6.89037, Validation Loss*: 13.36000, \n",
            "Training Acc: 0.83470, Validation Acc: 0.71977\n",
            "Epoch: 201, Training Loss*: 6.88112, Validation Loss*: 13.47167, \n",
            "Training Acc: 0.83612, Validation Acc: 0.72262\n",
            "Epoch: 202, Training Loss*: 6.87096, Validation Loss*: 13.51917, \n",
            "Training Acc: 0.83754, Validation Acc: 0.72119\n",
            "Epoch: 203, Training Loss*: 6.85577, Validation Loss*: 13.53110, \n",
            "Training Acc: 0.83683, Validation Acc: 0.72119\n",
            "Epoch: 204, Training Loss*: 6.84360, Validation Loss*: 13.55421, \n",
            "Training Acc: 0.83861, Validation Acc: 0.72404\n",
            "Epoch: 205, Training Loss*: 6.83207, Validation Loss*: 13.61894, \n",
            "Training Acc: 0.83896, Validation Acc: 0.72546\n",
            "Epoch: 206, Training Loss*: 6.82408, Validation Loss*: 13.58624, \n",
            "Training Acc: 0.83932, Validation Acc: 0.72688\n",
            "Epoch: 207, Training Loss*: 6.80174, Validation Loss*: 13.70903, \n",
            "Training Acc: 0.84145, Validation Acc: 0.72404\n",
            "Epoch: 208, Training Loss*: 6.79778, Validation Loss*: 13.77328, \n",
            "Training Acc: 0.84038, Validation Acc: 0.72546\n",
            "Epoch: 209, Training Loss*: 6.78160, Validation Loss*: 13.81832, \n",
            "Training Acc: 0.84145, Validation Acc: 0.72688\n",
            "Epoch: 210, Training Loss*: 6.76961, Validation Loss*: 13.84464, \n",
            "Training Acc: 0.84145, Validation Acc: 0.72404\n",
            "Epoch: 211, Training Loss*: 6.75577, Validation Loss*: 13.88601, \n",
            "Training Acc: 0.84216, Validation Acc: 0.72404\n",
            "Epoch: 212, Training Loss*: 6.74528, Validation Loss*: 13.93974, \n",
            "Training Acc: 0.84287, Validation Acc: 0.72404\n",
            "Epoch: 213, Training Loss*: 6.73546, Validation Loss*: 14.00521, \n",
            "Training Acc: 0.84216, Validation Acc: 0.72546\n",
            "Epoch: 214, Training Loss*: 6.72846, Validation Loss*: 14.08218, \n",
            "Training Acc: 0.84216, Validation Acc: 0.72546\n",
            "Epoch: 215, Training Loss*: 6.72304, Validation Loss*: 14.16649, \n",
            "Training Acc: 0.84252, Validation Acc: 0.72546\n",
            "Epoch: 216, Training Loss*: 6.71990, Validation Loss*: 14.24768, \n",
            "Training Acc: 0.84287, Validation Acc: 0.72546\n",
            "Epoch: 217, Training Loss*: 6.71697, Validation Loss*: 14.31377, \n",
            "Training Acc: 0.84358, Validation Acc: 0.72688\n",
            "Epoch: 218, Training Loss*: 6.71401, Validation Loss*: 14.36382, \n",
            "Training Acc: 0.84358, Validation Acc: 0.72831\n",
            "Epoch: 219, Training Loss*: 6.70900, Validation Loss*: 14.38995, \n",
            "Training Acc: 0.84465, Validation Acc: 0.72262\n",
            "Epoch: 220, Training Loss*: 6.69971, Validation Loss*: 14.39909, \n",
            "Training Acc: 0.84536, Validation Acc: 0.72262\n",
            "Epoch: 221, Training Loss*: 6.68269, Validation Loss*: 14.51269, \n",
            "Training Acc: 0.84643, Validation Acc: 0.72262\n",
            "Epoch: 222, Training Loss*: 6.66580, Validation Loss*: 14.53099, \n",
            "Training Acc: 0.84643, Validation Acc: 0.72119\n",
            "Epoch: 223, Training Loss*: 6.66502, Validation Loss*: 14.63904, \n",
            "Training Acc: 0.84714, Validation Acc: 0.72546\n",
            "Epoch: 224, Training Loss*: 6.64198, Validation Loss*: 14.57826, \n",
            "Training Acc: 0.84501, Validation Acc: 0.72262\n",
            "Epoch: 225, Training Loss*: 6.67166, Validation Loss*: 14.56302, \n",
            "Training Acc: 0.84927, Validation Acc: 0.72546\n",
            "Epoch: 226, Training Loss*: 6.62539, Validation Loss*: 14.81141, \n",
            "Training Acc: 0.84892, Validation Acc: 0.72546\n",
            "Epoch: 227, Training Loss*: 6.62339, Validation Loss*: 14.78879, \n",
            "Training Acc: 0.85105, Validation Acc: 0.72546\n",
            "Epoch: 228, Training Loss*: 6.61155, Validation Loss*: 14.89734, \n",
            "Training Acc: 0.84927, Validation Acc: 0.72262\n",
            "Epoch: 229, Training Loss*: 6.60181, Validation Loss*: 14.63834, \n",
            "Training Acc: 0.84856, Validation Acc: 0.72262\n",
            "Epoch: 230, Training Loss*: 6.58449, Validation Loss*: 14.75661, \n",
            "Training Acc: 0.85069, Validation Acc: 0.72262\n",
            "Epoch: 231, Training Loss*: 6.57225, Validation Loss*: 14.84955, \n",
            "Training Acc: 0.84998, Validation Acc: 0.72262\n",
            "Epoch: 232, Training Loss*: 6.57932, Validation Loss*: 14.80203, \n",
            "Training Acc: 0.84927, Validation Acc: 0.72262\n",
            "Epoch: 233, Training Loss*: 6.54439, Validation Loss*: 14.73941, \n",
            "Training Acc: 0.85034, Validation Acc: 0.72119\n",
            "Epoch: 234, Training Loss*: 6.56929, Validation Loss*: 14.98531, \n",
            "Training Acc: 0.84998, Validation Acc: 0.72546\n",
            "Epoch: 235, Training Loss*: 6.51478, Validation Loss*: 15.06536, \n",
            "Training Acc: 0.85247, Validation Acc: 0.72262\n",
            "Epoch: 236, Training Loss*: 6.52147, Validation Loss*: 14.99173, \n",
            "Training Acc: 0.85069, Validation Acc: 0.72404\n",
            "Epoch: 237, Training Loss*: 6.51128, Validation Loss*: 15.01739, \n",
            "Training Acc: 0.84998, Validation Acc: 0.71977\n",
            "Epoch: 238, Training Loss*: 6.49776, Validation Loss*: 15.18186, \n",
            "Training Acc: 0.85318, Validation Acc: 0.72688\n",
            "Epoch: 239, Training Loss*: 6.49904, Validation Loss*: 14.97774, \n",
            "Training Acc: 0.85176, Validation Acc: 0.71835\n",
            "Epoch: 240, Training Loss*: 6.46648, Validation Loss*: 15.17860, \n",
            "Training Acc: 0.85318, Validation Acc: 0.72404\n",
            "Epoch: 241, Training Loss*: 6.48541, Validation Loss*: 15.07804, \n",
            "Training Acc: 0.85176, Validation Acc: 0.72262\n",
            "Epoch: 242, Training Loss*: 6.43478, Validation Loss*: 15.25723, \n",
            "Training Acc: 0.85603, Validation Acc: 0.72546\n",
            "Epoch: 243, Training Loss*: 6.47199, Validation Loss*: 15.21565, \n",
            "Training Acc: 0.85389, Validation Acc: 0.72688\n",
            "Epoch: 244, Training Loss*: 6.41939, Validation Loss*: 15.58558, \n",
            "Training Acc: 0.85674, Validation Acc: 0.72688\n",
            "Epoch: 245, Training Loss*: 6.47212, Validation Loss*: 15.28427, \n",
            "Training Acc: 0.85354, Validation Acc: 0.72688\n",
            "Epoch: 246, Training Loss*: 6.40333, Validation Loss*: 15.69046, \n",
            "Training Acc: 0.85531, Validation Acc: 0.72546\n",
            "Epoch: 247, Training Loss*: 6.46162, Validation Loss*: 15.32339, \n",
            "Training Acc: 0.85354, Validation Acc: 0.72546\n",
            "Epoch: 248, Training Loss*: 6.39394, Validation Loss*: 15.65586, \n",
            "Training Acc: 0.85531, Validation Acc: 0.72404\n",
            "Epoch: 249, Training Loss*: 6.41345, Validation Loss*: 15.33708, \n",
            "Training Acc: 0.85425, Validation Acc: 0.72404\n",
            "Epoch: 250, Training Loss*: 6.38841, Validation Loss*: 15.47831, \n",
            "Training Acc: 0.85425, Validation Acc: 0.72119\n",
            "Epoch: 251, Training Loss*: 6.37515, Validation Loss*: 15.69187, \n",
            "Training Acc: 0.85531, Validation Acc: 0.72404\n",
            "Epoch: 252, Training Loss*: 6.38661, Validation Loss*: 15.53490, \n",
            "Training Acc: 0.85674, Validation Acc: 0.71977\n",
            "Epoch: 253, Training Loss*: 6.34065, Validation Loss*: 16.23309, \n",
            "Training Acc: 0.85531, Validation Acc: 0.72546\n",
            "Epoch: 254, Training Loss*: 6.37946, Validation Loss*: 15.70782, \n",
            "Training Acc: 0.85709, Validation Acc: 0.71977\n",
            "Epoch: 255, Training Loss*: 6.31915, Validation Loss*: 16.27263, \n",
            "Training Acc: 0.85674, Validation Acc: 0.72404\n",
            "Epoch: 256, Training Loss*: 6.38303, Validation Loss*: 15.88215, \n",
            "Training Acc: 0.85923, Validation Acc: 0.72688\n",
            "Epoch: 257, Training Loss*: 6.29025, Validation Loss*: 16.23707, \n",
            "Training Acc: 0.85780, Validation Acc: 0.72262\n",
            "Epoch: 258, Training Loss*: 6.37392, Validation Loss*: 15.94907, \n",
            "Training Acc: 0.85851, Validation Acc: 0.72546\n",
            "Epoch: 259, Training Loss*: 6.26087, Validation Loss*: 16.30995, \n",
            "Training Acc: 0.85994, Validation Acc: 0.71693\n",
            "Epoch: 260, Training Loss*: 6.39659, Validation Loss*: 16.04996, \n",
            "Training Acc: 0.85851, Validation Acc: 0.72404\n",
            "Epoch: 261, Training Loss*: 6.23145, Validation Loss*: 16.27060, \n",
            "Training Acc: 0.86171, Validation Acc: 0.71977\n",
            "Epoch: 262, Training Loss*: 6.32342, Validation Loss*: 15.77157, \n",
            "Training Acc: 0.86100, Validation Acc: 0.72119\n",
            "Epoch: 263, Training Loss*: 6.21085, Validation Loss*: 16.10072, \n",
            "Training Acc: 0.86136, Validation Acc: 0.72262\n",
            "Epoch: 264, Training Loss*: 6.29341, Validation Loss*: 15.36711, \n",
            "Training Acc: 0.86207, Validation Acc: 0.71408\n",
            "Epoch: 265, Training Loss*: 6.20094, Validation Loss*: 16.30088, \n",
            "Training Acc: 0.86136, Validation Acc: 0.72119\n",
            "Epoch: 266, Training Loss*: 6.31649, Validation Loss*: 15.76819, \n",
            "Training Acc: 0.85994, Validation Acc: 0.71693\n",
            "Epoch: 267, Training Loss*: 6.16908, Validation Loss*: 16.17016, \n",
            "Training Acc: 0.86527, Validation Acc: 0.71835\n",
            "Epoch: 268, Training Loss*: 6.23272, Validation Loss*: 15.83760, \n",
            "Training Acc: 0.86065, Validation Acc: 0.71408\n",
            "Epoch: 269, Training Loss*: 6.18756, Validation Loss*: 15.32986, \n",
            "Training Acc: 0.86171, Validation Acc: 0.71266\n",
            "Epoch: 270, Training Loss*: 6.17748, Validation Loss*: 15.70300, \n",
            "Training Acc: 0.86420, Validation Acc: 0.71124\n",
            "Epoch: 271, Training Loss*: 6.17664, Validation Loss*: 15.31129, \n",
            "Training Acc: 0.86491, Validation Acc: 0.70839\n",
            "Epoch: 272, Training Loss*: 6.18094, Validation Loss*: 15.58505, \n",
            "Training Acc: 0.86420, Validation Acc: 0.70982\n",
            "Epoch: 273, Training Loss*: 6.14348, Validation Loss*: 16.33540, \n",
            "Training Acc: 0.86314, Validation Acc: 0.71124\n",
            "Epoch: 274, Training Loss*: 6.16765, Validation Loss*: 15.61659, \n",
            "Training Acc: 0.86705, Validation Acc: 0.70697\n",
            "Epoch: 275, Training Loss*: 6.12454, Validation Loss*: 15.57016, \n",
            "Training Acc: 0.86669, Validation Acc: 0.70555\n",
            "Epoch: 276, Training Loss*: 6.10857, Validation Loss*: 15.67531, \n",
            "Training Acc: 0.86562, Validation Acc: 0.70697\n",
            "Epoch: 277, Training Loss*: 6.07563, Validation Loss*: 15.62407, \n",
            "Training Acc: 0.86669, Validation Acc: 0.70982\n",
            "Epoch: 278, Training Loss*: 6.08969, Validation Loss*: 15.75511, \n",
            "Training Acc: 0.86705, Validation Acc: 0.70982\n",
            "Epoch: 279, Training Loss*: 6.09102, Validation Loss*: 15.62154, \n",
            "Training Acc: 0.86740, Validation Acc: 0.70697\n",
            "Epoch: 280, Training Loss*: 6.10008, Validation Loss*: 15.71678, \n",
            "Training Acc: 0.86669, Validation Acc: 0.69986\n",
            "Epoch: 281, Training Loss*: 6.05355, Validation Loss*: 15.84044, \n",
            "Training Acc: 0.86633, Validation Acc: 0.69986\n",
            "Epoch: 282, Training Loss*: 6.03443, Validation Loss*: 15.74809, \n",
            "Training Acc: 0.86776, Validation Acc: 0.70128\n",
            "Epoch: 283, Training Loss*: 6.02520, Validation Loss*: 15.83170, \n",
            "Training Acc: 0.86740, Validation Acc: 0.69986\n",
            "Epoch: 284, Training Loss*: 6.01259, Validation Loss*: 15.86494, \n",
            "Training Acc: 0.86918, Validation Acc: 0.69986\n",
            "Epoch: 285, Training Loss*: 6.00751, Validation Loss*: 16.46328, \n",
            "Training Acc: 0.86776, Validation Acc: 0.70413\n",
            "Epoch: 286, Training Loss*: 6.03279, Validation Loss*: 16.36836, \n",
            "Training Acc: 0.86776, Validation Acc: 0.69986\n",
            "Epoch: 287, Training Loss*: 5.99173, Validation Loss*: 16.72118, \n",
            "Training Acc: 0.87025, Validation Acc: 0.70697\n",
            "Epoch: 288, Training Loss*: 6.05476, Validation Loss*: 16.35461, \n",
            "Training Acc: 0.87096, Validation Acc: 0.70128\n",
            "Epoch: 289, Training Loss*: 6.01477, Validation Loss*: 16.41849, \n",
            "Training Acc: 0.86918, Validation Acc: 0.69844\n",
            "Epoch: 290, Training Loss*: 5.97284, Validation Loss*: 16.62207, \n",
            "Training Acc: 0.86953, Validation Acc: 0.69701\n",
            "Epoch: 291, Training Loss*: 6.00486, Validation Loss*: 16.55385, \n",
            "Training Acc: 0.87025, Validation Acc: 0.69844\n",
            "Epoch: 292, Training Loss*: 5.95611, Validation Loss*: 16.89994, \n",
            "Training Acc: 0.86918, Validation Acc: 0.70128\n",
            "Epoch: 293, Training Loss*: 6.00350, Validation Loss*: 16.57767, \n",
            "Training Acc: 0.87344, Validation Acc: 0.69986\n",
            "Epoch: 294, Training Loss*: 5.95072, Validation Loss*: 16.95644, \n",
            "Training Acc: 0.87025, Validation Acc: 0.69986\n",
            "Epoch: 295, Training Loss*: 5.98400, Validation Loss*: 16.54522, \n",
            "Training Acc: 0.87416, Validation Acc: 0.68990\n",
            "Epoch: 296, Training Loss*: 5.96279, Validation Loss*: 16.59192, \n",
            "Training Acc: 0.86989, Validation Acc: 0.68990\n",
            "Epoch: 297, Training Loss*: 5.94869, Validation Loss*: 16.65961, \n",
            "Training Acc: 0.86953, Validation Acc: 0.69559\n",
            "Epoch: 298, Training Loss*: 5.91281, Validation Loss*: 16.32287, \n",
            "Training Acc: 0.87273, Validation Acc: 0.68848\n",
            "Epoch: 299, Training Loss*: 5.94760, Validation Loss*: 17.01519, \n",
            "Training Acc: 0.87060, Validation Acc: 0.69559\n",
            "Epoch: 300, Training Loss*: 5.88565, Validation Loss*: 16.72782, \n",
            "Training Acc: 0.87309, Validation Acc: 0.69559\n",
            "\n"
          ],
          "name": "stdout"
        }
      ]
    },
    {
      "cell_type": "code",
      "metadata": {
        "id": "FDLoDnfWt00g",
        "colab_type": "code",
        "outputId": "93d2e1cb-ec21-495c-e9e8-3ce1b7e2caba",
        "colab": {
          "base_uri": "https://localhost:8080/",
          "height": 578
        }
      },
      "source": [
        "plt.figure(figsize=(16, 9))\n",
        "finished_epochs = len(train_losses)\n",
        "plt.plot(np.arange(finished_epochs), train_losses, label='Train loss')\n",
        "plt.plot(np.arange(finished_epochs), val_losses, label='Validation loss')\n",
        "plt.xlabel('epoch')\n",
        "plt.ylabel('cross entropy loss')\n",
        "plt.title('Кривая обучения')\n",
        "plt.legend()\n",
        "plt.show()"
      ],
      "execution_count": 24,
      "outputs": [
        {
          "output_type": "display_data",
          "data": {
            "image/png": "[encoded data removed]",
            "text/plain": [
              "<Figure size 1152x648 with 1 Axes>"
            ]
          },
          "metadata": {
            "tags": [],
            "needs_background": "light"
          }
        }
      ]
    },
    {
      "cell_type": "code",
      "metadata": {
        "id": "s58_lzjtVKaf",
        "colab_type": "code",
        "colab": {
          "base_uri": "https://localhost:8080/",
          "height": 578
        },
        "outputId": "26070652-3b6b-446d-887e-10734c77e2b8"
      },
      "source": [
        "plt.figure(figsize=(16, 9))\n",
        "finished_epochs = len(train_losses)\n",
        "plt.plot(np.arange(finished_epochs), train_acc, label='Train accuracy')\n",
        "plt.plot(np.arange(finished_epochs), val_acc, label='Validation accuracy')\n",
        "plt.xlabel('epoch')\n",
        "plt.ylabel('accuracy')\n",
        "plt.title('Кривая обучения')\n",
        "plt.legend()\n",
        "plt.show()"
      ],
      "execution_count": 25,
      "outputs": [
        {
          "output_type": "display_data",
          "data": {
            "image/png": "[encoded data removed]",
            "text/plain": [
              "<Figure size 1152x648 with 1 Axes>"
            ]
          },
          "metadata": {
            "tags": [],
            "needs_background": "light"
          }
        }
      ]
    },
    {
      "cell_type": "markdown",
      "metadata": {
        "id": "7Fz15rTA2JpM",
        "colab_type": "text"
      },
      "source": [
        "Измерим качество полученной модели."
      ]
    },
    {
      "cell_type": "code",
      "metadata": {
        "id": "IBLOT51l16Xy",
        "colab_type": "code",
        "outputId": "22fdc632-3714-4e2a-a7d5-86e40b0c6b8d",
        "colab": {
          "base_uri": "https://localhost:8080/",
          "height": 34
        }
      },
      "source": [
        "model.load_state_dict(torch.load(path_save))"
      ],
      "execution_count": 26,
      "outputs": [
        {
          "output_type": "execute_result",
          "data": {
            "text/plain": [
              "<All keys matched successfully>"
            ]
          },
          "metadata": {
            "tags": []
          },
          "execution_count": 26
        }
      ]
    },
    {
      "cell_type": "code",
      "metadata": {
        "id": "4d9A9R9X26Y2",
        "colab_type": "code",
        "colab": {}
      },
      "source": [
        "model.eval()\n",
        "\n",
        "all_preds = []\n",
        "all_answers = []\n",
        "with torch.no_grad():\n",
        "    for batch in test_iter:\n",
        "\n",
        "        texts = batch.text.to(device=device)\n",
        "        aspects = batch.aspect.to(device=device)\n",
        "        sentiments = batch.sentiment.to(device=device)\n",
        "\n",
        "        preds_scores, _ = model(texts, aspects)\n",
        "        preds = torch.max(preds_scores, dim=-1)[1]\n",
        "        all_preds += preds.tolist()\n",
        "        all_answers += sentiments.tolist()\n",
        "\n",
        "all_preds = np.array(all_preds)\n",
        "all_answers = np.array(all_answers)"
      ],
      "execution_count": 0,
      "outputs": []
    },
    {
      "cell_type": "code",
      "metadata": {
        "id": "5jwD-spq3k1I",
        "colab_type": "code",
        "outputId": "aae5e757-f6cd-45e5-af64-c9b6d50d54b9",
        "colab": {
          "base_uri": "https://localhost:8080/",
          "height": 34
        }
      },
      "source": [
        "accuracy = accuracy_score(all_preds, all_answers)\n",
        "\n",
        "print(f'Accuracy: {accuracy:.5f}')"
      ],
      "execution_count": 28,
      "outputs": [
        {
          "output_type": "stream",
          "text": [
            "Accuracy: 0.78417\n"
          ],
          "name": "stdout"
        }
      ]
    },
    {
      "cell_type": "markdown",
      "metadata": {
        "id": "loI8yuPh9WZ-",
        "colab_type": "text"
      },
      "source": [
        "### Что стоит еще сделать\n",
        "\n",
        "1. Проверить, что решаемая такой моделью задача совпадает с решаемой задачей на русском языке.\n",
        "2. Поэкспериментировать с моделью: \n",
        "    * dropout (что-то пробовали), \n",
        "    * другие эмбеддинги (взятие самого большого glove улучшило ситуацию), \n",
        "    * bidirectional (в текущей архитектуре это, кажется, не очень поможет потому что берется только выходное состояние), \n",
        "    * l2-регуляризация, как в статье (добавили)\n",
        "    * доучивание эмбеддингов вместо заморозки\n",
        "    * увеличение числа слоев lstm (кажется, что прироста не дало)\n",
        "3. Проверить, что в текущей модели от использования эмбеддингов для аспектов вообще есть толк (можно попробовать их отключить как-то)."
      ]
    }
  ]
}