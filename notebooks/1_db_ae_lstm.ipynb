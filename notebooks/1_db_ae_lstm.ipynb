{
  "nbformat": 4,
  "nbformat_minor": 0,
  "metadata": {
    "colab": {
      "name": "1-db-ae-lstm.ipynb",
      "provenance": [],
      "collapsed_sections": [
        "EEaU-eJuTLaE"
      ]
    },
    "kernelspec": {
      "name": "python3",
      "display_name": "Python 3"
    },
    "accelerator": "GPU",
    "widgets": {
      "application/vnd.jupyter.widget-state+json": {
        "b06cb2a319494fc4bb60075812835cd9": {
          "model_module": "@jupyter-widgets/controls",
          "model_name": "HBoxModel",
          "state": {
            "_view_name": "HBoxView",
            "_dom_classes": [],
            "_model_name": "HBoxModel",
            "_view_module": "@jupyter-widgets/controls",
            "_model_module_version": "1.5.0",
            "_view_count": null,
            "_view_module_version": "1.5.0",
            "box_style": "",
            "layout": "IPY_MODEL_8498ed4185b04a468557ce00ef45d295",
            "_model_module": "@jupyter-widgets/controls",
            "children": [
              "IPY_MODEL_a39dce7163ab45d8bd1871888bb87ee3",
              "IPY_MODEL_ef215395707a4b33924d46c3ce27a1f4"
            ]
          }
        },
        "8498ed4185b04a468557ce00ef45d295": {
          "model_module": "@jupyter-widgets/base",
          "model_name": "LayoutModel",
          "state": {
            "_view_name": "LayoutView",
            "grid_template_rows": null,
            "right": null,
            "justify_content": null,
            "_view_module": "@jupyter-widgets/base",
            "overflow": null,
            "_model_module_version": "1.2.0",
            "_view_count": null,
            "flex_flow": null,
            "width": null,
            "min_width": null,
            "border": null,
            "align_items": null,
            "bottom": null,
            "_model_module": "@jupyter-widgets/base",
            "top": null,
            "grid_column": null,
            "overflow_y": null,
            "overflow_x": null,
            "grid_auto_flow": null,
            "grid_area": null,
            "grid_template_columns": null,
            "flex": null,
            "_model_name": "LayoutModel",
            "justify_items": null,
            "grid_row": null,
            "max_height": null,
            "align_content": null,
            "visibility": null,
            "align_self": null,
            "height": null,
            "min_height": null,
            "padding": null,
            "grid_auto_rows": null,
            "grid_gap": null,
            "max_width": null,
            "order": null,
            "_view_module_version": "1.2.0",
            "grid_template_areas": null,
            "object_position": null,
            "object_fit": null,
            "grid_auto_columns": null,
            "margin": null,
            "display": null,
            "left": null
          }
        },
        "a39dce7163ab45d8bd1871888bb87ee3": {
          "model_module": "@jupyter-widgets/controls",
          "model_name": "IntProgressModel",
          "state": {
            "_view_name": "ProgressView",
            "style": "IPY_MODEL_dc9020ad53a34047a2d4a1a40d087b3f",
            "_dom_classes": [],
            "description": " 47%",
            "_model_name": "IntProgressModel",
            "bar_style": "danger",
            "max": 30,
            "_view_module": "@jupyter-widgets/controls",
            "_model_module_version": "1.5.0",
            "value": 14,
            "_view_count": null,
            "_view_module_version": "1.5.0",
            "orientation": "horizontal",
            "min": 0,
            "description_tooltip": null,
            "_model_module": "@jupyter-widgets/controls",
            "layout": "IPY_MODEL_00362b6e1d02436e993b8a0ac7d96c7b"
          }
        },
        "ef215395707a4b33924d46c3ce27a1f4": {
          "model_module": "@jupyter-widgets/controls",
          "model_name": "HTMLModel",
          "state": {
            "_view_name": "HTMLView",
            "style": "IPY_MODEL_6baef5e0ed584d86b75b23bb18b3507d",
            "_dom_classes": [],
            "description": "",
            "_model_name": "HTMLModel",
            "placeholder": "​",
            "_view_module": "@jupyter-widgets/controls",
            "_model_module_version": "1.5.0",
            "value": " 14/30 [00:33&lt;00:35,  2.21s/it]",
            "_view_count": null,
            "_view_module_version": "1.5.0",
            "description_tooltip": null,
            "_model_module": "@jupyter-widgets/controls",
            "layout": "IPY_MODEL_f1de64e6fd754a3eac37b738fd2441a8"
          }
        },
        "dc9020ad53a34047a2d4a1a40d087b3f": {
          "model_module": "@jupyter-widgets/controls",
          "model_name": "ProgressStyleModel",
          "state": {
            "_view_name": "StyleView",
            "_model_name": "ProgressStyleModel",
            "description_width": "initial",
            "_view_module": "@jupyter-widgets/base",
            "_model_module_version": "1.5.0",
            "_view_count": null,
            "_view_module_version": "1.2.0",
            "bar_color": null,
            "_model_module": "@jupyter-widgets/controls"
          }
        },
        "00362b6e1d02436e993b8a0ac7d96c7b": {
          "model_module": "@jupyter-widgets/base",
          "model_name": "LayoutModel",
          "state": {
            "_view_name": "LayoutView",
            "grid_template_rows": null,
            "right": null,
            "justify_content": null,
            "_view_module": "@jupyter-widgets/base",
            "overflow": null,
            "_model_module_version": "1.2.0",
            "_view_count": null,
            "flex_flow": null,
            "width": null,
            "min_width": null,
            "border": null,
            "align_items": null,
            "bottom": null,
            "_model_module": "@jupyter-widgets/base",
            "top": null,
            "grid_column": null,
            "overflow_y": null,
            "overflow_x": null,
            "grid_auto_flow": null,
            "grid_area": null,
            "grid_template_columns": null,
            "flex": null,
            "_model_name": "LayoutModel",
            "justify_items": null,
            "grid_row": null,
            "max_height": null,
            "align_content": null,
            "visibility": null,
            "align_self": null,
            "height": null,
            "min_height": null,
            "padding": null,
            "grid_auto_rows": null,
            "grid_gap": null,
            "max_width": null,
            "order": null,
            "_view_module_version": "1.2.0",
            "grid_template_areas": null,
            "object_position": null,
            "object_fit": null,
            "grid_auto_columns": null,
            "margin": null,
            "display": null,
            "left": null
          }
        },
        "6baef5e0ed584d86b75b23bb18b3507d": {
          "model_module": "@jupyter-widgets/controls",
          "model_name": "DescriptionStyleModel",
          "state": {
            "_view_name": "StyleView",
            "_model_name": "DescriptionStyleModel",
            "description_width": "",
            "_view_module": "@jupyter-widgets/base",
            "_model_module_version": "1.5.0",
            "_view_count": null,
            "_view_module_version": "1.2.0",
            "_model_module": "@jupyter-widgets/controls"
          }
        },
        "f1de64e6fd754a3eac37b738fd2441a8": {
          "model_module": "@jupyter-widgets/base",
          "model_name": "LayoutModel",
          "state": {
            "_view_name": "LayoutView",
            "grid_template_rows": null,
            "right": null,
            "justify_content": null,
            "_view_module": "@jupyter-widgets/base",
            "overflow": null,
            "_model_module_version": "1.2.0",
            "_view_count": null,
            "flex_flow": null,
            "width": null,
            "min_width": null,
            "border": null,
            "align_items": null,
            "bottom": null,
            "_model_module": "@jupyter-widgets/base",
            "top": null,
            "grid_column": null,
            "overflow_y": null,
            "overflow_x": null,
            "grid_auto_flow": null,
            "grid_area": null,
            "grid_template_columns": null,
            "flex": null,
            "_model_name": "LayoutModel",
            "justify_items": null,
            "grid_row": null,
            "max_height": null,
            "align_content": null,
            "visibility": null,
            "align_self": null,
            "height": null,
            "min_height": null,
            "padding": null,
            "grid_auto_rows": null,
            "grid_gap": null,
            "max_width": null,
            "order": null,
            "_view_module_version": "1.2.0",
            "grid_template_areas": null,
            "object_position": null,
            "object_fit": null,
            "grid_auto_columns": null,
            "margin": null,
            "display": null,
            "left": null
          }
        }
      }
    }
  },
  "cells": [
    {
      "cell_type": "markdown",
      "metadata": {
        "id": "4RoA7uzc6-Jj",
        "colab_type": "text"
      },
      "source": [
        "# LSTM with Aspect Embedding\n",
        "\n",
        "В этом ноутбуке мы исследуем применение модели LSTM with Aspect Embedding (AE-LSTM) для решения задачи аспектного анализа тональности. В качестве основы мы берем [статью](https://www.aclweb.org/anthology/D16-1058.pdf)."
      ]
    },
    {
      "cell_type": "code",
      "metadata": {
        "id": "kf5yw1IZRRjg",
        "colab_type": "code",
        "colab": {}
      },
      "source": [
        "#!pip install deeppavlov"
      ],
      "execution_count": 0,
      "outputs": []
    },
    {
      "cell_type": "code",
      "metadata": {
        "id": "shE3aepx6kg7",
        "colab_type": "code",
        "colab": {}
      },
      "source": [
        "import os\n",
        "import zipfile\n",
        "import random\n",
        "\n",
        "import pandas as pd\n",
        "import numpy as np\n",
        "import torch\n",
        "import gensim\n",
        "import matplotlib.pyplot as plt\n",
        "import seaborn as sns\n",
        "import bs4\n",
        "\n",
        "from tqdm.notebook import tqdm\n",
        "from sklearn.metrics import (accuracy_score, f1_score, precision_score, \n",
        "                             recall_score)\n",
        "\n",
        "import torch.nn as nn\n",
        "import torch.nn.functional as F\n",
        "import torch.optim as optim\n",
        "import torchtext\n",
        "from torch.utils.data import Dataset as TorchDataset\n",
        "from torch.utils.data import DataLoader\n",
        "\n",
        "from google.colab import drive\n",
        "\n",
        "USE_GOOGLE_DRIVE = True\n",
        "\n",
        "sns.set(font_scale=1.2)"
      ],
      "execution_count": 0,
      "outputs": []
    },
    {
      "cell_type": "markdown",
      "metadata": {
        "id": "s6K05cSD71kI",
        "colab_type": "text"
      },
      "source": [
        "Примонтируем наш гугл-диск, если мы решили его использовать."
      ]
    },
    {
      "cell_type": "code",
      "metadata": {
        "id": "1MBzNx9n7wtX",
        "colab_type": "code",
        "colab": {
          "base_uri": "https://localhost:8080/",
          "height": 124
        },
        "outputId": "694c916b-d93c-44c0-da3c-698f2f5fcd6c"
      },
      "source": [
        "if USE_GOOGLE_DRIVE:\n",
        "    drive.mount('/content/drive')\n",
        "    PATH_PREFIX = 'drive/My Drive/NLP/dialog-sent'\n",
        "else:\n",
        "    PATH_PREFIX = '..'"
      ],
      "execution_count": 4,
      "outputs": [
        {
          "output_type": "stream",
          "text": [
            "Go to this URL in a browser: https://accounts.google.com/o/oauth2/auth?client_id=947318989803-6bn6qk8qdgf4n4g3pfee6491hc0brc4i.apps.googleusercontent.com&redirect_uri=urn%3aietf%3awg%3aoauth%3a2.0%3aoob&response_type=code&scope=email%20https%3a%2f%2fwww.googleapis.com%2fauth%2fdocs.test%20https%3a%2f%2fwww.googleapis.com%2fauth%2fdrive%20https%3a%2f%2fwww.googleapis.com%2fauth%2fdrive.photos.readonly%20https%3a%2f%2fwww.googleapis.com%2fauth%2fpeopleapi.readonly\n",
            "\n",
            "Enter your authorization code:\n",
            "··········\n",
            "Mounted at /content/drive\n"
          ],
          "name": "stdout"
        }
      ]
    },
    {
      "cell_type": "code",
      "metadata": {
        "id": "_ICV0PvCteP8",
        "colab_type": "code",
        "colab": {}
      },
      "source": [
        "DATA_PREFIX = os.path.join(PATH_PREFIX, 'data')\n",
        "MODEL_PREFIX = os.path.join(PATH_PREFIX, 'models')"
      ],
      "execution_count": 0,
      "outputs": []
    },
    {
      "cell_type": "markdown",
      "metadata": {
        "id": "d1rEg_dzCv2Z",
        "colab_type": "text"
      },
      "source": [
        "Зададим девайс для обучения."
      ]
    },
    {
      "cell_type": "code",
      "metadata": {
        "id": "ssNUbPpPCvOf",
        "colab_type": "code",
        "colab": {
          "base_uri": "https://localhost:8080/",
          "height": 34
        },
        "outputId": "2179b913-989a-4121-99ad-f49ced37f419"
      },
      "source": [
        "USE_GPU = True\n",
        "\n",
        "if USE_GPU and torch.cuda.is_available():\n",
        "    device = torch.device('cuda')\n",
        "else:\n",
        "    device = torch.device('cpu')\n",
        "\n",
        "print('using device:', device)"
      ],
      "execution_count": 6,
      "outputs": [
        {
          "output_type": "stream",
          "text": [
            "using device: cuda\n"
          ],
          "name": "stdout"
        }
      ]
    },
    {
      "cell_type": "markdown",
      "metadata": {
        "id": "yHTGiWVXC13E",
        "colab_type": "text"
      },
      "source": [
        "Проинициализируем везде генераторы случайных чисел."
      ]
    },
    {
      "cell_type": "code",
      "metadata": {
        "id": "gUC3PTVlC1JU",
        "colab_type": "code",
        "colab": {}
      },
      "source": [
        "random_seed = 42\n",
        "random_state = random_seed\n",
        "\n",
        "def set_seed_everywhere(seed, cuda):\n",
        "    np.random.seed(seed)\n",
        "    torch.manual_seed(seed)\n",
        "    torch.backends.cudnn.determenistic = True\n",
        "    torch.backends.cudnn.benchmark = False\n",
        "    if cuda:\n",
        "        torch.cuda.manual_seed_all(seed)\n",
        "\n",
        "set_seed_everywhere(random_seed, USE_GPU)"
      ],
      "execution_count": 0,
      "outputs": []
    },
    {
      "cell_type": "markdown",
      "metadata": {
        "id": "b8UaRLgV9BTu",
        "colab_type": "text"
      },
      "source": [
        "## Повторение результатов статьи\n",
        "\n",
        "Для того, чтобы применить модель к нашей конкретной задаче для начала надо повторить результаты исследуемой статьи. Будем это делать на примере датасета с [отзывами на рестораны](http://alt.qcri.org/semeval2014/task4/index.php?id=data-and-tools).\n"
      ]
    },
    {
      "cell_type": "markdown",
      "metadata": {
        "id": "3tGsxW7j9h13",
        "colab_type": "text"
      },
      "source": [
        "### GloVe\n",
        "\n",
        "В статье используются GloVe-векторы. Вместо использованной в статье версии, натренированной на 840B токенах будем использовать ту, что натренирована на Википедии -- она меньше весит."
      ]
    },
    {
      "cell_type": "markdown",
      "metadata": {
        "id": "mJY_TPPc85cj",
        "colab_type": "text"
      },
      "source": [
        "Скачаем GloVe (если его у вас нет)."
      ]
    },
    {
      "cell_type": "code",
      "metadata": {
        "id": "zybkmfky9AYn",
        "colab_type": "code",
        "colab": {}
      },
      "source": [
        "# !mkdir downloads\n",
        "# !wget http://nlp.stanford.edu/data/glove.6B.zip -P downloads"
      ],
      "execution_count": 0,
      "outputs": []
    },
    {
      "cell_type": "markdown",
      "metadata": {
        "id": "EBmyP6MrBvm1",
        "colab_type": "text"
      },
      "source": [
        "Распакуем его по нужному пути."
      ]
    },
    {
      "cell_type": "code",
      "metadata": {
        "id": "lFJVQkpH84Zb",
        "colab_type": "code",
        "colab": {}
      },
      "source": [
        "# zip_ref = zipfile.ZipFile('downloads/glove.6B.zip', 'r')\n",
        "# zip_ref.extractall(os.path.join(DATA_PREFIX, 'raw'))\n",
        "# zip_ref.close()"
      ],
      "execution_count": 0,
      "outputs": []
    },
    {
      "cell_type": "markdown",
      "metadata": {
        "id": "3l5MA6pO5MkE",
        "colab_type": "text"
      },
      "source": [
        "Загрузим GloVe векторы в gensim для будущей инициализации модели."
      ]
    },
    {
      "cell_type": "code",
      "metadata": {
        "id": "P_F1xX4Z5MyO",
        "colab_type": "code",
        "colab": {
          "base_uri": "https://localhost:8080/",
          "height": 89
        },
        "outputId": "80f0a183-8148-4eb1-9a91-f9bbde9a93d2"
      },
      "source": [
        "glove_path = os.path.join(DATA_PREFIX, 'raw', 'glove.6B.300d.txt')\n",
        "word2vec_path = os.path.join(DATA_PREFIX, 'processed', \n",
        "                             'glove_word2vecformat.txt')\n",
        "gensim.scripts.glove2word2vec.glove2word2vec(glove_path, word2vec_path)"
      ],
      "execution_count": 229,
      "outputs": [
        {
          "output_type": "stream",
          "text": [
            "/usr/local/lib/python3.6/dist-packages/smart_open/smart_open_lib.py:410: UserWarning: This function is deprecated, use smart_open.open instead. See the migration notes for details: https://github.com/RaRe-Technologies/smart_open/blob/master/README.rst#migrating-to-the-new-open-function\n",
            "  'See the migration notes for details: %s' % _MIGRATION_NOTES_URL\n"
          ],
          "name": "stderr"
        },
        {
          "output_type": "execute_result",
          "data": {
            "text/plain": [
              "(400000, 300)"
            ]
          },
          "metadata": {
            "tags": []
          },
          "execution_count": 229
        }
      ]
    },
    {
      "cell_type": "code",
      "metadata": {
        "id": "PuI314K99wBh",
        "colab_type": "code",
        "colab": {
          "base_uri": "https://localhost:8080/",
          "height": 72
        },
        "outputId": "afc13b25-deaa-43f8-b329-6ca214d18072"
      },
      "source": [
        "model_glove = gensim.models.KeyedVectors.load_word2vec_format(word2vec_path)"
      ],
      "execution_count": 232,
      "outputs": [
        {
          "output_type": "stream",
          "text": [
            "/usr/local/lib/python3.6/dist-packages/smart_open/smart_open_lib.py:410: UserWarning: This function is deprecated, use smart_open.open instead. See the migration notes for details: https://github.com/RaRe-Technologies/smart_open/blob/master/README.rst#migrating-to-the-new-open-function\n",
            "  'See the migration notes for details: %s' % _MIGRATION_NOTES_URL\n"
          ],
          "name": "stderr"
        }
      ]
    },
    {
      "cell_type": "markdown",
      "metadata": {
        "id": "IFqQNvroDFz0",
        "colab_type": "text"
      },
      "source": [
        "### Данные\n",
        "\n",
        "Теперь надо разобраться с данными. Мы используем отзывы о рестранах. Согласно аннотации к датасету используются следующие аспекты:\n",
        "\n",
        "* food\n",
        "* price\n",
        "* service\n",
        "* ambience\n",
        "* anecdotes (sentences describing the reviewer’s personal experience or context, but that do not usually provide information on the restaurant quality e.g. “I knew upon visiting\n",
        "NYC that I wanted to try an original deli”)\n",
        "* miscellaneous (sentences that do not belong to the other five categories including sentences that are general recommendations e.g. “Your friends will thank you for introducing them to this gem!”)\n",
        "\n",
        "Эта же аннотация говорит о том, какие существуют тональности:\n",
        "* positive\n",
        "* negative\n",
        "* conflict (both positive and negative sentiment)\n",
        "* neutral (neither positive nor negative sentiment)\n",
        "\n",
        "Помимо этого существует такой объект, как термин аспекта (aspect term) -- это какое-то слово или выражение, которое указывает на то, в каком слове выражается тональность к конкретному аспекту. \n",
        "\n",
        "Существует два вида задач для аспектного анализа тональности:\n",
        "* Aspect-level Classification -- определить тональность для каждого аспекта.\n",
        "* Aspect-Term-level Classification -- определить термины для каждого аспекта, а затем определить их тональность.\n",
        "\n",
        "Наша финальная задача относится к первой категории, а значит нам не нужны данные о терминах аспекта."
      ]
    },
    {
      "cell_type": "markdown",
      "metadata": {
        "id": "C6elfxM8FD2A",
        "colab_type": "text"
      },
      "source": [
        "Данные предоставлены в формате xml. Для работы с ними будем использовать beautiful soup."
      ]
    },
    {
      "cell_type": "code",
      "metadata": {
        "id": "HQPj-a1tDGJY",
        "colab_type": "code",
        "colab": {}
      },
      "source": [
        "dataset_path = os.path.join(\n",
        "    DATA_PREFIX, 'raw', \"SemEval'14-ABSA-TrainData_v2 & AnnotationGuidelines\", \n",
        "    'Restaurants_Train_v2.xml'\n",
        ")\n",
        "\n",
        "aspect_categories = ['food', 'price', 'service', 'ambience', \n",
        "                     'anecdotes/miscellaneous']\n",
        "num_aspects = len(aspect_categories)\n",
        "data_dict = {'sentence_id': [], 'text': []}\n",
        "data_dict.update({key: [] for key in aspect_categories})\n",
        "\n",
        "sent2class = {'none': 0, 'neutral': 1, 'positive': 2, 'negative': 3, \n",
        "              'conflict': 4}\n",
        "\n",
        "with open(dataset_path, 'r') as inf:\n",
        "    contents = inf.read()\n",
        "    soup = bs4.BeautifulSoup(contents, 'xml')\n",
        "    for sentence in soup.find_all('sentence'):\n",
        "        data_dict['sentence_id'].append(sentence['id'])\n",
        "\n",
        "        text = sentence.find('text').text\n",
        "        data_dict['text'].append(text)\n",
        "\n",
        "        categories = sentence.find('aspectCategories').find_all(\n",
        "            'aspectCategory'\n",
        "        )\n",
        "        for aspect_category in aspect_categories:\n",
        "            data_dict[aspect_category].append(0)\n",
        "        \n",
        "        for aspect_category in categories:\n",
        "            data_dict[\n",
        "                aspect_category['category']\n",
        "            ][-1] = sent2class[aspect_category['polarity']]\n",
        "\n",
        "data = pd.DataFrame(data_dict)"
      ],
      "execution_count": 0,
      "outputs": []
    },
    {
      "cell_type": "code",
      "metadata": {
        "id": "ihfLZoATOIqo",
        "colab_type": "code",
        "colab": {
          "base_uri": "https://localhost:8080/",
          "height": 206
        },
        "outputId": "a03473e0-4786-4fe9-b74b-1034b4277659"
      },
      "source": [
        "data.head()"
      ],
      "execution_count": 9,
      "outputs": [
        {
          "output_type": "execute_result",
          "data": {
            "text/html": [
              "<div>\n",
              "<style scoped>\n",
              "    .dataframe tbody tr th:only-of-type {\n",
              "        vertical-align: middle;\n",
              "    }\n",
              "\n",
              "    .dataframe tbody tr th {\n",
              "        vertical-align: top;\n",
              "    }\n",
              "\n",
              "    .dataframe thead th {\n",
              "        text-align: right;\n",
              "    }\n",
              "</style>\n",
              "<table border=\"1\" class=\"dataframe\">\n",
              "  <thead>\n",
              "    <tr style=\"text-align: right;\">\n",
              "      <th></th>\n",
              "      <th>sentence_id</th>\n",
              "      <th>text</th>\n",
              "      <th>food</th>\n",
              "      <th>price</th>\n",
              "      <th>service</th>\n",
              "      <th>ambience</th>\n",
              "      <th>anecdotes/miscellaneous</th>\n",
              "    </tr>\n",
              "  </thead>\n",
              "  <tbody>\n",
              "    <tr>\n",
              "      <th>0</th>\n",
              "      <td>3121</td>\n",
              "      <td>But the staff was so horrible to us.</td>\n",
              "      <td>0</td>\n",
              "      <td>0</td>\n",
              "      <td>3</td>\n",
              "      <td>0</td>\n",
              "      <td>0</td>\n",
              "    </tr>\n",
              "    <tr>\n",
              "      <th>1</th>\n",
              "      <td>2777</td>\n",
              "      <td>To be completely fair, the only redeeming fact...</td>\n",
              "      <td>2</td>\n",
              "      <td>0</td>\n",
              "      <td>0</td>\n",
              "      <td>0</td>\n",
              "      <td>3</td>\n",
              "    </tr>\n",
              "    <tr>\n",
              "      <th>2</th>\n",
              "      <td>1634</td>\n",
              "      <td>The food is uniformly exceptional, with a very...</td>\n",
              "      <td>2</td>\n",
              "      <td>0</td>\n",
              "      <td>0</td>\n",
              "      <td>0</td>\n",
              "      <td>0</td>\n",
              "    </tr>\n",
              "    <tr>\n",
              "      <th>3</th>\n",
              "      <td>2534</td>\n",
              "      <td>Where Gabriela personaly greets you and recomm...</td>\n",
              "      <td>0</td>\n",
              "      <td>0</td>\n",
              "      <td>2</td>\n",
              "      <td>0</td>\n",
              "      <td>0</td>\n",
              "    </tr>\n",
              "    <tr>\n",
              "      <th>4</th>\n",
              "      <td>583</td>\n",
              "      <td>For those that go once and don't enjoy it, all...</td>\n",
              "      <td>0</td>\n",
              "      <td>0</td>\n",
              "      <td>0</td>\n",
              "      <td>0</td>\n",
              "      <td>2</td>\n",
              "    </tr>\n",
              "  </tbody>\n",
              "</table>\n",
              "</div>"
            ],
            "text/plain": [
              "  sentence_id  ... anecdotes/miscellaneous\n",
              "0        3121  ...                       0\n",
              "1        2777  ...                       3\n",
              "2        1634  ...                       0\n",
              "3        2534  ...                       0\n",
              "4         583  ...                       2\n",
              "\n",
              "[5 rows x 7 columns]"
            ]
          },
          "metadata": {
            "tags": []
          },
          "execution_count": 9
        }
      ]
    },
    {
      "cell_type": "markdown",
      "metadata": {
        "id": "EEaU-eJuTLaE",
        "colab_type": "text"
      },
      "source": [
        "#### Устаревшее"
      ]
    },
    {
      "cell_type": "markdown",
      "metadata": {
        "id": "PcpemySEDHB-",
        "colab_type": "text"
      },
      "source": [
        "Теперь, когда данные собраны надо надо сделать общий словарь, чтобы потом легко можно было сделать токенизацию."
      ]
    },
    {
      "cell_type": "code",
      "metadata": {
        "id": "Rpcg7AKYDHJK",
        "colab_type": "code",
        "colab": {}
      },
      "source": [
        "save_load_path = os.path.join(DATA_PREFIX, 'processed', \n",
        "                              'vocabulary_restaurants')\n",
        "\n",
        "TOKEN_BEGIN = '<BEGIN>'\n",
        "TOKEN_END = '<END>'\n",
        "TOKEN_PAD = '<PAD>'\n",
        "TOKEN_UNK = '<UNK>'\n",
        "special_tokens = (TOKEN_BEGIN, TOKEN_END, TOKEN_PAD)\n",
        "\n",
        "vocab = SimpleVocabulary(\n",
        "    special_tokens=special_tokens,\n",
        "    unk_token=TOKEN_UNK,\n",
        "    save_path=save_load_path, load_path=save_load_path\n",
        ")"
      ],
      "execution_count": 0,
      "outputs": []
    },
    {
      "cell_type": "code",
      "metadata": {
        "id": "S22ylVotUrQI",
        "colab_type": "code",
        "colab": {}
      },
      "source": [
        "all_words = []\n",
        "for text in data.text:\n",
        "    all_words += list(gensim.utils.tokenize(text.lower()))\n",
        "vocab.fit(all_words)"
      ],
      "execution_count": 0,
      "outputs": []
    },
    {
      "cell_type": "markdown",
      "metadata": {
        "id": "VCzZT79kW56d",
        "colab_type": "text"
      },
      "source": [
        "Теперь, когда мы смогли построить словарь, надо создать датасеты для обучения и валидации."
      ]
    },
    {
      "cell_type": "code",
      "metadata": {
        "id": "5cakFwJuR5-R",
        "colab_type": "code",
        "colab": {}
      },
      "source": [
        "class Dataset(TorchDataset):\n",
        "    \n",
        "    \"\"\"Custom data.Dataset compatible with data.DataLoader.\"\"\"\n",
        "    def __init__(self, data, vocab, num_aspects, begin_token, end_token):\n",
        "        self.data = data.iloc[:, 1:].values\n",
        "        self.vocab = vocab\n",
        "        self.num_aspects = num_aspects\n",
        "        self.begin_token = begin_token\n",
        "        self.end_token = end_token\n",
        "\n",
        "    def __getitem__(self, index):\n",
        "        \"\"\"Возвращает пару (aspect, source, target).\n",
        "        aspect -- индекс аспекта\n",
        "        source -- индексы слов предложения\n",
        "        target -- целевой класс      \n",
        "        \"\"\"\n",
        "        index_sentence = index // self.num_aspects\n",
        "        aspect_index = index % self.num_aspects\n",
        "        text = self.data[index_sentence][0].lower()\n",
        "        sentence = ([self.begin_token] \n",
        "                    + list(gensim.utils.tokenize(text)) \n",
        "                    + [self.end_token])\n",
        "        aspect = torch.tensor([aspect_index], dtype=torch.int)\n",
        "        source = torch.tensor([aspect_index] + self.vocab(sentence), \n",
        "                              dtype=torch.int)\n",
        "        target = torch.tensor([self.data[index_sentence, aspect_index+1]], \n",
        "                              dtype=torch.int)\n",
        "        return (aspect, source, target)\n",
        "\n",
        "    def __len__(self):\n",
        "        return len(self.data)"
      ],
      "execution_count": 0,
      "outputs": []
    },
    {
      "cell_type": "markdown",
      "metadata": {
        "id": "T5b2uQOExdF3",
        "colab_type": "text"
      },
      "source": [
        "Необходимо также реализовать класс для обработки отступов -- так можно будет лучше работать с батчами."
      ]
    },
    {
      "cell_type": "code",
      "metadata": {
        "id": "JCIeAi8kxcoX",
        "colab_type": "code",
        "colab": {}
      },
      "source": [
        "def pad_tensor(vec, length, dim, pad_symbol):\n",
        "    \"\"\"Pads a vector ``vec`` up to length ``length`` \n",
        "    along axis ``dim`` with pad symbol ``pad_symbol``.\n",
        "    \"\"\"\n",
        "    dtype = vec.dtype\n",
        "    pad_size = list(vec.shape)\n",
        "    pad_size[dim] = length - vec.size(dim)\n",
        "    return torch.cat([vec, torch.ones(*pad_size, dtype=dtype)*pad_symbol], \n",
        "                     dim=dim)\n",
        "\n",
        "class Padder:\n",
        "\n",
        "    def __init__(self, dim=0, pad_symbol=0):\n",
        "        self.dim = dim\n",
        "        self.pad_symbol = pad_symbol\n",
        "        \n",
        "    def __call__(self, batch):\n",
        "        # внутри всего батча найдем самую длинную последовательность\n",
        "        max_len = max(map(lambda x: x[1].shape[self.dim], batch))\n",
        "        # выполним отступ для всего батча\n",
        "        new_batch = [\n",
        "                     (pad_tensor(x[0], max_len, self.dim, self.pad_symbol),\n",
        "                      pad_tensor(x[1], max_len, self.dim, self.pad_symbol),\n",
        "                      pad_tensor(x[2], max_len, self.dim, self.pad_symbol))\n",
        "                     for x in batch\n",
        "        ]\n",
        "        # собираем аспекты, обучение и таргет\n",
        "        aspects_list = [x[0] for x in new_batch]\n",
        "        xs_list = [x[1] for x in new_batch]\n",
        "        ys_list = [x[2] for x in new_batch]\n",
        "        aspects_list = torch.stack(aspects_list, dim=0)\n",
        "        xs = torch.stack(xs_list, dim=0)\n",
        "        ys = torch.stack(ys_list, dim=0)\n",
        "        return aspects_list, xs, ys\n",
        "\n"
      ],
      "execution_count": 0,
      "outputs": []
    },
    {
      "cell_type": "markdown",
      "metadata": {
        "id": "ZIrb1W20dMA2",
        "colab_type": "text"
      },
      "source": [
        "Посмотрим, что выдает такой датасет."
      ]
    },
    {
      "cell_type": "code",
      "metadata": {
        "id": "3K3_IFJYdLVk",
        "colab_type": "code",
        "colab": {}
      },
      "source": [
        "train, validate = train_test_split(data, random_state=random_state)\n",
        "train_dataset = Dataset(train, vocab, num_aspects, TOKEN_BEGIN, TOKEN_END)\n",
        "validate_dataset = Dataset(validate, vocab, num_aspects, TOKEN_BEGIN, TOKEN_END)"
      ],
      "execution_count": 0,
      "outputs": []
    },
    {
      "cell_type": "code",
      "metadata": {
        "id": "Wx_mVw-cfVTo",
        "colab_type": "code",
        "colab": {
          "base_uri": "https://localhost:8080/",
          "height": 191
        },
        "outputId": "dcbec241-5d9d-458c-b110-c275d7934bf3"
      },
      "source": [
        "dataloader_train = DataLoader(train_dataset, batch_size=5, \n",
        "                              shuffle=True, num_workers=4, \n",
        "                              collate_fn=Padder(\n",
        "                                  dim=0, pad_symbol=vocab(TOKEN_PAD))\n",
        "                              )\n",
        "\n",
        "for i_batch, (aspect_batched, sample_batched, target_batched) in enumerate(dataloader_train):\n",
        "    if i_batch == 10:\n",
        "        break\n",
        "    print(target_batched.size())"
      ],
      "execution_count": 238,
      "outputs": [
        {
          "output_type": "stream",
          "text": [
            "torch.Size([5, 20])\n",
            "torch.Size([5, 20])\n",
            "torch.Size([5, 28])\n",
            "torch.Size([5, 22])\n",
            "torch.Size([5, 23])\n",
            "torch.Size([5, 31])\n",
            "torch.Size([5, 36])\n",
            "torch.Size([5, 14])\n",
            "torch.Size([5, 21])\n",
            "torch.Size([5, 17])\n"
          ],
          "name": "stdout"
        }
      ]
    },
    {
      "cell_type": "markdown",
      "metadata": {
        "id": "SBj9O4iETUZ6",
        "colab_type": "text"
      },
      "source": [
        "#### Новое"
      ]
    },
    {
      "cell_type": "markdown",
      "metadata": {
        "id": "C2gRZxrsTYI_",
        "colab_type": "text"
      },
      "source": [
        "Чтобы правильно обучать нашу модель придется упростить данные до трех столбцов: `text`, `aspect`, `sentiment`."
      ]
    },
    {
      "cell_type": "code",
      "metadata": {
        "id": "s9vRnXZyTrRA",
        "colab_type": "code",
        "colab": {
          "base_uri": "https://localhost:8080/",
          "height": 363
        },
        "outputId": "f97b5b46-b5e8-4669-96e6-4c1dc24db754"
      },
      "source": [
        "data_to_train_dict = {'text': [], 'aspect': [], 'sentiment': []}\n",
        "for i, row in data.iterrows():\n",
        "    for aspect_category in aspect_categories:\n",
        "        data_to_train_dict['text'].append(row['text'])\n",
        "        data_to_train_dict['aspect'].append(aspect_category)\n",
        "        data_to_train_dict['sentiment'].append(row[aspect_category])\n",
        "\n",
        "data_to_train = pd.DataFrame(data_to_train_dict)\n",
        "data_path = os.path.join(DATA_PREFIX, 'processed', 'restaurants.csv')\n",
        "data_to_train.to_csv(data_path, index=False)\n",
        "data_to_train.head(10)"
      ],
      "execution_count": 10,
      "outputs": [
        {
          "output_type": "execute_result",
          "data": {
            "text/html": [
              "<div>\n",
              "<style scoped>\n",
              "    .dataframe tbody tr th:only-of-type {\n",
              "        vertical-align: middle;\n",
              "    }\n",
              "\n",
              "    .dataframe tbody tr th {\n",
              "        vertical-align: top;\n",
              "    }\n",
              "\n",
              "    .dataframe thead th {\n",
              "        text-align: right;\n",
              "    }\n",
              "</style>\n",
              "<table border=\"1\" class=\"dataframe\">\n",
              "  <thead>\n",
              "    <tr style=\"text-align: right;\">\n",
              "      <th></th>\n",
              "      <th>text</th>\n",
              "      <th>aspect</th>\n",
              "      <th>sentiment</th>\n",
              "    </tr>\n",
              "  </thead>\n",
              "  <tbody>\n",
              "    <tr>\n",
              "      <th>0</th>\n",
              "      <td>But the staff was so horrible to us.</td>\n",
              "      <td>food</td>\n",
              "      <td>0</td>\n",
              "    </tr>\n",
              "    <tr>\n",
              "      <th>1</th>\n",
              "      <td>But the staff was so horrible to us.</td>\n",
              "      <td>price</td>\n",
              "      <td>0</td>\n",
              "    </tr>\n",
              "    <tr>\n",
              "      <th>2</th>\n",
              "      <td>But the staff was so horrible to us.</td>\n",
              "      <td>service</td>\n",
              "      <td>3</td>\n",
              "    </tr>\n",
              "    <tr>\n",
              "      <th>3</th>\n",
              "      <td>But the staff was so horrible to us.</td>\n",
              "      <td>ambience</td>\n",
              "      <td>0</td>\n",
              "    </tr>\n",
              "    <tr>\n",
              "      <th>4</th>\n",
              "      <td>But the staff was so horrible to us.</td>\n",
              "      <td>anecdotes/miscellaneous</td>\n",
              "      <td>0</td>\n",
              "    </tr>\n",
              "    <tr>\n",
              "      <th>5</th>\n",
              "      <td>To be completely fair, the only redeeming fact...</td>\n",
              "      <td>food</td>\n",
              "      <td>2</td>\n",
              "    </tr>\n",
              "    <tr>\n",
              "      <th>6</th>\n",
              "      <td>To be completely fair, the only redeeming fact...</td>\n",
              "      <td>price</td>\n",
              "      <td>0</td>\n",
              "    </tr>\n",
              "    <tr>\n",
              "      <th>7</th>\n",
              "      <td>To be completely fair, the only redeeming fact...</td>\n",
              "      <td>service</td>\n",
              "      <td>0</td>\n",
              "    </tr>\n",
              "    <tr>\n",
              "      <th>8</th>\n",
              "      <td>To be completely fair, the only redeeming fact...</td>\n",
              "      <td>ambience</td>\n",
              "      <td>0</td>\n",
              "    </tr>\n",
              "    <tr>\n",
              "      <th>9</th>\n",
              "      <td>To be completely fair, the only redeeming fact...</td>\n",
              "      <td>anecdotes/miscellaneous</td>\n",
              "      <td>3</td>\n",
              "    </tr>\n",
              "  </tbody>\n",
              "</table>\n",
              "</div>"
            ],
            "text/plain": [
              "                                                text  ... sentiment\n",
              "0               But the staff was so horrible to us.  ...         0\n",
              "1               But the staff was so horrible to us.  ...         0\n",
              "2               But the staff was so horrible to us.  ...         3\n",
              "3               But the staff was so horrible to us.  ...         0\n",
              "4               But the staff was so horrible to us.  ...         0\n",
              "5  To be completely fair, the only redeeming fact...  ...         2\n",
              "6  To be completely fair, the only redeeming fact...  ...         0\n",
              "7  To be completely fair, the only redeeming fact...  ...         0\n",
              "8  To be completely fair, the only redeeming fact...  ...         0\n",
              "9  To be completely fair, the only redeeming fact...  ...         3\n",
              "\n",
              "[10 rows x 3 columns]"
            ]
          },
          "metadata": {
            "tags": []
          },
          "execution_count": 10
        }
      ]
    },
    {
      "cell_type": "markdown",
      "metadata": {
        "id": "n9rXoYOGVIEF",
        "colab_type": "text"
      },
      "source": [
        "Теперь определим поля в датасете для обучения."
      ]
    },
    {
      "cell_type": "code",
      "metadata": {
        "id": "mYemqb_MTrZL",
        "colab_type": "code",
        "colab": {}
      },
      "source": [
        "TEXT = torchtext.data.Field(\n",
        "    tokenize='spacy', batch_first=True, init_token='<begin>', \n",
        "    eos_token='<end>', lower=True\n",
        ")\n",
        "ASPECT = torchtext.data.Field(sequential=False, batch_first=True)\n",
        "SENTIMENT = torchtext.data.LabelField(batch_first=True)"
      ],
      "execution_count": 0,
      "outputs": []
    },
    {
      "cell_type": "code",
      "metadata": {
        "id": "SMQlJoOGWrQo",
        "colab_type": "code",
        "colab": {}
      },
      "source": [
        "fields = [('text', TEXT), ('aspect', ASPECT), ('sentiment', SENTIMENT)]"
      ],
      "execution_count": 0,
      "outputs": []
    },
    {
      "cell_type": "code",
      "metadata": {
        "id": "o5NtLnNiWrUp",
        "colab_type": "code",
        "colab": {
          "base_uri": "https://localhost:8080/",
          "height": 34
        },
        "outputId": "56c159d6-bbd9-409c-cb18-7d709edfc708"
      },
      "source": [
        "training_data = torchtext.data.TabularDataset(\n",
        "    path=data_path, format = 'csv', fields=fields, skip_header=True\n",
        ")\n",
        "\n",
        "print(vars(training_data.examples[0]))"
      ],
      "execution_count": 13,
      "outputs": [
        {
          "output_type": "stream",
          "text": [
            "{'text': ['but', 'the', 'staff', 'was', 'so', 'horrible', 'to', 'us', '.'], 'aspect': 'food', 'sentiment': '0'}\n"
          ],
          "name": "stdout"
        }
      ]
    },
    {
      "cell_type": "markdown",
      "metadata": {
        "id": "MRXivWRfZjNF",
        "colab_type": "text"
      },
      "source": [
        "Разделим данные на валидацию и тест."
      ]
    },
    {
      "cell_type": "code",
      "metadata": {
        "id": "MJXx9xmyTrXU",
        "colab_type": "code",
        "colab": {}
      },
      "source": [
        "train_data, valid_data = training_data.split(\n",
        "    split_ratio=0.75, random_state=random.seed(random_state)\n",
        ")"
      ],
      "execution_count": 0,
      "outputs": []
    },
    {
      "cell_type": "markdown",
      "metadata": {
        "id": "YW0x0isFY1_w",
        "colab_type": "text"
      },
      "source": [
        "Построим для нашего датасета словарь. Согласно статье, эмбеддинги слов были проинициализированы при помощи GloVe, а для неизвестных слов в качестве эмбеддингов были взяты случайные векторы из $U(-\\varepsilon, \\varepsilon)$, где $\\varepsilon = 0.01$.\n"
      ]
    },
    {
      "cell_type": "code",
      "metadata": {
        "id": "ZelUdQpEaBJ5",
        "colab_type": "code",
        "colab": {
          "base_uri": "https://localhost:8080/",
          "height": 52
        },
        "outputId": "102cac82-1cfb-4641-b591-34b76499d93a"
      },
      "source": [
        "epsilon = 0.01\n",
        "TEXT.build_vocab(train_data, vectors='glove.6B.300d', \n",
        "                 unk_init=lambda x: torch.nn.init.uniform_(x, -epsilon, epsilon))\n",
        "ASPECT.build_vocab(train_data) \n",
        "SENTIMENT.build_vocab(train_data)"
      ],
      "execution_count": 15,
      "outputs": [
        {
          "output_type": "stream",
          "text": [
            ".vector_cache/glove.6B.zip: 862MB [06:30, 2.21MB/s]                          \n",
            "100%|█████████▉| 399125/400000 [00:39<00:00, 10235.75it/s]"
          ],
          "name": "stderr"
        }
      ]
    },
    {
      "cell_type": "code",
      "metadata": {
        "id": "3ayeYQzCaBOU",
        "colab_type": "code",
        "colab": {
          "base_uri": "https://localhost:8080/",
          "height": 69
        },
        "outputId": "58956061-7a85-4b6d-f084-54cf6be25adc"
      },
      "source": [
        "print(f'Size of TEXT vocabulary: {len(TEXT.vocab)}')\n",
        "print(f'Size of ASPECT vocabulary: {len(ASPECT.vocab)}')\n",
        "print(f'Size of SENTIMENT vocabulary: {len(SENTIMENT.vocab)}')"
      ],
      "execution_count": 16,
      "outputs": [
        {
          "output_type": "stream",
          "text": [
            "Size of TEXT vocabulary: 4493\n",
            "Size of ASPECT vocabulary: 6\n",
            "Size of SENTIMENT vocabulary: 5\n"
          ],
          "name": "stdout"
        }
      ]
    },
    {
      "cell_type": "markdown",
      "metadata": {
        "id": "PeMUrFNFgSgb",
        "colab_type": "text"
      },
      "source": [
        "Теперь напишем итератор."
      ]
    },
    {
      "cell_type": "code",
      "metadata": {
        "id": "DUYiqydfgR1A",
        "colab_type": "code",
        "colab": {}
      },
      "source": [
        "batch_size = 25\n",
        "\n",
        "train_iter, val_iter = torchtext.data.BucketIterator.splits(\n",
        "        (train_data, valid_data),\n",
        "        batch_sizes=(batch_size, batch_size),\n",
        "        sort=True,\n",
        "        sort_key=lambda x: len(x.text),\n",
        "        sort_within_batch=True,\n",
        "        device=device,\n",
        "        repeat=False\n",
        ")"
      ],
      "execution_count": 0,
      "outputs": []
    },
    {
      "cell_type": "markdown",
      "metadata": {
        "id": "FuqJ_M3Fg6G3",
        "colab_type": "text"
      },
      "source": [
        "### Модель"
      ]
    },
    {
      "cell_type": "markdown",
      "metadata": {
        "id": "blBavi11CigD",
        "colab_type": "text"
      },
      "source": [
        "Зададим архитектуру нашей сети."
      ]
    },
    {
      "cell_type": "code",
      "metadata": {
        "id": "MN0rbmwhCh0K",
        "colab_type": "code",
        "colab": {}
      },
      "source": [
        "class AE_LSTM(nn.Module):\n",
        "\n",
        "    def __init__(\n",
        "        self, num_aspects, embeddings_aspects_dim, hidden_dim, \n",
        "        num_sentiments, \n",
        "        vocab_size=None, embeddings_words_dim=None, embeddings_words_init=None\n",
        "    ):\n",
        "        super(AE_LSTM, self).__init__()\n",
        "\n",
        "        train_from_scratch = (vocab_size is not None \n",
        "                              and embedding_words_dim is not None)\n",
        "        use_pretrained = embeddings_words_init is not None\n",
        "        if not(train_from_scratch or use_pretrained):\n",
        "            raise ValueError('You should use pretrained vectors or '\n",
        "                             'set vocab size and embeddings dim')\n",
        "\n",
        "        if train_from_scratch:\n",
        "            self.embeddings_words = nn.Embedding(\n",
        "                vocab_size, embeddings_words_dim\n",
        "            )\n",
        "        else:\n",
        "            self.embeddings_words = nn.Embedding.from_pretrained(\n",
        "                embeddings_words_init\n",
        "            )\n",
        "            vocab_size, embeddings_words_dim = embeddings_words_init.size()\n",
        "\n",
        "        self.embeddings_aspects = nn.Embedding(\n",
        "            num_aspects, embeddings_aspects_dim\n",
        "        )\n",
        "        self.lstm = nn.LSTM(\n",
        "            embeddings_aspects_dim + embeddings_words_dim, \n",
        "            hidden_dim, batch_first=True\n",
        "        )\n",
        "        self.hidden_to_sentiments = nn.Linear(hidden_dim, num_sentiments)\n",
        "\n",
        "        # weights initializatioin\n",
        "        torch.nn.init.xavier_uniform_(self.embeddings_aspects.weight)\n",
        "        torch.nn.init.xavier_uniform_(self.hidden_to_sentiments.weight)\n",
        "        \n",
        "    def forward(self, texts, aspects, hidden=None):\n",
        "        batch_size, seq_len = texts.size()\n",
        "        # shape: [batch_size, seq_len] -> [batch_size, seq_len, embeddings_words_dim]\n",
        "        embeddings_words_out = self.embeddings_words(texts)\n",
        "        # shape: [batch_size] -> [batch_size, seq_len, embedding_aspects_dim]\n",
        "        embeddings_aspects_out = self.embeddings_aspects(aspects)\n",
        "        embeddings_aspects_out = torch.unsqueeze(embeddings_aspects_out, 1)\n",
        "        embeddings_aspects_out = torch.repeat_interleave(\n",
        "            embeddings_aspects_out, seq_len, 1\n",
        "        )\n",
        "        # shape: -> [batch_size, seq_len, embedding_words_dim + embedding_aspects_dim]\n",
        "        embeddings = torch.cat(\n",
        "            [embeddings_words_out, embeddings_aspects_out], dim=-1,\n",
        "        )\n",
        "        # shape: [batch_size, seq_len, embeddings_dim] -> [batch_size, hidden_dim]\n",
        "        lstm_out, hidden_state = self.lstm(embeddings, hidden)\n",
        "        lstm_out = lstm_out[:, -1, :]\n",
        "        # shape: [batch_size, hidden_size] -> [batch_size, num_sentiments]\n",
        "        sentiments_scores = self.hidden_to_sentiments(lstm_out)\n",
        "        return sentiments_scores, hidden_state"
      ],
      "execution_count": 0,
      "outputs": []
    },
    {
      "cell_type": "markdown",
      "metadata": {
        "id": "OTr5tdu6nl4A",
        "colab_type": "text"
      },
      "source": [
        "Возьмем параметры, как в статье: `embeddings_aspects_dim=300`, `hidden_dim=300`."
      ]
    },
    {
      "cell_type": "code",
      "metadata": {
        "id": "l_2Wskt-inX_",
        "colab_type": "code",
        "colab": {
          "base_uri": "https://localhost:8080/",
          "height": 121
        },
        "outputId": "5ef8e0a0-30e6-402b-af29-d3ceb0863fd9"
      },
      "source": [
        "num_aspects = len(ASPECT.vocab)\n",
        "embeddings_aspects_dim = 300\n",
        "hidden_dim = 300\n",
        "num_sentiments = len(SENTIMENT.vocab)\n",
        "embeddings_words_init = TEXT.vocab.vectors\n",
        "model = AE_LSTM(\n",
        "    num_aspects, embeddings_aspects_dim, hidden_dim, num_sentiments, \n",
        "    embeddings_words_init=embeddings_words_init\n",
        ")\n",
        "model"
      ],
      "execution_count": 47,
      "outputs": [
        {
          "output_type": "execute_result",
          "data": {
            "text/plain": [
              "AE_LSTM(\n",
              "  (embeddings_words): Embedding(4493, 300)\n",
              "  (embeddings_aspects): Embedding(6, 300)\n",
              "  (lstm): LSTM(600, 300, batch_first=True)\n",
              "  (hidden_to_sentiments): Linear(in_features=300, out_features=5, bias=True)\n",
              ")"
            ]
          },
          "metadata": {
            "tags": []
          },
          "execution_count": 47
        }
      ]
    },
    {
      "cell_type": "markdown",
      "metadata": {
        "id": "-RPJYxF0iR5S",
        "colab_type": "text"
      },
      "source": [
        "### Тренировочный цикл\n",
        "\n",
        "Здесь мы реализуем тренировочный цикл для нашей модели. К сожалению, установить momentum, как в статье не удалось (там почему-то написано, что они установили его для Adagrad)."
      ]
    },
    {
      "cell_type": "code",
      "metadata": {
        "id": "o0XG5kEsimr2",
        "colab_type": "code",
        "colab": {}
      },
      "source": [
        "model = model.to(device=device)\n",
        "learning_rate = 1e-3\n",
        "early_stopping = 10\n",
        "epochs = 30\n",
        "\n",
        "opt = optim.Adam(model.parameters(), lr=learning_rate)\n",
        "scheduler = optim.lr_scheduler.StepLR(opt, step_size=4, gamma=0.1)\n",
        "criterion = nn.CrossEntropyLoss()\n",
        "path_save = os.path.join(MODEL_PREFIX, 'ae_lstm', 'ae_lstm.pt')"
      ],
      "execution_count": 0,
      "outputs": []
    },
    {
      "cell_type": "code",
      "metadata": {
        "id": "CWnA_j8fsiFL",
        "colab_type": "code",
        "colab": {
          "base_uri": "https://localhost:8080/",
          "height": 292,
          "referenced_widgets": [
            "b06cb2a319494fc4bb60075812835cd9",
            "8498ed4185b04a468557ce00ef45d295",
            "a39dce7163ab45d8bd1871888bb87ee3",
            "ef215395707a4b33924d46c3ce27a1f4",
            "dc9020ad53a34047a2d4a1a40d087b3f",
            "00362b6e1d02436e993b8a0ac7d96c7b",
            "6baef5e0ed584d86b75b23bb18b3507d",
            "f1de64e6fd754a3eac37b738fd2441a8"
          ]
        },
        "outputId": "c4aecc7f-cebe-4aca-eb2b-59603fc33e61"
      },
      "source": [
        "set_seed_everywhere(random_seed, USE_GPU)\n",
        "epoch_losses = []\n",
        "val_losses = []\n",
        "best_val_loss = 10\n",
        "not_improves = 0\n",
        "for epoch in tqdm(range(1, epochs + 1)):\n",
        "    running_loss = 0.0\n",
        "    running_corrects = 0\n",
        "    model.train() \n",
        "    for batch in train_iter: \n",
        "\n",
        "        texts = batch.text.to(device=device)\n",
        "        aspects = batch.aspect.to(device=device)\n",
        "        sentiments = batch.sentiment.to(device=device)\n",
        "\n",
        "        opt.zero_grad()\n",
        "        preds, _ = model(texts, aspects)\n",
        "        loss = criterion(preds, sentiments)\n",
        "        loss.backward()\n",
        "        opt.step()\n",
        "        running_loss += loss.item()\n",
        "\n",
        "    epoch_loss = running_loss / len(train_data)\n",
        "    epoch_losses.append(epoch_loss)\n",
        "\n",
        "    val_loss = 0.0\n",
        "    model.eval()\n",
        "    with torch.no_grad():\n",
        "        for batch in val_iter:\n",
        "\n",
        "            texts = batch.text.to(device=device)\n",
        "            aspects = batch.aspect.to(device=device)\n",
        "            sentiments = batch.sentiment.to(device=device)\n",
        "\n",
        "            preds, _ = model(texts, aspects)   \n",
        "            loss = criterion(preds, sentiments)\n",
        "            val_loss += loss.item()\n",
        "\n",
        "    val_loss /= len(valid_data)\n",
        "    val_losses.append(val_loss)\n",
        "\n",
        "    if val_loss < best_val_loss:\n",
        "        not_improves = 0\n",
        "        best_val_loss = val_loss\n",
        "        torch.save(model.state_dict(), path_save)\n",
        "    else:\n",
        "        not_improves += 1\n",
        "        if not_improves == early_stopping:\n",
        "            break\n",
        "    \n",
        "    scheduler.step()\n",
        "\n",
        "    print(f'Epoch: {epoch}, Training Loss*: {1000*epoch_loss:.5f}, '\n",
        "          f'Validation Loss*: {1000*val_loss:.5f}')"
      ],
      "execution_count": 49,
      "outputs": [
        {
          "output_type": "display_data",
          "data": {
            "application/vnd.jupyter.widget-view+json": {
              "model_id": "b06cb2a319494fc4bb60075812835cd9",
              "version_minor": 0,
              "version_major": 2
            },
            "text/plain": [
              "HBox(children=(IntProgress(value=0, max=30), HTML(value='')))"
            ]
          },
          "metadata": {
            "tags": []
          }
        },
        {
          "output_type": "stream",
          "text": [
            "Epoch: 1, Training Loss*: 26.83320, Validation Loss*: 28.64953\n",
            "Epoch: 2, Training Loss*: 19.12386, Validation Loss*: 21.03081\n",
            "Epoch: 3, Training Loss*: 14.78698, Validation Loss*: 19.07284\n",
            "Epoch: 4, Training Loss*: 12.12207, Validation Loss*: 18.70477\n",
            "Epoch: 5, Training Loss*: 9.22289, Validation Loss*: 17.70138\n",
            "Epoch: 6, Training Loss*: 7.57758, Validation Loss*: 18.59311\n",
            "Epoch: 7, Training Loss*: 6.58980, Validation Loss*: 19.62089\n",
            "Epoch: 8, Training Loss*: 5.71753, Validation Loss*: 21.01518\n",
            "Epoch: 9, Training Loss*: 4.91448, Validation Loss*: 21.41659\n",
            "Epoch: 10, Training Loss*: 4.72656, Validation Loss*: 21.76097\n",
            "Epoch: 11, Training Loss*: 4.61104, Validation Loss*: 22.04983\n",
            "Epoch: 12, Training Loss*: 4.51003, Validation Loss*: 22.30710\n",
            "Epoch: 13, Training Loss*: 4.40572, Validation Loss*: 22.33826\n",
            "Epoch: 14, Training Loss*: 4.39550, Validation Loss*: 22.36877\n"
          ],
          "name": "stdout"
        }
      ]
    },
    {
      "cell_type": "code",
      "metadata": {
        "id": "FDLoDnfWt00g",
        "colab_type": "code",
        "colab": {
          "base_uri": "https://localhost:8080/",
          "height": 578
        },
        "outputId": "4df07865-28af-4341-995a-12705e9ed1c5"
      },
      "source": [
        "plt.figure(figsize=(16, 9))\n",
        "finished_epochs = len(epoch_losses)\n",
        "plt.plot(np.arange(finished_epochs), epoch_losses, label='Train loss')\n",
        "plt.plot(np.arange(finished_epochs), val_losses, label='Validation loss')\n",
        "plt.xlabel('epoch')\n",
        "plt.ylabel('cross entropy loss')\n",
        "plt.title('Кривая обучения')\n",
        "plt.legend()\n",
        "plt.show()"
      ],
      "execution_count": 52,
      "outputs": [
        {
          "output_type": "display_data",
          "data": {
            "image/png": "[encoded data removed]",
            "text/plain": [
              "<Figure size 1152x648 with 1 Axes>"
            ]
          },
          "metadata": {
            "tags": []
          }
        }
      ]
    },
    {
      "cell_type": "markdown",
      "metadata": {
        "id": "7Fz15rTA2JpM",
        "colab_type": "text"
      },
      "source": [
        "Измерим качество полученной модели."
      ]
    },
    {
      "cell_type": "code",
      "metadata": {
        "id": "IBLOT51l16Xy",
        "colab_type": "code",
        "colab": {
          "base_uri": "https://localhost:8080/",
          "height": 34
        },
        "outputId": "c0297e18-b112-46c6-b82b-4a00ac3dbcd2"
      },
      "source": [
        "model.load_state_dict(torch.load(path_save))"
      ],
      "execution_count": 53,
      "outputs": [
        {
          "output_type": "execute_result",
          "data": {
            "text/plain": [
              "<All keys matched successfully>"
            ]
          },
          "metadata": {
            "tags": []
          },
          "execution_count": 53
        }
      ]
    },
    {
      "cell_type": "code",
      "metadata": {
        "id": "4d9A9R9X26Y2",
        "colab_type": "code",
        "colab": {}
      },
      "source": [
        "model.eval()\n",
        "\n",
        "all_preds = []\n",
        "all_answers = []\n",
        "with torch.no_grad():\n",
        "    for batch in val_iter:\n",
        "\n",
        "        texts = batch.text.to(device=device)\n",
        "        aspects = batch.aspect.to(device=device)\n",
        "        sentiments = batch.sentiment.to(device=device)\n",
        "\n",
        "        preds_scores, _ = model(texts, aspects)\n",
        "        preds = torch.max(preds_scores, dim=-1)[1]\n",
        "        all_preds += preds.tolist()\n",
        "        all_answers += sentiments.tolist()\n",
        "\n",
        "all_preds = np.array(all_preds)\n",
        "all_answers = np.array(all_answers)"
      ],
      "execution_count": 0,
      "outputs": []
    },
    {
      "cell_type": "code",
      "metadata": {
        "id": "5jwD-spq3k1I",
        "colab_type": "code",
        "colab": {
          "base_uri": "https://localhost:8080/",
          "height": 34
        },
        "outputId": "ff754946-c501-4205-e34f-740a561f565f"
      },
      "source": [
        "accuracy = accuracy_score(all_preds, all_answers)\n",
        "\n",
        "print(f'Accuracy: {accuracy:.3f}')"
      ],
      "execution_count": 81,
      "outputs": [
        {
          "output_type": "stream",
          "text": [
            "Accuracy: 0.861\n"
          ],
          "name": "stdout"
        }
      ]
    },
    {
      "cell_type": "code",
      "metadata": {
        "id": "jEl8LgKQ4mBO",
        "colab_type": "code",
        "colab": {}
      },
      "source": [
        ""
      ],
      "execution_count": 0,
      "outputs": []
    }
  ]
}