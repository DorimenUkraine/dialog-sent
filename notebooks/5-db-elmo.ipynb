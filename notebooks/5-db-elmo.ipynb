{
  "nbformat": 4,
  "nbformat_minor": 0,
  "metadata": {
    "colab": {
      "name": "5-db-elmo.ipynb",
      "provenance": [],
      "collapsed_sections": [],
      "toc_visible": true,
      "machine_shape": "hm"
    },
    "kernelspec": {
      "name": "python3",
      "display_name": "Python 3"
    },
    "accelerator": "GPU",
    "widgets": {
      "application/vnd.jupyter.widget-state+json": {
        "c18b217baf584ae18e5f360c211acb4f": {
          "model_module": "@jupyter-widgets/controls",
          "model_name": "HBoxModel",
          "state": {
            "_view_name": "HBoxView",
            "_dom_classes": [],
            "_model_name": "HBoxModel",
            "_view_module": "@jupyter-widgets/controls",
            "_model_module_version": "1.5.0",
            "_view_count": null,
            "_view_module_version": "1.5.0",
            "box_style": "",
            "layout": "IPY_MODEL_8b7a3a95907740d3ab1318fe9cb77da6",
            "_model_module": "@jupyter-widgets/controls",
            "children": [
              "IPY_MODEL_e3b94a0ba72f4c6795916f38c9a824ad",
              "IPY_MODEL_934fe0ed8f4a497295207f3fc6e19aa8"
            ]
          }
        },
        "8b7a3a95907740d3ab1318fe9cb77da6": {
          "model_module": "@jupyter-widgets/base",
          "model_name": "LayoutModel",
          "state": {
            "_view_name": "LayoutView",
            "grid_template_rows": null,
            "right": null,
            "justify_content": null,
            "_view_module": "@jupyter-widgets/base",
            "overflow": null,
            "_model_module_version": "1.2.0",
            "_view_count": null,
            "flex_flow": null,
            "width": null,
            "min_width": null,
            "border": null,
            "align_items": null,
            "bottom": null,
            "_model_module": "@jupyter-widgets/base",
            "top": null,
            "grid_column": null,
            "overflow_y": null,
            "overflow_x": null,
            "grid_auto_flow": null,
            "grid_area": null,
            "grid_template_columns": null,
            "flex": null,
            "_model_name": "LayoutModel",
            "justify_items": null,
            "grid_row": null,
            "max_height": null,
            "align_content": null,
            "visibility": null,
            "align_self": null,
            "height": null,
            "min_height": null,
            "padding": null,
            "grid_auto_rows": null,
            "grid_gap": null,
            "max_width": null,
            "order": null,
            "_view_module_version": "1.2.0",
            "grid_template_areas": null,
            "object_position": null,
            "object_fit": null,
            "grid_auto_columns": null,
            "margin": null,
            "display": null,
            "left": null
          }
        },
        "e3b94a0ba72f4c6795916f38c9a824ad": {
          "model_module": "@jupyter-widgets/controls",
          "model_name": "IntProgressModel",
          "state": {
            "_view_name": "ProgressView",
            "style": "IPY_MODEL_ea709620c5094095b6afef8a0e5dd9fa",
            "_dom_classes": [],
            "description": " 40%",
            "_model_name": "IntProgressModel",
            "bar_style": "danger",
            "max": 30,
            "_view_module": "@jupyter-widgets/controls",
            "_model_module_version": "1.5.0",
            "value": 12,
            "_view_count": null,
            "_view_module_version": "1.5.0",
            "orientation": "horizontal",
            "min": 0,
            "description_tooltip": null,
            "_model_module": "@jupyter-widgets/controls",
            "layout": "IPY_MODEL_acacdf37ce1a4f788d474cd3162daf01"
          }
        },
        "934fe0ed8f4a497295207f3fc6e19aa8": {
          "model_module": "@jupyter-widgets/controls",
          "model_name": "HTMLModel",
          "state": {
            "_view_name": "HTMLView",
            "style": "IPY_MODEL_12071025f681403691c1cbfa8786db2a",
            "_dom_classes": [],
            "description": "",
            "_model_name": "HTMLModel",
            "placeholder": "​",
            "_view_module": "@jupyter-widgets/controls",
            "_model_module_version": "1.5.0",
            "value": " 12/30 [11:30&lt;15:43, 52.44s/it]",
            "_view_count": null,
            "_view_module_version": "1.5.0",
            "description_tooltip": null,
            "_model_module": "@jupyter-widgets/controls",
            "layout": "IPY_MODEL_e147dd5c7f0846958c5b243472b0f58f"
          }
        },
        "ea709620c5094095b6afef8a0e5dd9fa": {
          "model_module": "@jupyter-widgets/controls",
          "model_name": "ProgressStyleModel",
          "state": {
            "_view_name": "StyleView",
            "_model_name": "ProgressStyleModel",
            "description_width": "initial",
            "_view_module": "@jupyter-widgets/base",
            "_model_module_version": "1.5.0",
            "_view_count": null,
            "_view_module_version": "1.2.0",
            "bar_color": null,
            "_model_module": "@jupyter-widgets/controls"
          }
        },
        "acacdf37ce1a4f788d474cd3162daf01": {
          "model_module": "@jupyter-widgets/base",
          "model_name": "LayoutModel",
          "state": {
            "_view_name": "LayoutView",
            "grid_template_rows": null,
            "right": null,
            "justify_content": null,
            "_view_module": "@jupyter-widgets/base",
            "overflow": null,
            "_model_module_version": "1.2.0",
            "_view_count": null,
            "flex_flow": null,
            "width": null,
            "min_width": null,
            "border": null,
            "align_items": null,
            "bottom": null,
            "_model_module": "@jupyter-widgets/base",
            "top": null,
            "grid_column": null,
            "overflow_y": null,
            "overflow_x": null,
            "grid_auto_flow": null,
            "grid_area": null,
            "grid_template_columns": null,
            "flex": null,
            "_model_name": "LayoutModel",
            "justify_items": null,
            "grid_row": null,
            "max_height": null,
            "align_content": null,
            "visibility": null,
            "align_self": null,
            "height": null,
            "min_height": null,
            "padding": null,
            "grid_auto_rows": null,
            "grid_gap": null,
            "max_width": null,
            "order": null,
            "_view_module_version": "1.2.0",
            "grid_template_areas": null,
            "object_position": null,
            "object_fit": null,
            "grid_auto_columns": null,
            "margin": null,
            "display": null,
            "left": null
          }
        },
        "12071025f681403691c1cbfa8786db2a": {
          "model_module": "@jupyter-widgets/controls",
          "model_name": "DescriptionStyleModel",
          "state": {
            "_view_name": "StyleView",
            "_model_name": "DescriptionStyleModel",
            "description_width": "",
            "_view_module": "@jupyter-widgets/base",
            "_model_module_version": "1.5.0",
            "_view_count": null,
            "_view_module_version": "1.2.0",
            "_model_module": "@jupyter-widgets/controls"
          }
        },
        "e147dd5c7f0846958c5b243472b0f58f": {
          "model_module": "@jupyter-widgets/base",
          "model_name": "LayoutModel",
          "state": {
            "_view_name": "LayoutView",
            "grid_template_rows": null,
            "right": null,
            "justify_content": null,
            "_view_module": "@jupyter-widgets/base",
            "overflow": null,
            "_model_module_version": "1.2.0",
            "_view_count": null,
            "flex_flow": null,
            "width": null,
            "min_width": null,
            "border": null,
            "align_items": null,
            "bottom": null,
            "_model_module": "@jupyter-widgets/base",
            "top": null,
            "grid_column": null,
            "overflow_y": null,
            "overflow_x": null,
            "grid_auto_flow": null,
            "grid_area": null,
            "grid_template_columns": null,
            "flex": null,
            "_model_name": "LayoutModel",
            "justify_items": null,
            "grid_row": null,
            "max_height": null,
            "align_content": null,
            "visibility": null,
            "align_self": null,
            "height": null,
            "min_height": null,
            "padding": null,
            "grid_auto_rows": null,
            "grid_gap": null,
            "max_width": null,
            "order": null,
            "_view_module_version": "1.2.0",
            "grid_template_areas": null,
            "object_position": null,
            "object_fit": null,
            "grid_auto_columns": null,
            "margin": null,
            "display": null,
            "left": null
          }
        },
        "7da30531d2334d4692af21ceef78ff2c": {
          "model_module": "@jupyter-widgets/controls",
          "model_name": "HBoxModel",
          "state": {
            "_view_name": "HBoxView",
            "_dom_classes": [],
            "_model_name": "HBoxModel",
            "_view_module": "@jupyter-widgets/controls",
            "_model_module_version": "1.5.0",
            "_view_count": null,
            "_view_module_version": "1.5.0",
            "box_style": "",
            "layout": "IPY_MODEL_86a552a886ed4d3a95467741c0433f17",
            "_model_module": "@jupyter-widgets/controls",
            "children": [
              "IPY_MODEL_57e4e806bbbb4a8a9a6cc802a8251852",
              "IPY_MODEL_0a8e6031622d49eeb043e834addcd8da"
            ]
          }
        },
        "86a552a886ed4d3a95467741c0433f17": {
          "model_module": "@jupyter-widgets/base",
          "model_name": "LayoutModel",
          "state": {
            "_view_name": "LayoutView",
            "grid_template_rows": null,
            "right": null,
            "justify_content": null,
            "_view_module": "@jupyter-widgets/base",
            "overflow": null,
            "_model_module_version": "1.2.0",
            "_view_count": null,
            "flex_flow": null,
            "width": null,
            "min_width": null,
            "border": null,
            "align_items": null,
            "bottom": null,
            "_model_module": "@jupyter-widgets/base",
            "top": null,
            "grid_column": null,
            "overflow_y": null,
            "overflow_x": null,
            "grid_auto_flow": null,
            "grid_area": null,
            "grid_template_columns": null,
            "flex": null,
            "_model_name": "LayoutModel",
            "justify_items": null,
            "grid_row": null,
            "max_height": null,
            "align_content": null,
            "visibility": null,
            "align_self": null,
            "height": null,
            "min_height": null,
            "padding": null,
            "grid_auto_rows": null,
            "grid_gap": null,
            "max_width": null,
            "order": null,
            "_view_module_version": "1.2.0",
            "grid_template_areas": null,
            "object_position": null,
            "object_fit": null,
            "grid_auto_columns": null,
            "margin": null,
            "display": null,
            "left": null
          }
        },
        "57e4e806bbbb4a8a9a6cc802a8251852": {
          "model_module": "@jupyter-widgets/controls",
          "model_name": "IntProgressModel",
          "state": {
            "_view_name": "ProgressView",
            "style": "IPY_MODEL_581b7e3e89be4cd5af594452aed69d1e",
            "_dom_classes": [],
            "description": "100%",
            "_model_name": "IntProgressModel",
            "bar_style": "",
            "max": 23,
            "_view_module": "@jupyter-widgets/controls",
            "_model_module_version": "1.5.0",
            "value": 23,
            "_view_count": null,
            "_view_module_version": "1.5.0",
            "orientation": "horizontal",
            "min": 0,
            "description_tooltip": null,
            "_model_module": "@jupyter-widgets/controls",
            "layout": "IPY_MODEL_57f8680ad401478796a9a9e2aad7b08c"
          }
        },
        "0a8e6031622d49eeb043e834addcd8da": {
          "model_module": "@jupyter-widgets/controls",
          "model_name": "HTMLModel",
          "state": {
            "_view_name": "HTMLView",
            "style": "IPY_MODEL_ad26402913b442f18339fd6899b55921",
            "_dom_classes": [],
            "description": "",
            "_model_name": "HTMLModel",
            "placeholder": "​",
            "_view_module": "@jupyter-widgets/controls",
            "_model_module_version": "1.5.0",
            "value": " 23/23 [00:36&lt;00:00,  1.32s/it]",
            "_view_count": null,
            "_view_module_version": "1.5.0",
            "description_tooltip": null,
            "_model_module": "@jupyter-widgets/controls",
            "layout": "IPY_MODEL_ff378696e1804876beafbd734db7c15a"
          }
        },
        "581b7e3e89be4cd5af594452aed69d1e": {
          "model_module": "@jupyter-widgets/controls",
          "model_name": "ProgressStyleModel",
          "state": {
            "_view_name": "StyleView",
            "_model_name": "ProgressStyleModel",
            "description_width": "initial",
            "_view_module": "@jupyter-widgets/base",
            "_model_module_version": "1.5.0",
            "_view_count": null,
            "_view_module_version": "1.2.0",
            "bar_color": null,
            "_model_module": "@jupyter-widgets/controls"
          }
        },
        "57f8680ad401478796a9a9e2aad7b08c": {
          "model_module": "@jupyter-widgets/base",
          "model_name": "LayoutModel",
          "state": {
            "_view_name": "LayoutView",
            "grid_template_rows": null,
            "right": null,
            "justify_content": null,
            "_view_module": "@jupyter-widgets/base",
            "overflow": null,
            "_model_module_version": "1.2.0",
            "_view_count": null,
            "flex_flow": null,
            "width": null,
            "min_width": null,
            "border": null,
            "align_items": null,
            "bottom": null,
            "_model_module": "@jupyter-widgets/base",
            "top": null,
            "grid_column": null,
            "overflow_y": null,
            "overflow_x": null,
            "grid_auto_flow": null,
            "grid_area": null,
            "grid_template_columns": null,
            "flex": null,
            "_model_name": "LayoutModel",
            "justify_items": null,
            "grid_row": null,
            "max_height": null,
            "align_content": null,
            "visibility": null,
            "align_self": null,
            "height": null,
            "min_height": null,
            "padding": null,
            "grid_auto_rows": null,
            "grid_gap": null,
            "max_width": null,
            "order": null,
            "_view_module_version": "1.2.0",
            "grid_template_areas": null,
            "object_position": null,
            "object_fit": null,
            "grid_auto_columns": null,
            "margin": null,
            "display": null,
            "left": null
          }
        },
        "ad26402913b442f18339fd6899b55921": {
          "model_module": "@jupyter-widgets/controls",
          "model_name": "DescriptionStyleModel",
          "state": {
            "_view_name": "StyleView",
            "_model_name": "DescriptionStyleModel",
            "description_width": "",
            "_view_module": "@jupyter-widgets/base",
            "_model_module_version": "1.5.0",
            "_view_count": null,
            "_view_module_version": "1.2.0",
            "_model_module": "@jupyter-widgets/controls"
          }
        },
        "ff378696e1804876beafbd734db7c15a": {
          "model_module": "@jupyter-widgets/base",
          "model_name": "LayoutModel",
          "state": {
            "_view_name": "LayoutView",
            "grid_template_rows": null,
            "right": null,
            "justify_content": null,
            "_view_module": "@jupyter-widgets/base",
            "overflow": null,
            "_model_module_version": "1.2.0",
            "_view_count": null,
            "flex_flow": null,
            "width": null,
            "min_width": null,
            "border": null,
            "align_items": null,
            "bottom": null,
            "_model_module": "@jupyter-widgets/base",
            "top": null,
            "grid_column": null,
            "overflow_y": null,
            "overflow_x": null,
            "grid_auto_flow": null,
            "grid_area": null,
            "grid_template_columns": null,
            "flex": null,
            "_model_name": "LayoutModel",
            "justify_items": null,
            "grid_row": null,
            "max_height": null,
            "align_content": null,
            "visibility": null,
            "align_self": null,
            "height": null,
            "min_height": null,
            "padding": null,
            "grid_auto_rows": null,
            "grid_gap": null,
            "max_width": null,
            "order": null,
            "_view_module_version": "1.2.0",
            "grid_template_areas": null,
            "object_position": null,
            "object_fit": null,
            "grid_auto_columns": null,
            "margin": null,
            "display": null,
            "left": null
          }
        },
        "06913c7251c6447ebcc28e3f6e26941a": {
          "model_module": "@jupyter-widgets/controls",
          "model_name": "HBoxModel",
          "state": {
            "_view_name": "HBoxView",
            "_dom_classes": [],
            "_model_name": "HBoxModel",
            "_view_module": "@jupyter-widgets/controls",
            "_model_module_version": "1.5.0",
            "_view_count": null,
            "_view_module_version": "1.5.0",
            "box_style": "",
            "layout": "IPY_MODEL_c82acf76063341d4b1334ec88777ab3c",
            "_model_module": "@jupyter-widgets/controls",
            "children": [
              "IPY_MODEL_7803664eb788413283882884951a5bd9",
              "IPY_MODEL_7abaab77f2de4113b46a68418d201908"
            ]
          }
        },
        "c82acf76063341d4b1334ec88777ab3c": {
          "model_module": "@jupyter-widgets/base",
          "model_name": "LayoutModel",
          "state": {
            "_view_name": "LayoutView",
            "grid_template_rows": null,
            "right": null,
            "justify_content": null,
            "_view_module": "@jupyter-widgets/base",
            "overflow": null,
            "_model_module_version": "1.2.0",
            "_view_count": null,
            "flex_flow": null,
            "width": null,
            "min_width": null,
            "border": null,
            "align_items": null,
            "bottom": null,
            "_model_module": "@jupyter-widgets/base",
            "top": null,
            "grid_column": null,
            "overflow_y": null,
            "overflow_x": null,
            "grid_auto_flow": null,
            "grid_area": null,
            "grid_template_columns": null,
            "flex": null,
            "_model_name": "LayoutModel",
            "justify_items": null,
            "grid_row": null,
            "max_height": null,
            "align_content": null,
            "visibility": null,
            "align_self": null,
            "height": null,
            "min_height": null,
            "padding": null,
            "grid_auto_rows": null,
            "grid_gap": null,
            "max_width": null,
            "order": null,
            "_view_module_version": "1.2.0",
            "grid_template_areas": null,
            "object_position": null,
            "object_fit": null,
            "grid_auto_columns": null,
            "margin": null,
            "display": null,
            "left": null
          }
        },
        "7803664eb788413283882884951a5bd9": {
          "model_module": "@jupyter-widgets/controls",
          "model_name": "IntProgressModel",
          "state": {
            "_view_name": "ProgressView",
            "style": "IPY_MODEL_e6706e9767cf4b25a64e78c425c98a64",
            "_dom_classes": [],
            "description": "100%",
            "_model_name": "IntProgressModel",
            "bar_style": "",
            "max": 23,
            "_view_module": "@jupyter-widgets/controls",
            "_model_module_version": "1.5.0",
            "value": 23,
            "_view_count": null,
            "_view_module_version": "1.5.0",
            "orientation": "horizontal",
            "min": 0,
            "description_tooltip": null,
            "_model_module": "@jupyter-widgets/controls",
            "layout": "IPY_MODEL_fc9efb7c119748c9abf8bbcf6e30b1d1"
          }
        },
        "7abaab77f2de4113b46a68418d201908": {
          "model_module": "@jupyter-widgets/controls",
          "model_name": "HTMLModel",
          "state": {
            "_view_name": "HTMLView",
            "style": "IPY_MODEL_2ead18296a4e42a8a23a0649db1f7ac5",
            "_dom_classes": [],
            "description": "",
            "_model_name": "HTMLModel",
            "placeholder": "​",
            "_view_module": "@jupyter-widgets/controls",
            "_model_module_version": "1.5.0",
            "value": " 23/23 [00:37&lt;00:00,  1.30s/it]",
            "_view_count": null,
            "_view_module_version": "1.5.0",
            "description_tooltip": null,
            "_model_module": "@jupyter-widgets/controls",
            "layout": "IPY_MODEL_63ac3ab231be47a5acb296ade177e053"
          }
        },
        "e6706e9767cf4b25a64e78c425c98a64": {
          "model_module": "@jupyter-widgets/controls",
          "model_name": "ProgressStyleModel",
          "state": {
            "_view_name": "StyleView",
            "_model_name": "ProgressStyleModel",
            "description_width": "initial",
            "_view_module": "@jupyter-widgets/base",
            "_model_module_version": "1.5.0",
            "_view_count": null,
            "_view_module_version": "1.2.0",
            "bar_color": null,
            "_model_module": "@jupyter-widgets/controls"
          }
        },
        "fc9efb7c119748c9abf8bbcf6e30b1d1": {
          "model_module": "@jupyter-widgets/base",
          "model_name": "LayoutModel",
          "state": {
            "_view_name": "LayoutView",
            "grid_template_rows": null,
            "right": null,
            "justify_content": null,
            "_view_module": "@jupyter-widgets/base",
            "overflow": null,
            "_model_module_version": "1.2.0",
            "_view_count": null,
            "flex_flow": null,
            "width": null,
            "min_width": null,
            "border": null,
            "align_items": null,
            "bottom": null,
            "_model_module": "@jupyter-widgets/base",
            "top": null,
            "grid_column": null,
            "overflow_y": null,
            "overflow_x": null,
            "grid_auto_flow": null,
            "grid_area": null,
            "grid_template_columns": null,
            "flex": null,
            "_model_name": "LayoutModel",
            "justify_items": null,
            "grid_row": null,
            "max_height": null,
            "align_content": null,
            "visibility": null,
            "align_self": null,
            "height": null,
            "min_height": null,
            "padding": null,
            "grid_auto_rows": null,
            "grid_gap": null,
            "max_width": null,
            "order": null,
            "_view_module_version": "1.2.0",
            "grid_template_areas": null,
            "object_position": null,
            "object_fit": null,
            "grid_auto_columns": null,
            "margin": null,
            "display": null,
            "left": null
          }
        },
        "2ead18296a4e42a8a23a0649db1f7ac5": {
          "model_module": "@jupyter-widgets/controls",
          "model_name": "DescriptionStyleModel",
          "state": {
            "_view_name": "StyleView",
            "_model_name": "DescriptionStyleModel",
            "description_width": "",
            "_view_module": "@jupyter-widgets/base",
            "_model_module_version": "1.5.0",
            "_view_count": null,
            "_view_module_version": "1.2.0",
            "_model_module": "@jupyter-widgets/controls"
          }
        },
        "63ac3ab231be47a5acb296ade177e053": {
          "model_module": "@jupyter-widgets/base",
          "model_name": "LayoutModel",
          "state": {
            "_view_name": "LayoutView",
            "grid_template_rows": null,
            "right": null,
            "justify_content": null,
            "_view_module": "@jupyter-widgets/base",
            "overflow": null,
            "_model_module_version": "1.2.0",
            "_view_count": null,
            "flex_flow": null,
            "width": null,
            "min_width": null,
            "border": null,
            "align_items": null,
            "bottom": null,
            "_model_module": "@jupyter-widgets/base",
            "top": null,
            "grid_column": null,
            "overflow_y": null,
            "overflow_x": null,
            "grid_auto_flow": null,
            "grid_area": null,
            "grid_template_columns": null,
            "flex": null,
            "_model_name": "LayoutModel",
            "justify_items": null,
            "grid_row": null,
            "max_height": null,
            "align_content": null,
            "visibility": null,
            "align_self": null,
            "height": null,
            "min_height": null,
            "padding": null,
            "grid_auto_rows": null,
            "grid_gap": null,
            "max_width": null,
            "order": null,
            "_view_module_version": "1.2.0",
            "grid_template_areas": null,
            "object_position": null,
            "object_fit": null,
            "grid_auto_columns": null,
            "margin": null,
            "display": null,
            "left": null
          }
        },
        "172e82cabb714820a2d6cb08e034d957": {
          "model_module": "@jupyter-widgets/controls",
          "model_name": "HBoxModel",
          "state": {
            "_view_name": "HBoxView",
            "_dom_classes": [],
            "_model_name": "HBoxModel",
            "_view_module": "@jupyter-widgets/controls",
            "_model_module_version": "1.5.0",
            "_view_count": null,
            "_view_module_version": "1.5.0",
            "box_style": "",
            "layout": "IPY_MODEL_f75cd94d428b4febbdb75ed211ca6d05",
            "_model_module": "@jupyter-widgets/controls",
            "children": [
              "IPY_MODEL_530ab1cc5c784ec2b63c2d8eeb6bc2d2",
              "IPY_MODEL_5ff5cb387ded42059bb1bdfdf464d084"
            ]
          }
        },
        "f75cd94d428b4febbdb75ed211ca6d05": {
          "model_module": "@jupyter-widgets/base",
          "model_name": "LayoutModel",
          "state": {
            "_view_name": "LayoutView",
            "grid_template_rows": null,
            "right": null,
            "justify_content": null,
            "_view_module": "@jupyter-widgets/base",
            "overflow": null,
            "_model_module_version": "1.2.0",
            "_view_count": null,
            "flex_flow": null,
            "width": null,
            "min_width": null,
            "border": null,
            "align_items": null,
            "bottom": null,
            "_model_module": "@jupyter-widgets/base",
            "top": null,
            "grid_column": null,
            "overflow_y": null,
            "overflow_x": null,
            "grid_auto_flow": null,
            "grid_area": null,
            "grid_template_columns": null,
            "flex": null,
            "_model_name": "LayoutModel",
            "justify_items": null,
            "grid_row": null,
            "max_height": null,
            "align_content": null,
            "visibility": null,
            "align_self": null,
            "height": null,
            "min_height": null,
            "padding": null,
            "grid_auto_rows": null,
            "grid_gap": null,
            "max_width": null,
            "order": null,
            "_view_module_version": "1.2.0",
            "grid_template_areas": null,
            "object_position": null,
            "object_fit": null,
            "grid_auto_columns": null,
            "margin": null,
            "display": null,
            "left": null
          }
        },
        "530ab1cc5c784ec2b63c2d8eeb6bc2d2": {
          "model_module": "@jupyter-widgets/controls",
          "model_name": "IntProgressModel",
          "state": {
            "_view_name": "ProgressView",
            "style": "IPY_MODEL_b6ee1e24f021400989f86f3a33b212b3",
            "_dom_classes": [],
            "description": "100%",
            "_model_name": "IntProgressModel",
            "bar_style": "",
            "max": 23,
            "_view_module": "@jupyter-widgets/controls",
            "_model_module_version": "1.5.0",
            "value": 23,
            "_view_count": null,
            "_view_module_version": "1.5.0",
            "orientation": "horizontal",
            "min": 0,
            "description_tooltip": null,
            "_model_module": "@jupyter-widgets/controls",
            "layout": "IPY_MODEL_9e4f8b045e744c59ba728a08c32d6c54"
          }
        },
        "5ff5cb387ded42059bb1bdfdf464d084": {
          "model_module": "@jupyter-widgets/controls",
          "model_name": "HTMLModel",
          "state": {
            "_view_name": "HTMLView",
            "style": "IPY_MODEL_445d81dbc9974c5891d6c3a584920d4d",
            "_dom_classes": [],
            "description": "",
            "_model_name": "HTMLModel",
            "placeholder": "​",
            "_view_module": "@jupyter-widgets/controls",
            "_model_module_version": "1.5.0",
            "value": " 23/23 [00:36&lt;00:00,  1.32s/it]",
            "_view_count": null,
            "_view_module_version": "1.5.0",
            "description_tooltip": null,
            "_model_module": "@jupyter-widgets/controls",
            "layout": "IPY_MODEL_c862f8859d4145889f2358d9235021f7"
          }
        },
        "b6ee1e24f021400989f86f3a33b212b3": {
          "model_module": "@jupyter-widgets/controls",
          "model_name": "ProgressStyleModel",
          "state": {
            "_view_name": "StyleView",
            "_model_name": "ProgressStyleModel",
            "description_width": "initial",
            "_view_module": "@jupyter-widgets/base",
            "_model_module_version": "1.5.0",
            "_view_count": null,
            "_view_module_version": "1.2.0",
            "bar_color": null,
            "_model_module": "@jupyter-widgets/controls"
          }
        },
        "9e4f8b045e744c59ba728a08c32d6c54": {
          "model_module": "@jupyter-widgets/base",
          "model_name": "LayoutModel",
          "state": {
            "_view_name": "LayoutView",
            "grid_template_rows": null,
            "right": null,
            "justify_content": null,
            "_view_module": "@jupyter-widgets/base",
            "overflow": null,
            "_model_module_version": "1.2.0",
            "_view_count": null,
            "flex_flow": null,
            "width": null,
            "min_width": null,
            "border": null,
            "align_items": null,
            "bottom": null,
            "_model_module": "@jupyter-widgets/base",
            "top": null,
            "grid_column": null,
            "overflow_y": null,
            "overflow_x": null,
            "grid_auto_flow": null,
            "grid_area": null,
            "grid_template_columns": null,
            "flex": null,
            "_model_name": "LayoutModel",
            "justify_items": null,
            "grid_row": null,
            "max_height": null,
            "align_content": null,
            "visibility": null,
            "align_self": null,
            "height": null,
            "min_height": null,
            "padding": null,
            "grid_auto_rows": null,
            "grid_gap": null,
            "max_width": null,
            "order": null,
            "_view_module_version": "1.2.0",
            "grid_template_areas": null,
            "object_position": null,
            "object_fit": null,
            "grid_auto_columns": null,
            "margin": null,
            "display": null,
            "left": null
          }
        },
        "445d81dbc9974c5891d6c3a584920d4d": {
          "model_module": "@jupyter-widgets/controls",
          "model_name": "DescriptionStyleModel",
          "state": {
            "_view_name": "StyleView",
            "_model_name": "DescriptionStyleModel",
            "description_width": "",
            "_view_module": "@jupyter-widgets/base",
            "_model_module_version": "1.5.0",
            "_view_count": null,
            "_view_module_version": "1.2.0",
            "_model_module": "@jupyter-widgets/controls"
          }
        },
        "c862f8859d4145889f2358d9235021f7": {
          "model_module": "@jupyter-widgets/base",
          "model_name": "LayoutModel",
          "state": {
            "_view_name": "LayoutView",
            "grid_template_rows": null,
            "right": null,
            "justify_content": null,
            "_view_module": "@jupyter-widgets/base",
            "overflow": null,
            "_model_module_version": "1.2.0",
            "_view_count": null,
            "flex_flow": null,
            "width": null,
            "min_width": null,
            "border": null,
            "align_items": null,
            "bottom": null,
            "_model_module": "@jupyter-widgets/base",
            "top": null,
            "grid_column": null,
            "overflow_y": null,
            "overflow_x": null,
            "grid_auto_flow": null,
            "grid_area": null,
            "grid_template_columns": null,
            "flex": null,
            "_model_name": "LayoutModel",
            "justify_items": null,
            "grid_row": null,
            "max_height": null,
            "align_content": null,
            "visibility": null,
            "align_self": null,
            "height": null,
            "min_height": null,
            "padding": null,
            "grid_auto_rows": null,
            "grid_gap": null,
            "max_width": null,
            "order": null,
            "_view_module_version": "1.2.0",
            "grid_template_areas": null,
            "object_position": null,
            "object_fit": null,
            "grid_auto_columns": null,
            "margin": null,
            "display": null,
            "left": null
          }
        },
        "ecb32946693e48a4891ce46764d7634a": {
          "model_module": "@jupyter-widgets/controls",
          "model_name": "HBoxModel",
          "state": {
            "_view_name": "HBoxView",
            "_dom_classes": [],
            "_model_name": "HBoxModel",
            "_view_module": "@jupyter-widgets/controls",
            "_model_module_version": "1.5.0",
            "_view_count": null,
            "_view_module_version": "1.5.0",
            "box_style": "",
            "layout": "IPY_MODEL_92f26b92b0264361b7d525ad8fc0ceff",
            "_model_module": "@jupyter-widgets/controls",
            "children": [
              "IPY_MODEL_c0e5e0e0008b4b5a8e146588a3d5caf6",
              "IPY_MODEL_f1284c96885b45ff8fdea94017624d70"
            ]
          }
        },
        "92f26b92b0264361b7d525ad8fc0ceff": {
          "model_module": "@jupyter-widgets/base",
          "model_name": "LayoutModel",
          "state": {
            "_view_name": "LayoutView",
            "grid_template_rows": null,
            "right": null,
            "justify_content": null,
            "_view_module": "@jupyter-widgets/base",
            "overflow": null,
            "_model_module_version": "1.2.0",
            "_view_count": null,
            "flex_flow": null,
            "width": null,
            "min_width": null,
            "border": null,
            "align_items": null,
            "bottom": null,
            "_model_module": "@jupyter-widgets/base",
            "top": null,
            "grid_column": null,
            "overflow_y": null,
            "overflow_x": null,
            "grid_auto_flow": null,
            "grid_area": null,
            "grid_template_columns": null,
            "flex": null,
            "_model_name": "LayoutModel",
            "justify_items": null,
            "grid_row": null,
            "max_height": null,
            "align_content": null,
            "visibility": null,
            "align_self": null,
            "height": null,
            "min_height": null,
            "padding": null,
            "grid_auto_rows": null,
            "grid_gap": null,
            "max_width": null,
            "order": null,
            "_view_module_version": "1.2.0",
            "grid_template_areas": null,
            "object_position": null,
            "object_fit": null,
            "grid_auto_columns": null,
            "margin": null,
            "display": null,
            "left": null
          }
        },
        "c0e5e0e0008b4b5a8e146588a3d5caf6": {
          "model_module": "@jupyter-widgets/controls",
          "model_name": "IntProgressModel",
          "state": {
            "_view_name": "ProgressView",
            "style": "IPY_MODEL_7ad6d60e254e49da9ea20dc0ea43ec51",
            "_dom_classes": [],
            "description": "100%",
            "_model_name": "IntProgressModel",
            "bar_style": "",
            "max": 23,
            "_view_module": "@jupyter-widgets/controls",
            "_model_module_version": "1.5.0",
            "value": 23,
            "_view_count": null,
            "_view_module_version": "1.5.0",
            "orientation": "horizontal",
            "min": 0,
            "description_tooltip": null,
            "_model_module": "@jupyter-widgets/controls",
            "layout": "IPY_MODEL_fcce9735038347e29775fa51ba352344"
          }
        },
        "f1284c96885b45ff8fdea94017624d70": {
          "model_module": "@jupyter-widgets/controls",
          "model_name": "HTMLModel",
          "state": {
            "_view_name": "HTMLView",
            "style": "IPY_MODEL_5298ee4c063e484bba12848c763d035b",
            "_dom_classes": [],
            "description": "",
            "_model_name": "HTMLModel",
            "placeholder": "​",
            "_view_module": "@jupyter-widgets/controls",
            "_model_module_version": "1.5.0",
            "value": " 23/23 [00:37&lt;00:00,  1.25s/it]",
            "_view_count": null,
            "_view_module_version": "1.5.0",
            "description_tooltip": null,
            "_model_module": "@jupyter-widgets/controls",
            "layout": "IPY_MODEL_bc28e7f5a5c6491db44ef01561adcedc"
          }
        },
        "7ad6d60e254e49da9ea20dc0ea43ec51": {
          "model_module": "@jupyter-widgets/controls",
          "model_name": "ProgressStyleModel",
          "state": {
            "_view_name": "StyleView",
            "_model_name": "ProgressStyleModel",
            "description_width": "initial",
            "_view_module": "@jupyter-widgets/base",
            "_model_module_version": "1.5.0",
            "_view_count": null,
            "_view_module_version": "1.2.0",
            "bar_color": null,
            "_model_module": "@jupyter-widgets/controls"
          }
        },
        "fcce9735038347e29775fa51ba352344": {
          "model_module": "@jupyter-widgets/base",
          "model_name": "LayoutModel",
          "state": {
            "_view_name": "LayoutView",
            "grid_template_rows": null,
            "right": null,
            "justify_content": null,
            "_view_module": "@jupyter-widgets/base",
            "overflow": null,
            "_model_module_version": "1.2.0",
            "_view_count": null,
            "flex_flow": null,
            "width": null,
            "min_width": null,
            "border": null,
            "align_items": null,
            "bottom": null,
            "_model_module": "@jupyter-widgets/base",
            "top": null,
            "grid_column": null,
            "overflow_y": null,
            "overflow_x": null,
            "grid_auto_flow": null,
            "grid_area": null,
            "grid_template_columns": null,
            "flex": null,
            "_model_name": "LayoutModel",
            "justify_items": null,
            "grid_row": null,
            "max_height": null,
            "align_content": null,
            "visibility": null,
            "align_self": null,
            "height": null,
            "min_height": null,
            "padding": null,
            "grid_auto_rows": null,
            "grid_gap": null,
            "max_width": null,
            "order": null,
            "_view_module_version": "1.2.0",
            "grid_template_areas": null,
            "object_position": null,
            "object_fit": null,
            "grid_auto_columns": null,
            "margin": null,
            "display": null,
            "left": null
          }
        },
        "5298ee4c063e484bba12848c763d035b": {
          "model_module": "@jupyter-widgets/controls",
          "model_name": "DescriptionStyleModel",
          "state": {
            "_view_name": "StyleView",
            "_model_name": "DescriptionStyleModel",
            "description_width": "",
            "_view_module": "@jupyter-widgets/base",
            "_model_module_version": "1.5.0",
            "_view_count": null,
            "_view_module_version": "1.2.0",
            "_model_module": "@jupyter-widgets/controls"
          }
        },
        "bc28e7f5a5c6491db44ef01561adcedc": {
          "model_module": "@jupyter-widgets/base",
          "model_name": "LayoutModel",
          "state": {
            "_view_name": "LayoutView",
            "grid_template_rows": null,
            "right": null,
            "justify_content": null,
            "_view_module": "@jupyter-widgets/base",
            "overflow": null,
            "_model_module_version": "1.2.0",
            "_view_count": null,
            "flex_flow": null,
            "width": null,
            "min_width": null,
            "border": null,
            "align_items": null,
            "bottom": null,
            "_model_module": "@jupyter-widgets/base",
            "top": null,
            "grid_column": null,
            "overflow_y": null,
            "overflow_x": null,
            "grid_auto_flow": null,
            "grid_area": null,
            "grid_template_columns": null,
            "flex": null,
            "_model_name": "LayoutModel",
            "justify_items": null,
            "grid_row": null,
            "max_height": null,
            "align_content": null,
            "visibility": null,
            "align_self": null,
            "height": null,
            "min_height": null,
            "padding": null,
            "grid_auto_rows": null,
            "grid_gap": null,
            "max_width": null,
            "order": null,
            "_view_module_version": "1.2.0",
            "grid_template_areas": null,
            "object_position": null,
            "object_fit": null,
            "grid_auto_columns": null,
            "margin": null,
            "display": null,
            "left": null
          }
        },
        "0bfe1203b5254001b7847ca2540d5ffc": {
          "model_module": "@jupyter-widgets/controls",
          "model_name": "HBoxModel",
          "state": {
            "_view_name": "HBoxView",
            "_dom_classes": [],
            "_model_name": "HBoxModel",
            "_view_module": "@jupyter-widgets/controls",
            "_model_module_version": "1.5.0",
            "_view_count": null,
            "_view_module_version": "1.5.0",
            "box_style": "",
            "layout": "IPY_MODEL_02261cf5a491429485766a0c6d0749f3",
            "_model_module": "@jupyter-widgets/controls",
            "children": [
              "IPY_MODEL_1e0c6fe5de2d438b8148f27882d6debb",
              "IPY_MODEL_70808ac3f7ea4901b352479245c8e19c"
            ]
          }
        },
        "02261cf5a491429485766a0c6d0749f3": {
          "model_module": "@jupyter-widgets/base",
          "model_name": "LayoutModel",
          "state": {
            "_view_name": "LayoutView",
            "grid_template_rows": null,
            "right": null,
            "justify_content": null,
            "_view_module": "@jupyter-widgets/base",
            "overflow": null,
            "_model_module_version": "1.2.0",
            "_view_count": null,
            "flex_flow": null,
            "width": null,
            "min_width": null,
            "border": null,
            "align_items": null,
            "bottom": null,
            "_model_module": "@jupyter-widgets/base",
            "top": null,
            "grid_column": null,
            "overflow_y": null,
            "overflow_x": null,
            "grid_auto_flow": null,
            "grid_area": null,
            "grid_template_columns": null,
            "flex": null,
            "_model_name": "LayoutModel",
            "justify_items": null,
            "grid_row": null,
            "max_height": null,
            "align_content": null,
            "visibility": null,
            "align_self": null,
            "height": null,
            "min_height": null,
            "padding": null,
            "grid_auto_rows": null,
            "grid_gap": null,
            "max_width": null,
            "order": null,
            "_view_module_version": "1.2.0",
            "grid_template_areas": null,
            "object_position": null,
            "object_fit": null,
            "grid_auto_columns": null,
            "margin": null,
            "display": null,
            "left": null
          }
        },
        "1e0c6fe5de2d438b8148f27882d6debb": {
          "model_module": "@jupyter-widgets/controls",
          "model_name": "IntProgressModel",
          "state": {
            "_view_name": "ProgressView",
            "style": "IPY_MODEL_44386372addf4f318d2c857d6baff3ee",
            "_dom_classes": [],
            "description": "100%",
            "_model_name": "IntProgressModel",
            "bar_style": "",
            "max": 23,
            "_view_module": "@jupyter-widgets/controls",
            "_model_module_version": "1.5.0",
            "value": 23,
            "_view_count": null,
            "_view_module_version": "1.5.0",
            "orientation": "horizontal",
            "min": 0,
            "description_tooltip": null,
            "_model_module": "@jupyter-widgets/controls",
            "layout": "IPY_MODEL_838e681ca2254512b4416f5404b99ff7"
          }
        },
        "70808ac3f7ea4901b352479245c8e19c": {
          "model_module": "@jupyter-widgets/controls",
          "model_name": "HTMLModel",
          "state": {
            "_view_name": "HTMLView",
            "style": "IPY_MODEL_6b24ad5cad7e4cd4b0e95849cddc891d",
            "_dom_classes": [],
            "description": "",
            "_model_name": "HTMLModel",
            "placeholder": "​",
            "_view_module": "@jupyter-widgets/controls",
            "_model_module_version": "1.5.0",
            "value": " 23/23 [00:37&lt;00:00,  1.40s/it]",
            "_view_count": null,
            "_view_module_version": "1.5.0",
            "description_tooltip": null,
            "_model_module": "@jupyter-widgets/controls",
            "layout": "IPY_MODEL_1b5c82ad3baa47778ee719d9581c5a3e"
          }
        },
        "44386372addf4f318d2c857d6baff3ee": {
          "model_module": "@jupyter-widgets/controls",
          "model_name": "ProgressStyleModel",
          "state": {
            "_view_name": "StyleView",
            "_model_name": "ProgressStyleModel",
            "description_width": "initial",
            "_view_module": "@jupyter-widgets/base",
            "_model_module_version": "1.5.0",
            "_view_count": null,
            "_view_module_version": "1.2.0",
            "bar_color": null,
            "_model_module": "@jupyter-widgets/controls"
          }
        },
        "838e681ca2254512b4416f5404b99ff7": {
          "model_module": "@jupyter-widgets/base",
          "model_name": "LayoutModel",
          "state": {
            "_view_name": "LayoutView",
            "grid_template_rows": null,
            "right": null,
            "justify_content": null,
            "_view_module": "@jupyter-widgets/base",
            "overflow": null,
            "_model_module_version": "1.2.0",
            "_view_count": null,
            "flex_flow": null,
            "width": null,
            "min_width": null,
            "border": null,
            "align_items": null,
            "bottom": null,
            "_model_module": "@jupyter-widgets/base",
            "top": null,
            "grid_column": null,
            "overflow_y": null,
            "overflow_x": null,
            "grid_auto_flow": null,
            "grid_area": null,
            "grid_template_columns": null,
            "flex": null,
            "_model_name": "LayoutModel",
            "justify_items": null,
            "grid_row": null,
            "max_height": null,
            "align_content": null,
            "visibility": null,
            "align_self": null,
            "height": null,
            "min_height": null,
            "padding": null,
            "grid_auto_rows": null,
            "grid_gap": null,
            "max_width": null,
            "order": null,
            "_view_module_version": "1.2.0",
            "grid_template_areas": null,
            "object_position": null,
            "object_fit": null,
            "grid_auto_columns": null,
            "margin": null,
            "display": null,
            "left": null
          }
        },
        "6b24ad5cad7e4cd4b0e95849cddc891d": {
          "model_module": "@jupyter-widgets/controls",
          "model_name": "DescriptionStyleModel",
          "state": {
            "_view_name": "StyleView",
            "_model_name": "DescriptionStyleModel",
            "description_width": "",
            "_view_module": "@jupyter-widgets/base",
            "_model_module_version": "1.5.0",
            "_view_count": null,
            "_view_module_version": "1.2.0",
            "_model_module": "@jupyter-widgets/controls"
          }
        },
        "1b5c82ad3baa47778ee719d9581c5a3e": {
          "model_module": "@jupyter-widgets/base",
          "model_name": "LayoutModel",
          "state": {
            "_view_name": "LayoutView",
            "grid_template_rows": null,
            "right": null,
            "justify_content": null,
            "_view_module": "@jupyter-widgets/base",
            "overflow": null,
            "_model_module_version": "1.2.0",
            "_view_count": null,
            "flex_flow": null,
            "width": null,
            "min_width": null,
            "border": null,
            "align_items": null,
            "bottom": null,
            "_model_module": "@jupyter-widgets/base",
            "top": null,
            "grid_column": null,
            "overflow_y": null,
            "overflow_x": null,
            "grid_auto_flow": null,
            "grid_area": null,
            "grid_template_columns": null,
            "flex": null,
            "_model_name": "LayoutModel",
            "justify_items": null,
            "grid_row": null,
            "max_height": null,
            "align_content": null,
            "visibility": null,
            "align_self": null,
            "height": null,
            "min_height": null,
            "padding": null,
            "grid_auto_rows": null,
            "grid_gap": null,
            "max_width": null,
            "order": null,
            "_view_module_version": "1.2.0",
            "grid_template_areas": null,
            "object_position": null,
            "object_fit": null,
            "grid_auto_columns": null,
            "margin": null,
            "display": null,
            "left": null
          }
        },
        "b7ac2db4ae9a4374b558399e21429465": {
          "model_module": "@jupyter-widgets/controls",
          "model_name": "HBoxModel",
          "state": {
            "_view_name": "HBoxView",
            "_dom_classes": [],
            "_model_name": "HBoxModel",
            "_view_module": "@jupyter-widgets/controls",
            "_model_module_version": "1.5.0",
            "_view_count": null,
            "_view_module_version": "1.5.0",
            "box_style": "",
            "layout": "IPY_MODEL_d852a4186c544b6ab24f7ab0694a8e5f",
            "_model_module": "@jupyter-widgets/controls",
            "children": [
              "IPY_MODEL_0ebc352fc7cf4baab73a40a0bee39507",
              "IPY_MODEL_d19a20cdabf94c04aa4a112c9721b78b"
            ]
          }
        },
        "d852a4186c544b6ab24f7ab0694a8e5f": {
          "model_module": "@jupyter-widgets/base",
          "model_name": "LayoutModel",
          "state": {
            "_view_name": "LayoutView",
            "grid_template_rows": null,
            "right": null,
            "justify_content": null,
            "_view_module": "@jupyter-widgets/base",
            "overflow": null,
            "_model_module_version": "1.2.0",
            "_view_count": null,
            "flex_flow": null,
            "width": null,
            "min_width": null,
            "border": null,
            "align_items": null,
            "bottom": null,
            "_model_module": "@jupyter-widgets/base",
            "top": null,
            "grid_column": null,
            "overflow_y": null,
            "overflow_x": null,
            "grid_auto_flow": null,
            "grid_area": null,
            "grid_template_columns": null,
            "flex": null,
            "_model_name": "LayoutModel",
            "justify_items": null,
            "grid_row": null,
            "max_height": null,
            "align_content": null,
            "visibility": null,
            "align_self": null,
            "height": null,
            "min_height": null,
            "padding": null,
            "grid_auto_rows": null,
            "grid_gap": null,
            "max_width": null,
            "order": null,
            "_view_module_version": "1.2.0",
            "grid_template_areas": null,
            "object_position": null,
            "object_fit": null,
            "grid_auto_columns": null,
            "margin": null,
            "display": null,
            "left": null
          }
        },
        "0ebc352fc7cf4baab73a40a0bee39507": {
          "model_module": "@jupyter-widgets/controls",
          "model_name": "IntProgressModel",
          "state": {
            "_view_name": "ProgressView",
            "style": "IPY_MODEL_96fdb20e10084ddc85ef7b3af5279ebb",
            "_dom_classes": [],
            "description": "100%",
            "_model_name": "IntProgressModel",
            "bar_style": "",
            "max": 23,
            "_view_module": "@jupyter-widgets/controls",
            "_model_module_version": "1.5.0",
            "value": 23,
            "_view_count": null,
            "_view_module_version": "1.5.0",
            "orientation": "horizontal",
            "min": 0,
            "description_tooltip": null,
            "_model_module": "@jupyter-widgets/controls",
            "layout": "IPY_MODEL_6521076e5db74eda97dc38ab0ce9c0eb"
          }
        },
        "d19a20cdabf94c04aa4a112c9721b78b": {
          "model_module": "@jupyter-widgets/controls",
          "model_name": "HTMLModel",
          "state": {
            "_view_name": "HTMLView",
            "style": "IPY_MODEL_8469ce19865e44d6b2432ec53e7837b4",
            "_dom_classes": [],
            "description": "",
            "_model_name": "HTMLModel",
            "placeholder": "​",
            "_view_module": "@jupyter-widgets/controls",
            "_model_module_version": "1.5.0",
            "value": " 23/23 [00:37&lt;00:00,  1.35s/it]",
            "_view_count": null,
            "_view_module_version": "1.5.0",
            "description_tooltip": null,
            "_model_module": "@jupyter-widgets/controls",
            "layout": "IPY_MODEL_f0b4bc43438f4a4fb1f028b2c03a868e"
          }
        },
        "96fdb20e10084ddc85ef7b3af5279ebb": {
          "model_module": "@jupyter-widgets/controls",
          "model_name": "ProgressStyleModel",
          "state": {
            "_view_name": "StyleView",
            "_model_name": "ProgressStyleModel",
            "description_width": "initial",
            "_view_module": "@jupyter-widgets/base",
            "_model_module_version": "1.5.0",
            "_view_count": null,
            "_view_module_version": "1.2.0",
            "bar_color": null,
            "_model_module": "@jupyter-widgets/controls"
          }
        },
        "6521076e5db74eda97dc38ab0ce9c0eb": {
          "model_module": "@jupyter-widgets/base",
          "model_name": "LayoutModel",
          "state": {
            "_view_name": "LayoutView",
            "grid_template_rows": null,
            "right": null,
            "justify_content": null,
            "_view_module": "@jupyter-widgets/base",
            "overflow": null,
            "_model_module_version": "1.2.0",
            "_view_count": null,
            "flex_flow": null,
            "width": null,
            "min_width": null,
            "border": null,
            "align_items": null,
            "bottom": null,
            "_model_module": "@jupyter-widgets/base",
            "top": null,
            "grid_column": null,
            "overflow_y": null,
            "overflow_x": null,
            "grid_auto_flow": null,
            "grid_area": null,
            "grid_template_columns": null,
            "flex": null,
            "_model_name": "LayoutModel",
            "justify_items": null,
            "grid_row": null,
            "max_height": null,
            "align_content": null,
            "visibility": null,
            "align_self": null,
            "height": null,
            "min_height": null,
            "padding": null,
            "grid_auto_rows": null,
            "grid_gap": null,
            "max_width": null,
            "order": null,
            "_view_module_version": "1.2.0",
            "grid_template_areas": null,
            "object_position": null,
            "object_fit": null,
            "grid_auto_columns": null,
            "margin": null,
            "display": null,
            "left": null
          }
        },
        "8469ce19865e44d6b2432ec53e7837b4": {
          "model_module": "@jupyter-widgets/controls",
          "model_name": "DescriptionStyleModel",
          "state": {
            "_view_name": "StyleView",
            "_model_name": "DescriptionStyleModel",
            "description_width": "",
            "_view_module": "@jupyter-widgets/base",
            "_model_module_version": "1.5.0",
            "_view_count": null,
            "_view_module_version": "1.2.0",
            "_model_module": "@jupyter-widgets/controls"
          }
        },
        "f0b4bc43438f4a4fb1f028b2c03a868e": {
          "model_module": "@jupyter-widgets/base",
          "model_name": "LayoutModel",
          "state": {
            "_view_name": "LayoutView",
            "grid_template_rows": null,
            "right": null,
            "justify_content": null,
            "_view_module": "@jupyter-widgets/base",
            "overflow": null,
            "_model_module_version": "1.2.0",
            "_view_count": null,
            "flex_flow": null,
            "width": null,
            "min_width": null,
            "border": null,
            "align_items": null,
            "bottom": null,
            "_model_module": "@jupyter-widgets/base",
            "top": null,
            "grid_column": null,
            "overflow_y": null,
            "overflow_x": null,
            "grid_auto_flow": null,
            "grid_area": null,
            "grid_template_columns": null,
            "flex": null,
            "_model_name": "LayoutModel",
            "justify_items": null,
            "grid_row": null,
            "max_height": null,
            "align_content": null,
            "visibility": null,
            "align_self": null,
            "height": null,
            "min_height": null,
            "padding": null,
            "grid_auto_rows": null,
            "grid_gap": null,
            "max_width": null,
            "order": null,
            "_view_module_version": "1.2.0",
            "grid_template_areas": null,
            "object_position": null,
            "object_fit": null,
            "grid_auto_columns": null,
            "margin": null,
            "display": null,
            "left": null
          }
        },
        "412cfb18fe2940fd9001542115e7cba5": {
          "model_module": "@jupyter-widgets/controls",
          "model_name": "HBoxModel",
          "state": {
            "_view_name": "HBoxView",
            "_dom_classes": [],
            "_model_name": "HBoxModel",
            "_view_module": "@jupyter-widgets/controls",
            "_model_module_version": "1.5.0",
            "_view_count": null,
            "_view_module_version": "1.5.0",
            "box_style": "",
            "layout": "IPY_MODEL_82f62a0d949d47b49fa711288ebc3c99",
            "_model_module": "@jupyter-widgets/controls",
            "children": [
              "IPY_MODEL_6f3932e395634e118c84caf4b76c444d",
              "IPY_MODEL_8f4ee9019cce441796d06a41688891dd"
            ]
          }
        },
        "82f62a0d949d47b49fa711288ebc3c99": {
          "model_module": "@jupyter-widgets/base",
          "model_name": "LayoutModel",
          "state": {
            "_view_name": "LayoutView",
            "grid_template_rows": null,
            "right": null,
            "justify_content": null,
            "_view_module": "@jupyter-widgets/base",
            "overflow": null,
            "_model_module_version": "1.2.0",
            "_view_count": null,
            "flex_flow": null,
            "width": null,
            "min_width": null,
            "border": null,
            "align_items": null,
            "bottom": null,
            "_model_module": "@jupyter-widgets/base",
            "top": null,
            "grid_column": null,
            "overflow_y": null,
            "overflow_x": null,
            "grid_auto_flow": null,
            "grid_area": null,
            "grid_template_columns": null,
            "flex": null,
            "_model_name": "LayoutModel",
            "justify_items": null,
            "grid_row": null,
            "max_height": null,
            "align_content": null,
            "visibility": null,
            "align_self": null,
            "height": null,
            "min_height": null,
            "padding": null,
            "grid_auto_rows": null,
            "grid_gap": null,
            "max_width": null,
            "order": null,
            "_view_module_version": "1.2.0",
            "grid_template_areas": null,
            "object_position": null,
            "object_fit": null,
            "grid_auto_columns": null,
            "margin": null,
            "display": null,
            "left": null
          }
        },
        "6f3932e395634e118c84caf4b76c444d": {
          "model_module": "@jupyter-widgets/controls",
          "model_name": "IntProgressModel",
          "state": {
            "_view_name": "ProgressView",
            "style": "IPY_MODEL_561a82c28b65415daa01e75484c35177",
            "_dom_classes": [],
            "description": "100%",
            "_model_name": "IntProgressModel",
            "bar_style": "",
            "max": 23,
            "_view_module": "@jupyter-widgets/controls",
            "_model_module_version": "1.5.0",
            "value": 23,
            "_view_count": null,
            "_view_module_version": "1.5.0",
            "orientation": "horizontal",
            "min": 0,
            "description_tooltip": null,
            "_model_module": "@jupyter-widgets/controls",
            "layout": "IPY_MODEL_2eebca8b65114ac2a755b1826fb6f5d6"
          }
        },
        "8f4ee9019cce441796d06a41688891dd": {
          "model_module": "@jupyter-widgets/controls",
          "model_name": "HTMLModel",
          "state": {
            "_view_name": "HTMLView",
            "style": "IPY_MODEL_3c60200cc3db46f88978c56002966bfb",
            "_dom_classes": [],
            "description": "",
            "_model_name": "HTMLModel",
            "placeholder": "​",
            "_view_module": "@jupyter-widgets/controls",
            "_model_module_version": "1.5.0",
            "value": " 23/23 [00:36&lt;00:00,  1.39s/it]",
            "_view_count": null,
            "_view_module_version": "1.5.0",
            "description_tooltip": null,
            "_model_module": "@jupyter-widgets/controls",
            "layout": "IPY_MODEL_ed43e459098344aa860edd0017777b48"
          }
        },
        "561a82c28b65415daa01e75484c35177": {
          "model_module": "@jupyter-widgets/controls",
          "model_name": "ProgressStyleModel",
          "state": {
            "_view_name": "StyleView",
            "_model_name": "ProgressStyleModel",
            "description_width": "initial",
            "_view_module": "@jupyter-widgets/base",
            "_model_module_version": "1.5.0",
            "_view_count": null,
            "_view_module_version": "1.2.0",
            "bar_color": null,
            "_model_module": "@jupyter-widgets/controls"
          }
        },
        "2eebca8b65114ac2a755b1826fb6f5d6": {
          "model_module": "@jupyter-widgets/base",
          "model_name": "LayoutModel",
          "state": {
            "_view_name": "LayoutView",
            "grid_template_rows": null,
            "right": null,
            "justify_content": null,
            "_view_module": "@jupyter-widgets/base",
            "overflow": null,
            "_model_module_version": "1.2.0",
            "_view_count": null,
            "flex_flow": null,
            "width": null,
            "min_width": null,
            "border": null,
            "align_items": null,
            "bottom": null,
            "_model_module": "@jupyter-widgets/base",
            "top": null,
            "grid_column": null,
            "overflow_y": null,
            "overflow_x": null,
            "grid_auto_flow": null,
            "grid_area": null,
            "grid_template_columns": null,
            "flex": null,
            "_model_name": "LayoutModel",
            "justify_items": null,
            "grid_row": null,
            "max_height": null,
            "align_content": null,
            "visibility": null,
            "align_self": null,
            "height": null,
            "min_height": null,
            "padding": null,
            "grid_auto_rows": null,
            "grid_gap": null,
            "max_width": null,
            "order": null,
            "_view_module_version": "1.2.0",
            "grid_template_areas": null,
            "object_position": null,
            "object_fit": null,
            "grid_auto_columns": null,
            "margin": null,
            "display": null,
            "left": null
          }
        },
        "3c60200cc3db46f88978c56002966bfb": {
          "model_module": "@jupyter-widgets/controls",
          "model_name": "DescriptionStyleModel",
          "state": {
            "_view_name": "StyleView",
            "_model_name": "DescriptionStyleModel",
            "description_width": "",
            "_view_module": "@jupyter-widgets/base",
            "_model_module_version": "1.5.0",
            "_view_count": null,
            "_view_module_version": "1.2.0",
            "_model_module": "@jupyter-widgets/controls"
          }
        },
        "ed43e459098344aa860edd0017777b48": {
          "model_module": "@jupyter-widgets/base",
          "model_name": "LayoutModel",
          "state": {
            "_view_name": "LayoutView",
            "grid_template_rows": null,
            "right": null,
            "justify_content": null,
            "_view_module": "@jupyter-widgets/base",
            "overflow": null,
            "_model_module_version": "1.2.0",
            "_view_count": null,
            "flex_flow": null,
            "width": null,
            "min_width": null,
            "border": null,
            "align_items": null,
            "bottom": null,
            "_model_module": "@jupyter-widgets/base",
            "top": null,
            "grid_column": null,
            "overflow_y": null,
            "overflow_x": null,
            "grid_auto_flow": null,
            "grid_area": null,
            "grid_template_columns": null,
            "flex": null,
            "_model_name": "LayoutModel",
            "justify_items": null,
            "grid_row": null,
            "max_height": null,
            "align_content": null,
            "visibility": null,
            "align_self": null,
            "height": null,
            "min_height": null,
            "padding": null,
            "grid_auto_rows": null,
            "grid_gap": null,
            "max_width": null,
            "order": null,
            "_view_module_version": "1.2.0",
            "grid_template_areas": null,
            "object_position": null,
            "object_fit": null,
            "grid_auto_columns": null,
            "margin": null,
            "display": null,
            "left": null
          }
        },
        "d6970f2261fc4f08b3e3955577c8c79c": {
          "model_module": "@jupyter-widgets/controls",
          "model_name": "HBoxModel",
          "state": {
            "_view_name": "HBoxView",
            "_dom_classes": [],
            "_model_name": "HBoxModel",
            "_view_module": "@jupyter-widgets/controls",
            "_model_module_version": "1.5.0",
            "_view_count": null,
            "_view_module_version": "1.5.0",
            "box_style": "",
            "layout": "IPY_MODEL_82936699b7f7438ebe2a516c0bc125b3",
            "_model_module": "@jupyter-widgets/controls",
            "children": [
              "IPY_MODEL_746792b5d7284cc5bd1ac3932d493d9f",
              "IPY_MODEL_8e7d5e06f2934d8996447fb7b599e55f"
            ]
          }
        },
        "82936699b7f7438ebe2a516c0bc125b3": {
          "model_module": "@jupyter-widgets/base",
          "model_name": "LayoutModel",
          "state": {
            "_view_name": "LayoutView",
            "grid_template_rows": null,
            "right": null,
            "justify_content": null,
            "_view_module": "@jupyter-widgets/base",
            "overflow": null,
            "_model_module_version": "1.2.0",
            "_view_count": null,
            "flex_flow": null,
            "width": null,
            "min_width": null,
            "border": null,
            "align_items": null,
            "bottom": null,
            "_model_module": "@jupyter-widgets/base",
            "top": null,
            "grid_column": null,
            "overflow_y": null,
            "overflow_x": null,
            "grid_auto_flow": null,
            "grid_area": null,
            "grid_template_columns": null,
            "flex": null,
            "_model_name": "LayoutModel",
            "justify_items": null,
            "grid_row": null,
            "max_height": null,
            "align_content": null,
            "visibility": null,
            "align_self": null,
            "height": null,
            "min_height": null,
            "padding": null,
            "grid_auto_rows": null,
            "grid_gap": null,
            "max_width": null,
            "order": null,
            "_view_module_version": "1.2.0",
            "grid_template_areas": null,
            "object_position": null,
            "object_fit": null,
            "grid_auto_columns": null,
            "margin": null,
            "display": null,
            "left": null
          }
        },
        "746792b5d7284cc5bd1ac3932d493d9f": {
          "model_module": "@jupyter-widgets/controls",
          "model_name": "IntProgressModel",
          "state": {
            "_view_name": "ProgressView",
            "style": "IPY_MODEL_d317e696991f4486b2349332684445b7",
            "_dom_classes": [],
            "description": "100%",
            "_model_name": "IntProgressModel",
            "bar_style": "",
            "max": 23,
            "_view_module": "@jupyter-widgets/controls",
            "_model_module_version": "1.5.0",
            "value": 23,
            "_view_count": null,
            "_view_module_version": "1.5.0",
            "orientation": "horizontal",
            "min": 0,
            "description_tooltip": null,
            "_model_module": "@jupyter-widgets/controls",
            "layout": "IPY_MODEL_2fdd958b9f924705beb7b8ae8525cf1f"
          }
        },
        "8e7d5e06f2934d8996447fb7b599e55f": {
          "model_module": "@jupyter-widgets/controls",
          "model_name": "HTMLModel",
          "state": {
            "_view_name": "HTMLView",
            "style": "IPY_MODEL_230d1a4286494811898ce2de8d9df04e",
            "_dom_classes": [],
            "description": "",
            "_model_name": "HTMLModel",
            "placeholder": "​",
            "_view_module": "@jupyter-widgets/controls",
            "_model_module_version": "1.5.0",
            "value": " 23/23 [00:37&lt;00:00,  1.41s/it]",
            "_view_count": null,
            "_view_module_version": "1.5.0",
            "description_tooltip": null,
            "_model_module": "@jupyter-widgets/controls",
            "layout": "IPY_MODEL_019b508dffec48808eb7a6b65b1184e2"
          }
        },
        "d317e696991f4486b2349332684445b7": {
          "model_module": "@jupyter-widgets/controls",
          "model_name": "ProgressStyleModel",
          "state": {
            "_view_name": "StyleView",
            "_model_name": "ProgressStyleModel",
            "description_width": "initial",
            "_view_module": "@jupyter-widgets/base",
            "_model_module_version": "1.5.0",
            "_view_count": null,
            "_view_module_version": "1.2.0",
            "bar_color": null,
            "_model_module": "@jupyter-widgets/controls"
          }
        },
        "2fdd958b9f924705beb7b8ae8525cf1f": {
          "model_module": "@jupyter-widgets/base",
          "model_name": "LayoutModel",
          "state": {
            "_view_name": "LayoutView",
            "grid_template_rows": null,
            "right": null,
            "justify_content": null,
            "_view_module": "@jupyter-widgets/base",
            "overflow": null,
            "_model_module_version": "1.2.0",
            "_view_count": null,
            "flex_flow": null,
            "width": null,
            "min_width": null,
            "border": null,
            "align_items": null,
            "bottom": null,
            "_model_module": "@jupyter-widgets/base",
            "top": null,
            "grid_column": null,
            "overflow_y": null,
            "overflow_x": null,
            "grid_auto_flow": null,
            "grid_area": null,
            "grid_template_columns": null,
            "flex": null,
            "_model_name": "LayoutModel",
            "justify_items": null,
            "grid_row": null,
            "max_height": null,
            "align_content": null,
            "visibility": null,
            "align_self": null,
            "height": null,
            "min_height": null,
            "padding": null,
            "grid_auto_rows": null,
            "grid_gap": null,
            "max_width": null,
            "order": null,
            "_view_module_version": "1.2.0",
            "grid_template_areas": null,
            "object_position": null,
            "object_fit": null,
            "grid_auto_columns": null,
            "margin": null,
            "display": null,
            "left": null
          }
        },
        "230d1a4286494811898ce2de8d9df04e": {
          "model_module": "@jupyter-widgets/controls",
          "model_name": "DescriptionStyleModel",
          "state": {
            "_view_name": "StyleView",
            "_model_name": "DescriptionStyleModel",
            "description_width": "",
            "_view_module": "@jupyter-widgets/base",
            "_model_module_version": "1.5.0",
            "_view_count": null,
            "_view_module_version": "1.2.0",
            "_model_module": "@jupyter-widgets/controls"
          }
        },
        "019b508dffec48808eb7a6b65b1184e2": {
          "model_module": "@jupyter-widgets/base",
          "model_name": "LayoutModel",
          "state": {
            "_view_name": "LayoutView",
            "grid_template_rows": null,
            "right": null,
            "justify_content": null,
            "_view_module": "@jupyter-widgets/base",
            "overflow": null,
            "_model_module_version": "1.2.0",
            "_view_count": null,
            "flex_flow": null,
            "width": null,
            "min_width": null,
            "border": null,
            "align_items": null,
            "bottom": null,
            "_model_module": "@jupyter-widgets/base",
            "top": null,
            "grid_column": null,
            "overflow_y": null,
            "overflow_x": null,
            "grid_auto_flow": null,
            "grid_area": null,
            "grid_template_columns": null,
            "flex": null,
            "_model_name": "LayoutModel",
            "justify_items": null,
            "grid_row": null,
            "max_height": null,
            "align_content": null,
            "visibility": null,
            "align_self": null,
            "height": null,
            "min_height": null,
            "padding": null,
            "grid_auto_rows": null,
            "grid_gap": null,
            "max_width": null,
            "order": null,
            "_view_module_version": "1.2.0",
            "grid_template_areas": null,
            "object_position": null,
            "object_fit": null,
            "grid_auto_columns": null,
            "margin": null,
            "display": null,
            "left": null
          }
        },
        "84a9c4b29d6e4467935282f619109450": {
          "model_module": "@jupyter-widgets/controls",
          "model_name": "HBoxModel",
          "state": {
            "_view_name": "HBoxView",
            "_dom_classes": [],
            "_model_name": "HBoxModel",
            "_view_module": "@jupyter-widgets/controls",
            "_model_module_version": "1.5.0",
            "_view_count": null,
            "_view_module_version": "1.5.0",
            "box_style": "",
            "layout": "IPY_MODEL_572135b401df4a7bacc93a3d6c7e22b5",
            "_model_module": "@jupyter-widgets/controls",
            "children": [
              "IPY_MODEL_afe9657f18b84d18b254cb22e33706a6",
              "IPY_MODEL_f5686bf0c03c4c2dac65c387f4847603"
            ]
          }
        },
        "572135b401df4a7bacc93a3d6c7e22b5": {
          "model_module": "@jupyter-widgets/base",
          "model_name": "LayoutModel",
          "state": {
            "_view_name": "LayoutView",
            "grid_template_rows": null,
            "right": null,
            "justify_content": null,
            "_view_module": "@jupyter-widgets/base",
            "overflow": null,
            "_model_module_version": "1.2.0",
            "_view_count": null,
            "flex_flow": null,
            "width": null,
            "min_width": null,
            "border": null,
            "align_items": null,
            "bottom": null,
            "_model_module": "@jupyter-widgets/base",
            "top": null,
            "grid_column": null,
            "overflow_y": null,
            "overflow_x": null,
            "grid_auto_flow": null,
            "grid_area": null,
            "grid_template_columns": null,
            "flex": null,
            "_model_name": "LayoutModel",
            "justify_items": null,
            "grid_row": null,
            "max_height": null,
            "align_content": null,
            "visibility": null,
            "align_self": null,
            "height": null,
            "min_height": null,
            "padding": null,
            "grid_auto_rows": null,
            "grid_gap": null,
            "max_width": null,
            "order": null,
            "_view_module_version": "1.2.0",
            "grid_template_areas": null,
            "object_position": null,
            "object_fit": null,
            "grid_auto_columns": null,
            "margin": null,
            "display": null,
            "left": null
          }
        },
        "afe9657f18b84d18b254cb22e33706a6": {
          "model_module": "@jupyter-widgets/controls",
          "model_name": "IntProgressModel",
          "state": {
            "_view_name": "ProgressView",
            "style": "IPY_MODEL_93cd5182b5f343daa77cc6a6573a0131",
            "_dom_classes": [],
            "description": "100%",
            "_model_name": "IntProgressModel",
            "bar_style": "",
            "max": 23,
            "_view_module": "@jupyter-widgets/controls",
            "_model_module_version": "1.5.0",
            "value": 23,
            "_view_count": null,
            "_view_module_version": "1.5.0",
            "orientation": "horizontal",
            "min": 0,
            "description_tooltip": null,
            "_model_module": "@jupyter-widgets/controls",
            "layout": "IPY_MODEL_d46f9e22468f458e81c1f93d5a4e749a"
          }
        },
        "f5686bf0c03c4c2dac65c387f4847603": {
          "model_module": "@jupyter-widgets/controls",
          "model_name": "HTMLModel",
          "state": {
            "_view_name": "HTMLView",
            "style": "IPY_MODEL_565b7e918ea9432eb262e661c1ca60aa",
            "_dom_classes": [],
            "description": "",
            "_model_name": "HTMLModel",
            "placeholder": "​",
            "_view_module": "@jupyter-widgets/controls",
            "_model_module_version": "1.5.0",
            "value": " 23/23 [00:36&lt;00:00,  1.24s/it]",
            "_view_count": null,
            "_view_module_version": "1.5.0",
            "description_tooltip": null,
            "_model_module": "@jupyter-widgets/controls",
            "layout": "IPY_MODEL_6646d44a09c545d8a9cc151c17ba79ef"
          }
        },
        "93cd5182b5f343daa77cc6a6573a0131": {
          "model_module": "@jupyter-widgets/controls",
          "model_name": "ProgressStyleModel",
          "state": {
            "_view_name": "StyleView",
            "_model_name": "ProgressStyleModel",
            "description_width": "initial",
            "_view_module": "@jupyter-widgets/base",
            "_model_module_version": "1.5.0",
            "_view_count": null,
            "_view_module_version": "1.2.0",
            "bar_color": null,
            "_model_module": "@jupyter-widgets/controls"
          }
        },
        "d46f9e22468f458e81c1f93d5a4e749a": {
          "model_module": "@jupyter-widgets/base",
          "model_name": "LayoutModel",
          "state": {
            "_view_name": "LayoutView",
            "grid_template_rows": null,
            "right": null,
            "justify_content": null,
            "_view_module": "@jupyter-widgets/base",
            "overflow": null,
            "_model_module_version": "1.2.0",
            "_view_count": null,
            "flex_flow": null,
            "width": null,
            "min_width": null,
            "border": null,
            "align_items": null,
            "bottom": null,
            "_model_module": "@jupyter-widgets/base",
            "top": null,
            "grid_column": null,
            "overflow_y": null,
            "overflow_x": null,
            "grid_auto_flow": null,
            "grid_area": null,
            "grid_template_columns": null,
            "flex": null,
            "_model_name": "LayoutModel",
            "justify_items": null,
            "grid_row": null,
            "max_height": null,
            "align_content": null,
            "visibility": null,
            "align_self": null,
            "height": null,
            "min_height": null,
            "padding": null,
            "grid_auto_rows": null,
            "grid_gap": null,
            "max_width": null,
            "order": null,
            "_view_module_version": "1.2.0",
            "grid_template_areas": null,
            "object_position": null,
            "object_fit": null,
            "grid_auto_columns": null,
            "margin": null,
            "display": null,
            "left": null
          }
        },
        "565b7e918ea9432eb262e661c1ca60aa": {
          "model_module": "@jupyter-widgets/controls",
          "model_name": "DescriptionStyleModel",
          "state": {
            "_view_name": "StyleView",
            "_model_name": "DescriptionStyleModel",
            "description_width": "",
            "_view_module": "@jupyter-widgets/base",
            "_model_module_version": "1.5.0",
            "_view_count": null,
            "_view_module_version": "1.2.0",
            "_model_module": "@jupyter-widgets/controls"
          }
        },
        "6646d44a09c545d8a9cc151c17ba79ef": {
          "model_module": "@jupyter-widgets/base",
          "model_name": "LayoutModel",
          "state": {
            "_view_name": "LayoutView",
            "grid_template_rows": null,
            "right": null,
            "justify_content": null,
            "_view_module": "@jupyter-widgets/base",
            "overflow": null,
            "_model_module_version": "1.2.0",
            "_view_count": null,
            "flex_flow": null,
            "width": null,
            "min_width": null,
            "border": null,
            "align_items": null,
            "bottom": null,
            "_model_module": "@jupyter-widgets/base",
            "top": null,
            "grid_column": null,
            "overflow_y": null,
            "overflow_x": null,
            "grid_auto_flow": null,
            "grid_area": null,
            "grid_template_columns": null,
            "flex": null,
            "_model_name": "LayoutModel",
            "justify_items": null,
            "grid_row": null,
            "max_height": null,
            "align_content": null,
            "visibility": null,
            "align_self": null,
            "height": null,
            "min_height": null,
            "padding": null,
            "grid_auto_rows": null,
            "grid_gap": null,
            "max_width": null,
            "order": null,
            "_view_module_version": "1.2.0",
            "grid_template_areas": null,
            "object_position": null,
            "object_fit": null,
            "grid_auto_columns": null,
            "margin": null,
            "display": null,
            "left": null
          }
        },
        "3faac6bf8b9c44af8e0fe4ae4275d43b": {
          "model_module": "@jupyter-widgets/controls",
          "model_name": "HBoxModel",
          "state": {
            "_view_name": "HBoxView",
            "_dom_classes": [],
            "_model_name": "HBoxModel",
            "_view_module": "@jupyter-widgets/controls",
            "_model_module_version": "1.5.0",
            "_view_count": null,
            "_view_module_version": "1.5.0",
            "box_style": "",
            "layout": "IPY_MODEL_9b68ca1ba57749aea54bdc536de2c55a",
            "_model_module": "@jupyter-widgets/controls",
            "children": [
              "IPY_MODEL_4e2c3afece644c15b55a6c807be315d8",
              "IPY_MODEL_cbd8ccf23b6f49b4857250ea7a215bd6"
            ]
          }
        },
        "9b68ca1ba57749aea54bdc536de2c55a": {
          "model_module": "@jupyter-widgets/base",
          "model_name": "LayoutModel",
          "state": {
            "_view_name": "LayoutView",
            "grid_template_rows": null,
            "right": null,
            "justify_content": null,
            "_view_module": "@jupyter-widgets/base",
            "overflow": null,
            "_model_module_version": "1.2.0",
            "_view_count": null,
            "flex_flow": null,
            "width": null,
            "min_width": null,
            "border": null,
            "align_items": null,
            "bottom": null,
            "_model_module": "@jupyter-widgets/base",
            "top": null,
            "grid_column": null,
            "overflow_y": null,
            "overflow_x": null,
            "grid_auto_flow": null,
            "grid_area": null,
            "grid_template_columns": null,
            "flex": null,
            "_model_name": "LayoutModel",
            "justify_items": null,
            "grid_row": null,
            "max_height": null,
            "align_content": null,
            "visibility": null,
            "align_self": null,
            "height": null,
            "min_height": null,
            "padding": null,
            "grid_auto_rows": null,
            "grid_gap": null,
            "max_width": null,
            "order": null,
            "_view_module_version": "1.2.0",
            "grid_template_areas": null,
            "object_position": null,
            "object_fit": null,
            "grid_auto_columns": null,
            "margin": null,
            "display": null,
            "left": null
          }
        },
        "4e2c3afece644c15b55a6c807be315d8": {
          "model_module": "@jupyter-widgets/controls",
          "model_name": "IntProgressModel",
          "state": {
            "_view_name": "ProgressView",
            "style": "IPY_MODEL_dd4b91cbc76f448ab2861e258dc20c71",
            "_dom_classes": [],
            "description": "100%",
            "_model_name": "IntProgressModel",
            "bar_style": "",
            "max": 23,
            "_view_module": "@jupyter-widgets/controls",
            "_model_module_version": "1.5.0",
            "value": 23,
            "_view_count": null,
            "_view_module_version": "1.5.0",
            "orientation": "horizontal",
            "min": 0,
            "description_tooltip": null,
            "_model_module": "@jupyter-widgets/controls",
            "layout": "IPY_MODEL_1395503249c74db2afe5e02ed1aea463"
          }
        },
        "cbd8ccf23b6f49b4857250ea7a215bd6": {
          "model_module": "@jupyter-widgets/controls",
          "model_name": "HTMLModel",
          "state": {
            "_view_name": "HTMLView",
            "style": "IPY_MODEL_a5bc1dbd23d5462e9422e6adb7356d46",
            "_dom_classes": [],
            "description": "",
            "_model_name": "HTMLModel",
            "placeholder": "​",
            "_view_module": "@jupyter-widgets/controls",
            "_model_module_version": "1.5.0",
            "value": " 23/23 [00:35&lt;00:00,  1.42s/it]",
            "_view_count": null,
            "_view_module_version": "1.5.0",
            "description_tooltip": null,
            "_model_module": "@jupyter-widgets/controls",
            "layout": "IPY_MODEL_83244b28a1c446aebeb65ab3c5267fb4"
          }
        },
        "dd4b91cbc76f448ab2861e258dc20c71": {
          "model_module": "@jupyter-widgets/controls",
          "model_name": "ProgressStyleModel",
          "state": {
            "_view_name": "StyleView",
            "_model_name": "ProgressStyleModel",
            "description_width": "initial",
            "_view_module": "@jupyter-widgets/base",
            "_model_module_version": "1.5.0",
            "_view_count": null,
            "_view_module_version": "1.2.0",
            "bar_color": null,
            "_model_module": "@jupyter-widgets/controls"
          }
        },
        "1395503249c74db2afe5e02ed1aea463": {
          "model_module": "@jupyter-widgets/base",
          "model_name": "LayoutModel",
          "state": {
            "_view_name": "LayoutView",
            "grid_template_rows": null,
            "right": null,
            "justify_content": null,
            "_view_module": "@jupyter-widgets/base",
            "overflow": null,
            "_model_module_version": "1.2.0",
            "_view_count": null,
            "flex_flow": null,
            "width": null,
            "min_width": null,
            "border": null,
            "align_items": null,
            "bottom": null,
            "_model_module": "@jupyter-widgets/base",
            "top": null,
            "grid_column": null,
            "overflow_y": null,
            "overflow_x": null,
            "grid_auto_flow": null,
            "grid_area": null,
            "grid_template_columns": null,
            "flex": null,
            "_model_name": "LayoutModel",
            "justify_items": null,
            "grid_row": null,
            "max_height": null,
            "align_content": null,
            "visibility": null,
            "align_self": null,
            "height": null,
            "min_height": null,
            "padding": null,
            "grid_auto_rows": null,
            "grid_gap": null,
            "max_width": null,
            "order": null,
            "_view_module_version": "1.2.0",
            "grid_template_areas": null,
            "object_position": null,
            "object_fit": null,
            "grid_auto_columns": null,
            "margin": null,
            "display": null,
            "left": null
          }
        },
        "a5bc1dbd23d5462e9422e6adb7356d46": {
          "model_module": "@jupyter-widgets/controls",
          "model_name": "DescriptionStyleModel",
          "state": {
            "_view_name": "StyleView",
            "_model_name": "DescriptionStyleModel",
            "description_width": "",
            "_view_module": "@jupyter-widgets/base",
            "_model_module_version": "1.5.0",
            "_view_count": null,
            "_view_module_version": "1.2.0",
            "_model_module": "@jupyter-widgets/controls"
          }
        },
        "83244b28a1c446aebeb65ab3c5267fb4": {
          "model_module": "@jupyter-widgets/base",
          "model_name": "LayoutModel",
          "state": {
            "_view_name": "LayoutView",
            "grid_template_rows": null,
            "right": null,
            "justify_content": null,
            "_view_module": "@jupyter-widgets/base",
            "overflow": null,
            "_model_module_version": "1.2.0",
            "_view_count": null,
            "flex_flow": null,
            "width": null,
            "min_width": null,
            "border": null,
            "align_items": null,
            "bottom": null,
            "_model_module": "@jupyter-widgets/base",
            "top": null,
            "grid_column": null,
            "overflow_y": null,
            "overflow_x": null,
            "grid_auto_flow": null,
            "grid_area": null,
            "grid_template_columns": null,
            "flex": null,
            "_model_name": "LayoutModel",
            "justify_items": null,
            "grid_row": null,
            "max_height": null,
            "align_content": null,
            "visibility": null,
            "align_self": null,
            "height": null,
            "min_height": null,
            "padding": null,
            "grid_auto_rows": null,
            "grid_gap": null,
            "max_width": null,
            "order": null,
            "_view_module_version": "1.2.0",
            "grid_template_areas": null,
            "object_position": null,
            "object_fit": null,
            "grid_auto_columns": null,
            "margin": null,
            "display": null,
            "left": null
          }
        },
        "5126171eb6874b6f97962f7dd4fcd3c2": {
          "model_module": "@jupyter-widgets/controls",
          "model_name": "HBoxModel",
          "state": {
            "_view_name": "HBoxView",
            "_dom_classes": [],
            "_model_name": "HBoxModel",
            "_view_module": "@jupyter-widgets/controls",
            "_model_module_version": "1.5.0",
            "_view_count": null,
            "_view_module_version": "1.5.0",
            "box_style": "",
            "layout": "IPY_MODEL_d7aeaff04e17427d9292a1ea287d495e",
            "_model_module": "@jupyter-widgets/controls",
            "children": [
              "IPY_MODEL_f752da6897e441a68a0b6c32066ccff6",
              "IPY_MODEL_1ed7f3e9e223424eacd40dbacbd6066b"
            ]
          }
        },
        "d7aeaff04e17427d9292a1ea287d495e": {
          "model_module": "@jupyter-widgets/base",
          "model_name": "LayoutModel",
          "state": {
            "_view_name": "LayoutView",
            "grid_template_rows": null,
            "right": null,
            "justify_content": null,
            "_view_module": "@jupyter-widgets/base",
            "overflow": null,
            "_model_module_version": "1.2.0",
            "_view_count": null,
            "flex_flow": null,
            "width": null,
            "min_width": null,
            "border": null,
            "align_items": null,
            "bottom": null,
            "_model_module": "@jupyter-widgets/base",
            "top": null,
            "grid_column": null,
            "overflow_y": null,
            "overflow_x": null,
            "grid_auto_flow": null,
            "grid_area": null,
            "grid_template_columns": null,
            "flex": null,
            "_model_name": "LayoutModel",
            "justify_items": null,
            "grid_row": null,
            "max_height": null,
            "align_content": null,
            "visibility": null,
            "align_self": null,
            "height": null,
            "min_height": null,
            "padding": null,
            "grid_auto_rows": null,
            "grid_gap": null,
            "max_width": null,
            "order": null,
            "_view_module_version": "1.2.0",
            "grid_template_areas": null,
            "object_position": null,
            "object_fit": null,
            "grid_auto_columns": null,
            "margin": null,
            "display": null,
            "left": null
          }
        },
        "f752da6897e441a68a0b6c32066ccff6": {
          "model_module": "@jupyter-widgets/controls",
          "model_name": "IntProgressModel",
          "state": {
            "_view_name": "ProgressView",
            "style": "IPY_MODEL_96135975441c4facae07e40b5465cec9",
            "_dom_classes": [],
            "description": "100%",
            "_model_name": "IntProgressModel",
            "bar_style": "",
            "max": 23,
            "_view_module": "@jupyter-widgets/controls",
            "_model_module_version": "1.5.0",
            "value": 23,
            "_view_count": null,
            "_view_module_version": "1.5.0",
            "orientation": "horizontal",
            "min": 0,
            "description_tooltip": null,
            "_model_module": "@jupyter-widgets/controls",
            "layout": "IPY_MODEL_80a7b39958b548eebc3555150bbd429e"
          }
        },
        "1ed7f3e9e223424eacd40dbacbd6066b": {
          "model_module": "@jupyter-widgets/controls",
          "model_name": "HTMLModel",
          "state": {
            "_view_name": "HTMLView",
            "style": "IPY_MODEL_c518f95a1eb24efeb232a2badd4da8dc",
            "_dom_classes": [],
            "description": "",
            "_model_name": "HTMLModel",
            "placeholder": "​",
            "_view_module": "@jupyter-widgets/controls",
            "_model_module_version": "1.5.0",
            "value": " 23/23 [00:36&lt;00:00,  1.41s/it]",
            "_view_count": null,
            "_view_module_version": "1.5.0",
            "description_tooltip": null,
            "_model_module": "@jupyter-widgets/controls",
            "layout": "IPY_MODEL_5569077502cc46ee81193486343a92a1"
          }
        },
        "96135975441c4facae07e40b5465cec9": {
          "model_module": "@jupyter-widgets/controls",
          "model_name": "ProgressStyleModel",
          "state": {
            "_view_name": "StyleView",
            "_model_name": "ProgressStyleModel",
            "description_width": "initial",
            "_view_module": "@jupyter-widgets/base",
            "_model_module_version": "1.5.0",
            "_view_count": null,
            "_view_module_version": "1.2.0",
            "bar_color": null,
            "_model_module": "@jupyter-widgets/controls"
          }
        },
        "80a7b39958b548eebc3555150bbd429e": {
          "model_module": "@jupyter-widgets/base",
          "model_name": "LayoutModel",
          "state": {
            "_view_name": "LayoutView",
            "grid_template_rows": null,
            "right": null,
            "justify_content": null,
            "_view_module": "@jupyter-widgets/base",
            "overflow": null,
            "_model_module_version": "1.2.0",
            "_view_count": null,
            "flex_flow": null,
            "width": null,
            "min_width": null,
            "border": null,
            "align_items": null,
            "bottom": null,
            "_model_module": "@jupyter-widgets/base",
            "top": null,
            "grid_column": null,
            "overflow_y": null,
            "overflow_x": null,
            "grid_auto_flow": null,
            "grid_area": null,
            "grid_template_columns": null,
            "flex": null,
            "_model_name": "LayoutModel",
            "justify_items": null,
            "grid_row": null,
            "max_height": null,
            "align_content": null,
            "visibility": null,
            "align_self": null,
            "height": null,
            "min_height": null,
            "padding": null,
            "grid_auto_rows": null,
            "grid_gap": null,
            "max_width": null,
            "order": null,
            "_view_module_version": "1.2.0",
            "grid_template_areas": null,
            "object_position": null,
            "object_fit": null,
            "grid_auto_columns": null,
            "margin": null,
            "display": null,
            "left": null
          }
        },
        "c518f95a1eb24efeb232a2badd4da8dc": {
          "model_module": "@jupyter-widgets/controls",
          "model_name": "DescriptionStyleModel",
          "state": {
            "_view_name": "StyleView",
            "_model_name": "DescriptionStyleModel",
            "description_width": "",
            "_view_module": "@jupyter-widgets/base",
            "_model_module_version": "1.5.0",
            "_view_count": null,
            "_view_module_version": "1.2.0",
            "_model_module": "@jupyter-widgets/controls"
          }
        },
        "5569077502cc46ee81193486343a92a1": {
          "model_module": "@jupyter-widgets/base",
          "model_name": "LayoutModel",
          "state": {
            "_view_name": "LayoutView",
            "grid_template_rows": null,
            "right": null,
            "justify_content": null,
            "_view_module": "@jupyter-widgets/base",
            "overflow": null,
            "_model_module_version": "1.2.0",
            "_view_count": null,
            "flex_flow": null,
            "width": null,
            "min_width": null,
            "border": null,
            "align_items": null,
            "bottom": null,
            "_model_module": "@jupyter-widgets/base",
            "top": null,
            "grid_column": null,
            "overflow_y": null,
            "overflow_x": null,
            "grid_auto_flow": null,
            "grid_area": null,
            "grid_template_columns": null,
            "flex": null,
            "_model_name": "LayoutModel",
            "justify_items": null,
            "grid_row": null,
            "max_height": null,
            "align_content": null,
            "visibility": null,
            "align_self": null,
            "height": null,
            "min_height": null,
            "padding": null,
            "grid_auto_rows": null,
            "grid_gap": null,
            "max_width": null,
            "order": null,
            "_view_module_version": "1.2.0",
            "grid_template_areas": null,
            "object_position": null,
            "object_fit": null,
            "grid_auto_columns": null,
            "margin": null,
            "display": null,
            "left": null
          }
        },
        "453bc51035d143f3b4650e7e8684e92c": {
          "model_module": "@jupyter-widgets/controls",
          "model_name": "HBoxModel",
          "state": {
            "_view_name": "HBoxView",
            "_dom_classes": [],
            "_model_name": "HBoxModel",
            "_view_module": "@jupyter-widgets/controls",
            "_model_module_version": "1.5.0",
            "_view_count": null,
            "_view_module_version": "1.5.0",
            "box_style": "",
            "layout": "IPY_MODEL_b7d2139988b24ec1a049ddf453bcd211",
            "_model_module": "@jupyter-widgets/controls",
            "children": [
              "IPY_MODEL_4e40c9316bc84408b58835e5902bc174",
              "IPY_MODEL_1b72d09f20054d60b082a34323f7be1f"
            ]
          }
        },
        "b7d2139988b24ec1a049ddf453bcd211": {
          "model_module": "@jupyter-widgets/base",
          "model_name": "LayoutModel",
          "state": {
            "_view_name": "LayoutView",
            "grid_template_rows": null,
            "right": null,
            "justify_content": null,
            "_view_module": "@jupyter-widgets/base",
            "overflow": null,
            "_model_module_version": "1.2.0",
            "_view_count": null,
            "flex_flow": null,
            "width": null,
            "min_width": null,
            "border": null,
            "align_items": null,
            "bottom": null,
            "_model_module": "@jupyter-widgets/base",
            "top": null,
            "grid_column": null,
            "overflow_y": null,
            "overflow_x": null,
            "grid_auto_flow": null,
            "grid_area": null,
            "grid_template_columns": null,
            "flex": null,
            "_model_name": "LayoutModel",
            "justify_items": null,
            "grid_row": null,
            "max_height": null,
            "align_content": null,
            "visibility": null,
            "align_self": null,
            "height": null,
            "min_height": null,
            "padding": null,
            "grid_auto_rows": null,
            "grid_gap": null,
            "max_width": null,
            "order": null,
            "_view_module_version": "1.2.0",
            "grid_template_areas": null,
            "object_position": null,
            "object_fit": null,
            "grid_auto_columns": null,
            "margin": null,
            "display": null,
            "left": null
          }
        },
        "4e40c9316bc84408b58835e5902bc174": {
          "model_module": "@jupyter-widgets/controls",
          "model_name": "IntProgressModel",
          "state": {
            "_view_name": "ProgressView",
            "style": "IPY_MODEL_bf2017fb378246b8b8daffa8ddf4f6af",
            "_dom_classes": [],
            "description": "100%",
            "_model_name": "IntProgressModel",
            "bar_style": "",
            "max": 23,
            "_view_module": "@jupyter-widgets/controls",
            "_model_module_version": "1.5.0",
            "value": 23,
            "_view_count": null,
            "_view_module_version": "1.5.0",
            "orientation": "horizontal",
            "min": 0,
            "description_tooltip": null,
            "_model_module": "@jupyter-widgets/controls",
            "layout": "IPY_MODEL_d411848170604c95965bd8953d04864b"
          }
        },
        "1b72d09f20054d60b082a34323f7be1f": {
          "model_module": "@jupyter-widgets/controls",
          "model_name": "HTMLModel",
          "state": {
            "_view_name": "HTMLView",
            "style": "IPY_MODEL_713865d2ba02472b9296de11aa5d24cf",
            "_dom_classes": [],
            "description": "",
            "_model_name": "HTMLModel",
            "placeholder": "​",
            "_view_module": "@jupyter-widgets/controls",
            "_model_module_version": "1.5.0",
            "value": " 23/23 [00:36&lt;00:00,  1.32s/it]",
            "_view_count": null,
            "_view_module_version": "1.5.0",
            "description_tooltip": null,
            "_model_module": "@jupyter-widgets/controls",
            "layout": "IPY_MODEL_fc3f50806263487fba2f057a61a108dc"
          }
        },
        "bf2017fb378246b8b8daffa8ddf4f6af": {
          "model_module": "@jupyter-widgets/controls",
          "model_name": "ProgressStyleModel",
          "state": {
            "_view_name": "StyleView",
            "_model_name": "ProgressStyleModel",
            "description_width": "initial",
            "_view_module": "@jupyter-widgets/base",
            "_model_module_version": "1.5.0",
            "_view_count": null,
            "_view_module_version": "1.2.0",
            "bar_color": null,
            "_model_module": "@jupyter-widgets/controls"
          }
        },
        "d411848170604c95965bd8953d04864b": {
          "model_module": "@jupyter-widgets/base",
          "model_name": "LayoutModel",
          "state": {
            "_view_name": "LayoutView",
            "grid_template_rows": null,
            "right": null,
            "justify_content": null,
            "_view_module": "@jupyter-widgets/base",
            "overflow": null,
            "_model_module_version": "1.2.0",
            "_view_count": null,
            "flex_flow": null,
            "width": null,
            "min_width": null,
            "border": null,
            "align_items": null,
            "bottom": null,
            "_model_module": "@jupyter-widgets/base",
            "top": null,
            "grid_column": null,
            "overflow_y": null,
            "overflow_x": null,
            "grid_auto_flow": null,
            "grid_area": null,
            "grid_template_columns": null,
            "flex": null,
            "_model_name": "LayoutModel",
            "justify_items": null,
            "grid_row": null,
            "max_height": null,
            "align_content": null,
            "visibility": null,
            "align_self": null,
            "height": null,
            "min_height": null,
            "padding": null,
            "grid_auto_rows": null,
            "grid_gap": null,
            "max_width": null,
            "order": null,
            "_view_module_version": "1.2.0",
            "grid_template_areas": null,
            "object_position": null,
            "object_fit": null,
            "grid_auto_columns": null,
            "margin": null,
            "display": null,
            "left": null
          }
        },
        "713865d2ba02472b9296de11aa5d24cf": {
          "model_module": "@jupyter-widgets/controls",
          "model_name": "DescriptionStyleModel",
          "state": {
            "_view_name": "StyleView",
            "_model_name": "DescriptionStyleModel",
            "description_width": "",
            "_view_module": "@jupyter-widgets/base",
            "_model_module_version": "1.5.0",
            "_view_count": null,
            "_view_module_version": "1.2.0",
            "_model_module": "@jupyter-widgets/controls"
          }
        },
        "fc3f50806263487fba2f057a61a108dc": {
          "model_module": "@jupyter-widgets/base",
          "model_name": "LayoutModel",
          "state": {
            "_view_name": "LayoutView",
            "grid_template_rows": null,
            "right": null,
            "justify_content": null,
            "_view_module": "@jupyter-widgets/base",
            "overflow": null,
            "_model_module_version": "1.2.0",
            "_view_count": null,
            "flex_flow": null,
            "width": null,
            "min_width": null,
            "border": null,
            "align_items": null,
            "bottom": null,
            "_model_module": "@jupyter-widgets/base",
            "top": null,
            "grid_column": null,
            "overflow_y": null,
            "overflow_x": null,
            "grid_auto_flow": null,
            "grid_area": null,
            "grid_template_columns": null,
            "flex": null,
            "_model_name": "LayoutModel",
            "justify_items": null,
            "grid_row": null,
            "max_height": null,
            "align_content": null,
            "visibility": null,
            "align_self": null,
            "height": null,
            "min_height": null,
            "padding": null,
            "grid_auto_rows": null,
            "grid_gap": null,
            "max_width": null,
            "order": null,
            "_view_module_version": "1.2.0",
            "grid_template_areas": null,
            "object_position": null,
            "object_fit": null,
            "grid_auto_columns": null,
            "margin": null,
            "display": null,
            "left": null
          }
        },
        "22463f81d9a64a95aff4840a4be0ced7": {
          "model_module": "@jupyter-widgets/controls",
          "model_name": "HBoxModel",
          "state": {
            "_view_name": "HBoxView",
            "_dom_classes": [],
            "_model_name": "HBoxModel",
            "_view_module": "@jupyter-widgets/controls",
            "_model_module_version": "1.5.0",
            "_view_count": null,
            "_view_module_version": "1.5.0",
            "box_style": "",
            "layout": "IPY_MODEL_b845789ac3c44744a0e253305aad7fce",
            "_model_module": "@jupyter-widgets/controls",
            "children": [
              "IPY_MODEL_7c6e3e4e81ef4e2ca1a4a8fb9b096a3a",
              "IPY_MODEL_e713993cc10d4f90bb88cd96c5ea877d"
            ]
          }
        },
        "b845789ac3c44744a0e253305aad7fce": {
          "model_module": "@jupyter-widgets/base",
          "model_name": "LayoutModel",
          "state": {
            "_view_name": "LayoutView",
            "grid_template_rows": null,
            "right": null,
            "justify_content": null,
            "_view_module": "@jupyter-widgets/base",
            "overflow": null,
            "_model_module_version": "1.2.0",
            "_view_count": null,
            "flex_flow": null,
            "width": null,
            "min_width": null,
            "border": null,
            "align_items": null,
            "bottom": null,
            "_model_module": "@jupyter-widgets/base",
            "top": null,
            "grid_column": null,
            "overflow_y": null,
            "overflow_x": null,
            "grid_auto_flow": null,
            "grid_area": null,
            "grid_template_columns": null,
            "flex": null,
            "_model_name": "LayoutModel",
            "justify_items": null,
            "grid_row": null,
            "max_height": null,
            "align_content": null,
            "visibility": null,
            "align_self": null,
            "height": null,
            "min_height": null,
            "padding": null,
            "grid_auto_rows": null,
            "grid_gap": null,
            "max_width": null,
            "order": null,
            "_view_module_version": "1.2.0",
            "grid_template_areas": null,
            "object_position": null,
            "object_fit": null,
            "grid_auto_columns": null,
            "margin": null,
            "display": null,
            "left": null
          }
        },
        "7c6e3e4e81ef4e2ca1a4a8fb9b096a3a": {
          "model_module": "@jupyter-widgets/controls",
          "model_name": "IntProgressModel",
          "state": {
            "_view_name": "ProgressView",
            "style": "IPY_MODEL_bd8f7522d60049ac984ecd94bf2c1750",
            "_dom_classes": [],
            "description": "100%",
            "_model_name": "IntProgressModel",
            "bar_style": "",
            "max": 23,
            "_view_module": "@jupyter-widgets/controls",
            "_model_module_version": "1.5.0",
            "value": 23,
            "_view_count": null,
            "_view_module_version": "1.5.0",
            "orientation": "horizontal",
            "min": 0,
            "description_tooltip": null,
            "_model_module": "@jupyter-widgets/controls",
            "layout": "IPY_MODEL_bcfd9a24fa864b5189eb7af56e303623"
          }
        },
        "e713993cc10d4f90bb88cd96c5ea877d": {
          "model_module": "@jupyter-widgets/controls",
          "model_name": "HTMLModel",
          "state": {
            "_view_name": "HTMLView",
            "style": "IPY_MODEL_f1391a2fa8d0455781d10aa40037d65e",
            "_dom_classes": [],
            "description": "",
            "_model_name": "HTMLModel",
            "placeholder": "​",
            "_view_module": "@jupyter-widgets/controls",
            "_model_module_version": "1.5.0",
            "value": " 23/23 [00:36&lt;00:00,  1.33s/it]",
            "_view_count": null,
            "_view_module_version": "1.5.0",
            "description_tooltip": null,
            "_model_module": "@jupyter-widgets/controls",
            "layout": "IPY_MODEL_debec44a0a9f47b1a3fab6c6cecb15d4"
          }
        },
        "bd8f7522d60049ac984ecd94bf2c1750": {
          "model_module": "@jupyter-widgets/controls",
          "model_name": "ProgressStyleModel",
          "state": {
            "_view_name": "StyleView",
            "_model_name": "ProgressStyleModel",
            "description_width": "initial",
            "_view_module": "@jupyter-widgets/base",
            "_model_module_version": "1.5.0",
            "_view_count": null,
            "_view_module_version": "1.2.0",
            "bar_color": null,
            "_model_module": "@jupyter-widgets/controls"
          }
        },
        "bcfd9a24fa864b5189eb7af56e303623": {
          "model_module": "@jupyter-widgets/base",
          "model_name": "LayoutModel",
          "state": {
            "_view_name": "LayoutView",
            "grid_template_rows": null,
            "right": null,
            "justify_content": null,
            "_view_module": "@jupyter-widgets/base",
            "overflow": null,
            "_model_module_version": "1.2.0",
            "_view_count": null,
            "flex_flow": null,
            "width": null,
            "min_width": null,
            "border": null,
            "align_items": null,
            "bottom": null,
            "_model_module": "@jupyter-widgets/base",
            "top": null,
            "grid_column": null,
            "overflow_y": null,
            "overflow_x": null,
            "grid_auto_flow": null,
            "grid_area": null,
            "grid_template_columns": null,
            "flex": null,
            "_model_name": "LayoutModel",
            "justify_items": null,
            "grid_row": null,
            "max_height": null,
            "align_content": null,
            "visibility": null,
            "align_self": null,
            "height": null,
            "min_height": null,
            "padding": null,
            "grid_auto_rows": null,
            "grid_gap": null,
            "max_width": null,
            "order": null,
            "_view_module_version": "1.2.0",
            "grid_template_areas": null,
            "object_position": null,
            "object_fit": null,
            "grid_auto_columns": null,
            "margin": null,
            "display": null,
            "left": null
          }
        },
        "f1391a2fa8d0455781d10aa40037d65e": {
          "model_module": "@jupyter-widgets/controls",
          "model_name": "DescriptionStyleModel",
          "state": {
            "_view_name": "StyleView",
            "_model_name": "DescriptionStyleModel",
            "description_width": "",
            "_view_module": "@jupyter-widgets/base",
            "_model_module_version": "1.5.0",
            "_view_count": null,
            "_view_module_version": "1.2.0",
            "_model_module": "@jupyter-widgets/controls"
          }
        },
        "debec44a0a9f47b1a3fab6c6cecb15d4": {
          "model_module": "@jupyter-widgets/base",
          "model_name": "LayoutModel",
          "state": {
            "_view_name": "LayoutView",
            "grid_template_rows": null,
            "right": null,
            "justify_content": null,
            "_view_module": "@jupyter-widgets/base",
            "overflow": null,
            "_model_module_version": "1.2.0",
            "_view_count": null,
            "flex_flow": null,
            "width": null,
            "min_width": null,
            "border": null,
            "align_items": null,
            "bottom": null,
            "_model_module": "@jupyter-widgets/base",
            "top": null,
            "grid_column": null,
            "overflow_y": null,
            "overflow_x": null,
            "grid_auto_flow": null,
            "grid_area": null,
            "grid_template_columns": null,
            "flex": null,
            "_model_name": "LayoutModel",
            "justify_items": null,
            "grid_row": null,
            "max_height": null,
            "align_content": null,
            "visibility": null,
            "align_self": null,
            "height": null,
            "min_height": null,
            "padding": null,
            "grid_auto_rows": null,
            "grid_gap": null,
            "max_width": null,
            "order": null,
            "_view_module_version": "1.2.0",
            "grid_template_areas": null,
            "object_position": null,
            "object_fit": null,
            "grid_auto_columns": null,
            "margin": null,
            "display": null,
            "left": null
          }
        }
      }
    }
  },
  "cells": [
    {
      "cell_type": "markdown",
      "metadata": {
        "id": "4RoA7uzc6-Jj",
        "colab_type": "text"
      },
      "source": [
        "# ELMo for Aspect-Target Sentiment Classification\n",
        "\n",
        "В этом ноутбуке мы исследуем применение модели ELMo для решения задачи Aspect-Target Sentiment Classification."
      ]
    },
    {
      "cell_type": "code",
      "metadata": {
        "id": "ianAoCFMvItu",
        "colab_type": "code",
        "colab": {}
      },
      "source": [
        "#!pip install allennlp\n",
        "#!pip install transformers"
      ],
      "execution_count": 0,
      "outputs": []
    },
    {
      "cell_type": "code",
      "metadata": {
        "id": "shE3aepx6kg7",
        "colab_type": "code",
        "outputId": "f673443e-23ba-4086-b2bd-aa2817dc61a2",
        "colab": {
          "base_uri": "https://localhost:8080/",
          "height": 72
        }
      },
      "source": [
        "import os\n",
        "import zipfile\n",
        "import random\n",
        "\n",
        "import pandas as pd\n",
        "import numpy as np\n",
        "import torch\n",
        "import gensim\n",
        "import nltk\n",
        "import spacy\n",
        "import matplotlib.pyplot as plt\n",
        "import seaborn as sns\n",
        "import bs4\n",
        "\n",
        "from tqdm.notebook import tqdm\n",
        "\n",
        "from allennlp.modules.elmo import Elmo, batch_to_ids\n",
        "from sklearn.metrics import accuracy_score\n",
        "from sklearn.model_selection import train_test_split\n",
        "\n",
        "import torch.nn as nn\n",
        "import torch.nn.functional as F\n",
        "import torch.optim as optim\n",
        "import torchtext\n",
        "from torch.utils.data import Dataset as TorchDataset\n",
        "from torch.utils.data import DataLoader\n",
        "\n",
        "from transformers import AdamW\n",
        "\n",
        "from google.colab import drive\n",
        "\n",
        "USE_GOOGLE_DRIVE = True\n",
        "\n",
        "sns.set(font_scale=1.2)"
      ],
      "execution_count": 2,
      "outputs": [
        {
          "output_type": "stream",
          "text": [
            "/usr/local/lib/python3.6/dist-packages/statsmodels/tools/_testing.py:19: FutureWarning: pandas.util.testing is deprecated. Use the functions in the public API at pandas.testing instead.\n",
            "  import pandas.util.testing as tm\n"
          ],
          "name": "stderr"
        }
      ]
    },
    {
      "cell_type": "markdown",
      "metadata": {
        "id": "s6K05cSD71kI",
        "colab_type": "text"
      },
      "source": [
        "Примонтируем наш гугл-диск, если мы решили его использовать."
      ]
    },
    {
      "cell_type": "code",
      "metadata": {
        "id": "1MBzNx9n7wtX",
        "colab_type": "code",
        "outputId": "ac6e7c35-c8e7-4602-c343-debdc4b26a3e",
        "colab": {
          "base_uri": "https://localhost:8080/",
          "height": 34
        }
      },
      "source": [
        "if USE_GOOGLE_DRIVE:\n",
        "    drive.mount('/content/drive')\n",
        "    PATH_PREFIX = 'drive/My Drive/NLP/dialog-sent'\n",
        "else:\n",
        "    PATH_PREFIX = '..'"
      ],
      "execution_count": 3,
      "outputs": [
        {
          "output_type": "stream",
          "text": [
            "Drive already mounted at /content/drive; to attempt to forcibly remount, call drive.mount(\"/content/drive\", force_remount=True).\n"
          ],
          "name": "stdout"
        }
      ]
    },
    {
      "cell_type": "code",
      "metadata": {
        "id": "_ICV0PvCteP8",
        "colab_type": "code",
        "colab": {}
      },
      "source": [
        "DATA_PREFIX = os.path.join(PATH_PREFIX, 'data')\n",
        "MODEL_PREFIX = os.path.join(PATH_PREFIX, 'models')"
      ],
      "execution_count": 0,
      "outputs": []
    },
    {
      "cell_type": "markdown",
      "metadata": {
        "id": "d1rEg_dzCv2Z",
        "colab_type": "text"
      },
      "source": [
        "Зададим девайс для обучения."
      ]
    },
    {
      "cell_type": "code",
      "metadata": {
        "id": "ssNUbPpPCvOf",
        "colab_type": "code",
        "outputId": "6a75487b-d20c-4970-af62-0a9829e1b63a",
        "colab": {
          "base_uri": "https://localhost:8080/",
          "height": 34
        }
      },
      "source": [
        "USE_GPU = True\n",
        "\n",
        "if USE_GPU and torch.cuda.is_available():\n",
        "    device = torch.device('cuda')\n",
        "else:\n",
        "    device = torch.device('cpu')\n",
        "\n",
        "print('using device:', device)"
      ],
      "execution_count": 5,
      "outputs": [
        {
          "output_type": "stream",
          "text": [
            "using device: cuda\n"
          ],
          "name": "stdout"
        }
      ]
    },
    {
      "cell_type": "markdown",
      "metadata": {
        "id": "yHTGiWVXC13E",
        "colab_type": "text"
      },
      "source": [
        "Проинициализируем везде генераторы случайных чисел."
      ]
    },
    {
      "cell_type": "code",
      "metadata": {
        "id": "gUC3PTVlC1JU",
        "colab_type": "code",
        "colab": {}
      },
      "source": [
        "random_seed = 42\n",
        "random_state = random_seed\n",
        "\n",
        "def set_seed_everywhere(seed, cuda):\n",
        "    random.seed(seed)\n",
        "    np.random.seed(seed)\n",
        "    torch.manual_seed(seed)\n",
        "    torch.backends.cudnn.deterministic = True\n",
        "    torch.backends.cudnn.benchmark = False\n",
        "    if cuda:\n",
        "        torch.cuda.manual_seed_all(seed)\n",
        "\n",
        "set_seed_everywhere(random_seed, USE_GPU)"
      ],
      "execution_count": 0,
      "outputs": []
    },
    {
      "cell_type": "markdown",
      "metadata": {
        "id": "IFqQNvroDFz0",
        "colab_type": "text"
      },
      "source": [
        "### Данные для англоязычного датасета\n",
        "\n",
        "Теперь надо разобраться с данными. Мы используем отзывы о рестранах. В каждом отзыве есть т.н. аспектные термины, по которым мы должны указать тональность. В качестве примера можно привести отзыв из датасета:\n",
        "```xml\n",
        "<sentence id=\"1634\">\n",
        "    <text>The food is uniformly exceptional, with a very capable kitchen which will proudly whip up whatever you feel like eating, whether it's on the menu or not.</text>\n",
        "    <aspectTerms>\n",
        "        <aspectTerm term=\"food\" polarity=\"positive\" from=\"4\" to=\"8\"/>\n",
        "        <aspectTerm term=\"kitchen\" polarity=\"positive\" from=\"55\" to=\"62\"/>\n",
        "        <aspectTerm term=\"menu\" polarity=\"neutral\" from=\"141\" to=\"145\"/>\n",
        "    </aspectTerms>\n",
        "    <aspectCategories>\n",
        "        <aspectCategory category=\"food\" polarity=\"positive\"/>\n",
        "    </aspectCategories>\n",
        "</sentence>\n",
        "```\n",
        "Здесь аспектные термины -- это слова food, kitchen, menu. Аттрибуты from, to указывают на позицию термина в предложении.\n",
        "\n"
      ]
    },
    {
      "cell_type": "markdown",
      "metadata": {
        "id": "C6elfxM8FD2A",
        "colab_type": "text"
      },
      "source": [
        "Данные предоставлены в формате xml. Для работы с ними будем использовать beautiful soup."
      ]
    },
    {
      "cell_type": "code",
      "metadata": {
        "id": "hWs4aYnabrzk",
        "colab_type": "code",
        "colab": {}
      },
      "source": [
        "def xml2pandas(data_path):\n",
        "    \"\"\"Перевод исходного датасета в формате xml в pandas-датафрейм.\"\"\"\n",
        "    data_dict = {'sentence_id': [], 'text': [], 'term': [],\n",
        "                 'from': [], 'to': [], 'sentiment': []}\n",
        "\n",
        "    with open(data_path, 'r') as inf:\n",
        "        contents = inf.read()\n",
        "        soup = bs4.BeautifulSoup(contents, 'xml')\n",
        "        for sentence in soup.find_all('sentence'):\n",
        "            # Если нет аспектных терминов\n",
        "            if sentence.find('aspectTerms') is None:\n",
        "                continue\n",
        "            terms = sentence.find('aspectTerms').find_all(\n",
        "                'aspectTerm'\n",
        "            )\n",
        "            for term in terms:\n",
        "                data_dict['term'].append(term['term'])\n",
        "                data_dict['from'].append(term['from'])\n",
        "                data_dict['to'].append(term['to'])\n",
        "                data_dict['sentiment'].append(term['polarity'])\n",
        "\n",
        "                data_dict['sentence_id'].append(sentence['id'])\n",
        "                data_dict['text'].append(sentence.find('text').text)\n",
        "\n",
        "    data = pd.DataFrame(data_dict)\n",
        "    data['from'] = data['from'].astype(int)\n",
        "    data['to'] = data['to'].astype(int)\n",
        "    return data"
      ],
      "execution_count": 0,
      "outputs": []
    },
    {
      "cell_type": "code",
      "metadata": {
        "id": "HQPj-a1tDGJY",
        "colab_type": "code",
        "colab": {}
      },
      "source": [
        "data_train_raw_path = os.path.join(\n",
        "    DATA_PREFIX, 'raw', \"SemEval'14-ABSA-TrainData_v2 & AnnotationGuidelines\", \n",
        "    'Restaurants_Train_v2.xml'\n",
        ")\n",
        "\n",
        "data_test_raw_path = os.path.join(\n",
        "    DATA_PREFIX, 'raw', 'ABSA_Gold_TestData', 'Restaurants_Test_Gold.xml'\n",
        ")\n",
        "\n",
        "data_train = xml2pandas(data_train_raw_path)\n",
        "data_test = xml2pandas(data_test_raw_path)"
      ],
      "execution_count": 0,
      "outputs": []
    },
    {
      "cell_type": "code",
      "metadata": {
        "id": "ihfLZoATOIqo",
        "colab_type": "code",
        "outputId": "6a1df7f6-9a98-4010-9a0f-8fbae0abff08",
        "colab": {
          "base_uri": "https://localhost:8080/",
          "height": 206
        }
      },
      "source": [
        "data_train.head()"
      ],
      "execution_count": 9,
      "outputs": [
        {
          "output_type": "execute_result",
          "data": {
            "text/html": [
              "<div>\n",
              "<style scoped>\n",
              "    .dataframe tbody tr th:only-of-type {\n",
              "        vertical-align: middle;\n",
              "    }\n",
              "\n",
              "    .dataframe tbody tr th {\n",
              "        vertical-align: top;\n",
              "    }\n",
              "\n",
              "    .dataframe thead th {\n",
              "        text-align: right;\n",
              "    }\n",
              "</style>\n",
              "<table border=\"1\" class=\"dataframe\">\n",
              "  <thead>\n",
              "    <tr style=\"text-align: right;\">\n",
              "      <th></th>\n",
              "      <th>sentence_id</th>\n",
              "      <th>text</th>\n",
              "      <th>term</th>\n",
              "      <th>from</th>\n",
              "      <th>to</th>\n",
              "      <th>sentiment</th>\n",
              "    </tr>\n",
              "  </thead>\n",
              "  <tbody>\n",
              "    <tr>\n",
              "      <th>0</th>\n",
              "      <td>3121</td>\n",
              "      <td>But the staff was so horrible to us.</td>\n",
              "      <td>staff</td>\n",
              "      <td>8</td>\n",
              "      <td>13</td>\n",
              "      <td>negative</td>\n",
              "    </tr>\n",
              "    <tr>\n",
              "      <th>1</th>\n",
              "      <td>2777</td>\n",
              "      <td>To be completely fair, the only redeeming fact...</td>\n",
              "      <td>food</td>\n",
              "      <td>57</td>\n",
              "      <td>61</td>\n",
              "      <td>positive</td>\n",
              "    </tr>\n",
              "    <tr>\n",
              "      <th>2</th>\n",
              "      <td>1634</td>\n",
              "      <td>The food is uniformly exceptional, with a very...</td>\n",
              "      <td>food</td>\n",
              "      <td>4</td>\n",
              "      <td>8</td>\n",
              "      <td>positive</td>\n",
              "    </tr>\n",
              "    <tr>\n",
              "      <th>3</th>\n",
              "      <td>1634</td>\n",
              "      <td>The food is uniformly exceptional, with a very...</td>\n",
              "      <td>kitchen</td>\n",
              "      <td>55</td>\n",
              "      <td>62</td>\n",
              "      <td>positive</td>\n",
              "    </tr>\n",
              "    <tr>\n",
              "      <th>4</th>\n",
              "      <td>1634</td>\n",
              "      <td>The food is uniformly exceptional, with a very...</td>\n",
              "      <td>menu</td>\n",
              "      <td>141</td>\n",
              "      <td>145</td>\n",
              "      <td>neutral</td>\n",
              "    </tr>\n",
              "  </tbody>\n",
              "</table>\n",
              "</div>"
            ],
            "text/plain": [
              "  sentence_id                                               text  ...   to  sentiment\n",
              "0        3121               But the staff was so horrible to us.  ...   13   negative\n",
              "1        2777  To be completely fair, the only redeeming fact...  ...   61   positive\n",
              "2        1634  The food is uniformly exceptional, with a very...  ...    8   positive\n",
              "3        1634  The food is uniformly exceptional, with a very...  ...   62   positive\n",
              "4        1634  The food is uniformly exceptional, with a very...  ...  145    neutral\n",
              "\n",
              "[5 rows x 6 columns]"
            ]
          },
          "metadata": {
            "tags": []
          },
          "execution_count": 9
        }
      ]
    },
    {
      "cell_type": "code",
      "metadata": {
        "id": "CMiztqHjcuEd",
        "colab_type": "code",
        "outputId": "f9673e7f-0a0c-452b-d015-518b0727ea58",
        "colab": {
          "base_uri": "https://localhost:8080/",
          "height": 206
        }
      },
      "source": [
        "data_test.head()"
      ],
      "execution_count": 10,
      "outputs": [
        {
          "output_type": "execute_result",
          "data": {
            "text/html": [
              "<div>\n",
              "<style scoped>\n",
              "    .dataframe tbody tr th:only-of-type {\n",
              "        vertical-align: middle;\n",
              "    }\n",
              "\n",
              "    .dataframe tbody tr th {\n",
              "        vertical-align: top;\n",
              "    }\n",
              "\n",
              "    .dataframe thead th {\n",
              "        text-align: right;\n",
              "    }\n",
              "</style>\n",
              "<table border=\"1\" class=\"dataframe\">\n",
              "  <thead>\n",
              "    <tr style=\"text-align: right;\">\n",
              "      <th></th>\n",
              "      <th>sentence_id</th>\n",
              "      <th>text</th>\n",
              "      <th>term</th>\n",
              "      <th>from</th>\n",
              "      <th>to</th>\n",
              "      <th>sentiment</th>\n",
              "    </tr>\n",
              "  </thead>\n",
              "  <tbody>\n",
              "    <tr>\n",
              "      <th>0</th>\n",
              "      <td>32897564#894393#2</td>\n",
              "      <td>The bread is top notch as well.</td>\n",
              "      <td>bread</td>\n",
              "      <td>4</td>\n",
              "      <td>9</td>\n",
              "      <td>positive</td>\n",
              "    </tr>\n",
              "    <tr>\n",
              "      <th>1</th>\n",
              "      <td>33070600#670328#0</td>\n",
              "      <td>I have to say they have one of the fastest del...</td>\n",
              "      <td>delivery times</td>\n",
              "      <td>43</td>\n",
              "      <td>57</td>\n",
              "      <td>positive</td>\n",
              "    </tr>\n",
              "    <tr>\n",
              "      <th>2</th>\n",
              "      <td>33070600#670328#2</td>\n",
              "      <td>Food is always fresh and hot- ready to eat!</td>\n",
              "      <td>Food</td>\n",
              "      <td>0</td>\n",
              "      <td>4</td>\n",
              "      <td>positive</td>\n",
              "    </tr>\n",
              "    <tr>\n",
              "      <th>3</th>\n",
              "      <td>36244464#949326#5</td>\n",
              "      <td>Did I mention that the coffee is OUTSTANDING?</td>\n",
              "      <td>coffee</td>\n",
              "      <td>23</td>\n",
              "      <td>29</td>\n",
              "      <td>positive</td>\n",
              "    </tr>\n",
              "    <tr>\n",
              "      <th>4</th>\n",
              "      <td>32894246#870052#0</td>\n",
              "      <td>Certainly not the best sushi in New York, howe...</td>\n",
              "      <td>sushi</td>\n",
              "      <td>23</td>\n",
              "      <td>28</td>\n",
              "      <td>conflict</td>\n",
              "    </tr>\n",
              "  </tbody>\n",
              "</table>\n",
              "</div>"
            ],
            "text/plain": [
              "         sentence_id  ... sentiment\n",
              "0  32897564#894393#2  ...  positive\n",
              "1  33070600#670328#0  ...  positive\n",
              "2  33070600#670328#2  ...  positive\n",
              "3  36244464#949326#5  ...  positive\n",
              "4  32894246#870052#0  ...  conflict\n",
              "\n",
              "[5 rows x 6 columns]"
            ]
          },
          "metadata": {
            "tags": []
          },
          "execution_count": 10
        }
      ]
    },
    {
      "cell_type": "markdown",
      "metadata": {
        "id": "WHE8rRD0ptnl",
        "colab_type": "text"
      },
      "source": [
        "Теперь, чтобы нормально это обучать надо как-то сохранить информацию о местопложении аспектных терминов (иначе токенизация порушит наши индексы, и они перестанут работать). В общем случае, нам надо хранить слайс индексов, которые будут отвечать за аспектный термин после токенизации.\n",
        "\n",
        "Чтобы выполнить токенизацию и понять, где все еще находится аспектный термин, нам потребуется поставить какие-то маркеры. Попробуем проверить, что в наших текстах нет символов <, >, которыми мы обозначим границы аспектных терминов."
      ]
    },
    {
      "cell_type": "code",
      "metadata": {
        "id": "Hm72Lu7ips7o",
        "colab_type": "code",
        "outputId": "94613947-22fc-44b1-f734-25c5f235d916",
        "colab": {
          "base_uri": "https://localhost:8080/",
          "height": 86
        }
      },
      "source": [
        "print(data_train['text'].apply(lambda x: '<' in x).sum())\n",
        "print(data_test['text'].apply(lambda x: '>' in x).sum())\n",
        "print(data_test['text'].apply(lambda x: '<' in x).sum())\n",
        "print(data_test['text'].apply(lambda x: '>' in x).sum())"
      ],
      "execution_count": 11,
      "outputs": [
        {
          "output_type": "stream",
          "text": [
            "0\n",
            "0\n",
            "0\n",
            "0\n"
          ],
          "name": "stdout"
        }
      ]
    },
    {
      "cell_type": "markdown",
      "metadata": {
        "id": "LfXH79AatDzG",
        "colab_type": "text"
      },
      "source": [
        "Обрамим аспектные термины символами <<, >>, чтобы потом после токенизации сразу понять, где они."
      ]
    },
    {
      "cell_type": "code",
      "metadata": {
        "id": "GLjHxZj2sxDF",
        "colab_type": "code",
        "outputId": "06af7f76-ee51-4bde-a3a3-0ab3bfccd5d8",
        "colab": {
          "base_uri": "https://localhost:8080/",
          "height": 206
        }
      },
      "source": [
        "data_train.head()"
      ],
      "execution_count": 12,
      "outputs": [
        {
          "output_type": "execute_result",
          "data": {
            "text/html": [
              "<div>\n",
              "<style scoped>\n",
              "    .dataframe tbody tr th:only-of-type {\n",
              "        vertical-align: middle;\n",
              "    }\n",
              "\n",
              "    .dataframe tbody tr th {\n",
              "        vertical-align: top;\n",
              "    }\n",
              "\n",
              "    .dataframe thead th {\n",
              "        text-align: right;\n",
              "    }\n",
              "</style>\n",
              "<table border=\"1\" class=\"dataframe\">\n",
              "  <thead>\n",
              "    <tr style=\"text-align: right;\">\n",
              "      <th></th>\n",
              "      <th>sentence_id</th>\n",
              "      <th>text</th>\n",
              "      <th>term</th>\n",
              "      <th>from</th>\n",
              "      <th>to</th>\n",
              "      <th>sentiment</th>\n",
              "    </tr>\n",
              "  </thead>\n",
              "  <tbody>\n",
              "    <tr>\n",
              "      <th>0</th>\n",
              "      <td>3121</td>\n",
              "      <td>But the staff was so horrible to us.</td>\n",
              "      <td>staff</td>\n",
              "      <td>8</td>\n",
              "      <td>13</td>\n",
              "      <td>negative</td>\n",
              "    </tr>\n",
              "    <tr>\n",
              "      <th>1</th>\n",
              "      <td>2777</td>\n",
              "      <td>To be completely fair, the only redeeming fact...</td>\n",
              "      <td>food</td>\n",
              "      <td>57</td>\n",
              "      <td>61</td>\n",
              "      <td>positive</td>\n",
              "    </tr>\n",
              "    <tr>\n",
              "      <th>2</th>\n",
              "      <td>1634</td>\n",
              "      <td>The food is uniformly exceptional, with a very...</td>\n",
              "      <td>food</td>\n",
              "      <td>4</td>\n",
              "      <td>8</td>\n",
              "      <td>positive</td>\n",
              "    </tr>\n",
              "    <tr>\n",
              "      <th>3</th>\n",
              "      <td>1634</td>\n",
              "      <td>The food is uniformly exceptional, with a very...</td>\n",
              "      <td>kitchen</td>\n",
              "      <td>55</td>\n",
              "      <td>62</td>\n",
              "      <td>positive</td>\n",
              "    </tr>\n",
              "    <tr>\n",
              "      <th>4</th>\n",
              "      <td>1634</td>\n",
              "      <td>The food is uniformly exceptional, with a very...</td>\n",
              "      <td>menu</td>\n",
              "      <td>141</td>\n",
              "      <td>145</td>\n",
              "      <td>neutral</td>\n",
              "    </tr>\n",
              "  </tbody>\n",
              "</table>\n",
              "</div>"
            ],
            "text/plain": [
              "  sentence_id                                               text  ...   to  sentiment\n",
              "0        3121               But the staff was so horrible to us.  ...   13   negative\n",
              "1        2777  To be completely fair, the only redeeming fact...  ...   61   positive\n",
              "2        1634  The food is uniformly exceptional, with a very...  ...    8   positive\n",
              "3        1634  The food is uniformly exceptional, with a very...  ...   62   positive\n",
              "4        1634  The food is uniformly exceptional, with a very...  ...  145    neutral\n",
              "\n",
              "[5 rows x 6 columns]"
            ]
          },
          "metadata": {
            "tags": []
          },
          "execution_count": 12
        }
      ]
    },
    {
      "cell_type": "code",
      "metadata": {
        "id": "Px81HC5Fzd2o",
        "colab_type": "code",
        "outputId": "aca6084a-e6a5-43b1-f071-8dd54564c6ad",
        "colab": {
          "base_uri": "https://localhost:8080/",
          "height": 89
        }
      },
      "source": [
        "!python -m spacy download en_core_web_sm"
      ],
      "execution_count": 13,
      "outputs": [
        {
          "output_type": "stream",
          "text": [
            "Requirement already satisfied: en_core_web_sm==2.1.0 from https://github.com/explosion/spacy-models/releases/download/en_core_web_sm-2.1.0/en_core_web_sm-2.1.0.tar.gz#egg=en_core_web_sm==2.1.0 in /usr/local/lib/python3.6/dist-packages (2.1.0)\n",
            "\u001b[38;5;2m✔ Download and installation successful\u001b[0m\n",
            "You can now load the model via spacy.load('en_core_web_sm')\n"
          ],
          "name": "stdout"
        }
      ]
    },
    {
      "cell_type": "code",
      "metadata": {
        "id": "k4RVUQiitVs1",
        "colab_type": "code",
        "colab": {}
      },
      "source": [
        "nlp = spacy.load(\"en_core_web_sm\")"
      ],
      "execution_count": 0,
      "outputs": []
    },
    {
      "cell_type": "code",
      "metadata": {
        "id": "deYBuk0AtVzN",
        "colab_type": "code",
        "colab": {}
      },
      "source": [
        "def tokenize(df_orig, nlp):\n",
        "    df = df_orig.copy()\n",
        "    from_tokens = []\n",
        "    to_tokens = []\n",
        "    tokenized_texts = []\n",
        "    for i, row in df.iterrows():\n",
        "        raw_text = row['text']\n",
        "        from_index = row['from']\n",
        "        to_index = row['to']\n",
        "        text = (raw_text[:from_index] + '< ' + raw_text[from_index:to_index] \n",
        "                + ' >' + raw_text[to_index:])\n",
        "        doc = nlp(text)\n",
        "        tokens = [x.text for x in doc]\n",
        "        tokenized_texts.append([x for x in tokens if x not in ['<', '>']])\n",
        "        try:\n",
        "            from_tokens.append(tokens.index('<') + 1)\n",
        "            to_tokens.append(tokens.index('>'))\n",
        "        except ValueError as e:\n",
        "            print(raw_text)\n",
        "            print(tokens)\n",
        "    df['from'] = from_tokens\n",
        "    df['to'] = to_tokens\n",
        "    df['text'] = tokenized_texts\n",
        "    return df"
      ],
      "execution_count": 0,
      "outputs": []
    },
    {
      "cell_type": "code",
      "metadata": {
        "id": "DbvG6tf7tVxE",
        "colab_type": "code",
        "outputId": "793cb953-fbf7-4cfd-e608-8d104dbbab8f",
        "colab": {
          "base_uri": "https://localhost:8080/",
          "height": 206
        }
      },
      "source": [
        "data_train = tokenize(data_train, nlp)\n",
        "data_test = tokenize(data_test, nlp)\n",
        "data_train.head()"
      ],
      "execution_count": 16,
      "outputs": [
        {
          "output_type": "execute_result",
          "data": {
            "text/html": [
              "<div>\n",
              "<style scoped>\n",
              "    .dataframe tbody tr th:only-of-type {\n",
              "        vertical-align: middle;\n",
              "    }\n",
              "\n",
              "    .dataframe tbody tr th {\n",
              "        vertical-align: top;\n",
              "    }\n",
              "\n",
              "    .dataframe thead th {\n",
              "        text-align: right;\n",
              "    }\n",
              "</style>\n",
              "<table border=\"1\" class=\"dataframe\">\n",
              "  <thead>\n",
              "    <tr style=\"text-align: right;\">\n",
              "      <th></th>\n",
              "      <th>sentence_id</th>\n",
              "      <th>text</th>\n",
              "      <th>term</th>\n",
              "      <th>from</th>\n",
              "      <th>to</th>\n",
              "      <th>sentiment</th>\n",
              "    </tr>\n",
              "  </thead>\n",
              "  <tbody>\n",
              "    <tr>\n",
              "      <th>0</th>\n",
              "      <td>3121</td>\n",
              "      <td>[But, the, staff, was, so, horrible, to, us, .]</td>\n",
              "      <td>staff</td>\n",
              "      <td>3</td>\n",
              "      <td>4</td>\n",
              "      <td>negative</td>\n",
              "    </tr>\n",
              "    <tr>\n",
              "      <th>1</th>\n",
              "      <td>2777</td>\n",
              "      <td>[To, be, completely, fair, ,, the, only, redee...</td>\n",
              "      <td>food</td>\n",
              "      <td>12</td>\n",
              "      <td>13</td>\n",
              "      <td>positive</td>\n",
              "    </tr>\n",
              "    <tr>\n",
              "      <th>2</th>\n",
              "      <td>1634</td>\n",
              "      <td>[The, food, is, uniformly, exceptional, ,, wit...</td>\n",
              "      <td>food</td>\n",
              "      <td>2</td>\n",
              "      <td>3</td>\n",
              "      <td>positive</td>\n",
              "    </tr>\n",
              "    <tr>\n",
              "      <th>3</th>\n",
              "      <td>1634</td>\n",
              "      <td>[The, food, is, uniformly, exceptional, ,, wit...</td>\n",
              "      <td>kitchen</td>\n",
              "      <td>11</td>\n",
              "      <td>12</td>\n",
              "      <td>positive</td>\n",
              "    </tr>\n",
              "    <tr>\n",
              "      <th>4</th>\n",
              "      <td>1634</td>\n",
              "      <td>[The, food, is, uniformly, exceptional, ,, wit...</td>\n",
              "      <td>menu</td>\n",
              "      <td>28</td>\n",
              "      <td>29</td>\n",
              "      <td>neutral</td>\n",
              "    </tr>\n",
              "  </tbody>\n",
              "</table>\n",
              "</div>"
            ],
            "text/plain": [
              "  sentence_id                                               text  ...  to  sentiment\n",
              "0        3121    [But, the, staff, was, so, horrible, to, us, .]  ...   4   negative\n",
              "1        2777  [To, be, completely, fair, ,, the, only, redee...  ...  13   positive\n",
              "2        1634  [The, food, is, uniformly, exceptional, ,, wit...  ...   3   positive\n",
              "3        1634  [The, food, is, uniformly, exceptional, ,, wit...  ...  12   positive\n",
              "4        1634  [The, food, is, uniformly, exceptional, ,, wit...  ...  29    neutral\n",
              "\n",
              "[5 rows x 6 columns]"
            ]
          },
          "metadata": {
            "tags": []
          },
          "execution_count": 16
        }
      ]
    },
    {
      "cell_type": "markdown",
      "metadata": {
        "id": "RqpOQX474RgK",
        "colab_type": "text"
      },
      "source": [
        "Проверим, что ничего не сломалось."
      ]
    },
    {
      "cell_type": "code",
      "metadata": {
        "id": "e9STJEPi3dhc",
        "colab_type": "code",
        "outputId": "8da7ec31-8227-4f03-8eb4-0eb3167aa916",
        "colab": {
          "base_uri": "https://localhost:8080/",
          "height": 86
        }
      },
      "source": [
        "print(data_train['text'].apply(lambda x: '<' in ''.join(x)).sum())\n",
        "print(data_train['text'].apply(lambda x: '>' in ''.join(x)).sum())\n",
        "print(data_test['text'].apply(lambda x: '<' in ''.join(x)).sum())\n",
        "print(data_test['text'].apply(lambda x: '>' in ''.join(x)).sum())"
      ],
      "execution_count": 17,
      "outputs": [
        {
          "output_type": "stream",
          "text": [
            "0\n",
            "0\n",
            "0\n",
            "0\n"
          ],
          "name": "stdout"
        }
      ]
    },
    {
      "cell_type": "markdown",
      "metadata": {
        "id": "IdaaxIyaHzJT",
        "colab_type": "text"
      },
      "source": [
        "Теперь можем разделить данные на валидацию и трейн."
      ]
    },
    {
      "cell_type": "code",
      "metadata": {
        "id": "MJXx9xmyTrXU",
        "colab_type": "code",
        "colab": {}
      },
      "source": [
        "data_train, data_valid = train_test_split(\n",
        "    data_train, test_size=0.2, random_state=random_state\n",
        ")"
      ],
      "execution_count": 0,
      "outputs": []
    },
    {
      "cell_type": "markdown",
      "metadata": {
        "id": "z3Ir8PPg-gsx",
        "colab_type": "text"
      },
      "source": [
        "Будем использовать AllenNLP. В качестве примера будем использовать [официальный сайт](http://docs.allennlp.org/master/tutorials/how_to/elmo/#using-elmo-as-a-pytorch-module-to-train-a-new-model). Можно заметить, что там уже идет обработка батча, поэтому никаким образом паддинги нам обрабатывать не надо, а потому torchtext не нужен."
      ]
    },
    {
      "cell_type": "code",
      "metadata": {
        "id": "Z4fK6-nI0LXa",
        "colab_type": "code",
        "colab": {}
      },
      "source": [
        "sentiment_vocab = {'negative': 0, 'positive': 1, 'neutral': 2, 'conflict': 3}"
      ],
      "execution_count": 0,
      "outputs": []
    },
    {
      "cell_type": "code",
      "metadata": {
        "id": "H0y3WoZA__2O",
        "colab_type": "code",
        "colab": {}
      },
      "source": [
        "class Dataset(TorchDataset):\n",
        "    \n",
        "    \"\"\"Custom data.Dataset compatible with data.DataLoader.\"\"\"\n",
        "    def __init__(self, data, sentiment_vocab):\n",
        "        self.data = data\n",
        "        self.sentiment_vocab = sentiment_vocab\n",
        "\n",
        "    def __getitem__(self, index):\n",
        "        \"\"\"\n",
        "        Returns one tensor pair (source and target). The source tensor corresponds to the input word,\n",
        "        with \"BEGIN\" and \"END\" symbols attached. The target tensor should contain the answers\n",
        "        for the language model that obtain these word as input.        \n",
        "        \"\"\"\n",
        "        text = self.data['text'].iloc[index]\n",
        "        from_index = torch.tensor([self.data['from'].iloc[index]], \n",
        "                                  dtype=torch.long)\n",
        "        to_index = torch.tensor([self.data['to'].iloc[index]], dtype=torch.long)\n",
        "        sentiment = torch.tensor(\n",
        "            [self.sentiment_vocab[self.data['sentiment'].iloc[index]]], \n",
        "            dtype=torch.long\n",
        "        )\n",
        "        return (text, from_index, to_index, sentiment)\n",
        "\n",
        "    def __len__(self):\n",
        "        return len(self.data)"
      ],
      "execution_count": 0,
      "outputs": []
    },
    {
      "cell_type": "code",
      "metadata": {
        "id": "Ur371e2eFMca",
        "colab_type": "code",
        "colab": {}
      },
      "source": [
        "def collate_fn(batch):\n",
        "    \"\"\"Специальная функция для обработки паддингов.\"\"\"\n",
        "    # распакуем батч\n",
        "    text, from_index, to_index, sentiment = zip(*batch)\n",
        "    # состакаем все кроме текстов (с ними потом разберется сам ELMo)\n",
        "    from_index = torch.stack(from_index)\n",
        "    to_index = torch.stack(to_index)\n",
        "    sentiment = torch.stack(sentiment)\n",
        "    return text, from_index, to_index, sentiment"
      ],
      "execution_count": 0,
      "outputs": []
    },
    {
      "cell_type": "markdown",
      "metadata": {
        "id": "SN9XwXkMKACX",
        "colab_type": "text"
      },
      "source": [
        "Проверим, что батчи работают правильно."
      ]
    },
    {
      "cell_type": "code",
      "metadata": {
        "id": "Zi_m6U-S__9j",
        "colab_type": "code",
        "outputId": "2f2b3d71-543a-4f28-ff48-8b37614b6284",
        "colab": {
          "base_uri": "https://localhost:8080/",
          "height": 121
        }
      },
      "source": [
        "train_dataset = Dataset(data_train, sentiment_vocab)\n",
        "dataloader_train = DataLoader(train_dataset, batch_size=5, \n",
        "                              shuffle=True, num_workers=4, \n",
        "                              collate_fn=collate_fn)\n",
        "\n",
        "for i_batch, (text_batched, from_batched, to_batched, \n",
        "              sentiment_batched) in enumerate(dataloader_train):\n",
        "    if i_batch == 1:\n",
        "        break\n",
        "    print(from_batched)\n",
        "    print(from_batched.size())"
      ],
      "execution_count": 22,
      "outputs": [
        {
          "output_type": "stream",
          "text": [
            "tensor([[ 6],\n",
            "        [ 7],\n",
            "        [ 2],\n",
            "        [13],\n",
            "        [14]])\n",
            "torch.Size([5, 1])\n"
          ],
          "name": "stdout"
        }
      ]
    },
    {
      "cell_type": "markdown",
      "metadata": {
        "id": "FuqJ_M3Fg6G3",
        "colab_type": "text"
      },
      "source": [
        "### Модель"
      ]
    },
    {
      "cell_type": "markdown",
      "metadata": {
        "id": "blBavi11CigD",
        "colab_type": "text"
      },
      "source": [
        "Зададим архитектуру нашей сети. Надо сразу пояснить некоторые детали. Нашему аспектному термину будет соответствовать несколько токенов, но каждому токену соответствует свой эмбеддинг. Поэтому нам надо как-то саггрегировать эмбеддинги для одного аспектного термина. Я пока предлагаю просто их усреднить.\n",
        "\n",
        "С точки зрения технической реализации мы будем использовать битову маску, получаемую из индексов from, to."
      ]
    },
    {
      "cell_type": "code",
      "metadata": {
        "id": "MN0rbmwhCh0K",
        "colab_type": "code",
        "colab": {}
      },
      "source": [
        "class SimpleELMOClassifier(nn.Module):\n",
        "\n",
        "    def __init__(self, num_sentiments, elmo, embeddings_dim, device):\n",
        "        super(SimpleELMOClassifier, self).__init__()\n",
        "\n",
        "        self.device = device\n",
        "\n",
        "        self.elmo = elmo\n",
        "        self.elmo_layer_coef_1 = nn.Parameter(torch.ones(1))\n",
        "        self.elmo_layer_coef_2 = nn.Parameter(torch.ones(1))\n",
        "\n",
        "        self.to_sentiments = nn.Linear(embeddings_dim, num_sentiments)\n",
        "\n",
        "        # weights initializatioin\n",
        "        torch.nn.init.xavier_uniform_(self.to_sentiments.weight)\n",
        "        \n",
        "    def forward(self, texts, from_indices, to_indices, hidden=None):\n",
        "        # get elmo embeddings\n",
        "        character_ids = batch_to_ids(texts).to(device=self.device)\n",
        "        embeddings_raw = self.elmo(character_ids)['elmo_representations']\n",
        "        embeddings = (\n",
        "            embeddings_raw[0] * self.elmo_layer_coef_1 \n",
        "            + embeddings_raw[1] * self.elmo_layer_coef_2\n",
        "        )\n",
        "\n",
        "        # get bit matrix\n",
        "        batch_size, seq_len, _ = embeddings.size()\n",
        "        index_matrix = torch.repeat_interleave(\n",
        "            torch.arange(seq_len).view(1, -1), batch_size, dim=0\n",
        "        ).to(device=self.device)\n",
        "        bit_matrix = ((index_matrix >= from_indices) \n",
        "                      & (index_matrix < to_indices))\n",
        "        # get average of embedings according to bit_matrix\n",
        "        embeddings_terms = (torch.sum(embeddings*torch.unsqueeze(bit_matrix, -1), \n",
        "                                      dim=1) \n",
        "                            / torch.unsqueeze(torch.sum(bit_matrix, dim=1), -1))\n",
        "\n",
        "\n",
        "        sentiments = self.to_sentiments(embeddings_terms)\n",
        "        return sentiments"
      ],
      "execution_count": 0,
      "outputs": []
    },
    {
      "cell_type": "markdown",
      "metadata": {
        "id": "OTr5tdu6nl4A",
        "colab_type": "text"
      },
      "source": [
        "Инициализируем нашу сеть."
      ]
    },
    {
      "cell_type": "code",
      "metadata": {
        "id": "l_2Wskt-inX_",
        "colab_type": "code",
        "outputId": "d4f9b310-eb82-4ebc-cd2d-329581a650b8",
        "colab": {
          "base_uri": "https://localhost:8080/",
          "height": 1000
        }
      },
      "source": [
        "set_seed_everywhere(random_seed, USE_GPU)\n",
        "\n",
        "num_sentiments = len(sentiment_vocab)\n",
        "\n",
        "options_file = \"https://allennlp.s3.amazonaws.com/models/elmo/2x4096_512_2048cnn_2xhighway/elmo_2x4096_512_2048cnn_2xhighway_options.json\"\n",
        "weight_file = \"https://allennlp.s3.amazonaws.com/models/elmo/2x4096_512_2048cnn_2xhighway/elmo_2x4096_512_2048cnn_2xhighway_weights.hdf5\"\n",
        "elmo = Elmo(options_file, weight_file, 2, dropout=0)\n",
        "\n",
        "model = SimpleELMOClassifier(\n",
        "    num_sentiments, elmo, 1024, device\n",
        ")\n",
        "model"
      ],
      "execution_count": 37,
      "outputs": [
        {
          "output_type": "execute_result",
          "data": {
            "text/plain": [
              "SimpleELMOClassifier(\n",
              "  (elmo): Elmo(\n",
              "    (_elmo_lstm): _ElmoBiLm(\n",
              "      (_token_embedder): _ElmoCharacterEncoder(\n",
              "        (char_conv_0): Conv1d(16, 32, kernel_size=(1,), stride=(1,))\n",
              "        (char_conv_1): Conv1d(16, 32, kernel_size=(2,), stride=(1,))\n",
              "        (char_conv_2): Conv1d(16, 64, kernel_size=(3,), stride=(1,))\n",
              "        (char_conv_3): Conv1d(16, 128, kernel_size=(4,), stride=(1,))\n",
              "        (char_conv_4): Conv1d(16, 256, kernel_size=(5,), stride=(1,))\n",
              "        (char_conv_5): Conv1d(16, 512, kernel_size=(6,), stride=(1,))\n",
              "        (char_conv_6): Conv1d(16, 1024, kernel_size=(7,), stride=(1,))\n",
              "        (_highways): Highway(\n",
              "          (_layers): ModuleList(\n",
              "            (0): Linear(in_features=2048, out_features=4096, bias=True)\n",
              "            (1): Linear(in_features=2048, out_features=4096, bias=True)\n",
              "          )\n",
              "        )\n",
              "        (_projection): Linear(in_features=2048, out_features=512, bias=True)\n",
              "      )\n",
              "      (_elmo_lstm): ElmoLstm(\n",
              "        (forward_layer_0): LstmCellWithProjection(\n",
              "          (input_linearity): Linear(in_features=512, out_features=16384, bias=False)\n",
              "          (state_linearity): Linear(in_features=512, out_features=16384, bias=True)\n",
              "          (state_projection): Linear(in_features=4096, out_features=512, bias=False)\n",
              "        )\n",
              "        (backward_layer_0): LstmCellWithProjection(\n",
              "          (input_linearity): Linear(in_features=512, out_features=16384, bias=False)\n",
              "          (state_linearity): Linear(in_features=512, out_features=16384, bias=True)\n",
              "          (state_projection): Linear(in_features=4096, out_features=512, bias=False)\n",
              "        )\n",
              "        (forward_layer_1): LstmCellWithProjection(\n",
              "          (input_linearity): Linear(in_features=512, out_features=16384, bias=False)\n",
              "          (state_linearity): Linear(in_features=512, out_features=16384, bias=True)\n",
              "          (state_projection): Linear(in_features=4096, out_features=512, bias=False)\n",
              "        )\n",
              "        (backward_layer_1): LstmCellWithProjection(\n",
              "          (input_linearity): Linear(in_features=512, out_features=16384, bias=False)\n",
              "          (state_linearity): Linear(in_features=512, out_features=16384, bias=True)\n",
              "          (state_projection): Linear(in_features=4096, out_features=512, bias=False)\n",
              "        )\n",
              "      )\n",
              "    )\n",
              "    (_dropout): Dropout(p=0, inplace=False)\n",
              "    (scalar_mix_0): ScalarMix(\n",
              "      (scalar_parameters): ParameterList(\n",
              "          (0): Parameter containing: [torch.FloatTensor of size 1]\n",
              "          (1): Parameter containing: [torch.FloatTensor of size 1]\n",
              "          (2): Parameter containing: [torch.FloatTensor of size 1]\n",
              "      )\n",
              "    )\n",
              "    (scalar_mix_1): ScalarMix(\n",
              "      (scalar_parameters): ParameterList(\n",
              "          (0): Parameter containing: [torch.FloatTensor of size 1]\n",
              "          (1): Parameter containing: [torch.FloatTensor of size 1]\n",
              "          (2): Parameter containing: [torch.FloatTensor of size 1]\n",
              "      )\n",
              "    )\n",
              "  )\n",
              "  (to_sentiments): Linear(in_features=1024, out_features=4, bias=True)\n",
              ")"
            ]
          },
          "metadata": {
            "tags": []
          },
          "execution_count": 37
        }
      ]
    },
    {
      "cell_type": "markdown",
      "metadata": {
        "id": "-RPJYxF0iR5S",
        "colab_type": "text"
      },
      "source": [
        "### Тренировочный цикл\n",
        "\n",
        "Здесь мы реализуем тренировочный цикл для нашей модели."
      ]
    },
    {
      "cell_type": "code",
      "metadata": {
        "id": "uhKstL-OoNJV",
        "colab_type": "code",
        "colab": {}
      },
      "source": [
        "def train_loop(train_iter, val_iter, model, opt, scheduler, criterion, epochs, \n",
        "               early_stopping):\n",
        "    train_losses = []\n",
        "    val_losses = []\n",
        "    train_acc_values = []\n",
        "    val_acc_values = []\n",
        "    best_val_loss = 100\n",
        "    best_val_acc = 0\n",
        "    not_improves = 0\n",
        "    for epoch in tqdm(range(1, epochs + 1)):\n",
        "        train_loss = 0.0\n",
        "        train_acc = 0\n",
        "        model.train() \n",
        "        for batch in tqdm(train_iter, leave=False): \n",
        "\n",
        "            texts, from_indices, to_indices, sentiments = batch\n",
        "            from_indices = from_indices.to(device=device)\n",
        "            to_indices = to_indices.to(device=device)\n",
        "            sentiments = sentiments.to(device=device).squeeze(1)\n",
        "\n",
        "            opt.zero_grad()\n",
        "            preds = model(texts, from_indices, to_indices)\n",
        "\n",
        "            loss = criterion(preds, sentiments)\n",
        "            loss.backward()\n",
        "            nn.utils.clip_grad_norm_(model.parameters(), grad_clipping_value)\n",
        "            opt.step()\n",
        "            train_loss += loss.item()\n",
        "\n",
        "            pred_sentiments = torch.max(preds, dim=-1)[1]\n",
        "            train_acc += np.sum(\n",
        "                pred_sentiments.cpu().numpy() == sentiments.cpu().numpy()\n",
        "            )\n",
        "\n",
        "        train_loss /= len(train_iter.dataset)\n",
        "        train_losses.append(train_loss)\n",
        "        train_acc /= len(train_iter.dataset)\n",
        "        train_acc_values.append(train_acc)\n",
        "\n",
        "        val_loss = 0.0\n",
        "        val_acc = 0\n",
        "        model.eval()\n",
        "        with torch.no_grad():\n",
        "            for batch in val_iter:\n",
        "\n",
        "                texts, from_indices, to_indices, sentiments = batch\n",
        "                from_indices = from_indices.to(device=device)\n",
        "                to_indices = to_indices.to(device=device)\n",
        "                sentiments = sentiments.to(device=device).squeeze(1)\n",
        "\n",
        "                opt.zero_grad()\n",
        "                preds = model(texts, from_indices, to_indices)\n",
        "\n",
        "                preds = model(texts, from_indices, to_indices)  \n",
        "                loss = criterion(preds, sentiments)\n",
        "                val_loss += loss.item()\n",
        "\n",
        "                pred_sentiments = torch.max(preds, dim=-1)[1]\n",
        "                val_acc += np.sum(\n",
        "                    pred_sentiments.cpu().numpy() == sentiments.cpu().numpy()\n",
        "                )\n",
        "\n",
        "        val_loss /= len(valid_iter.dataset)\n",
        "        val_acc /= len(valid_iter.dataset)\n",
        "        val_losses.append(val_loss)\n",
        "        val_acc_values.append(val_acc)\n",
        "\n",
        "        if val_acc > best_val_acc:\n",
        "            not_improves = 0\n",
        "            best_val_acc = val_acc\n",
        "            torch.save(model.state_dict(), path_save)\n",
        "            print('------SAVED------')\n",
        "        else:\n",
        "            not_improves += 1\n",
        "            if not_improves == early_stopping:\n",
        "                break\n",
        "        \n",
        "        scheduler.step()\n",
        "\n",
        "        print(f'Epoch: {epoch}, '\n",
        "              f'Training Loss*: {1000*train_loss:.5f}, '\n",
        "              f'Validation Loss*: {1000*val_loss:.5f}, \\n'\n",
        "              f'Training Acc: {train_acc:.5f}, '\n",
        "              f'Validation Acc: {val_acc:.5f}')\n",
        "\n",
        "    return train_losses, val_losses, train_acc_values, val_acc_values"
      ],
      "execution_count": 0,
      "outputs": []
    },
    {
      "cell_type": "code",
      "metadata": {
        "id": "Lsj4bKbxAIT3",
        "colab_type": "code",
        "colab": {}
      },
      "source": [
        "remain_sentiments = ['neutral', 'positive', 'negative']\n",
        "\n",
        "train_dataset = Dataset(\n",
        "    data_train[data_train.sentiment.isin(remain_sentiments)], \n",
        "    sentiment_vocab\n",
        ")\n",
        "valid_dataset = Dataset(\n",
        "    data_valid[data_valid.sentiment.isin(remain_sentiments)], sentiment_vocab\n",
        ")\n",
        "test_dataset = Dataset(\n",
        "    data_test[data_test.sentiment.isin(remain_sentiments)], sentiment_vocab\n",
        ")\n",
        "\n",
        "batch_size = 128\n",
        "\n",
        "train_iter = DataLoader(train_dataset, batch_size=batch_size, \n",
        "                        shuffle=True, num_workers=4, \n",
        "                        collate_fn=collate_fn)\n",
        "\n",
        "valid_iter = DataLoader(valid_dataset, batch_size=batch_size,\n",
        "                        shuffle=True, num_workers=4, \n",
        "                        collate_fn=collate_fn)\n",
        "\n",
        "test_iter = DataLoader(test_dataset, batch_size=batch_size, \n",
        "                       shuffle=True, num_workers=4, \n",
        "                       collate_fn=collate_fn)"
      ],
      "execution_count": 0,
      "outputs": []
    },
    {
      "cell_type": "code",
      "metadata": {
        "id": "o0XG5kEsimr2",
        "colab_type": "code",
        "colab": {}
      },
      "source": [
        "model = model.to(device=device)\n",
        "learning_rate = 1e-3\n",
        "early_stopping = 5\n",
        "grad_clipping_value = 1\n",
        "epochs = 30\n",
        "\n",
        "opt = AdamW(model.parameters(), lr=learning_rate)\n",
        "scheduler = optim.lr_scheduler.StepLR(opt, step_size=10, gamma=1)\n",
        "criterion = nn.CrossEntropyLoss()\n",
        "path_save = os.path.join(MODEL_PREFIX, 'elmo', 'elmo_simple.pt')"
      ],
      "execution_count": 0,
      "outputs": []
    },
    {
      "cell_type": "code",
      "metadata": {
        "id": "CWnA_j8fsiFL",
        "colab_type": "code",
        "outputId": "d31aaaa0-ae7c-4e47-9c8e-ea0f7856aaba",
        "colab": {
          "base_uri": "https://localhost:8080/",
          "height": 605,
          "referenced_widgets": [
            "c18b217baf584ae18e5f360c211acb4f",
            "8b7a3a95907740d3ab1318fe9cb77da6",
            "e3b94a0ba72f4c6795916f38c9a824ad",
            "934fe0ed8f4a497295207f3fc6e19aa8",
            "ea709620c5094095b6afef8a0e5dd9fa",
            "acacdf37ce1a4f788d474cd3162daf01",
            "12071025f681403691c1cbfa8786db2a",
            "e147dd5c7f0846958c5b243472b0f58f",
            "7da30531d2334d4692af21ceef78ff2c",
            "86a552a886ed4d3a95467741c0433f17",
            "57e4e806bbbb4a8a9a6cc802a8251852",
            "0a8e6031622d49eeb043e834addcd8da",
            "581b7e3e89be4cd5af594452aed69d1e",
            "57f8680ad401478796a9a9e2aad7b08c",
            "ad26402913b442f18339fd6899b55921",
            "ff378696e1804876beafbd734db7c15a",
            "06913c7251c6447ebcc28e3f6e26941a",
            "c82acf76063341d4b1334ec88777ab3c",
            "7803664eb788413283882884951a5bd9",
            "7abaab77f2de4113b46a68418d201908",
            "e6706e9767cf4b25a64e78c425c98a64",
            "fc9efb7c119748c9abf8bbcf6e30b1d1",
            "2ead18296a4e42a8a23a0649db1f7ac5",
            "63ac3ab231be47a5acb296ade177e053",
            "172e82cabb714820a2d6cb08e034d957",
            "f75cd94d428b4febbdb75ed211ca6d05",
            "530ab1cc5c784ec2b63c2d8eeb6bc2d2",
            "5ff5cb387ded42059bb1bdfdf464d084",
            "b6ee1e24f021400989f86f3a33b212b3",
            "9e4f8b045e744c59ba728a08c32d6c54",
            "445d81dbc9974c5891d6c3a584920d4d",
            "c862f8859d4145889f2358d9235021f7",
            "ecb32946693e48a4891ce46764d7634a",
            "92f26b92b0264361b7d525ad8fc0ceff",
            "c0e5e0e0008b4b5a8e146588a3d5caf6",
            "f1284c96885b45ff8fdea94017624d70",
            "7ad6d60e254e49da9ea20dc0ea43ec51",
            "fcce9735038347e29775fa51ba352344",
            "5298ee4c063e484bba12848c763d035b",
            "bc28e7f5a5c6491db44ef01561adcedc",
            "0bfe1203b5254001b7847ca2540d5ffc",
            "02261cf5a491429485766a0c6d0749f3",
            "1e0c6fe5de2d438b8148f27882d6debb",
            "70808ac3f7ea4901b352479245c8e19c",
            "44386372addf4f318d2c857d6baff3ee",
            "838e681ca2254512b4416f5404b99ff7",
            "6b24ad5cad7e4cd4b0e95849cddc891d",
            "1b5c82ad3baa47778ee719d9581c5a3e",
            "b7ac2db4ae9a4374b558399e21429465",
            "d852a4186c544b6ab24f7ab0694a8e5f",
            "0ebc352fc7cf4baab73a40a0bee39507",
            "d19a20cdabf94c04aa4a112c9721b78b",
            "96fdb20e10084ddc85ef7b3af5279ebb",
            "6521076e5db74eda97dc38ab0ce9c0eb",
            "8469ce19865e44d6b2432ec53e7837b4",
            "f0b4bc43438f4a4fb1f028b2c03a868e",
            "412cfb18fe2940fd9001542115e7cba5",
            "82f62a0d949d47b49fa711288ebc3c99",
            "6f3932e395634e118c84caf4b76c444d",
            "8f4ee9019cce441796d06a41688891dd",
            "561a82c28b65415daa01e75484c35177",
            "2eebca8b65114ac2a755b1826fb6f5d6",
            "3c60200cc3db46f88978c56002966bfb",
            "ed43e459098344aa860edd0017777b48",
            "d6970f2261fc4f08b3e3955577c8c79c",
            "82936699b7f7438ebe2a516c0bc125b3",
            "746792b5d7284cc5bd1ac3932d493d9f",
            "8e7d5e06f2934d8996447fb7b599e55f",
            "d317e696991f4486b2349332684445b7",
            "2fdd958b9f924705beb7b8ae8525cf1f",
            "230d1a4286494811898ce2de8d9df04e",
            "019b508dffec48808eb7a6b65b1184e2",
            "84a9c4b29d6e4467935282f619109450",
            "572135b401df4a7bacc93a3d6c7e22b5",
            "afe9657f18b84d18b254cb22e33706a6",
            "f5686bf0c03c4c2dac65c387f4847603",
            "93cd5182b5f343daa77cc6a6573a0131",
            "d46f9e22468f458e81c1f93d5a4e749a",
            "565b7e918ea9432eb262e661c1ca60aa",
            "6646d44a09c545d8a9cc151c17ba79ef",
            "3faac6bf8b9c44af8e0fe4ae4275d43b",
            "9b68ca1ba57749aea54bdc536de2c55a",
            "4e2c3afece644c15b55a6c807be315d8",
            "cbd8ccf23b6f49b4857250ea7a215bd6",
            "dd4b91cbc76f448ab2861e258dc20c71",
            "1395503249c74db2afe5e02ed1aea463",
            "a5bc1dbd23d5462e9422e6adb7356d46",
            "83244b28a1c446aebeb65ab3c5267fb4",
            "5126171eb6874b6f97962f7dd4fcd3c2",
            "d7aeaff04e17427d9292a1ea287d495e",
            "f752da6897e441a68a0b6c32066ccff6",
            "1ed7f3e9e223424eacd40dbacbd6066b",
            "96135975441c4facae07e40b5465cec9",
            "80a7b39958b548eebc3555150bbd429e",
            "c518f95a1eb24efeb232a2badd4da8dc",
            "5569077502cc46ee81193486343a92a1",
            "453bc51035d143f3b4650e7e8684e92c",
            "b7d2139988b24ec1a049ddf453bcd211",
            "4e40c9316bc84408b58835e5902bc174",
            "1b72d09f20054d60b082a34323f7be1f",
            "bf2017fb378246b8b8daffa8ddf4f6af",
            "d411848170604c95965bd8953d04864b",
            "713865d2ba02472b9296de11aa5d24cf",
            "fc3f50806263487fba2f057a61a108dc",
            "22463f81d9a64a95aff4840a4be0ced7",
            "b845789ac3c44744a0e253305aad7fce",
            "7c6e3e4e81ef4e2ca1a4a8fb9b096a3a",
            "e713993cc10d4f90bb88cd96c5ea877d",
            "bd8f7522d60049ac984ecd94bf2c1750",
            "bcfd9a24fa864b5189eb7af56e303623",
            "f1391a2fa8d0455781d10aa40037d65e",
            "debec44a0a9f47b1a3fab6c6cecb15d4"
          ]
        }
      },
      "source": [
        "set_seed_everywhere(random_seed, USE_GPU)\n",
        "train_losses, val_losses, train_acc, val_acc = train_loop(\n",
        "    train_iter, valid_iter, model, opt, scheduler, criterion, \n",
        "    epochs, early_stopping\n",
        ")"
      ],
      "execution_count": 41,
      "outputs": [
        {
          "output_type": "display_data",
          "data": {
            "application/vnd.jupyter.widget-view+json": {
              "model_id": "c18b217baf584ae18e5f360c211acb4f",
              "version_minor": 0,
              "version_major": 2
            },
            "text/plain": [
              "HBox(children=(IntProgress(value=0, max=30), HTML(value='')))"
            ]
          },
          "metadata": {
            "tags": []
          }
        },
        {
          "output_type": "display_data",
          "data": {
            "application/vnd.jupyter.widget-view+json": {
              "model_id": "7da30531d2334d4692af21ceef78ff2c",
              "version_minor": 0,
              "version_major": 2
            },
            "text/plain": [
              "HBox(children=(IntProgress(value=0, max=23), HTML(value='')))"
            ]
          },
          "metadata": {
            "tags": []
          }
        },
        {
          "output_type": "stream",
          "text": [
            "\n",
            "------SAVED------\n",
            "Epoch: 1, Training Loss*: 8.46273, Validation Loss*: 7.17580, \n",
            "Training Acc: 0.57337, Validation Acc: 0.62672\n"
          ],
          "name": "stdout"
        },
        {
          "output_type": "display_data",
          "data": {
            "application/vnd.jupyter.widget-view+json": {
              "model_id": "06913c7251c6447ebcc28e3f6e26941a",
              "version_minor": 0,
              "version_major": 2
            },
            "text/plain": [
              "HBox(children=(IntProgress(value=0, max=23), HTML(value='')))"
            ]
          },
          "metadata": {
            "tags": []
          }
        },
        {
          "output_type": "stream",
          "text": [
            "------SAVED------\n",
            "Epoch: 2, Training Loss*: 6.45426, Validation Loss*: 6.50644, \n",
            "Training Acc: 0.65473, Validation Acc: 0.67080\n"
          ],
          "name": "stdout"
        },
        {
          "output_type": "display_data",
          "data": {
            "application/vnd.jupyter.widget-view+json": {
              "model_id": "172e82cabb714820a2d6cb08e034d957",
              "version_minor": 0,
              "version_major": 2
            },
            "text/plain": [
              "HBox(children=(IntProgress(value=0, max=23), HTML(value='')))"
            ]
          },
          "metadata": {
            "tags": []
          }
        },
        {
          "output_type": "stream",
          "text": [
            "------SAVED------\n",
            "Epoch: 3, Training Loss*: 5.72248, Validation Loss*: 6.23466, \n",
            "Training Acc: 0.69332, Validation Acc: 0.68182\n"
          ],
          "name": "stdout"
        },
        {
          "output_type": "display_data",
          "data": {
            "application/vnd.jupyter.widget-view+json": {
              "model_id": "ecb32946693e48a4891ce46764d7634a",
              "version_minor": 0,
              "version_major": 2
            },
            "text/plain": [
              "HBox(children=(IntProgress(value=0, max=23), HTML(value='')))"
            ]
          },
          "metadata": {
            "tags": []
          }
        },
        {
          "output_type": "stream",
          "text": [
            "------SAVED------\n",
            "Epoch: 4, Training Loss*: 5.30229, Validation Loss*: 6.05790, \n",
            "Training Acc: 0.72462, Validation Acc: 0.69697\n"
          ],
          "name": "stdout"
        },
        {
          "output_type": "display_data",
          "data": {
            "application/vnd.jupyter.widget-view+json": {
              "model_id": "0bfe1203b5254001b7847ca2540d5ffc",
              "version_minor": 0,
              "version_major": 2
            },
            "text/plain": [
              "HBox(children=(IntProgress(value=0, max=23), HTML(value='')))"
            ]
          },
          "metadata": {
            "tags": []
          }
        },
        {
          "output_type": "stream",
          "text": [
            "------SAVED------\n",
            "Epoch: 5, Training Loss*: 4.97903, Validation Loss*: 6.09368, \n",
            "Training Acc: 0.74131, Validation Acc: 0.70248\n"
          ],
          "name": "stdout"
        },
        {
          "output_type": "display_data",
          "data": {
            "application/vnd.jupyter.widget-view+json": {
              "model_id": "b7ac2db4ae9a4374b558399e21429465",
              "version_minor": 0,
              "version_major": 2
            },
            "text/plain": [
              "HBox(children=(IntProgress(value=0, max=23), HTML(value='')))"
            ]
          },
          "metadata": {
            "tags": []
          }
        },
        {
          "output_type": "stream",
          "text": [
            "Epoch: 6, Training Loss*: 4.73192, Validation Loss*: 6.07978, \n",
            "Training Acc: 0.76182, Validation Acc: 0.69835\n"
          ],
          "name": "stdout"
        },
        {
          "output_type": "display_data",
          "data": {
            "application/vnd.jupyter.widget-view+json": {
              "model_id": "412cfb18fe2940fd9001542115e7cba5",
              "version_minor": 0,
              "version_major": 2
            },
            "text/plain": [
              "HBox(children=(IntProgress(value=0, max=23), HTML(value='')))"
            ]
          },
          "metadata": {
            "tags": []
          }
        },
        {
          "output_type": "stream",
          "text": [
            "------SAVED------\n",
            "Epoch: 7, Training Loss*: 4.53567, Validation Loss*: 6.18178, \n",
            "Training Acc: 0.77121, Validation Acc: 0.70799\n"
          ],
          "name": "stdout"
        },
        {
          "output_type": "display_data",
          "data": {
            "application/vnd.jupyter.widget-view+json": {
              "model_id": "d6970f2261fc4f08b3e3955577c8c79c",
              "version_minor": 0,
              "version_major": 2
            },
            "text/plain": [
              "HBox(children=(IntProgress(value=0, max=23), HTML(value='')))"
            ]
          },
          "metadata": {
            "tags": []
          }
        },
        {
          "output_type": "stream",
          "text": [
            "------SAVED------\n",
            "Epoch: 8, Training Loss*: 4.32071, Validation Loss*: 6.14357, \n",
            "Training Acc: 0.78686, Validation Acc: 0.71625\n"
          ],
          "name": "stdout"
        },
        {
          "output_type": "display_data",
          "data": {
            "application/vnd.jupyter.widget-view+json": {
              "model_id": "84a9c4b29d6e4467935282f619109450",
              "version_minor": 0,
              "version_major": 2
            },
            "text/plain": [
              "HBox(children=(IntProgress(value=0, max=23), HTML(value='')))"
            ]
          },
          "metadata": {
            "tags": []
          }
        },
        {
          "output_type": "stream",
          "text": [
            "Epoch: 9, Training Loss*: 4.13442, Validation Loss*: 6.12748, \n",
            "Training Acc: 0.79138, Validation Acc: 0.70523\n"
          ],
          "name": "stdout"
        },
        {
          "output_type": "display_data",
          "data": {
            "application/vnd.jupyter.widget-view+json": {
              "model_id": "3faac6bf8b9c44af8e0fe4ae4275d43b",
              "version_minor": 0,
              "version_major": 2
            },
            "text/plain": [
              "HBox(children=(IntProgress(value=0, max=23), HTML(value='')))"
            ]
          },
          "metadata": {
            "tags": []
          }
        },
        {
          "output_type": "stream",
          "text": [
            "Epoch: 10, Training Loss*: 3.98010, Validation Loss*: 6.26832, \n",
            "Training Acc: 0.80389, Validation Acc: 0.71074\n"
          ],
          "name": "stdout"
        },
        {
          "output_type": "display_data",
          "data": {
            "application/vnd.jupyter.widget-view+json": {
              "model_id": "5126171eb6874b6f97962f7dd4fcd3c2",
              "version_minor": 0,
              "version_major": 2
            },
            "text/plain": [
              "HBox(children=(IntProgress(value=0, max=23), HTML(value='')))"
            ]
          },
          "metadata": {
            "tags": []
          }
        },
        {
          "output_type": "stream",
          "text": [
            "Epoch: 11, Training Loss*: 3.87576, Validation Loss*: 6.67255, \n",
            "Training Acc: 0.81328, Validation Acc: 0.69835\n"
          ],
          "name": "stdout"
        },
        {
          "output_type": "display_data",
          "data": {
            "application/vnd.jupyter.widget-view+json": {
              "model_id": "453bc51035d143f3b4650e7e8684e92c",
              "version_minor": 0,
              "version_major": 2
            },
            "text/plain": [
              "HBox(children=(IntProgress(value=0, max=23), HTML(value='')))"
            ]
          },
          "metadata": {
            "tags": []
          }
        },
        {
          "output_type": "stream",
          "text": [
            "Epoch: 12, Training Loss*: 3.78938, Validation Loss*: 6.55317, \n",
            "Training Acc: 0.81745, Validation Acc: 0.71074\n"
          ],
          "name": "stdout"
        },
        {
          "output_type": "display_data",
          "data": {
            "application/vnd.jupyter.widget-view+json": {
              "model_id": "22463f81d9a64a95aff4840a4be0ced7",
              "version_minor": 0,
              "version_major": 2
            },
            "text/plain": [
              "HBox(children=(IntProgress(value=0, max=23), HTML(value='')))"
            ]
          },
          "metadata": {
            "tags": []
          }
        }
      ]
    },
    {
      "cell_type": "code",
      "metadata": {
        "id": "FDLoDnfWt00g",
        "colab_type": "code",
        "outputId": "d77e1e5e-94c6-4597-e678-58ffefd467f0",
        "colab": {
          "base_uri": "https://localhost:8080/",
          "height": 578
        }
      },
      "source": [
        "plt.figure(figsize=(16, 9))\n",
        "finished_epochs = len(train_losses)\n",
        "plt.plot(np.arange(finished_epochs), train_losses, label='Train loss')\n",
        "plt.plot(np.arange(finished_epochs), val_losses, label='Validation loss')\n",
        "plt.xlabel('epoch')\n",
        "plt.ylabel('cross entropy loss')\n",
        "plt.title('Кривая обучения')\n",
        "plt.legend()\n",
        "plt.show()"
      ],
      "execution_count": 42,
      "outputs": [
        {
          "output_type": "display_data",
          "data": {
            "image/png": "[encoded data removed]",
            "text/plain": [
              "<Figure size 1152x648 with 1 Axes>"
            ]
          },
          "metadata": {
            "tags": []
          }
        }
      ]
    },
    {
      "cell_type": "code",
      "metadata": {
        "id": "s58_lzjtVKaf",
        "colab_type": "code",
        "outputId": "7dc93ea5-e8ce-4cc9-e077-820beeec8c78",
        "colab": {
          "base_uri": "https://localhost:8080/",
          "height": 578
        }
      },
      "source": [
        "plt.figure(figsize=(16, 9))\n",
        "finished_epochs = len(train_losses)\n",
        "plt.plot(np.arange(finished_epochs), train_acc, label='Train accuracy')\n",
        "plt.plot(np.arange(finished_epochs), val_acc, label='Validation accuracy')\n",
        "plt.xlabel('epoch')\n",
        "plt.ylabel('accuracy')\n",
        "plt.title('Кривая обучения')\n",
        "plt.legend()\n",
        "plt.show()"
      ],
      "execution_count": 43,
      "outputs": [
        {
          "output_type": "display_data",
          "data": {
            "image/png": "[encoded data removed]",
            "text/plain": [
              "<Figure size 1152x648 with 1 Axes>"
            ]
          },
          "metadata": {
            "tags": []
          }
        }
      ]
    },
    {
      "cell_type": "markdown",
      "metadata": {
        "id": "7Fz15rTA2JpM",
        "colab_type": "text"
      },
      "source": [
        "Измерим качество полученной модели."
      ]
    },
    {
      "cell_type": "code",
      "metadata": {
        "id": "IBLOT51l16Xy",
        "colab_type": "code",
        "colab": {
          "base_uri": "https://localhost:8080/",
          "height": 34
        },
        "outputId": "742bb236-23ea-4a24-af16-c42543c59f7d"
      },
      "source": [
        "model.load_state_dict(torch.load(path_save))"
      ],
      "execution_count": 44,
      "outputs": [
        {
          "output_type": "execute_result",
          "data": {
            "text/plain": [
              "<All keys matched successfully>"
            ]
          },
          "metadata": {
            "tags": []
          },
          "execution_count": 44
        }
      ]
    },
    {
      "cell_type": "code",
      "metadata": {
        "id": "4d9A9R9X26Y2",
        "colab_type": "code",
        "colab": {}
      },
      "source": [
        "model.eval()\n",
        "\n",
        "all_preds = []\n",
        "all_answers = []\n",
        "with torch.no_grad():\n",
        "    for batch in test_iter:\n",
        "\n",
        "        texts, from_indices, to_indices, sentiments = batch\n",
        "        from_indices = from_indices.to(device=device)\n",
        "        to_indices = to_indices.to(device=device)\n",
        "        sentiments = sentiments.to(device=device).squeeze(1)\n",
        "\n",
        "        preds_scores = model(texts, from_indices, to_indices)\n",
        "        preds = torch.max(preds_scores, dim=-1)[1]\n",
        "        all_preds += preds.tolist()\n",
        "        all_answers += sentiments.tolist()\n",
        "\n",
        "all_preds = np.array(all_preds)\n",
        "all_answers = np.array(all_answers)"
      ],
      "execution_count": 0,
      "outputs": []
    },
    {
      "cell_type": "code",
      "metadata": {
        "id": "5jwD-spq3k1I",
        "colab_type": "code",
        "colab": {
          "base_uri": "https://localhost:8080/",
          "height": 34
        },
        "outputId": "33983e12-5ffc-4aa0-fe37-183493bc4c4f"
      },
      "source": [
        "accuracy = accuracy_score(all_preds, all_answers)\n",
        "\n",
        "print(f'Accuracy: {accuracy:.5f}')"
      ],
      "execution_count": 47,
      "outputs": [
        {
          "output_type": "stream",
          "text": [
            "Accuracy: 0.73750\n"
          ],
          "name": "stdout"
        }
      ]
    },
    {
      "cell_type": "markdown",
      "metadata": {
        "id": "loI8yuPh9WZ-",
        "colab_type": "text"
      },
      "source": [
        "### Что стоит еще сделать\n",
        "\n",
        "1. Проверить, что решаемая такой моделью задача совпадает с решаемой задачей на русском языке.\n",
        "2. Поэкспериментировать с моделью: \n",
        "    * dropout (что-то пробовали), \n",
        "    * другие эмбеддинги (взятие самого большого glove улучшило ситуацию), \n",
        "    * bidirectional (в текущей архитектуре это, кажется, не очень поможет потому что берется только выходное состояние), \n",
        "    * l2-регуляризация, как в статье (добавили)\n",
        "    * доучивание эмбеддингов вместо заморозки\n",
        "    * увеличение числа слоев lstm (кажется, что прироста не дало)\n",
        "3. Проверить, что в текущей модели от использования эмбеддингов для аспектов вообще есть толк (можно попробовать их отключить как-то)."
      ]
    }
  ]
}