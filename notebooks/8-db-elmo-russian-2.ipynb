{
  "nbformat": 4,
  "nbformat_minor": 0,
  "metadata": {
    "colab": {
      "name": "8-db-elmo-russian-2.ipynb",
      "provenance": [],
      "collapsed_sections": [],
      "toc_visible": true,
      "machine_shape": "hm"
    },
    "kernelspec": {
      "name": "python3",
      "display_name": "Python 3"
    },
    "accelerator": "GPU",
    "widgets": {
      "application/vnd.jupyter.widget-state+json": {
        "95f833fa82914971893dadad8f9e8717": {
          "model_module": "@jupyter-widgets/controls",
          "model_name": "HBoxModel",
          "state": {
            "_view_name": "HBoxView",
            "_dom_classes": [],
            "_model_name": "HBoxModel",
            "_view_module": "@jupyter-widgets/controls",
            "_model_module_version": "1.5.0",
            "_view_count": null,
            "_view_module_version": "1.5.0",
            "box_style": "",
            "layout": "IPY_MODEL_a8c2f1f07637455db0d08cfe5f63a539",
            "_model_module": "@jupyter-widgets/controls",
            "children": [
              "IPY_MODEL_e38db60c3ccc40e8ac7849dc5d77e877",
              "IPY_MODEL_481013a215724483b7ee5e6e88283b26"
            ]
          }
        },
        "a8c2f1f07637455db0d08cfe5f63a539": {
          "model_module": "@jupyter-widgets/base",
          "model_name": "LayoutModel",
          "state": {
            "_view_name": "LayoutView",
            "grid_template_rows": null,
            "right": null,
            "justify_content": null,
            "_view_module": "@jupyter-widgets/base",
            "overflow": null,
            "_model_module_version": "1.2.0",
            "_view_count": null,
            "flex_flow": null,
            "width": null,
            "min_width": null,
            "border": null,
            "align_items": null,
            "bottom": null,
            "_model_module": "@jupyter-widgets/base",
            "top": null,
            "grid_column": null,
            "overflow_y": null,
            "overflow_x": null,
            "grid_auto_flow": null,
            "grid_area": null,
            "grid_template_columns": null,
            "flex": null,
            "_model_name": "LayoutModel",
            "justify_items": null,
            "grid_row": null,
            "max_height": null,
            "align_content": null,
            "visibility": null,
            "align_self": null,
            "height": null,
            "min_height": null,
            "padding": null,
            "grid_auto_rows": null,
            "grid_gap": null,
            "max_width": null,
            "order": null,
            "_view_module_version": "1.2.0",
            "grid_template_areas": null,
            "object_position": null,
            "object_fit": null,
            "grid_auto_columns": null,
            "margin": null,
            "display": null,
            "left": null
          }
        },
        "e38db60c3ccc40e8ac7849dc5d77e877": {
          "model_module": "@jupyter-widgets/controls",
          "model_name": "FloatProgressModel",
          "state": {
            "_view_name": "ProgressView",
            "style": "IPY_MODEL_49ec9d835e424d1c98986c175158ba30",
            "_dom_classes": [],
            "description": "100%",
            "_model_name": "FloatProgressModel",
            "bar_style": "",
            "max": 36,
            "_view_module": "@jupyter-widgets/controls",
            "_model_module_version": "1.5.0",
            "value": 36,
            "_view_count": null,
            "_view_module_version": "1.5.0",
            "orientation": "horizontal",
            "min": 0,
            "description_tooltip": null,
            "_model_module": "@jupyter-widgets/controls",
            "layout": "IPY_MODEL_42223a15183b433cbdac7e30f7eae82a"
          }
        },
        "481013a215724483b7ee5e6e88283b26": {
          "model_module": "@jupyter-widgets/controls",
          "model_name": "HTMLModel",
          "state": {
            "_view_name": "HTMLView",
            "style": "IPY_MODEL_f756f89e84f94d43842d5f05c69d5ac9",
            "_dom_classes": [],
            "description": "",
            "_model_name": "HTMLModel",
            "placeholder": "​",
            "_view_module": "@jupyter-widgets/controls",
            "_model_module_version": "1.5.0",
            "value": " 36/36 [01:39&lt;00:00,  2.37s/it]",
            "_view_count": null,
            "_view_module_version": "1.5.0",
            "description_tooltip": null,
            "_model_module": "@jupyter-widgets/controls",
            "layout": "IPY_MODEL_8d13514154394e728f3726dd9c05c4c2"
          }
        },
        "49ec9d835e424d1c98986c175158ba30": {
          "model_module": "@jupyter-widgets/controls",
          "model_name": "ProgressStyleModel",
          "state": {
            "_view_name": "StyleView",
            "_model_name": "ProgressStyleModel",
            "description_width": "initial",
            "_view_module": "@jupyter-widgets/base",
            "_model_module_version": "1.5.0",
            "_view_count": null,
            "_view_module_version": "1.2.0",
            "bar_color": null,
            "_model_module": "@jupyter-widgets/controls"
          }
        },
        "42223a15183b433cbdac7e30f7eae82a": {
          "model_module": "@jupyter-widgets/base",
          "model_name": "LayoutModel",
          "state": {
            "_view_name": "LayoutView",
            "grid_template_rows": null,
            "right": null,
            "justify_content": null,
            "_view_module": "@jupyter-widgets/base",
            "overflow": null,
            "_model_module_version": "1.2.0",
            "_view_count": null,
            "flex_flow": null,
            "width": null,
            "min_width": null,
            "border": null,
            "align_items": null,
            "bottom": null,
            "_model_module": "@jupyter-widgets/base",
            "top": null,
            "grid_column": null,
            "overflow_y": null,
            "overflow_x": null,
            "grid_auto_flow": null,
            "grid_area": null,
            "grid_template_columns": null,
            "flex": null,
            "_model_name": "LayoutModel",
            "justify_items": null,
            "grid_row": null,
            "max_height": null,
            "align_content": null,
            "visibility": null,
            "align_self": null,
            "height": null,
            "min_height": null,
            "padding": null,
            "grid_auto_rows": null,
            "grid_gap": null,
            "max_width": null,
            "order": null,
            "_view_module_version": "1.2.0",
            "grid_template_areas": null,
            "object_position": null,
            "object_fit": null,
            "grid_auto_columns": null,
            "margin": null,
            "display": null,
            "left": null
          }
        },
        "f756f89e84f94d43842d5f05c69d5ac9": {
          "model_module": "@jupyter-widgets/controls",
          "model_name": "DescriptionStyleModel",
          "state": {
            "_view_name": "StyleView",
            "_model_name": "DescriptionStyleModel",
            "description_width": "",
            "_view_module": "@jupyter-widgets/base",
            "_model_module_version": "1.5.0",
            "_view_count": null,
            "_view_module_version": "1.2.0",
            "_model_module": "@jupyter-widgets/controls"
          }
        },
        "8d13514154394e728f3726dd9c05c4c2": {
          "model_module": "@jupyter-widgets/base",
          "model_name": "LayoutModel",
          "state": {
            "_view_name": "LayoutView",
            "grid_template_rows": null,
            "right": null,
            "justify_content": null,
            "_view_module": "@jupyter-widgets/base",
            "overflow": null,
            "_model_module_version": "1.2.0",
            "_view_count": null,
            "flex_flow": null,
            "width": null,
            "min_width": null,
            "border": null,
            "align_items": null,
            "bottom": null,
            "_model_module": "@jupyter-widgets/base",
            "top": null,
            "grid_column": null,
            "overflow_y": null,
            "overflow_x": null,
            "grid_auto_flow": null,
            "grid_area": null,
            "grid_template_columns": null,
            "flex": null,
            "_model_name": "LayoutModel",
            "justify_items": null,
            "grid_row": null,
            "max_height": null,
            "align_content": null,
            "visibility": null,
            "align_self": null,
            "height": null,
            "min_height": null,
            "padding": null,
            "grid_auto_rows": null,
            "grid_gap": null,
            "max_width": null,
            "order": null,
            "_view_module_version": "1.2.0",
            "grid_template_areas": null,
            "object_position": null,
            "object_fit": null,
            "grid_auto_columns": null,
            "margin": null,
            "display": null,
            "left": null
          }
        },
        "0c497a8af6df424ab5f40455e9f53bbf": {
          "model_module": "@jupyter-widgets/controls",
          "model_name": "HBoxModel",
          "state": {
            "_view_name": "HBoxView",
            "_dom_classes": [],
            "_model_name": "HBoxModel",
            "_view_module": "@jupyter-widgets/controls",
            "_model_module_version": "1.5.0",
            "_view_count": null,
            "_view_module_version": "1.5.0",
            "box_style": "",
            "layout": "IPY_MODEL_fa5ec851cd9d434ea0cf6b54e2915ccd",
            "_model_module": "@jupyter-widgets/controls",
            "children": [
              "IPY_MODEL_a34950331e09446a8701d1f6988f5daf",
              "IPY_MODEL_90093abec5c44a6e8a333c7505f6d5b4"
            ]
          }
        },
        "fa5ec851cd9d434ea0cf6b54e2915ccd": {
          "model_module": "@jupyter-widgets/base",
          "model_name": "LayoutModel",
          "state": {
            "_view_name": "LayoutView",
            "grid_template_rows": null,
            "right": null,
            "justify_content": null,
            "_view_module": "@jupyter-widgets/base",
            "overflow": null,
            "_model_module_version": "1.2.0",
            "_view_count": null,
            "flex_flow": null,
            "width": null,
            "min_width": null,
            "border": null,
            "align_items": null,
            "bottom": null,
            "_model_module": "@jupyter-widgets/base",
            "top": null,
            "grid_column": null,
            "overflow_y": null,
            "overflow_x": null,
            "grid_auto_flow": null,
            "grid_area": null,
            "grid_template_columns": null,
            "flex": null,
            "_model_name": "LayoutModel",
            "justify_items": null,
            "grid_row": null,
            "max_height": null,
            "align_content": null,
            "visibility": null,
            "align_self": null,
            "height": null,
            "min_height": null,
            "padding": null,
            "grid_auto_rows": null,
            "grid_gap": null,
            "max_width": null,
            "order": null,
            "_view_module_version": "1.2.0",
            "grid_template_areas": null,
            "object_position": null,
            "object_fit": null,
            "grid_auto_columns": null,
            "margin": null,
            "display": null,
            "left": null
          }
        },
        "a34950331e09446a8701d1f6988f5daf": {
          "model_module": "@jupyter-widgets/controls",
          "model_name": "FloatProgressModel",
          "state": {
            "_view_name": "ProgressView",
            "style": "IPY_MODEL_fd329a6f7fc94373a32360ad6d10ff23",
            "_dom_classes": [],
            "description": "100%",
            "_model_name": "FloatProgressModel",
            "bar_style": "",
            "max": 36,
            "_view_module": "@jupyter-widgets/controls",
            "_model_module_version": "1.5.0",
            "value": 36,
            "_view_count": null,
            "_view_module_version": "1.5.0",
            "orientation": "horizontal",
            "min": 0,
            "description_tooltip": null,
            "_model_module": "@jupyter-widgets/controls",
            "layout": "IPY_MODEL_bf884bb104bb4cfa881778c3a6a4ac9c"
          }
        },
        "90093abec5c44a6e8a333c7505f6d5b4": {
          "model_module": "@jupyter-widgets/controls",
          "model_name": "HTMLModel",
          "state": {
            "_view_name": "HTMLView",
            "style": "IPY_MODEL_21804c2ec1264b1495dbfd12e58b0902",
            "_dom_classes": [],
            "description": "",
            "_model_name": "HTMLModel",
            "placeholder": "​",
            "_view_module": "@jupyter-widgets/controls",
            "_model_module_version": "1.5.0",
            "value": " 36/36 [01:39&lt;00:00,  2.33s/it]",
            "_view_count": null,
            "_view_module_version": "1.5.0",
            "description_tooltip": null,
            "_model_module": "@jupyter-widgets/controls",
            "layout": "IPY_MODEL_1c284f2115b14986bc49d0442b2f6937"
          }
        },
        "fd329a6f7fc94373a32360ad6d10ff23": {
          "model_module": "@jupyter-widgets/controls",
          "model_name": "ProgressStyleModel",
          "state": {
            "_view_name": "StyleView",
            "_model_name": "ProgressStyleModel",
            "description_width": "initial",
            "_view_module": "@jupyter-widgets/base",
            "_model_module_version": "1.5.0",
            "_view_count": null,
            "_view_module_version": "1.2.0",
            "bar_color": null,
            "_model_module": "@jupyter-widgets/controls"
          }
        },
        "bf884bb104bb4cfa881778c3a6a4ac9c": {
          "model_module": "@jupyter-widgets/base",
          "model_name": "LayoutModel",
          "state": {
            "_view_name": "LayoutView",
            "grid_template_rows": null,
            "right": null,
            "justify_content": null,
            "_view_module": "@jupyter-widgets/base",
            "overflow": null,
            "_model_module_version": "1.2.0",
            "_view_count": null,
            "flex_flow": null,
            "width": null,
            "min_width": null,
            "border": null,
            "align_items": null,
            "bottom": null,
            "_model_module": "@jupyter-widgets/base",
            "top": null,
            "grid_column": null,
            "overflow_y": null,
            "overflow_x": null,
            "grid_auto_flow": null,
            "grid_area": null,
            "grid_template_columns": null,
            "flex": null,
            "_model_name": "LayoutModel",
            "justify_items": null,
            "grid_row": null,
            "max_height": null,
            "align_content": null,
            "visibility": null,
            "align_self": null,
            "height": null,
            "min_height": null,
            "padding": null,
            "grid_auto_rows": null,
            "grid_gap": null,
            "max_width": null,
            "order": null,
            "_view_module_version": "1.2.0",
            "grid_template_areas": null,
            "object_position": null,
            "object_fit": null,
            "grid_auto_columns": null,
            "margin": null,
            "display": null,
            "left": null
          }
        },
        "21804c2ec1264b1495dbfd12e58b0902": {
          "model_module": "@jupyter-widgets/controls",
          "model_name": "DescriptionStyleModel",
          "state": {
            "_view_name": "StyleView",
            "_model_name": "DescriptionStyleModel",
            "description_width": "",
            "_view_module": "@jupyter-widgets/base",
            "_model_module_version": "1.5.0",
            "_view_count": null,
            "_view_module_version": "1.2.0",
            "_model_module": "@jupyter-widgets/controls"
          }
        },
        "1c284f2115b14986bc49d0442b2f6937": {
          "model_module": "@jupyter-widgets/base",
          "model_name": "LayoutModel",
          "state": {
            "_view_name": "LayoutView",
            "grid_template_rows": null,
            "right": null,
            "justify_content": null,
            "_view_module": "@jupyter-widgets/base",
            "overflow": null,
            "_model_module_version": "1.2.0",
            "_view_count": null,
            "flex_flow": null,
            "width": null,
            "min_width": null,
            "border": null,
            "align_items": null,
            "bottom": null,
            "_model_module": "@jupyter-widgets/base",
            "top": null,
            "grid_column": null,
            "overflow_y": null,
            "overflow_x": null,
            "grid_auto_flow": null,
            "grid_area": null,
            "grid_template_columns": null,
            "flex": null,
            "_model_name": "LayoutModel",
            "justify_items": null,
            "grid_row": null,
            "max_height": null,
            "align_content": null,
            "visibility": null,
            "align_self": null,
            "height": null,
            "min_height": null,
            "padding": null,
            "grid_auto_rows": null,
            "grid_gap": null,
            "max_width": null,
            "order": null,
            "_view_module_version": "1.2.0",
            "grid_template_areas": null,
            "object_position": null,
            "object_fit": null,
            "grid_auto_columns": null,
            "margin": null,
            "display": null,
            "left": null
          }
        },
        "2f0eef6541a64d11a43197ccc8ff31ad": {
          "model_module": "@jupyter-widgets/controls",
          "model_name": "HBoxModel",
          "state": {
            "_view_name": "HBoxView",
            "_dom_classes": [],
            "_model_name": "HBoxModel",
            "_view_module": "@jupyter-widgets/controls",
            "_model_module_version": "1.5.0",
            "_view_count": null,
            "_view_module_version": "1.5.0",
            "box_style": "",
            "layout": "IPY_MODEL_c54ccddb21ab4b7088de1ca6a26a4389",
            "_model_module": "@jupyter-widgets/controls",
            "children": [
              "IPY_MODEL_a4853a2103fb4944aa9aac74e5bbb4d2",
              "IPY_MODEL_0c9a4bade7574152bc14b58423919545"
            ]
          }
        },
        "c54ccddb21ab4b7088de1ca6a26a4389": {
          "model_module": "@jupyter-widgets/base",
          "model_name": "LayoutModel",
          "state": {
            "_view_name": "LayoutView",
            "grid_template_rows": null,
            "right": null,
            "justify_content": null,
            "_view_module": "@jupyter-widgets/base",
            "overflow": null,
            "_model_module_version": "1.2.0",
            "_view_count": null,
            "flex_flow": null,
            "width": null,
            "min_width": null,
            "border": null,
            "align_items": null,
            "bottom": null,
            "_model_module": "@jupyter-widgets/base",
            "top": null,
            "grid_column": null,
            "overflow_y": null,
            "overflow_x": null,
            "grid_auto_flow": null,
            "grid_area": null,
            "grid_template_columns": null,
            "flex": null,
            "_model_name": "LayoutModel",
            "justify_items": null,
            "grid_row": null,
            "max_height": null,
            "align_content": null,
            "visibility": null,
            "align_self": null,
            "height": null,
            "min_height": null,
            "padding": null,
            "grid_auto_rows": null,
            "grid_gap": null,
            "max_width": null,
            "order": null,
            "_view_module_version": "1.2.0",
            "grid_template_areas": null,
            "object_position": null,
            "object_fit": null,
            "grid_auto_columns": null,
            "margin": null,
            "display": null,
            "left": null
          }
        },
        "a4853a2103fb4944aa9aac74e5bbb4d2": {
          "model_module": "@jupyter-widgets/controls",
          "model_name": "FloatProgressModel",
          "state": {
            "_view_name": "ProgressView",
            "style": "IPY_MODEL_572692f012a84c7faa1ae8eb76cbb76f",
            "_dom_classes": [],
            "description": "100%",
            "_model_name": "FloatProgressModel",
            "bar_style": "",
            "max": 36,
            "_view_module": "@jupyter-widgets/controls",
            "_model_module_version": "1.5.0",
            "value": 36,
            "_view_count": null,
            "_view_module_version": "1.5.0",
            "orientation": "horizontal",
            "min": 0,
            "description_tooltip": null,
            "_model_module": "@jupyter-widgets/controls",
            "layout": "IPY_MODEL_2e64adeba62b44eab9d56ebb15cf419a"
          }
        },
        "0c9a4bade7574152bc14b58423919545": {
          "model_module": "@jupyter-widgets/controls",
          "model_name": "HTMLModel",
          "state": {
            "_view_name": "HTMLView",
            "style": "IPY_MODEL_c2f0665826974621b70c5389aa4fd8fa",
            "_dom_classes": [],
            "description": "",
            "_model_name": "HTMLModel",
            "placeholder": "​",
            "_view_module": "@jupyter-widgets/controls",
            "_model_module_version": "1.5.0",
            "value": " 36/36 [01:39&lt;00:00,  2.34s/it]",
            "_view_count": null,
            "_view_module_version": "1.5.0",
            "description_tooltip": null,
            "_model_module": "@jupyter-widgets/controls",
            "layout": "IPY_MODEL_4a46c5dc4272444e811f1844688d466f"
          }
        },
        "572692f012a84c7faa1ae8eb76cbb76f": {
          "model_module": "@jupyter-widgets/controls",
          "model_name": "ProgressStyleModel",
          "state": {
            "_view_name": "StyleView",
            "_model_name": "ProgressStyleModel",
            "description_width": "initial",
            "_view_module": "@jupyter-widgets/base",
            "_model_module_version": "1.5.0",
            "_view_count": null,
            "_view_module_version": "1.2.0",
            "bar_color": null,
            "_model_module": "@jupyter-widgets/controls"
          }
        },
        "2e64adeba62b44eab9d56ebb15cf419a": {
          "model_module": "@jupyter-widgets/base",
          "model_name": "LayoutModel",
          "state": {
            "_view_name": "LayoutView",
            "grid_template_rows": null,
            "right": null,
            "justify_content": null,
            "_view_module": "@jupyter-widgets/base",
            "overflow": null,
            "_model_module_version": "1.2.0",
            "_view_count": null,
            "flex_flow": null,
            "width": null,
            "min_width": null,
            "border": null,
            "align_items": null,
            "bottom": null,
            "_model_module": "@jupyter-widgets/base",
            "top": null,
            "grid_column": null,
            "overflow_y": null,
            "overflow_x": null,
            "grid_auto_flow": null,
            "grid_area": null,
            "grid_template_columns": null,
            "flex": null,
            "_model_name": "LayoutModel",
            "justify_items": null,
            "grid_row": null,
            "max_height": null,
            "align_content": null,
            "visibility": null,
            "align_self": null,
            "height": null,
            "min_height": null,
            "padding": null,
            "grid_auto_rows": null,
            "grid_gap": null,
            "max_width": null,
            "order": null,
            "_view_module_version": "1.2.0",
            "grid_template_areas": null,
            "object_position": null,
            "object_fit": null,
            "grid_auto_columns": null,
            "margin": null,
            "display": null,
            "left": null
          }
        },
        "c2f0665826974621b70c5389aa4fd8fa": {
          "model_module": "@jupyter-widgets/controls",
          "model_name": "DescriptionStyleModel",
          "state": {
            "_view_name": "StyleView",
            "_model_name": "DescriptionStyleModel",
            "description_width": "",
            "_view_module": "@jupyter-widgets/base",
            "_model_module_version": "1.5.0",
            "_view_count": null,
            "_view_module_version": "1.2.0",
            "_model_module": "@jupyter-widgets/controls"
          }
        },
        "4a46c5dc4272444e811f1844688d466f": {
          "model_module": "@jupyter-widgets/base",
          "model_name": "LayoutModel",
          "state": {
            "_view_name": "LayoutView",
            "grid_template_rows": null,
            "right": null,
            "justify_content": null,
            "_view_module": "@jupyter-widgets/base",
            "overflow": null,
            "_model_module_version": "1.2.0",
            "_view_count": null,
            "flex_flow": null,
            "width": null,
            "min_width": null,
            "border": null,
            "align_items": null,
            "bottom": null,
            "_model_module": "@jupyter-widgets/base",
            "top": null,
            "grid_column": null,
            "overflow_y": null,
            "overflow_x": null,
            "grid_auto_flow": null,
            "grid_area": null,
            "grid_template_columns": null,
            "flex": null,
            "_model_name": "LayoutModel",
            "justify_items": null,
            "grid_row": null,
            "max_height": null,
            "align_content": null,
            "visibility": null,
            "align_self": null,
            "height": null,
            "min_height": null,
            "padding": null,
            "grid_auto_rows": null,
            "grid_gap": null,
            "max_width": null,
            "order": null,
            "_view_module_version": "1.2.0",
            "grid_template_areas": null,
            "object_position": null,
            "object_fit": null,
            "grid_auto_columns": null,
            "margin": null,
            "display": null,
            "left": null
          }
        },
        "7890bf41fe2f4d3d94dbf005e0fde88c": {
          "model_module": "@jupyter-widgets/controls",
          "model_name": "HBoxModel",
          "state": {
            "_view_name": "HBoxView",
            "_dom_classes": [],
            "_model_name": "HBoxModel",
            "_view_module": "@jupyter-widgets/controls",
            "_model_module_version": "1.5.0",
            "_view_count": null,
            "_view_module_version": "1.5.0",
            "box_style": "",
            "layout": "IPY_MODEL_b83ec062cae147898b563fb6dd8f7fea",
            "_model_module": "@jupyter-widgets/controls",
            "children": [
              "IPY_MODEL_74cf9176fdc2443288ff35e4d313ca95",
              "IPY_MODEL_cec2171442e8484aaed837341dfb438f"
            ]
          }
        },
        "b83ec062cae147898b563fb6dd8f7fea": {
          "model_module": "@jupyter-widgets/base",
          "model_name": "LayoutModel",
          "state": {
            "_view_name": "LayoutView",
            "grid_template_rows": null,
            "right": null,
            "justify_content": null,
            "_view_module": "@jupyter-widgets/base",
            "overflow": null,
            "_model_module_version": "1.2.0",
            "_view_count": null,
            "flex_flow": null,
            "width": null,
            "min_width": null,
            "border": null,
            "align_items": null,
            "bottom": null,
            "_model_module": "@jupyter-widgets/base",
            "top": null,
            "grid_column": null,
            "overflow_y": null,
            "overflow_x": null,
            "grid_auto_flow": null,
            "grid_area": null,
            "grid_template_columns": null,
            "flex": null,
            "_model_name": "LayoutModel",
            "justify_items": null,
            "grid_row": null,
            "max_height": null,
            "align_content": null,
            "visibility": null,
            "align_self": null,
            "height": null,
            "min_height": null,
            "padding": null,
            "grid_auto_rows": null,
            "grid_gap": null,
            "max_width": null,
            "order": null,
            "_view_module_version": "1.2.0",
            "grid_template_areas": null,
            "object_position": null,
            "object_fit": null,
            "grid_auto_columns": null,
            "margin": null,
            "display": null,
            "left": null
          }
        },
        "74cf9176fdc2443288ff35e4d313ca95": {
          "model_module": "@jupyter-widgets/controls",
          "model_name": "FloatProgressModel",
          "state": {
            "_view_name": "ProgressView",
            "style": "IPY_MODEL_2b486cdde2004f73809a257f25c41024",
            "_dom_classes": [],
            "description": "100%",
            "_model_name": "FloatProgressModel",
            "bar_style": "",
            "max": 36,
            "_view_module": "@jupyter-widgets/controls",
            "_model_module_version": "1.5.0",
            "value": 36,
            "_view_count": null,
            "_view_module_version": "1.5.0",
            "orientation": "horizontal",
            "min": 0,
            "description_tooltip": null,
            "_model_module": "@jupyter-widgets/controls",
            "layout": "IPY_MODEL_41e1c8a7e9ef47e5b548e7a3eb246f8b"
          }
        },
        "cec2171442e8484aaed837341dfb438f": {
          "model_module": "@jupyter-widgets/controls",
          "model_name": "HTMLModel",
          "state": {
            "_view_name": "HTMLView",
            "style": "IPY_MODEL_476b1b2926af4066b619ee06502c55db",
            "_dom_classes": [],
            "description": "",
            "_model_name": "HTMLModel",
            "placeholder": "​",
            "_view_module": "@jupyter-widgets/controls",
            "_model_module_version": "1.5.0",
            "value": " 36/36 [01:39&lt;00:00,  2.35s/it]",
            "_view_count": null,
            "_view_module_version": "1.5.0",
            "description_tooltip": null,
            "_model_module": "@jupyter-widgets/controls",
            "layout": "IPY_MODEL_4f9fef115a654020b2c0bceaa6dd84fc"
          }
        },
        "2b486cdde2004f73809a257f25c41024": {
          "model_module": "@jupyter-widgets/controls",
          "model_name": "ProgressStyleModel",
          "state": {
            "_view_name": "StyleView",
            "_model_name": "ProgressStyleModel",
            "description_width": "initial",
            "_view_module": "@jupyter-widgets/base",
            "_model_module_version": "1.5.0",
            "_view_count": null,
            "_view_module_version": "1.2.0",
            "bar_color": null,
            "_model_module": "@jupyter-widgets/controls"
          }
        },
        "41e1c8a7e9ef47e5b548e7a3eb246f8b": {
          "model_module": "@jupyter-widgets/base",
          "model_name": "LayoutModel",
          "state": {
            "_view_name": "LayoutView",
            "grid_template_rows": null,
            "right": null,
            "justify_content": null,
            "_view_module": "@jupyter-widgets/base",
            "overflow": null,
            "_model_module_version": "1.2.0",
            "_view_count": null,
            "flex_flow": null,
            "width": null,
            "min_width": null,
            "border": null,
            "align_items": null,
            "bottom": null,
            "_model_module": "@jupyter-widgets/base",
            "top": null,
            "grid_column": null,
            "overflow_y": null,
            "overflow_x": null,
            "grid_auto_flow": null,
            "grid_area": null,
            "grid_template_columns": null,
            "flex": null,
            "_model_name": "LayoutModel",
            "justify_items": null,
            "grid_row": null,
            "max_height": null,
            "align_content": null,
            "visibility": null,
            "align_self": null,
            "height": null,
            "min_height": null,
            "padding": null,
            "grid_auto_rows": null,
            "grid_gap": null,
            "max_width": null,
            "order": null,
            "_view_module_version": "1.2.0",
            "grid_template_areas": null,
            "object_position": null,
            "object_fit": null,
            "grid_auto_columns": null,
            "margin": null,
            "display": null,
            "left": null
          }
        },
        "476b1b2926af4066b619ee06502c55db": {
          "model_module": "@jupyter-widgets/controls",
          "model_name": "DescriptionStyleModel",
          "state": {
            "_view_name": "StyleView",
            "_model_name": "DescriptionStyleModel",
            "description_width": "",
            "_view_module": "@jupyter-widgets/base",
            "_model_module_version": "1.5.0",
            "_view_count": null,
            "_view_module_version": "1.2.0",
            "_model_module": "@jupyter-widgets/controls"
          }
        },
        "4f9fef115a654020b2c0bceaa6dd84fc": {
          "model_module": "@jupyter-widgets/base",
          "model_name": "LayoutModel",
          "state": {
            "_view_name": "LayoutView",
            "grid_template_rows": null,
            "right": null,
            "justify_content": null,
            "_view_module": "@jupyter-widgets/base",
            "overflow": null,
            "_model_module_version": "1.2.0",
            "_view_count": null,
            "flex_flow": null,
            "width": null,
            "min_width": null,
            "border": null,
            "align_items": null,
            "bottom": null,
            "_model_module": "@jupyter-widgets/base",
            "top": null,
            "grid_column": null,
            "overflow_y": null,
            "overflow_x": null,
            "grid_auto_flow": null,
            "grid_area": null,
            "grid_template_columns": null,
            "flex": null,
            "_model_name": "LayoutModel",
            "justify_items": null,
            "grid_row": null,
            "max_height": null,
            "align_content": null,
            "visibility": null,
            "align_self": null,
            "height": null,
            "min_height": null,
            "padding": null,
            "grid_auto_rows": null,
            "grid_gap": null,
            "max_width": null,
            "order": null,
            "_view_module_version": "1.2.0",
            "grid_template_areas": null,
            "object_position": null,
            "object_fit": null,
            "grid_auto_columns": null,
            "margin": null,
            "display": null,
            "left": null
          }
        },
        "b0ad73cfd29142d3808ec65953d75228": {
          "model_module": "@jupyter-widgets/controls",
          "model_name": "HBoxModel",
          "state": {
            "_view_name": "HBoxView",
            "_dom_classes": [],
            "_model_name": "HBoxModel",
            "_view_module": "@jupyter-widgets/controls",
            "_model_module_version": "1.5.0",
            "_view_count": null,
            "_view_module_version": "1.5.0",
            "box_style": "",
            "layout": "IPY_MODEL_01e798f328f247ac982582e02bf34766",
            "_model_module": "@jupyter-widgets/controls",
            "children": [
              "IPY_MODEL_67be5820b1ea454e88fd4896006a5654",
              "IPY_MODEL_aca386f7771841db92221b965fe170f6"
            ]
          }
        },
        "01e798f328f247ac982582e02bf34766": {
          "model_module": "@jupyter-widgets/base",
          "model_name": "LayoutModel",
          "state": {
            "_view_name": "LayoutView",
            "grid_template_rows": null,
            "right": null,
            "justify_content": null,
            "_view_module": "@jupyter-widgets/base",
            "overflow": null,
            "_model_module_version": "1.2.0",
            "_view_count": null,
            "flex_flow": null,
            "width": null,
            "min_width": null,
            "border": null,
            "align_items": null,
            "bottom": null,
            "_model_module": "@jupyter-widgets/base",
            "top": null,
            "grid_column": null,
            "overflow_y": null,
            "overflow_x": null,
            "grid_auto_flow": null,
            "grid_area": null,
            "grid_template_columns": null,
            "flex": null,
            "_model_name": "LayoutModel",
            "justify_items": null,
            "grid_row": null,
            "max_height": null,
            "align_content": null,
            "visibility": null,
            "align_self": null,
            "height": null,
            "min_height": null,
            "padding": null,
            "grid_auto_rows": null,
            "grid_gap": null,
            "max_width": null,
            "order": null,
            "_view_module_version": "1.2.0",
            "grid_template_areas": null,
            "object_position": null,
            "object_fit": null,
            "grid_auto_columns": null,
            "margin": null,
            "display": null,
            "left": null
          }
        },
        "67be5820b1ea454e88fd4896006a5654": {
          "model_module": "@jupyter-widgets/controls",
          "model_name": "FloatProgressModel",
          "state": {
            "_view_name": "ProgressView",
            "style": "IPY_MODEL_b2727adf52ff48b9b0798d5bb2aa42f8",
            "_dom_classes": [],
            "description": "100%",
            "_model_name": "FloatProgressModel",
            "bar_style": "",
            "max": 36,
            "_view_module": "@jupyter-widgets/controls",
            "_model_module_version": "1.5.0",
            "value": 36,
            "_view_count": null,
            "_view_module_version": "1.5.0",
            "orientation": "horizontal",
            "min": 0,
            "description_tooltip": null,
            "_model_module": "@jupyter-widgets/controls",
            "layout": "IPY_MODEL_1a2cb1176ee94737a272a2d4abf67be0"
          }
        },
        "aca386f7771841db92221b965fe170f6": {
          "model_module": "@jupyter-widgets/controls",
          "model_name": "HTMLModel",
          "state": {
            "_view_name": "HTMLView",
            "style": "IPY_MODEL_73ce48c91b6e4488b605ecbcf38a1ad4",
            "_dom_classes": [],
            "description": "",
            "_model_name": "HTMLModel",
            "placeholder": "​",
            "_view_module": "@jupyter-widgets/controls",
            "_model_module_version": "1.5.0",
            "value": " 36/36 [01:39&lt;00:00,  2.37s/it]",
            "_view_count": null,
            "_view_module_version": "1.5.0",
            "description_tooltip": null,
            "_model_module": "@jupyter-widgets/controls",
            "layout": "IPY_MODEL_2334a2747acd4baf826f63c6648999b7"
          }
        },
        "b2727adf52ff48b9b0798d5bb2aa42f8": {
          "model_module": "@jupyter-widgets/controls",
          "model_name": "ProgressStyleModel",
          "state": {
            "_view_name": "StyleView",
            "_model_name": "ProgressStyleModel",
            "description_width": "initial",
            "_view_module": "@jupyter-widgets/base",
            "_model_module_version": "1.5.0",
            "_view_count": null,
            "_view_module_version": "1.2.0",
            "bar_color": null,
            "_model_module": "@jupyter-widgets/controls"
          }
        },
        "1a2cb1176ee94737a272a2d4abf67be0": {
          "model_module": "@jupyter-widgets/base",
          "model_name": "LayoutModel",
          "state": {
            "_view_name": "LayoutView",
            "grid_template_rows": null,
            "right": null,
            "justify_content": null,
            "_view_module": "@jupyter-widgets/base",
            "overflow": null,
            "_model_module_version": "1.2.0",
            "_view_count": null,
            "flex_flow": null,
            "width": null,
            "min_width": null,
            "border": null,
            "align_items": null,
            "bottom": null,
            "_model_module": "@jupyter-widgets/base",
            "top": null,
            "grid_column": null,
            "overflow_y": null,
            "overflow_x": null,
            "grid_auto_flow": null,
            "grid_area": null,
            "grid_template_columns": null,
            "flex": null,
            "_model_name": "LayoutModel",
            "justify_items": null,
            "grid_row": null,
            "max_height": null,
            "align_content": null,
            "visibility": null,
            "align_self": null,
            "height": null,
            "min_height": null,
            "padding": null,
            "grid_auto_rows": null,
            "grid_gap": null,
            "max_width": null,
            "order": null,
            "_view_module_version": "1.2.0",
            "grid_template_areas": null,
            "object_position": null,
            "object_fit": null,
            "grid_auto_columns": null,
            "margin": null,
            "display": null,
            "left": null
          }
        },
        "73ce48c91b6e4488b605ecbcf38a1ad4": {
          "model_module": "@jupyter-widgets/controls",
          "model_name": "DescriptionStyleModel",
          "state": {
            "_view_name": "StyleView",
            "_model_name": "DescriptionStyleModel",
            "description_width": "",
            "_view_module": "@jupyter-widgets/base",
            "_model_module_version": "1.5.0",
            "_view_count": null,
            "_view_module_version": "1.2.0",
            "_model_module": "@jupyter-widgets/controls"
          }
        },
        "2334a2747acd4baf826f63c6648999b7": {
          "model_module": "@jupyter-widgets/base",
          "model_name": "LayoutModel",
          "state": {
            "_view_name": "LayoutView",
            "grid_template_rows": null,
            "right": null,
            "justify_content": null,
            "_view_module": "@jupyter-widgets/base",
            "overflow": null,
            "_model_module_version": "1.2.0",
            "_view_count": null,
            "flex_flow": null,
            "width": null,
            "min_width": null,
            "border": null,
            "align_items": null,
            "bottom": null,
            "_model_module": "@jupyter-widgets/base",
            "top": null,
            "grid_column": null,
            "overflow_y": null,
            "overflow_x": null,
            "grid_auto_flow": null,
            "grid_area": null,
            "grid_template_columns": null,
            "flex": null,
            "_model_name": "LayoutModel",
            "justify_items": null,
            "grid_row": null,
            "max_height": null,
            "align_content": null,
            "visibility": null,
            "align_self": null,
            "height": null,
            "min_height": null,
            "padding": null,
            "grid_auto_rows": null,
            "grid_gap": null,
            "max_width": null,
            "order": null,
            "_view_module_version": "1.2.0",
            "grid_template_areas": null,
            "object_position": null,
            "object_fit": null,
            "grid_auto_columns": null,
            "margin": null,
            "display": null,
            "left": null
          }
        },
        "134d2b36b6954894aae4a81e8fd009e1": {
          "model_module": "@jupyter-widgets/controls",
          "model_name": "HBoxModel",
          "state": {
            "_view_name": "HBoxView",
            "_dom_classes": [],
            "_model_name": "HBoxModel",
            "_view_module": "@jupyter-widgets/controls",
            "_model_module_version": "1.5.0",
            "_view_count": null,
            "_view_module_version": "1.5.0",
            "box_style": "",
            "layout": "IPY_MODEL_0205007d19d14d72a6403743b1756456",
            "_model_module": "@jupyter-widgets/controls",
            "children": [
              "IPY_MODEL_80567687cf5d42f4b93256eb60d6dede",
              "IPY_MODEL_e44985ace9da4949be79c43149b9b7e9"
            ]
          }
        },
        "0205007d19d14d72a6403743b1756456": {
          "model_module": "@jupyter-widgets/base",
          "model_name": "LayoutModel",
          "state": {
            "_view_name": "LayoutView",
            "grid_template_rows": null,
            "right": null,
            "justify_content": null,
            "_view_module": "@jupyter-widgets/base",
            "overflow": null,
            "_model_module_version": "1.2.0",
            "_view_count": null,
            "flex_flow": null,
            "width": null,
            "min_width": null,
            "border": null,
            "align_items": null,
            "bottom": null,
            "_model_module": "@jupyter-widgets/base",
            "top": null,
            "grid_column": null,
            "overflow_y": null,
            "overflow_x": null,
            "grid_auto_flow": null,
            "grid_area": null,
            "grid_template_columns": null,
            "flex": null,
            "_model_name": "LayoutModel",
            "justify_items": null,
            "grid_row": null,
            "max_height": null,
            "align_content": null,
            "visibility": null,
            "align_self": null,
            "height": null,
            "min_height": null,
            "padding": null,
            "grid_auto_rows": null,
            "grid_gap": null,
            "max_width": null,
            "order": null,
            "_view_module_version": "1.2.0",
            "grid_template_areas": null,
            "object_position": null,
            "object_fit": null,
            "grid_auto_columns": null,
            "margin": null,
            "display": null,
            "left": null
          }
        },
        "80567687cf5d42f4b93256eb60d6dede": {
          "model_module": "@jupyter-widgets/controls",
          "model_name": "FloatProgressModel",
          "state": {
            "_view_name": "ProgressView",
            "style": "IPY_MODEL_2ddc5fbd539044e18f83914862711de4",
            "_dom_classes": [],
            "description": "100%",
            "_model_name": "FloatProgressModel",
            "bar_style": "success",
            "max": 73,
            "_view_module": "@jupyter-widgets/controls",
            "_model_module_version": "1.5.0",
            "value": 73,
            "_view_count": null,
            "_view_module_version": "1.5.0",
            "orientation": "horizontal",
            "min": 0,
            "description_tooltip": null,
            "_model_module": "@jupyter-widgets/controls",
            "layout": "IPY_MODEL_3b7b84258500495584571b5d06873185"
          }
        },
        "e44985ace9da4949be79c43149b9b7e9": {
          "model_module": "@jupyter-widgets/controls",
          "model_name": "HTMLModel",
          "state": {
            "_view_name": "HTMLView",
            "style": "IPY_MODEL_c003f2c8ed0c41479379a0170a2dc0cc",
            "_dom_classes": [],
            "description": "",
            "_model_name": "HTMLModel",
            "placeholder": "​",
            "_view_module": "@jupyter-widgets/controls",
            "_model_module_version": "1.5.0",
            "value": " 73/73 [01:17&lt;00:00,  1.06s/it]",
            "_view_count": null,
            "_view_module_version": "1.5.0",
            "description_tooltip": null,
            "_model_module": "@jupyter-widgets/controls",
            "layout": "IPY_MODEL_a36f835f06e447089d5099975c20c93b"
          }
        },
        "2ddc5fbd539044e18f83914862711de4": {
          "model_module": "@jupyter-widgets/controls",
          "model_name": "ProgressStyleModel",
          "state": {
            "_view_name": "StyleView",
            "_model_name": "ProgressStyleModel",
            "description_width": "initial",
            "_view_module": "@jupyter-widgets/base",
            "_model_module_version": "1.5.0",
            "_view_count": null,
            "_view_module_version": "1.2.0",
            "bar_color": null,
            "_model_module": "@jupyter-widgets/controls"
          }
        },
        "3b7b84258500495584571b5d06873185": {
          "model_module": "@jupyter-widgets/base",
          "model_name": "LayoutModel",
          "state": {
            "_view_name": "LayoutView",
            "grid_template_rows": null,
            "right": null,
            "justify_content": null,
            "_view_module": "@jupyter-widgets/base",
            "overflow": null,
            "_model_module_version": "1.2.0",
            "_view_count": null,
            "flex_flow": null,
            "width": null,
            "min_width": null,
            "border": null,
            "align_items": null,
            "bottom": null,
            "_model_module": "@jupyter-widgets/base",
            "top": null,
            "grid_column": null,
            "overflow_y": null,
            "overflow_x": null,
            "grid_auto_flow": null,
            "grid_area": null,
            "grid_template_columns": null,
            "flex": null,
            "_model_name": "LayoutModel",
            "justify_items": null,
            "grid_row": null,
            "max_height": null,
            "align_content": null,
            "visibility": null,
            "align_self": null,
            "height": null,
            "min_height": null,
            "padding": null,
            "grid_auto_rows": null,
            "grid_gap": null,
            "max_width": null,
            "order": null,
            "_view_module_version": "1.2.0",
            "grid_template_areas": null,
            "object_position": null,
            "object_fit": null,
            "grid_auto_columns": null,
            "margin": null,
            "display": null,
            "left": null
          }
        },
        "c003f2c8ed0c41479379a0170a2dc0cc": {
          "model_module": "@jupyter-widgets/controls",
          "model_name": "DescriptionStyleModel",
          "state": {
            "_view_name": "StyleView",
            "_model_name": "DescriptionStyleModel",
            "description_width": "",
            "_view_module": "@jupyter-widgets/base",
            "_model_module_version": "1.5.0",
            "_view_count": null,
            "_view_module_version": "1.2.0",
            "_model_module": "@jupyter-widgets/controls"
          }
        },
        "a36f835f06e447089d5099975c20c93b": {
          "model_module": "@jupyter-widgets/base",
          "model_name": "LayoutModel",
          "state": {
            "_view_name": "LayoutView",
            "grid_template_rows": null,
            "right": null,
            "justify_content": null,
            "_view_module": "@jupyter-widgets/base",
            "overflow": null,
            "_model_module_version": "1.2.0",
            "_view_count": null,
            "flex_flow": null,
            "width": null,
            "min_width": null,
            "border": null,
            "align_items": null,
            "bottom": null,
            "_model_module": "@jupyter-widgets/base",
            "top": null,
            "grid_column": null,
            "overflow_y": null,
            "overflow_x": null,
            "grid_auto_flow": null,
            "grid_area": null,
            "grid_template_columns": null,
            "flex": null,
            "_model_name": "LayoutModel",
            "justify_items": null,
            "grid_row": null,
            "max_height": null,
            "align_content": null,
            "visibility": null,
            "align_self": null,
            "height": null,
            "min_height": null,
            "padding": null,
            "grid_auto_rows": null,
            "grid_gap": null,
            "max_width": null,
            "order": null,
            "_view_module_version": "1.2.0",
            "grid_template_areas": null,
            "object_position": null,
            "object_fit": null,
            "grid_auto_columns": null,
            "margin": null,
            "display": null,
            "left": null
          }
        }
      }
    }
  },
  "cells": [
    {
      "cell_type": "markdown",
      "metadata": {
        "id": "4RoA7uzc6-Jj",
        "colab_type": "text"
      },
      "source": [
        "# ELMo for Aspect-Target Sentiment Classification (Russian language) - 2\n",
        "\n",
        "В этом ноутбуке мы попробуем применить модель ELMoCNN к ATSC на русском языке. Будем использовать предобученную ELMo модель от RusVectores, построенную на токенах (есть еще модель, построенная на леммах)."
      ]
    },
    {
      "cell_type": "code",
      "metadata": {
        "id": "ianAoCFMvItu",
        "colab_type": "code",
        "colab": {}
      },
      "source": [
        "# !pip install transformers\n",
        "# !pip install allennlp"
      ],
      "execution_count": 0,
      "outputs": []
    },
    {
      "cell_type": "code",
      "metadata": {
        "id": "shE3aepx6kg7",
        "colab_type": "code",
        "outputId": "9d146660-ac00-4b26-e677-19b8a6fbd9f0",
        "colab": {
          "base_uri": "https://localhost:8080/",
          "height": 72
        }
      },
      "source": [
        "import time\n",
        "import os\n",
        "import gc\n",
        "import zipfile\n",
        "import random\n",
        "from collections import defaultdict\n",
        "\n",
        "import pandas as pd\n",
        "import numpy as np\n",
        "import torch\n",
        "import gensim\n",
        "import nltk\n",
        "import spacy\n",
        "import matplotlib.pyplot as plt\n",
        "import seaborn as sns\n",
        "import bs4\n",
        "\n",
        "from tqdm.notebook import tqdm\n",
        "\n",
        "from sklearn.metrics import accuracy_score, f1_score, confusion_matrix\n",
        "from sklearn.model_selection import train_test_split\n",
        "\n",
        "import torch.nn as nn\n",
        "import torch.nn.functional as F\n",
        "import torch.optim as optim\n",
        "import torchtext\n",
        "from torch.utils.data import Dataset as TorchDataset\n",
        "from torch.utils.data import DataLoader\n",
        "\n",
        "from allennlp.modules.elmo import Elmo, batch_to_ids\n",
        "from transformers import AdamW\n",
        "\n",
        "from IPython.display import clear_output\n",
        "\n",
        "from google.colab import drive\n",
        "\n",
        "USE_GOOGLE_DRIVE = True\n",
        "\n",
        "sns.set(font_scale=1.2)"
      ],
      "execution_count": 2,
      "outputs": [
        {
          "output_type": "stream",
          "text": [
            "/usr/local/lib/python3.6/dist-packages/statsmodels/tools/_testing.py:19: FutureWarning: pandas.util.testing is deprecated. Use the functions in the public API at pandas.testing instead.\n",
            "  import pandas.util.testing as tm\n"
          ],
          "name": "stderr"
        }
      ]
    },
    {
      "cell_type": "markdown",
      "metadata": {
        "id": "s6K05cSD71kI",
        "colab_type": "text"
      },
      "source": [
        "Примонтируем наш гугл-диск, если мы решили его использовать."
      ]
    },
    {
      "cell_type": "code",
      "metadata": {
        "id": "1MBzNx9n7wtX",
        "colab_type": "code",
        "outputId": "fe64babd-f5b5-4073-83fd-bf33756834cb",
        "colab": {
          "base_uri": "https://localhost:8080/",
          "height": 34
        }
      },
      "source": [
        "if USE_GOOGLE_DRIVE:\n",
        "    drive.mount('/content/drive')\n",
        "    PATH_PREFIX = 'drive/My Drive/NLP/dialog-sent'\n",
        "else:\n",
        "    PATH_PREFIX = '..'"
      ],
      "execution_count": 3,
      "outputs": [
        {
          "output_type": "stream",
          "text": [
            "Drive already mounted at /content/drive; to attempt to forcibly remount, call drive.mount(\"/content/drive\", force_remount=True).\n"
          ],
          "name": "stdout"
        }
      ]
    },
    {
      "cell_type": "code",
      "metadata": {
        "id": "_ICV0PvCteP8",
        "colab_type": "code",
        "colab": {}
      },
      "source": [
        "DATA_PREFIX = os.path.join(PATH_PREFIX, 'data')\n",
        "MODEL_PREFIX = os.path.join(PATH_PREFIX, 'models')"
      ],
      "execution_count": 0,
      "outputs": []
    },
    {
      "cell_type": "markdown",
      "metadata": {
        "id": "d1rEg_dzCv2Z",
        "colab_type": "text"
      },
      "source": [
        "Зададим девайс для обучения."
      ]
    },
    {
      "cell_type": "code",
      "metadata": {
        "id": "ssNUbPpPCvOf",
        "colab_type": "code",
        "outputId": "fb411bb8-6b0b-43fa-9484-ebaad771e184",
        "colab": {
          "base_uri": "https://localhost:8080/",
          "height": 34
        }
      },
      "source": [
        "USE_GPU = True\n",
        "\n",
        "if USE_GPU and torch.cuda.is_available():\n",
        "    device = torch.device('cuda')\n",
        "else:\n",
        "    device = torch.device('cpu')\n",
        "\n",
        "print('using device:', device)"
      ],
      "execution_count": 5,
      "outputs": [
        {
          "output_type": "stream",
          "text": [
            "using device: cuda\n"
          ],
          "name": "stdout"
        }
      ]
    },
    {
      "cell_type": "markdown",
      "metadata": {
        "id": "yHTGiWVXC13E",
        "colab_type": "text"
      },
      "source": [
        "Проинициализируем везде генераторы случайных чисел."
      ]
    },
    {
      "cell_type": "code",
      "metadata": {
        "id": "gUC3PTVlC1JU",
        "colab_type": "code",
        "colab": {}
      },
      "source": [
        "random_seed = 42\n",
        "random_state = random_seed\n",
        "\n",
        "def set_seed_everywhere(seed, cuda):\n",
        "    random.seed(seed)\n",
        "    np.random.seed(seed)\n",
        "    torch.manual_seed(seed)\n",
        "    torch.backends.cudnn.deterministic = True\n",
        "    torch.backends.cudnn.benchmark = False\n",
        "    if cuda:\n",
        "        torch.cuda.manual_seed_all(seed)\n",
        "\n",
        "set_seed_everywhere(random_seed, USE_GPU)"
      ],
      "execution_count": 0,
      "outputs": []
    },
    {
      "cell_type": "markdown",
      "metadata": {
        "id": "IFqQNvroDFz0",
        "colab_type": "text"
      },
      "source": [
        "### Данные для русскоязычного датасета\n",
        "\n",
        "Теперь надо разобраться с данными. Мы используем отзывы о рестранах. В каждом отзыве есть т.н. аспектные термины, по которым мы должны указать тональность. В качестве примера можно привести отзыв из датасета:\n",
        "```xml\n",
        "\t<review id=\"15655\">\n",
        "\t\t<meta>\n",
        "\t\t\t<object>Roll &amp; Roll</object>\n",
        "\t\t\t<user>kazah</user>\n",
        "\t\t\t<date>29.05.2010 18:39</date>\n",
        "\t\t\t<useful>1</useful>\n",
        "\t\t</meta>\n",
        "\t\t<scores>\n",
        "\t\t\t<food>10</food>\n",
        "\t\t\t<interior>10</interior>\n",
        "\t\t\t<service>10</service>\n",
        "\t\t</scores>\n",
        "\t\t<text>Сегодня посетили этот ресторан с девушкой. Очень понравилось. Интерьер отличный, все из дерева и очень красиво! Официанты внимательны и ненавязчивы! Играет приятная музыка! \n",
        "        Что касается кухни: Остался в восторге от теплого салата с говядиной, и конечно стейк из говядины! Еще не могу не отметить крем-суп из лосося! \n",
        "        Ребята просто молодцы - очень очень вкусно! И порции &quot;достойные&quot;. В общем были приятно удивлены таким замечательным местом, обязательно придем еще, и не один раз!</text>\n",
        "\t\t<aspects>\n",
        "\t\t\t<aspect category=\"Whole\" from=\"22\" mark=\"Rel\" sentiment=\"neutral\" term=\"ресторан\" to=\"30\" type=\"explicit\"/>\n",
        "\t\t\t<aspect category=\"Interior\" from=\"62\" mark=\"Rel\" sentiment=\"positive\" term=\"Интерьер\" to=\"70\" type=\"explicit\"/>\n",
        "\t\t\t<aspect category=\"Interior\" from=\"81\" mark=\"Rel\" sentiment=\"positive\" term=\"все из дерева\" to=\"94\" type=\"fct\"/>\n",
        "\t\t\t<aspect category=\"Service\" from=\"112\" mark=\"Rel\" sentiment=\"positive\" term=\"Официанты\" to=\"121\" type=\"explicit\"/>\n",
        "\t\t\t<aspect category=\"Service\" from=\"122\" mark=\"Rel\" sentiment=\"positive\" term=\"внимательны\" to=\"133\" type=\"implicit\"/>\n",
        "\t\t\t<aspect category=\"Interior\" from=\"165\" mark=\"Rel\" sentiment=\"positive\" term=\"музыка\" to=\"171\" type=\"explicit\"/>\n",
        "\t\t\t<aspect category=\"Food\" from=\"186\" mark=\"Rel\" sentiment=\"positive\" term=\"кухни\" to=\"191\" type=\"explicit\"/>\n",
        "\t\t\t<aspect category=\"Food\" from=\"215\" mark=\"Rel\" sentiment=\"positive\" term=\"теплого салата с говядиной\" to=\"241\" type=\"explicit\"/>\n",
        "\t\t\t<aspect category=\"Food\" from=\"253\" mark=\"Rel\" sentiment=\"positive\" term=\"стейк из говядины\" to=\"270\" type=\"explicit\"/>\n",
        "\t\t\t<aspect category=\"Food\" from=\"296\" mark=\"Rel\" sentiment=\"positive\" term=\"крем-суп из лосося\" to=\"314\" type=\"explicit\"/>\n",
        "\t\t\t<aspect category=\"Food\" from=\"352\" mark=\"Rel\" sentiment=\"positive\" term=\"вкусно\" to=\"358\" type=\"implicit\"/>\n",
        "\t\t\t<aspect category=\"Food\" from=\"362\" mark=\"Rel\" sentiment=\"positive\" term=\"порции\" to=\"368\" type=\"explicit\"/>\n",
        "\t\t\t<aspect category=\"Whole\" from=\"432\" mark=\"Rel\" sentiment=\"positive\" term=\"местом\" to=\"438\" type=\"explicit\"/>\n",
        "\t\t</aspects>\n",
        "\t\t<categories>\n",
        "\t\t\t<category name=\"Food\" sentiment=\"positive\"/>\n",
        "\t\t\t<category name=\"Interior\" sentiment=\"positive\"/>\n",
        "\t\t\t<category name=\"Price\" sentiment=\"absence\"/>\n",
        "\t\t\t<category name=\"Whole\" sentiment=\"positive\"/>\n",
        "\t\t\t<category name=\"Service\" sentiment=\"positive\"/>\n",
        "\t\t</categories>\n",
        "\t</review>\n",
        "```\n",
        "Как видим, здесь весьма много аспектных терминов в отличие от англоязычного датасета. Аттрибуты from, to указывают на позицию термина в предложении.\n",
        "\n"
      ]
    },
    {
      "cell_type": "markdown",
      "metadata": {
        "id": "C6elfxM8FD2A",
        "colab_type": "text"
      },
      "source": [
        "Данные предоставлены в формате xml. Для работы с ними будем использовать beautiful soup."
      ]
    },
    {
      "cell_type": "code",
      "metadata": {
        "id": "hWs4aYnabrzk",
        "colab_type": "code",
        "colab": {}
      },
      "source": [
        "def xml2pandas(data_path):\n",
        "    \"\"\"Перевод исходного датасета в формате xml в pandas-датафрейм.\"\"\"\n",
        "    data_dict = {'sentence_id': [], 'text': [], 'term': [],\n",
        "                 'from': [], 'to': [], 'sentiment': []}\n",
        "\n",
        "    with open(data_path, 'r') as inf:\n",
        "        contents = inf.read()\n",
        "        soup = bs4.BeautifulSoup(contents, 'xml')\n",
        "        for review in soup.find_all('review'):\n",
        "            # Если нет аспектных терминов\n",
        "            if review.find('aspects') is None:\n",
        "                continue\n",
        "            terms = review.find('aspects').find_all(\n",
        "                'aspect'\n",
        "            )\n",
        "            for term in terms:\n",
        "                data_dict['term'].append(term['term'])\n",
        "                data_dict['from'].append(term['from'])\n",
        "                data_dict['to'].append(term['to'])\n",
        "                data_dict['sentiment'].append(term['sentiment'])\n",
        "\n",
        "                data_dict['sentence_id'].append(review['id'])\n",
        "                data_dict['text'].append(review.find('text').text)\n",
        "\n",
        "    data = pd.DataFrame(data_dict)\n",
        "    data['from'] = data['from'].astype(int)\n",
        "    data['to'] = data['to'].astype(int)\n",
        "    return data"
      ],
      "execution_count": 0,
      "outputs": []
    },
    {
      "cell_type": "code",
      "metadata": {
        "id": "HQPj-a1tDGJY",
        "colab_type": "code",
        "colab": {}
      },
      "source": [
        "data_train_raw_path = os.path.join(\n",
        "    DATA_PREFIX, 'raw', 'SentiRuEval-2015', 'SentiRuEval_rest_markup_train.xml'\n",
        ")\n",
        "\n",
        "data_test_raw_path = os.path.join(\n",
        "    DATA_PREFIX, 'raw', 'SentiRuEval-2015', 'SentiRuEval_rest_markup_test.xml'\n",
        ")\n",
        "\n",
        "data_train = xml2pandas(data_train_raw_path)\n",
        "data_test = xml2pandas(data_test_raw_path)"
      ],
      "execution_count": 0,
      "outputs": []
    },
    {
      "cell_type": "code",
      "metadata": {
        "id": "ihfLZoATOIqo",
        "colab_type": "code",
        "outputId": "0e70c5c2-9814-44d5-b2b1-e85d9c22dd53",
        "colab": {
          "base_uri": "https://localhost:8080/",
          "height": 206
        }
      },
      "source": [
        "data_train.head()"
      ],
      "execution_count": 9,
      "outputs": [
        {
          "output_type": "execute_result",
          "data": {
            "text/html": [
              "<div>\n",
              "<style scoped>\n",
              "    .dataframe tbody tr th:only-of-type {\n",
              "        vertical-align: middle;\n",
              "    }\n",
              "\n",
              "    .dataframe tbody tr th {\n",
              "        vertical-align: top;\n",
              "    }\n",
              "\n",
              "    .dataframe thead th {\n",
              "        text-align: right;\n",
              "    }\n",
              "</style>\n",
              "<table border=\"1\" class=\"dataframe\">\n",
              "  <thead>\n",
              "    <tr style=\"text-align: right;\">\n",
              "      <th></th>\n",
              "      <th>sentence_id</th>\n",
              "      <th>text</th>\n",
              "      <th>term</th>\n",
              "      <th>from</th>\n",
              "      <th>to</th>\n",
              "      <th>sentiment</th>\n",
              "    </tr>\n",
              "  </thead>\n",
              "  <tbody>\n",
              "    <tr>\n",
              "      <th>0</th>\n",
              "      <td>3976</td>\n",
              "      <td>День 8-го марта прошёл, можно и итоги подвести...</td>\n",
              "      <td>ресторане</td>\n",
              "      <td>71</td>\n",
              "      <td>80</td>\n",
              "      <td>neutral</td>\n",
              "    </tr>\n",
              "    <tr>\n",
              "      <th>1</th>\n",
              "      <td>3976</td>\n",
              "      <td>День 8-го марта прошёл, можно и итоги подвести...</td>\n",
              "      <td>ресторанах</td>\n",
              "      <td>198</td>\n",
              "      <td>208</td>\n",
              "      <td>neutral</td>\n",
              "    </tr>\n",
              "    <tr>\n",
              "      <th>2</th>\n",
              "      <td>3976</td>\n",
              "      <td>День 8-го марта прошёл, можно и итоги подвести...</td>\n",
              "      <td>ресторане</td>\n",
              "      <td>256</td>\n",
              "      <td>265</td>\n",
              "      <td>neutral</td>\n",
              "    </tr>\n",
              "    <tr>\n",
              "      <th>3</th>\n",
              "      <td>3976</td>\n",
              "      <td>День 8-го марта прошёл, можно и итоги подвести...</td>\n",
              "      <td>Столик бронировали</td>\n",
              "      <td>267</td>\n",
              "      <td>285</td>\n",
              "      <td>neutral</td>\n",
              "    </tr>\n",
              "    <tr>\n",
              "      <th>4</th>\n",
              "      <td>3976</td>\n",
              "      <td>День 8-го марта прошёл, можно и итоги подвести...</td>\n",
              "      <td>сделали так как предложил администратор</td>\n",
              "      <td>296</td>\n",
              "      <td>335</td>\n",
              "      <td>positive</td>\n",
              "    </tr>\n",
              "  </tbody>\n",
              "</table>\n",
              "</div>"
            ],
            "text/plain": [
              "  sentence_id                                               text  ...   to  sentiment\n",
              "0        3976  День 8-го марта прошёл, можно и итоги подвести...  ...   80    neutral\n",
              "1        3976  День 8-го марта прошёл, можно и итоги подвести...  ...  208    neutral\n",
              "2        3976  День 8-го марта прошёл, можно и итоги подвести...  ...  265    neutral\n",
              "3        3976  День 8-го марта прошёл, можно и итоги подвести...  ...  285    neutral\n",
              "4        3976  День 8-го марта прошёл, можно и итоги подвести...  ...  335   positive\n",
              "\n",
              "[5 rows x 6 columns]"
            ]
          },
          "metadata": {
            "tags": []
          },
          "execution_count": 9
        }
      ]
    },
    {
      "cell_type": "code",
      "metadata": {
        "id": "CMiztqHjcuEd",
        "colab_type": "code",
        "outputId": "531dd01b-e207-4bb8-ce7a-86a79de11ce9",
        "colab": {
          "base_uri": "https://localhost:8080/",
          "height": 206
        }
      },
      "source": [
        "data_test.head()"
      ],
      "execution_count": 10,
      "outputs": [
        {
          "output_type": "execute_result",
          "data": {
            "text/html": [
              "<div>\n",
              "<style scoped>\n",
              "    .dataframe tbody tr th:only-of-type {\n",
              "        vertical-align: middle;\n",
              "    }\n",
              "\n",
              "    .dataframe tbody tr th {\n",
              "        vertical-align: top;\n",
              "    }\n",
              "\n",
              "    .dataframe thead th {\n",
              "        text-align: right;\n",
              "    }\n",
              "</style>\n",
              "<table border=\"1\" class=\"dataframe\">\n",
              "  <thead>\n",
              "    <tr style=\"text-align: right;\">\n",
              "      <th></th>\n",
              "      <th>sentence_id</th>\n",
              "      <th>text</th>\n",
              "      <th>term</th>\n",
              "      <th>from</th>\n",
              "      <th>to</th>\n",
              "      <th>sentiment</th>\n",
              "    </tr>\n",
              "  </thead>\n",
              "  <tbody>\n",
              "    <tr>\n",
              "      <th>0</th>\n",
              "      <td>37784</td>\n",
              "      <td>По совету друзей посетили данное заведение. Бы...</td>\n",
              "      <td>заведение</td>\n",
              "      <td>33</td>\n",
              "      <td>42</td>\n",
              "      <td>neutral</td>\n",
              "    </tr>\n",
              "    <tr>\n",
              "      <th>1</th>\n",
              "      <td>37784</td>\n",
              "      <td>По совету друзей посетили данное заведение. Бы...</td>\n",
              "      <td>Очень людно</td>\n",
              "      <td>68</td>\n",
              "      <td>79</td>\n",
              "      <td>negative</td>\n",
              "    </tr>\n",
              "    <tr>\n",
              "      <th>2</th>\n",
              "      <td>37784</td>\n",
              "      <td>По совету друзей посетили данное заведение. Бы...</td>\n",
              "      <td>пиво</td>\n",
              "      <td>93</td>\n",
              "      <td>97</td>\n",
              "      <td>positive</td>\n",
              "    </tr>\n",
              "    <tr>\n",
              "      <th>3</th>\n",
              "      <td>37784</td>\n",
              "      <td>По совету друзей посетили данное заведение. Бы...</td>\n",
              "      <td>большой выбор</td>\n",
              "      <td>104</td>\n",
              "      <td>117</td>\n",
              "      <td>positive</td>\n",
              "    </tr>\n",
              "    <tr>\n",
              "      <th>4</th>\n",
              "      <td>37784</td>\n",
              "      <td>По совету друзей посетили данное заведение. Бы...</td>\n",
              "      <td>кухни</td>\n",
              "      <td>122</td>\n",
              "      <td>127</td>\n",
              "      <td>neutral</td>\n",
              "    </tr>\n",
              "  </tbody>\n",
              "</table>\n",
              "</div>"
            ],
            "text/plain": [
              "  sentence_id                                               text  ...   to  sentiment\n",
              "0       37784  По совету друзей посетили данное заведение. Бы...  ...   42    neutral\n",
              "1       37784  По совету друзей посетили данное заведение. Бы...  ...   79   negative\n",
              "2       37784  По совету друзей посетили данное заведение. Бы...  ...   97   positive\n",
              "3       37784  По совету друзей посетили данное заведение. Бы...  ...  117   positive\n",
              "4       37784  По совету друзей посетили данное заведение. Бы...  ...  127    neutral\n",
              "\n",
              "[5 rows x 6 columns]"
            ]
          },
          "metadata": {
            "tags": []
          },
          "execution_count": 10
        }
      ]
    },
    {
      "cell_type": "markdown",
      "metadata": {
        "id": "WHE8rRD0ptnl",
        "colab_type": "text"
      },
      "source": [
        "Теперь, чтобы нормально это обучать надо как-то сохранить информацию о местопложении аспектных терминов (иначе токенизация порушит наши индексы, и они перестанут работать). В общем случае, нам надо хранить слайс индексов, которые будут отвечать за аспектный термин после токенизации.\n",
        "\n",
        "Чтобы выполнить токенизацию и понять, где все еще находится аспектный термин, нам потребуется поставить какие-то маркеры. Попробуем проверить, что в наших текстах нет символов <, >, которыми мы обозначим границы аспектных терминов."
      ]
    },
    {
      "cell_type": "code",
      "metadata": {
        "id": "Hm72Lu7ips7o",
        "colab_type": "code",
        "outputId": "248a8c81-aec1-47a4-8349-3a4e064cba0f",
        "colab": {
          "base_uri": "https://localhost:8080/",
          "height": 86
        }
      },
      "source": [
        "print(data_train['text'].apply(lambda x: '<' in x).sum())\n",
        "print(data_test['text'].apply(lambda x: '>' in x).sum())\n",
        "print(data_test['text'].apply(lambda x: '<' in x).sum())\n",
        "print(data_test['text'].apply(lambda x: '>' in x).sum())"
      ],
      "execution_count": 12,
      "outputs": [
        {
          "output_type": "stream",
          "text": [
            "0\n",
            "0\n",
            "0\n",
            "0\n"
          ],
          "name": "stdout"
        }
      ]
    },
    {
      "cell_type": "markdown",
      "metadata": {
        "id": "LfXH79AatDzG",
        "colab_type": "text"
      },
      "source": [
        "Обрамим аспектные термины символами <, >, чтобы потом после токенизации сразу понять, где они."
      ]
    },
    {
      "cell_type": "code",
      "metadata": {
        "id": "GLjHxZj2sxDF",
        "colab_type": "code",
        "outputId": "9fa47b6a-869f-4db0-8c6c-42b3e85838f0",
        "colab": {
          "base_uri": "https://localhost:8080/",
          "height": 206
        }
      },
      "source": [
        "data_train.head()"
      ],
      "execution_count": 11,
      "outputs": [
        {
          "output_type": "execute_result",
          "data": {
            "text/html": [
              "<div>\n",
              "<style scoped>\n",
              "    .dataframe tbody tr th:only-of-type {\n",
              "        vertical-align: middle;\n",
              "    }\n",
              "\n",
              "    .dataframe tbody tr th {\n",
              "        vertical-align: top;\n",
              "    }\n",
              "\n",
              "    .dataframe thead th {\n",
              "        text-align: right;\n",
              "    }\n",
              "</style>\n",
              "<table border=\"1\" class=\"dataframe\">\n",
              "  <thead>\n",
              "    <tr style=\"text-align: right;\">\n",
              "      <th></th>\n",
              "      <th>sentence_id</th>\n",
              "      <th>text</th>\n",
              "      <th>term</th>\n",
              "      <th>from</th>\n",
              "      <th>to</th>\n",
              "      <th>sentiment</th>\n",
              "    </tr>\n",
              "  </thead>\n",
              "  <tbody>\n",
              "    <tr>\n",
              "      <th>0</th>\n",
              "      <td>3976</td>\n",
              "      <td>День 8-го марта прошёл, можно и итоги подвести...</td>\n",
              "      <td>ресторане</td>\n",
              "      <td>71</td>\n",
              "      <td>80</td>\n",
              "      <td>neutral</td>\n",
              "    </tr>\n",
              "    <tr>\n",
              "      <th>1</th>\n",
              "      <td>3976</td>\n",
              "      <td>День 8-го марта прошёл, можно и итоги подвести...</td>\n",
              "      <td>ресторанах</td>\n",
              "      <td>198</td>\n",
              "      <td>208</td>\n",
              "      <td>neutral</td>\n",
              "    </tr>\n",
              "    <tr>\n",
              "      <th>2</th>\n",
              "      <td>3976</td>\n",
              "      <td>День 8-го марта прошёл, можно и итоги подвести...</td>\n",
              "      <td>ресторане</td>\n",
              "      <td>256</td>\n",
              "      <td>265</td>\n",
              "      <td>neutral</td>\n",
              "    </tr>\n",
              "    <tr>\n",
              "      <th>3</th>\n",
              "      <td>3976</td>\n",
              "      <td>День 8-го марта прошёл, можно и итоги подвести...</td>\n",
              "      <td>Столик бронировали</td>\n",
              "      <td>267</td>\n",
              "      <td>285</td>\n",
              "      <td>neutral</td>\n",
              "    </tr>\n",
              "    <tr>\n",
              "      <th>4</th>\n",
              "      <td>3976</td>\n",
              "      <td>День 8-го марта прошёл, можно и итоги подвести...</td>\n",
              "      <td>сделали так как предложил администратор</td>\n",
              "      <td>296</td>\n",
              "      <td>335</td>\n",
              "      <td>positive</td>\n",
              "    </tr>\n",
              "  </tbody>\n",
              "</table>\n",
              "</div>"
            ],
            "text/plain": [
              "  sentence_id                                               text  ...   to  sentiment\n",
              "0        3976  День 8-го марта прошёл, можно и итоги подвести...  ...   80    neutral\n",
              "1        3976  День 8-го марта прошёл, можно и итоги подвести...  ...  208    neutral\n",
              "2        3976  День 8-го марта прошёл, можно и итоги подвести...  ...  265    neutral\n",
              "3        3976  День 8-го марта прошёл, можно и итоги подвести...  ...  285    neutral\n",
              "4        3976  День 8-го марта прошёл, можно и итоги подвести...  ...  335   positive\n",
              "\n",
              "[5 rows x 6 columns]"
            ]
          },
          "metadata": {
            "tags": []
          },
          "execution_count": 11
        }
      ]
    },
    {
      "cell_type": "code",
      "metadata": {
        "id": "Px81HC5Fzd2o",
        "colab_type": "code",
        "outputId": "0ed3eae6-a7a3-47a8-d6ae-a1f9a0fc8127",
        "colab": {
          "base_uri": "https://localhost:8080/",
          "height": 332
        }
      },
      "source": [
        "!python -m spacy download xx_ent_wiki_sm\n",
        "!python -m spacy validate"
      ],
      "execution_count": 13,
      "outputs": [
        {
          "output_type": "stream",
          "text": [
            "Requirement already satisfied: xx_ent_wiki_sm==2.1.0 from https://github.com/explosion/spacy-models/releases/download/xx_ent_wiki_sm-2.1.0/xx_ent_wiki_sm-2.1.0.tar.gz#egg=xx_ent_wiki_sm==2.1.0 in /usr/local/lib/python3.6/dist-packages (2.1.0)\n",
            "\u001b[38;5;2m✔ Download and installation successful\u001b[0m\n",
            "You can now load the model via spacy.load('xx_ent_wiki_sm')\n",
            "\u001b[2K\u001b[38;5;2m✔ Loaded compatibility table\u001b[0m\n",
            "\u001b[1m\n",
            "====================== Installed models (spaCy v2.1.9) ======================\u001b[0m\n",
            "\u001b[38;5;4mℹ spaCy installation: /usr/local/lib/python3.6/dist-packages/spacy\u001b[0m\n",
            "\n",
            "TYPE      NAME             MODEL            VERSION                            \n",
            "package   xx-ent-wiki-sm   xx_ent_wiki_sm   \u001b[38;5;2m2.1.0\u001b[0m   \u001b[38;5;2m✔\u001b[0m\n",
            "package   en-core-web-sm   en_core_web_sm   \u001b[38;5;1m2.2.5\u001b[0m   --> 2.1.0     \n",
            "\n",
            "\u001b[1m\n",
            "============================== Install updates ==============================\u001b[0m\n",
            "Use the following commands to update the model packages:\n",
            "python -m spacy download en_core_web_sm\n",
            "\n"
          ],
          "name": "stdout"
        }
      ]
    },
    {
      "cell_type": "code",
      "metadata": {
        "id": "k4RVUQiitVs1",
        "colab_type": "code",
        "colab": {}
      },
      "source": [
        "nlp = spacy.load('xx_ent_wiki_sm')"
      ],
      "execution_count": 0,
      "outputs": []
    },
    {
      "cell_type": "code",
      "metadata": {
        "id": "deYBuk0AtVzN",
        "colab_type": "code",
        "colab": {}
      },
      "source": [
        "def tokenize(df_orig, nlp):\n",
        "    df = df_orig.copy()\n",
        "    from_tokens = []\n",
        "    to_tokens = []\n",
        "    tokenized_texts = []\n",
        "    for i, row in df.iterrows():\n",
        "        raw_text = row['text']\n",
        "        from_index = row['from']\n",
        "        to_index = row['to']\n",
        "        text = (raw_text[:from_index] + '< ' + raw_text[from_index:to_index] \n",
        "                + ' >' + raw_text[to_index:])\n",
        "        doc = nlp(text)\n",
        "        tokens = [x.text for x in doc]\n",
        "        tokenized_texts.append([x for x in tokens if x not in ['<', '>']])\n",
        "        try:\n",
        "            from_tokens.append(tokens.index('<') + 1)\n",
        "            to_tokens.append(tokens.index('>'))\n",
        "        except ValueError as e:\n",
        "            print(raw_text)\n",
        "            print(tokens)\n",
        "    df['from'] = from_tokens\n",
        "    df['to'] = to_tokens\n",
        "    df['text'] = tokenized_texts\n",
        "    return df"
      ],
      "execution_count": 0,
      "outputs": []
    },
    {
      "cell_type": "code",
      "metadata": {
        "id": "DbvG6tf7tVxE",
        "colab_type": "code",
        "outputId": "f0796256-7a10-4c41-a448-8790716b2e20",
        "colab": {
          "base_uri": "https://localhost:8080/",
          "height": 206
        }
      },
      "source": [
        "data_train = tokenize(data_train, nlp)\n",
        "data_test = tokenize(data_test, nlp)\n",
        "data_train.head()"
      ],
      "execution_count": 16,
      "outputs": [
        {
          "output_type": "execute_result",
          "data": {
            "text/html": [
              "<div>\n",
              "<style scoped>\n",
              "    .dataframe tbody tr th:only-of-type {\n",
              "        vertical-align: middle;\n",
              "    }\n",
              "\n",
              "    .dataframe tbody tr th {\n",
              "        vertical-align: top;\n",
              "    }\n",
              "\n",
              "    .dataframe thead th {\n",
              "        text-align: right;\n",
              "    }\n",
              "</style>\n",
              "<table border=\"1\" class=\"dataframe\">\n",
              "  <thead>\n",
              "    <tr style=\"text-align: right;\">\n",
              "      <th></th>\n",
              "      <th>sentence_id</th>\n",
              "      <th>text</th>\n",
              "      <th>term</th>\n",
              "      <th>from</th>\n",
              "      <th>to</th>\n",
              "      <th>sentiment</th>\n",
              "    </tr>\n",
              "  </thead>\n",
              "  <tbody>\n",
              "    <tr>\n",
              "      <th>0</th>\n",
              "      <td>3976</td>\n",
              "      <td>[День, 8-го, марта, прошёл, ,, можно, и, итоги...</td>\n",
              "      <td>ресторане</td>\n",
              "      <td>15</td>\n",
              "      <td>16</td>\n",
              "      <td>neutral</td>\n",
              "    </tr>\n",
              "    <tr>\n",
              "      <th>1</th>\n",
              "      <td>3976</td>\n",
              "      <td>[День, 8-го, марта, прошёл, ,, можно, и, итоги...</td>\n",
              "      <td>ресторанах</td>\n",
              "      <td>34</td>\n",
              "      <td>35</td>\n",
              "      <td>neutral</td>\n",
              "    </tr>\n",
              "    <tr>\n",
              "      <th>2</th>\n",
              "      <td>3976</td>\n",
              "      <td>[День, 8-го, марта, прошёл, ,, можно, и, итоги...</td>\n",
              "      <td>ресторане</td>\n",
              "      <td>47</td>\n",
              "      <td>48</td>\n",
              "      <td>neutral</td>\n",
              "    </tr>\n",
              "    <tr>\n",
              "      <th>3</th>\n",
              "      <td>3976</td>\n",
              "      <td>[День, 8-го, марта, прошёл, ,, можно, и, итоги...</td>\n",
              "      <td>Столик бронировали</td>\n",
              "      <td>49</td>\n",
              "      <td>51</td>\n",
              "      <td>neutral</td>\n",
              "    </tr>\n",
              "    <tr>\n",
              "      <th>4</th>\n",
              "      <td>3976</td>\n",
              "      <td>[День, 8-го, марта, прошёл, ,, можно, и, итоги...</td>\n",
              "      <td>сделали так как предложил администратор</td>\n",
              "      <td>53</td>\n",
              "      <td>58</td>\n",
              "      <td>positive</td>\n",
              "    </tr>\n",
              "  </tbody>\n",
              "</table>\n",
              "</div>"
            ],
            "text/plain": [
              "  sentence_id                                               text  ...  to  sentiment\n",
              "0        3976  [День, 8-го, марта, прошёл, ,, можно, и, итоги...  ...  16    neutral\n",
              "1        3976  [День, 8-го, марта, прошёл, ,, можно, и, итоги...  ...  35    neutral\n",
              "2        3976  [День, 8-го, марта, прошёл, ,, можно, и, итоги...  ...  48    neutral\n",
              "3        3976  [День, 8-го, марта, прошёл, ,, можно, и, итоги...  ...  51    neutral\n",
              "4        3976  [День, 8-го, марта, прошёл, ,, можно, и, итоги...  ...  58   positive\n",
              "\n",
              "[5 rows x 6 columns]"
            ]
          },
          "metadata": {
            "tags": []
          },
          "execution_count": 16
        }
      ]
    },
    {
      "cell_type": "markdown",
      "metadata": {
        "id": "RqpOQX474RgK",
        "colab_type": "text"
      },
      "source": [
        "Проверим, что ничего не сломалось."
      ]
    },
    {
      "cell_type": "code",
      "metadata": {
        "id": "e9STJEPi3dhc",
        "colab_type": "code",
        "outputId": "4718d5c2-3e79-4e4d-bd60-453583a2188c",
        "colab": {
          "base_uri": "https://localhost:8080/",
          "height": 86
        }
      },
      "source": [
        "print(data_train['text'].apply(lambda x: '<' in ''.join(x)).sum())\n",
        "print(data_train['text'].apply(lambda x: '>' in ''.join(x)).sum())\n",
        "print(data_test['text'].apply(lambda x: '<' in ''.join(x)).sum())\n",
        "print(data_test['text'].apply(lambda x: '>' in ''.join(x)).sum())"
      ],
      "execution_count": 17,
      "outputs": [
        {
          "output_type": "stream",
          "text": [
            "0\n",
            "0\n",
            "0\n",
            "0\n"
          ],
          "name": "stdout"
        }
      ]
    },
    {
      "cell_type": "markdown",
      "metadata": {
        "id": "IdaaxIyaHzJT",
        "colab_type": "text"
      },
      "source": [
        "Теперь можем разделить данные на валидацию и трейн."
      ]
    },
    {
      "cell_type": "code",
      "metadata": {
        "id": "MJXx9xmyTrXU",
        "colab_type": "code",
        "outputId": "418cc73d-0c1f-4cc8-c2f3-3fad642eeb92",
        "colab": {
          "base_uri": "https://localhost:8080/",
          "height": 69
        }
      },
      "source": [
        "data_train, data_valid = train_test_split(\n",
        "    data_train, test_size=0.2, random_state=random_state\n",
        ")\n",
        "\n",
        "print(f'TRAIN SIZE: {data_train.shape[0]}')\n",
        "print(f'VALIDATE SIZE: {data_valid.shape[0]}')\n",
        "print(f'TEST SIZE: {data_test.shape[0]}')"
      ],
      "execution_count": 18,
      "outputs": [
        {
          "output_type": "stream",
          "text": [
            "TRAIN SIZE: 3488\n",
            "VALIDATE SIZE: 873\n",
            "TEST SIZE: 5117\n"
          ],
          "name": "stdout"
        }
      ]
    },
    {
      "cell_type": "markdown",
      "metadata": {
        "id": "lkVZ_xbs6c8T",
        "colab_type": "text"
      },
      "source": [
        "Посмотрим на сбалансированность классов."
      ]
    },
    {
      "cell_type": "code",
      "metadata": {
        "id": "EDjIsHil6ahH",
        "colab_type": "code",
        "outputId": "50d6773d-2625-4434-83a8-3b4f4cf5425e",
        "colab": {
          "base_uri": "https://localhost:8080/",
          "height": 34
        }
      },
      "source": [
        "np.unique(data_train.sentiment)"
      ],
      "execution_count": 19,
      "outputs": [
        {
          "output_type": "execute_result",
          "data": {
            "text/plain": [
              "array(['both', 'negative', 'neutral', 'positive'], dtype=object)"
            ]
          },
          "metadata": {
            "tags": []
          },
          "execution_count": 19
        }
      ]
    },
    {
      "cell_type": "code",
      "metadata": {
        "id": "_XpxvnnA5zvM",
        "colab_type": "code",
        "outputId": "53afdc2d-7f7f-47eb-c8c8-e442bddeac29",
        "colab": {
          "base_uri": "https://localhost:8080/",
          "height": 34
        }
      },
      "source": [
        "np.unique(data_train.sentiment, return_counts=True)[1] / data_train.shape[0]"
      ],
      "execution_count": 20,
      "outputs": [
        {
          "output_type": "execute_result",
          "data": {
            "text/plain": [
              "array([0.01290138, 0.17230505, 0.19466743, 0.62012615])"
            ]
          },
          "metadata": {
            "tags": []
          },
          "execution_count": 20
        }
      ]
    },
    {
      "cell_type": "code",
      "metadata": {
        "id": "VL-dmxD75_hz",
        "colab_type": "code",
        "outputId": "6b915e03-0d05-4fc6-be54-7dbf3be3f78a",
        "colab": {
          "base_uri": "https://localhost:8080/",
          "height": 34
        }
      },
      "source": [
        "np.unique(data_valid.sentiment, return_counts=True)[1] / data_valid.shape[0]"
      ],
      "execution_count": 21,
      "outputs": [
        {
          "output_type": "execute_result",
          "data": {
            "text/plain": [
              "array([0.01145475, 0.16609393, 0.18556701, 0.63688431])"
            ]
          },
          "metadata": {
            "tags": []
          },
          "execution_count": 21
        }
      ]
    },
    {
      "cell_type": "code",
      "metadata": {
        "id": "axB3Db7n6DP2",
        "colab_type": "code",
        "outputId": "296b47dc-79f9-4519-d182-5f044d870294",
        "colab": {
          "base_uri": "https://localhost:8080/",
          "height": 34
        }
      },
      "source": [
        "np.unique(data_test.sentiment, return_counts=True)[1] / data_test.shape[0]"
      ],
      "execution_count": 22,
      "outputs": [
        {
          "output_type": "execute_result",
          "data": {
            "text/plain": [
              "array([0.01700215, 0.18350596, 0.09595466, 0.70353723])"
            ]
          },
          "metadata": {
            "tags": []
          },
          "execution_count": 22
        }
      ]
    },
    {
      "cell_type": "markdown",
      "metadata": {
        "id": "-3i6aFZB6ogG",
        "colab_type": "text"
      },
      "source": [
        "Классы, конечно, не сбалансированны, но доли классов на трейне и валидации очень близки. Смущает то, что доля нейтральных на тесте чуть ли не в два раза ниже, чем на трейне. Видим два пути для борьбы с дизбалансом классов:\n",
        "1. Использование весов в лоссе.\n",
        "2. Использование Random Oversampling для редких классов на этапе формирования батча."
      ]
    },
    {
      "cell_type": "markdown",
      "metadata": {
        "id": "RVOk_FRYeTCW",
        "colab_type": "text"
      },
      "source": [
        "#### Создание датасета и даталоадера для обучения"
      ]
    },
    {
      "cell_type": "code",
      "metadata": {
        "id": "WQyohmMswTuC",
        "colab_type": "code",
        "colab": {}
      },
      "source": [
        "data_train, data_valid = train_test_split(\n",
        "    data_train, test_size=0.2, random_state=random_state\n",
        ")"
      ],
      "execution_count": 0,
      "outputs": []
    },
    {
      "cell_type": "code",
      "metadata": {
        "id": "Z4fK6-nI0LXa",
        "colab_type": "code",
        "colab": {}
      },
      "source": [
        "sentiment_vocab = {'negative': 0, 'positive': 1, 'both': 2, 'neutral': 3}"
      ],
      "execution_count": 0,
      "outputs": []
    },
    {
      "cell_type": "code",
      "metadata": {
        "id": "H0y3WoZA__2O",
        "colab_type": "code",
        "colab": {}
      },
      "source": [
        "class Dataset(TorchDataset):\n",
        "    \n",
        "    \"\"\"Custom data.Dataset compatible with data.DataLoader.\"\"\"\n",
        "    def __init__(self, data, sentiment_vocab):\n",
        "        self.data = data\n",
        "        self.sentiment_vocab = sentiment_vocab\n",
        "\n",
        "    def __getitem__(self, index):\n",
        "        \"\"\"\n",
        "        Returns one tensor pair (source and target). The source tensor corresponds to the input word,\n",
        "        with \"BEGIN\" and \"END\" symbols attached. The target tensor should contain the answers\n",
        "        for the language model that obtain these word as input.        \n",
        "        \"\"\"\n",
        "        text = self.data['text'].iloc[index]\n",
        "        from_index = torch.tensor([self.data['from'].iloc[index]], \n",
        "                                  dtype=torch.long)\n",
        "        to_index = torch.tensor([self.data['to'].iloc[index]], dtype=torch.long)\n",
        "        sentiment = torch.tensor(\n",
        "            [self.sentiment_vocab[self.data['sentiment'].iloc[index]]], \n",
        "            dtype=torch.long\n",
        "        )\n",
        "        return (text, from_index, to_index, sentiment)\n",
        "\n",
        "    def __len__(self):\n",
        "        return len(self.data)"
      ],
      "execution_count": 0,
      "outputs": []
    },
    {
      "cell_type": "code",
      "metadata": {
        "id": "mzoc93RPwgX5",
        "colab_type": "code",
        "colab": {}
      },
      "source": [
        "def collate_fn(batch):\n",
        "    \"\"\"Специальная функция для обработки паддингов.\"\"\"\n",
        "    # распакуем батч\n",
        "    text, from_index, to_index, sentiment = zip(*batch)\n",
        "    # состакаем все кроме текстов (с ними потом разберется сам ELMo)\n",
        "    from_index = torch.stack(from_index)\n",
        "    to_index = torch.stack(to_index)\n",
        "    sentiment = torch.stack(sentiment)\n",
        "    return text, from_index, to_index, sentiment"
      ],
      "execution_count": 0,
      "outputs": []
    },
    {
      "cell_type": "markdown",
      "metadata": {
        "id": "SN9XwXkMKACX",
        "colab_type": "text"
      },
      "source": [
        "Проверим, что батчи работают правильно."
      ]
    },
    {
      "cell_type": "code",
      "metadata": {
        "id": "Zi_m6U-S__9j",
        "colab_type": "code",
        "outputId": "852bbdc5-1535-4398-ae6f-7e6e773dd167",
        "colab": {
          "base_uri": "https://localhost:8080/",
          "height": 121
        }
      },
      "source": [
        "train_dataset = Dataset(data_train, sentiment_vocab)\n",
        "dataloader_train = DataLoader(train_dataset, batch_size=5, \n",
        "                              shuffle=True, num_workers=4, \n",
        "                              collate_fn=collate_fn)\n",
        "\n",
        "for i_batch, (text_batched, from_batched, to_batched, \n",
        "              sentiment_batched) in enumerate(dataloader_train):\n",
        "    if i_batch == 1:\n",
        "        break\n",
        "    print(from_batched)\n",
        "    print(from_batched.size())"
      ],
      "execution_count": 27,
      "outputs": [
        {
          "output_type": "stream",
          "text": [
            "tensor([[168],\n",
            "        [ 37],\n",
            "        [ 34],\n",
            "        [ 60],\n",
            "        [ 21]])\n",
            "torch.Size([5, 1])\n"
          ],
          "name": "stdout"
        }
      ]
    },
    {
      "cell_type": "markdown",
      "metadata": {
        "colab_type": "text",
        "id": "7xjTTmQtBTYG"
      },
      "source": [
        "### ELMoCNN"
      ]
    },
    {
      "cell_type": "markdown",
      "metadata": {
        "colab_type": "text",
        "id": "v5Un_dJhBTYQ"
      },
      "source": [
        "Возьмем лучшую модель из 5-db-elmo.ipynb."
      ]
    },
    {
      "cell_type": "code",
      "metadata": {
        "colab_type": "code",
        "id": "QeMH9CJ2BTYX",
        "colab": {}
      },
      "source": [
        "class ELMOCNN(nn.Module):\n",
        "\n",
        "    def __init__(self, num_sentiments, elmo, embeddings_dim, \n",
        "                 hidden_dim, kernel_sizes,\n",
        "                 device):\n",
        "        super(ELMOCNN, self).__init__()\n",
        "\n",
        "        self.device = device\n",
        "\n",
        "        self.elmo = elmo\n",
        "        self.elmo_layer_coef_1 = nn.Parameter(torch.ones(1))\n",
        "        self.elmo_layer_coef_2 = nn.Parameter(torch.ones(1))\n",
        "\n",
        "        self.convs1 = nn.ModuleList(\n",
        "            [nn.Conv1d(embeddings_dim, hidden_dim, kernel_size) \n",
        "            for kernel_size in kernel_sizes]\n",
        "        )\n",
        "        self.convs1_nonlin = nn.ReLU()\n",
        "        self.convs1_dropout = nn.Dropout()\n",
        "\n",
        "        self.to_sentiments = nn.Linear(2*len(kernel_sizes)*hidden_dim, \n",
        "                                       num_sentiments)\n",
        "\n",
        "        # weights initializatioin\n",
        "        torch.nn.init.xavier_uniform_(self.to_sentiments.weight)\n",
        "        \n",
        "    def forward(self, texts, from_indices, to_indices, hidden=None):\n",
        "        # get elmo embeddings\n",
        "        character_ids = batch_to_ids(texts).to(device=self.device)\n",
        "        embeddings_raw = self.elmo(character_ids)['elmo_representations']\n",
        "        embeddings = (\n",
        "            embeddings_raw[0] * self.elmo_layer_coef_1 \n",
        "            + embeddings_raw[1] * self.elmo_layer_coef_2\n",
        "        )\n",
        "\n",
        "        # get bit matrix\n",
        "        batch_size, seq_len, _ = embeddings.size()\n",
        "        index_matrix = torch.repeat_interleave(\n",
        "            torch.arange(seq_len).view(1, -1), batch_size, dim=0\n",
        "        ).to(device=self.device)\n",
        "        bit_matrix = ((index_matrix >= from_indices) \n",
        "                      & (index_matrix < to_indices))\n",
        "        # inverse bit matrix to work with context\n",
        "        bit_matrix = ~bit_matrix\n",
        "        # get average of embedings according to bit_matrix\n",
        "        embeddings = embeddings*torch.unsqueeze(bit_matrix, -1)\n",
        "        embeddings = torch.transpose(embeddings, 1, 2)\n",
        "        x = [self.convs1_nonlin(conv(embeddings)) for conv in self.convs1]\n",
        "\n",
        "        list_to_cat = [torch.max(y, 2)[0] for y in x]\n",
        "        list_to_cat += [torch.mean(y, 2) for y in x]\n",
        "        x = torch.cat(list_to_cat, 1)\n",
        "        x = self.convs1_dropout(x)\n",
        "        sentiments = self.to_sentiments(x)\n",
        "        return sentiments"
      ],
      "execution_count": 0,
      "outputs": []
    },
    {
      "cell_type": "markdown",
      "metadata": {
        "colab_type": "text",
        "id": "7LMcxHiABTYr"
      },
      "source": [
        "Инициализируем сеть и генератор эмбеддингов."
      ]
    },
    {
      "cell_type": "code",
      "metadata": {
        "colab_type": "code",
        "id": "SDCis05IBTYt",
        "colab": {}
      },
      "source": [
        "set_seed_everywhere(random_seed, USE_GPU)\n",
        "\n",
        "num_sentiments = len(sentiment_vocab) - 1 # выкидываем neutral\n",
        "\n",
        "options_file = os.path.join(\n",
        "    DATA_PREFIX, 'raw', 'ELMo', \n",
        "    'ruwikiruscorpora_tokens_elmo_1024_2019', 'options.json'\n",
        ")\n",
        "weight_file = os.path.join(\n",
        "    DATA_PREFIX, 'raw', 'ELMo', \n",
        "    'ruwikiruscorpora_tokens_elmo_1024_2019', 'model.hdf5'\n",
        ")\n",
        "\n",
        "elmo = Elmo(options_file, weight_file, 2, dropout=0)\n",
        "\n",
        "hidden_dim = 32\n",
        "\n",
        "model = ELMOCNN(\n",
        "    num_sentiments, elmo, 1024, hidden_dim, [3, 5, 7], device\n",
        ")\n"
      ],
      "execution_count": 0,
      "outputs": []
    },
    {
      "cell_type": "markdown",
      "metadata": {
        "id": "72qEL_q4MVcZ",
        "colab_type": "text"
      },
      "source": [
        "#### Цикл обучения"
      ]
    },
    {
      "cell_type": "code",
      "metadata": {
        "id": "xMhxM-YcyCBO",
        "colab_type": "code",
        "colab": {}
      },
      "source": [
        "def plot_learning_curves(history):\n",
        "    '''\n",
        "    Функция для обучения модели и вывода лосса и метрики во время обучения.\n",
        "\n",
        "    :param history: (dict)\n",
        "        accuracy и loss на обучении и валидации\n",
        "    '''\n",
        "    sns.set_style(style='whitegrid')\n",
        "    fig = plt.figure(figsize=(20, 7))\n",
        "\n",
        "    plt.subplot(1,2,1)\n",
        "    plt.title('Лосс', fontsize=15)\n",
        "    plt.plot(history['loss']['train'], label='train')\n",
        "    plt.plot(history['loss']['val'], label='val')\n",
        "    plt.ylabel('лосс', fontsize=15)\n",
        "    plt.xlabel('эпоха', fontsize=15)\n",
        "    plt.legend()\n",
        "\n",
        "    plt.subplot(1,2,2)\n",
        "    plt.title('Macro F1 score', fontsize=15)\n",
        "    plt.plot(history['f1']['train'], label='train')\n",
        "    plt.plot(history['f1']['val'], label='val')\n",
        "    plt.ylabel('f1 score', fontsize=15)\n",
        "    plt.xlabel('эпоха', fontsize=15)\n",
        "    plt.legend()\n",
        "    plt.show()"
      ],
      "execution_count": 0,
      "outputs": []
    },
    {
      "cell_type": "code",
      "metadata": {
        "colab_type": "code",
        "id": "PgsHpOLA9xza",
        "colab": {}
      },
      "source": [
        "def train_loop(train_iter, val_iter, model, optimizer, scheduler, criterion, epochs, \n",
        "               early_stopping, path_save, path_best_save, save_every_epoch=5, history=None):\n",
        "\n",
        "    if history is None:\n",
        "        history = defaultdict(lambda: defaultdict(list))\n",
        "\n",
        "    best_val_loss = 100\n",
        "    best_val_score = 0\n",
        "    not_improves = 0\n",
        "    for epoch in range(1, epochs + 1):\n",
        "\n",
        "        start_time = time.time()\n",
        "        train_loss = 0.0\n",
        "        train_score = 0.0\n",
        "        val_loss = 0.0\n",
        "        val_acc = 0.0\n",
        "\n",
        "        train_preds = []\n",
        "        train_answers = []\n",
        "        model.train() \n",
        "        for batch in tqdm(train_iter, leave=False): \n",
        "\n",
        "            texts, from_indices, to_indices, sentiments = batch\n",
        "            from_indices = from_indices.to(device=device)\n",
        "            to_indices = to_indices.to(device=device)\n",
        "            sentiments = sentiments.to(device=device).squeeze(1)\n",
        "\n",
        "            optimizer.zero_grad()\n",
        "            preds = model(texts, from_indices, to_indices)\n",
        "\n",
        "            loss = criterion(preds, sentiments)\n",
        "            loss.backward()\n",
        "            nn.utils.clip_grad_norm_(model.parameters(), grad_clipping_value)\n",
        "            optimizer.step()\n",
        "            train_loss += loss.item()\n",
        "\n",
        "            pred_sentiments = torch.max(preds, dim=-1)[1]\n",
        "            train_preds += pred_sentiments.tolist()\n",
        "            train_answers += sentiments.tolist()\n",
        "\n",
        "        train_loss /= len(train_iter.dataset)\n",
        "        train_preds = np.array(train_preds)\n",
        "        train_answers = np.array(train_answers)\n",
        "        train_score = f1_score(train_answers, train_preds, average='macro')\n",
        "        history['loss']['train'].append(train_loss)\n",
        "        history['f1']['train'].append(train_score)\n",
        "\n",
        "        val_preds = []\n",
        "        val_answers = []\n",
        "        model.eval()\n",
        "        with torch.no_grad():\n",
        "            for batch in val_iter:\n",
        "\n",
        "                texts, from_indices, to_indices, sentiments = batch\n",
        "                from_indices = from_indices.to(device=device)\n",
        "                to_indices = to_indices.to(device=device)\n",
        "                sentiments = sentiments.to(device=device).squeeze(1)\n",
        "\n",
        "                preds = model(texts, from_indices, to_indices)\n",
        "\n",
        "                preds = model(texts, from_indices, to_indices)  \n",
        "                loss = criterion(preds, sentiments)\n",
        "                val_loss += loss.item()\n",
        "                \n",
        "                pred_sentiments = torch.max(preds, dim=-1)[1]\n",
        "                val_preds += pred_sentiments.tolist()\n",
        "                val_answers += sentiments.tolist()\n",
        "\n",
        "        val_loss /= len(valid_iter.dataset)\n",
        "        val_preds = np.array(val_preds)\n",
        "        val_answers = np.array(val_answers)\n",
        "        val_score = f1_score(val_answers, val_preds, average='macro')\n",
        "        history['loss']['val'].append(val_loss)\n",
        "        history['f1']['val'].append(val_score)\n",
        "\n",
        "        if val_score > best_val_score:\n",
        "            not_improves = 0\n",
        "            best_val_score = val_score\n",
        "            torch.save({\n",
        "                'epoch': epoch,\n",
        "                'model_state_dict': model.state_dict(),\n",
        "                'optimizer_state_dict': optimizer.state_dict(),\n",
        "                'sheduler_state_dict': scheduler.state_dict(),\n",
        "                'history': dict(history)\n",
        "                }, path_best_save)\n",
        "            print('------SAVED BEST------')\n",
        "        else:\n",
        "            not_improves += 1\n",
        "            if not_improves == early_stopping:\n",
        "                break\n",
        "\n",
        "        if (epoch-1) % save_every_epoch == 0:\n",
        "            torch.save({\n",
        "                'epoch': epoch,\n",
        "                'model_state_dict': model.state_dict(),\n",
        "                'optimizer_state_dict': optimizer.state_dict(),\n",
        "                'sheduler_state_dict': scheduler.state_dict(),\n",
        "                'history': dict(history)\n",
        "                }, path_save)\n",
        "            print('------SAVED------')\n",
        "        \n",
        "        scheduler.step()\n",
        "\n",
        "        clear_output()\n",
        "\n",
        "        # Печатаем результаты после каждой эпохи\n",
        "        print(\"Epoch {} of {} took {:.3f}s\".format(\n",
        "            epoch, epochs, time.time() - start_time))\n",
        "        print(\"  training loss (in-iteration): \\t{:.6f}\".format(train_loss))\n",
        "        print(\"  validation loss (in-iteration): \\t{:.6f}\".format(val_loss))\n",
        "        print(\"  training f1: \\t\\t\\t{:.2f} %\".format(train_score * 100))\n",
        "        print(\"  validation f1: \\t\\t\\t{:.2f} %\".format(val_score * 100))\n",
        "        \n",
        "        plot_learning_curves(history)\n",
        "\n",
        "    return model, history"
      ],
      "execution_count": 0,
      "outputs": []
    },
    {
      "cell_type": "markdown",
      "metadata": {
        "id": "kMBbKu7_VXNU",
        "colab_type": "text"
      },
      "source": [
        "Для того, чтобы получать сравнимые с соревнованием результаты, будем брать те же самые сентименты (там при расчете результатов не учитывался neutral)."
      ]
    },
    {
      "cell_type": "code",
      "metadata": {
        "id": "brxFMYfehATq",
        "colab_type": "code",
        "colab": {}
      },
      "source": [
        "remain_sentiments = ['positive', 'negative', 'both']\n",
        "train_dataset = Dataset(\n",
        "    data_train[data_train.sentiment.isin(remain_sentiments)], \n",
        "    sentiment_vocab\n",
        ")\n",
        "valid_dataset = Dataset(\n",
        "    data_valid[data_valid.sentiment.isin(remain_sentiments)], \n",
        "    sentiment_vocab\n",
        ")"
      ],
      "execution_count": 0,
      "outputs": []
    },
    {
      "cell_type": "code",
      "metadata": {
        "id": "x8jGqmSXhBfq",
        "colab_type": "code",
        "colab": {}
      },
      "source": [
        "labels = [x[-1].item() for x in train_dataset]\n",
        "weights_classes = 1/np.unique(labels, return_counts=True)[1]\n",
        "weights_samples = [weights_classes[x] for x in labels]"
      ],
      "execution_count": 0,
      "outputs": []
    },
    {
      "cell_type": "code",
      "metadata": {
        "id": "HmS6jb7Ke0o5",
        "colab_type": "code",
        "colab": {}
      },
      "source": [
        "train_sampler = torch.utils.data.WeightedRandomSampler(\n",
        "    weights_samples, num_samples=len(train_dataset)\n",
        ")"
      ],
      "execution_count": 0,
      "outputs": []
    },
    {
      "cell_type": "code",
      "metadata": {
        "colab_type": "code",
        "id": "QspbvcOBBTZE",
        "colab": {}
      },
      "source": [
        "batch_size = 64\n",
        "\n",
        "train_iter = DataLoader(train_dataset, batch_size=batch_size, \n",
        "                        shuffle=False, num_workers=4, collate_fn=collate_fn, \n",
        "                        sampler=train_sampler)\n",
        "\n",
        "valid_iter = DataLoader(valid_dataset, batch_size=batch_size,\n",
        "                        shuffle=False, num_workers=4, collate_fn=collate_fn)"
      ],
      "execution_count": 0,
      "outputs": []
    },
    {
      "cell_type": "code",
      "metadata": {
        "id": "OGQoKajOGJFV",
        "colab_type": "code",
        "colab": {}
      },
      "source": [
        "path_save = os.path.join(MODEL_PREFIX, 'elmo', 'elmo_cnn_russian_3.pt')\n",
        "path_best_save = os.path.join(MODEL_PREFIX, 'elmo', 'elmo_cnn_russian_3_best.pt')"
      ],
      "execution_count": 0,
      "outputs": []
    },
    {
      "cell_type": "code",
      "metadata": {
        "id": "o7tWf7Mp-Y3u",
        "colab_type": "code",
        "colab": {}
      },
      "source": [
        "checkpoint = torch.load(path_best_save)\n",
        "model.load_state_dict(checkpoint['model_state_dict'])\n",
        "history = checkpoint['history']"
      ],
      "execution_count": 0,
      "outputs": []
    },
    {
      "cell_type": "code",
      "metadata": {
        "colab_type": "code",
        "id": "Mck1ZLDmBTZT",
        "colab": {}
      },
      "source": [
        "model = model.to(device=device)\n",
        "learning_rate = 1e-4\n",
        "early_stopping = 100\n",
        "grad_clipping_value = 1\n",
        "epochs = 5\n",
        "\n",
        "optimizer = AdamW(model.parameters(), lr=learning_rate)\n",
        "scheduler = optim.lr_scheduler.StepLR(optimizer, step_size=1000, gamma=1)\n",
        "criterion = nn.CrossEntropyLoss(reduction='sum')"
      ],
      "execution_count": 0,
      "outputs": []
    },
    {
      "cell_type": "code",
      "metadata": {
        "colab_type": "code",
        "outputId": "6a6f1ab4-c145-4d94-89db-508438485941",
        "id": "bq4kJYxxBTZd",
        "colab": {
          "base_uri": "https://localhost:8080/",
          "height": 557,
          "referenced_widgets": [
            "95f833fa82914971893dadad8f9e8717",
            "a8c2f1f07637455db0d08cfe5f63a539",
            "e38db60c3ccc40e8ac7849dc5d77e877",
            "481013a215724483b7ee5e6e88283b26",
            "49ec9d835e424d1c98986c175158ba30",
            "42223a15183b433cbdac7e30f7eae82a",
            "f756f89e84f94d43842d5f05c69d5ac9",
            "8d13514154394e728f3726dd9c05c4c2",
            "0c497a8af6df424ab5f40455e9f53bbf",
            "fa5ec851cd9d434ea0cf6b54e2915ccd",
            "a34950331e09446a8701d1f6988f5daf",
            "90093abec5c44a6e8a333c7505f6d5b4",
            "fd329a6f7fc94373a32360ad6d10ff23",
            "bf884bb104bb4cfa881778c3a6a4ac9c",
            "21804c2ec1264b1495dbfd12e58b0902",
            "1c284f2115b14986bc49d0442b2f6937",
            "2f0eef6541a64d11a43197ccc8ff31ad",
            "c54ccddb21ab4b7088de1ca6a26a4389",
            "a4853a2103fb4944aa9aac74e5bbb4d2",
            "0c9a4bade7574152bc14b58423919545",
            "572692f012a84c7faa1ae8eb76cbb76f",
            "2e64adeba62b44eab9d56ebb15cf419a",
            "c2f0665826974621b70c5389aa4fd8fa",
            "4a46c5dc4272444e811f1844688d466f",
            "7890bf41fe2f4d3d94dbf005e0fde88c",
            "b83ec062cae147898b563fb6dd8f7fea",
            "74cf9176fdc2443288ff35e4d313ca95",
            "cec2171442e8484aaed837341dfb438f",
            "2b486cdde2004f73809a257f25c41024",
            "41e1c8a7e9ef47e5b548e7a3eb246f8b",
            "476b1b2926af4066b619ee06502c55db",
            "4f9fef115a654020b2c0bceaa6dd84fc",
            "b0ad73cfd29142d3808ec65953d75228",
            "01e798f328f247ac982582e02bf34766",
            "67be5820b1ea454e88fd4896006a5654",
            "aca386f7771841db92221b965fe170f6",
            "b2727adf52ff48b9b0798d5bb2aa42f8",
            "1a2cb1176ee94737a272a2d4abf67be0",
            "73ce48c91b6e4488b605ecbcf38a1ad4",
            "2334a2747acd4baf826f63c6648999b7"
          ]
        }
      },
      "source": [
        "set_seed_everywhere(random_seed, USE_GPU)\n",
        "model, history = train_loop(\n",
        "    train_iter, valid_iter, model, optimizer, scheduler, criterion, \n",
        "    epochs, early_stopping, path_save, path_best_save, history=history\n",
        ")"
      ],
      "execution_count": 0,
      "outputs": [
        {
          "output_type": "stream",
          "text": [
            "Epoch 5 of 5 took 141.659s\n",
            "  training loss (in-iteration): \t0.146595\n",
            "  validation loss (in-iteration): \t0.486384\n",
            "  training f1: \t\t\t94.74 %\n",
            "  validation f1: \t\t\t54.72 %\n"
          ],
          "name": "stdout"
        },
        {
          "output_type": "display_data",
          "data": {
            "image/png": "[encoded data removed]",
            "text/plain": [
              "<Figure size 1440x504 with 2 Axes>"
            ]
          },
          "metadata": {
            "tags": []
          }
        }
      ]
    },
    {
      "cell_type": "markdown",
      "metadata": {
        "id": "Aa28GSebcaG3",
        "colab_type": "text"
      },
      "source": [
        "### Тестирование"
      ]
    },
    {
      "cell_type": "code",
      "metadata": {
        "id": "L9UXeogtXMwC",
        "colab_type": "code",
        "colab": {}
      },
      "source": [
        "path_best_load = os.path.join(MODEL_PREFIX, 'elmo', 'elmo_cnn_russian_3_best.pt')"
      ],
      "execution_count": 0,
      "outputs": []
    },
    {
      "cell_type": "code",
      "metadata": {
        "colab_type": "code",
        "id": "NCeSNrXJBTaD",
        "colab": {}
      },
      "source": [
        "checkpoint = torch.load(path_best_load)\n",
        "model.load_state_dict(checkpoint['model_state_dict'])\n",
        "history = checkpoint['history']"
      ],
      "execution_count": 0,
      "outputs": []
    },
    {
      "cell_type": "code",
      "metadata": {
        "id": "s7tcvktIzWrb",
        "colab_type": "code",
        "colab": {}
      },
      "source": [
        "remain_sentiments = ['both', 'positive', 'negative']\n",
        "test_dataset = Dataset(\n",
        "    data_test[data_test.sentiment.isin(remain_sentiments)], \n",
        "    sentiment_vocab\n",
        ")\n",
        "\n",
        "test_iter = DataLoader(test_dataset, batch_size=64, shuffle=False, \n",
        "                       num_workers=4, collate_fn=collate_fn)"
      ],
      "execution_count": 0,
      "outputs": []
    },
    {
      "cell_type": "code",
      "metadata": {
        "colab_type": "code",
        "id": "BDG5G5HjBTaM",
        "colab": {
          "base_uri": "https://localhost:8080/",
          "height": 66,
          "referenced_widgets": [
            "134d2b36b6954894aae4a81e8fd009e1",
            "0205007d19d14d72a6403743b1756456",
            "80567687cf5d42f4b93256eb60d6dede",
            "e44985ace9da4949be79c43149b9b7e9",
            "2ddc5fbd539044e18f83914862711de4",
            "3b7b84258500495584571b5d06873185",
            "c003f2c8ed0c41479379a0170a2dc0cc",
            "a36f835f06e447089d5099975c20c93b"
          ]
        },
        "outputId": "8d6b326a-e1e2-40b4-f530-cab7c3258f55"
      },
      "source": [
        "model.eval().to(device=device)\n",
        "\n",
        "all_preds = []\n",
        "all_answers = []\n",
        "with torch.no_grad():\n",
        "    for batch in tqdm(test_iter):\n",
        "\n",
        "        texts, from_indices, to_indices, sentiments = batch\n",
        "        from_indices = from_indices.to(device=device)\n",
        "        to_indices = to_indices.to(device=device)\n",
        "        sentiments = sentiments.to(device=device).squeeze(1)\n",
        "\n",
        "        preds_scores = model(texts, from_indices, to_indices)\n",
        "        preds = torch.max(preds_scores, dim=-1)[1]\n",
        "        all_preds += preds.tolist()\n",
        "        all_answers += sentiments.tolist()\n",
        "\n",
        "all_preds = np.array(all_preds)\n",
        "all_answers = np.array(all_answers)"
      ],
      "execution_count": 39,
      "outputs": [
        {
          "output_type": "display_data",
          "data": {
            "application/vnd.jupyter.widget-view+json": {
              "model_id": "134d2b36b6954894aae4a81e8fd009e1",
              "version_minor": 0,
              "version_major": 2
            },
            "text/plain": [
              "HBox(children=(FloatProgress(value=0.0, max=73.0), HTML(value='')))"
            ]
          },
          "metadata": {
            "tags": []
          }
        },
        {
          "output_type": "stream",
          "text": [
            "\n"
          ],
          "name": "stdout"
        }
      ]
    },
    {
      "cell_type": "code",
      "metadata": {
        "id": "OshPIdN5PKGp",
        "colab_type": "code",
        "colab": {
          "base_uri": "https://localhost:8080/",
          "height": 34
        },
        "outputId": "91b9f52d-c372-42b5-facb-fc0eb872c1e4"
      },
      "source": [
        "np.unique(all_preds, return_counts=True)"
      ],
      "execution_count": 40,
      "outputs": [
        {
          "output_type": "execute_result",
          "data": {
            "text/plain": [
              "(array([0, 1]), array([ 851, 3775]))"
            ]
          },
          "metadata": {
            "tags": []
          },
          "execution_count": 40
        }
      ]
    },
    {
      "cell_type": "code",
      "metadata": {
        "id": "OrWIIWG6P0Y-",
        "colab_type": "code",
        "colab": {
          "base_uri": "https://localhost:8080/",
          "height": 34
        },
        "outputId": "a6f84467-3c7d-46b1-ea83-1e1f87be9963"
      },
      "source": [
        "np.unique(all_answers, return_counts=True)"
      ],
      "execution_count": 41,
      "outputs": [
        {
          "output_type": "execute_result",
          "data": {
            "text/plain": [
              "(array([0, 1, 2]), array([ 939, 3600,   87]))"
            ]
          },
          "metadata": {
            "tags": []
          },
          "execution_count": 41
        }
      ]
    },
    {
      "cell_type": "code",
      "metadata": {
        "colab_type": "code",
        "id": "tyxc4D76BTaT",
        "colab": {
          "base_uri": "https://localhost:8080/",
          "height": 69
        },
        "outputId": "20585215-2930-4cf8-f011-09e7d9f01f94"
      },
      "source": [
        "accuracy = accuracy_score(all_answers, all_preds)\n",
        "f_score_macro = f1_score(all_answers, all_preds, average='macro')\n",
        "f_score_micro = f1_score(all_answers, all_preds, average='micro')\n",
        "\n",
        "print(f'Accuracy: {accuracy:.3f}')\n",
        "print(f'F1 Macro: {f_score_macro:.3f}')\n",
        "print(f'F1 Micro: {f_score_micro:.3f}')"
      ],
      "execution_count": 42,
      "outputs": [
        {
          "output_type": "stream",
          "text": [
            "Accuracy: 0.851\n",
            "F1 Macro: 0.521\n",
            "F1 Micro: 0.851\n"
          ],
          "name": "stdout"
        }
      ]
    },
    {
      "cell_type": "code",
      "metadata": {
        "id": "LjwKXY7naM91",
        "colab_type": "code",
        "colab": {
          "base_uri": "https://localhost:8080/",
          "height": 34
        },
        "outputId": "66e1461d-501b-47ec-d30e-e19182758eba"
      },
      "source": [
        "sentiment_vocab"
      ],
      "execution_count": 43,
      "outputs": [
        {
          "output_type": "execute_result",
          "data": {
            "text/plain": [
              "{'both': 2, 'negative': 0, 'neutral': 3, 'positive': 1}"
            ]
          },
          "metadata": {
            "tags": []
          },
          "execution_count": 43
        }
      ]
    },
    {
      "cell_type": "code",
      "metadata": {
        "id": "cv2Jh29rZ680",
        "colab_type": "code",
        "colab": {
          "base_uri": "https://localhost:8080/",
          "height": 69
        },
        "outputId": "9ede7b04-e980-437f-a5e1-6605d52ad419"
      },
      "source": [
        "confusion_matrix(all_answers, all_preds)"
      ],
      "execution_count": 44,
      "outputs": [
        {
          "output_type": "execute_result",
          "data": {
            "text/plain": [
              "array([[ 585,  354,    0],\n",
              "       [ 249, 3351,    0],\n",
              "       [  17,   70,    0]])"
            ]
          },
          "metadata": {
            "tags": []
          },
          "execution_count": 44
        }
      ]
    },
    {
      "cell_type": "markdown",
      "metadata": {
        "colab_type": "text",
        "id": "pQvBqqU8BTaB"
      },
      "source": [
        "Измерим качество лучшей полученной модели. Она была обучена Adam: сначала lr=1e-3 первые 20 эпох, а потом lr=1e-4 оставшиеся 5 эпох."
      ]
    },
    {
      "cell_type": "markdown",
      "metadata": {
        "colab_type": "text",
        "id": "hacTKFYNBTae"
      },
      "source": [
        "Сравним результаты различных наших моделей с тем, что дает лучшее решение SentiRuEval:\n",
        "\n",
        "* F1-Micro: $0.825$\n",
        "* F1-Macro: $0.555$.\n",
        "\n",
        "1) ElmoCNN-Russian-2\n",
        "Для борьбы с дибалансом классов модель использовала веса для лосса: `[3, 1, 10]`, что в итоге не сильно помогло ситуации. Модель совсем неправильно предсказывает both и часто путает positive и negative.\n",
        "\n",
        "Результат:\n",
        "* F1-Micro: $0.855$\n",
        "* F1-Macro: $0.520$.\n",
        "\n",
        "2) ElmoCNN-Russian-3\n",
        "Для борьбы с дибалансом классов использовался второй метод с batch random oversampling, что в итоге не помогло ситуации. Модель совсем неправильно предсказывает both и часто путает positive и negative.\n",
        "\n",
        "Результат:\n",
        "* F1-Micro: $0.851$\n",
        "* F1-Macro: $0.521$."
      ]
    },
    {
      "cell_type": "markdown",
      "metadata": {
        "id": "2upR1H2d4UtL",
        "colab_type": "text"
      },
      "source": [
        "### Выводы\n",
        "\n",
        "К сожалению, модель пока не удалось перенести с хорошим качеством. Возможные причины:\n",
        "* Плохо обрабатывается дизбаланс классов (об этом говорят результаты тестирования, где модель не угадала вообще класс both) даже когда пытались это исправить."
      ]
    }
  ]
}